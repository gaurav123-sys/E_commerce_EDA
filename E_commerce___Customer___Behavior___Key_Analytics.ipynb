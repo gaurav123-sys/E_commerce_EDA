{
  "metadata": {
    "kernelspec": {
      "language": "python",
      "display_name": "Python 3",
      "name": "python3"
    },
    "language_info": {
      "name": "python",
      "version": "3.10.14",
      "mimetype": "text/x-python",
      "codemirror_mode": {
        "name": "ipython",
        "version": 3
      },
      "pygments_lexer": "ipython3",
      "nbconvert_exporter": "python",
      "file_extension": ".py"
    },
    "kaggle": {
      "accelerator": "none",
      "dataSources": [
        {
          "sourceId": 9265317,
          "sourceType": "datasetVersion",
          "datasetId": 5606743
        }
      ],
      "dockerImageVersionId": 30761,
      "isInternetEnabled": true,
      "language": "python",
      "sourceType": "notebook",
      "isGpuEnabled": false
    },
    "colab": {
      "name": "E-commerce | Customer | Behavior | Key Analytics",
      "provenance": []
    }
  },
  "nbformat_minor": 0,
  "nbformat": 4,
  "cells": [
    {
      "source": [],
      "metadata": {
        "id": "ySiVnA1Ziy1u"
      },
      "cell_type": "code",
      "outputs": [],
      "execution_count": 1
    },
    {
      "cell_type": "markdown",
      "source": [
        "# **1. Data Collection**"
      ],
      "metadata": {
        "id": "-ReUxPMTiy11"
      }
    },
    {
      "cell_type": "markdown",
      "source": [
        "**1.1- Importing File formats**"
      ],
      "metadata": {
        "id": "-XkLths1iy14"
      }
    },
    {
      "cell_type": "code",
      "source": [
        "import pandas as pd\n",
        "\n",
        "# Importing CSV file\n",
        "df = pd.read_csv('/content/E-commerce.csv')"
      ],
      "metadata": {
        "execution": {
          "iopub.status.busy": "2024-09-19T09:53:51.862332Z",
          "iopub.execute_input": "2024-09-19T09:53:51.86316Z",
          "iopub.status.idle": "2024-09-19T09:53:52.361749Z",
          "shell.execute_reply.started": "2024-09-19T09:53:51.863108Z",
          "shell.execute_reply": "2024-09-19T09:53:52.360105Z"
        },
        "trusted": true,
        "id": "NR2ryCAqiy15"
      },
      "execution_count": 2,
      "outputs": []
    },
    {
      "cell_type": "markdown",
      "source": [
        "**1.21- Checking Data Types:**"
      ],
      "metadata": {
        "id": "SBKkbdOpiy16"
      }
    },
    {
      "cell_type": "code",
      "source": [
        "data_types = df.dtypes\n",
        "print(data_types)"
      ],
      "metadata": {
        "execution": {
          "iopub.status.busy": "2024-09-19T09:53:54.321441Z",
          "iopub.execute_input": "2024-09-19T09:53:54.322011Z",
          "iopub.status.idle": "2024-09-19T09:53:54.332965Z",
          "shell.execute_reply.started": "2024-09-19T09:53:54.321952Z",
          "shell.execute_reply": "2024-09-19T09:53:54.330972Z"
        },
        "trusted": true,
        "id": "3gLLk1Fsiy16",
        "outputId": "616121a7-8eb7-4758-a237-e174d13bd336",
        "colab": {
          "base_uri": "https://localhost:8080/"
        }
      },
      "execution_count": 3,
      "outputs": [
        {
          "output_type": "stream",
          "name": "stdout",
          "text": [
            "Customer ID           int64\n",
            "Age                   int64\n",
            "Gender               object\n",
            "Location             object\n",
            "Annual Income         int64\n",
            "Purchase History     object\n",
            "Browsing History     object\n",
            "Product Reviews      object\n",
            "Time on Site        float64\n",
            "dtype: object\n"
          ]
        }
      ]
    },
    {
      "cell_type": "markdown",
      "source": [
        "**1.22- Checking Duplicates:**"
      ],
      "metadata": {
        "id": "pkQI53soiy17"
      }
    },
    {
      "cell_type": "code",
      "source": [
        "duplicates = df.duplicated().sum()\n",
        "print(f'Duplicates: {duplicates}')"
      ],
      "metadata": {
        "execution": {
          "iopub.status.busy": "2024-09-19T09:53:54.760208Z",
          "iopub.execute_input": "2024-09-19T09:53:54.760695Z",
          "iopub.status.idle": "2024-09-19T09:53:54.781221Z",
          "shell.execute_reply.started": "2024-09-19T09:53:54.760651Z",
          "shell.execute_reply": "2024-09-19T09:53:54.77928Z"
        },
        "trusted": true,
        "id": "KYe3X1Idiy19",
        "outputId": "2d7c179d-5b09-49b2-a7e7-c1fbb2cb149a",
        "colab": {
          "base_uri": "https://localhost:8080/"
        }
      },
      "execution_count": 4,
      "outputs": [
        {
          "output_type": "stream",
          "name": "stdout",
          "text": [
            "Duplicates: 0\n"
          ]
        }
      ]
    },
    {
      "cell_type": "markdown",
      "source": [
        "# **2. Data Exploration**"
      ],
      "metadata": {
        "id": "WzrKoVMGiy1-"
      }
    },
    {
      "cell_type": "markdown",
      "source": [
        "**2.1- Understanding the Structure**"
      ],
      "metadata": {
        "id": "iEB6kJ1qiy1_"
      }
    },
    {
      "cell_type": "markdown",
      "source": [
        "**2.11- View the First Few Rows:**"
      ],
      "metadata": {
        "id": "OLSJ2OVsiy2A"
      }
    },
    {
      "cell_type": "code",
      "source": [
        "df.head()"
      ],
      "metadata": {
        "execution": {
          "iopub.status.busy": "2024-09-19T09:53:55.384112Z",
          "iopub.execute_input": "2024-09-19T09:53:55.384607Z",
          "iopub.status.idle": "2024-09-19T09:53:55.410727Z",
          "shell.execute_reply.started": "2024-09-19T09:53:55.384562Z",
          "shell.execute_reply": "2024-09-19T09:53:55.409256Z"
        },
        "trusted": true,
        "id": "A9RdFd1Hiy2A",
        "outputId": "9d5258ac-334b-474d-ce93-21faac0eaf5d",
        "colab": {
          "base_uri": "https://localhost:8080/",
          "height": 310
        }
      },
      "execution_count": 5,
      "outputs": [
        {
          "output_type": "execute_result",
          "data": {
            "text/plain": [
              "   Customer ID  Age  Gender Location  Annual Income  \\\n",
              "0         1001   25  Female   City D          45000   \n",
              "1         1001   28  Female   City D          52000   \n",
              "2         1001   28  Female   City D          65000   \n",
              "3         1001   45  Female   City D          70000   \n",
              "4         1002   34    Male   City E          45000   \n",
              "\n",
              "                                    Purchase History  \\\n",
              "0  [{\"Date\": \"2022-03-05\", \"Category\": \"Clothing\"...   \n",
              "1  [{\"Product Category\": \"Clothing\", \"Purchase Da...   \n",
              "2  [{\"Product Category\": \"Electronics\", \"Purchase...   \n",
              "3  {'Purchase Date': '2022-08-15', 'Product Categ...   \n",
              "4  {'Purchase Date': '2022-07-25', 'Product Categ...   \n",
              "\n",
              "                                    Browsing History  \\\n",
              "0  [{\"Timestamp\": \"2022-03-10T14:30:00Z\"}, {\"Time...   \n",
              "1  [{\"Product Category\": \"Home & Garden\", \"Timest...   \n",
              "2  [{\"Product Category\": \"Clothing\", \"Timestamp\":...   \n",
              "3               {'Timestamp': '2022-09-03 14:30:00'}   \n",
              "4               {'Timestamp': '2022-08-10 17:15:00'}   \n",
              "\n",
              "                                     Product Reviews  Time on Site  \n",
              "0  Great pair of jeans, very comfortable. Rating:...         32.50  \n",
              "1                            Great customer service!        123.45  \n",
              "2  Great electronics. The sound quality is excell...        125.60  \n",
              "3  {\"Product 1\": {\"Rating\": 4, \"Review\": \"Great e...        327.60  \n",
              "4  {\"Product 1\": {\"Rating\": 3, \"Review\": \"Good pr...        214.90  "
            ],
            "text/html": [
              "\n",
              "  <div id=\"df-2b3e21cb-b371-4369-bcf6-0082916dc3e0\" class=\"colab-df-container\">\n",
              "    <div>\n",
              "<style scoped>\n",
              "    .dataframe tbody tr th:only-of-type {\n",
              "        vertical-align: middle;\n",
              "    }\n",
              "\n",
              "    .dataframe tbody tr th {\n",
              "        vertical-align: top;\n",
              "    }\n",
              "\n",
              "    .dataframe thead th {\n",
              "        text-align: right;\n",
              "    }\n",
              "</style>\n",
              "<table border=\"1\" class=\"dataframe\">\n",
              "  <thead>\n",
              "    <tr style=\"text-align: right;\">\n",
              "      <th></th>\n",
              "      <th>Customer ID</th>\n",
              "      <th>Age</th>\n",
              "      <th>Gender</th>\n",
              "      <th>Location</th>\n",
              "      <th>Annual Income</th>\n",
              "      <th>Purchase History</th>\n",
              "      <th>Browsing History</th>\n",
              "      <th>Product Reviews</th>\n",
              "      <th>Time on Site</th>\n",
              "    </tr>\n",
              "  </thead>\n",
              "  <tbody>\n",
              "    <tr>\n",
              "      <th>0</th>\n",
              "      <td>1001</td>\n",
              "      <td>25</td>\n",
              "      <td>Female</td>\n",
              "      <td>City D</td>\n",
              "      <td>45000</td>\n",
              "      <td>[{\"Date\": \"2022-03-05\", \"Category\": \"Clothing\"...</td>\n",
              "      <td>[{\"Timestamp\": \"2022-03-10T14:30:00Z\"}, {\"Time...</td>\n",
              "      <td>Great pair of jeans, very comfortable. Rating:...</td>\n",
              "      <td>32.50</td>\n",
              "    </tr>\n",
              "    <tr>\n",
              "      <th>1</th>\n",
              "      <td>1001</td>\n",
              "      <td>28</td>\n",
              "      <td>Female</td>\n",
              "      <td>City D</td>\n",
              "      <td>52000</td>\n",
              "      <td>[{\"Product Category\": \"Clothing\", \"Purchase Da...</td>\n",
              "      <td>[{\"Product Category\": \"Home &amp; Garden\", \"Timest...</td>\n",
              "      <td>Great customer service!</td>\n",
              "      <td>123.45</td>\n",
              "    </tr>\n",
              "    <tr>\n",
              "      <th>2</th>\n",
              "      <td>1001</td>\n",
              "      <td>28</td>\n",
              "      <td>Female</td>\n",
              "      <td>City D</td>\n",
              "      <td>65000</td>\n",
              "      <td>[{\"Product Category\": \"Electronics\", \"Purchase...</td>\n",
              "      <td>[{\"Product Category\": \"Clothing\", \"Timestamp\":...</td>\n",
              "      <td>Great electronics. The sound quality is excell...</td>\n",
              "      <td>125.60</td>\n",
              "    </tr>\n",
              "    <tr>\n",
              "      <th>3</th>\n",
              "      <td>1001</td>\n",
              "      <td>45</td>\n",
              "      <td>Female</td>\n",
              "      <td>City D</td>\n",
              "      <td>70000</td>\n",
              "      <td>{'Purchase Date': '2022-08-15', 'Product Categ...</td>\n",
              "      <td>{'Timestamp': '2022-09-03 14:30:00'}</td>\n",
              "      <td>{\"Product 1\": {\"Rating\": 4, \"Review\": \"Great e...</td>\n",
              "      <td>327.60</td>\n",
              "    </tr>\n",
              "    <tr>\n",
              "      <th>4</th>\n",
              "      <td>1002</td>\n",
              "      <td>34</td>\n",
              "      <td>Male</td>\n",
              "      <td>City E</td>\n",
              "      <td>45000</td>\n",
              "      <td>{'Purchase Date': '2022-07-25', 'Product Categ...</td>\n",
              "      <td>{'Timestamp': '2022-08-10 17:15:00'}</td>\n",
              "      <td>{\"Product 1\": {\"Rating\": 3, \"Review\": \"Good pr...</td>\n",
              "      <td>214.90</td>\n",
              "    </tr>\n",
              "  </tbody>\n",
              "</table>\n",
              "</div>\n",
              "    <div class=\"colab-df-buttons\">\n",
              "\n",
              "  <div class=\"colab-df-container\">\n",
              "    <button class=\"colab-df-convert\" onclick=\"convertToInteractive('df-2b3e21cb-b371-4369-bcf6-0082916dc3e0')\"\n",
              "            title=\"Convert this dataframe to an interactive table.\"\n",
              "            style=\"display:none;\">\n",
              "\n",
              "  <svg xmlns=\"http://www.w3.org/2000/svg\" height=\"24px\" viewBox=\"0 -960 960 960\">\n",
              "    <path d=\"M120-120v-720h720v720H120Zm60-500h600v-160H180v160Zm220 220h160v-160H400v160Zm0 220h160v-160H400v160ZM180-400h160v-160H180v160Zm440 0h160v-160H620v160ZM180-180h160v-160H180v160Zm440 0h160v-160H620v160Z\"/>\n",
              "  </svg>\n",
              "    </button>\n",
              "\n",
              "  <style>\n",
              "    .colab-df-container {\n",
              "      display:flex;\n",
              "      gap: 12px;\n",
              "    }\n",
              "\n",
              "    .colab-df-convert {\n",
              "      background-color: #E8F0FE;\n",
              "      border: none;\n",
              "      border-radius: 50%;\n",
              "      cursor: pointer;\n",
              "      display: none;\n",
              "      fill: #1967D2;\n",
              "      height: 32px;\n",
              "      padding: 0 0 0 0;\n",
              "      width: 32px;\n",
              "    }\n",
              "\n",
              "    .colab-df-convert:hover {\n",
              "      background-color: #E2EBFA;\n",
              "      box-shadow: 0px 1px 2px rgba(60, 64, 67, 0.3), 0px 1px 3px 1px rgba(60, 64, 67, 0.15);\n",
              "      fill: #174EA6;\n",
              "    }\n",
              "\n",
              "    .colab-df-buttons div {\n",
              "      margin-bottom: 4px;\n",
              "    }\n",
              "\n",
              "    [theme=dark] .colab-df-convert {\n",
              "      background-color: #3B4455;\n",
              "      fill: #D2E3FC;\n",
              "    }\n",
              "\n",
              "    [theme=dark] .colab-df-convert:hover {\n",
              "      background-color: #434B5C;\n",
              "      box-shadow: 0px 1px 3px 1px rgba(0, 0, 0, 0.15);\n",
              "      filter: drop-shadow(0px 1px 2px rgba(0, 0, 0, 0.3));\n",
              "      fill: #FFFFFF;\n",
              "    }\n",
              "  </style>\n",
              "\n",
              "    <script>\n",
              "      const buttonEl =\n",
              "        document.querySelector('#df-2b3e21cb-b371-4369-bcf6-0082916dc3e0 button.colab-df-convert');\n",
              "      buttonEl.style.display =\n",
              "        google.colab.kernel.accessAllowed ? 'block' : 'none';\n",
              "\n",
              "      async function convertToInteractive(key) {\n",
              "        const element = document.querySelector('#df-2b3e21cb-b371-4369-bcf6-0082916dc3e0');\n",
              "        const dataTable =\n",
              "          await google.colab.kernel.invokeFunction('convertToInteractive',\n",
              "                                                    [key], {});\n",
              "        if (!dataTable) return;\n",
              "\n",
              "        const docLinkHtml = 'Like what you see? Visit the ' +\n",
              "          '<a target=\"_blank\" href=https://colab.research.google.com/notebooks/data_table.ipynb>data table notebook</a>'\n",
              "          + ' to learn more about interactive tables.';\n",
              "        element.innerHTML = '';\n",
              "        dataTable['output_type'] = 'display_data';\n",
              "        await google.colab.output.renderOutput(dataTable, element);\n",
              "        const docLink = document.createElement('div');\n",
              "        docLink.innerHTML = docLinkHtml;\n",
              "        element.appendChild(docLink);\n",
              "      }\n",
              "    </script>\n",
              "  </div>\n",
              "\n",
              "\n",
              "<div id=\"df-cfa55484-f71f-4b60-b9ad-61145e8b1f1d\">\n",
              "  <button class=\"colab-df-quickchart\" onclick=\"quickchart('df-cfa55484-f71f-4b60-b9ad-61145e8b1f1d')\"\n",
              "            title=\"Suggest charts\"\n",
              "            style=\"display:none;\">\n",
              "\n",
              "<svg xmlns=\"http://www.w3.org/2000/svg\" height=\"24px\"viewBox=\"0 0 24 24\"\n",
              "     width=\"24px\">\n",
              "    <g>\n",
              "        <path d=\"M19 3H5c-1.1 0-2 .9-2 2v14c0 1.1.9 2 2 2h14c1.1 0 2-.9 2-2V5c0-1.1-.9-2-2-2zM9 17H7v-7h2v7zm4 0h-2V7h2v10zm4 0h-2v-4h2v4z\"/>\n",
              "    </g>\n",
              "</svg>\n",
              "  </button>\n",
              "\n",
              "<style>\n",
              "  .colab-df-quickchart {\n",
              "      --bg-color: #E8F0FE;\n",
              "      --fill-color: #1967D2;\n",
              "      --hover-bg-color: #E2EBFA;\n",
              "      --hover-fill-color: #174EA6;\n",
              "      --disabled-fill-color: #AAA;\n",
              "      --disabled-bg-color: #DDD;\n",
              "  }\n",
              "\n",
              "  [theme=dark] .colab-df-quickchart {\n",
              "      --bg-color: #3B4455;\n",
              "      --fill-color: #D2E3FC;\n",
              "      --hover-bg-color: #434B5C;\n",
              "      --hover-fill-color: #FFFFFF;\n",
              "      --disabled-bg-color: #3B4455;\n",
              "      --disabled-fill-color: #666;\n",
              "  }\n",
              "\n",
              "  .colab-df-quickchart {\n",
              "    background-color: var(--bg-color);\n",
              "    border: none;\n",
              "    border-radius: 50%;\n",
              "    cursor: pointer;\n",
              "    display: none;\n",
              "    fill: var(--fill-color);\n",
              "    height: 32px;\n",
              "    padding: 0;\n",
              "    width: 32px;\n",
              "  }\n",
              "\n",
              "  .colab-df-quickchart:hover {\n",
              "    background-color: var(--hover-bg-color);\n",
              "    box-shadow: 0 1px 2px rgba(60, 64, 67, 0.3), 0 1px 3px 1px rgba(60, 64, 67, 0.15);\n",
              "    fill: var(--button-hover-fill-color);\n",
              "  }\n",
              "\n",
              "  .colab-df-quickchart-complete:disabled,\n",
              "  .colab-df-quickchart-complete:disabled:hover {\n",
              "    background-color: var(--disabled-bg-color);\n",
              "    fill: var(--disabled-fill-color);\n",
              "    box-shadow: none;\n",
              "  }\n",
              "\n",
              "  .colab-df-spinner {\n",
              "    border: 2px solid var(--fill-color);\n",
              "    border-color: transparent;\n",
              "    border-bottom-color: var(--fill-color);\n",
              "    animation:\n",
              "      spin 1s steps(1) infinite;\n",
              "  }\n",
              "\n",
              "  @keyframes spin {\n",
              "    0% {\n",
              "      border-color: transparent;\n",
              "      border-bottom-color: var(--fill-color);\n",
              "      border-left-color: var(--fill-color);\n",
              "    }\n",
              "    20% {\n",
              "      border-color: transparent;\n",
              "      border-left-color: var(--fill-color);\n",
              "      border-top-color: var(--fill-color);\n",
              "    }\n",
              "    30% {\n",
              "      border-color: transparent;\n",
              "      border-left-color: var(--fill-color);\n",
              "      border-top-color: var(--fill-color);\n",
              "      border-right-color: var(--fill-color);\n",
              "    }\n",
              "    40% {\n",
              "      border-color: transparent;\n",
              "      border-right-color: var(--fill-color);\n",
              "      border-top-color: var(--fill-color);\n",
              "    }\n",
              "    60% {\n",
              "      border-color: transparent;\n",
              "      border-right-color: var(--fill-color);\n",
              "    }\n",
              "    80% {\n",
              "      border-color: transparent;\n",
              "      border-right-color: var(--fill-color);\n",
              "      border-bottom-color: var(--fill-color);\n",
              "    }\n",
              "    90% {\n",
              "      border-color: transparent;\n",
              "      border-bottom-color: var(--fill-color);\n",
              "    }\n",
              "  }\n",
              "</style>\n",
              "\n",
              "  <script>\n",
              "    async function quickchart(key) {\n",
              "      const quickchartButtonEl =\n",
              "        document.querySelector('#' + key + ' button');\n",
              "      quickchartButtonEl.disabled = true;  // To prevent multiple clicks.\n",
              "      quickchartButtonEl.classList.add('colab-df-spinner');\n",
              "      try {\n",
              "        const charts = await google.colab.kernel.invokeFunction(\n",
              "            'suggestCharts', [key], {});\n",
              "      } catch (error) {\n",
              "        console.error('Error during call to suggestCharts:', error);\n",
              "      }\n",
              "      quickchartButtonEl.classList.remove('colab-df-spinner');\n",
              "      quickchartButtonEl.classList.add('colab-df-quickchart-complete');\n",
              "    }\n",
              "    (() => {\n",
              "      let quickchartButtonEl =\n",
              "        document.querySelector('#df-cfa55484-f71f-4b60-b9ad-61145e8b1f1d button');\n",
              "      quickchartButtonEl.style.display =\n",
              "        google.colab.kernel.accessAllowed ? 'block' : 'none';\n",
              "    })();\n",
              "  </script>\n",
              "</div>\n",
              "\n",
              "    </div>\n",
              "  </div>\n"
            ],
            "application/vnd.google.colaboratory.intrinsic+json": {
              "type": "dataframe",
              "variable_name": "df",
              "summary": "{\n  \"name\": \"df\",\n  \"rows\": 50,\n  \"fields\": [\n    {\n      \"column\": \"Customer ID\",\n      \"properties\": {\n        \"dtype\": \"number\",\n        \"std\": 3,\n        \"min\": 1001,\n        \"max\": 1013,\n        \"num_unique_values\": 13,\n        \"samples\": [\n          1012,\n          1010,\n          1001\n        ],\n        \"semantic_type\": \"\",\n        \"description\": \"\"\n      }\n    },\n    {\n      \"column\": \"Age\",\n      \"properties\": {\n        \"dtype\": \"number\",\n        \"std\": 11,\n        \"min\": 24,\n        \"max\": 65,\n        \"num_unique_values\": 22,\n        \"samples\": [\n          25,\n          38,\n          36\n        ],\n        \"semantic_type\": \"\",\n        \"description\": \"\"\n      }\n    },\n    {\n      \"column\": \"Gender\",\n      \"properties\": {\n        \"dtype\": \"category\",\n        \"num_unique_values\": 3,\n        \"samples\": [\n          \"Female\",\n          \"Male\",\n          \"Other\"\n        ],\n        \"semantic_type\": \"\",\n        \"description\": \"\"\n      }\n    },\n    {\n      \"column\": \"Location\",\n      \"properties\": {\n        \"dtype\": \"category\",\n        \"num_unique_values\": 16,\n        \"samples\": [\n          \"City D\",\n          \"City E\",\n          \"City I\"\n        ],\n        \"semantic_type\": \"\",\n        \"description\": \"\"\n      }\n    },\n    {\n      \"column\": \"Annual Income\",\n      \"properties\": {\n        \"dtype\": \"number\",\n        \"std\": 17059,\n        \"min\": 40000,\n        \"max\": 100000,\n        \"num_unique_values\": 17,\n        \"samples\": [\n          45000,\n          52000,\n          60000\n        ],\n        \"semantic_type\": \"\",\n        \"description\": \"\"\n      }\n    },\n    {\n      \"column\": \"Purchase History\",\n      \"properties\": {\n        \"dtype\": \"string\",\n        \"num_unique_values\": 50,\n        \"samples\": [\n          \"{'Purchase Date': '2022-02-15', 'Product Category': 'Electronics', 'Price': 250},{'Purchase Date': '2022-05-10', 'Product Category': 'Clothing', 'Price': 34.99}\",\n          \"[{\\\"Product Category\\\": \\\"Electronics\\\", \\\"Purchase Date\\\": \\\"2022-03-15\\\", \\\"Price\\\": 250.5}, {\\\"Product Category\\\": \\\"Clothing\\\", \\\"Purchase Date\\\": \\\"2022-02-01\\\", \\\"Price\\\": 125.8}]\",\n          \"{'Purchase Date': '2022-05-23', 'Product Category': 'Electronics', 'Price': 400},{'Purchase Date': '2022-06-03', 'Product Category': 'Home & Garden', 'Price': 200}\"\n        ],\n        \"semantic_type\": \"\",\n        \"description\": \"\"\n      }\n    },\n    {\n      \"column\": \"Browsing History\",\n      \"properties\": {\n        \"dtype\": \"string\",\n        \"num_unique_values\": 50,\n        \"samples\": [\n          \"{'Timestamp': '2022-05-12 16:15:00'}\",\n          \"[{\\\"Product Category\\\": \\\"Home & Garden\\\", \\\"Timestamp\\\": \\\"2022-04-03T15:30:00Z\\\"}, {\\\"Product Category\\\": \\\"Electronics\\\", \\\"Timestamp\\\": \\\"2022-03-28T08:45:00Z\\\"}]\",\n          \"{'Timestamp': '2022-06-06T08:00:00Z'}\"\n        ],\n        \"semantic_type\": \"\",\n        \"description\": \"\"\n      }\n    },\n    {\n      \"column\": \"Product Reviews\",\n      \"properties\": {\n        \"dtype\": \"string\",\n        \"num_unique_values\": 47,\n        \"samples\": [\n          \"The phone is fantastic. 5 stars!\",\n          \"Great purchase! The shoes are so comfortable and stylish. I've received several compliments.\",\n          \"The top is nice, but the size is a bit small. 3.5 stars.\"\n        ],\n        \"semantic_type\": \"\",\n        \"description\": \"\"\n      }\n    },\n    {\n      \"column\": \"Time on Site\",\n      \"properties\": {\n        \"dtype\": \"number\",\n        \"std\": 109.66973630972629,\n        \"min\": 32.5,\n        \"max\": 486.3,\n        \"num_unique_values\": 32,\n        \"samples\": [\n          246.9,\n          150.0,\n          350.0\n        ],\n        \"semantic_type\": \"\",\n        \"description\": \"\"\n      }\n    }\n  ]\n}"
            }
          },
          "metadata": {},
          "execution_count": 5
        }
      ]
    },
    {
      "cell_type": "markdown",
      "source": [
        "**2.12- View DataFrame Information:**"
      ],
      "metadata": {
        "id": "GhGALRyTiy2B"
      }
    },
    {
      "cell_type": "code",
      "source": [
        "df.info()"
      ],
      "metadata": {
        "execution": {
          "iopub.status.busy": "2024-09-19T09:53:55.470884Z",
          "iopub.execute_input": "2024-09-19T09:53:55.471512Z",
          "iopub.status.idle": "2024-09-19T09:53:55.498423Z",
          "shell.execute_reply.started": "2024-09-19T09:53:55.471439Z",
          "shell.execute_reply": "2024-09-19T09:53:55.496807Z"
        },
        "trusted": true,
        "id": "g-tptH5xiy2C",
        "outputId": "ff16ea90-313a-41b1-801b-fa87b4785417",
        "colab": {
          "base_uri": "https://localhost:8080/"
        }
      },
      "execution_count": 6,
      "outputs": [
        {
          "output_type": "stream",
          "name": "stdout",
          "text": [
            "<class 'pandas.core.frame.DataFrame'>\n",
            "RangeIndex: 50 entries, 0 to 49\n",
            "Data columns (total 9 columns):\n",
            " #   Column            Non-Null Count  Dtype  \n",
            "---  ------            --------------  -----  \n",
            " 0   Customer ID       50 non-null     int64  \n",
            " 1   Age               50 non-null     int64  \n",
            " 2   Gender            50 non-null     object \n",
            " 3   Location          50 non-null     object \n",
            " 4   Annual Income     50 non-null     int64  \n",
            " 5   Purchase History  50 non-null     object \n",
            " 6   Browsing History  50 non-null     object \n",
            " 7   Product Reviews   50 non-null     object \n",
            " 8   Time on Site      50 non-null     float64\n",
            "dtypes: float64(1), int64(3), object(5)\n",
            "memory usage: 3.6+ KB\n"
          ]
        }
      ]
    },
    {
      "cell_type": "markdown",
      "source": [
        "**2.13- Summary Statistics:**"
      ],
      "metadata": {
        "id": "ZR_mc2hiiy2C"
      }
    },
    {
      "cell_type": "code",
      "source": [
        "df.describe()"
      ],
      "metadata": {
        "execution": {
          "iopub.status.busy": "2024-09-19T09:53:55.848707Z",
          "iopub.execute_input": "2024-09-19T09:53:55.850288Z",
          "iopub.status.idle": "2024-09-19T09:53:55.881971Z",
          "shell.execute_reply.started": "2024-09-19T09:53:55.850155Z",
          "shell.execute_reply": "2024-09-19T09:53:55.880652Z"
        },
        "trusted": true,
        "id": "GIMGvLJtiy2C",
        "outputId": "35e52f28-724a-43e2-d703-d3407d2701d0",
        "colab": {
          "base_uri": "https://localhost:8080/",
          "height": 300
        }
      },
      "execution_count": 7,
      "outputs": [
        {
          "output_type": "execute_result",
          "data": {
            "text/plain": [
              "       Customer ID        Age  Annual Income  Time on Site\n",
              "count    50.000000  50.000000      50.000000     50.000000\n",
              "mean   1004.880000  39.960000   65780.000000    232.597000\n",
              "std       3.623281  11.067437   17059.667198    109.669736\n",
              "min    1001.000000  24.000000   40000.000000     32.500000\n",
              "25%    1002.000000  30.250000   50500.000000    124.100000\n",
              "50%    1004.000000  37.000000   65000.000000    243.450000\n",
              "75%    1007.750000  48.000000   80000.000000    300.000000\n",
              "max    1013.000000  65.000000  100000.000000    486.300000"
            ],
            "text/html": [
              "\n",
              "  <div id=\"df-1e64a534-7861-40b1-a741-70c23f24df07\" class=\"colab-df-container\">\n",
              "    <div>\n",
              "<style scoped>\n",
              "    .dataframe tbody tr th:only-of-type {\n",
              "        vertical-align: middle;\n",
              "    }\n",
              "\n",
              "    .dataframe tbody tr th {\n",
              "        vertical-align: top;\n",
              "    }\n",
              "\n",
              "    .dataframe thead th {\n",
              "        text-align: right;\n",
              "    }\n",
              "</style>\n",
              "<table border=\"1\" class=\"dataframe\">\n",
              "  <thead>\n",
              "    <tr style=\"text-align: right;\">\n",
              "      <th></th>\n",
              "      <th>Customer ID</th>\n",
              "      <th>Age</th>\n",
              "      <th>Annual Income</th>\n",
              "      <th>Time on Site</th>\n",
              "    </tr>\n",
              "  </thead>\n",
              "  <tbody>\n",
              "    <tr>\n",
              "      <th>count</th>\n",
              "      <td>50.000000</td>\n",
              "      <td>50.000000</td>\n",
              "      <td>50.000000</td>\n",
              "      <td>50.000000</td>\n",
              "    </tr>\n",
              "    <tr>\n",
              "      <th>mean</th>\n",
              "      <td>1004.880000</td>\n",
              "      <td>39.960000</td>\n",
              "      <td>65780.000000</td>\n",
              "      <td>232.597000</td>\n",
              "    </tr>\n",
              "    <tr>\n",
              "      <th>std</th>\n",
              "      <td>3.623281</td>\n",
              "      <td>11.067437</td>\n",
              "      <td>17059.667198</td>\n",
              "      <td>109.669736</td>\n",
              "    </tr>\n",
              "    <tr>\n",
              "      <th>min</th>\n",
              "      <td>1001.000000</td>\n",
              "      <td>24.000000</td>\n",
              "      <td>40000.000000</td>\n",
              "      <td>32.500000</td>\n",
              "    </tr>\n",
              "    <tr>\n",
              "      <th>25%</th>\n",
              "      <td>1002.000000</td>\n",
              "      <td>30.250000</td>\n",
              "      <td>50500.000000</td>\n",
              "      <td>124.100000</td>\n",
              "    </tr>\n",
              "    <tr>\n",
              "      <th>50%</th>\n",
              "      <td>1004.000000</td>\n",
              "      <td>37.000000</td>\n",
              "      <td>65000.000000</td>\n",
              "      <td>243.450000</td>\n",
              "    </tr>\n",
              "    <tr>\n",
              "      <th>75%</th>\n",
              "      <td>1007.750000</td>\n",
              "      <td>48.000000</td>\n",
              "      <td>80000.000000</td>\n",
              "      <td>300.000000</td>\n",
              "    </tr>\n",
              "    <tr>\n",
              "      <th>max</th>\n",
              "      <td>1013.000000</td>\n",
              "      <td>65.000000</td>\n",
              "      <td>100000.000000</td>\n",
              "      <td>486.300000</td>\n",
              "    </tr>\n",
              "  </tbody>\n",
              "</table>\n",
              "</div>\n",
              "    <div class=\"colab-df-buttons\">\n",
              "\n",
              "  <div class=\"colab-df-container\">\n",
              "    <button class=\"colab-df-convert\" onclick=\"convertToInteractive('df-1e64a534-7861-40b1-a741-70c23f24df07')\"\n",
              "            title=\"Convert this dataframe to an interactive table.\"\n",
              "            style=\"display:none;\">\n",
              "\n",
              "  <svg xmlns=\"http://www.w3.org/2000/svg\" height=\"24px\" viewBox=\"0 -960 960 960\">\n",
              "    <path d=\"M120-120v-720h720v720H120Zm60-500h600v-160H180v160Zm220 220h160v-160H400v160Zm0 220h160v-160H400v160ZM180-400h160v-160H180v160Zm440 0h160v-160H620v160ZM180-180h160v-160H180v160Zm440 0h160v-160H620v160Z\"/>\n",
              "  </svg>\n",
              "    </button>\n",
              "\n",
              "  <style>\n",
              "    .colab-df-container {\n",
              "      display:flex;\n",
              "      gap: 12px;\n",
              "    }\n",
              "\n",
              "    .colab-df-convert {\n",
              "      background-color: #E8F0FE;\n",
              "      border: none;\n",
              "      border-radius: 50%;\n",
              "      cursor: pointer;\n",
              "      display: none;\n",
              "      fill: #1967D2;\n",
              "      height: 32px;\n",
              "      padding: 0 0 0 0;\n",
              "      width: 32px;\n",
              "    }\n",
              "\n",
              "    .colab-df-convert:hover {\n",
              "      background-color: #E2EBFA;\n",
              "      box-shadow: 0px 1px 2px rgba(60, 64, 67, 0.3), 0px 1px 3px 1px rgba(60, 64, 67, 0.15);\n",
              "      fill: #174EA6;\n",
              "    }\n",
              "\n",
              "    .colab-df-buttons div {\n",
              "      margin-bottom: 4px;\n",
              "    }\n",
              "\n",
              "    [theme=dark] .colab-df-convert {\n",
              "      background-color: #3B4455;\n",
              "      fill: #D2E3FC;\n",
              "    }\n",
              "\n",
              "    [theme=dark] .colab-df-convert:hover {\n",
              "      background-color: #434B5C;\n",
              "      box-shadow: 0px 1px 3px 1px rgba(0, 0, 0, 0.15);\n",
              "      filter: drop-shadow(0px 1px 2px rgba(0, 0, 0, 0.3));\n",
              "      fill: #FFFFFF;\n",
              "    }\n",
              "  </style>\n",
              "\n",
              "    <script>\n",
              "      const buttonEl =\n",
              "        document.querySelector('#df-1e64a534-7861-40b1-a741-70c23f24df07 button.colab-df-convert');\n",
              "      buttonEl.style.display =\n",
              "        google.colab.kernel.accessAllowed ? 'block' : 'none';\n",
              "\n",
              "      async function convertToInteractive(key) {\n",
              "        const element = document.querySelector('#df-1e64a534-7861-40b1-a741-70c23f24df07');\n",
              "        const dataTable =\n",
              "          await google.colab.kernel.invokeFunction('convertToInteractive',\n",
              "                                                    [key], {});\n",
              "        if (!dataTable) return;\n",
              "\n",
              "        const docLinkHtml = 'Like what you see? Visit the ' +\n",
              "          '<a target=\"_blank\" href=https://colab.research.google.com/notebooks/data_table.ipynb>data table notebook</a>'\n",
              "          + ' to learn more about interactive tables.';\n",
              "        element.innerHTML = '';\n",
              "        dataTable['output_type'] = 'display_data';\n",
              "        await google.colab.output.renderOutput(dataTable, element);\n",
              "        const docLink = document.createElement('div');\n",
              "        docLink.innerHTML = docLinkHtml;\n",
              "        element.appendChild(docLink);\n",
              "      }\n",
              "    </script>\n",
              "  </div>\n",
              "\n",
              "\n",
              "<div id=\"df-d9958c74-58ac-47c1-bf07-ba51dc30d7bc\">\n",
              "  <button class=\"colab-df-quickchart\" onclick=\"quickchart('df-d9958c74-58ac-47c1-bf07-ba51dc30d7bc')\"\n",
              "            title=\"Suggest charts\"\n",
              "            style=\"display:none;\">\n",
              "\n",
              "<svg xmlns=\"http://www.w3.org/2000/svg\" height=\"24px\"viewBox=\"0 0 24 24\"\n",
              "     width=\"24px\">\n",
              "    <g>\n",
              "        <path d=\"M19 3H5c-1.1 0-2 .9-2 2v14c0 1.1.9 2 2 2h14c1.1 0 2-.9 2-2V5c0-1.1-.9-2-2-2zM9 17H7v-7h2v7zm4 0h-2V7h2v10zm4 0h-2v-4h2v4z\"/>\n",
              "    </g>\n",
              "</svg>\n",
              "  </button>\n",
              "\n",
              "<style>\n",
              "  .colab-df-quickchart {\n",
              "      --bg-color: #E8F0FE;\n",
              "      --fill-color: #1967D2;\n",
              "      --hover-bg-color: #E2EBFA;\n",
              "      --hover-fill-color: #174EA6;\n",
              "      --disabled-fill-color: #AAA;\n",
              "      --disabled-bg-color: #DDD;\n",
              "  }\n",
              "\n",
              "  [theme=dark] .colab-df-quickchart {\n",
              "      --bg-color: #3B4455;\n",
              "      --fill-color: #D2E3FC;\n",
              "      --hover-bg-color: #434B5C;\n",
              "      --hover-fill-color: #FFFFFF;\n",
              "      --disabled-bg-color: #3B4455;\n",
              "      --disabled-fill-color: #666;\n",
              "  }\n",
              "\n",
              "  .colab-df-quickchart {\n",
              "    background-color: var(--bg-color);\n",
              "    border: none;\n",
              "    border-radius: 50%;\n",
              "    cursor: pointer;\n",
              "    display: none;\n",
              "    fill: var(--fill-color);\n",
              "    height: 32px;\n",
              "    padding: 0;\n",
              "    width: 32px;\n",
              "  }\n",
              "\n",
              "  .colab-df-quickchart:hover {\n",
              "    background-color: var(--hover-bg-color);\n",
              "    box-shadow: 0 1px 2px rgba(60, 64, 67, 0.3), 0 1px 3px 1px rgba(60, 64, 67, 0.15);\n",
              "    fill: var(--button-hover-fill-color);\n",
              "  }\n",
              "\n",
              "  .colab-df-quickchart-complete:disabled,\n",
              "  .colab-df-quickchart-complete:disabled:hover {\n",
              "    background-color: var(--disabled-bg-color);\n",
              "    fill: var(--disabled-fill-color);\n",
              "    box-shadow: none;\n",
              "  }\n",
              "\n",
              "  .colab-df-spinner {\n",
              "    border: 2px solid var(--fill-color);\n",
              "    border-color: transparent;\n",
              "    border-bottom-color: var(--fill-color);\n",
              "    animation:\n",
              "      spin 1s steps(1) infinite;\n",
              "  }\n",
              "\n",
              "  @keyframes spin {\n",
              "    0% {\n",
              "      border-color: transparent;\n",
              "      border-bottom-color: var(--fill-color);\n",
              "      border-left-color: var(--fill-color);\n",
              "    }\n",
              "    20% {\n",
              "      border-color: transparent;\n",
              "      border-left-color: var(--fill-color);\n",
              "      border-top-color: var(--fill-color);\n",
              "    }\n",
              "    30% {\n",
              "      border-color: transparent;\n",
              "      border-left-color: var(--fill-color);\n",
              "      border-top-color: var(--fill-color);\n",
              "      border-right-color: var(--fill-color);\n",
              "    }\n",
              "    40% {\n",
              "      border-color: transparent;\n",
              "      border-right-color: var(--fill-color);\n",
              "      border-top-color: var(--fill-color);\n",
              "    }\n",
              "    60% {\n",
              "      border-color: transparent;\n",
              "      border-right-color: var(--fill-color);\n",
              "    }\n",
              "    80% {\n",
              "      border-color: transparent;\n",
              "      border-right-color: var(--fill-color);\n",
              "      border-bottom-color: var(--fill-color);\n",
              "    }\n",
              "    90% {\n",
              "      border-color: transparent;\n",
              "      border-bottom-color: var(--fill-color);\n",
              "    }\n",
              "  }\n",
              "</style>\n",
              "\n",
              "  <script>\n",
              "    async function quickchart(key) {\n",
              "      const quickchartButtonEl =\n",
              "        document.querySelector('#' + key + ' button');\n",
              "      quickchartButtonEl.disabled = true;  // To prevent multiple clicks.\n",
              "      quickchartButtonEl.classList.add('colab-df-spinner');\n",
              "      try {\n",
              "        const charts = await google.colab.kernel.invokeFunction(\n",
              "            'suggestCharts', [key], {});\n",
              "      } catch (error) {\n",
              "        console.error('Error during call to suggestCharts:', error);\n",
              "      }\n",
              "      quickchartButtonEl.classList.remove('colab-df-spinner');\n",
              "      quickchartButtonEl.classList.add('colab-df-quickchart-complete');\n",
              "    }\n",
              "    (() => {\n",
              "      let quickchartButtonEl =\n",
              "        document.querySelector('#df-d9958c74-58ac-47c1-bf07-ba51dc30d7bc button');\n",
              "      quickchartButtonEl.style.display =\n",
              "        google.colab.kernel.accessAllowed ? 'block' : 'none';\n",
              "    })();\n",
              "  </script>\n",
              "</div>\n",
              "\n",
              "    </div>\n",
              "  </div>\n"
            ],
            "application/vnd.google.colaboratory.intrinsic+json": {
              "type": "dataframe",
              "summary": "{\n  \"name\": \"df\",\n  \"rows\": 8,\n  \"fields\": [\n    {\n      \"column\": \"Customer ID\",\n      \"properties\": {\n        \"dtype\": \"number\",\n        \"std\": 453.2008590349517,\n        \"min\": 3.6232807323344574,\n        \"max\": 1013.0,\n        \"num_unique_values\": 8,\n        \"samples\": [\n          1004.88,\n          1004.0,\n          50.0\n        ],\n        \"semantic_type\": \"\",\n        \"description\": \"\"\n      }\n    },\n    {\n      \"column\": \"Age\",\n      \"properties\": {\n        \"dtype\": \"number\",\n        \"std\": 16.729200584503946,\n        \"min\": 11.06743706850444,\n        \"max\": 65.0,\n        \"num_unique_values\": 8,\n        \"samples\": [\n          39.96,\n          37.0,\n          50.0\n        ],\n        \"semantic_type\": \"\",\n        \"description\": \"\"\n      }\n    },\n    {\n      \"column\": \"Annual Income\",\n      \"properties\": {\n        \"dtype\": \"number\",\n        \"std\": 32758.97683442236,\n        \"min\": 50.0,\n        \"max\": 100000.0,\n        \"num_unique_values\": 8,\n        \"samples\": [\n          65780.0,\n          65000.0,\n          50.0\n        ],\n        \"semantic_type\": \"\",\n        \"description\": \"\"\n      }\n    },\n    {\n      \"column\": \"Time on Site\",\n      \"properties\": {\n        \"dtype\": \"number\",\n        \"std\": 150.87251853875955,\n        \"min\": 32.5,\n        \"max\": 486.3,\n        \"num_unique_values\": 8,\n        \"samples\": [\n          232.597,\n          243.45,\n          50.0\n        ],\n        \"semantic_type\": \"\",\n        \"description\": \"\"\n      }\n    }\n  ]\n}"
            }
          },
          "metadata": {},
          "execution_count": 7
        }
      ]
    },
    {
      "cell_type": "markdown",
      "source": [
        "**2.14- View Column Names:**"
      ],
      "metadata": {
        "id": "bxNdYeXPiy2D"
      }
    },
    {
      "cell_type": "code",
      "source": [
        "df.columns"
      ],
      "metadata": {
        "execution": {
          "iopub.status.busy": "2024-09-19T09:53:55.884559Z",
          "iopub.execute_input": "2024-09-19T09:53:55.885079Z",
          "iopub.status.idle": "2024-09-19T09:53:55.894114Z",
          "shell.execute_reply.started": "2024-09-19T09:53:55.88502Z",
          "shell.execute_reply": "2024-09-19T09:53:55.892695Z"
        },
        "trusted": true,
        "id": "XIUxo4Hciy2E",
        "outputId": "f5845cb1-552c-4518-becf-c3679cc21fb5",
        "colab": {
          "base_uri": "https://localhost:8080/"
        }
      },
      "execution_count": 8,
      "outputs": [
        {
          "output_type": "execute_result",
          "data": {
            "text/plain": [
              "Index(['Customer ID', 'Age', 'Gender', 'Location', 'Annual Income',\n",
              "       'Purchase History', 'Browsing History', 'Product Reviews',\n",
              "       'Time on Site'],\n",
              "      dtype='object')"
            ]
          },
          "metadata": {},
          "execution_count": 8
        }
      ]
    },
    {
      "cell_type": "markdown",
      "source": [
        "**2.15- Shape of the Data:**"
      ],
      "metadata": {
        "id": "a_4p842Oiy2E"
      }
    },
    {
      "cell_type": "code",
      "source": [
        "df.shape"
      ],
      "metadata": {
        "execution": {
          "iopub.status.busy": "2024-09-19T09:53:55.990069Z",
          "iopub.execute_input": "2024-09-19T09:53:55.990503Z",
          "iopub.status.idle": "2024-09-19T09:53:55.997831Z",
          "shell.execute_reply.started": "2024-09-19T09:53:55.990452Z",
          "shell.execute_reply": "2024-09-19T09:53:55.996574Z"
        },
        "trusted": true,
        "id": "Ot5WNIdViy2E",
        "outputId": "66ca7e8b-e77c-4bb6-b6d5-a6bb20fd6220",
        "colab": {
          "base_uri": "https://localhost:8080/"
        }
      },
      "execution_count": 9,
      "outputs": [
        {
          "output_type": "execute_result",
          "data": {
            "text/plain": [
              "(50, 9)"
            ]
          },
          "metadata": {},
          "execution_count": 9
        }
      ]
    },
    {
      "cell_type": "markdown",
      "source": [
        "# **2.2- Missing Values**"
      ],
      "metadata": {
        "id": "r2vfkw2uiy2F"
      }
    },
    {
      "cell_type": "markdown",
      "source": [
        "**2.21- Identifying Missing Values:**"
      ],
      "metadata": {
        "id": "RC4W3eiMiy2F"
      }
    },
    {
      "cell_type": "code",
      "source": [
        "missing_values = df.isnull().sum()\n",
        "print(missing_values)"
      ],
      "metadata": {
        "execution": {
          "iopub.status.busy": "2024-09-19T09:53:56.262417Z",
          "iopub.execute_input": "2024-09-19T09:53:56.263098Z",
          "iopub.status.idle": "2024-09-19T09:53:56.27802Z",
          "shell.execute_reply.started": "2024-09-19T09:53:56.263041Z",
          "shell.execute_reply": "2024-09-19T09:53:56.276485Z"
        },
        "trusted": true,
        "id": "lNDzWJPBiy2G",
        "outputId": "76a6285e-0dce-4481-936f-900c06a62ded",
        "colab": {
          "base_uri": "https://localhost:8080/"
        }
      },
      "execution_count": 10,
      "outputs": [
        {
          "output_type": "stream",
          "name": "stdout",
          "text": [
            "Customer ID         0\n",
            "Age                 0\n",
            "Gender              0\n",
            "Location            0\n",
            "Annual Income       0\n",
            "Purchase History    0\n",
            "Browsing History    0\n",
            "Product Reviews     0\n",
            "Time on Site        0\n",
            "dtype: int64\n"
          ]
        }
      ]
    },
    {
      "cell_type": "markdown",
      "source": [
        "**2.22- Dropping Rows or Columns with Missing Values:**"
      ],
      "metadata": {
        "id": "MRMNFsumiy2G"
      }
    },
    {
      "cell_type": "code",
      "source": [
        "# Drop rows with any missing values\n",
        "df_cleaned_rows = df.dropna()\n",
        "\n",
        "# Drop columns with any missing values\n",
        "df_cleaned_columns = df.dropna(axis=1)"
      ],
      "metadata": {
        "execution": {
          "iopub.status.busy": "2024-09-19T09:53:56.459926Z",
          "iopub.execute_input": "2024-09-19T09:53:56.460397Z",
          "iopub.status.idle": "2024-09-19T09:53:56.471954Z",
          "shell.execute_reply.started": "2024-09-19T09:53:56.460353Z",
          "shell.execute_reply": "2024-09-19T09:53:56.470522Z"
        },
        "trusted": true,
        "id": "szZjD5hbiy2H"
      },
      "execution_count": 11,
      "outputs": []
    },
    {
      "cell_type": "markdown",
      "source": [
        "# **3. Data Cleaning**"
      ],
      "metadata": {
        "id": "xFOr8TQgiy2I"
      }
    },
    {
      "cell_type": "markdown",
      "source": [
        "**3.1- Identifying Outliers using Z-Score:**"
      ],
      "metadata": {
        "id": "EuF9cC6ziy2I"
      }
    },
    {
      "cell_type": "code",
      "source": [
        "from scipy import stats\n",
        "\n",
        "# Calculate Z-scores of numeric columns\n",
        "z_scores = stats.zscore(df.select_dtypes(include=['float64', 'int64']))\n",
        "\n",
        "# Identify outliers where Z-score is > 3 or < -3\n",
        "df_outliers = df[(z_scores > 3).any(axis=1) | (z_scores < -3).any(axis=1)]"
      ],
      "metadata": {
        "execution": {
          "iopub.status.busy": "2024-09-19T09:53:56.792356Z",
          "iopub.execute_input": "2024-09-19T09:53:56.79312Z",
          "iopub.status.idle": "2024-09-19T09:53:57.373681Z",
          "shell.execute_reply.started": "2024-09-19T09:53:56.793066Z",
          "shell.execute_reply": "2024-09-19T09:53:57.372384Z"
        },
        "trusted": true,
        "id": "d5WhTA5Piy2I"
      },
      "execution_count": 12,
      "outputs": []
    },
    {
      "cell_type": "markdown",
      "source": [
        "**3.2- Remove Outliers:**"
      ],
      "metadata": {
        "id": "zaFjySS6iy2J"
      }
    },
    {
      "cell_type": "code",
      "source": [
        "# Remove rows with outliers based on Z-score\n",
        "df_no_outliers = df[(z_scores < 3).all(axis=1) & (z_scores > -3).all(axis=1)]"
      ],
      "metadata": {
        "execution": {
          "iopub.status.busy": "2024-09-19T09:53:57.376143Z",
          "iopub.execute_input": "2024-09-19T09:53:57.376919Z",
          "iopub.status.idle": "2024-09-19T09:53:57.384894Z",
          "shell.execute_reply.started": "2024-09-19T09:53:57.376856Z",
          "shell.execute_reply": "2024-09-19T09:53:57.383393Z"
        },
        "trusted": true,
        "id": "WwO5d0yfiy2J"
      },
      "execution_count": 13,
      "outputs": []
    },
    {
      "cell_type": "markdown",
      "source": [
        "# **A more detailed look into Customer Behavior**"
      ],
      "metadata": {
        "id": "VvrinjwOiy2J"
      }
    },
    {
      "cell_type": "markdown",
      "source": [
        "**What is the distribution of customer age?**"
      ],
      "metadata": {
        "id": "f1InA9geiy2K"
      }
    },
    {
      "cell_type": "code",
      "source": [
        "import plotly.express as px\n",
        "\n",
        "fig = px.histogram(df_no_outliers, x='Age', nbins=20, title='Distribution of Customer Age')\n",
        "fig.show()"
      ],
      "metadata": {
        "execution": {
          "iopub.status.busy": "2024-09-19T09:53:57.386491Z",
          "iopub.execute_input": "2024-09-19T09:53:57.38699Z",
          "iopub.status.idle": "2024-09-19T09:54:00.481497Z",
          "shell.execute_reply.started": "2024-09-19T09:53:57.386933Z",
          "shell.execute_reply": "2024-09-19T09:54:00.480271Z"
        },
        "trusted": true,
        "id": "glXvSkHyiy2L",
        "outputId": "fa4fe8ac-1a98-4a4b-cdd1-8d88f88c3506",
        "colab": {
          "base_uri": "https://localhost:8080/",
          "height": 542
        }
      },
      "execution_count": 14,
      "outputs": [
        {
          "output_type": "display_data",
          "data": {
            "text/html": [
              "<html>\n",
              "<head><meta charset=\"utf-8\" /></head>\n",
              "<body>\n",
              "    <div>            <script src=\"https://cdnjs.cloudflare.com/ajax/libs/mathjax/2.7.5/MathJax.js?config=TeX-AMS-MML_SVG\"></script><script type=\"text/javascript\">if (window.MathJax && window.MathJax.Hub && window.MathJax.Hub.Config) {window.MathJax.Hub.Config({SVG: {font: \"STIX-Web\"}});}</script>                <script type=\"text/javascript\">window.PlotlyConfig = {MathJaxConfig: 'local'};</script>\n",
              "        <script charset=\"utf-8\" src=\"https://cdn.plot.ly/plotly-2.35.2.min.js\"></script>                <div id=\"ca1f023c-4dd5-4797-ab51-d1718ebeb676\" class=\"plotly-graph-div\" style=\"height:525px; width:100%;\"></div>            <script type=\"text/javascript\">                                    window.PLOTLYENV=window.PLOTLYENV || {};                                    if (document.getElementById(\"ca1f023c-4dd5-4797-ab51-d1718ebeb676\")) {                    Plotly.newPlot(                        \"ca1f023c-4dd5-4797-ab51-d1718ebeb676\",                        [{\"alignmentgroup\":\"True\",\"bingroup\":\"x\",\"hovertemplate\":\"Age=%{x}\\u003cbr\\u003ecount=%{y}\\u003cextra\\u003e\\u003c\\u002fextra\\u003e\",\"legendgroup\":\"\",\"marker\":{\"color\":\"#636efa\",\"pattern\":{\"shape\":\"\"}},\"name\":\"\",\"nbinsx\":20,\"offsetgroup\":\"\",\"orientation\":\"v\",\"showlegend\":false,\"x\":[25,28,28,45,34,56,29,42,51,36,48,25,45,32,60,28,55,38,42,50,35,48,30,65,24,35,45,28,52,31,48,60,55,29,58,36,42,50,32,35,42,32,28,42,35,52,24,34,45,29],\"xaxis\":\"x\",\"yaxis\":\"y\",\"type\":\"histogram\"}],                        {\"template\":{\"data\":{\"histogram2dcontour\":[{\"type\":\"histogram2dcontour\",\"colorbar\":{\"outlinewidth\":0,\"ticks\":\"\"},\"colorscale\":[[0.0,\"#0d0887\"],[0.1111111111111111,\"#46039f\"],[0.2222222222222222,\"#7201a8\"],[0.3333333333333333,\"#9c179e\"],[0.4444444444444444,\"#bd3786\"],[0.5555555555555556,\"#d8576b\"],[0.6666666666666666,\"#ed7953\"],[0.7777777777777778,\"#fb9f3a\"],[0.8888888888888888,\"#fdca26\"],[1.0,\"#f0f921\"]]}],\"choropleth\":[{\"type\":\"choropleth\",\"colorbar\":{\"outlinewidth\":0,\"ticks\":\"\"}}],\"histogram2d\":[{\"type\":\"histogram2d\",\"colorbar\":{\"outlinewidth\":0,\"ticks\":\"\"},\"colorscale\":[[0.0,\"#0d0887\"],[0.1111111111111111,\"#46039f\"],[0.2222222222222222,\"#7201a8\"],[0.3333333333333333,\"#9c179e\"],[0.4444444444444444,\"#bd3786\"],[0.5555555555555556,\"#d8576b\"],[0.6666666666666666,\"#ed7953\"],[0.7777777777777778,\"#fb9f3a\"],[0.8888888888888888,\"#fdca26\"],[1.0,\"#f0f921\"]]}],\"heatmap\":[{\"type\":\"heatmap\",\"colorbar\":{\"outlinewidth\":0,\"ticks\":\"\"},\"colorscale\":[[0.0,\"#0d0887\"],[0.1111111111111111,\"#46039f\"],[0.2222222222222222,\"#7201a8\"],[0.3333333333333333,\"#9c179e\"],[0.4444444444444444,\"#bd3786\"],[0.5555555555555556,\"#d8576b\"],[0.6666666666666666,\"#ed7953\"],[0.7777777777777778,\"#fb9f3a\"],[0.8888888888888888,\"#fdca26\"],[1.0,\"#f0f921\"]]}],\"heatmapgl\":[{\"type\":\"heatmapgl\",\"colorbar\":{\"outlinewidth\":0,\"ticks\":\"\"},\"colorscale\":[[0.0,\"#0d0887\"],[0.1111111111111111,\"#46039f\"],[0.2222222222222222,\"#7201a8\"],[0.3333333333333333,\"#9c179e\"],[0.4444444444444444,\"#bd3786\"],[0.5555555555555556,\"#d8576b\"],[0.6666666666666666,\"#ed7953\"],[0.7777777777777778,\"#fb9f3a\"],[0.8888888888888888,\"#fdca26\"],[1.0,\"#f0f921\"]]}],\"contourcarpet\":[{\"type\":\"contourcarpet\",\"colorbar\":{\"outlinewidth\":0,\"ticks\":\"\"}}],\"contour\":[{\"type\":\"contour\",\"colorbar\":{\"outlinewidth\":0,\"ticks\":\"\"},\"colorscale\":[[0.0,\"#0d0887\"],[0.1111111111111111,\"#46039f\"],[0.2222222222222222,\"#7201a8\"],[0.3333333333333333,\"#9c179e\"],[0.4444444444444444,\"#bd3786\"],[0.5555555555555556,\"#d8576b\"],[0.6666666666666666,\"#ed7953\"],[0.7777777777777778,\"#fb9f3a\"],[0.8888888888888888,\"#fdca26\"],[1.0,\"#f0f921\"]]}],\"surface\":[{\"type\":\"surface\",\"colorbar\":{\"outlinewidth\":0,\"ticks\":\"\"},\"colorscale\":[[0.0,\"#0d0887\"],[0.1111111111111111,\"#46039f\"],[0.2222222222222222,\"#7201a8\"],[0.3333333333333333,\"#9c179e\"],[0.4444444444444444,\"#bd3786\"],[0.5555555555555556,\"#d8576b\"],[0.6666666666666666,\"#ed7953\"],[0.7777777777777778,\"#fb9f3a\"],[0.8888888888888888,\"#fdca26\"],[1.0,\"#f0f921\"]]}],\"mesh3d\":[{\"type\":\"mesh3d\",\"colorbar\":{\"outlinewidth\":0,\"ticks\":\"\"}}],\"scatter\":[{\"fillpattern\":{\"fillmode\":\"overlay\",\"size\":10,\"solidity\":0.2},\"type\":\"scatter\"}],\"parcoords\":[{\"type\":\"parcoords\",\"line\":{\"colorbar\":{\"outlinewidth\":0,\"ticks\":\"\"}}}],\"scatterpolargl\":[{\"type\":\"scatterpolargl\",\"marker\":{\"colorbar\":{\"outlinewidth\":0,\"ticks\":\"\"}}}],\"bar\":[{\"error_x\":{\"color\":\"#2a3f5f\"},\"error_y\":{\"color\":\"#2a3f5f\"},\"marker\":{\"line\":{\"color\":\"#E5ECF6\",\"width\":0.5},\"pattern\":{\"fillmode\":\"overlay\",\"size\":10,\"solidity\":0.2}},\"type\":\"bar\"}],\"scattergeo\":[{\"type\":\"scattergeo\",\"marker\":{\"colorbar\":{\"outlinewidth\":0,\"ticks\":\"\"}}}],\"scatterpolar\":[{\"type\":\"scatterpolar\",\"marker\":{\"colorbar\":{\"outlinewidth\":0,\"ticks\":\"\"}}}],\"histogram\":[{\"marker\":{\"pattern\":{\"fillmode\":\"overlay\",\"size\":10,\"solidity\":0.2}},\"type\":\"histogram\"}],\"scattergl\":[{\"type\":\"scattergl\",\"marker\":{\"colorbar\":{\"outlinewidth\":0,\"ticks\":\"\"}}}],\"scatter3d\":[{\"type\":\"scatter3d\",\"line\":{\"colorbar\":{\"outlinewidth\":0,\"ticks\":\"\"}},\"marker\":{\"colorbar\":{\"outlinewidth\":0,\"ticks\":\"\"}}}],\"scattermapbox\":[{\"type\":\"scattermapbox\",\"marker\":{\"colorbar\":{\"outlinewidth\":0,\"ticks\":\"\"}}}],\"scatterternary\":[{\"type\":\"scatterternary\",\"marker\":{\"colorbar\":{\"outlinewidth\":0,\"ticks\":\"\"}}}],\"scattercarpet\":[{\"type\":\"scattercarpet\",\"marker\":{\"colorbar\":{\"outlinewidth\":0,\"ticks\":\"\"}}}],\"carpet\":[{\"aaxis\":{\"endlinecolor\":\"#2a3f5f\",\"gridcolor\":\"white\",\"linecolor\":\"white\",\"minorgridcolor\":\"white\",\"startlinecolor\":\"#2a3f5f\"},\"baxis\":{\"endlinecolor\":\"#2a3f5f\",\"gridcolor\":\"white\",\"linecolor\":\"white\",\"minorgridcolor\":\"white\",\"startlinecolor\":\"#2a3f5f\"},\"type\":\"carpet\"}],\"table\":[{\"cells\":{\"fill\":{\"color\":\"#EBF0F8\"},\"line\":{\"color\":\"white\"}},\"header\":{\"fill\":{\"color\":\"#C8D4E3\"},\"line\":{\"color\":\"white\"}},\"type\":\"table\"}],\"barpolar\":[{\"marker\":{\"line\":{\"color\":\"#E5ECF6\",\"width\":0.5},\"pattern\":{\"fillmode\":\"overlay\",\"size\":10,\"solidity\":0.2}},\"type\":\"barpolar\"}],\"pie\":[{\"automargin\":true,\"type\":\"pie\"}]},\"layout\":{\"autotypenumbers\":\"strict\",\"colorway\":[\"#636efa\",\"#EF553B\",\"#00cc96\",\"#ab63fa\",\"#FFA15A\",\"#19d3f3\",\"#FF6692\",\"#B6E880\",\"#FF97FF\",\"#FECB52\"],\"font\":{\"color\":\"#2a3f5f\"},\"hovermode\":\"closest\",\"hoverlabel\":{\"align\":\"left\"},\"paper_bgcolor\":\"white\",\"plot_bgcolor\":\"#E5ECF6\",\"polar\":{\"bgcolor\":\"#E5ECF6\",\"angularaxis\":{\"gridcolor\":\"white\",\"linecolor\":\"white\",\"ticks\":\"\"},\"radialaxis\":{\"gridcolor\":\"white\",\"linecolor\":\"white\",\"ticks\":\"\"}},\"ternary\":{\"bgcolor\":\"#E5ECF6\",\"aaxis\":{\"gridcolor\":\"white\",\"linecolor\":\"white\",\"ticks\":\"\"},\"baxis\":{\"gridcolor\":\"white\",\"linecolor\":\"white\",\"ticks\":\"\"},\"caxis\":{\"gridcolor\":\"white\",\"linecolor\":\"white\",\"ticks\":\"\"}},\"coloraxis\":{\"colorbar\":{\"outlinewidth\":0,\"ticks\":\"\"}},\"colorscale\":{\"sequential\":[[0.0,\"#0d0887\"],[0.1111111111111111,\"#46039f\"],[0.2222222222222222,\"#7201a8\"],[0.3333333333333333,\"#9c179e\"],[0.4444444444444444,\"#bd3786\"],[0.5555555555555556,\"#d8576b\"],[0.6666666666666666,\"#ed7953\"],[0.7777777777777778,\"#fb9f3a\"],[0.8888888888888888,\"#fdca26\"],[1.0,\"#f0f921\"]],\"sequentialminus\":[[0.0,\"#0d0887\"],[0.1111111111111111,\"#46039f\"],[0.2222222222222222,\"#7201a8\"],[0.3333333333333333,\"#9c179e\"],[0.4444444444444444,\"#bd3786\"],[0.5555555555555556,\"#d8576b\"],[0.6666666666666666,\"#ed7953\"],[0.7777777777777778,\"#fb9f3a\"],[0.8888888888888888,\"#fdca26\"],[1.0,\"#f0f921\"]],\"diverging\":[[0,\"#8e0152\"],[0.1,\"#c51b7d\"],[0.2,\"#de77ae\"],[0.3,\"#f1b6da\"],[0.4,\"#fde0ef\"],[0.5,\"#f7f7f7\"],[0.6,\"#e6f5d0\"],[0.7,\"#b8e186\"],[0.8,\"#7fbc41\"],[0.9,\"#4d9221\"],[1,\"#276419\"]]},\"xaxis\":{\"gridcolor\":\"white\",\"linecolor\":\"white\",\"ticks\":\"\",\"title\":{\"standoff\":15},\"zerolinecolor\":\"white\",\"automargin\":true,\"zerolinewidth\":2},\"yaxis\":{\"gridcolor\":\"white\",\"linecolor\":\"white\",\"ticks\":\"\",\"title\":{\"standoff\":15},\"zerolinecolor\":\"white\",\"automargin\":true,\"zerolinewidth\":2},\"scene\":{\"xaxis\":{\"backgroundcolor\":\"#E5ECF6\",\"gridcolor\":\"white\",\"linecolor\":\"white\",\"showbackground\":true,\"ticks\":\"\",\"zerolinecolor\":\"white\",\"gridwidth\":2},\"yaxis\":{\"backgroundcolor\":\"#E5ECF6\",\"gridcolor\":\"white\",\"linecolor\":\"white\",\"showbackground\":true,\"ticks\":\"\",\"zerolinecolor\":\"white\",\"gridwidth\":2},\"zaxis\":{\"backgroundcolor\":\"#E5ECF6\",\"gridcolor\":\"white\",\"linecolor\":\"white\",\"showbackground\":true,\"ticks\":\"\",\"zerolinecolor\":\"white\",\"gridwidth\":2}},\"shapedefaults\":{\"line\":{\"color\":\"#2a3f5f\"}},\"annotationdefaults\":{\"arrowcolor\":\"#2a3f5f\",\"arrowhead\":0,\"arrowwidth\":1},\"geo\":{\"bgcolor\":\"white\",\"landcolor\":\"#E5ECF6\",\"subunitcolor\":\"white\",\"showland\":true,\"showlakes\":true,\"lakecolor\":\"white\"},\"title\":{\"x\":0.05},\"mapbox\":{\"style\":\"light\"}}},\"xaxis\":{\"anchor\":\"y\",\"domain\":[0.0,1.0],\"title\":{\"text\":\"Age\"}},\"yaxis\":{\"anchor\":\"x\",\"domain\":[0.0,1.0],\"title\":{\"text\":\"count\"}},\"legend\":{\"tracegroupgap\":0},\"title\":{\"text\":\"Distribution of Customer Age\"},\"barmode\":\"relative\"},                        {\"responsive\": true}                    ).then(function(){\n",
              "                            \n",
              "var gd = document.getElementById('ca1f023c-4dd5-4797-ab51-d1718ebeb676');\n",
              "var x = new MutationObserver(function (mutations, observer) {{\n",
              "        var display = window.getComputedStyle(gd).display;\n",
              "        if (!display || display === 'none') {{\n",
              "            console.log([gd, 'removed!']);\n",
              "            Plotly.purge(gd);\n",
              "            observer.disconnect();\n",
              "        }}\n",
              "}});\n",
              "\n",
              "// Listen for the removal of the full notebook cells\n",
              "var notebookContainer = gd.closest('#notebook-container');\n",
              "if (notebookContainer) {{\n",
              "    x.observe(notebookContainer, {childList: true});\n",
              "}}\n",
              "\n",
              "// Listen for the clearing of the current output cell\n",
              "var outputEl = gd.closest('.output');\n",
              "if (outputEl) {{\n",
              "    x.observe(outputEl, {childList: true});\n",
              "}}\n",
              "\n",
              "                        })                };                            </script>        </div>\n",
              "</body>\n",
              "</html>"
            ]
          },
          "metadata": {}
        }
      ]
    },
    {
      "cell_type": "markdown",
      "source": [
        "**What is the distribution of customer gender?**"
      ],
      "metadata": {
        "id": "95Ibx4V7iy2L"
      }
    },
    {
      "cell_type": "code",
      "source": [
        "fig = px.pie(df_no_outliers, names='Gender', title='Customer Gender Distribution')\n",
        "fig.show()"
      ],
      "metadata": {
        "execution": {
          "iopub.status.busy": "2024-09-19T09:54:00.484595Z",
          "iopub.execute_input": "2024-09-19T09:54:00.485106Z",
          "iopub.status.idle": "2024-09-19T09:54:00.585837Z",
          "shell.execute_reply.started": "2024-09-19T09:54:00.48505Z",
          "shell.execute_reply": "2024-09-19T09:54:00.584631Z"
        },
        "trusted": true,
        "id": "kmKn5dO2iy2M",
        "outputId": "08b69c2c-b80d-4789-ea9d-935f7dbbc1c3",
        "colab": {
          "base_uri": "https://localhost:8080/",
          "height": 542
        }
      },
      "execution_count": 15,
      "outputs": [
        {
          "output_type": "display_data",
          "data": {
            "text/html": [
              "<html>\n",
              "<head><meta charset=\"utf-8\" /></head>\n",
              "<body>\n",
              "    <div>            <script src=\"https://cdnjs.cloudflare.com/ajax/libs/mathjax/2.7.5/MathJax.js?config=TeX-AMS-MML_SVG\"></script><script type=\"text/javascript\">if (window.MathJax && window.MathJax.Hub && window.MathJax.Hub.Config) {window.MathJax.Hub.Config({SVG: {font: \"STIX-Web\"}});}</script>                <script type=\"text/javascript\">window.PlotlyConfig = {MathJaxConfig: 'local'};</script>\n",
              "        <script charset=\"utf-8\" src=\"https://cdn.plot.ly/plotly-2.35.2.min.js\"></script>                <div id=\"22e933f4-5822-4a77-b913-870ddf1bba9a\" class=\"plotly-graph-div\" style=\"height:525px; width:100%;\"></div>            <script type=\"text/javascript\">                                    window.PLOTLYENV=window.PLOTLYENV || {};                                    if (document.getElementById(\"22e933f4-5822-4a77-b913-870ddf1bba9a\")) {                    Plotly.newPlot(                        \"22e933f4-5822-4a77-b913-870ddf1bba9a\",                        [{\"domain\":{\"x\":[0.0,1.0],\"y\":[0.0,1.0]},\"hovertemplate\":\"Gender=%{label}\\u003cextra\\u003e\\u003c\\u002fextra\\u003e\",\"labels\":[\"Female\",\"Female\",\"Female\",\"Female\",\"Male\",\"Other\",\"Female\",\"Male\",\"Other\",\"Female\",\"Male\",\"Other\",\"Female\",\"Male\",\"Other\",\"Female\",\"Male\",\"Female\",\"Male\",\"Female\",\"Male\",\"Female\",\"Male\",\"Female\",\"Female\",\"Female\",\"Male\",\"Female\",\"Male\",\"Female\",\"Male\",\"Female\",\"Male\",\"Female\",\"Male\",\"Female\",\"Male\",\"Female\",\"Female\",\"Female\",\"Male\",\"Female\",\"Female\",\"Male\",\"Other\",\"Female\",\"Male\",\"Female\",\"Male\",\"Other\"],\"legendgroup\":\"\",\"name\":\"\",\"showlegend\":true,\"type\":\"pie\"}],                        {\"template\":{\"data\":{\"histogram2dcontour\":[{\"type\":\"histogram2dcontour\",\"colorbar\":{\"outlinewidth\":0,\"ticks\":\"\"},\"colorscale\":[[0.0,\"#0d0887\"],[0.1111111111111111,\"#46039f\"],[0.2222222222222222,\"#7201a8\"],[0.3333333333333333,\"#9c179e\"],[0.4444444444444444,\"#bd3786\"],[0.5555555555555556,\"#d8576b\"],[0.6666666666666666,\"#ed7953\"],[0.7777777777777778,\"#fb9f3a\"],[0.8888888888888888,\"#fdca26\"],[1.0,\"#f0f921\"]]}],\"choropleth\":[{\"type\":\"choropleth\",\"colorbar\":{\"outlinewidth\":0,\"ticks\":\"\"}}],\"histogram2d\":[{\"type\":\"histogram2d\",\"colorbar\":{\"outlinewidth\":0,\"ticks\":\"\"},\"colorscale\":[[0.0,\"#0d0887\"],[0.1111111111111111,\"#46039f\"],[0.2222222222222222,\"#7201a8\"],[0.3333333333333333,\"#9c179e\"],[0.4444444444444444,\"#bd3786\"],[0.5555555555555556,\"#d8576b\"],[0.6666666666666666,\"#ed7953\"],[0.7777777777777778,\"#fb9f3a\"],[0.8888888888888888,\"#fdca26\"],[1.0,\"#f0f921\"]]}],\"heatmap\":[{\"type\":\"heatmap\",\"colorbar\":{\"outlinewidth\":0,\"ticks\":\"\"},\"colorscale\":[[0.0,\"#0d0887\"],[0.1111111111111111,\"#46039f\"],[0.2222222222222222,\"#7201a8\"],[0.3333333333333333,\"#9c179e\"],[0.4444444444444444,\"#bd3786\"],[0.5555555555555556,\"#d8576b\"],[0.6666666666666666,\"#ed7953\"],[0.7777777777777778,\"#fb9f3a\"],[0.8888888888888888,\"#fdca26\"],[1.0,\"#f0f921\"]]}],\"heatmapgl\":[{\"type\":\"heatmapgl\",\"colorbar\":{\"outlinewidth\":0,\"ticks\":\"\"},\"colorscale\":[[0.0,\"#0d0887\"],[0.1111111111111111,\"#46039f\"],[0.2222222222222222,\"#7201a8\"],[0.3333333333333333,\"#9c179e\"],[0.4444444444444444,\"#bd3786\"],[0.5555555555555556,\"#d8576b\"],[0.6666666666666666,\"#ed7953\"],[0.7777777777777778,\"#fb9f3a\"],[0.8888888888888888,\"#fdca26\"],[1.0,\"#f0f921\"]]}],\"contourcarpet\":[{\"type\":\"contourcarpet\",\"colorbar\":{\"outlinewidth\":0,\"ticks\":\"\"}}],\"contour\":[{\"type\":\"contour\",\"colorbar\":{\"outlinewidth\":0,\"ticks\":\"\"},\"colorscale\":[[0.0,\"#0d0887\"],[0.1111111111111111,\"#46039f\"],[0.2222222222222222,\"#7201a8\"],[0.3333333333333333,\"#9c179e\"],[0.4444444444444444,\"#bd3786\"],[0.5555555555555556,\"#d8576b\"],[0.6666666666666666,\"#ed7953\"],[0.7777777777777778,\"#fb9f3a\"],[0.8888888888888888,\"#fdca26\"],[1.0,\"#f0f921\"]]}],\"surface\":[{\"type\":\"surface\",\"colorbar\":{\"outlinewidth\":0,\"ticks\":\"\"},\"colorscale\":[[0.0,\"#0d0887\"],[0.1111111111111111,\"#46039f\"],[0.2222222222222222,\"#7201a8\"],[0.3333333333333333,\"#9c179e\"],[0.4444444444444444,\"#bd3786\"],[0.5555555555555556,\"#d8576b\"],[0.6666666666666666,\"#ed7953\"],[0.7777777777777778,\"#fb9f3a\"],[0.8888888888888888,\"#fdca26\"],[1.0,\"#f0f921\"]]}],\"mesh3d\":[{\"type\":\"mesh3d\",\"colorbar\":{\"outlinewidth\":0,\"ticks\":\"\"}}],\"scatter\":[{\"fillpattern\":{\"fillmode\":\"overlay\",\"size\":10,\"solidity\":0.2},\"type\":\"scatter\"}],\"parcoords\":[{\"type\":\"parcoords\",\"line\":{\"colorbar\":{\"outlinewidth\":0,\"ticks\":\"\"}}}],\"scatterpolargl\":[{\"type\":\"scatterpolargl\",\"marker\":{\"colorbar\":{\"outlinewidth\":0,\"ticks\":\"\"}}}],\"bar\":[{\"error_x\":{\"color\":\"#2a3f5f\"},\"error_y\":{\"color\":\"#2a3f5f\"},\"marker\":{\"line\":{\"color\":\"#E5ECF6\",\"width\":0.5},\"pattern\":{\"fillmode\":\"overlay\",\"size\":10,\"solidity\":0.2}},\"type\":\"bar\"}],\"scattergeo\":[{\"type\":\"scattergeo\",\"marker\":{\"colorbar\":{\"outlinewidth\":0,\"ticks\":\"\"}}}],\"scatterpolar\":[{\"type\":\"scatterpolar\",\"marker\":{\"colorbar\":{\"outlinewidth\":0,\"ticks\":\"\"}}}],\"histogram\":[{\"marker\":{\"pattern\":{\"fillmode\":\"overlay\",\"size\":10,\"solidity\":0.2}},\"type\":\"histogram\"}],\"scattergl\":[{\"type\":\"scattergl\",\"marker\":{\"colorbar\":{\"outlinewidth\":0,\"ticks\":\"\"}}}],\"scatter3d\":[{\"type\":\"scatter3d\",\"line\":{\"colorbar\":{\"outlinewidth\":0,\"ticks\":\"\"}},\"marker\":{\"colorbar\":{\"outlinewidth\":0,\"ticks\":\"\"}}}],\"scattermapbox\":[{\"type\":\"scattermapbox\",\"marker\":{\"colorbar\":{\"outlinewidth\":0,\"ticks\":\"\"}}}],\"scatterternary\":[{\"type\":\"scatterternary\",\"marker\":{\"colorbar\":{\"outlinewidth\":0,\"ticks\":\"\"}}}],\"scattercarpet\":[{\"type\":\"scattercarpet\",\"marker\":{\"colorbar\":{\"outlinewidth\":0,\"ticks\":\"\"}}}],\"carpet\":[{\"aaxis\":{\"endlinecolor\":\"#2a3f5f\",\"gridcolor\":\"white\",\"linecolor\":\"white\",\"minorgridcolor\":\"white\",\"startlinecolor\":\"#2a3f5f\"},\"baxis\":{\"endlinecolor\":\"#2a3f5f\",\"gridcolor\":\"white\",\"linecolor\":\"white\",\"minorgridcolor\":\"white\",\"startlinecolor\":\"#2a3f5f\"},\"type\":\"carpet\"}],\"table\":[{\"cells\":{\"fill\":{\"color\":\"#EBF0F8\"},\"line\":{\"color\":\"white\"}},\"header\":{\"fill\":{\"color\":\"#C8D4E3\"},\"line\":{\"color\":\"white\"}},\"type\":\"table\"}],\"barpolar\":[{\"marker\":{\"line\":{\"color\":\"#E5ECF6\",\"width\":0.5},\"pattern\":{\"fillmode\":\"overlay\",\"size\":10,\"solidity\":0.2}},\"type\":\"barpolar\"}],\"pie\":[{\"automargin\":true,\"type\":\"pie\"}]},\"layout\":{\"autotypenumbers\":\"strict\",\"colorway\":[\"#636efa\",\"#EF553B\",\"#00cc96\",\"#ab63fa\",\"#FFA15A\",\"#19d3f3\",\"#FF6692\",\"#B6E880\",\"#FF97FF\",\"#FECB52\"],\"font\":{\"color\":\"#2a3f5f\"},\"hovermode\":\"closest\",\"hoverlabel\":{\"align\":\"left\"},\"paper_bgcolor\":\"white\",\"plot_bgcolor\":\"#E5ECF6\",\"polar\":{\"bgcolor\":\"#E5ECF6\",\"angularaxis\":{\"gridcolor\":\"white\",\"linecolor\":\"white\",\"ticks\":\"\"},\"radialaxis\":{\"gridcolor\":\"white\",\"linecolor\":\"white\",\"ticks\":\"\"}},\"ternary\":{\"bgcolor\":\"#E5ECF6\",\"aaxis\":{\"gridcolor\":\"white\",\"linecolor\":\"white\",\"ticks\":\"\"},\"baxis\":{\"gridcolor\":\"white\",\"linecolor\":\"white\",\"ticks\":\"\"},\"caxis\":{\"gridcolor\":\"white\",\"linecolor\":\"white\",\"ticks\":\"\"}},\"coloraxis\":{\"colorbar\":{\"outlinewidth\":0,\"ticks\":\"\"}},\"colorscale\":{\"sequential\":[[0.0,\"#0d0887\"],[0.1111111111111111,\"#46039f\"],[0.2222222222222222,\"#7201a8\"],[0.3333333333333333,\"#9c179e\"],[0.4444444444444444,\"#bd3786\"],[0.5555555555555556,\"#d8576b\"],[0.6666666666666666,\"#ed7953\"],[0.7777777777777778,\"#fb9f3a\"],[0.8888888888888888,\"#fdca26\"],[1.0,\"#f0f921\"]],\"sequentialminus\":[[0.0,\"#0d0887\"],[0.1111111111111111,\"#46039f\"],[0.2222222222222222,\"#7201a8\"],[0.3333333333333333,\"#9c179e\"],[0.4444444444444444,\"#bd3786\"],[0.5555555555555556,\"#d8576b\"],[0.6666666666666666,\"#ed7953\"],[0.7777777777777778,\"#fb9f3a\"],[0.8888888888888888,\"#fdca26\"],[1.0,\"#f0f921\"]],\"diverging\":[[0,\"#8e0152\"],[0.1,\"#c51b7d\"],[0.2,\"#de77ae\"],[0.3,\"#f1b6da\"],[0.4,\"#fde0ef\"],[0.5,\"#f7f7f7\"],[0.6,\"#e6f5d0\"],[0.7,\"#b8e186\"],[0.8,\"#7fbc41\"],[0.9,\"#4d9221\"],[1,\"#276419\"]]},\"xaxis\":{\"gridcolor\":\"white\",\"linecolor\":\"white\",\"ticks\":\"\",\"title\":{\"standoff\":15},\"zerolinecolor\":\"white\",\"automargin\":true,\"zerolinewidth\":2},\"yaxis\":{\"gridcolor\":\"white\",\"linecolor\":\"white\",\"ticks\":\"\",\"title\":{\"standoff\":15},\"zerolinecolor\":\"white\",\"automargin\":true,\"zerolinewidth\":2},\"scene\":{\"xaxis\":{\"backgroundcolor\":\"#E5ECF6\",\"gridcolor\":\"white\",\"linecolor\":\"white\",\"showbackground\":true,\"ticks\":\"\",\"zerolinecolor\":\"white\",\"gridwidth\":2},\"yaxis\":{\"backgroundcolor\":\"#E5ECF6\",\"gridcolor\":\"white\",\"linecolor\":\"white\",\"showbackground\":true,\"ticks\":\"\",\"zerolinecolor\":\"white\",\"gridwidth\":2},\"zaxis\":{\"backgroundcolor\":\"#E5ECF6\",\"gridcolor\":\"white\",\"linecolor\":\"white\",\"showbackground\":true,\"ticks\":\"\",\"zerolinecolor\":\"white\",\"gridwidth\":2}},\"shapedefaults\":{\"line\":{\"color\":\"#2a3f5f\"}},\"annotationdefaults\":{\"arrowcolor\":\"#2a3f5f\",\"arrowhead\":0,\"arrowwidth\":1},\"geo\":{\"bgcolor\":\"white\",\"landcolor\":\"#E5ECF6\",\"subunitcolor\":\"white\",\"showland\":true,\"showlakes\":true,\"lakecolor\":\"white\"},\"title\":{\"x\":0.05},\"mapbox\":{\"style\":\"light\"}}},\"legend\":{\"tracegroupgap\":0},\"title\":{\"text\":\"Customer Gender Distribution\"}},                        {\"responsive\": true}                    ).then(function(){\n",
              "                            \n",
              "var gd = document.getElementById('22e933f4-5822-4a77-b913-870ddf1bba9a');\n",
              "var x = new MutationObserver(function (mutations, observer) {{\n",
              "        var display = window.getComputedStyle(gd).display;\n",
              "        if (!display || display === 'none') {{\n",
              "            console.log([gd, 'removed!']);\n",
              "            Plotly.purge(gd);\n",
              "            observer.disconnect();\n",
              "        }}\n",
              "}});\n",
              "\n",
              "// Listen for the removal of the full notebook cells\n",
              "var notebookContainer = gd.closest('#notebook-container');\n",
              "if (notebookContainer) {{\n",
              "    x.observe(notebookContainer, {childList: true});\n",
              "}}\n",
              "\n",
              "// Listen for the clearing of the current output cell\n",
              "var outputEl = gd.closest('.output');\n",
              "if (outputEl) {{\n",
              "    x.observe(outputEl, {childList: true});\n",
              "}}\n",
              "\n",
              "                        })                };                            </script>        </div>\n",
              "</body>\n",
              "</html>"
            ]
          },
          "metadata": {}
        }
      ]
    },
    {
      "cell_type": "markdown",
      "source": [
        "**What is the distribution of customer income levels?**"
      ],
      "metadata": {
        "id": "aXrzoj7jiy2M"
      }
    },
    {
      "cell_type": "code",
      "source": [
        "fig = px.histogram(df_no_outliers, x='Annual Income', nbins=20, title='Distribution of Annual Income')\n",
        "fig.show()"
      ],
      "metadata": {
        "execution": {
          "iopub.status.busy": "2024-09-19T09:54:00.587105Z",
          "iopub.execute_input": "2024-09-19T09:54:00.587472Z",
          "iopub.status.idle": "2024-09-19T09:54:00.66377Z",
          "shell.execute_reply.started": "2024-09-19T09:54:00.587431Z",
          "shell.execute_reply": "2024-09-19T09:54:00.662575Z"
        },
        "trusted": true,
        "id": "bAi0ksVRiy2M",
        "outputId": "833ce91e-7bf5-4cb2-8e76-422909c819a5",
        "colab": {
          "base_uri": "https://localhost:8080/",
          "height": 542
        }
      },
      "execution_count": 16,
      "outputs": [
        {
          "output_type": "display_data",
          "data": {
            "text/html": [
              "<html>\n",
              "<head><meta charset=\"utf-8\" /></head>\n",
              "<body>\n",
              "    <div>            <script src=\"https://cdnjs.cloudflare.com/ajax/libs/mathjax/2.7.5/MathJax.js?config=TeX-AMS-MML_SVG\"></script><script type=\"text/javascript\">if (window.MathJax && window.MathJax.Hub && window.MathJax.Hub.Config) {window.MathJax.Hub.Config({SVG: {font: \"STIX-Web\"}});}</script>                <script type=\"text/javascript\">window.PlotlyConfig = {MathJaxConfig: 'local'};</script>\n",
              "        <script charset=\"utf-8\" src=\"https://cdn.plot.ly/plotly-2.35.2.min.js\"></script>                <div id=\"aed474eb-7d1b-40d0-a401-30098259bc9d\" class=\"plotly-graph-div\" style=\"height:525px; width:100%;\"></div>            <script type=\"text/javascript\">                                    window.PLOTLYENV=window.PLOTLYENV || {};                                    if (document.getElementById(\"aed474eb-7d1b-40d0-a401-30098259bc9d\")) {                    Plotly.newPlot(                        \"aed474eb-7d1b-40d0-a401-30098259bc9d\",                        [{\"alignmentgroup\":\"True\",\"bingroup\":\"x\",\"hovertemplate\":\"Annual Income=%{x}\\u003cbr\\u003ecount=%{y}\\u003cextra\\u003e\\u003c\\u002fextra\\u003e\",\"legendgroup\":\"\",\"marker\":{\"color\":\"#636efa\",\"pattern\":{\"shape\":\"\"}},\"name\":\"\",\"nbinsx\":20,\"offsetgroup\":\"\",\"orientation\":\"v\",\"showlegend\":false,\"x\":[45000,52000,65000,70000,45000,90000,60000,75000,85000,55000,80000,40000,75000,50000,80000,45000,90000,65000,70000,85000,55000,75000,40000,95000,45000,50000,80000,60000,70000,45000,90000,65000,85000,40000,75000,55000,95000,68000,65000,60000,75000,55000,65000,80000,50000,100000,45000,55000,87000,42000],\"xaxis\":\"x\",\"yaxis\":\"y\",\"type\":\"histogram\"}],                        {\"template\":{\"data\":{\"histogram2dcontour\":[{\"type\":\"histogram2dcontour\",\"colorbar\":{\"outlinewidth\":0,\"ticks\":\"\"},\"colorscale\":[[0.0,\"#0d0887\"],[0.1111111111111111,\"#46039f\"],[0.2222222222222222,\"#7201a8\"],[0.3333333333333333,\"#9c179e\"],[0.4444444444444444,\"#bd3786\"],[0.5555555555555556,\"#d8576b\"],[0.6666666666666666,\"#ed7953\"],[0.7777777777777778,\"#fb9f3a\"],[0.8888888888888888,\"#fdca26\"],[1.0,\"#f0f921\"]]}],\"choropleth\":[{\"type\":\"choropleth\",\"colorbar\":{\"outlinewidth\":0,\"ticks\":\"\"}}],\"histogram2d\":[{\"type\":\"histogram2d\",\"colorbar\":{\"outlinewidth\":0,\"ticks\":\"\"},\"colorscale\":[[0.0,\"#0d0887\"],[0.1111111111111111,\"#46039f\"],[0.2222222222222222,\"#7201a8\"],[0.3333333333333333,\"#9c179e\"],[0.4444444444444444,\"#bd3786\"],[0.5555555555555556,\"#d8576b\"],[0.6666666666666666,\"#ed7953\"],[0.7777777777777778,\"#fb9f3a\"],[0.8888888888888888,\"#fdca26\"],[1.0,\"#f0f921\"]]}],\"heatmap\":[{\"type\":\"heatmap\",\"colorbar\":{\"outlinewidth\":0,\"ticks\":\"\"},\"colorscale\":[[0.0,\"#0d0887\"],[0.1111111111111111,\"#46039f\"],[0.2222222222222222,\"#7201a8\"],[0.3333333333333333,\"#9c179e\"],[0.4444444444444444,\"#bd3786\"],[0.5555555555555556,\"#d8576b\"],[0.6666666666666666,\"#ed7953\"],[0.7777777777777778,\"#fb9f3a\"],[0.8888888888888888,\"#fdca26\"],[1.0,\"#f0f921\"]]}],\"heatmapgl\":[{\"type\":\"heatmapgl\",\"colorbar\":{\"outlinewidth\":0,\"ticks\":\"\"},\"colorscale\":[[0.0,\"#0d0887\"],[0.1111111111111111,\"#46039f\"],[0.2222222222222222,\"#7201a8\"],[0.3333333333333333,\"#9c179e\"],[0.4444444444444444,\"#bd3786\"],[0.5555555555555556,\"#d8576b\"],[0.6666666666666666,\"#ed7953\"],[0.7777777777777778,\"#fb9f3a\"],[0.8888888888888888,\"#fdca26\"],[1.0,\"#f0f921\"]]}],\"contourcarpet\":[{\"type\":\"contourcarpet\",\"colorbar\":{\"outlinewidth\":0,\"ticks\":\"\"}}],\"contour\":[{\"type\":\"contour\",\"colorbar\":{\"outlinewidth\":0,\"ticks\":\"\"},\"colorscale\":[[0.0,\"#0d0887\"],[0.1111111111111111,\"#46039f\"],[0.2222222222222222,\"#7201a8\"],[0.3333333333333333,\"#9c179e\"],[0.4444444444444444,\"#bd3786\"],[0.5555555555555556,\"#d8576b\"],[0.6666666666666666,\"#ed7953\"],[0.7777777777777778,\"#fb9f3a\"],[0.8888888888888888,\"#fdca26\"],[1.0,\"#f0f921\"]]}],\"surface\":[{\"type\":\"surface\",\"colorbar\":{\"outlinewidth\":0,\"ticks\":\"\"},\"colorscale\":[[0.0,\"#0d0887\"],[0.1111111111111111,\"#46039f\"],[0.2222222222222222,\"#7201a8\"],[0.3333333333333333,\"#9c179e\"],[0.4444444444444444,\"#bd3786\"],[0.5555555555555556,\"#d8576b\"],[0.6666666666666666,\"#ed7953\"],[0.7777777777777778,\"#fb9f3a\"],[0.8888888888888888,\"#fdca26\"],[1.0,\"#f0f921\"]]}],\"mesh3d\":[{\"type\":\"mesh3d\",\"colorbar\":{\"outlinewidth\":0,\"ticks\":\"\"}}],\"scatter\":[{\"fillpattern\":{\"fillmode\":\"overlay\",\"size\":10,\"solidity\":0.2},\"type\":\"scatter\"}],\"parcoords\":[{\"type\":\"parcoords\",\"line\":{\"colorbar\":{\"outlinewidth\":0,\"ticks\":\"\"}}}],\"scatterpolargl\":[{\"type\":\"scatterpolargl\",\"marker\":{\"colorbar\":{\"outlinewidth\":0,\"ticks\":\"\"}}}],\"bar\":[{\"error_x\":{\"color\":\"#2a3f5f\"},\"error_y\":{\"color\":\"#2a3f5f\"},\"marker\":{\"line\":{\"color\":\"#E5ECF6\",\"width\":0.5},\"pattern\":{\"fillmode\":\"overlay\",\"size\":10,\"solidity\":0.2}},\"type\":\"bar\"}],\"scattergeo\":[{\"type\":\"scattergeo\",\"marker\":{\"colorbar\":{\"outlinewidth\":0,\"ticks\":\"\"}}}],\"scatterpolar\":[{\"type\":\"scatterpolar\",\"marker\":{\"colorbar\":{\"outlinewidth\":0,\"ticks\":\"\"}}}],\"histogram\":[{\"marker\":{\"pattern\":{\"fillmode\":\"overlay\",\"size\":10,\"solidity\":0.2}},\"type\":\"histogram\"}],\"scattergl\":[{\"type\":\"scattergl\",\"marker\":{\"colorbar\":{\"outlinewidth\":0,\"ticks\":\"\"}}}],\"scatter3d\":[{\"type\":\"scatter3d\",\"line\":{\"colorbar\":{\"outlinewidth\":0,\"ticks\":\"\"}},\"marker\":{\"colorbar\":{\"outlinewidth\":0,\"ticks\":\"\"}}}],\"scattermapbox\":[{\"type\":\"scattermapbox\",\"marker\":{\"colorbar\":{\"outlinewidth\":0,\"ticks\":\"\"}}}],\"scatterternary\":[{\"type\":\"scatterternary\",\"marker\":{\"colorbar\":{\"outlinewidth\":0,\"ticks\":\"\"}}}],\"scattercarpet\":[{\"type\":\"scattercarpet\",\"marker\":{\"colorbar\":{\"outlinewidth\":0,\"ticks\":\"\"}}}],\"carpet\":[{\"aaxis\":{\"endlinecolor\":\"#2a3f5f\",\"gridcolor\":\"white\",\"linecolor\":\"white\",\"minorgridcolor\":\"white\",\"startlinecolor\":\"#2a3f5f\"},\"baxis\":{\"endlinecolor\":\"#2a3f5f\",\"gridcolor\":\"white\",\"linecolor\":\"white\",\"minorgridcolor\":\"white\",\"startlinecolor\":\"#2a3f5f\"},\"type\":\"carpet\"}],\"table\":[{\"cells\":{\"fill\":{\"color\":\"#EBF0F8\"},\"line\":{\"color\":\"white\"}},\"header\":{\"fill\":{\"color\":\"#C8D4E3\"},\"line\":{\"color\":\"white\"}},\"type\":\"table\"}],\"barpolar\":[{\"marker\":{\"line\":{\"color\":\"#E5ECF6\",\"width\":0.5},\"pattern\":{\"fillmode\":\"overlay\",\"size\":10,\"solidity\":0.2}},\"type\":\"barpolar\"}],\"pie\":[{\"automargin\":true,\"type\":\"pie\"}]},\"layout\":{\"autotypenumbers\":\"strict\",\"colorway\":[\"#636efa\",\"#EF553B\",\"#00cc96\",\"#ab63fa\",\"#FFA15A\",\"#19d3f3\",\"#FF6692\",\"#B6E880\",\"#FF97FF\",\"#FECB52\"],\"font\":{\"color\":\"#2a3f5f\"},\"hovermode\":\"closest\",\"hoverlabel\":{\"align\":\"left\"},\"paper_bgcolor\":\"white\",\"plot_bgcolor\":\"#E5ECF6\",\"polar\":{\"bgcolor\":\"#E5ECF6\",\"angularaxis\":{\"gridcolor\":\"white\",\"linecolor\":\"white\",\"ticks\":\"\"},\"radialaxis\":{\"gridcolor\":\"white\",\"linecolor\":\"white\",\"ticks\":\"\"}},\"ternary\":{\"bgcolor\":\"#E5ECF6\",\"aaxis\":{\"gridcolor\":\"white\",\"linecolor\":\"white\",\"ticks\":\"\"},\"baxis\":{\"gridcolor\":\"white\",\"linecolor\":\"white\",\"ticks\":\"\"},\"caxis\":{\"gridcolor\":\"white\",\"linecolor\":\"white\",\"ticks\":\"\"}},\"coloraxis\":{\"colorbar\":{\"outlinewidth\":0,\"ticks\":\"\"}},\"colorscale\":{\"sequential\":[[0.0,\"#0d0887\"],[0.1111111111111111,\"#46039f\"],[0.2222222222222222,\"#7201a8\"],[0.3333333333333333,\"#9c179e\"],[0.4444444444444444,\"#bd3786\"],[0.5555555555555556,\"#d8576b\"],[0.6666666666666666,\"#ed7953\"],[0.7777777777777778,\"#fb9f3a\"],[0.8888888888888888,\"#fdca26\"],[1.0,\"#f0f921\"]],\"sequentialminus\":[[0.0,\"#0d0887\"],[0.1111111111111111,\"#46039f\"],[0.2222222222222222,\"#7201a8\"],[0.3333333333333333,\"#9c179e\"],[0.4444444444444444,\"#bd3786\"],[0.5555555555555556,\"#d8576b\"],[0.6666666666666666,\"#ed7953\"],[0.7777777777777778,\"#fb9f3a\"],[0.8888888888888888,\"#fdca26\"],[1.0,\"#f0f921\"]],\"diverging\":[[0,\"#8e0152\"],[0.1,\"#c51b7d\"],[0.2,\"#de77ae\"],[0.3,\"#f1b6da\"],[0.4,\"#fde0ef\"],[0.5,\"#f7f7f7\"],[0.6,\"#e6f5d0\"],[0.7,\"#b8e186\"],[0.8,\"#7fbc41\"],[0.9,\"#4d9221\"],[1,\"#276419\"]]},\"xaxis\":{\"gridcolor\":\"white\",\"linecolor\":\"white\",\"ticks\":\"\",\"title\":{\"standoff\":15},\"zerolinecolor\":\"white\",\"automargin\":true,\"zerolinewidth\":2},\"yaxis\":{\"gridcolor\":\"white\",\"linecolor\":\"white\",\"ticks\":\"\",\"title\":{\"standoff\":15},\"zerolinecolor\":\"white\",\"automargin\":true,\"zerolinewidth\":2},\"scene\":{\"xaxis\":{\"backgroundcolor\":\"#E5ECF6\",\"gridcolor\":\"white\",\"linecolor\":\"white\",\"showbackground\":true,\"ticks\":\"\",\"zerolinecolor\":\"white\",\"gridwidth\":2},\"yaxis\":{\"backgroundcolor\":\"#E5ECF6\",\"gridcolor\":\"white\",\"linecolor\":\"white\",\"showbackground\":true,\"ticks\":\"\",\"zerolinecolor\":\"white\",\"gridwidth\":2},\"zaxis\":{\"backgroundcolor\":\"#E5ECF6\",\"gridcolor\":\"white\",\"linecolor\":\"white\",\"showbackground\":true,\"ticks\":\"\",\"zerolinecolor\":\"white\",\"gridwidth\":2}},\"shapedefaults\":{\"line\":{\"color\":\"#2a3f5f\"}},\"annotationdefaults\":{\"arrowcolor\":\"#2a3f5f\",\"arrowhead\":0,\"arrowwidth\":1},\"geo\":{\"bgcolor\":\"white\",\"landcolor\":\"#E5ECF6\",\"subunitcolor\":\"white\",\"showland\":true,\"showlakes\":true,\"lakecolor\":\"white\"},\"title\":{\"x\":0.05},\"mapbox\":{\"style\":\"light\"}}},\"xaxis\":{\"anchor\":\"y\",\"domain\":[0.0,1.0],\"title\":{\"text\":\"Annual Income\"}},\"yaxis\":{\"anchor\":\"x\",\"domain\":[0.0,1.0],\"title\":{\"text\":\"count\"}},\"legend\":{\"tracegroupgap\":0},\"title\":{\"text\":\"Distribution of Annual Income\"},\"barmode\":\"relative\"},                        {\"responsive\": true}                    ).then(function(){\n",
              "                            \n",
              "var gd = document.getElementById('aed474eb-7d1b-40d0-a401-30098259bc9d');\n",
              "var x = new MutationObserver(function (mutations, observer) {{\n",
              "        var display = window.getComputedStyle(gd).display;\n",
              "        if (!display || display === 'none') {{\n",
              "            console.log([gd, 'removed!']);\n",
              "            Plotly.purge(gd);\n",
              "            observer.disconnect();\n",
              "        }}\n",
              "}});\n",
              "\n",
              "// Listen for the removal of the full notebook cells\n",
              "var notebookContainer = gd.closest('#notebook-container');\n",
              "if (notebookContainer) {{\n",
              "    x.observe(notebookContainer, {childList: true});\n",
              "}}\n",
              "\n",
              "// Listen for the clearing of the current output cell\n",
              "var outputEl = gd.closest('.output');\n",
              "if (outputEl) {{\n",
              "    x.observe(outputEl, {childList: true});\n",
              "}}\n",
              "\n",
              "                        })                };                            </script>        </div>\n",
              "</body>\n",
              "</html>"
            ]
          },
          "metadata": {}
        }
      ]
    },
    {
      "cell_type": "markdown",
      "source": [
        "**How does time spent on the site vary with age?**"
      ],
      "metadata": {
        "id": "0gF7ACpbiy2N"
      }
    },
    {
      "cell_type": "code",
      "source": [
        "fig = px.scatter(df_no_outliers, x='Age', y='Time on Site', title='Time on Site vs Age')\n",
        "fig.show()"
      ],
      "metadata": {
        "execution": {
          "iopub.status.busy": "2024-09-19T09:54:00.665411Z",
          "iopub.execute_input": "2024-09-19T09:54:00.665919Z",
          "iopub.status.idle": "2024-09-19T09:54:00.770359Z",
          "shell.execute_reply.started": "2024-09-19T09:54:00.665863Z",
          "shell.execute_reply": "2024-09-19T09:54:00.769196Z"
        },
        "trusted": true,
        "id": "zR_Jqm31iy2N",
        "outputId": "1eb73632-b319-4f82-e666-c9bc939c8615",
        "colab": {
          "base_uri": "https://localhost:8080/",
          "height": 542
        }
      },
      "execution_count": 17,
      "outputs": [
        {
          "output_type": "display_data",
          "data": {
            "text/html": [
              "<html>\n",
              "<head><meta charset=\"utf-8\" /></head>\n",
              "<body>\n",
              "    <div>            <script src=\"https://cdnjs.cloudflare.com/ajax/libs/mathjax/2.7.5/MathJax.js?config=TeX-AMS-MML_SVG\"></script><script type=\"text/javascript\">if (window.MathJax && window.MathJax.Hub && window.MathJax.Hub.Config) {window.MathJax.Hub.Config({SVG: {font: \"STIX-Web\"}});}</script>                <script type=\"text/javascript\">window.PlotlyConfig = {MathJaxConfig: 'local'};</script>\n",
              "        <script charset=\"utf-8\" src=\"https://cdn.plot.ly/plotly-2.35.2.min.js\"></script>                <div id=\"33301f0b-f740-4527-8307-f5c1ea11cbff\" class=\"plotly-graph-div\" style=\"height:525px; width:100%;\"></div>            <script type=\"text/javascript\">                                    window.PLOTLYENV=window.PLOTLYENV || {};                                    if (document.getElementById(\"33301f0b-f740-4527-8307-f5c1ea11cbff\")) {                    Plotly.newPlot(                        \"33301f0b-f740-4527-8307-f5c1ea11cbff\",                        [{\"hovertemplate\":\"Age=%{x}\\u003cbr\\u003eTime on Site=%{y}\\u003cextra\\u003e\\u003c\\u002fextra\\u003e\",\"legendgroup\":\"\",\"marker\":{\"color\":\"#636efa\",\"symbol\":\"circle\"},\"mode\":\"markers\",\"name\":\"\",\"orientation\":\"v\",\"showlegend\":false,\"x\":[25,28,28,45,34,56,29,42,51,36,48,25,45,32,60,28,55,38,42,50,35,48,30,65,24,35,45,28,52,31,48,60,55,29,58,36,42,50,32,35,42,32,28,42,35,52,24,34,45,29],\"xaxis\":\"x\",\"y\":[32.5,123.45,125.6,327.6,214.9,486.3,378.5,289.8,456.2,334.9,298.6,312.5,120.0,75.0,200.0,150.0,300.0,250.0,180.0,280.0,220.0,200.0,160.0,240.0,120.5,120.0,300.0,250.0,350.0,200.0,400.0,300.0,450.0,250.0,350.0,200.0,300.0,250.0,72.3,123.6,246.9,75.2,120.5,250.0,75.0,300.0,100.0,120.0,350.0,200.0],\"yaxis\":\"y\",\"type\":\"scatter\"}],                        {\"template\":{\"data\":{\"histogram2dcontour\":[{\"type\":\"histogram2dcontour\",\"colorbar\":{\"outlinewidth\":0,\"ticks\":\"\"},\"colorscale\":[[0.0,\"#0d0887\"],[0.1111111111111111,\"#46039f\"],[0.2222222222222222,\"#7201a8\"],[0.3333333333333333,\"#9c179e\"],[0.4444444444444444,\"#bd3786\"],[0.5555555555555556,\"#d8576b\"],[0.6666666666666666,\"#ed7953\"],[0.7777777777777778,\"#fb9f3a\"],[0.8888888888888888,\"#fdca26\"],[1.0,\"#f0f921\"]]}],\"choropleth\":[{\"type\":\"choropleth\",\"colorbar\":{\"outlinewidth\":0,\"ticks\":\"\"}}],\"histogram2d\":[{\"type\":\"histogram2d\",\"colorbar\":{\"outlinewidth\":0,\"ticks\":\"\"},\"colorscale\":[[0.0,\"#0d0887\"],[0.1111111111111111,\"#46039f\"],[0.2222222222222222,\"#7201a8\"],[0.3333333333333333,\"#9c179e\"],[0.4444444444444444,\"#bd3786\"],[0.5555555555555556,\"#d8576b\"],[0.6666666666666666,\"#ed7953\"],[0.7777777777777778,\"#fb9f3a\"],[0.8888888888888888,\"#fdca26\"],[1.0,\"#f0f921\"]]}],\"heatmap\":[{\"type\":\"heatmap\",\"colorbar\":{\"outlinewidth\":0,\"ticks\":\"\"},\"colorscale\":[[0.0,\"#0d0887\"],[0.1111111111111111,\"#46039f\"],[0.2222222222222222,\"#7201a8\"],[0.3333333333333333,\"#9c179e\"],[0.4444444444444444,\"#bd3786\"],[0.5555555555555556,\"#d8576b\"],[0.6666666666666666,\"#ed7953\"],[0.7777777777777778,\"#fb9f3a\"],[0.8888888888888888,\"#fdca26\"],[1.0,\"#f0f921\"]]}],\"heatmapgl\":[{\"type\":\"heatmapgl\",\"colorbar\":{\"outlinewidth\":0,\"ticks\":\"\"},\"colorscale\":[[0.0,\"#0d0887\"],[0.1111111111111111,\"#46039f\"],[0.2222222222222222,\"#7201a8\"],[0.3333333333333333,\"#9c179e\"],[0.4444444444444444,\"#bd3786\"],[0.5555555555555556,\"#d8576b\"],[0.6666666666666666,\"#ed7953\"],[0.7777777777777778,\"#fb9f3a\"],[0.8888888888888888,\"#fdca26\"],[1.0,\"#f0f921\"]]}],\"contourcarpet\":[{\"type\":\"contourcarpet\",\"colorbar\":{\"outlinewidth\":0,\"ticks\":\"\"}}],\"contour\":[{\"type\":\"contour\",\"colorbar\":{\"outlinewidth\":0,\"ticks\":\"\"},\"colorscale\":[[0.0,\"#0d0887\"],[0.1111111111111111,\"#46039f\"],[0.2222222222222222,\"#7201a8\"],[0.3333333333333333,\"#9c179e\"],[0.4444444444444444,\"#bd3786\"],[0.5555555555555556,\"#d8576b\"],[0.6666666666666666,\"#ed7953\"],[0.7777777777777778,\"#fb9f3a\"],[0.8888888888888888,\"#fdca26\"],[1.0,\"#f0f921\"]]}],\"surface\":[{\"type\":\"surface\",\"colorbar\":{\"outlinewidth\":0,\"ticks\":\"\"},\"colorscale\":[[0.0,\"#0d0887\"],[0.1111111111111111,\"#46039f\"],[0.2222222222222222,\"#7201a8\"],[0.3333333333333333,\"#9c179e\"],[0.4444444444444444,\"#bd3786\"],[0.5555555555555556,\"#d8576b\"],[0.6666666666666666,\"#ed7953\"],[0.7777777777777778,\"#fb9f3a\"],[0.8888888888888888,\"#fdca26\"],[1.0,\"#f0f921\"]]}],\"mesh3d\":[{\"type\":\"mesh3d\",\"colorbar\":{\"outlinewidth\":0,\"ticks\":\"\"}}],\"scatter\":[{\"fillpattern\":{\"fillmode\":\"overlay\",\"size\":10,\"solidity\":0.2},\"type\":\"scatter\"}],\"parcoords\":[{\"type\":\"parcoords\",\"line\":{\"colorbar\":{\"outlinewidth\":0,\"ticks\":\"\"}}}],\"scatterpolargl\":[{\"type\":\"scatterpolargl\",\"marker\":{\"colorbar\":{\"outlinewidth\":0,\"ticks\":\"\"}}}],\"bar\":[{\"error_x\":{\"color\":\"#2a3f5f\"},\"error_y\":{\"color\":\"#2a3f5f\"},\"marker\":{\"line\":{\"color\":\"#E5ECF6\",\"width\":0.5},\"pattern\":{\"fillmode\":\"overlay\",\"size\":10,\"solidity\":0.2}},\"type\":\"bar\"}],\"scattergeo\":[{\"type\":\"scattergeo\",\"marker\":{\"colorbar\":{\"outlinewidth\":0,\"ticks\":\"\"}}}],\"scatterpolar\":[{\"type\":\"scatterpolar\",\"marker\":{\"colorbar\":{\"outlinewidth\":0,\"ticks\":\"\"}}}],\"histogram\":[{\"marker\":{\"pattern\":{\"fillmode\":\"overlay\",\"size\":10,\"solidity\":0.2}},\"type\":\"histogram\"}],\"scattergl\":[{\"type\":\"scattergl\",\"marker\":{\"colorbar\":{\"outlinewidth\":0,\"ticks\":\"\"}}}],\"scatter3d\":[{\"type\":\"scatter3d\",\"line\":{\"colorbar\":{\"outlinewidth\":0,\"ticks\":\"\"}},\"marker\":{\"colorbar\":{\"outlinewidth\":0,\"ticks\":\"\"}}}],\"scattermapbox\":[{\"type\":\"scattermapbox\",\"marker\":{\"colorbar\":{\"outlinewidth\":0,\"ticks\":\"\"}}}],\"scatterternary\":[{\"type\":\"scatterternary\",\"marker\":{\"colorbar\":{\"outlinewidth\":0,\"ticks\":\"\"}}}],\"scattercarpet\":[{\"type\":\"scattercarpet\",\"marker\":{\"colorbar\":{\"outlinewidth\":0,\"ticks\":\"\"}}}],\"carpet\":[{\"aaxis\":{\"endlinecolor\":\"#2a3f5f\",\"gridcolor\":\"white\",\"linecolor\":\"white\",\"minorgridcolor\":\"white\",\"startlinecolor\":\"#2a3f5f\"},\"baxis\":{\"endlinecolor\":\"#2a3f5f\",\"gridcolor\":\"white\",\"linecolor\":\"white\",\"minorgridcolor\":\"white\",\"startlinecolor\":\"#2a3f5f\"},\"type\":\"carpet\"}],\"table\":[{\"cells\":{\"fill\":{\"color\":\"#EBF0F8\"},\"line\":{\"color\":\"white\"}},\"header\":{\"fill\":{\"color\":\"#C8D4E3\"},\"line\":{\"color\":\"white\"}},\"type\":\"table\"}],\"barpolar\":[{\"marker\":{\"line\":{\"color\":\"#E5ECF6\",\"width\":0.5},\"pattern\":{\"fillmode\":\"overlay\",\"size\":10,\"solidity\":0.2}},\"type\":\"barpolar\"}],\"pie\":[{\"automargin\":true,\"type\":\"pie\"}]},\"layout\":{\"autotypenumbers\":\"strict\",\"colorway\":[\"#636efa\",\"#EF553B\",\"#00cc96\",\"#ab63fa\",\"#FFA15A\",\"#19d3f3\",\"#FF6692\",\"#B6E880\",\"#FF97FF\",\"#FECB52\"],\"font\":{\"color\":\"#2a3f5f\"},\"hovermode\":\"closest\",\"hoverlabel\":{\"align\":\"left\"},\"paper_bgcolor\":\"white\",\"plot_bgcolor\":\"#E5ECF6\",\"polar\":{\"bgcolor\":\"#E5ECF6\",\"angularaxis\":{\"gridcolor\":\"white\",\"linecolor\":\"white\",\"ticks\":\"\"},\"radialaxis\":{\"gridcolor\":\"white\",\"linecolor\":\"white\",\"ticks\":\"\"}},\"ternary\":{\"bgcolor\":\"#E5ECF6\",\"aaxis\":{\"gridcolor\":\"white\",\"linecolor\":\"white\",\"ticks\":\"\"},\"baxis\":{\"gridcolor\":\"white\",\"linecolor\":\"white\",\"ticks\":\"\"},\"caxis\":{\"gridcolor\":\"white\",\"linecolor\":\"white\",\"ticks\":\"\"}},\"coloraxis\":{\"colorbar\":{\"outlinewidth\":0,\"ticks\":\"\"}},\"colorscale\":{\"sequential\":[[0.0,\"#0d0887\"],[0.1111111111111111,\"#46039f\"],[0.2222222222222222,\"#7201a8\"],[0.3333333333333333,\"#9c179e\"],[0.4444444444444444,\"#bd3786\"],[0.5555555555555556,\"#d8576b\"],[0.6666666666666666,\"#ed7953\"],[0.7777777777777778,\"#fb9f3a\"],[0.8888888888888888,\"#fdca26\"],[1.0,\"#f0f921\"]],\"sequentialminus\":[[0.0,\"#0d0887\"],[0.1111111111111111,\"#46039f\"],[0.2222222222222222,\"#7201a8\"],[0.3333333333333333,\"#9c179e\"],[0.4444444444444444,\"#bd3786\"],[0.5555555555555556,\"#d8576b\"],[0.6666666666666666,\"#ed7953\"],[0.7777777777777778,\"#fb9f3a\"],[0.8888888888888888,\"#fdca26\"],[1.0,\"#f0f921\"]],\"diverging\":[[0,\"#8e0152\"],[0.1,\"#c51b7d\"],[0.2,\"#de77ae\"],[0.3,\"#f1b6da\"],[0.4,\"#fde0ef\"],[0.5,\"#f7f7f7\"],[0.6,\"#e6f5d0\"],[0.7,\"#b8e186\"],[0.8,\"#7fbc41\"],[0.9,\"#4d9221\"],[1,\"#276419\"]]},\"xaxis\":{\"gridcolor\":\"white\",\"linecolor\":\"white\",\"ticks\":\"\",\"title\":{\"standoff\":15},\"zerolinecolor\":\"white\",\"automargin\":true,\"zerolinewidth\":2},\"yaxis\":{\"gridcolor\":\"white\",\"linecolor\":\"white\",\"ticks\":\"\",\"title\":{\"standoff\":15},\"zerolinecolor\":\"white\",\"automargin\":true,\"zerolinewidth\":2},\"scene\":{\"xaxis\":{\"backgroundcolor\":\"#E5ECF6\",\"gridcolor\":\"white\",\"linecolor\":\"white\",\"showbackground\":true,\"ticks\":\"\",\"zerolinecolor\":\"white\",\"gridwidth\":2},\"yaxis\":{\"backgroundcolor\":\"#E5ECF6\",\"gridcolor\":\"white\",\"linecolor\":\"white\",\"showbackground\":true,\"ticks\":\"\",\"zerolinecolor\":\"white\",\"gridwidth\":2},\"zaxis\":{\"backgroundcolor\":\"#E5ECF6\",\"gridcolor\":\"white\",\"linecolor\":\"white\",\"showbackground\":true,\"ticks\":\"\",\"zerolinecolor\":\"white\",\"gridwidth\":2}},\"shapedefaults\":{\"line\":{\"color\":\"#2a3f5f\"}},\"annotationdefaults\":{\"arrowcolor\":\"#2a3f5f\",\"arrowhead\":0,\"arrowwidth\":1},\"geo\":{\"bgcolor\":\"white\",\"landcolor\":\"#E5ECF6\",\"subunitcolor\":\"white\",\"showland\":true,\"showlakes\":true,\"lakecolor\":\"white\"},\"title\":{\"x\":0.05},\"mapbox\":{\"style\":\"light\"}}},\"xaxis\":{\"anchor\":\"y\",\"domain\":[0.0,1.0],\"title\":{\"text\":\"Age\"}},\"yaxis\":{\"anchor\":\"x\",\"domain\":[0.0,1.0],\"title\":{\"text\":\"Time on Site\"}},\"legend\":{\"tracegroupgap\":0},\"title\":{\"text\":\"Time on Site vs Age\"}},                        {\"responsive\": true}                    ).then(function(){\n",
              "                            \n",
              "var gd = document.getElementById('33301f0b-f740-4527-8307-f5c1ea11cbff');\n",
              "var x = new MutationObserver(function (mutations, observer) {{\n",
              "        var display = window.getComputedStyle(gd).display;\n",
              "        if (!display || display === 'none') {{\n",
              "            console.log([gd, 'removed!']);\n",
              "            Plotly.purge(gd);\n",
              "            observer.disconnect();\n",
              "        }}\n",
              "}});\n",
              "\n",
              "// Listen for the removal of the full notebook cells\n",
              "var notebookContainer = gd.closest('#notebook-container');\n",
              "if (notebookContainer) {{\n",
              "    x.observe(notebookContainer, {childList: true});\n",
              "}}\n",
              "\n",
              "// Listen for the clearing of the current output cell\n",
              "var outputEl = gd.closest('.output');\n",
              "if (outputEl) {{\n",
              "    x.observe(outputEl, {childList: true});\n",
              "}}\n",
              "\n",
              "                        })                };                            </script>        </div>\n",
              "</body>\n",
              "</html>"
            ]
          },
          "metadata": {}
        }
      ]
    },
    {
      "cell_type": "markdown",
      "source": [
        "**What is the distribution of product reviews?**"
      ],
      "metadata": {
        "id": "pJocLl4Iiy2Z"
      }
    },
    {
      "cell_type": "code",
      "source": [
        "fig = px.histogram(df_no_outliers, x='Product Reviews', nbins=15, title='Distribution of Product Reviews', height=1300)\n",
        "fig.show()"
      ],
      "metadata": {
        "execution": {
          "iopub.status.busy": "2024-09-19T09:54:00.772021Z",
          "iopub.execute_input": "2024-09-19T09:54:00.772514Z",
          "iopub.status.idle": "2024-09-19T09:54:00.850432Z",
          "shell.execute_reply.started": "2024-09-19T09:54:00.772456Z",
          "shell.execute_reply": "2024-09-19T09:54:00.849205Z"
        },
        "trusted": true,
        "id": "a8QskGLsiy2a",
        "outputId": "9433d4ba-7718-48df-a0d4-90b576d09b13",
        "colab": {
          "base_uri": "https://localhost:8080/",
          "height": 1000
        }
      },
      "execution_count": 18,
      "outputs": [
        {
          "output_type": "display_data",
          "data": {
            "text/html": [
              "<html>\n",
              "<head><meta charset=\"utf-8\" /></head>\n",
              "<body>\n",
              "    <div>            <script src=\"https://cdnjs.cloudflare.com/ajax/libs/mathjax/2.7.5/MathJax.js?config=TeX-AMS-MML_SVG\"></script><script type=\"text/javascript\">if (window.MathJax && window.MathJax.Hub && window.MathJax.Hub.Config) {window.MathJax.Hub.Config({SVG: {font: \"STIX-Web\"}});}</script>                <script type=\"text/javascript\">window.PlotlyConfig = {MathJaxConfig: 'local'};</script>\n",
              "        <script charset=\"utf-8\" src=\"https://cdn.plot.ly/plotly-2.35.2.min.js\"></script>                <div id=\"f97479c1-1985-43b3-9459-83df5f5ad1ed\" class=\"plotly-graph-div\" style=\"height:1300px; width:100%;\"></div>            <script type=\"text/javascript\">                                    window.PLOTLYENV=window.PLOTLYENV || {};                                    if (document.getElementById(\"f97479c1-1985-43b3-9459-83df5f5ad1ed\")) {                    Plotly.newPlot(                        \"f97479c1-1985-43b3-9459-83df5f5ad1ed\",                        [{\"alignmentgroup\":\"True\",\"bingroup\":\"x\",\"hovertemplate\":\"Product Reviews=%{x}\\u003cbr\\u003ecount=%{y}\\u003cextra\\u003e\\u003c\\u002fextra\\u003e\",\"legendgroup\":\"\",\"marker\":{\"color\":\"#636efa\",\"pattern\":{\"shape\":\"\"}},\"name\":\"\",\"nbinsx\":15,\"offsetgroup\":\"\",\"orientation\":\"v\",\"showlegend\":false,\"x\":[\"Great pair of jeans, very comfortable. Rating: 4 stars.\",\"Great customer service!\",\"Great electronics. The sound quality is excellent. I would highly recommend this product.\",\"{\\\"Product 1\\\": {\\\"Rating\\\": 4, \\\"Review\\\": \\\"Great experience buying this product. Fast delivery and excellent customer service.\\\"}}\",\"{\\\"Product 1\\\": {\\\"Rating\\\": 3, \\\"Review\\\": \\\"Good product, but could have been better.\\\"}}\",\"{\\\"Product 1\\\": {\\\"Rating\\\": 5, \\\"Review\\\": \\\"Awesome product, highly recommend it to everyone.\\\"}}\",\"{\\\"Product 1\\\": {\\\"Rating\\\": 4, \\\"Review\\\": \\\"Great product, will definitely buy again.\\\"}}\",\"{\\\"Product 1\\\": {\\\"Rating\\\": 3, \\\"Review\\\": \\\"Good product, but not worth the price.\\\"}}\",\"{\\\"Product 1\\\": {\\\"Rating\\\": 5, \\\"Review\\\": \\\"Outstanding product, exceeded my expectations.\\\"}}\",\"{\\\"Product 1\\\": {\\\"Rating\\\": 4, \\\"Review\\\": \\\"Good product, but could have been better.\\\"}}\",\"{\\\"Product 1\\\": {\\\"Rating\\\": 3, \\\"Review\\\": \\\"Good product, but not what I expected.\\\"}}\",\"{\\\"Product 1\\\": {\\\"Rating\\\": 4, \\\"Review\\\": \\\"Great product, will definitely buy again.\\\"}}\",\"{\\\"Review Text\\\": \\\"Great quality clothes!\\\", \\\"Rating\\\": 5}\",\"{\\\"Review Text\\\": \\\"Good product, but could be cheaper.\\\", \\\"Rating\\\": 3}\",\"{\\\"Review Text\\\": \\\"Very satisfied with my purchase!\\\", \\\"Rating\\\": 5}\",\"{\\\"Review Text\\\": \\\"Not what I expected.\\\", \\\"Rating\\\": 2}\",\"{\\\"Review Text\\\": \\\"Excellent product, highly recommend!\\\", \\\"Rating\\\": 5}\",\"{\\\"Review Text\\\": \\\"Awesome purchase!\\\", \\\"Rating\\\": 5}\",\"{\\\"Review Text\\\": \\\"Good product, but not worth the price.\\\", \\\"Rating\\\": 3}\",\"{\\\"Review Text\\\": \\\"Great product, highly recommend!\\\", \\\"Rating\\\": 5}\",\"{\\\"Review Text\\\": \\\"Satisfied with my purchase!\\\", \\\"Rating\\\": 4}\",\"{\\\"Review Text\\\": \\\"Excellent product, highly recommend!\\\", \\\"Rating\\\": 5}\",\"{\\\"Review Text\\\": \\\"Good product, but could be better.\\\", \\\"Rating\\\": 3}\",\"{\\\"Review Text\\\": \\\"Excellent product, highly recommend!\\\", \\\"Rating\\\": 5}\",\"This dress is amazing! I love the color and fit. 5 stars.\",\"The blouse is so comfortable and stylish. 5 stars!\",\"The headphones are great. Sound quality is excellent. 4.5 stars.\",\"The dress fits perfectly. I love it. 5 stars!\",\"The vacuum cleaner works great. 4 stars.\",\"The top is nice, but the size is a bit small. 3.5 stars.\",\"The phone is fantastic. 5 stars!\",\"The shirt is comfortable. 4 stars.\",\"The laptop is excellent. 5 stars!\",\"The shoes are comfortable. 4.5 stars.\",\"The coffee maker is great. 5 stars!\",\"The skirt is lovely. 4.5 stars.\",\"The TV is amazing. 5 stars!\",\"The bedding is comfortable. 4 stars.\",\"Great find! 5 stars\",\"Great product, very happy with my purchase.\",\"The product arrived quickly and in great condition.\",\"Great headphones, sound quality is amazing.\",\"Great purchase! The shoes are so comfortable and stylish. I've received several compliments.\",\"I'm really happy with my new phone. The battery life is impressive.\",\"The headphones are amazing! The sound quality is excellent.\",\"I love my new kitchen gadget! It's so efficient and easy to use.\",\"The laptop is perfect for my needs. It's lightweight and powerful.\",\"The clothing arrived quickly and fits great! 5 stars.\",\"The electronics were excellent quality and arrived promptly. 5 stars.\",\"The electronics were as described and arrived on time. 4 stars.\"],\"xaxis\":\"x\",\"yaxis\":\"y\",\"type\":\"histogram\"}],                        {\"template\":{\"data\":{\"histogram2dcontour\":[{\"type\":\"histogram2dcontour\",\"colorbar\":{\"outlinewidth\":0,\"ticks\":\"\"},\"colorscale\":[[0.0,\"#0d0887\"],[0.1111111111111111,\"#46039f\"],[0.2222222222222222,\"#7201a8\"],[0.3333333333333333,\"#9c179e\"],[0.4444444444444444,\"#bd3786\"],[0.5555555555555556,\"#d8576b\"],[0.6666666666666666,\"#ed7953\"],[0.7777777777777778,\"#fb9f3a\"],[0.8888888888888888,\"#fdca26\"],[1.0,\"#f0f921\"]]}],\"choropleth\":[{\"type\":\"choropleth\",\"colorbar\":{\"outlinewidth\":0,\"ticks\":\"\"}}],\"histogram2d\":[{\"type\":\"histogram2d\",\"colorbar\":{\"outlinewidth\":0,\"ticks\":\"\"},\"colorscale\":[[0.0,\"#0d0887\"],[0.1111111111111111,\"#46039f\"],[0.2222222222222222,\"#7201a8\"],[0.3333333333333333,\"#9c179e\"],[0.4444444444444444,\"#bd3786\"],[0.5555555555555556,\"#d8576b\"],[0.6666666666666666,\"#ed7953\"],[0.7777777777777778,\"#fb9f3a\"],[0.8888888888888888,\"#fdca26\"],[1.0,\"#f0f921\"]]}],\"heatmap\":[{\"type\":\"heatmap\",\"colorbar\":{\"outlinewidth\":0,\"ticks\":\"\"},\"colorscale\":[[0.0,\"#0d0887\"],[0.1111111111111111,\"#46039f\"],[0.2222222222222222,\"#7201a8\"],[0.3333333333333333,\"#9c179e\"],[0.4444444444444444,\"#bd3786\"],[0.5555555555555556,\"#d8576b\"],[0.6666666666666666,\"#ed7953\"],[0.7777777777777778,\"#fb9f3a\"],[0.8888888888888888,\"#fdca26\"],[1.0,\"#f0f921\"]]}],\"heatmapgl\":[{\"type\":\"heatmapgl\",\"colorbar\":{\"outlinewidth\":0,\"ticks\":\"\"},\"colorscale\":[[0.0,\"#0d0887\"],[0.1111111111111111,\"#46039f\"],[0.2222222222222222,\"#7201a8\"],[0.3333333333333333,\"#9c179e\"],[0.4444444444444444,\"#bd3786\"],[0.5555555555555556,\"#d8576b\"],[0.6666666666666666,\"#ed7953\"],[0.7777777777777778,\"#fb9f3a\"],[0.8888888888888888,\"#fdca26\"],[1.0,\"#f0f921\"]]}],\"contourcarpet\":[{\"type\":\"contourcarpet\",\"colorbar\":{\"outlinewidth\":0,\"ticks\":\"\"}}],\"contour\":[{\"type\":\"contour\",\"colorbar\":{\"outlinewidth\":0,\"ticks\":\"\"},\"colorscale\":[[0.0,\"#0d0887\"],[0.1111111111111111,\"#46039f\"],[0.2222222222222222,\"#7201a8\"],[0.3333333333333333,\"#9c179e\"],[0.4444444444444444,\"#bd3786\"],[0.5555555555555556,\"#d8576b\"],[0.6666666666666666,\"#ed7953\"],[0.7777777777777778,\"#fb9f3a\"],[0.8888888888888888,\"#fdca26\"],[1.0,\"#f0f921\"]]}],\"surface\":[{\"type\":\"surface\",\"colorbar\":{\"outlinewidth\":0,\"ticks\":\"\"},\"colorscale\":[[0.0,\"#0d0887\"],[0.1111111111111111,\"#46039f\"],[0.2222222222222222,\"#7201a8\"],[0.3333333333333333,\"#9c179e\"],[0.4444444444444444,\"#bd3786\"],[0.5555555555555556,\"#d8576b\"],[0.6666666666666666,\"#ed7953\"],[0.7777777777777778,\"#fb9f3a\"],[0.8888888888888888,\"#fdca26\"],[1.0,\"#f0f921\"]]}],\"mesh3d\":[{\"type\":\"mesh3d\",\"colorbar\":{\"outlinewidth\":0,\"ticks\":\"\"}}],\"scatter\":[{\"fillpattern\":{\"fillmode\":\"overlay\",\"size\":10,\"solidity\":0.2},\"type\":\"scatter\"}],\"parcoords\":[{\"type\":\"parcoords\",\"line\":{\"colorbar\":{\"outlinewidth\":0,\"ticks\":\"\"}}}],\"scatterpolargl\":[{\"type\":\"scatterpolargl\",\"marker\":{\"colorbar\":{\"outlinewidth\":0,\"ticks\":\"\"}}}],\"bar\":[{\"error_x\":{\"color\":\"#2a3f5f\"},\"error_y\":{\"color\":\"#2a3f5f\"},\"marker\":{\"line\":{\"color\":\"#E5ECF6\",\"width\":0.5},\"pattern\":{\"fillmode\":\"overlay\",\"size\":10,\"solidity\":0.2}},\"type\":\"bar\"}],\"scattergeo\":[{\"type\":\"scattergeo\",\"marker\":{\"colorbar\":{\"outlinewidth\":0,\"ticks\":\"\"}}}],\"scatterpolar\":[{\"type\":\"scatterpolar\",\"marker\":{\"colorbar\":{\"outlinewidth\":0,\"ticks\":\"\"}}}],\"histogram\":[{\"marker\":{\"pattern\":{\"fillmode\":\"overlay\",\"size\":10,\"solidity\":0.2}},\"type\":\"histogram\"}],\"scattergl\":[{\"type\":\"scattergl\",\"marker\":{\"colorbar\":{\"outlinewidth\":0,\"ticks\":\"\"}}}],\"scatter3d\":[{\"type\":\"scatter3d\",\"line\":{\"colorbar\":{\"outlinewidth\":0,\"ticks\":\"\"}},\"marker\":{\"colorbar\":{\"outlinewidth\":0,\"ticks\":\"\"}}}],\"scattermapbox\":[{\"type\":\"scattermapbox\",\"marker\":{\"colorbar\":{\"outlinewidth\":0,\"ticks\":\"\"}}}],\"scatterternary\":[{\"type\":\"scatterternary\",\"marker\":{\"colorbar\":{\"outlinewidth\":0,\"ticks\":\"\"}}}],\"scattercarpet\":[{\"type\":\"scattercarpet\",\"marker\":{\"colorbar\":{\"outlinewidth\":0,\"ticks\":\"\"}}}],\"carpet\":[{\"aaxis\":{\"endlinecolor\":\"#2a3f5f\",\"gridcolor\":\"white\",\"linecolor\":\"white\",\"minorgridcolor\":\"white\",\"startlinecolor\":\"#2a3f5f\"},\"baxis\":{\"endlinecolor\":\"#2a3f5f\",\"gridcolor\":\"white\",\"linecolor\":\"white\",\"minorgridcolor\":\"white\",\"startlinecolor\":\"#2a3f5f\"},\"type\":\"carpet\"}],\"table\":[{\"cells\":{\"fill\":{\"color\":\"#EBF0F8\"},\"line\":{\"color\":\"white\"}},\"header\":{\"fill\":{\"color\":\"#C8D4E3\"},\"line\":{\"color\":\"white\"}},\"type\":\"table\"}],\"barpolar\":[{\"marker\":{\"line\":{\"color\":\"#E5ECF6\",\"width\":0.5},\"pattern\":{\"fillmode\":\"overlay\",\"size\":10,\"solidity\":0.2}},\"type\":\"barpolar\"}],\"pie\":[{\"automargin\":true,\"type\":\"pie\"}]},\"layout\":{\"autotypenumbers\":\"strict\",\"colorway\":[\"#636efa\",\"#EF553B\",\"#00cc96\",\"#ab63fa\",\"#FFA15A\",\"#19d3f3\",\"#FF6692\",\"#B6E880\",\"#FF97FF\",\"#FECB52\"],\"font\":{\"color\":\"#2a3f5f\"},\"hovermode\":\"closest\",\"hoverlabel\":{\"align\":\"left\"},\"paper_bgcolor\":\"white\",\"plot_bgcolor\":\"#E5ECF6\",\"polar\":{\"bgcolor\":\"#E5ECF6\",\"angularaxis\":{\"gridcolor\":\"white\",\"linecolor\":\"white\",\"ticks\":\"\"},\"radialaxis\":{\"gridcolor\":\"white\",\"linecolor\":\"white\",\"ticks\":\"\"}},\"ternary\":{\"bgcolor\":\"#E5ECF6\",\"aaxis\":{\"gridcolor\":\"white\",\"linecolor\":\"white\",\"ticks\":\"\"},\"baxis\":{\"gridcolor\":\"white\",\"linecolor\":\"white\",\"ticks\":\"\"},\"caxis\":{\"gridcolor\":\"white\",\"linecolor\":\"white\",\"ticks\":\"\"}},\"coloraxis\":{\"colorbar\":{\"outlinewidth\":0,\"ticks\":\"\"}},\"colorscale\":{\"sequential\":[[0.0,\"#0d0887\"],[0.1111111111111111,\"#46039f\"],[0.2222222222222222,\"#7201a8\"],[0.3333333333333333,\"#9c179e\"],[0.4444444444444444,\"#bd3786\"],[0.5555555555555556,\"#d8576b\"],[0.6666666666666666,\"#ed7953\"],[0.7777777777777778,\"#fb9f3a\"],[0.8888888888888888,\"#fdca26\"],[1.0,\"#f0f921\"]],\"sequentialminus\":[[0.0,\"#0d0887\"],[0.1111111111111111,\"#46039f\"],[0.2222222222222222,\"#7201a8\"],[0.3333333333333333,\"#9c179e\"],[0.4444444444444444,\"#bd3786\"],[0.5555555555555556,\"#d8576b\"],[0.6666666666666666,\"#ed7953\"],[0.7777777777777778,\"#fb9f3a\"],[0.8888888888888888,\"#fdca26\"],[1.0,\"#f0f921\"]],\"diverging\":[[0,\"#8e0152\"],[0.1,\"#c51b7d\"],[0.2,\"#de77ae\"],[0.3,\"#f1b6da\"],[0.4,\"#fde0ef\"],[0.5,\"#f7f7f7\"],[0.6,\"#e6f5d0\"],[0.7,\"#b8e186\"],[0.8,\"#7fbc41\"],[0.9,\"#4d9221\"],[1,\"#276419\"]]},\"xaxis\":{\"gridcolor\":\"white\",\"linecolor\":\"white\",\"ticks\":\"\",\"title\":{\"standoff\":15},\"zerolinecolor\":\"white\",\"automargin\":true,\"zerolinewidth\":2},\"yaxis\":{\"gridcolor\":\"white\",\"linecolor\":\"white\",\"ticks\":\"\",\"title\":{\"standoff\":15},\"zerolinecolor\":\"white\",\"automargin\":true,\"zerolinewidth\":2},\"scene\":{\"xaxis\":{\"backgroundcolor\":\"#E5ECF6\",\"gridcolor\":\"white\",\"linecolor\":\"white\",\"showbackground\":true,\"ticks\":\"\",\"zerolinecolor\":\"white\",\"gridwidth\":2},\"yaxis\":{\"backgroundcolor\":\"#E5ECF6\",\"gridcolor\":\"white\",\"linecolor\":\"white\",\"showbackground\":true,\"ticks\":\"\",\"zerolinecolor\":\"white\",\"gridwidth\":2},\"zaxis\":{\"backgroundcolor\":\"#E5ECF6\",\"gridcolor\":\"white\",\"linecolor\":\"white\",\"showbackground\":true,\"ticks\":\"\",\"zerolinecolor\":\"white\",\"gridwidth\":2}},\"shapedefaults\":{\"line\":{\"color\":\"#2a3f5f\"}},\"annotationdefaults\":{\"arrowcolor\":\"#2a3f5f\",\"arrowhead\":0,\"arrowwidth\":1},\"geo\":{\"bgcolor\":\"white\",\"landcolor\":\"#E5ECF6\",\"subunitcolor\":\"white\",\"showland\":true,\"showlakes\":true,\"lakecolor\":\"white\"},\"title\":{\"x\":0.05},\"mapbox\":{\"style\":\"light\"}}},\"xaxis\":{\"anchor\":\"y\",\"domain\":[0.0,1.0],\"title\":{\"text\":\"Product Reviews\"}},\"yaxis\":{\"anchor\":\"x\",\"domain\":[0.0,1.0],\"title\":{\"text\":\"count\"}},\"legend\":{\"tracegroupgap\":0},\"title\":{\"text\":\"Distribution of Product Reviews\"},\"barmode\":\"relative\",\"height\":1300},                        {\"responsive\": true}                    ).then(function(){\n",
              "                            \n",
              "var gd = document.getElementById('f97479c1-1985-43b3-9459-83df5f5ad1ed');\n",
              "var x = new MutationObserver(function (mutations, observer) {{\n",
              "        var display = window.getComputedStyle(gd).display;\n",
              "        if (!display || display === 'none') {{\n",
              "            console.log([gd, 'removed!']);\n",
              "            Plotly.purge(gd);\n",
              "            observer.disconnect();\n",
              "        }}\n",
              "}});\n",
              "\n",
              "// Listen for the removal of the full notebook cells\n",
              "var notebookContainer = gd.closest('#notebook-container');\n",
              "if (notebookContainer) {{\n",
              "    x.observe(notebookContainer, {childList: true});\n",
              "}}\n",
              "\n",
              "// Listen for the clearing of the current output cell\n",
              "var outputEl = gd.closest('.output');\n",
              "if (outputEl) {{\n",
              "    x.observe(outputEl, {childList: true});\n",
              "}}\n",
              "\n",
              "                        })                };                            </script>        </div>\n",
              "</body>\n",
              "</html>"
            ]
          },
          "metadata": {}
        }
      ]
    },
    {
      "cell_type": "markdown",
      "source": [
        "**How do product reviews affect purchase history?**"
      ],
      "metadata": {
        "id": "fiQJrOuMiy2a"
      }
    },
    {
      "cell_type": "code",
      "source": [
        "fig = px.density_heatmap(df_no_outliers, x='Product Reviews', y='Purchase History',\n",
        "                         title='Relationship between Product Reviews and Purchase History', width=2500, height=1500)\n",
        "fig.show()"
      ],
      "metadata": {
        "execution": {
          "iopub.status.busy": "2024-09-19T09:54:00.854099Z",
          "iopub.execute_input": "2024-09-19T09:54:00.854667Z",
          "iopub.status.idle": "2024-09-19T09:54:01.072032Z",
          "shell.execute_reply.started": "2024-09-19T09:54:00.854614Z",
          "shell.execute_reply": "2024-09-19T09:54:01.070723Z"
        },
        "trusted": true,
        "id": "kt-Az-54iy2b",
        "outputId": "68d063ea-6cad-4b05-cf37-97ecc065f9dd",
        "colab": {
          "base_uri": "https://localhost:8080/",
          "height": 1000
        }
      },
      "execution_count": 19,
      "outputs": [
        {
          "output_type": "display_data",
          "data": {
            "text/html": [
              "<html>\n",
              "<head><meta charset=\"utf-8\" /></head>\n",
              "<body>\n",
              "    <div>            <script src=\"https://cdnjs.cloudflare.com/ajax/libs/mathjax/2.7.5/MathJax.js?config=TeX-AMS-MML_SVG\"></script><script type=\"text/javascript\">if (window.MathJax && window.MathJax.Hub && window.MathJax.Hub.Config) {window.MathJax.Hub.Config({SVG: {font: \"STIX-Web\"}});}</script>                <script type=\"text/javascript\">window.PlotlyConfig = {MathJaxConfig: 'local'};</script>\n",
              "        <script charset=\"utf-8\" src=\"https://cdn.plot.ly/plotly-2.35.2.min.js\"></script>                <div id=\"9fc417be-19e2-4e97-b1e5-3679021562eb\" class=\"plotly-graph-div\" style=\"height:1500px; width:2500px;\"></div>            <script type=\"text/javascript\">                                    window.PLOTLYENV=window.PLOTLYENV || {};                                    if (document.getElementById(\"9fc417be-19e2-4e97-b1e5-3679021562eb\")) {                    Plotly.newPlot(                        \"9fc417be-19e2-4e97-b1e5-3679021562eb\",                        [{\"coloraxis\":\"coloraxis\",\"hovertemplate\":\"Product Reviews=%{x}\\u003cbr\\u003ePurchase History=%{y}\\u003cbr\\u003ecount=%{z}\\u003cextra\\u003e\\u003c\\u002fextra\\u003e\",\"name\":\"\",\"x\":[\"Great pair of jeans, very comfortable. Rating: 4 stars.\",\"Great customer service!\",\"Great electronics. The sound quality is excellent. I would highly recommend this product.\",\"{\\\"Product 1\\\": {\\\"Rating\\\": 4, \\\"Review\\\": \\\"Great experience buying this product. Fast delivery and excellent customer service.\\\"}}\",\"{\\\"Product 1\\\": {\\\"Rating\\\": 3, \\\"Review\\\": \\\"Good product, but could have been better.\\\"}}\",\"{\\\"Product 1\\\": {\\\"Rating\\\": 5, \\\"Review\\\": \\\"Awesome product, highly recommend it to everyone.\\\"}}\",\"{\\\"Product 1\\\": {\\\"Rating\\\": 4, \\\"Review\\\": \\\"Great product, will definitely buy again.\\\"}}\",\"{\\\"Product 1\\\": {\\\"Rating\\\": 3, \\\"Review\\\": \\\"Good product, but not worth the price.\\\"}}\",\"{\\\"Product 1\\\": {\\\"Rating\\\": 5, \\\"Review\\\": \\\"Outstanding product, exceeded my expectations.\\\"}}\",\"{\\\"Product 1\\\": {\\\"Rating\\\": 4, \\\"Review\\\": \\\"Good product, but could have been better.\\\"}}\",\"{\\\"Product 1\\\": {\\\"Rating\\\": 3, \\\"Review\\\": \\\"Good product, but not what I expected.\\\"}}\",\"{\\\"Product 1\\\": {\\\"Rating\\\": 4, \\\"Review\\\": \\\"Great product, will definitely buy again.\\\"}}\",\"{\\\"Review Text\\\": \\\"Great quality clothes!\\\", \\\"Rating\\\": 5}\",\"{\\\"Review Text\\\": \\\"Good product, but could be cheaper.\\\", \\\"Rating\\\": 3}\",\"{\\\"Review Text\\\": \\\"Very satisfied with my purchase!\\\", \\\"Rating\\\": 5}\",\"{\\\"Review Text\\\": \\\"Not what I expected.\\\", \\\"Rating\\\": 2}\",\"{\\\"Review Text\\\": \\\"Excellent product, highly recommend!\\\", \\\"Rating\\\": 5}\",\"{\\\"Review Text\\\": \\\"Awesome purchase!\\\", \\\"Rating\\\": 5}\",\"{\\\"Review Text\\\": \\\"Good product, but not worth the price.\\\", \\\"Rating\\\": 3}\",\"{\\\"Review Text\\\": \\\"Great product, highly recommend!\\\", \\\"Rating\\\": 5}\",\"{\\\"Review Text\\\": \\\"Satisfied with my purchase!\\\", \\\"Rating\\\": 4}\",\"{\\\"Review Text\\\": \\\"Excellent product, highly recommend!\\\", \\\"Rating\\\": 5}\",\"{\\\"Review Text\\\": \\\"Good product, but could be better.\\\", \\\"Rating\\\": 3}\",\"{\\\"Review Text\\\": \\\"Excellent product, highly recommend!\\\", \\\"Rating\\\": 5}\",\"This dress is amazing! I love the color and fit. 5 stars.\",\"The blouse is so comfortable and stylish. 5 stars!\",\"The headphones are great. Sound quality is excellent. 4.5 stars.\",\"The dress fits perfectly. I love it. 5 stars!\",\"The vacuum cleaner works great. 4 stars.\",\"The top is nice, but the size is a bit small. 3.5 stars.\",\"The phone is fantastic. 5 stars!\",\"The shirt is comfortable. 4 stars.\",\"The laptop is excellent. 5 stars!\",\"The shoes are comfortable. 4.5 stars.\",\"The coffee maker is great. 5 stars!\",\"The skirt is lovely. 4.5 stars.\",\"The TV is amazing. 5 stars!\",\"The bedding is comfortable. 4 stars.\",\"Great find! 5 stars\",\"Great product, very happy with my purchase.\",\"The product arrived quickly and in great condition.\",\"Great headphones, sound quality is amazing.\",\"Great purchase! The shoes are so comfortable and stylish. I've received several compliments.\",\"I'm really happy with my new phone. The battery life is impressive.\",\"The headphones are amazing! The sound quality is excellent.\",\"I love my new kitchen gadget! It's so efficient and easy to use.\",\"The laptop is perfect for my needs. It's lightweight and powerful.\",\"The clothing arrived quickly and fits great! 5 stars.\",\"The electronics were excellent quality and arrived promptly. 5 stars.\",\"The electronics were as described and arrived on time. 4 stars.\"],\"xaxis\":\"x\",\"xbingroup\":\"x\",\"y\":[\"[{\\\"Date\\\": \\\"2022-03-05\\\", \\\"Category\\\": \\\"Clothing\\\", \\\"Price\\\": 34.99}, {\\\"Date\\\": \\\"2022-02-12\\\", \\\"Category\\\": \\\"Electronics\\\", \\\"Price\\\": 129.99}, {\\\"Date\\\": \\\"2022-01-20\\\", \\\"Category\\\": \\\"Home & Garden\\\", \\\"Price\\\": 29.99}]\",\"[{\\\"Product Category\\\": \\\"Clothing\\\", \\\"Purchase Date\\\": \\\"2022-05-15\\\", \\\"Price\\\": 34.56}, {\\\"Product Category\\\": \\\"Electronics\\\", \\\"Purchase Date\\\": \\\"2022-06-02\\\", \\\"Price\\\": 150.99}]\",\"[{\\\"Product Category\\\": \\\"Electronics\\\", \\\"Purchase Date\\\": \\\"2022-08-15\\\", \\\"Price\\\": 345.5}, {\\\"Product Category\\\": \\\"Home & Garden\\\", \\\"Purchase Date\\\": \\\"2022-07-02\\\", \\\"Price\\\": 279.99}]\",\"{'Purchase Date': '2022-08-15', 'Product Category': 'Electronics', 'Price': 200.5},{'Purchase Date': '2022-07-22', 'Product Category': 'Clothing', 'Price': 125.6},{'Purchase Date': '2022-06-01', 'Product Category': 'Home & Garden', 'Price': 300.8},{'Purchase Date': '2022-05-10', 'Product Category': 'Electronics', 'Price': 150.9}\",\"{'Purchase Date': '2022-07-25', 'Product Category': 'Clothing', 'Price': 67.2},{'Purchase Date': '2022-06-08', 'Product Category': 'Home & Garden', 'Price': 250.1},{'Purchase Date': '2022-05-15', 'Product Category': 'Electronics', 'Price': 400.7}\",\"{'Purchase Date': '2022-09-01', 'Product Category': 'Electronics', 'Price': 300.2},{'Purchase Date': '2022-08-12', 'Product Category': 'Clothing', 'Price': 185.3},{'Purchase Date': '2022-07-28', 'Product Category': 'Home & Garden', 'Price': 200.9}\",\"{'Purchase Date': '2022-07-20', 'Product Category': 'Electronics', 'Price': 150.8},{'Purchase Date': '2022-06-05', 'Product Category': 'Clothing', 'Price': 120.6},{'Purchase Date': '2022-05-18', 'Product Category': 'Home & Garden', 'Price': 350.1}\",\"{'Purchase Date': '2022-08-28', 'Product Category': 'Electronics', 'Price': 250.6},{'Purchase Date': '2022-07-15', 'Product Category': 'Clothing', 'Price': 115.7},{'Purchase Date': '2022-06-03', 'Product Category': 'Home & Garden', 'Price': 300.4}\",\"{'Purchase Date': '2022-09-05', 'Product Category': 'Electronics', 'Price': 400.9},{'Purchase Date': '2022-08-18', 'Product Category': 'Clothing', 'Price': 195.3},{'Purchase Date': '2022-07-03', 'Product Category': 'Home & Garden', 'Price': 220.7}\",\"{'Purchase Date': '2022-07-27', 'Product Category': 'Electronics', 'Price': 120.5},{'Purchase Date': '2022-06-12', 'Product Category': 'Clothing', 'Price': 130.6},{'Purchase Date': '2022-05-28', 'Product Category': 'Home & Garden', 'Price': 320.8}\",\"{'Purchase Date': '2022-09-08', 'Product Category': 'Electronics', 'Price': 350.2},{'Purchase Date': '2022-08-23', 'Product Category': 'Clothing', 'Price': 165.3},{'Purchase Date': '2022-07-07', 'Product Category': 'Home & Garden', 'Price': 280.9}\",\"{'Purchase Date': '2022-08-25', 'Product Category': 'Electronics', 'Price': 170.8},{'Purchase Date': '2022-07-09', 'Product Category': 'Clothing', 'Price': 105.6},{'Purchase Date': '2022-06-24', 'Product Category': 'Home & Garden', 'Price': 290.1}\",\"{'Purchase Date': '2022-03-05', 'Product Category': 'Clothing', 'Price': 45.99},{'Purchase Date': '2022-04-12', 'Product Category': 'Home & Garden', 'Price': 120.5}\",\"{'Purchase Date': '2022-02-15', 'Product Category': 'Electronics', 'Price': 250},{'Purchase Date': '2022-05-10', 'Product Category': 'Clothing', 'Price': 34.99}\",\"{'Purchase Date': '2022-01-18', 'Product Category': 'Home & Garden', 'Price': 180},{'Purchase Date': '2022-06-02', 'Product Category': 'Electronics', 'Price': 400}\",\"{'Purchase Date': '2022-04-25', 'Product Category': 'Clothing', 'Price': 29.99},{'Purchase Date': '2022-07-07', 'Product Category': 'Home & Garden', 'Price': 150}\",\"{'Purchase Date': '2022-05-20', 'Product Category': 'Electronics', 'Price': 600},{'Purchase Date': '2022-08-03', 'Product Category': 'Clothing', 'Price': 59.99}\",\"{'Purchase Date': '2022-06-15', 'Product Category': 'Home & Garden', 'Price': 220},{'Purchase Date': '2022-09-01', 'Product Category': 'Electronics', 'Price': 300}\",\"{'Purchase Date': '2022-07-22', 'Product Category': 'Clothing', 'Price': 39.99},{'Purchase Date': '2022-10-06', 'Product Category': 'Home & Garden', 'Price': 190}\",\"{'Purchase Date': '2022-08-08', 'Product Category': 'Electronics', 'Price': 550},{'Purchase Date': '2022-11-01', 'Product Category': 'Clothing', 'Price': 44.99}\",\"{'Purchase Date': '2022-09-20', 'Product Category': 'Home & Garden', 'Price': 200},{'Purchase Date': '2022-12-05', 'Product Category': 'Electronics', 'Price': 350}\",\"{'Purchase Date': '2022-10-15', 'Product Category': 'Clothing', 'Price': 34.99},{'Purchase Date': '2022-12-20', 'Product Category': 'Home & Garden', 'Price': 250}\",\"{'Purchase Date': '2022-11-05', 'Product Category': 'Electronics', 'Price': 150},{'Purchase Date': '2023-01-10', 'Product Category': 'Clothing', 'Price': 29.99}\",\"{'Purchase Date': '2022-12-25', 'Product Category': 'Home & Garden', 'Price': 170},{'Purchase Date': '2023-02-05', 'Product Category': 'Electronics', 'Price': 450}\",\"[{\\\"Purchase Date\\\": \\\"2022-09-15\\\", \\\"Product Category\\\": \\\"Clothing\\\", \\\"Price\\\": 34.5}]\",\"{'Purchase Date': '2022-05-15', 'Product Category': 'Clothing', 'Price': 120},{'Purchase Date': '2022-06-02', 'Product Category': 'Home & Garden', 'Price': 250}\",\"{'Purchase Date': '2022-06-12', 'Product Category': 'Electronics', 'Price': 350}\",\"{'Purchase Date': '2022-05-28', 'Product Category': 'Clothing', 'Price': 75},{'Purchase Date': '2022-06-10', 'Product Category': 'Home & Garden', 'Price': 120}\",\"{'Purchase Date': '2022-05-08', 'Product Category': 'Electronics', 'Price': 200},{'Purchase Date': '2022-06-05', 'Product Category': 'Home & Garden', 'Price': 150}\",\"{'Purchase Date': '2022-05-18', 'Product Category': 'Clothing', 'Price': 50},{'Purchase Date': '2022-06-07', 'Product Category': 'Home & Garden', 'Price': 100}\",\"{'Purchase Date': '2022-05-23', 'Product Category': 'Electronics', 'Price': 400},{'Purchase Date': '2022-06-03', 'Product Category': 'Home & Garden', 'Price': 200}\",\"{'Purchase Date': '2022-05-25', 'Product Category': 'Clothing', 'Price': 100},{'Purchase Date': '2022-06-08', 'Product Category': 'Home & Garden', 'Price': 180}\",\"{'Purchase Date': '2022-05-20', 'Product Category': 'Electronics', 'Price': 300},{'Purchase Date': '2022-06-04', 'Product Category': 'Home & Garden', 'Price': 250}\",\"{'Purchase Date': '2022-05-16', 'Product Category': 'Clothing', 'Price': 60},{'Purchase Date': '2022-06-06', 'Product Category': 'Home & Garden', 'Price': 150}\",\"{'Purchase Date': '2022-05-12', 'Product Category': 'Electronics', 'Price': 250},{'Purchase Date': '2022-06-01', 'Product Category': 'Home & Garden', 'Price': 175}\",\"{'Purchase Date': '2022-05-27', 'Product Category': 'Clothing', 'Price': 80},{'Purchase Date': '2022-06-09', 'Product Category': 'Home & Garden', 'Price': 200}\",\"{'Purchase Date': '2022-05-22', 'Product Category': 'Electronics', 'Price': 350},{'Purchase Date': '2022-06-02', 'Product Category': 'Home & Garden', 'Price': 100}\",\"{'Purchase Date': '2022-05-19', 'Product Category': 'Clothing', 'Price': 120},{'Purchase Date': '2022-06-07', 'Product Category': 'Home & Garden', 'Price': 150}\",\"[{\\\"Product Category\\\": \\\"Clothing\\\", \\\"Purchase Date\\\": \\\"2022-08-15\\\", \\\"Price\\\": 45.23}, {\\\"Product Category\\\": \\\"Electronics\\\", \\\"Purchase Date\\\": \\\"2022-07-20\\\", \\\"Price\\\": 250.34}]\",\"[{\\\"Product Category\\\": \\\"Electronics\\\", \\\"Purchase Date\\\": \\\"2022-03-15\\\", \\\"Price\\\": 250.5}, {\\\"Product Category\\\": \\\"Clothing\\\", \\\"Purchase Date\\\": \\\"2022-02-01\\\", \\\"Price\\\": 125.8}]\",\"[{\\\"Product Category\\\": \\\"Clothing\\\", \\\"Purchase Date\\\": \\\"2022-02-20\\\", \\\"Price\\\": 150.2}, {\\\"Product Category\\\": \\\"Home & Garden\\\", \\\"Purchase Date\\\": \\\"2022-01-12\\\", \\\"Price\\\": 450}]\",\"[{\\\"Product Category\\\": \\\"Electronics\\\", \\\"Purchase Date\\\": \\\"2022-03-15\\\", \\\"Price\\\": 249.99}]\",\"[{\\\"Product Category\\\": \\\"Clothing\\\", \\\"Purchase Date\\\": \\\"2022-06-12\\\", \\\"Price\\\": 45.99}, {\\\"Product Category\\\": \\\"Electronics\\\", \\\"Purchase Date\\\": \\\"2022-05-08\\\", \\\"Price\\\": 199.99}]\",\"[{\\\"Product Category\\\": \\\"Electronics\\\", \\\"Purchase Date\\\": \\\"2022-07-03\\\", \\\"Price\\\": 249.99}, {\\\"Product Category\\\": \\\"Home & Garden\\\", \\\"Purchase Date\\\": \\\"2022-06-17\\\", \\\"Price\\\": 129.99}]\",\"[{\\\"Product Category\\\": \\\"Clothing\\\", \\\"Purchase Date\\\": \\\"2022-06-22\\\", \\\"Price\\\": 34.99}, {\\\"Product Category\\\": \\\"Electronics\\\", \\\"Purchase Date\\\": \\\"2022-05-15\\\", \\\"Price\\\": 149.99}]\",\"[{\\\"Product Category\\\": \\\"Clothing\\\", \\\"Purchase Date\\\": \\\"2022-07-08\\\", \\\"Price\\\": 79.99}, {\\\"Product Category\\\": \\\"Home & Garden\\\", \\\"Purchase Date\\\": \\\"2022-06-24\\\", \\\"Price\\\": 399.99}]\",\"[{\\\"Product Category\\\": \\\"Electronics\\\", \\\"Purchase Date\\\": \\\"2022-06-01\\\", \\\"Price\\\": 129.99}, {\\\"Product Category\\\": \\\"Home & Garden\\\", \\\"Purchase Date\\\": \\\"2022-05-18\\\", \\\"Price\\\": 59.99}]\",\"[{\\\"Purchase Date\\\": \\\"2022-07-02\\\",\\\"Product Category\\\": \\\"Clothing\\\",\\\"Price\\\": 25.6},{\\\"Purchase Date\\\": \\\"2022-06-15\\\",\\\"Product Category\\\": \\\"Electronics\\\",\\\"Price\\\": 120},{\\\"Purchase Date\\\": \\\"2022-05-10\\\",\\\"Product Category\\\": \\\"Home & Garden\\\",\\\"Price\\\": 35}]\",\"[{\\\"Purchase Date\\\": \\\"2022-07-08\\\",\\\"Product Category\\\": \\\"Electronics\\\",\\\"Price\\\": 420},{\\\"Purchase Date\\\": \\\"2022-06-23\\\",\\\"Product Category\\\": \\\"Clothing\\\",\\\"Price\\\": 75},{\\\"Purchase Date\\\": \\\"2022-05-12\\\",\\\"Product Category\\\": \\\"Home & Garden\\\",\\\"Price\\\": 200}]\",\"[{\\\"Purchase Date\\\": \\\"2022-07-01\\\",\\\"Product Category\\\": \\\"Electronics\\\",\\\"Price\\\": 180},{\\\"Purchase Date\\\": \\\"2022-06-18\\\",\\\"Product Category\\\": \\\"Clothing\\\",\\\"Price\\\": 50},{\\\"Purchase Date\\\": \\\"2022-05-09\\\",\\\"Product Category\\\": \\\"Home & Garden\\\",\\\"Price\\\": 30}]\"],\"yaxis\":\"y\",\"ybingroup\":\"y\",\"type\":\"histogram2d\"}],                        {\"template\":{\"data\":{\"histogram2dcontour\":[{\"type\":\"histogram2dcontour\",\"colorbar\":{\"outlinewidth\":0,\"ticks\":\"\"},\"colorscale\":[[0.0,\"#0d0887\"],[0.1111111111111111,\"#46039f\"],[0.2222222222222222,\"#7201a8\"],[0.3333333333333333,\"#9c179e\"],[0.4444444444444444,\"#bd3786\"],[0.5555555555555556,\"#d8576b\"],[0.6666666666666666,\"#ed7953\"],[0.7777777777777778,\"#fb9f3a\"],[0.8888888888888888,\"#fdca26\"],[1.0,\"#f0f921\"]]}],\"choropleth\":[{\"type\":\"choropleth\",\"colorbar\":{\"outlinewidth\":0,\"ticks\":\"\"}}],\"histogram2d\":[{\"type\":\"histogram2d\",\"colorbar\":{\"outlinewidth\":0,\"ticks\":\"\"},\"colorscale\":[[0.0,\"#0d0887\"],[0.1111111111111111,\"#46039f\"],[0.2222222222222222,\"#7201a8\"],[0.3333333333333333,\"#9c179e\"],[0.4444444444444444,\"#bd3786\"],[0.5555555555555556,\"#d8576b\"],[0.6666666666666666,\"#ed7953\"],[0.7777777777777778,\"#fb9f3a\"],[0.8888888888888888,\"#fdca26\"],[1.0,\"#f0f921\"]]}],\"heatmap\":[{\"type\":\"heatmap\",\"colorbar\":{\"outlinewidth\":0,\"ticks\":\"\"},\"colorscale\":[[0.0,\"#0d0887\"],[0.1111111111111111,\"#46039f\"],[0.2222222222222222,\"#7201a8\"],[0.3333333333333333,\"#9c179e\"],[0.4444444444444444,\"#bd3786\"],[0.5555555555555556,\"#d8576b\"],[0.6666666666666666,\"#ed7953\"],[0.7777777777777778,\"#fb9f3a\"],[0.8888888888888888,\"#fdca26\"],[1.0,\"#f0f921\"]]}],\"heatmapgl\":[{\"type\":\"heatmapgl\",\"colorbar\":{\"outlinewidth\":0,\"ticks\":\"\"},\"colorscale\":[[0.0,\"#0d0887\"],[0.1111111111111111,\"#46039f\"],[0.2222222222222222,\"#7201a8\"],[0.3333333333333333,\"#9c179e\"],[0.4444444444444444,\"#bd3786\"],[0.5555555555555556,\"#d8576b\"],[0.6666666666666666,\"#ed7953\"],[0.7777777777777778,\"#fb9f3a\"],[0.8888888888888888,\"#fdca26\"],[1.0,\"#f0f921\"]]}],\"contourcarpet\":[{\"type\":\"contourcarpet\",\"colorbar\":{\"outlinewidth\":0,\"ticks\":\"\"}}],\"contour\":[{\"type\":\"contour\",\"colorbar\":{\"outlinewidth\":0,\"ticks\":\"\"},\"colorscale\":[[0.0,\"#0d0887\"],[0.1111111111111111,\"#46039f\"],[0.2222222222222222,\"#7201a8\"],[0.3333333333333333,\"#9c179e\"],[0.4444444444444444,\"#bd3786\"],[0.5555555555555556,\"#d8576b\"],[0.6666666666666666,\"#ed7953\"],[0.7777777777777778,\"#fb9f3a\"],[0.8888888888888888,\"#fdca26\"],[1.0,\"#f0f921\"]]}],\"surface\":[{\"type\":\"surface\",\"colorbar\":{\"outlinewidth\":0,\"ticks\":\"\"},\"colorscale\":[[0.0,\"#0d0887\"],[0.1111111111111111,\"#46039f\"],[0.2222222222222222,\"#7201a8\"],[0.3333333333333333,\"#9c179e\"],[0.4444444444444444,\"#bd3786\"],[0.5555555555555556,\"#d8576b\"],[0.6666666666666666,\"#ed7953\"],[0.7777777777777778,\"#fb9f3a\"],[0.8888888888888888,\"#fdca26\"],[1.0,\"#f0f921\"]]}],\"mesh3d\":[{\"type\":\"mesh3d\",\"colorbar\":{\"outlinewidth\":0,\"ticks\":\"\"}}],\"scatter\":[{\"fillpattern\":{\"fillmode\":\"overlay\",\"size\":10,\"solidity\":0.2},\"type\":\"scatter\"}],\"parcoords\":[{\"type\":\"parcoords\",\"line\":{\"colorbar\":{\"outlinewidth\":0,\"ticks\":\"\"}}}],\"scatterpolargl\":[{\"type\":\"scatterpolargl\",\"marker\":{\"colorbar\":{\"outlinewidth\":0,\"ticks\":\"\"}}}],\"bar\":[{\"error_x\":{\"color\":\"#2a3f5f\"},\"error_y\":{\"color\":\"#2a3f5f\"},\"marker\":{\"line\":{\"color\":\"#E5ECF6\",\"width\":0.5},\"pattern\":{\"fillmode\":\"overlay\",\"size\":10,\"solidity\":0.2}},\"type\":\"bar\"}],\"scattergeo\":[{\"type\":\"scattergeo\",\"marker\":{\"colorbar\":{\"outlinewidth\":0,\"ticks\":\"\"}}}],\"scatterpolar\":[{\"type\":\"scatterpolar\",\"marker\":{\"colorbar\":{\"outlinewidth\":0,\"ticks\":\"\"}}}],\"histogram\":[{\"marker\":{\"pattern\":{\"fillmode\":\"overlay\",\"size\":10,\"solidity\":0.2}},\"type\":\"histogram\"}],\"scattergl\":[{\"type\":\"scattergl\",\"marker\":{\"colorbar\":{\"outlinewidth\":0,\"ticks\":\"\"}}}],\"scatter3d\":[{\"type\":\"scatter3d\",\"line\":{\"colorbar\":{\"outlinewidth\":0,\"ticks\":\"\"}},\"marker\":{\"colorbar\":{\"outlinewidth\":0,\"ticks\":\"\"}}}],\"scattermapbox\":[{\"type\":\"scattermapbox\",\"marker\":{\"colorbar\":{\"outlinewidth\":0,\"ticks\":\"\"}}}],\"scatterternary\":[{\"type\":\"scatterternary\",\"marker\":{\"colorbar\":{\"outlinewidth\":0,\"ticks\":\"\"}}}],\"scattercarpet\":[{\"type\":\"scattercarpet\",\"marker\":{\"colorbar\":{\"outlinewidth\":0,\"ticks\":\"\"}}}],\"carpet\":[{\"aaxis\":{\"endlinecolor\":\"#2a3f5f\",\"gridcolor\":\"white\",\"linecolor\":\"white\",\"minorgridcolor\":\"white\",\"startlinecolor\":\"#2a3f5f\"},\"baxis\":{\"endlinecolor\":\"#2a3f5f\",\"gridcolor\":\"white\",\"linecolor\":\"white\",\"minorgridcolor\":\"white\",\"startlinecolor\":\"#2a3f5f\"},\"type\":\"carpet\"}],\"table\":[{\"cells\":{\"fill\":{\"color\":\"#EBF0F8\"},\"line\":{\"color\":\"white\"}},\"header\":{\"fill\":{\"color\":\"#C8D4E3\"},\"line\":{\"color\":\"white\"}},\"type\":\"table\"}],\"barpolar\":[{\"marker\":{\"line\":{\"color\":\"#E5ECF6\",\"width\":0.5},\"pattern\":{\"fillmode\":\"overlay\",\"size\":10,\"solidity\":0.2}},\"type\":\"barpolar\"}],\"pie\":[{\"automargin\":true,\"type\":\"pie\"}]},\"layout\":{\"autotypenumbers\":\"strict\",\"colorway\":[\"#636efa\",\"#EF553B\",\"#00cc96\",\"#ab63fa\",\"#FFA15A\",\"#19d3f3\",\"#FF6692\",\"#B6E880\",\"#FF97FF\",\"#FECB52\"],\"font\":{\"color\":\"#2a3f5f\"},\"hovermode\":\"closest\",\"hoverlabel\":{\"align\":\"left\"},\"paper_bgcolor\":\"white\",\"plot_bgcolor\":\"#E5ECF6\",\"polar\":{\"bgcolor\":\"#E5ECF6\",\"angularaxis\":{\"gridcolor\":\"white\",\"linecolor\":\"white\",\"ticks\":\"\"},\"radialaxis\":{\"gridcolor\":\"white\",\"linecolor\":\"white\",\"ticks\":\"\"}},\"ternary\":{\"bgcolor\":\"#E5ECF6\",\"aaxis\":{\"gridcolor\":\"white\",\"linecolor\":\"white\",\"ticks\":\"\"},\"baxis\":{\"gridcolor\":\"white\",\"linecolor\":\"white\",\"ticks\":\"\"},\"caxis\":{\"gridcolor\":\"white\",\"linecolor\":\"white\",\"ticks\":\"\"}},\"coloraxis\":{\"colorbar\":{\"outlinewidth\":0,\"ticks\":\"\"}},\"colorscale\":{\"sequential\":[[0.0,\"#0d0887\"],[0.1111111111111111,\"#46039f\"],[0.2222222222222222,\"#7201a8\"],[0.3333333333333333,\"#9c179e\"],[0.4444444444444444,\"#bd3786\"],[0.5555555555555556,\"#d8576b\"],[0.6666666666666666,\"#ed7953\"],[0.7777777777777778,\"#fb9f3a\"],[0.8888888888888888,\"#fdca26\"],[1.0,\"#f0f921\"]],\"sequentialminus\":[[0.0,\"#0d0887\"],[0.1111111111111111,\"#46039f\"],[0.2222222222222222,\"#7201a8\"],[0.3333333333333333,\"#9c179e\"],[0.4444444444444444,\"#bd3786\"],[0.5555555555555556,\"#d8576b\"],[0.6666666666666666,\"#ed7953\"],[0.7777777777777778,\"#fb9f3a\"],[0.8888888888888888,\"#fdca26\"],[1.0,\"#f0f921\"]],\"diverging\":[[0,\"#8e0152\"],[0.1,\"#c51b7d\"],[0.2,\"#de77ae\"],[0.3,\"#f1b6da\"],[0.4,\"#fde0ef\"],[0.5,\"#f7f7f7\"],[0.6,\"#e6f5d0\"],[0.7,\"#b8e186\"],[0.8,\"#7fbc41\"],[0.9,\"#4d9221\"],[1,\"#276419\"]]},\"xaxis\":{\"gridcolor\":\"white\",\"linecolor\":\"white\",\"ticks\":\"\",\"title\":{\"standoff\":15},\"zerolinecolor\":\"white\",\"automargin\":true,\"zerolinewidth\":2},\"yaxis\":{\"gridcolor\":\"white\",\"linecolor\":\"white\",\"ticks\":\"\",\"title\":{\"standoff\":15},\"zerolinecolor\":\"white\",\"automargin\":true,\"zerolinewidth\":2},\"scene\":{\"xaxis\":{\"backgroundcolor\":\"#E5ECF6\",\"gridcolor\":\"white\",\"linecolor\":\"white\",\"showbackground\":true,\"ticks\":\"\",\"zerolinecolor\":\"white\",\"gridwidth\":2},\"yaxis\":{\"backgroundcolor\":\"#E5ECF6\",\"gridcolor\":\"white\",\"linecolor\":\"white\",\"showbackground\":true,\"ticks\":\"\",\"zerolinecolor\":\"white\",\"gridwidth\":2},\"zaxis\":{\"backgroundcolor\":\"#E5ECF6\",\"gridcolor\":\"white\",\"linecolor\":\"white\",\"showbackground\":true,\"ticks\":\"\",\"zerolinecolor\":\"white\",\"gridwidth\":2}},\"shapedefaults\":{\"line\":{\"color\":\"#2a3f5f\"}},\"annotationdefaults\":{\"arrowcolor\":\"#2a3f5f\",\"arrowhead\":0,\"arrowwidth\":1},\"geo\":{\"bgcolor\":\"white\",\"landcolor\":\"#E5ECF6\",\"subunitcolor\":\"white\",\"showland\":true,\"showlakes\":true,\"lakecolor\":\"white\"},\"title\":{\"x\":0.05},\"mapbox\":{\"style\":\"light\"}}},\"xaxis\":{\"anchor\":\"y\",\"domain\":[0.0,1.0],\"title\":{\"text\":\"Product Reviews\"}},\"yaxis\":{\"anchor\":\"x\",\"domain\":[0.0,1.0],\"title\":{\"text\":\"Purchase History\"}},\"coloraxis\":{\"colorbar\":{\"title\":{\"text\":\"count\"}},\"colorscale\":[[0.0,\"#0d0887\"],[0.1111111111111111,\"#46039f\"],[0.2222222222222222,\"#7201a8\"],[0.3333333333333333,\"#9c179e\"],[0.4444444444444444,\"#bd3786\"],[0.5555555555555556,\"#d8576b\"],[0.6666666666666666,\"#ed7953\"],[0.7777777777777778,\"#fb9f3a\"],[0.8888888888888888,\"#fdca26\"],[1.0,\"#f0f921\"]]},\"legend\":{\"tracegroupgap\":0},\"title\":{\"text\":\"Relationship between Product Reviews and Purchase History\"},\"height\":1500,\"width\":2500},                        {\"responsive\": true}                    ).then(function(){\n",
              "                            \n",
              "var gd = document.getElementById('9fc417be-19e2-4e97-b1e5-3679021562eb');\n",
              "var x = new MutationObserver(function (mutations, observer) {{\n",
              "        var display = window.getComputedStyle(gd).display;\n",
              "        if (!display || display === 'none') {{\n",
              "            console.log([gd, 'removed!']);\n",
              "            Plotly.purge(gd);\n",
              "            observer.disconnect();\n",
              "        }}\n",
              "}});\n",
              "\n",
              "// Listen for the removal of the full notebook cells\n",
              "var notebookContainer = gd.closest('#notebook-container');\n",
              "if (notebookContainer) {{\n",
              "    x.observe(notebookContainer, {childList: true});\n",
              "}}\n",
              "\n",
              "// Listen for the clearing of the current output cell\n",
              "var outputEl = gd.closest('.output');\n",
              "if (outputEl) {{\n",
              "    x.observe(outputEl, {childList: true});\n",
              "}}\n",
              "\n",
              "                        })                };                            </script>        </div>\n",
              "</body>\n",
              "</html>"
            ]
          },
          "metadata": {}
        }
      ]
    },
    {
      "cell_type": "markdown",
      "source": [
        "**What is the relationship between annual income and purchase history?**"
      ],
      "metadata": {
        "id": "AX084Ucqiy2b"
      }
    },
    {
      "cell_type": "code",
      "source": [
        "fig = px.scatter(df_no_outliers, x='Annual Income', y='Purchase History', color='Gender',\n",
        "                 title='Annual Income vs Purchase History', width=2500)\n",
        "fig.show()"
      ],
      "metadata": {
        "execution": {
          "iopub.status.busy": "2024-09-19T09:54:01.073682Z",
          "iopub.execute_input": "2024-09-19T09:54:01.074084Z",
          "iopub.status.idle": "2024-09-19T09:54:01.171425Z",
          "shell.execute_reply.started": "2024-09-19T09:54:01.074041Z",
          "shell.execute_reply": "2024-09-19T09:54:01.170232Z"
        },
        "trusted": true,
        "id": "zhgvQMbdiy2b",
        "outputId": "550b28ca-8ac4-4512-c916-29e0eac23b55",
        "colab": {
          "base_uri": "https://localhost:8080/",
          "height": 562
        }
      },
      "execution_count": 20,
      "outputs": [
        {
          "output_type": "display_data",
          "data": {
            "text/html": [
              "<html>\n",
              "<head><meta charset=\"utf-8\" /></head>\n",
              "<body>\n",
              "    <div>            <script src=\"https://cdnjs.cloudflare.com/ajax/libs/mathjax/2.7.5/MathJax.js?config=TeX-AMS-MML_SVG\"></script><script type=\"text/javascript\">if (window.MathJax && window.MathJax.Hub && window.MathJax.Hub.Config) {window.MathJax.Hub.Config({SVG: {font: \"STIX-Web\"}});}</script>                <script type=\"text/javascript\">window.PlotlyConfig = {MathJaxConfig: 'local'};</script>\n",
              "        <script charset=\"utf-8\" src=\"https://cdn.plot.ly/plotly-2.35.2.min.js\"></script>                <div id=\"02c22875-15c2-4fdc-927d-df5516e9ace3\" class=\"plotly-graph-div\" style=\"height:525px; width:2500px;\"></div>            <script type=\"text/javascript\">                                    window.PLOTLYENV=window.PLOTLYENV || {};                                    if (document.getElementById(\"02c22875-15c2-4fdc-927d-df5516e9ace3\")) {                    Plotly.newPlot(                        \"02c22875-15c2-4fdc-927d-df5516e9ace3\",                        [{\"hovertemplate\":\"Gender=Female\\u003cbr\\u003eAnnual Income=%{x}\\u003cbr\\u003ePurchase History=%{y}\\u003cextra\\u003e\\u003c\\u002fextra\\u003e\",\"legendgroup\":\"Female\",\"marker\":{\"color\":\"#636efa\",\"symbol\":\"circle\"},\"mode\":\"markers\",\"name\":\"Female\",\"orientation\":\"h\",\"showlegend\":true,\"x\":[45000,52000,65000,70000,60000,55000,75000,45000,65000,85000,75000,95000,45000,50000,60000,45000,65000,40000,55000,68000,65000,60000,55000,65000,100000,55000],\"xaxis\":\"x\",\"y\":[\"[{\\\"Date\\\": \\\"2022-03-05\\\", \\\"Category\\\": \\\"Clothing\\\", \\\"Price\\\": 34.99}, {\\\"Date\\\": \\\"2022-02-12\\\", \\\"Category\\\": \\\"Electronics\\\", \\\"Price\\\": 129.99}, {\\\"Date\\\": \\\"2022-01-20\\\", \\\"Category\\\": \\\"Home & Garden\\\", \\\"Price\\\": 29.99}]\",\"[{\\\"Product Category\\\": \\\"Clothing\\\", \\\"Purchase Date\\\": \\\"2022-05-15\\\", \\\"Price\\\": 34.56}, {\\\"Product Category\\\": \\\"Electronics\\\", \\\"Purchase Date\\\": \\\"2022-06-02\\\", \\\"Price\\\": 150.99}]\",\"[{\\\"Product Category\\\": \\\"Electronics\\\", \\\"Purchase Date\\\": \\\"2022-08-15\\\", \\\"Price\\\": 345.5}, {\\\"Product Category\\\": \\\"Home & Garden\\\", \\\"Purchase Date\\\": \\\"2022-07-02\\\", \\\"Price\\\": 279.99}]\",\"{'Purchase Date': '2022-08-15', 'Product Category': 'Electronics', 'Price': 200.5},{'Purchase Date': '2022-07-22', 'Product Category': 'Clothing', 'Price': 125.6},{'Purchase Date': '2022-06-01', 'Product Category': 'Home & Garden', 'Price': 300.8},{'Purchase Date': '2022-05-10', 'Product Category': 'Electronics', 'Price': 150.9}\",\"{'Purchase Date': '2022-07-20', 'Product Category': 'Electronics', 'Price': 150.8},{'Purchase Date': '2022-06-05', 'Product Category': 'Clothing', 'Price': 120.6},{'Purchase Date': '2022-05-18', 'Product Category': 'Home & Garden', 'Price': 350.1}\",\"{'Purchase Date': '2022-07-27', 'Product Category': 'Electronics', 'Price': 120.5},{'Purchase Date': '2022-06-12', 'Product Category': 'Clothing', 'Price': 130.6},{'Purchase Date': '2022-05-28', 'Product Category': 'Home & Garden', 'Price': 320.8}\",\"{'Purchase Date': '2022-03-05', 'Product Category': 'Clothing', 'Price': 45.99},{'Purchase Date': '2022-04-12', 'Product Category': 'Home & Garden', 'Price': 120.5}\",\"{'Purchase Date': '2022-04-25', 'Product Category': 'Clothing', 'Price': 29.99},{'Purchase Date': '2022-07-07', 'Product Category': 'Home & Garden', 'Price': 150}\",\"{'Purchase Date': '2022-06-15', 'Product Category': 'Home & Garden', 'Price': 220},{'Purchase Date': '2022-09-01', 'Product Category': 'Electronics', 'Price': 300}\",\"{'Purchase Date': '2022-08-08', 'Product Category': 'Electronics', 'Price': 550},{'Purchase Date': '2022-11-01', 'Product Category': 'Clothing', 'Price': 44.99}\",\"{'Purchase Date': '2022-10-15', 'Product Category': 'Clothing', 'Price': 34.99},{'Purchase Date': '2022-12-20', 'Product Category': 'Home & Garden', 'Price': 250}\",\"{'Purchase Date': '2022-12-25', 'Product Category': 'Home & Garden', 'Price': 170},{'Purchase Date': '2023-02-05', 'Product Category': 'Electronics', 'Price': 450}\",\"[{\\\"Purchase Date\\\": \\\"2022-09-15\\\", \\\"Product Category\\\": \\\"Clothing\\\", \\\"Price\\\": 34.5}]\",\"{'Purchase Date': '2022-05-15', 'Product Category': 'Clothing', 'Price': 120},{'Purchase Date': '2022-06-02', 'Product Category': 'Home & Garden', 'Price': 250}\",\"{'Purchase Date': '2022-05-28', 'Product Category': 'Clothing', 'Price': 75},{'Purchase Date': '2022-06-10', 'Product Category': 'Home & Garden', 'Price': 120}\",\"{'Purchase Date': '2022-05-18', 'Product Category': 'Clothing', 'Price': 50},{'Purchase Date': '2022-06-07', 'Product Category': 'Home & Garden', 'Price': 100}\",\"{'Purchase Date': '2022-05-25', 'Product Category': 'Clothing', 'Price': 100},{'Purchase Date': '2022-06-08', 'Product Category': 'Home & Garden', 'Price': 180}\",\"{'Purchase Date': '2022-05-16', 'Product Category': 'Clothing', 'Price': 60},{'Purchase Date': '2022-06-06', 'Product Category': 'Home & Garden', 'Price': 150}\",\"{'Purchase Date': '2022-05-27', 'Product Category': 'Clothing', 'Price': 80},{'Purchase Date': '2022-06-09', 'Product Category': 'Home & Garden', 'Price': 200}\",\"{'Purchase Date': '2022-05-19', 'Product Category': 'Clothing', 'Price': 120},{'Purchase Date': '2022-06-07', 'Product Category': 'Home & Garden', 'Price': 150}\",\"[{\\\"Product Category\\\": \\\"Clothing\\\", \\\"Purchase Date\\\": \\\"2022-08-15\\\", \\\"Price\\\": 45.23}, {\\\"Product Category\\\": \\\"Electronics\\\", \\\"Purchase Date\\\": \\\"2022-07-20\\\", \\\"Price\\\": 250.34}]\",\"[{\\\"Product Category\\\": \\\"Electronics\\\", \\\"Purchase Date\\\": \\\"2022-03-15\\\", \\\"Price\\\": 250.5}, {\\\"Product Category\\\": \\\"Clothing\\\", \\\"Purchase Date\\\": \\\"2022-02-01\\\", \\\"Price\\\": 125.8}]\",\"[{\\\"Product Category\\\": \\\"Electronics\\\", \\\"Purchase Date\\\": \\\"2022-03-15\\\", \\\"Price\\\": 249.99}]\",\"[{\\\"Product Category\\\": \\\"Clothing\\\", \\\"Purchase Date\\\": \\\"2022-06-12\\\", \\\"Price\\\": 45.99}, {\\\"Product Category\\\": \\\"Electronics\\\", \\\"Purchase Date\\\": \\\"2022-05-08\\\", \\\"Price\\\": 199.99}]\",\"[{\\\"Product Category\\\": \\\"Clothing\\\", \\\"Purchase Date\\\": \\\"2022-07-08\\\", \\\"Price\\\": 79.99}, {\\\"Product Category\\\": \\\"Home & Garden\\\", \\\"Purchase Date\\\": \\\"2022-06-24\\\", \\\"Price\\\": 399.99}]\",\"[{\\\"Purchase Date\\\": \\\"2022-07-02\\\",\\\"Product Category\\\": \\\"Clothing\\\",\\\"Price\\\": 25.6},{\\\"Purchase Date\\\": \\\"2022-06-15\\\",\\\"Product Category\\\": \\\"Electronics\\\",\\\"Price\\\": 120},{\\\"Purchase Date\\\": \\\"2022-05-10\\\",\\\"Product Category\\\": \\\"Home & Garden\\\",\\\"Price\\\": 35}]\"],\"yaxis\":\"y\",\"type\":\"scatter\"},{\"hovertemplate\":\"Gender=Male\\u003cbr\\u003eAnnual Income=%{x}\\u003cbr\\u003ePurchase History=%{y}\\u003cextra\\u003e\\u003c\\u002fextra\\u003e\",\"legendgroup\":\"Male\",\"marker\":{\"color\":\"#EF553B\",\"symbol\":\"circle\"},\"mode\":\"markers\",\"name\":\"Male\",\"orientation\":\"h\",\"showlegend\":true,\"x\":[45000,75000,80000,50000,90000,70000,55000,40000,80000,70000,90000,85000,75000,95000,75000,80000,45000,87000],\"xaxis\":\"x\",\"y\":[\"{'Purchase Date': '2022-07-25', 'Product Category': 'Clothing', 'Price': 67.2},{'Purchase Date': '2022-06-08', 'Product Category': 'Home & Garden', 'Price': 250.1},{'Purchase Date': '2022-05-15', 'Product Category': 'Electronics', 'Price': 400.7}\",\"{'Purchase Date': '2022-08-28', 'Product Category': 'Electronics', 'Price': 250.6},{'Purchase Date': '2022-07-15', 'Product Category': 'Clothing', 'Price': 115.7},{'Purchase Date': '2022-06-03', 'Product Category': 'Home & Garden', 'Price': 300.4}\",\"{'Purchase Date': '2022-09-08', 'Product Category': 'Electronics', 'Price': 350.2},{'Purchase Date': '2022-08-23', 'Product Category': 'Clothing', 'Price': 165.3},{'Purchase Date': '2022-07-07', 'Product Category': 'Home & Garden', 'Price': 280.9}\",\"{'Purchase Date': '2022-02-15', 'Product Category': 'Electronics', 'Price': 250},{'Purchase Date': '2022-05-10', 'Product Category': 'Clothing', 'Price': 34.99}\",\"{'Purchase Date': '2022-05-20', 'Product Category': 'Electronics', 'Price': 600},{'Purchase Date': '2022-08-03', 'Product Category': 'Clothing', 'Price': 59.99}\",\"{'Purchase Date': '2022-07-22', 'Product Category': 'Clothing', 'Price': 39.99},{'Purchase Date': '2022-10-06', 'Product Category': 'Home & Garden', 'Price': 190}\",\"{'Purchase Date': '2022-09-20', 'Product Category': 'Home & Garden', 'Price': 200},{'Purchase Date': '2022-12-05', 'Product Category': 'Electronics', 'Price': 350}\",\"{'Purchase Date': '2022-11-05', 'Product Category': 'Electronics', 'Price': 150},{'Purchase Date': '2023-01-10', 'Product Category': 'Clothing', 'Price': 29.99}\",\"{'Purchase Date': '2022-06-12', 'Product Category': 'Electronics', 'Price': 350}\",\"{'Purchase Date': '2022-05-08', 'Product Category': 'Electronics', 'Price': 200},{'Purchase Date': '2022-06-05', 'Product Category': 'Home & Garden', 'Price': 150}\",\"{'Purchase Date': '2022-05-23', 'Product Category': 'Electronics', 'Price': 400},{'Purchase Date': '2022-06-03', 'Product Category': 'Home & Garden', 'Price': 200}\",\"{'Purchase Date': '2022-05-20', 'Product Category': 'Electronics', 'Price': 300},{'Purchase Date': '2022-06-04', 'Product Category': 'Home & Garden', 'Price': 250}\",\"{'Purchase Date': '2022-05-12', 'Product Category': 'Electronics', 'Price': 250},{'Purchase Date': '2022-06-01', 'Product Category': 'Home & Garden', 'Price': 175}\",\"{'Purchase Date': '2022-05-22', 'Product Category': 'Electronics', 'Price': 350},{'Purchase Date': '2022-06-02', 'Product Category': 'Home & Garden', 'Price': 100}\",\"[{\\\"Product Category\\\": \\\"Clothing\\\", \\\"Purchase Date\\\": \\\"2022-02-20\\\", \\\"Price\\\": 150.2}, {\\\"Product Category\\\": \\\"Home & Garden\\\", \\\"Purchase Date\\\": \\\"2022-01-12\\\", \\\"Price\\\": 450}]\",\"[{\\\"Product Category\\\": \\\"Electronics\\\", \\\"Purchase Date\\\": \\\"2022-07-03\\\", \\\"Price\\\": 249.99}, {\\\"Product Category\\\": \\\"Home & Garden\\\", \\\"Purchase Date\\\": \\\"2022-06-17\\\", \\\"Price\\\": 129.99}]\",\"[{\\\"Product Category\\\": \\\"Electronics\\\", \\\"Purchase Date\\\": \\\"2022-06-01\\\", \\\"Price\\\": 129.99}, {\\\"Product Category\\\": \\\"Home & Garden\\\", \\\"Purchase Date\\\": \\\"2022-05-18\\\", \\\"Price\\\": 59.99}]\",\"[{\\\"Purchase Date\\\": \\\"2022-07-08\\\",\\\"Product Category\\\": \\\"Electronics\\\",\\\"Price\\\": 420},{\\\"Purchase Date\\\": \\\"2022-06-23\\\",\\\"Product Category\\\": \\\"Clothing\\\",\\\"Price\\\": 75},{\\\"Purchase Date\\\": \\\"2022-05-12\\\",\\\"Product Category\\\": \\\"Home & Garden\\\",\\\"Price\\\": 200}]\"],\"yaxis\":\"y\",\"type\":\"scatter\"},{\"hovertemplate\":\"Gender=Other\\u003cbr\\u003eAnnual Income=%{x}\\u003cbr\\u003ePurchase History=%{y}\\u003cextra\\u003e\\u003c\\u002fextra\\u003e\",\"legendgroup\":\"Other\",\"marker\":{\"color\":\"#00cc96\",\"symbol\":\"circle\"},\"mode\":\"markers\",\"name\":\"Other\",\"orientation\":\"h\",\"showlegend\":true,\"x\":[90000,85000,40000,80000,50000,42000],\"xaxis\":\"x\",\"y\":[\"{'Purchase Date': '2022-09-01', 'Product Category': 'Electronics', 'Price': 300.2},{'Purchase Date': '2022-08-12', 'Product Category': 'Clothing', 'Price': 185.3},{'Purchase Date': '2022-07-28', 'Product Category': 'Home & Garden', 'Price': 200.9}\",\"{'Purchase Date': '2022-09-05', 'Product Category': 'Electronics', 'Price': 400.9},{'Purchase Date': '2022-08-18', 'Product Category': 'Clothing', 'Price': 195.3},{'Purchase Date': '2022-07-03', 'Product Category': 'Home & Garden', 'Price': 220.7}\",\"{'Purchase Date': '2022-08-25', 'Product Category': 'Electronics', 'Price': 170.8},{'Purchase Date': '2022-07-09', 'Product Category': 'Clothing', 'Price': 105.6},{'Purchase Date': '2022-06-24', 'Product Category': 'Home & Garden', 'Price': 290.1}\",\"{'Purchase Date': '2022-01-18', 'Product Category': 'Home & Garden', 'Price': 180},{'Purchase Date': '2022-06-02', 'Product Category': 'Electronics', 'Price': 400}\",\"[{\\\"Product Category\\\": \\\"Clothing\\\", \\\"Purchase Date\\\": \\\"2022-06-22\\\", \\\"Price\\\": 34.99}, {\\\"Product Category\\\": \\\"Electronics\\\", \\\"Purchase Date\\\": \\\"2022-05-15\\\", \\\"Price\\\": 149.99}]\",\"[{\\\"Purchase Date\\\": \\\"2022-07-01\\\",\\\"Product Category\\\": \\\"Electronics\\\",\\\"Price\\\": 180},{\\\"Purchase Date\\\": \\\"2022-06-18\\\",\\\"Product Category\\\": \\\"Clothing\\\",\\\"Price\\\": 50},{\\\"Purchase Date\\\": \\\"2022-05-09\\\",\\\"Product Category\\\": \\\"Home & Garden\\\",\\\"Price\\\": 30}]\"],\"yaxis\":\"y\",\"type\":\"scatter\"}],                        {\"template\":{\"data\":{\"histogram2dcontour\":[{\"type\":\"histogram2dcontour\",\"colorbar\":{\"outlinewidth\":0,\"ticks\":\"\"},\"colorscale\":[[0.0,\"#0d0887\"],[0.1111111111111111,\"#46039f\"],[0.2222222222222222,\"#7201a8\"],[0.3333333333333333,\"#9c179e\"],[0.4444444444444444,\"#bd3786\"],[0.5555555555555556,\"#d8576b\"],[0.6666666666666666,\"#ed7953\"],[0.7777777777777778,\"#fb9f3a\"],[0.8888888888888888,\"#fdca26\"],[1.0,\"#f0f921\"]]}],\"choropleth\":[{\"type\":\"choropleth\",\"colorbar\":{\"outlinewidth\":0,\"ticks\":\"\"}}],\"histogram2d\":[{\"type\":\"histogram2d\",\"colorbar\":{\"outlinewidth\":0,\"ticks\":\"\"},\"colorscale\":[[0.0,\"#0d0887\"],[0.1111111111111111,\"#46039f\"],[0.2222222222222222,\"#7201a8\"],[0.3333333333333333,\"#9c179e\"],[0.4444444444444444,\"#bd3786\"],[0.5555555555555556,\"#d8576b\"],[0.6666666666666666,\"#ed7953\"],[0.7777777777777778,\"#fb9f3a\"],[0.8888888888888888,\"#fdca26\"],[1.0,\"#f0f921\"]]}],\"heatmap\":[{\"type\":\"heatmap\",\"colorbar\":{\"outlinewidth\":0,\"ticks\":\"\"},\"colorscale\":[[0.0,\"#0d0887\"],[0.1111111111111111,\"#46039f\"],[0.2222222222222222,\"#7201a8\"],[0.3333333333333333,\"#9c179e\"],[0.4444444444444444,\"#bd3786\"],[0.5555555555555556,\"#d8576b\"],[0.6666666666666666,\"#ed7953\"],[0.7777777777777778,\"#fb9f3a\"],[0.8888888888888888,\"#fdca26\"],[1.0,\"#f0f921\"]]}],\"heatmapgl\":[{\"type\":\"heatmapgl\",\"colorbar\":{\"outlinewidth\":0,\"ticks\":\"\"},\"colorscale\":[[0.0,\"#0d0887\"],[0.1111111111111111,\"#46039f\"],[0.2222222222222222,\"#7201a8\"],[0.3333333333333333,\"#9c179e\"],[0.4444444444444444,\"#bd3786\"],[0.5555555555555556,\"#d8576b\"],[0.6666666666666666,\"#ed7953\"],[0.7777777777777778,\"#fb9f3a\"],[0.8888888888888888,\"#fdca26\"],[1.0,\"#f0f921\"]]}],\"contourcarpet\":[{\"type\":\"contourcarpet\",\"colorbar\":{\"outlinewidth\":0,\"ticks\":\"\"}}],\"contour\":[{\"type\":\"contour\",\"colorbar\":{\"outlinewidth\":0,\"ticks\":\"\"},\"colorscale\":[[0.0,\"#0d0887\"],[0.1111111111111111,\"#46039f\"],[0.2222222222222222,\"#7201a8\"],[0.3333333333333333,\"#9c179e\"],[0.4444444444444444,\"#bd3786\"],[0.5555555555555556,\"#d8576b\"],[0.6666666666666666,\"#ed7953\"],[0.7777777777777778,\"#fb9f3a\"],[0.8888888888888888,\"#fdca26\"],[1.0,\"#f0f921\"]]}],\"surface\":[{\"type\":\"surface\",\"colorbar\":{\"outlinewidth\":0,\"ticks\":\"\"},\"colorscale\":[[0.0,\"#0d0887\"],[0.1111111111111111,\"#46039f\"],[0.2222222222222222,\"#7201a8\"],[0.3333333333333333,\"#9c179e\"],[0.4444444444444444,\"#bd3786\"],[0.5555555555555556,\"#d8576b\"],[0.6666666666666666,\"#ed7953\"],[0.7777777777777778,\"#fb9f3a\"],[0.8888888888888888,\"#fdca26\"],[1.0,\"#f0f921\"]]}],\"mesh3d\":[{\"type\":\"mesh3d\",\"colorbar\":{\"outlinewidth\":0,\"ticks\":\"\"}}],\"scatter\":[{\"fillpattern\":{\"fillmode\":\"overlay\",\"size\":10,\"solidity\":0.2},\"type\":\"scatter\"}],\"parcoords\":[{\"type\":\"parcoords\",\"line\":{\"colorbar\":{\"outlinewidth\":0,\"ticks\":\"\"}}}],\"scatterpolargl\":[{\"type\":\"scatterpolargl\",\"marker\":{\"colorbar\":{\"outlinewidth\":0,\"ticks\":\"\"}}}],\"bar\":[{\"error_x\":{\"color\":\"#2a3f5f\"},\"error_y\":{\"color\":\"#2a3f5f\"},\"marker\":{\"line\":{\"color\":\"#E5ECF6\",\"width\":0.5},\"pattern\":{\"fillmode\":\"overlay\",\"size\":10,\"solidity\":0.2}},\"type\":\"bar\"}],\"scattergeo\":[{\"type\":\"scattergeo\",\"marker\":{\"colorbar\":{\"outlinewidth\":0,\"ticks\":\"\"}}}],\"scatterpolar\":[{\"type\":\"scatterpolar\",\"marker\":{\"colorbar\":{\"outlinewidth\":0,\"ticks\":\"\"}}}],\"histogram\":[{\"marker\":{\"pattern\":{\"fillmode\":\"overlay\",\"size\":10,\"solidity\":0.2}},\"type\":\"histogram\"}],\"scattergl\":[{\"type\":\"scattergl\",\"marker\":{\"colorbar\":{\"outlinewidth\":0,\"ticks\":\"\"}}}],\"scatter3d\":[{\"type\":\"scatter3d\",\"line\":{\"colorbar\":{\"outlinewidth\":0,\"ticks\":\"\"}},\"marker\":{\"colorbar\":{\"outlinewidth\":0,\"ticks\":\"\"}}}],\"scattermapbox\":[{\"type\":\"scattermapbox\",\"marker\":{\"colorbar\":{\"outlinewidth\":0,\"ticks\":\"\"}}}],\"scatterternary\":[{\"type\":\"scatterternary\",\"marker\":{\"colorbar\":{\"outlinewidth\":0,\"ticks\":\"\"}}}],\"scattercarpet\":[{\"type\":\"scattercarpet\",\"marker\":{\"colorbar\":{\"outlinewidth\":0,\"ticks\":\"\"}}}],\"carpet\":[{\"aaxis\":{\"endlinecolor\":\"#2a3f5f\",\"gridcolor\":\"white\",\"linecolor\":\"white\",\"minorgridcolor\":\"white\",\"startlinecolor\":\"#2a3f5f\"},\"baxis\":{\"endlinecolor\":\"#2a3f5f\",\"gridcolor\":\"white\",\"linecolor\":\"white\",\"minorgridcolor\":\"white\",\"startlinecolor\":\"#2a3f5f\"},\"type\":\"carpet\"}],\"table\":[{\"cells\":{\"fill\":{\"color\":\"#EBF0F8\"},\"line\":{\"color\":\"white\"}},\"header\":{\"fill\":{\"color\":\"#C8D4E3\"},\"line\":{\"color\":\"white\"}},\"type\":\"table\"}],\"barpolar\":[{\"marker\":{\"line\":{\"color\":\"#E5ECF6\",\"width\":0.5},\"pattern\":{\"fillmode\":\"overlay\",\"size\":10,\"solidity\":0.2}},\"type\":\"barpolar\"}],\"pie\":[{\"automargin\":true,\"type\":\"pie\"}]},\"layout\":{\"autotypenumbers\":\"strict\",\"colorway\":[\"#636efa\",\"#EF553B\",\"#00cc96\",\"#ab63fa\",\"#FFA15A\",\"#19d3f3\",\"#FF6692\",\"#B6E880\",\"#FF97FF\",\"#FECB52\"],\"font\":{\"color\":\"#2a3f5f\"},\"hovermode\":\"closest\",\"hoverlabel\":{\"align\":\"left\"},\"paper_bgcolor\":\"white\",\"plot_bgcolor\":\"#E5ECF6\",\"polar\":{\"bgcolor\":\"#E5ECF6\",\"angularaxis\":{\"gridcolor\":\"white\",\"linecolor\":\"white\",\"ticks\":\"\"},\"radialaxis\":{\"gridcolor\":\"white\",\"linecolor\":\"white\",\"ticks\":\"\"}},\"ternary\":{\"bgcolor\":\"#E5ECF6\",\"aaxis\":{\"gridcolor\":\"white\",\"linecolor\":\"white\",\"ticks\":\"\"},\"baxis\":{\"gridcolor\":\"white\",\"linecolor\":\"white\",\"ticks\":\"\"},\"caxis\":{\"gridcolor\":\"white\",\"linecolor\":\"white\",\"ticks\":\"\"}},\"coloraxis\":{\"colorbar\":{\"outlinewidth\":0,\"ticks\":\"\"}},\"colorscale\":{\"sequential\":[[0.0,\"#0d0887\"],[0.1111111111111111,\"#46039f\"],[0.2222222222222222,\"#7201a8\"],[0.3333333333333333,\"#9c179e\"],[0.4444444444444444,\"#bd3786\"],[0.5555555555555556,\"#d8576b\"],[0.6666666666666666,\"#ed7953\"],[0.7777777777777778,\"#fb9f3a\"],[0.8888888888888888,\"#fdca26\"],[1.0,\"#f0f921\"]],\"sequentialminus\":[[0.0,\"#0d0887\"],[0.1111111111111111,\"#46039f\"],[0.2222222222222222,\"#7201a8\"],[0.3333333333333333,\"#9c179e\"],[0.4444444444444444,\"#bd3786\"],[0.5555555555555556,\"#d8576b\"],[0.6666666666666666,\"#ed7953\"],[0.7777777777777778,\"#fb9f3a\"],[0.8888888888888888,\"#fdca26\"],[1.0,\"#f0f921\"]],\"diverging\":[[0,\"#8e0152\"],[0.1,\"#c51b7d\"],[0.2,\"#de77ae\"],[0.3,\"#f1b6da\"],[0.4,\"#fde0ef\"],[0.5,\"#f7f7f7\"],[0.6,\"#e6f5d0\"],[0.7,\"#b8e186\"],[0.8,\"#7fbc41\"],[0.9,\"#4d9221\"],[1,\"#276419\"]]},\"xaxis\":{\"gridcolor\":\"white\",\"linecolor\":\"white\",\"ticks\":\"\",\"title\":{\"standoff\":15},\"zerolinecolor\":\"white\",\"automargin\":true,\"zerolinewidth\":2},\"yaxis\":{\"gridcolor\":\"white\",\"linecolor\":\"white\",\"ticks\":\"\",\"title\":{\"standoff\":15},\"zerolinecolor\":\"white\",\"automargin\":true,\"zerolinewidth\":2},\"scene\":{\"xaxis\":{\"backgroundcolor\":\"#E5ECF6\",\"gridcolor\":\"white\",\"linecolor\":\"white\",\"showbackground\":true,\"ticks\":\"\",\"zerolinecolor\":\"white\",\"gridwidth\":2},\"yaxis\":{\"backgroundcolor\":\"#E5ECF6\",\"gridcolor\":\"white\",\"linecolor\":\"white\",\"showbackground\":true,\"ticks\":\"\",\"zerolinecolor\":\"white\",\"gridwidth\":2},\"zaxis\":{\"backgroundcolor\":\"#E5ECF6\",\"gridcolor\":\"white\",\"linecolor\":\"white\",\"showbackground\":true,\"ticks\":\"\",\"zerolinecolor\":\"white\",\"gridwidth\":2}},\"shapedefaults\":{\"line\":{\"color\":\"#2a3f5f\"}},\"annotationdefaults\":{\"arrowcolor\":\"#2a3f5f\",\"arrowhead\":0,\"arrowwidth\":1},\"geo\":{\"bgcolor\":\"white\",\"landcolor\":\"#E5ECF6\",\"subunitcolor\":\"white\",\"showland\":true,\"showlakes\":true,\"lakecolor\":\"white\"},\"title\":{\"x\":0.05},\"mapbox\":{\"style\":\"light\"}}},\"xaxis\":{\"anchor\":\"y\",\"domain\":[0.0,1.0],\"title\":{\"text\":\"Annual Income\"}},\"yaxis\":{\"anchor\":\"x\",\"domain\":[0.0,1.0],\"title\":{\"text\":\"Purchase History\"}},\"legend\":{\"title\":{\"text\":\"Gender\"},\"tracegroupgap\":0},\"title\":{\"text\":\"Annual Income vs Purchase History\"},\"width\":2500},                        {\"responsive\": true}                    ).then(function(){\n",
              "                            \n",
              "var gd = document.getElementById('02c22875-15c2-4fdc-927d-df5516e9ace3');\n",
              "var x = new MutationObserver(function (mutations, observer) {{\n",
              "        var display = window.getComputedStyle(gd).display;\n",
              "        if (!display || display === 'none') {{\n",
              "            console.log([gd, 'removed!']);\n",
              "            Plotly.purge(gd);\n",
              "            observer.disconnect();\n",
              "        }}\n",
              "}});\n",
              "\n",
              "// Listen for the removal of the full notebook cells\n",
              "var notebookContainer = gd.closest('#notebook-container');\n",
              "if (notebookContainer) {{\n",
              "    x.observe(notebookContainer, {childList: true});\n",
              "}}\n",
              "\n",
              "// Listen for the clearing of the current output cell\n",
              "var outputEl = gd.closest('.output');\n",
              "if (outputEl) {{\n",
              "    x.observe(outputEl, {childList: true});\n",
              "}}\n",
              "\n",
              "                        })                };                            </script>        </div>\n",
              "</body>\n",
              "</html>"
            ]
          },
          "metadata": {}
        }
      ]
    },
    {
      "cell_type": "markdown",
      "source": [
        "**How long do customers stay on the site relative to their purchase history?**"
      ],
      "metadata": {
        "id": "erPo6oQyiy2b"
      }
    },
    {
      "cell_type": "code",
      "source": [
        "fig = px.scatter(df_no_outliers, x='Time on Site', y='Purchase History', color='Annual Income',\n",
        "                 title='Time on Site vs Purchase History', width=2500)\n",
        "fig.show()"
      ],
      "metadata": {
        "execution": {
          "iopub.status.busy": "2024-09-19T09:54:01.172754Z",
          "iopub.execute_input": "2024-09-19T09:54:01.173107Z",
          "iopub.status.idle": "2024-09-19T09:54:01.257504Z",
          "shell.execute_reply.started": "2024-09-19T09:54:01.173068Z",
          "shell.execute_reply": "2024-09-19T09:54:01.256165Z"
        },
        "trusted": true,
        "id": "Ate6UPU9iy2c",
        "outputId": "58f3148c-c104-496e-e0c9-c5c7cb724641",
        "colab": {
          "base_uri": "https://localhost:8080/",
          "height": 562
        }
      },
      "execution_count": 21,
      "outputs": [
        {
          "output_type": "display_data",
          "data": {
            "text/html": [
              "<html>\n",
              "<head><meta charset=\"utf-8\" /></head>\n",
              "<body>\n",
              "    <div>            <script src=\"https://cdnjs.cloudflare.com/ajax/libs/mathjax/2.7.5/MathJax.js?config=TeX-AMS-MML_SVG\"></script><script type=\"text/javascript\">if (window.MathJax && window.MathJax.Hub && window.MathJax.Hub.Config) {window.MathJax.Hub.Config({SVG: {font: \"STIX-Web\"}});}</script>                <script type=\"text/javascript\">window.PlotlyConfig = {MathJaxConfig: 'local'};</script>\n",
              "        <script charset=\"utf-8\" src=\"https://cdn.plot.ly/plotly-2.35.2.min.js\"></script>                <div id=\"f88e5b6b-6d38-4fd6-9ad6-0562f2e97042\" class=\"plotly-graph-div\" style=\"height:525px; width:2500px;\"></div>            <script type=\"text/javascript\">                                    window.PLOTLYENV=window.PLOTLYENV || {};                                    if (document.getElementById(\"f88e5b6b-6d38-4fd6-9ad6-0562f2e97042\")) {                    Plotly.newPlot(                        \"f88e5b6b-6d38-4fd6-9ad6-0562f2e97042\",                        [{\"hovertemplate\":\"Time on Site=%{x}\\u003cbr\\u003ePurchase History=%{y}\\u003cbr\\u003eAnnual Income=%{marker.color}\\u003cextra\\u003e\\u003c\\u002fextra\\u003e\",\"legendgroup\":\"\",\"marker\":{\"color\":[45000,52000,65000,70000,45000,90000,60000,75000,85000,55000,80000,40000,75000,50000,80000,45000,90000,65000,70000,85000,55000,75000,40000,95000,45000,50000,80000,60000,70000,45000,90000,65000,85000,40000,75000,55000,95000,68000,65000,60000,75000,55000,65000,80000,50000,100000,45000,55000,87000,42000],\"coloraxis\":\"coloraxis\",\"symbol\":\"circle\"},\"mode\":\"markers\",\"name\":\"\",\"orientation\":\"h\",\"showlegend\":false,\"x\":[32.5,123.45,125.6,327.6,214.9,486.3,378.5,289.8,456.2,334.9,298.6,312.5,120.0,75.0,200.0,150.0,300.0,250.0,180.0,280.0,220.0,200.0,160.0,240.0,120.5,120.0,300.0,250.0,350.0,200.0,400.0,300.0,450.0,250.0,350.0,200.0,300.0,250.0,72.3,123.6,246.9,75.2,120.5,250.0,75.0,300.0,100.0,120.0,350.0,200.0],\"xaxis\":\"x\",\"y\":[\"[{\\\"Date\\\": \\\"2022-03-05\\\", \\\"Category\\\": \\\"Clothing\\\", \\\"Price\\\": 34.99}, {\\\"Date\\\": \\\"2022-02-12\\\", \\\"Category\\\": \\\"Electronics\\\", \\\"Price\\\": 129.99}, {\\\"Date\\\": \\\"2022-01-20\\\", \\\"Category\\\": \\\"Home & Garden\\\", \\\"Price\\\": 29.99}]\",\"[{\\\"Product Category\\\": \\\"Clothing\\\", \\\"Purchase Date\\\": \\\"2022-05-15\\\", \\\"Price\\\": 34.56}, {\\\"Product Category\\\": \\\"Electronics\\\", \\\"Purchase Date\\\": \\\"2022-06-02\\\", \\\"Price\\\": 150.99}]\",\"[{\\\"Product Category\\\": \\\"Electronics\\\", \\\"Purchase Date\\\": \\\"2022-08-15\\\", \\\"Price\\\": 345.5}, {\\\"Product Category\\\": \\\"Home & Garden\\\", \\\"Purchase Date\\\": \\\"2022-07-02\\\", \\\"Price\\\": 279.99}]\",\"{'Purchase Date': '2022-08-15', 'Product Category': 'Electronics', 'Price': 200.5},{'Purchase Date': '2022-07-22', 'Product Category': 'Clothing', 'Price': 125.6},{'Purchase Date': '2022-06-01', 'Product Category': 'Home & Garden', 'Price': 300.8},{'Purchase Date': '2022-05-10', 'Product Category': 'Electronics', 'Price': 150.9}\",\"{'Purchase Date': '2022-07-25', 'Product Category': 'Clothing', 'Price': 67.2},{'Purchase Date': '2022-06-08', 'Product Category': 'Home & Garden', 'Price': 250.1},{'Purchase Date': '2022-05-15', 'Product Category': 'Electronics', 'Price': 400.7}\",\"{'Purchase Date': '2022-09-01', 'Product Category': 'Electronics', 'Price': 300.2},{'Purchase Date': '2022-08-12', 'Product Category': 'Clothing', 'Price': 185.3},{'Purchase Date': '2022-07-28', 'Product Category': 'Home & Garden', 'Price': 200.9}\",\"{'Purchase Date': '2022-07-20', 'Product Category': 'Electronics', 'Price': 150.8},{'Purchase Date': '2022-06-05', 'Product Category': 'Clothing', 'Price': 120.6},{'Purchase Date': '2022-05-18', 'Product Category': 'Home & Garden', 'Price': 350.1}\",\"{'Purchase Date': '2022-08-28', 'Product Category': 'Electronics', 'Price': 250.6},{'Purchase Date': '2022-07-15', 'Product Category': 'Clothing', 'Price': 115.7},{'Purchase Date': '2022-06-03', 'Product Category': 'Home & Garden', 'Price': 300.4}\",\"{'Purchase Date': '2022-09-05', 'Product Category': 'Electronics', 'Price': 400.9},{'Purchase Date': '2022-08-18', 'Product Category': 'Clothing', 'Price': 195.3},{'Purchase Date': '2022-07-03', 'Product Category': 'Home & Garden', 'Price': 220.7}\",\"{'Purchase Date': '2022-07-27', 'Product Category': 'Electronics', 'Price': 120.5},{'Purchase Date': '2022-06-12', 'Product Category': 'Clothing', 'Price': 130.6},{'Purchase Date': '2022-05-28', 'Product Category': 'Home & Garden', 'Price': 320.8}\",\"{'Purchase Date': '2022-09-08', 'Product Category': 'Electronics', 'Price': 350.2},{'Purchase Date': '2022-08-23', 'Product Category': 'Clothing', 'Price': 165.3},{'Purchase Date': '2022-07-07', 'Product Category': 'Home & Garden', 'Price': 280.9}\",\"{'Purchase Date': '2022-08-25', 'Product Category': 'Electronics', 'Price': 170.8},{'Purchase Date': '2022-07-09', 'Product Category': 'Clothing', 'Price': 105.6},{'Purchase Date': '2022-06-24', 'Product Category': 'Home & Garden', 'Price': 290.1}\",\"{'Purchase Date': '2022-03-05', 'Product Category': 'Clothing', 'Price': 45.99},{'Purchase Date': '2022-04-12', 'Product Category': 'Home & Garden', 'Price': 120.5}\",\"{'Purchase Date': '2022-02-15', 'Product Category': 'Electronics', 'Price': 250},{'Purchase Date': '2022-05-10', 'Product Category': 'Clothing', 'Price': 34.99}\",\"{'Purchase Date': '2022-01-18', 'Product Category': 'Home & Garden', 'Price': 180},{'Purchase Date': '2022-06-02', 'Product Category': 'Electronics', 'Price': 400}\",\"{'Purchase Date': '2022-04-25', 'Product Category': 'Clothing', 'Price': 29.99},{'Purchase Date': '2022-07-07', 'Product Category': 'Home & Garden', 'Price': 150}\",\"{'Purchase Date': '2022-05-20', 'Product Category': 'Electronics', 'Price': 600},{'Purchase Date': '2022-08-03', 'Product Category': 'Clothing', 'Price': 59.99}\",\"{'Purchase Date': '2022-06-15', 'Product Category': 'Home & Garden', 'Price': 220},{'Purchase Date': '2022-09-01', 'Product Category': 'Electronics', 'Price': 300}\",\"{'Purchase Date': '2022-07-22', 'Product Category': 'Clothing', 'Price': 39.99},{'Purchase Date': '2022-10-06', 'Product Category': 'Home & Garden', 'Price': 190}\",\"{'Purchase Date': '2022-08-08', 'Product Category': 'Electronics', 'Price': 550},{'Purchase Date': '2022-11-01', 'Product Category': 'Clothing', 'Price': 44.99}\",\"{'Purchase Date': '2022-09-20', 'Product Category': 'Home & Garden', 'Price': 200},{'Purchase Date': '2022-12-05', 'Product Category': 'Electronics', 'Price': 350}\",\"{'Purchase Date': '2022-10-15', 'Product Category': 'Clothing', 'Price': 34.99},{'Purchase Date': '2022-12-20', 'Product Category': 'Home & Garden', 'Price': 250}\",\"{'Purchase Date': '2022-11-05', 'Product Category': 'Electronics', 'Price': 150},{'Purchase Date': '2023-01-10', 'Product Category': 'Clothing', 'Price': 29.99}\",\"{'Purchase Date': '2022-12-25', 'Product Category': 'Home & Garden', 'Price': 170},{'Purchase Date': '2023-02-05', 'Product Category': 'Electronics', 'Price': 450}\",\"[{\\\"Purchase Date\\\": \\\"2022-09-15\\\", \\\"Product Category\\\": \\\"Clothing\\\", \\\"Price\\\": 34.5}]\",\"{'Purchase Date': '2022-05-15', 'Product Category': 'Clothing', 'Price': 120},{'Purchase Date': '2022-06-02', 'Product Category': 'Home & Garden', 'Price': 250}\",\"{'Purchase Date': '2022-06-12', 'Product Category': 'Electronics', 'Price': 350}\",\"{'Purchase Date': '2022-05-28', 'Product Category': 'Clothing', 'Price': 75},{'Purchase Date': '2022-06-10', 'Product Category': 'Home & Garden', 'Price': 120}\",\"{'Purchase Date': '2022-05-08', 'Product Category': 'Electronics', 'Price': 200},{'Purchase Date': '2022-06-05', 'Product Category': 'Home & Garden', 'Price': 150}\",\"{'Purchase Date': '2022-05-18', 'Product Category': 'Clothing', 'Price': 50},{'Purchase Date': '2022-06-07', 'Product Category': 'Home & Garden', 'Price': 100}\",\"{'Purchase Date': '2022-05-23', 'Product Category': 'Electronics', 'Price': 400},{'Purchase Date': '2022-06-03', 'Product Category': 'Home & Garden', 'Price': 200}\",\"{'Purchase Date': '2022-05-25', 'Product Category': 'Clothing', 'Price': 100},{'Purchase Date': '2022-06-08', 'Product Category': 'Home & Garden', 'Price': 180}\",\"{'Purchase Date': '2022-05-20', 'Product Category': 'Electronics', 'Price': 300},{'Purchase Date': '2022-06-04', 'Product Category': 'Home & Garden', 'Price': 250}\",\"{'Purchase Date': '2022-05-16', 'Product Category': 'Clothing', 'Price': 60},{'Purchase Date': '2022-06-06', 'Product Category': 'Home & Garden', 'Price': 150}\",\"{'Purchase Date': '2022-05-12', 'Product Category': 'Electronics', 'Price': 250},{'Purchase Date': '2022-06-01', 'Product Category': 'Home & Garden', 'Price': 175}\",\"{'Purchase Date': '2022-05-27', 'Product Category': 'Clothing', 'Price': 80},{'Purchase Date': '2022-06-09', 'Product Category': 'Home & Garden', 'Price': 200}\",\"{'Purchase Date': '2022-05-22', 'Product Category': 'Electronics', 'Price': 350},{'Purchase Date': '2022-06-02', 'Product Category': 'Home & Garden', 'Price': 100}\",\"{'Purchase Date': '2022-05-19', 'Product Category': 'Clothing', 'Price': 120},{'Purchase Date': '2022-06-07', 'Product Category': 'Home & Garden', 'Price': 150}\",\"[{\\\"Product Category\\\": \\\"Clothing\\\", \\\"Purchase Date\\\": \\\"2022-08-15\\\", \\\"Price\\\": 45.23}, {\\\"Product Category\\\": \\\"Electronics\\\", \\\"Purchase Date\\\": \\\"2022-07-20\\\", \\\"Price\\\": 250.34}]\",\"[{\\\"Product Category\\\": \\\"Electronics\\\", \\\"Purchase Date\\\": \\\"2022-03-15\\\", \\\"Price\\\": 250.5}, {\\\"Product Category\\\": \\\"Clothing\\\", \\\"Purchase Date\\\": \\\"2022-02-01\\\", \\\"Price\\\": 125.8}]\",\"[{\\\"Product Category\\\": \\\"Clothing\\\", \\\"Purchase Date\\\": \\\"2022-02-20\\\", \\\"Price\\\": 150.2}, {\\\"Product Category\\\": \\\"Home & Garden\\\", \\\"Purchase Date\\\": \\\"2022-01-12\\\", \\\"Price\\\": 450}]\",\"[{\\\"Product Category\\\": \\\"Electronics\\\", \\\"Purchase Date\\\": \\\"2022-03-15\\\", \\\"Price\\\": 249.99}]\",\"[{\\\"Product Category\\\": \\\"Clothing\\\", \\\"Purchase Date\\\": \\\"2022-06-12\\\", \\\"Price\\\": 45.99}, {\\\"Product Category\\\": \\\"Electronics\\\", \\\"Purchase Date\\\": \\\"2022-05-08\\\", \\\"Price\\\": 199.99}]\",\"[{\\\"Product Category\\\": \\\"Electronics\\\", \\\"Purchase Date\\\": \\\"2022-07-03\\\", \\\"Price\\\": 249.99}, {\\\"Product Category\\\": \\\"Home & Garden\\\", \\\"Purchase Date\\\": \\\"2022-06-17\\\", \\\"Price\\\": 129.99}]\",\"[{\\\"Product Category\\\": \\\"Clothing\\\", \\\"Purchase Date\\\": \\\"2022-06-22\\\", \\\"Price\\\": 34.99}, {\\\"Product Category\\\": \\\"Electronics\\\", \\\"Purchase Date\\\": \\\"2022-05-15\\\", \\\"Price\\\": 149.99}]\",\"[{\\\"Product Category\\\": \\\"Clothing\\\", \\\"Purchase Date\\\": \\\"2022-07-08\\\", \\\"Price\\\": 79.99}, {\\\"Product Category\\\": \\\"Home & Garden\\\", \\\"Purchase Date\\\": \\\"2022-06-24\\\", \\\"Price\\\": 399.99}]\",\"[{\\\"Product Category\\\": \\\"Electronics\\\", \\\"Purchase Date\\\": \\\"2022-06-01\\\", \\\"Price\\\": 129.99}, {\\\"Product Category\\\": \\\"Home & Garden\\\", \\\"Purchase Date\\\": \\\"2022-05-18\\\", \\\"Price\\\": 59.99}]\",\"[{\\\"Purchase Date\\\": \\\"2022-07-02\\\",\\\"Product Category\\\": \\\"Clothing\\\",\\\"Price\\\": 25.6},{\\\"Purchase Date\\\": \\\"2022-06-15\\\",\\\"Product Category\\\": \\\"Electronics\\\",\\\"Price\\\": 120},{\\\"Purchase Date\\\": \\\"2022-05-10\\\",\\\"Product Category\\\": \\\"Home & Garden\\\",\\\"Price\\\": 35}]\",\"[{\\\"Purchase Date\\\": \\\"2022-07-08\\\",\\\"Product Category\\\": \\\"Electronics\\\",\\\"Price\\\": 420},{\\\"Purchase Date\\\": \\\"2022-06-23\\\",\\\"Product Category\\\": \\\"Clothing\\\",\\\"Price\\\": 75},{\\\"Purchase Date\\\": \\\"2022-05-12\\\",\\\"Product Category\\\": \\\"Home & Garden\\\",\\\"Price\\\": 200}]\",\"[{\\\"Purchase Date\\\": \\\"2022-07-01\\\",\\\"Product Category\\\": \\\"Electronics\\\",\\\"Price\\\": 180},{\\\"Purchase Date\\\": \\\"2022-06-18\\\",\\\"Product Category\\\": \\\"Clothing\\\",\\\"Price\\\": 50},{\\\"Purchase Date\\\": \\\"2022-05-09\\\",\\\"Product Category\\\": \\\"Home & Garden\\\",\\\"Price\\\": 30}]\"],\"yaxis\":\"y\",\"type\":\"scatter\"}],                        {\"template\":{\"data\":{\"histogram2dcontour\":[{\"type\":\"histogram2dcontour\",\"colorbar\":{\"outlinewidth\":0,\"ticks\":\"\"},\"colorscale\":[[0.0,\"#0d0887\"],[0.1111111111111111,\"#46039f\"],[0.2222222222222222,\"#7201a8\"],[0.3333333333333333,\"#9c179e\"],[0.4444444444444444,\"#bd3786\"],[0.5555555555555556,\"#d8576b\"],[0.6666666666666666,\"#ed7953\"],[0.7777777777777778,\"#fb9f3a\"],[0.8888888888888888,\"#fdca26\"],[1.0,\"#f0f921\"]]}],\"choropleth\":[{\"type\":\"choropleth\",\"colorbar\":{\"outlinewidth\":0,\"ticks\":\"\"}}],\"histogram2d\":[{\"type\":\"histogram2d\",\"colorbar\":{\"outlinewidth\":0,\"ticks\":\"\"},\"colorscale\":[[0.0,\"#0d0887\"],[0.1111111111111111,\"#46039f\"],[0.2222222222222222,\"#7201a8\"],[0.3333333333333333,\"#9c179e\"],[0.4444444444444444,\"#bd3786\"],[0.5555555555555556,\"#d8576b\"],[0.6666666666666666,\"#ed7953\"],[0.7777777777777778,\"#fb9f3a\"],[0.8888888888888888,\"#fdca26\"],[1.0,\"#f0f921\"]]}],\"heatmap\":[{\"type\":\"heatmap\",\"colorbar\":{\"outlinewidth\":0,\"ticks\":\"\"},\"colorscale\":[[0.0,\"#0d0887\"],[0.1111111111111111,\"#46039f\"],[0.2222222222222222,\"#7201a8\"],[0.3333333333333333,\"#9c179e\"],[0.4444444444444444,\"#bd3786\"],[0.5555555555555556,\"#d8576b\"],[0.6666666666666666,\"#ed7953\"],[0.7777777777777778,\"#fb9f3a\"],[0.8888888888888888,\"#fdca26\"],[1.0,\"#f0f921\"]]}],\"heatmapgl\":[{\"type\":\"heatmapgl\",\"colorbar\":{\"outlinewidth\":0,\"ticks\":\"\"},\"colorscale\":[[0.0,\"#0d0887\"],[0.1111111111111111,\"#46039f\"],[0.2222222222222222,\"#7201a8\"],[0.3333333333333333,\"#9c179e\"],[0.4444444444444444,\"#bd3786\"],[0.5555555555555556,\"#d8576b\"],[0.6666666666666666,\"#ed7953\"],[0.7777777777777778,\"#fb9f3a\"],[0.8888888888888888,\"#fdca26\"],[1.0,\"#f0f921\"]]}],\"contourcarpet\":[{\"type\":\"contourcarpet\",\"colorbar\":{\"outlinewidth\":0,\"ticks\":\"\"}}],\"contour\":[{\"type\":\"contour\",\"colorbar\":{\"outlinewidth\":0,\"ticks\":\"\"},\"colorscale\":[[0.0,\"#0d0887\"],[0.1111111111111111,\"#46039f\"],[0.2222222222222222,\"#7201a8\"],[0.3333333333333333,\"#9c179e\"],[0.4444444444444444,\"#bd3786\"],[0.5555555555555556,\"#d8576b\"],[0.6666666666666666,\"#ed7953\"],[0.7777777777777778,\"#fb9f3a\"],[0.8888888888888888,\"#fdca26\"],[1.0,\"#f0f921\"]]}],\"surface\":[{\"type\":\"surface\",\"colorbar\":{\"outlinewidth\":0,\"ticks\":\"\"},\"colorscale\":[[0.0,\"#0d0887\"],[0.1111111111111111,\"#46039f\"],[0.2222222222222222,\"#7201a8\"],[0.3333333333333333,\"#9c179e\"],[0.4444444444444444,\"#bd3786\"],[0.5555555555555556,\"#d8576b\"],[0.6666666666666666,\"#ed7953\"],[0.7777777777777778,\"#fb9f3a\"],[0.8888888888888888,\"#fdca26\"],[1.0,\"#f0f921\"]]}],\"mesh3d\":[{\"type\":\"mesh3d\",\"colorbar\":{\"outlinewidth\":0,\"ticks\":\"\"}}],\"scatter\":[{\"fillpattern\":{\"fillmode\":\"overlay\",\"size\":10,\"solidity\":0.2},\"type\":\"scatter\"}],\"parcoords\":[{\"type\":\"parcoords\",\"line\":{\"colorbar\":{\"outlinewidth\":0,\"ticks\":\"\"}}}],\"scatterpolargl\":[{\"type\":\"scatterpolargl\",\"marker\":{\"colorbar\":{\"outlinewidth\":0,\"ticks\":\"\"}}}],\"bar\":[{\"error_x\":{\"color\":\"#2a3f5f\"},\"error_y\":{\"color\":\"#2a3f5f\"},\"marker\":{\"line\":{\"color\":\"#E5ECF6\",\"width\":0.5},\"pattern\":{\"fillmode\":\"overlay\",\"size\":10,\"solidity\":0.2}},\"type\":\"bar\"}],\"scattergeo\":[{\"type\":\"scattergeo\",\"marker\":{\"colorbar\":{\"outlinewidth\":0,\"ticks\":\"\"}}}],\"scatterpolar\":[{\"type\":\"scatterpolar\",\"marker\":{\"colorbar\":{\"outlinewidth\":0,\"ticks\":\"\"}}}],\"histogram\":[{\"marker\":{\"pattern\":{\"fillmode\":\"overlay\",\"size\":10,\"solidity\":0.2}},\"type\":\"histogram\"}],\"scattergl\":[{\"type\":\"scattergl\",\"marker\":{\"colorbar\":{\"outlinewidth\":0,\"ticks\":\"\"}}}],\"scatter3d\":[{\"type\":\"scatter3d\",\"line\":{\"colorbar\":{\"outlinewidth\":0,\"ticks\":\"\"}},\"marker\":{\"colorbar\":{\"outlinewidth\":0,\"ticks\":\"\"}}}],\"scattermapbox\":[{\"type\":\"scattermapbox\",\"marker\":{\"colorbar\":{\"outlinewidth\":0,\"ticks\":\"\"}}}],\"scatterternary\":[{\"type\":\"scatterternary\",\"marker\":{\"colorbar\":{\"outlinewidth\":0,\"ticks\":\"\"}}}],\"scattercarpet\":[{\"type\":\"scattercarpet\",\"marker\":{\"colorbar\":{\"outlinewidth\":0,\"ticks\":\"\"}}}],\"carpet\":[{\"aaxis\":{\"endlinecolor\":\"#2a3f5f\",\"gridcolor\":\"white\",\"linecolor\":\"white\",\"minorgridcolor\":\"white\",\"startlinecolor\":\"#2a3f5f\"},\"baxis\":{\"endlinecolor\":\"#2a3f5f\",\"gridcolor\":\"white\",\"linecolor\":\"white\",\"minorgridcolor\":\"white\",\"startlinecolor\":\"#2a3f5f\"},\"type\":\"carpet\"}],\"table\":[{\"cells\":{\"fill\":{\"color\":\"#EBF0F8\"},\"line\":{\"color\":\"white\"}},\"header\":{\"fill\":{\"color\":\"#C8D4E3\"},\"line\":{\"color\":\"white\"}},\"type\":\"table\"}],\"barpolar\":[{\"marker\":{\"line\":{\"color\":\"#E5ECF6\",\"width\":0.5},\"pattern\":{\"fillmode\":\"overlay\",\"size\":10,\"solidity\":0.2}},\"type\":\"barpolar\"}],\"pie\":[{\"automargin\":true,\"type\":\"pie\"}]},\"layout\":{\"autotypenumbers\":\"strict\",\"colorway\":[\"#636efa\",\"#EF553B\",\"#00cc96\",\"#ab63fa\",\"#FFA15A\",\"#19d3f3\",\"#FF6692\",\"#B6E880\",\"#FF97FF\",\"#FECB52\"],\"font\":{\"color\":\"#2a3f5f\"},\"hovermode\":\"closest\",\"hoverlabel\":{\"align\":\"left\"},\"paper_bgcolor\":\"white\",\"plot_bgcolor\":\"#E5ECF6\",\"polar\":{\"bgcolor\":\"#E5ECF6\",\"angularaxis\":{\"gridcolor\":\"white\",\"linecolor\":\"white\",\"ticks\":\"\"},\"radialaxis\":{\"gridcolor\":\"white\",\"linecolor\":\"white\",\"ticks\":\"\"}},\"ternary\":{\"bgcolor\":\"#E5ECF6\",\"aaxis\":{\"gridcolor\":\"white\",\"linecolor\":\"white\",\"ticks\":\"\"},\"baxis\":{\"gridcolor\":\"white\",\"linecolor\":\"white\",\"ticks\":\"\"},\"caxis\":{\"gridcolor\":\"white\",\"linecolor\":\"white\",\"ticks\":\"\"}},\"coloraxis\":{\"colorbar\":{\"outlinewidth\":0,\"ticks\":\"\"}},\"colorscale\":{\"sequential\":[[0.0,\"#0d0887\"],[0.1111111111111111,\"#46039f\"],[0.2222222222222222,\"#7201a8\"],[0.3333333333333333,\"#9c179e\"],[0.4444444444444444,\"#bd3786\"],[0.5555555555555556,\"#d8576b\"],[0.6666666666666666,\"#ed7953\"],[0.7777777777777778,\"#fb9f3a\"],[0.8888888888888888,\"#fdca26\"],[1.0,\"#f0f921\"]],\"sequentialminus\":[[0.0,\"#0d0887\"],[0.1111111111111111,\"#46039f\"],[0.2222222222222222,\"#7201a8\"],[0.3333333333333333,\"#9c179e\"],[0.4444444444444444,\"#bd3786\"],[0.5555555555555556,\"#d8576b\"],[0.6666666666666666,\"#ed7953\"],[0.7777777777777778,\"#fb9f3a\"],[0.8888888888888888,\"#fdca26\"],[1.0,\"#f0f921\"]],\"diverging\":[[0,\"#8e0152\"],[0.1,\"#c51b7d\"],[0.2,\"#de77ae\"],[0.3,\"#f1b6da\"],[0.4,\"#fde0ef\"],[0.5,\"#f7f7f7\"],[0.6,\"#e6f5d0\"],[0.7,\"#b8e186\"],[0.8,\"#7fbc41\"],[0.9,\"#4d9221\"],[1,\"#276419\"]]},\"xaxis\":{\"gridcolor\":\"white\",\"linecolor\":\"white\",\"ticks\":\"\",\"title\":{\"standoff\":15},\"zerolinecolor\":\"white\",\"automargin\":true,\"zerolinewidth\":2},\"yaxis\":{\"gridcolor\":\"white\",\"linecolor\":\"white\",\"ticks\":\"\",\"title\":{\"standoff\":15},\"zerolinecolor\":\"white\",\"automargin\":true,\"zerolinewidth\":2},\"scene\":{\"xaxis\":{\"backgroundcolor\":\"#E5ECF6\",\"gridcolor\":\"white\",\"linecolor\":\"white\",\"showbackground\":true,\"ticks\":\"\",\"zerolinecolor\":\"white\",\"gridwidth\":2},\"yaxis\":{\"backgroundcolor\":\"#E5ECF6\",\"gridcolor\":\"white\",\"linecolor\":\"white\",\"showbackground\":true,\"ticks\":\"\",\"zerolinecolor\":\"white\",\"gridwidth\":2},\"zaxis\":{\"backgroundcolor\":\"#E5ECF6\",\"gridcolor\":\"white\",\"linecolor\":\"white\",\"showbackground\":true,\"ticks\":\"\",\"zerolinecolor\":\"white\",\"gridwidth\":2}},\"shapedefaults\":{\"line\":{\"color\":\"#2a3f5f\"}},\"annotationdefaults\":{\"arrowcolor\":\"#2a3f5f\",\"arrowhead\":0,\"arrowwidth\":1},\"geo\":{\"bgcolor\":\"white\",\"landcolor\":\"#E5ECF6\",\"subunitcolor\":\"white\",\"showland\":true,\"showlakes\":true,\"lakecolor\":\"white\"},\"title\":{\"x\":0.05},\"mapbox\":{\"style\":\"light\"}}},\"xaxis\":{\"anchor\":\"y\",\"domain\":[0.0,1.0],\"title\":{\"text\":\"Time on Site\"}},\"yaxis\":{\"anchor\":\"x\",\"domain\":[0.0,1.0],\"title\":{\"text\":\"Purchase History\"}},\"coloraxis\":{\"colorbar\":{\"title\":{\"text\":\"Annual Income\"}},\"colorscale\":[[0.0,\"#0d0887\"],[0.1111111111111111,\"#46039f\"],[0.2222222222222222,\"#7201a8\"],[0.3333333333333333,\"#9c179e\"],[0.4444444444444444,\"#bd3786\"],[0.5555555555555556,\"#d8576b\"],[0.6666666666666666,\"#ed7953\"],[0.7777777777777778,\"#fb9f3a\"],[0.8888888888888888,\"#fdca26\"],[1.0,\"#f0f921\"]]},\"legend\":{\"tracegroupgap\":0},\"title\":{\"text\":\"Time on Site vs Purchase History\"},\"width\":2500},                        {\"responsive\": true}                    ).then(function(){\n",
              "                            \n",
              "var gd = document.getElementById('f88e5b6b-6d38-4fd6-9ad6-0562f2e97042');\n",
              "var x = new MutationObserver(function (mutations, observer) {{\n",
              "        var display = window.getComputedStyle(gd).display;\n",
              "        if (!display || display === 'none') {{\n",
              "            console.log([gd, 'removed!']);\n",
              "            Plotly.purge(gd);\n",
              "            observer.disconnect();\n",
              "        }}\n",
              "}});\n",
              "\n",
              "// Listen for the removal of the full notebook cells\n",
              "var notebookContainer = gd.closest('#notebook-container');\n",
              "if (notebookContainer) {{\n",
              "    x.observe(notebookContainer, {childList: true});\n",
              "}}\n",
              "\n",
              "// Listen for the clearing of the current output cell\n",
              "var outputEl = gd.closest('.output');\n",
              "if (outputEl) {{\n",
              "    x.observe(outputEl, {childList: true});\n",
              "}}\n",
              "\n",
              "                        })                };                            </script>        </div>\n",
              "</body>\n",
              "</html>"
            ]
          },
          "metadata": {}
        }
      ]
    },
    {
      "cell_type": "markdown",
      "source": [
        "**How does purchase behavior differ across customer segments (e.g., based on income or gender)?**"
      ],
      "metadata": {
        "id": "PMieDDPmiy2c"
      }
    },
    {
      "cell_type": "code",
      "source": [
        "fig = px.histogram(df_no_outliers, x='Purchase History', color='Gender', marginal='rug', title='Purchase History by Gender', height=2500)\n",
        "fig.show()"
      ],
      "metadata": {
        "execution": {
          "iopub.status.busy": "2024-09-19T09:54:01.259012Z",
          "iopub.execute_input": "2024-09-19T09:54:01.259404Z",
          "iopub.status.idle": "2024-09-19T09:54:01.444261Z",
          "shell.execute_reply.started": "2024-09-19T09:54:01.259362Z",
          "shell.execute_reply": "2024-09-19T09:54:01.443068Z"
        },
        "trusted": true,
        "id": "_AsS78vaiy2c",
        "outputId": "3bcdd0bb-0b9f-4bb3-b06d-00bbf5b21429",
        "colab": {
          "base_uri": "https://localhost:8080/",
          "height": 1000
        }
      },
      "execution_count": 22,
      "outputs": [
        {
          "output_type": "display_data",
          "data": {
            "text/html": [
              "<html>\n",
              "<head><meta charset=\"utf-8\" /></head>\n",
              "<body>\n",
              "    <div>            <script src=\"https://cdnjs.cloudflare.com/ajax/libs/mathjax/2.7.5/MathJax.js?config=TeX-AMS-MML_SVG\"></script><script type=\"text/javascript\">if (window.MathJax && window.MathJax.Hub && window.MathJax.Hub.Config) {window.MathJax.Hub.Config({SVG: {font: \"STIX-Web\"}});}</script>                <script type=\"text/javascript\">window.PlotlyConfig = {MathJaxConfig: 'local'};</script>\n",
              "        <script charset=\"utf-8\" src=\"https://cdn.plot.ly/plotly-2.35.2.min.js\"></script>                <div id=\"858f8789-f2a8-4d50-b292-a5dfe15df664\" class=\"plotly-graph-div\" style=\"height:2500px; width:100%;\"></div>            <script type=\"text/javascript\">                                    window.PLOTLYENV=window.PLOTLYENV || {};                                    if (document.getElementById(\"858f8789-f2a8-4d50-b292-a5dfe15df664\")) {                    Plotly.newPlot(                        \"858f8789-f2a8-4d50-b292-a5dfe15df664\",                        [{\"alignmentgroup\":\"True\",\"bingroup\":\"x\",\"hovertemplate\":\"Gender=Female\\u003cbr\\u003ePurchase History=%{x}\\u003cbr\\u003ecount=%{y}\\u003cextra\\u003e\\u003c\\u002fextra\\u003e\",\"legendgroup\":\"Female\",\"marker\":{\"color\":\"#636efa\",\"pattern\":{\"shape\":\"\"}},\"name\":\"Female\",\"offsetgroup\":\"Female\",\"orientation\":\"v\",\"showlegend\":true,\"x\":[\"[{\\\"Date\\\": \\\"2022-03-05\\\", \\\"Category\\\": \\\"Clothing\\\", \\\"Price\\\": 34.99}, {\\\"Date\\\": \\\"2022-02-12\\\", \\\"Category\\\": \\\"Electronics\\\", \\\"Price\\\": 129.99}, {\\\"Date\\\": \\\"2022-01-20\\\", \\\"Category\\\": \\\"Home & Garden\\\", \\\"Price\\\": 29.99}]\",\"[{\\\"Product Category\\\": \\\"Clothing\\\", \\\"Purchase Date\\\": \\\"2022-05-15\\\", \\\"Price\\\": 34.56}, {\\\"Product Category\\\": \\\"Electronics\\\", \\\"Purchase Date\\\": \\\"2022-06-02\\\", \\\"Price\\\": 150.99}]\",\"[{\\\"Product Category\\\": \\\"Electronics\\\", \\\"Purchase Date\\\": \\\"2022-08-15\\\", \\\"Price\\\": 345.5}, {\\\"Product Category\\\": \\\"Home & Garden\\\", \\\"Purchase Date\\\": \\\"2022-07-02\\\", \\\"Price\\\": 279.99}]\",\"{'Purchase Date': '2022-08-15', 'Product Category': 'Electronics', 'Price': 200.5},{'Purchase Date': '2022-07-22', 'Product Category': 'Clothing', 'Price': 125.6},{'Purchase Date': '2022-06-01', 'Product Category': 'Home & Garden', 'Price': 300.8},{'Purchase Date': '2022-05-10', 'Product Category': 'Electronics', 'Price': 150.9}\",\"{'Purchase Date': '2022-07-20', 'Product Category': 'Electronics', 'Price': 150.8},{'Purchase Date': '2022-06-05', 'Product Category': 'Clothing', 'Price': 120.6},{'Purchase Date': '2022-05-18', 'Product Category': 'Home & Garden', 'Price': 350.1}\",\"{'Purchase Date': '2022-07-27', 'Product Category': 'Electronics', 'Price': 120.5},{'Purchase Date': '2022-06-12', 'Product Category': 'Clothing', 'Price': 130.6},{'Purchase Date': '2022-05-28', 'Product Category': 'Home & Garden', 'Price': 320.8}\",\"{'Purchase Date': '2022-03-05', 'Product Category': 'Clothing', 'Price': 45.99},{'Purchase Date': '2022-04-12', 'Product Category': 'Home & Garden', 'Price': 120.5}\",\"{'Purchase Date': '2022-04-25', 'Product Category': 'Clothing', 'Price': 29.99},{'Purchase Date': '2022-07-07', 'Product Category': 'Home & Garden', 'Price': 150}\",\"{'Purchase Date': '2022-06-15', 'Product Category': 'Home & Garden', 'Price': 220},{'Purchase Date': '2022-09-01', 'Product Category': 'Electronics', 'Price': 300}\",\"{'Purchase Date': '2022-08-08', 'Product Category': 'Electronics', 'Price': 550},{'Purchase Date': '2022-11-01', 'Product Category': 'Clothing', 'Price': 44.99}\",\"{'Purchase Date': '2022-10-15', 'Product Category': 'Clothing', 'Price': 34.99},{'Purchase Date': '2022-12-20', 'Product Category': 'Home & Garden', 'Price': 250}\",\"{'Purchase Date': '2022-12-25', 'Product Category': 'Home & Garden', 'Price': 170},{'Purchase Date': '2023-02-05', 'Product Category': 'Electronics', 'Price': 450}\",\"[{\\\"Purchase Date\\\": \\\"2022-09-15\\\", \\\"Product Category\\\": \\\"Clothing\\\", \\\"Price\\\": 34.5}]\",\"{'Purchase Date': '2022-05-15', 'Product Category': 'Clothing', 'Price': 120},{'Purchase Date': '2022-06-02', 'Product Category': 'Home & Garden', 'Price': 250}\",\"{'Purchase Date': '2022-05-28', 'Product Category': 'Clothing', 'Price': 75},{'Purchase Date': '2022-06-10', 'Product Category': 'Home & Garden', 'Price': 120}\",\"{'Purchase Date': '2022-05-18', 'Product Category': 'Clothing', 'Price': 50},{'Purchase Date': '2022-06-07', 'Product Category': 'Home & Garden', 'Price': 100}\",\"{'Purchase Date': '2022-05-25', 'Product Category': 'Clothing', 'Price': 100},{'Purchase Date': '2022-06-08', 'Product Category': 'Home & Garden', 'Price': 180}\",\"{'Purchase Date': '2022-05-16', 'Product Category': 'Clothing', 'Price': 60},{'Purchase Date': '2022-06-06', 'Product Category': 'Home & Garden', 'Price': 150}\",\"{'Purchase Date': '2022-05-27', 'Product Category': 'Clothing', 'Price': 80},{'Purchase Date': '2022-06-09', 'Product Category': 'Home & Garden', 'Price': 200}\",\"{'Purchase Date': '2022-05-19', 'Product Category': 'Clothing', 'Price': 120},{'Purchase Date': '2022-06-07', 'Product Category': 'Home & Garden', 'Price': 150}\",\"[{\\\"Product Category\\\": \\\"Clothing\\\", \\\"Purchase Date\\\": \\\"2022-08-15\\\", \\\"Price\\\": 45.23}, {\\\"Product Category\\\": \\\"Electronics\\\", \\\"Purchase Date\\\": \\\"2022-07-20\\\", \\\"Price\\\": 250.34}]\",\"[{\\\"Product Category\\\": \\\"Electronics\\\", \\\"Purchase Date\\\": \\\"2022-03-15\\\", \\\"Price\\\": 250.5}, {\\\"Product Category\\\": \\\"Clothing\\\", \\\"Purchase Date\\\": \\\"2022-02-01\\\", \\\"Price\\\": 125.8}]\",\"[{\\\"Product Category\\\": \\\"Electronics\\\", \\\"Purchase Date\\\": \\\"2022-03-15\\\", \\\"Price\\\": 249.99}]\",\"[{\\\"Product Category\\\": \\\"Clothing\\\", \\\"Purchase Date\\\": \\\"2022-06-12\\\", \\\"Price\\\": 45.99}, {\\\"Product Category\\\": \\\"Electronics\\\", \\\"Purchase Date\\\": \\\"2022-05-08\\\", \\\"Price\\\": 199.99}]\",\"[{\\\"Product Category\\\": \\\"Clothing\\\", \\\"Purchase Date\\\": \\\"2022-07-08\\\", \\\"Price\\\": 79.99}, {\\\"Product Category\\\": \\\"Home & Garden\\\", \\\"Purchase Date\\\": \\\"2022-06-24\\\", \\\"Price\\\": 399.99}]\",\"[{\\\"Purchase Date\\\": \\\"2022-07-02\\\",\\\"Product Category\\\": \\\"Clothing\\\",\\\"Price\\\": 25.6},{\\\"Purchase Date\\\": \\\"2022-06-15\\\",\\\"Product Category\\\": \\\"Electronics\\\",\\\"Price\\\": 120},{\\\"Purchase Date\\\": \\\"2022-05-10\\\",\\\"Product Category\\\": \\\"Home & Garden\\\",\\\"Price\\\": 35}]\"],\"xaxis\":\"x\",\"yaxis\":\"y\",\"type\":\"histogram\"},{\"alignmentgroup\":\"True\",\"boxpoints\":\"all\",\"fillcolor\":\"rgba(255,255,255,0)\",\"hoveron\":\"points\",\"hovertemplate\":\"Gender=Female\\u003cbr\\u003ePurchase History=%{x}\\u003cextra\\u003e\\u003c\\u002fextra\\u003e\",\"jitter\":0,\"legendgroup\":\"Female\",\"line\":{\"color\":\"rgba(255,255,255,0)\"},\"marker\":{\"color\":\"#636efa\",\"symbol\":\"line-ns-open\"},\"name\":\"Female\",\"offsetgroup\":\"Female\",\"showlegend\":false,\"x\":[\"[{\\\"Date\\\": \\\"2022-03-05\\\", \\\"Category\\\": \\\"Clothing\\\", \\\"Price\\\": 34.99}, {\\\"Date\\\": \\\"2022-02-12\\\", \\\"Category\\\": \\\"Electronics\\\", \\\"Price\\\": 129.99}, {\\\"Date\\\": \\\"2022-01-20\\\", \\\"Category\\\": \\\"Home & Garden\\\", \\\"Price\\\": 29.99}]\",\"[{\\\"Product Category\\\": \\\"Clothing\\\", \\\"Purchase Date\\\": \\\"2022-05-15\\\", \\\"Price\\\": 34.56}, {\\\"Product Category\\\": \\\"Electronics\\\", \\\"Purchase Date\\\": \\\"2022-06-02\\\", \\\"Price\\\": 150.99}]\",\"[{\\\"Product Category\\\": \\\"Electronics\\\", \\\"Purchase Date\\\": \\\"2022-08-15\\\", \\\"Price\\\": 345.5}, {\\\"Product Category\\\": \\\"Home & Garden\\\", \\\"Purchase Date\\\": \\\"2022-07-02\\\", \\\"Price\\\": 279.99}]\",\"{'Purchase Date': '2022-08-15', 'Product Category': 'Electronics', 'Price': 200.5},{'Purchase Date': '2022-07-22', 'Product Category': 'Clothing', 'Price': 125.6},{'Purchase Date': '2022-06-01', 'Product Category': 'Home & Garden', 'Price': 300.8},{'Purchase Date': '2022-05-10', 'Product Category': 'Electronics', 'Price': 150.9}\",\"{'Purchase Date': '2022-07-20', 'Product Category': 'Electronics', 'Price': 150.8},{'Purchase Date': '2022-06-05', 'Product Category': 'Clothing', 'Price': 120.6},{'Purchase Date': '2022-05-18', 'Product Category': 'Home & Garden', 'Price': 350.1}\",\"{'Purchase Date': '2022-07-27', 'Product Category': 'Electronics', 'Price': 120.5},{'Purchase Date': '2022-06-12', 'Product Category': 'Clothing', 'Price': 130.6},{'Purchase Date': '2022-05-28', 'Product Category': 'Home & Garden', 'Price': 320.8}\",\"{'Purchase Date': '2022-03-05', 'Product Category': 'Clothing', 'Price': 45.99},{'Purchase Date': '2022-04-12', 'Product Category': 'Home & Garden', 'Price': 120.5}\",\"{'Purchase Date': '2022-04-25', 'Product Category': 'Clothing', 'Price': 29.99},{'Purchase Date': '2022-07-07', 'Product Category': 'Home & Garden', 'Price': 150}\",\"{'Purchase Date': '2022-06-15', 'Product Category': 'Home & Garden', 'Price': 220},{'Purchase Date': '2022-09-01', 'Product Category': 'Electronics', 'Price': 300}\",\"{'Purchase Date': '2022-08-08', 'Product Category': 'Electronics', 'Price': 550},{'Purchase Date': '2022-11-01', 'Product Category': 'Clothing', 'Price': 44.99}\",\"{'Purchase Date': '2022-10-15', 'Product Category': 'Clothing', 'Price': 34.99},{'Purchase Date': '2022-12-20', 'Product Category': 'Home & Garden', 'Price': 250}\",\"{'Purchase Date': '2022-12-25', 'Product Category': 'Home & Garden', 'Price': 170},{'Purchase Date': '2023-02-05', 'Product Category': 'Electronics', 'Price': 450}\",\"[{\\\"Purchase Date\\\": \\\"2022-09-15\\\", \\\"Product Category\\\": \\\"Clothing\\\", \\\"Price\\\": 34.5}]\",\"{'Purchase Date': '2022-05-15', 'Product Category': 'Clothing', 'Price': 120},{'Purchase Date': '2022-06-02', 'Product Category': 'Home & Garden', 'Price': 250}\",\"{'Purchase Date': '2022-05-28', 'Product Category': 'Clothing', 'Price': 75},{'Purchase Date': '2022-06-10', 'Product Category': 'Home & Garden', 'Price': 120}\",\"{'Purchase Date': '2022-05-18', 'Product Category': 'Clothing', 'Price': 50},{'Purchase Date': '2022-06-07', 'Product Category': 'Home & Garden', 'Price': 100}\",\"{'Purchase Date': '2022-05-25', 'Product Category': 'Clothing', 'Price': 100},{'Purchase Date': '2022-06-08', 'Product Category': 'Home & Garden', 'Price': 180}\",\"{'Purchase Date': '2022-05-16', 'Product Category': 'Clothing', 'Price': 60},{'Purchase Date': '2022-06-06', 'Product Category': 'Home & Garden', 'Price': 150}\",\"{'Purchase Date': '2022-05-27', 'Product Category': 'Clothing', 'Price': 80},{'Purchase Date': '2022-06-09', 'Product Category': 'Home & Garden', 'Price': 200}\",\"{'Purchase Date': '2022-05-19', 'Product Category': 'Clothing', 'Price': 120},{'Purchase Date': '2022-06-07', 'Product Category': 'Home & Garden', 'Price': 150}\",\"[{\\\"Product Category\\\": \\\"Clothing\\\", \\\"Purchase Date\\\": \\\"2022-08-15\\\", \\\"Price\\\": 45.23}, {\\\"Product Category\\\": \\\"Electronics\\\", \\\"Purchase Date\\\": \\\"2022-07-20\\\", \\\"Price\\\": 250.34}]\",\"[{\\\"Product Category\\\": \\\"Electronics\\\", \\\"Purchase Date\\\": \\\"2022-03-15\\\", \\\"Price\\\": 250.5}, {\\\"Product Category\\\": \\\"Clothing\\\", \\\"Purchase Date\\\": \\\"2022-02-01\\\", \\\"Price\\\": 125.8}]\",\"[{\\\"Product Category\\\": \\\"Electronics\\\", \\\"Purchase Date\\\": \\\"2022-03-15\\\", \\\"Price\\\": 249.99}]\",\"[{\\\"Product Category\\\": \\\"Clothing\\\", \\\"Purchase Date\\\": \\\"2022-06-12\\\", \\\"Price\\\": 45.99}, {\\\"Product Category\\\": \\\"Electronics\\\", \\\"Purchase Date\\\": \\\"2022-05-08\\\", \\\"Price\\\": 199.99}]\",\"[{\\\"Product Category\\\": \\\"Clothing\\\", \\\"Purchase Date\\\": \\\"2022-07-08\\\", \\\"Price\\\": 79.99}, {\\\"Product Category\\\": \\\"Home & Garden\\\", \\\"Purchase Date\\\": \\\"2022-06-24\\\", \\\"Price\\\": 399.99}]\",\"[{\\\"Purchase Date\\\": \\\"2022-07-02\\\",\\\"Product Category\\\": \\\"Clothing\\\",\\\"Price\\\": 25.6},{\\\"Purchase Date\\\": \\\"2022-06-15\\\",\\\"Product Category\\\": \\\"Electronics\\\",\\\"Price\\\": 120},{\\\"Purchase Date\\\": \\\"2022-05-10\\\",\\\"Product Category\\\": \\\"Home & Garden\\\",\\\"Price\\\": 35}]\"],\"xaxis\":\"x2\",\"yaxis\":\"y2\",\"type\":\"box\"},{\"alignmentgroup\":\"True\",\"bingroup\":\"x\",\"hovertemplate\":\"Gender=Male\\u003cbr\\u003ePurchase History=%{x}\\u003cbr\\u003ecount=%{y}\\u003cextra\\u003e\\u003c\\u002fextra\\u003e\",\"legendgroup\":\"Male\",\"marker\":{\"color\":\"#EF553B\",\"pattern\":{\"shape\":\"\"}},\"name\":\"Male\",\"offsetgroup\":\"Male\",\"orientation\":\"v\",\"showlegend\":true,\"x\":[\"{'Purchase Date': '2022-07-25', 'Product Category': 'Clothing', 'Price': 67.2},{'Purchase Date': '2022-06-08', 'Product Category': 'Home & Garden', 'Price': 250.1},{'Purchase Date': '2022-05-15', 'Product Category': 'Electronics', 'Price': 400.7}\",\"{'Purchase Date': '2022-08-28', 'Product Category': 'Electronics', 'Price': 250.6},{'Purchase Date': '2022-07-15', 'Product Category': 'Clothing', 'Price': 115.7},{'Purchase Date': '2022-06-03', 'Product Category': 'Home & Garden', 'Price': 300.4}\",\"{'Purchase Date': '2022-09-08', 'Product Category': 'Electronics', 'Price': 350.2},{'Purchase Date': '2022-08-23', 'Product Category': 'Clothing', 'Price': 165.3},{'Purchase Date': '2022-07-07', 'Product Category': 'Home & Garden', 'Price': 280.9}\",\"{'Purchase Date': '2022-02-15', 'Product Category': 'Electronics', 'Price': 250},{'Purchase Date': '2022-05-10', 'Product Category': 'Clothing', 'Price': 34.99}\",\"{'Purchase Date': '2022-05-20', 'Product Category': 'Electronics', 'Price': 600},{'Purchase Date': '2022-08-03', 'Product Category': 'Clothing', 'Price': 59.99}\",\"{'Purchase Date': '2022-07-22', 'Product Category': 'Clothing', 'Price': 39.99},{'Purchase Date': '2022-10-06', 'Product Category': 'Home & Garden', 'Price': 190}\",\"{'Purchase Date': '2022-09-20', 'Product Category': 'Home & Garden', 'Price': 200},{'Purchase Date': '2022-12-05', 'Product Category': 'Electronics', 'Price': 350}\",\"{'Purchase Date': '2022-11-05', 'Product Category': 'Electronics', 'Price': 150},{'Purchase Date': '2023-01-10', 'Product Category': 'Clothing', 'Price': 29.99}\",\"{'Purchase Date': '2022-06-12', 'Product Category': 'Electronics', 'Price': 350}\",\"{'Purchase Date': '2022-05-08', 'Product Category': 'Electronics', 'Price': 200},{'Purchase Date': '2022-06-05', 'Product Category': 'Home & Garden', 'Price': 150}\",\"{'Purchase Date': '2022-05-23', 'Product Category': 'Electronics', 'Price': 400},{'Purchase Date': '2022-06-03', 'Product Category': 'Home & Garden', 'Price': 200}\",\"{'Purchase Date': '2022-05-20', 'Product Category': 'Electronics', 'Price': 300},{'Purchase Date': '2022-06-04', 'Product Category': 'Home & Garden', 'Price': 250}\",\"{'Purchase Date': '2022-05-12', 'Product Category': 'Electronics', 'Price': 250},{'Purchase Date': '2022-06-01', 'Product Category': 'Home & Garden', 'Price': 175}\",\"{'Purchase Date': '2022-05-22', 'Product Category': 'Electronics', 'Price': 350},{'Purchase Date': '2022-06-02', 'Product Category': 'Home & Garden', 'Price': 100}\",\"[{\\\"Product Category\\\": \\\"Clothing\\\", \\\"Purchase Date\\\": \\\"2022-02-20\\\", \\\"Price\\\": 150.2}, {\\\"Product Category\\\": \\\"Home & Garden\\\", \\\"Purchase Date\\\": \\\"2022-01-12\\\", \\\"Price\\\": 450}]\",\"[{\\\"Product Category\\\": \\\"Electronics\\\", \\\"Purchase Date\\\": \\\"2022-07-03\\\", \\\"Price\\\": 249.99}, {\\\"Product Category\\\": \\\"Home & Garden\\\", \\\"Purchase Date\\\": \\\"2022-06-17\\\", \\\"Price\\\": 129.99}]\",\"[{\\\"Product Category\\\": \\\"Electronics\\\", \\\"Purchase Date\\\": \\\"2022-06-01\\\", \\\"Price\\\": 129.99}, {\\\"Product Category\\\": \\\"Home & Garden\\\", \\\"Purchase Date\\\": \\\"2022-05-18\\\", \\\"Price\\\": 59.99}]\",\"[{\\\"Purchase Date\\\": \\\"2022-07-08\\\",\\\"Product Category\\\": \\\"Electronics\\\",\\\"Price\\\": 420},{\\\"Purchase Date\\\": \\\"2022-06-23\\\",\\\"Product Category\\\": \\\"Clothing\\\",\\\"Price\\\": 75},{\\\"Purchase Date\\\": \\\"2022-05-12\\\",\\\"Product Category\\\": \\\"Home & Garden\\\",\\\"Price\\\": 200}]\"],\"xaxis\":\"x\",\"yaxis\":\"y\",\"type\":\"histogram\"},{\"alignmentgroup\":\"True\",\"boxpoints\":\"all\",\"fillcolor\":\"rgba(255,255,255,0)\",\"hoveron\":\"points\",\"hovertemplate\":\"Gender=Male\\u003cbr\\u003ePurchase History=%{x}\\u003cextra\\u003e\\u003c\\u002fextra\\u003e\",\"jitter\":0,\"legendgroup\":\"Male\",\"line\":{\"color\":\"rgba(255,255,255,0)\"},\"marker\":{\"color\":\"#EF553B\",\"symbol\":\"line-ns-open\"},\"name\":\"Male\",\"offsetgroup\":\"Male\",\"showlegend\":false,\"x\":[\"{'Purchase Date': '2022-07-25', 'Product Category': 'Clothing', 'Price': 67.2},{'Purchase Date': '2022-06-08', 'Product Category': 'Home & Garden', 'Price': 250.1},{'Purchase Date': '2022-05-15', 'Product Category': 'Electronics', 'Price': 400.7}\",\"{'Purchase Date': '2022-08-28', 'Product Category': 'Electronics', 'Price': 250.6},{'Purchase Date': '2022-07-15', 'Product Category': 'Clothing', 'Price': 115.7},{'Purchase Date': '2022-06-03', 'Product Category': 'Home & Garden', 'Price': 300.4}\",\"{'Purchase Date': '2022-09-08', 'Product Category': 'Electronics', 'Price': 350.2},{'Purchase Date': '2022-08-23', 'Product Category': 'Clothing', 'Price': 165.3},{'Purchase Date': '2022-07-07', 'Product Category': 'Home & Garden', 'Price': 280.9}\",\"{'Purchase Date': '2022-02-15', 'Product Category': 'Electronics', 'Price': 250},{'Purchase Date': '2022-05-10', 'Product Category': 'Clothing', 'Price': 34.99}\",\"{'Purchase Date': '2022-05-20', 'Product Category': 'Electronics', 'Price': 600},{'Purchase Date': '2022-08-03', 'Product Category': 'Clothing', 'Price': 59.99}\",\"{'Purchase Date': '2022-07-22', 'Product Category': 'Clothing', 'Price': 39.99},{'Purchase Date': '2022-10-06', 'Product Category': 'Home & Garden', 'Price': 190}\",\"{'Purchase Date': '2022-09-20', 'Product Category': 'Home & Garden', 'Price': 200},{'Purchase Date': '2022-12-05', 'Product Category': 'Electronics', 'Price': 350}\",\"{'Purchase Date': '2022-11-05', 'Product Category': 'Electronics', 'Price': 150},{'Purchase Date': '2023-01-10', 'Product Category': 'Clothing', 'Price': 29.99}\",\"{'Purchase Date': '2022-06-12', 'Product Category': 'Electronics', 'Price': 350}\",\"{'Purchase Date': '2022-05-08', 'Product Category': 'Electronics', 'Price': 200},{'Purchase Date': '2022-06-05', 'Product Category': 'Home & Garden', 'Price': 150}\",\"{'Purchase Date': '2022-05-23', 'Product Category': 'Electronics', 'Price': 400},{'Purchase Date': '2022-06-03', 'Product Category': 'Home & Garden', 'Price': 200}\",\"{'Purchase Date': '2022-05-20', 'Product Category': 'Electronics', 'Price': 300},{'Purchase Date': '2022-06-04', 'Product Category': 'Home & Garden', 'Price': 250}\",\"{'Purchase Date': '2022-05-12', 'Product Category': 'Electronics', 'Price': 250},{'Purchase Date': '2022-06-01', 'Product Category': 'Home & Garden', 'Price': 175}\",\"{'Purchase Date': '2022-05-22', 'Product Category': 'Electronics', 'Price': 350},{'Purchase Date': '2022-06-02', 'Product Category': 'Home & Garden', 'Price': 100}\",\"[{\\\"Product Category\\\": \\\"Clothing\\\", \\\"Purchase Date\\\": \\\"2022-02-20\\\", \\\"Price\\\": 150.2}, {\\\"Product Category\\\": \\\"Home & Garden\\\", \\\"Purchase Date\\\": \\\"2022-01-12\\\", \\\"Price\\\": 450}]\",\"[{\\\"Product Category\\\": \\\"Electronics\\\", \\\"Purchase Date\\\": \\\"2022-07-03\\\", \\\"Price\\\": 249.99}, {\\\"Product Category\\\": \\\"Home & Garden\\\", \\\"Purchase Date\\\": \\\"2022-06-17\\\", \\\"Price\\\": 129.99}]\",\"[{\\\"Product Category\\\": \\\"Electronics\\\", \\\"Purchase Date\\\": \\\"2022-06-01\\\", \\\"Price\\\": 129.99}, {\\\"Product Category\\\": \\\"Home & Garden\\\", \\\"Purchase Date\\\": \\\"2022-05-18\\\", \\\"Price\\\": 59.99}]\",\"[{\\\"Purchase Date\\\": \\\"2022-07-08\\\",\\\"Product Category\\\": \\\"Electronics\\\",\\\"Price\\\": 420},{\\\"Purchase Date\\\": \\\"2022-06-23\\\",\\\"Product Category\\\": \\\"Clothing\\\",\\\"Price\\\": 75},{\\\"Purchase Date\\\": \\\"2022-05-12\\\",\\\"Product Category\\\": \\\"Home & Garden\\\",\\\"Price\\\": 200}]\"],\"xaxis\":\"x2\",\"yaxis\":\"y2\",\"type\":\"box\"},{\"alignmentgroup\":\"True\",\"bingroup\":\"x\",\"hovertemplate\":\"Gender=Other\\u003cbr\\u003ePurchase History=%{x}\\u003cbr\\u003ecount=%{y}\\u003cextra\\u003e\\u003c\\u002fextra\\u003e\",\"legendgroup\":\"Other\",\"marker\":{\"color\":\"#00cc96\",\"pattern\":{\"shape\":\"\"}},\"name\":\"Other\",\"offsetgroup\":\"Other\",\"orientation\":\"v\",\"showlegend\":true,\"x\":[\"{'Purchase Date': '2022-09-01', 'Product Category': 'Electronics', 'Price': 300.2},{'Purchase Date': '2022-08-12', 'Product Category': 'Clothing', 'Price': 185.3},{'Purchase Date': '2022-07-28', 'Product Category': 'Home & Garden', 'Price': 200.9}\",\"{'Purchase Date': '2022-09-05', 'Product Category': 'Electronics', 'Price': 400.9},{'Purchase Date': '2022-08-18', 'Product Category': 'Clothing', 'Price': 195.3},{'Purchase Date': '2022-07-03', 'Product Category': 'Home & Garden', 'Price': 220.7}\",\"{'Purchase Date': '2022-08-25', 'Product Category': 'Electronics', 'Price': 170.8},{'Purchase Date': '2022-07-09', 'Product Category': 'Clothing', 'Price': 105.6},{'Purchase Date': '2022-06-24', 'Product Category': 'Home & Garden', 'Price': 290.1}\",\"{'Purchase Date': '2022-01-18', 'Product Category': 'Home & Garden', 'Price': 180},{'Purchase Date': '2022-06-02', 'Product Category': 'Electronics', 'Price': 400}\",\"[{\\\"Product Category\\\": \\\"Clothing\\\", \\\"Purchase Date\\\": \\\"2022-06-22\\\", \\\"Price\\\": 34.99}, {\\\"Product Category\\\": \\\"Electronics\\\", \\\"Purchase Date\\\": \\\"2022-05-15\\\", \\\"Price\\\": 149.99}]\",\"[{\\\"Purchase Date\\\": \\\"2022-07-01\\\",\\\"Product Category\\\": \\\"Electronics\\\",\\\"Price\\\": 180},{\\\"Purchase Date\\\": \\\"2022-06-18\\\",\\\"Product Category\\\": \\\"Clothing\\\",\\\"Price\\\": 50},{\\\"Purchase Date\\\": \\\"2022-05-09\\\",\\\"Product Category\\\": \\\"Home & Garden\\\",\\\"Price\\\": 30}]\"],\"xaxis\":\"x\",\"yaxis\":\"y\",\"type\":\"histogram\"},{\"alignmentgroup\":\"True\",\"boxpoints\":\"all\",\"fillcolor\":\"rgba(255,255,255,0)\",\"hoveron\":\"points\",\"hovertemplate\":\"Gender=Other\\u003cbr\\u003ePurchase History=%{x}\\u003cextra\\u003e\\u003c\\u002fextra\\u003e\",\"jitter\":0,\"legendgroup\":\"Other\",\"line\":{\"color\":\"rgba(255,255,255,0)\"},\"marker\":{\"color\":\"#00cc96\",\"symbol\":\"line-ns-open\"},\"name\":\"Other\",\"offsetgroup\":\"Other\",\"showlegend\":false,\"x\":[\"{'Purchase Date': '2022-09-01', 'Product Category': 'Electronics', 'Price': 300.2},{'Purchase Date': '2022-08-12', 'Product Category': 'Clothing', 'Price': 185.3},{'Purchase Date': '2022-07-28', 'Product Category': 'Home & Garden', 'Price': 200.9}\",\"{'Purchase Date': '2022-09-05', 'Product Category': 'Electronics', 'Price': 400.9},{'Purchase Date': '2022-08-18', 'Product Category': 'Clothing', 'Price': 195.3},{'Purchase Date': '2022-07-03', 'Product Category': 'Home & Garden', 'Price': 220.7}\",\"{'Purchase Date': '2022-08-25', 'Product Category': 'Electronics', 'Price': 170.8},{'Purchase Date': '2022-07-09', 'Product Category': 'Clothing', 'Price': 105.6},{'Purchase Date': '2022-06-24', 'Product Category': 'Home & Garden', 'Price': 290.1}\",\"{'Purchase Date': '2022-01-18', 'Product Category': 'Home & Garden', 'Price': 180},{'Purchase Date': '2022-06-02', 'Product Category': 'Electronics', 'Price': 400}\",\"[{\\\"Product Category\\\": \\\"Clothing\\\", \\\"Purchase Date\\\": \\\"2022-06-22\\\", \\\"Price\\\": 34.99}, {\\\"Product Category\\\": \\\"Electronics\\\", \\\"Purchase Date\\\": \\\"2022-05-15\\\", \\\"Price\\\": 149.99}]\",\"[{\\\"Purchase Date\\\": \\\"2022-07-01\\\",\\\"Product Category\\\": \\\"Electronics\\\",\\\"Price\\\": 180},{\\\"Purchase Date\\\": \\\"2022-06-18\\\",\\\"Product Category\\\": \\\"Clothing\\\",\\\"Price\\\": 50},{\\\"Purchase Date\\\": \\\"2022-05-09\\\",\\\"Product Category\\\": \\\"Home & Garden\\\",\\\"Price\\\": 30}]\"],\"xaxis\":\"x2\",\"yaxis\":\"y2\",\"type\":\"box\"}],                        {\"template\":{\"data\":{\"histogram2dcontour\":[{\"type\":\"histogram2dcontour\",\"colorbar\":{\"outlinewidth\":0,\"ticks\":\"\"},\"colorscale\":[[0.0,\"#0d0887\"],[0.1111111111111111,\"#46039f\"],[0.2222222222222222,\"#7201a8\"],[0.3333333333333333,\"#9c179e\"],[0.4444444444444444,\"#bd3786\"],[0.5555555555555556,\"#d8576b\"],[0.6666666666666666,\"#ed7953\"],[0.7777777777777778,\"#fb9f3a\"],[0.8888888888888888,\"#fdca26\"],[1.0,\"#f0f921\"]]}],\"choropleth\":[{\"type\":\"choropleth\",\"colorbar\":{\"outlinewidth\":0,\"ticks\":\"\"}}],\"histogram2d\":[{\"type\":\"histogram2d\",\"colorbar\":{\"outlinewidth\":0,\"ticks\":\"\"},\"colorscale\":[[0.0,\"#0d0887\"],[0.1111111111111111,\"#46039f\"],[0.2222222222222222,\"#7201a8\"],[0.3333333333333333,\"#9c179e\"],[0.4444444444444444,\"#bd3786\"],[0.5555555555555556,\"#d8576b\"],[0.6666666666666666,\"#ed7953\"],[0.7777777777777778,\"#fb9f3a\"],[0.8888888888888888,\"#fdca26\"],[1.0,\"#f0f921\"]]}],\"heatmap\":[{\"type\":\"heatmap\",\"colorbar\":{\"outlinewidth\":0,\"ticks\":\"\"},\"colorscale\":[[0.0,\"#0d0887\"],[0.1111111111111111,\"#46039f\"],[0.2222222222222222,\"#7201a8\"],[0.3333333333333333,\"#9c179e\"],[0.4444444444444444,\"#bd3786\"],[0.5555555555555556,\"#d8576b\"],[0.6666666666666666,\"#ed7953\"],[0.7777777777777778,\"#fb9f3a\"],[0.8888888888888888,\"#fdca26\"],[1.0,\"#f0f921\"]]}],\"heatmapgl\":[{\"type\":\"heatmapgl\",\"colorbar\":{\"outlinewidth\":0,\"ticks\":\"\"},\"colorscale\":[[0.0,\"#0d0887\"],[0.1111111111111111,\"#46039f\"],[0.2222222222222222,\"#7201a8\"],[0.3333333333333333,\"#9c179e\"],[0.4444444444444444,\"#bd3786\"],[0.5555555555555556,\"#d8576b\"],[0.6666666666666666,\"#ed7953\"],[0.7777777777777778,\"#fb9f3a\"],[0.8888888888888888,\"#fdca26\"],[1.0,\"#f0f921\"]]}],\"contourcarpet\":[{\"type\":\"contourcarpet\",\"colorbar\":{\"outlinewidth\":0,\"ticks\":\"\"}}],\"contour\":[{\"type\":\"contour\",\"colorbar\":{\"outlinewidth\":0,\"ticks\":\"\"},\"colorscale\":[[0.0,\"#0d0887\"],[0.1111111111111111,\"#46039f\"],[0.2222222222222222,\"#7201a8\"],[0.3333333333333333,\"#9c179e\"],[0.4444444444444444,\"#bd3786\"],[0.5555555555555556,\"#d8576b\"],[0.6666666666666666,\"#ed7953\"],[0.7777777777777778,\"#fb9f3a\"],[0.8888888888888888,\"#fdca26\"],[1.0,\"#f0f921\"]]}],\"surface\":[{\"type\":\"surface\",\"colorbar\":{\"outlinewidth\":0,\"ticks\":\"\"},\"colorscale\":[[0.0,\"#0d0887\"],[0.1111111111111111,\"#46039f\"],[0.2222222222222222,\"#7201a8\"],[0.3333333333333333,\"#9c179e\"],[0.4444444444444444,\"#bd3786\"],[0.5555555555555556,\"#d8576b\"],[0.6666666666666666,\"#ed7953\"],[0.7777777777777778,\"#fb9f3a\"],[0.8888888888888888,\"#fdca26\"],[1.0,\"#f0f921\"]]}],\"mesh3d\":[{\"type\":\"mesh3d\",\"colorbar\":{\"outlinewidth\":0,\"ticks\":\"\"}}],\"scatter\":[{\"fillpattern\":{\"fillmode\":\"overlay\",\"size\":10,\"solidity\":0.2},\"type\":\"scatter\"}],\"parcoords\":[{\"type\":\"parcoords\",\"line\":{\"colorbar\":{\"outlinewidth\":0,\"ticks\":\"\"}}}],\"scatterpolargl\":[{\"type\":\"scatterpolargl\",\"marker\":{\"colorbar\":{\"outlinewidth\":0,\"ticks\":\"\"}}}],\"bar\":[{\"error_x\":{\"color\":\"#2a3f5f\"},\"error_y\":{\"color\":\"#2a3f5f\"},\"marker\":{\"line\":{\"color\":\"#E5ECF6\",\"width\":0.5},\"pattern\":{\"fillmode\":\"overlay\",\"size\":10,\"solidity\":0.2}},\"type\":\"bar\"}],\"scattergeo\":[{\"type\":\"scattergeo\",\"marker\":{\"colorbar\":{\"outlinewidth\":0,\"ticks\":\"\"}}}],\"scatterpolar\":[{\"type\":\"scatterpolar\",\"marker\":{\"colorbar\":{\"outlinewidth\":0,\"ticks\":\"\"}}}],\"histogram\":[{\"marker\":{\"pattern\":{\"fillmode\":\"overlay\",\"size\":10,\"solidity\":0.2}},\"type\":\"histogram\"}],\"scattergl\":[{\"type\":\"scattergl\",\"marker\":{\"colorbar\":{\"outlinewidth\":0,\"ticks\":\"\"}}}],\"scatter3d\":[{\"type\":\"scatter3d\",\"line\":{\"colorbar\":{\"outlinewidth\":0,\"ticks\":\"\"}},\"marker\":{\"colorbar\":{\"outlinewidth\":0,\"ticks\":\"\"}}}],\"scattermapbox\":[{\"type\":\"scattermapbox\",\"marker\":{\"colorbar\":{\"outlinewidth\":0,\"ticks\":\"\"}}}],\"scatterternary\":[{\"type\":\"scatterternary\",\"marker\":{\"colorbar\":{\"outlinewidth\":0,\"ticks\":\"\"}}}],\"scattercarpet\":[{\"type\":\"scattercarpet\",\"marker\":{\"colorbar\":{\"outlinewidth\":0,\"ticks\":\"\"}}}],\"carpet\":[{\"aaxis\":{\"endlinecolor\":\"#2a3f5f\",\"gridcolor\":\"white\",\"linecolor\":\"white\",\"minorgridcolor\":\"white\",\"startlinecolor\":\"#2a3f5f\"},\"baxis\":{\"endlinecolor\":\"#2a3f5f\",\"gridcolor\":\"white\",\"linecolor\":\"white\",\"minorgridcolor\":\"white\",\"startlinecolor\":\"#2a3f5f\"},\"type\":\"carpet\"}],\"table\":[{\"cells\":{\"fill\":{\"color\":\"#EBF0F8\"},\"line\":{\"color\":\"white\"}},\"header\":{\"fill\":{\"color\":\"#C8D4E3\"},\"line\":{\"color\":\"white\"}},\"type\":\"table\"}],\"barpolar\":[{\"marker\":{\"line\":{\"color\":\"#E5ECF6\",\"width\":0.5},\"pattern\":{\"fillmode\":\"overlay\",\"size\":10,\"solidity\":0.2}},\"type\":\"barpolar\"}],\"pie\":[{\"automargin\":true,\"type\":\"pie\"}]},\"layout\":{\"autotypenumbers\":\"strict\",\"colorway\":[\"#636efa\",\"#EF553B\",\"#00cc96\",\"#ab63fa\",\"#FFA15A\",\"#19d3f3\",\"#FF6692\",\"#B6E880\",\"#FF97FF\",\"#FECB52\"],\"font\":{\"color\":\"#2a3f5f\"},\"hovermode\":\"closest\",\"hoverlabel\":{\"align\":\"left\"},\"paper_bgcolor\":\"white\",\"plot_bgcolor\":\"#E5ECF6\",\"polar\":{\"bgcolor\":\"#E5ECF6\",\"angularaxis\":{\"gridcolor\":\"white\",\"linecolor\":\"white\",\"ticks\":\"\"},\"radialaxis\":{\"gridcolor\":\"white\",\"linecolor\":\"white\",\"ticks\":\"\"}},\"ternary\":{\"bgcolor\":\"#E5ECF6\",\"aaxis\":{\"gridcolor\":\"white\",\"linecolor\":\"white\",\"ticks\":\"\"},\"baxis\":{\"gridcolor\":\"white\",\"linecolor\":\"white\",\"ticks\":\"\"},\"caxis\":{\"gridcolor\":\"white\",\"linecolor\":\"white\",\"ticks\":\"\"}},\"coloraxis\":{\"colorbar\":{\"outlinewidth\":0,\"ticks\":\"\"}},\"colorscale\":{\"sequential\":[[0.0,\"#0d0887\"],[0.1111111111111111,\"#46039f\"],[0.2222222222222222,\"#7201a8\"],[0.3333333333333333,\"#9c179e\"],[0.4444444444444444,\"#bd3786\"],[0.5555555555555556,\"#d8576b\"],[0.6666666666666666,\"#ed7953\"],[0.7777777777777778,\"#fb9f3a\"],[0.8888888888888888,\"#fdca26\"],[1.0,\"#f0f921\"]],\"sequentialminus\":[[0.0,\"#0d0887\"],[0.1111111111111111,\"#46039f\"],[0.2222222222222222,\"#7201a8\"],[0.3333333333333333,\"#9c179e\"],[0.4444444444444444,\"#bd3786\"],[0.5555555555555556,\"#d8576b\"],[0.6666666666666666,\"#ed7953\"],[0.7777777777777778,\"#fb9f3a\"],[0.8888888888888888,\"#fdca26\"],[1.0,\"#f0f921\"]],\"diverging\":[[0,\"#8e0152\"],[0.1,\"#c51b7d\"],[0.2,\"#de77ae\"],[0.3,\"#f1b6da\"],[0.4,\"#fde0ef\"],[0.5,\"#f7f7f7\"],[0.6,\"#e6f5d0\"],[0.7,\"#b8e186\"],[0.8,\"#7fbc41\"],[0.9,\"#4d9221\"],[1,\"#276419\"]]},\"xaxis\":{\"gridcolor\":\"white\",\"linecolor\":\"white\",\"ticks\":\"\",\"title\":{\"standoff\":15},\"zerolinecolor\":\"white\",\"automargin\":true,\"zerolinewidth\":2},\"yaxis\":{\"gridcolor\":\"white\",\"linecolor\":\"white\",\"ticks\":\"\",\"title\":{\"standoff\":15},\"zerolinecolor\":\"white\",\"automargin\":true,\"zerolinewidth\":2},\"scene\":{\"xaxis\":{\"backgroundcolor\":\"#E5ECF6\",\"gridcolor\":\"white\",\"linecolor\":\"white\",\"showbackground\":true,\"ticks\":\"\",\"zerolinecolor\":\"white\",\"gridwidth\":2},\"yaxis\":{\"backgroundcolor\":\"#E5ECF6\",\"gridcolor\":\"white\",\"linecolor\":\"white\",\"showbackground\":true,\"ticks\":\"\",\"zerolinecolor\":\"white\",\"gridwidth\":2},\"zaxis\":{\"backgroundcolor\":\"#E5ECF6\",\"gridcolor\":\"white\",\"linecolor\":\"white\",\"showbackground\":true,\"ticks\":\"\",\"zerolinecolor\":\"white\",\"gridwidth\":2}},\"shapedefaults\":{\"line\":{\"color\":\"#2a3f5f\"}},\"annotationdefaults\":{\"arrowcolor\":\"#2a3f5f\",\"arrowhead\":0,\"arrowwidth\":1},\"geo\":{\"bgcolor\":\"white\",\"landcolor\":\"#E5ECF6\",\"subunitcolor\":\"white\",\"showland\":true,\"showlakes\":true,\"lakecolor\":\"white\"},\"title\":{\"x\":0.05},\"mapbox\":{\"style\":\"light\"}}},\"xaxis\":{\"anchor\":\"y\",\"domain\":[0.0,1.0],\"title\":{\"text\":\"Purchase History\"}},\"yaxis\":{\"anchor\":\"x\",\"domain\":[0.0,0.7326],\"title\":{\"text\":\"count\"}},\"xaxis2\":{\"anchor\":\"y2\",\"domain\":[0.0,1.0],\"matches\":\"x\",\"showticklabels\":false,\"showgrid\":true},\"yaxis2\":{\"anchor\":\"x2\",\"domain\":[0.7426,1.0],\"matches\":\"y2\",\"showticklabels\":false,\"showline\":false,\"ticks\":\"\",\"showgrid\":false},\"legend\":{\"title\":{\"text\":\"Gender\"},\"tracegroupgap\":0},\"title\":{\"text\":\"Purchase History by Gender\"},\"barmode\":\"relative\",\"height\":2500},                        {\"responsive\": true}                    ).then(function(){\n",
              "                            \n",
              "var gd = document.getElementById('858f8789-f2a8-4d50-b292-a5dfe15df664');\n",
              "var x = new MutationObserver(function (mutations, observer) {{\n",
              "        var display = window.getComputedStyle(gd).display;\n",
              "        if (!display || display === 'none') {{\n",
              "            console.log([gd, 'removed!']);\n",
              "            Plotly.purge(gd);\n",
              "            observer.disconnect();\n",
              "        }}\n",
              "}});\n",
              "\n",
              "// Listen for the removal of the full notebook cells\n",
              "var notebookContainer = gd.closest('#notebook-container');\n",
              "if (notebookContainer) {{\n",
              "    x.observe(notebookContainer, {childList: true});\n",
              "}}\n",
              "\n",
              "// Listen for the clearing of the current output cell\n",
              "var outputEl = gd.closest('.output');\n",
              "if (outputEl) {{\n",
              "    x.observe(outputEl, {childList: true});\n",
              "}}\n",
              "\n",
              "                        })                };                            </script>        </div>\n",
              "</body>\n",
              "</html>"
            ]
          },
          "metadata": {}
        }
      ]
    },
    {
      "cell_type": "markdown",
      "source": [
        "**How do customers in different locations vary in their time spent on the site?**"
      ],
      "metadata": {
        "id": "rohUv_Ogiy2d"
      }
    },
    {
      "cell_type": "code",
      "source": [
        "avg_time_on_site_by_location = df_no_outliers.groupby('Location')['Time on Site'].mean().reset_index()\n",
        "fig = px.bar(avg_time_on_site_by_location, x='Location', y='Time on Site', title='Average Time on Site by Location')\n",
        "fig.show()"
      ],
      "metadata": {
        "execution": {
          "iopub.status.busy": "2024-09-19T09:54:01.445755Z",
          "iopub.execute_input": "2024-09-19T09:54:01.44613Z",
          "iopub.status.idle": "2024-09-19T09:54:01.547651Z",
          "shell.execute_reply.started": "2024-09-19T09:54:01.446088Z",
          "shell.execute_reply": "2024-09-19T09:54:01.546311Z"
        },
        "trusted": true,
        "id": "861WAF62iy2d",
        "outputId": "af91a812-4d32-4c42-e259-0c6ef1e6b4ac",
        "colab": {
          "base_uri": "https://localhost:8080/",
          "height": 542
        }
      },
      "execution_count": 23,
      "outputs": [
        {
          "output_type": "display_data",
          "data": {
            "text/html": [
              "<html>\n",
              "<head><meta charset=\"utf-8\" /></head>\n",
              "<body>\n",
              "    <div>            <script src=\"https://cdnjs.cloudflare.com/ajax/libs/mathjax/2.7.5/MathJax.js?config=TeX-AMS-MML_SVG\"></script><script type=\"text/javascript\">if (window.MathJax && window.MathJax.Hub && window.MathJax.Hub.Config) {window.MathJax.Hub.Config({SVG: {font: \"STIX-Web\"}});}</script>                <script type=\"text/javascript\">window.PlotlyConfig = {MathJaxConfig: 'local'};</script>\n",
              "        <script charset=\"utf-8\" src=\"https://cdn.plot.ly/plotly-2.35.2.min.js\"></script>                <div id=\"94ebd7bb-4647-4d63-86f1-e0568c3089ab\" class=\"plotly-graph-div\" style=\"height:525px; width:100%;\"></div>            <script type=\"text/javascript\">                                    window.PLOTLYENV=window.PLOTLYENV || {};                                    if (document.getElementById(\"94ebd7bb-4647-4d63-86f1-e0568c3089ab\")) {                    Plotly.newPlot(                        \"94ebd7bb-4647-4d63-86f1-e0568c3089ab\",                        [{\"alignmentgroup\":\"True\",\"hovertemplate\":\"Location=%{x}\\u003cbr\\u003eTime on Site=%{y}\\u003cextra\\u003e\\u003c\\u002fextra\\u003e\",\"legendgroup\":\"\",\"marker\":{\"color\":\"#636efa\",\"pattern\":{\"shape\":\"\"}},\"name\":\"\",\"offsetgroup\":\"\",\"orientation\":\"v\",\"showlegend\":false,\"textposition\":\"auto\",\"x\":[\"City A\",\"City B\",\"City C\",\"City D\",\"City E\",\"City F\",\"City G\",\"City H\",\"City I\",\"City J\",\"City K\",\"City L\",\"City M\",\"City N\",\"City O\",\"City P\"],\"xaxis\":\"x\",\"y\":[75.0,200.0,150.0,123.4375,276.96666666666664,252.26,302.125,217.45,358.73333333333335,278.3,302.8666666666667,267.5,350.0,200.0,300.0,250.0],\"yaxis\":\"y\",\"type\":\"bar\"}],                        {\"template\":{\"data\":{\"histogram2dcontour\":[{\"type\":\"histogram2dcontour\",\"colorbar\":{\"outlinewidth\":0,\"ticks\":\"\"},\"colorscale\":[[0.0,\"#0d0887\"],[0.1111111111111111,\"#46039f\"],[0.2222222222222222,\"#7201a8\"],[0.3333333333333333,\"#9c179e\"],[0.4444444444444444,\"#bd3786\"],[0.5555555555555556,\"#d8576b\"],[0.6666666666666666,\"#ed7953\"],[0.7777777777777778,\"#fb9f3a\"],[0.8888888888888888,\"#fdca26\"],[1.0,\"#f0f921\"]]}],\"choropleth\":[{\"type\":\"choropleth\",\"colorbar\":{\"outlinewidth\":0,\"ticks\":\"\"}}],\"histogram2d\":[{\"type\":\"histogram2d\",\"colorbar\":{\"outlinewidth\":0,\"ticks\":\"\"},\"colorscale\":[[0.0,\"#0d0887\"],[0.1111111111111111,\"#46039f\"],[0.2222222222222222,\"#7201a8\"],[0.3333333333333333,\"#9c179e\"],[0.4444444444444444,\"#bd3786\"],[0.5555555555555556,\"#d8576b\"],[0.6666666666666666,\"#ed7953\"],[0.7777777777777778,\"#fb9f3a\"],[0.8888888888888888,\"#fdca26\"],[1.0,\"#f0f921\"]]}],\"heatmap\":[{\"type\":\"heatmap\",\"colorbar\":{\"outlinewidth\":0,\"ticks\":\"\"},\"colorscale\":[[0.0,\"#0d0887\"],[0.1111111111111111,\"#46039f\"],[0.2222222222222222,\"#7201a8\"],[0.3333333333333333,\"#9c179e\"],[0.4444444444444444,\"#bd3786\"],[0.5555555555555556,\"#d8576b\"],[0.6666666666666666,\"#ed7953\"],[0.7777777777777778,\"#fb9f3a\"],[0.8888888888888888,\"#fdca26\"],[1.0,\"#f0f921\"]]}],\"heatmapgl\":[{\"type\":\"heatmapgl\",\"colorbar\":{\"outlinewidth\":0,\"ticks\":\"\"},\"colorscale\":[[0.0,\"#0d0887\"],[0.1111111111111111,\"#46039f\"],[0.2222222222222222,\"#7201a8\"],[0.3333333333333333,\"#9c179e\"],[0.4444444444444444,\"#bd3786\"],[0.5555555555555556,\"#d8576b\"],[0.6666666666666666,\"#ed7953\"],[0.7777777777777778,\"#fb9f3a\"],[0.8888888888888888,\"#fdca26\"],[1.0,\"#f0f921\"]]}],\"contourcarpet\":[{\"type\":\"contourcarpet\",\"colorbar\":{\"outlinewidth\":0,\"ticks\":\"\"}}],\"contour\":[{\"type\":\"contour\",\"colorbar\":{\"outlinewidth\":0,\"ticks\":\"\"},\"colorscale\":[[0.0,\"#0d0887\"],[0.1111111111111111,\"#46039f\"],[0.2222222222222222,\"#7201a8\"],[0.3333333333333333,\"#9c179e\"],[0.4444444444444444,\"#bd3786\"],[0.5555555555555556,\"#d8576b\"],[0.6666666666666666,\"#ed7953\"],[0.7777777777777778,\"#fb9f3a\"],[0.8888888888888888,\"#fdca26\"],[1.0,\"#f0f921\"]]}],\"surface\":[{\"type\":\"surface\",\"colorbar\":{\"outlinewidth\":0,\"ticks\":\"\"},\"colorscale\":[[0.0,\"#0d0887\"],[0.1111111111111111,\"#46039f\"],[0.2222222222222222,\"#7201a8\"],[0.3333333333333333,\"#9c179e\"],[0.4444444444444444,\"#bd3786\"],[0.5555555555555556,\"#d8576b\"],[0.6666666666666666,\"#ed7953\"],[0.7777777777777778,\"#fb9f3a\"],[0.8888888888888888,\"#fdca26\"],[1.0,\"#f0f921\"]]}],\"mesh3d\":[{\"type\":\"mesh3d\",\"colorbar\":{\"outlinewidth\":0,\"ticks\":\"\"}}],\"scatter\":[{\"fillpattern\":{\"fillmode\":\"overlay\",\"size\":10,\"solidity\":0.2},\"type\":\"scatter\"}],\"parcoords\":[{\"type\":\"parcoords\",\"line\":{\"colorbar\":{\"outlinewidth\":0,\"ticks\":\"\"}}}],\"scatterpolargl\":[{\"type\":\"scatterpolargl\",\"marker\":{\"colorbar\":{\"outlinewidth\":0,\"ticks\":\"\"}}}],\"bar\":[{\"error_x\":{\"color\":\"#2a3f5f\"},\"error_y\":{\"color\":\"#2a3f5f\"},\"marker\":{\"line\":{\"color\":\"#E5ECF6\",\"width\":0.5},\"pattern\":{\"fillmode\":\"overlay\",\"size\":10,\"solidity\":0.2}},\"type\":\"bar\"}],\"scattergeo\":[{\"type\":\"scattergeo\",\"marker\":{\"colorbar\":{\"outlinewidth\":0,\"ticks\":\"\"}}}],\"scatterpolar\":[{\"type\":\"scatterpolar\",\"marker\":{\"colorbar\":{\"outlinewidth\":0,\"ticks\":\"\"}}}],\"histogram\":[{\"marker\":{\"pattern\":{\"fillmode\":\"overlay\",\"size\":10,\"solidity\":0.2}},\"type\":\"histogram\"}],\"scattergl\":[{\"type\":\"scattergl\",\"marker\":{\"colorbar\":{\"outlinewidth\":0,\"ticks\":\"\"}}}],\"scatter3d\":[{\"type\":\"scatter3d\",\"line\":{\"colorbar\":{\"outlinewidth\":0,\"ticks\":\"\"}},\"marker\":{\"colorbar\":{\"outlinewidth\":0,\"ticks\":\"\"}}}],\"scattermapbox\":[{\"type\":\"scattermapbox\",\"marker\":{\"colorbar\":{\"outlinewidth\":0,\"ticks\":\"\"}}}],\"scatterternary\":[{\"type\":\"scatterternary\",\"marker\":{\"colorbar\":{\"outlinewidth\":0,\"ticks\":\"\"}}}],\"scattercarpet\":[{\"type\":\"scattercarpet\",\"marker\":{\"colorbar\":{\"outlinewidth\":0,\"ticks\":\"\"}}}],\"carpet\":[{\"aaxis\":{\"endlinecolor\":\"#2a3f5f\",\"gridcolor\":\"white\",\"linecolor\":\"white\",\"minorgridcolor\":\"white\",\"startlinecolor\":\"#2a3f5f\"},\"baxis\":{\"endlinecolor\":\"#2a3f5f\",\"gridcolor\":\"white\",\"linecolor\":\"white\",\"minorgridcolor\":\"white\",\"startlinecolor\":\"#2a3f5f\"},\"type\":\"carpet\"}],\"table\":[{\"cells\":{\"fill\":{\"color\":\"#EBF0F8\"},\"line\":{\"color\":\"white\"}},\"header\":{\"fill\":{\"color\":\"#C8D4E3\"},\"line\":{\"color\":\"white\"}},\"type\":\"table\"}],\"barpolar\":[{\"marker\":{\"line\":{\"color\":\"#E5ECF6\",\"width\":0.5},\"pattern\":{\"fillmode\":\"overlay\",\"size\":10,\"solidity\":0.2}},\"type\":\"barpolar\"}],\"pie\":[{\"automargin\":true,\"type\":\"pie\"}]},\"layout\":{\"autotypenumbers\":\"strict\",\"colorway\":[\"#636efa\",\"#EF553B\",\"#00cc96\",\"#ab63fa\",\"#FFA15A\",\"#19d3f3\",\"#FF6692\",\"#B6E880\",\"#FF97FF\",\"#FECB52\"],\"font\":{\"color\":\"#2a3f5f\"},\"hovermode\":\"closest\",\"hoverlabel\":{\"align\":\"left\"},\"paper_bgcolor\":\"white\",\"plot_bgcolor\":\"#E5ECF6\",\"polar\":{\"bgcolor\":\"#E5ECF6\",\"angularaxis\":{\"gridcolor\":\"white\",\"linecolor\":\"white\",\"ticks\":\"\"},\"radialaxis\":{\"gridcolor\":\"white\",\"linecolor\":\"white\",\"ticks\":\"\"}},\"ternary\":{\"bgcolor\":\"#E5ECF6\",\"aaxis\":{\"gridcolor\":\"white\",\"linecolor\":\"white\",\"ticks\":\"\"},\"baxis\":{\"gridcolor\":\"white\",\"linecolor\":\"white\",\"ticks\":\"\"},\"caxis\":{\"gridcolor\":\"white\",\"linecolor\":\"white\",\"ticks\":\"\"}},\"coloraxis\":{\"colorbar\":{\"outlinewidth\":0,\"ticks\":\"\"}},\"colorscale\":{\"sequential\":[[0.0,\"#0d0887\"],[0.1111111111111111,\"#46039f\"],[0.2222222222222222,\"#7201a8\"],[0.3333333333333333,\"#9c179e\"],[0.4444444444444444,\"#bd3786\"],[0.5555555555555556,\"#d8576b\"],[0.6666666666666666,\"#ed7953\"],[0.7777777777777778,\"#fb9f3a\"],[0.8888888888888888,\"#fdca26\"],[1.0,\"#f0f921\"]],\"sequentialminus\":[[0.0,\"#0d0887\"],[0.1111111111111111,\"#46039f\"],[0.2222222222222222,\"#7201a8\"],[0.3333333333333333,\"#9c179e\"],[0.4444444444444444,\"#bd3786\"],[0.5555555555555556,\"#d8576b\"],[0.6666666666666666,\"#ed7953\"],[0.7777777777777778,\"#fb9f3a\"],[0.8888888888888888,\"#fdca26\"],[1.0,\"#f0f921\"]],\"diverging\":[[0,\"#8e0152\"],[0.1,\"#c51b7d\"],[0.2,\"#de77ae\"],[0.3,\"#f1b6da\"],[0.4,\"#fde0ef\"],[0.5,\"#f7f7f7\"],[0.6,\"#e6f5d0\"],[0.7,\"#b8e186\"],[0.8,\"#7fbc41\"],[0.9,\"#4d9221\"],[1,\"#276419\"]]},\"xaxis\":{\"gridcolor\":\"white\",\"linecolor\":\"white\",\"ticks\":\"\",\"title\":{\"standoff\":15},\"zerolinecolor\":\"white\",\"automargin\":true,\"zerolinewidth\":2},\"yaxis\":{\"gridcolor\":\"white\",\"linecolor\":\"white\",\"ticks\":\"\",\"title\":{\"standoff\":15},\"zerolinecolor\":\"white\",\"automargin\":true,\"zerolinewidth\":2},\"scene\":{\"xaxis\":{\"backgroundcolor\":\"#E5ECF6\",\"gridcolor\":\"white\",\"linecolor\":\"white\",\"showbackground\":true,\"ticks\":\"\",\"zerolinecolor\":\"white\",\"gridwidth\":2},\"yaxis\":{\"backgroundcolor\":\"#E5ECF6\",\"gridcolor\":\"white\",\"linecolor\":\"white\",\"showbackground\":true,\"ticks\":\"\",\"zerolinecolor\":\"white\",\"gridwidth\":2},\"zaxis\":{\"backgroundcolor\":\"#E5ECF6\",\"gridcolor\":\"white\",\"linecolor\":\"white\",\"showbackground\":true,\"ticks\":\"\",\"zerolinecolor\":\"white\",\"gridwidth\":2}},\"shapedefaults\":{\"line\":{\"color\":\"#2a3f5f\"}},\"annotationdefaults\":{\"arrowcolor\":\"#2a3f5f\",\"arrowhead\":0,\"arrowwidth\":1},\"geo\":{\"bgcolor\":\"white\",\"landcolor\":\"#E5ECF6\",\"subunitcolor\":\"white\",\"showland\":true,\"showlakes\":true,\"lakecolor\":\"white\"},\"title\":{\"x\":0.05},\"mapbox\":{\"style\":\"light\"}}},\"xaxis\":{\"anchor\":\"y\",\"domain\":[0.0,1.0],\"title\":{\"text\":\"Location\"}},\"yaxis\":{\"anchor\":\"x\",\"domain\":[0.0,1.0],\"title\":{\"text\":\"Time on Site\"}},\"legend\":{\"tracegroupgap\":0},\"title\":{\"text\":\"Average Time on Site by Location\"},\"barmode\":\"relative\"},                        {\"responsive\": true}                    ).then(function(){\n",
              "                            \n",
              "var gd = document.getElementById('94ebd7bb-4647-4d63-86f1-e0568c3089ab');\n",
              "var x = new MutationObserver(function (mutations, observer) {{\n",
              "        var display = window.getComputedStyle(gd).display;\n",
              "        if (!display || display === 'none') {{\n",
              "            console.log([gd, 'removed!']);\n",
              "            Plotly.purge(gd);\n",
              "            observer.disconnect();\n",
              "        }}\n",
              "}});\n",
              "\n",
              "// Listen for the removal of the full notebook cells\n",
              "var notebookContainer = gd.closest('#notebook-container');\n",
              "if (notebookContainer) {{\n",
              "    x.observe(notebookContainer, {childList: true});\n",
              "}}\n",
              "\n",
              "// Listen for the clearing of the current output cell\n",
              "var outputEl = gd.closest('.output');\n",
              "if (outputEl) {{\n",
              "    x.observe(outputEl, {childList: true});\n",
              "}}\n",
              "\n",
              "                        })                };                            </script>        </div>\n",
              "</body>\n",
              "</html>"
            ]
          },
          "metadata": {}
        }
      ]
    },
    {
      "cell_type": "markdown",
      "source": [
        "**What is the relationship between browsing history and annual income?**"
      ],
      "metadata": {
        "id": "V-AaS83Jiy2d"
      }
    },
    {
      "cell_type": "code",
      "source": [
        "fig = px.scatter(df_no_outliers, x='Annual Income', y='Browsing History', title='Browsing History vs Annual Income', width=1500)\n",
        "fig.show()"
      ],
      "metadata": {
        "execution": {
          "iopub.status.busy": "2024-09-19T09:54:01.549145Z",
          "iopub.execute_input": "2024-09-19T09:54:01.549579Z",
          "iopub.status.idle": "2024-09-19T09:54:01.623891Z",
          "shell.execute_reply.started": "2024-09-19T09:54:01.549501Z",
          "shell.execute_reply": "2024-09-19T09:54:01.622679Z"
        },
        "trusted": true,
        "id": "bcioaitKiy2e",
        "outputId": "94a5b64a-8925-4045-c858-bed362486180",
        "colab": {
          "base_uri": "https://localhost:8080/",
          "height": 562
        }
      },
      "execution_count": 24,
      "outputs": [
        {
          "output_type": "display_data",
          "data": {
            "text/html": [
              "<html>\n",
              "<head><meta charset=\"utf-8\" /></head>\n",
              "<body>\n",
              "    <div>            <script src=\"https://cdnjs.cloudflare.com/ajax/libs/mathjax/2.7.5/MathJax.js?config=TeX-AMS-MML_SVG\"></script><script type=\"text/javascript\">if (window.MathJax && window.MathJax.Hub && window.MathJax.Hub.Config) {window.MathJax.Hub.Config({SVG: {font: \"STIX-Web\"}});}</script>                <script type=\"text/javascript\">window.PlotlyConfig = {MathJaxConfig: 'local'};</script>\n",
              "        <script charset=\"utf-8\" src=\"https://cdn.plot.ly/plotly-2.35.2.min.js\"></script>                <div id=\"e1f3deb5-4a49-4c98-bc98-2f104c2b26aa\" class=\"plotly-graph-div\" style=\"height:525px; width:1500px;\"></div>            <script type=\"text/javascript\">                                    window.PLOTLYENV=window.PLOTLYENV || {};                                    if (document.getElementById(\"e1f3deb5-4a49-4c98-bc98-2f104c2b26aa\")) {                    Plotly.newPlot(                        \"e1f3deb5-4a49-4c98-bc98-2f104c2b26aa\",                        [{\"hovertemplate\":\"Annual Income=%{x}\\u003cbr\\u003eBrowsing History=%{y}\\u003cextra\\u003e\\u003c\\u002fextra\\u003e\",\"legendgroup\":\"\",\"marker\":{\"color\":\"#636efa\",\"symbol\":\"circle\"},\"mode\":\"markers\",\"name\":\"\",\"orientation\":\"h\",\"showlegend\":false,\"x\":[45000,52000,65000,70000,45000,90000,60000,75000,85000,55000,80000,40000,75000,50000,80000,45000,90000,65000,70000,85000,55000,75000,40000,95000,45000,50000,80000,60000,70000,45000,90000,65000,85000,40000,75000,55000,95000,68000,65000,60000,75000,55000,65000,80000,50000,100000,45000,55000,87000,42000],\"xaxis\":\"x\",\"y\":[\"[{\\\"Timestamp\\\": \\\"2022-03-10T14:30:00Z\\\"}, {\\\"Timestamp\\\": \\\"2022-03-11T09:45:00Z\\\"}, {\\\"Timestamp\\\": \\\"2022-03-12T16:20:00Z\\\"}]\",\"[{\\\"Product Category\\\": \\\"Home & Garden\\\", \\\"Timestamp\\\": \\\"2022-05-12T13:30:00Z\\\"}, {\\\"Product Category\\\": \\\"Electronics\\\", \\\"Timestamp\\\": \\\"2022-06-05T08:45:00Z\\\"}]\",\"[{\\\"Product Category\\\": \\\"Clothing\\\", \\\"Timestamp\\\": \\\"2022-09-03 15:30:00\\\"}, {\\\"Product Category\\\": \\\"Electronics\\\", \\\"Timestamp\\\": \\\"2022-09-01 10:15:00\\\"}]\",\"{'Timestamp': '2022-09-03 14:30:00'}\",\"{'Timestamp': '2022-08-10 17:15:00'}\",\"{'Timestamp': '2022-06-25 10:45:00'}\",\"{'Timestamp': '2022-08-15 13:20:00'}\",\"{'Timestamp': '2022-09-12 16:35:00'}\",\"{'Timestamp': '2022-06-28 09:00:00'}\",\"{'Timestamp': '2022-08-17 14:50:00'}\",\"{'Timestamp': '2022-06-30 11:15:00'}\",\"{'Timestamp': '2022-09-14 10:00:00'}\",\"{'Timestamp': '2022-03-06 14:30:00'}\",\"{'Timestamp': '2022-05-12 16:15:00'}\",\"{'Timestamp': '2022-06-03 10:45:00'}\",\"{'Timestamp': '2022-07-08 13:00:00'}\",\"{'Timestamp': '2022-08-04 09:30:00'}\",\"{'Timestamp': '2022-09-02 11:15:00'}\",\"{'Timestamp': '2022-10-07 14:45:00'}\",\"{'Timestamp': '2022-11-02 10:30:00'}\",\"{'Timestamp': '2022-12-06 12:00:00'}\",\"{'Timestamp': '2022-12-21 15:30:00'}\",\"{'Timestamp': '2023-01-11 08:45:00'}\",\"{'Timestamp': '2023-02-06 13:15:00'}\",\"[{\\\"Timestamp\\\": \\\"2022-08-20T14:30:00Z\\\"}, {\\\"Timestamp\\\": \\\"2022-08-22T16:45:00Z\\\"}, {\\\"Timestamp\\\": \\\"2022-09-03T10:20:00Z\\\"}]\",\"{'Timestamp': '2022-04-20T14:30:00Z'}\",\"{'Timestamp': '2022-05-25T17:45:00Z'}\",\"{'Timestamp': '2022-06-01T09:15:00Z'}\",\"{'Timestamp': '2022-05-22T10:30:00Z'}\",\"{'Timestamp': '2022-05-30T13:45:00Z'}\",\"{'Timestamp': '2022-06-06T08:00:00Z'}\",\"{'Timestamp': '2022-06-15T11:30:00Z'}\",\"{'Timestamp': '2022-05-28T15:15:00Z'}\",\"{'Timestamp': '2022-05-31T16:45:00Z'}\",\"{'Timestamp': '2022-05-29T10:30:00Z'}\",\"{'Timestamp': '2022-06-13T13:00:00Z'}\",\"{'Timestamp': '2022-05-26T11:15:00Z'}\",\"{'Timestamp': '2022-06-08T14:30:00Z'}\",\"[{\\\"Product Category\\\": \\\"Home & Garden\\\", \\\"Timestamp\\\": \\\"2022-09-01T14:30:00Z\\\"}, {\\\"Product Category\\\": \\\"Clothing\\\", \\\"Timestamp\\\": \\\"2022-08-25T12:15:00Z\\\"}]\",\"[{\\\"Product Category\\\": \\\"Home & Garden\\\", \\\"Timestamp\\\": \\\"2022-04-03T15:30:00Z\\\"}, {\\\"Product Category\\\": \\\"Electronics\\\", \\\"Timestamp\\\": \\\"2022-03-28T08:45:00Z\\\"}]\",\"[{\\\"Product Category\\\": \\\"Electronics\\\", \\\"Timestamp\\\": \\\"2022-03-01T10:15:00Z\\\"}, {\\\"Product Category\\\": \\\"Clothing\\\", \\\"Timestamp\\\": \\\"2022-02-15T16:30:00Z\\\"}]\",\"[{\\\"Product Category\\\": \\\"Home & Garden\\\", \\\"Timestamp\\\": \\\"2022-02-20T12:34:56Z\\\"}]\",\"[{\\\"Product Category\\\": \\\"Home & Garden\\\", \\\"Timestamp\\\": \\\"2022-06-15T12:34:56Z\\\"}, {\\\"Product Category\\\": \\\"Electronics\\\", \\\"Timestamp\\\": \\\"2022-05-20T16:17:23Z\\\"}]\",\"[{\\\"Product Category\\\": \\\"Clothing\\\", \\\"Timestamp\\\": \\\"2022-07-10T09:15:32Z\\\"}, {\\\"Product Category\\\": \\\"Electronics\\\", \\\"Timestamp\\\": \\\"2022-06-25T14:46:01Z\\\"}]\",\"[{\\\"Product Category\\\": \\\"Home & Garden\\\", \\\"Timestamp\\\": \\\"2022-06-27T10:30:11Z\\\"}, {\\\"Product Category\\\": \\\"Electronics\\\", \\\"Timestamp\\\": \\\"2022-05-30T13:02:45Z\\\"}]\",\"[{\\\"Product Category\\\": \\\"Electronics\\\", \\\"Timestamp\\\": \\\"2022-07-12T11:45:06Z\\\"}, {\\\"Product Category\\\": \\\"Clothing\\\", \\\"Timestamp\\\": \\\"2022-06-30T16:23:30Z\\\"}]\",\"[{\\\"Product Category\\\": \\\"Clothing\\\", \\\"Timestamp\\\": \\\"2022-06-05T08:00:23Z\\\"}, {\\\"Product Category\\\": \\\"Electronics\\\", \\\"Timestamp\\\": \\\"2022-05-28T14:30:56Z\\\"}]\",\"[{\\\"Timestamp\\\": \\\"2022-08-14T09:30:00Z\\\"},{\\\"Timestamp\\\": \\\"2022-07-25T14:15:00Z\\\"},{\\\"Timestamp\\\": \\\"2022-06-01T10:45:00Z\\\"}]\",\"[{\\\"Timestamp\\\": \\\"2022-08-12T16:00:00Z\\\"},{\\\"Timestamp\\\": \\\"2022-07-27T08:30:00Z\\\"},{\\\"Timestamp\\\": \\\"2022-06-03T11:00:00Z\\\"}]\",\"[{\\\"Timestamp\\\": \\\"2022-08-13T13:45:00Z\\\"},{\\\"Timestamp\\\": \\\"2022-07-26T07:00:00Z\\\"},{\\\"Timestamp\\\": \\\"2022-06-02T15:30:00Z\\\"}]\"],\"yaxis\":\"y\",\"type\":\"scatter\"}],                        {\"template\":{\"data\":{\"histogram2dcontour\":[{\"type\":\"histogram2dcontour\",\"colorbar\":{\"outlinewidth\":0,\"ticks\":\"\"},\"colorscale\":[[0.0,\"#0d0887\"],[0.1111111111111111,\"#46039f\"],[0.2222222222222222,\"#7201a8\"],[0.3333333333333333,\"#9c179e\"],[0.4444444444444444,\"#bd3786\"],[0.5555555555555556,\"#d8576b\"],[0.6666666666666666,\"#ed7953\"],[0.7777777777777778,\"#fb9f3a\"],[0.8888888888888888,\"#fdca26\"],[1.0,\"#f0f921\"]]}],\"choropleth\":[{\"type\":\"choropleth\",\"colorbar\":{\"outlinewidth\":0,\"ticks\":\"\"}}],\"histogram2d\":[{\"type\":\"histogram2d\",\"colorbar\":{\"outlinewidth\":0,\"ticks\":\"\"},\"colorscale\":[[0.0,\"#0d0887\"],[0.1111111111111111,\"#46039f\"],[0.2222222222222222,\"#7201a8\"],[0.3333333333333333,\"#9c179e\"],[0.4444444444444444,\"#bd3786\"],[0.5555555555555556,\"#d8576b\"],[0.6666666666666666,\"#ed7953\"],[0.7777777777777778,\"#fb9f3a\"],[0.8888888888888888,\"#fdca26\"],[1.0,\"#f0f921\"]]}],\"heatmap\":[{\"type\":\"heatmap\",\"colorbar\":{\"outlinewidth\":0,\"ticks\":\"\"},\"colorscale\":[[0.0,\"#0d0887\"],[0.1111111111111111,\"#46039f\"],[0.2222222222222222,\"#7201a8\"],[0.3333333333333333,\"#9c179e\"],[0.4444444444444444,\"#bd3786\"],[0.5555555555555556,\"#d8576b\"],[0.6666666666666666,\"#ed7953\"],[0.7777777777777778,\"#fb9f3a\"],[0.8888888888888888,\"#fdca26\"],[1.0,\"#f0f921\"]]}],\"heatmapgl\":[{\"type\":\"heatmapgl\",\"colorbar\":{\"outlinewidth\":0,\"ticks\":\"\"},\"colorscale\":[[0.0,\"#0d0887\"],[0.1111111111111111,\"#46039f\"],[0.2222222222222222,\"#7201a8\"],[0.3333333333333333,\"#9c179e\"],[0.4444444444444444,\"#bd3786\"],[0.5555555555555556,\"#d8576b\"],[0.6666666666666666,\"#ed7953\"],[0.7777777777777778,\"#fb9f3a\"],[0.8888888888888888,\"#fdca26\"],[1.0,\"#f0f921\"]]}],\"contourcarpet\":[{\"type\":\"contourcarpet\",\"colorbar\":{\"outlinewidth\":0,\"ticks\":\"\"}}],\"contour\":[{\"type\":\"contour\",\"colorbar\":{\"outlinewidth\":0,\"ticks\":\"\"},\"colorscale\":[[0.0,\"#0d0887\"],[0.1111111111111111,\"#46039f\"],[0.2222222222222222,\"#7201a8\"],[0.3333333333333333,\"#9c179e\"],[0.4444444444444444,\"#bd3786\"],[0.5555555555555556,\"#d8576b\"],[0.6666666666666666,\"#ed7953\"],[0.7777777777777778,\"#fb9f3a\"],[0.8888888888888888,\"#fdca26\"],[1.0,\"#f0f921\"]]}],\"surface\":[{\"type\":\"surface\",\"colorbar\":{\"outlinewidth\":0,\"ticks\":\"\"},\"colorscale\":[[0.0,\"#0d0887\"],[0.1111111111111111,\"#46039f\"],[0.2222222222222222,\"#7201a8\"],[0.3333333333333333,\"#9c179e\"],[0.4444444444444444,\"#bd3786\"],[0.5555555555555556,\"#d8576b\"],[0.6666666666666666,\"#ed7953\"],[0.7777777777777778,\"#fb9f3a\"],[0.8888888888888888,\"#fdca26\"],[1.0,\"#f0f921\"]]}],\"mesh3d\":[{\"type\":\"mesh3d\",\"colorbar\":{\"outlinewidth\":0,\"ticks\":\"\"}}],\"scatter\":[{\"fillpattern\":{\"fillmode\":\"overlay\",\"size\":10,\"solidity\":0.2},\"type\":\"scatter\"}],\"parcoords\":[{\"type\":\"parcoords\",\"line\":{\"colorbar\":{\"outlinewidth\":0,\"ticks\":\"\"}}}],\"scatterpolargl\":[{\"type\":\"scatterpolargl\",\"marker\":{\"colorbar\":{\"outlinewidth\":0,\"ticks\":\"\"}}}],\"bar\":[{\"error_x\":{\"color\":\"#2a3f5f\"},\"error_y\":{\"color\":\"#2a3f5f\"},\"marker\":{\"line\":{\"color\":\"#E5ECF6\",\"width\":0.5},\"pattern\":{\"fillmode\":\"overlay\",\"size\":10,\"solidity\":0.2}},\"type\":\"bar\"}],\"scattergeo\":[{\"type\":\"scattergeo\",\"marker\":{\"colorbar\":{\"outlinewidth\":0,\"ticks\":\"\"}}}],\"scatterpolar\":[{\"type\":\"scatterpolar\",\"marker\":{\"colorbar\":{\"outlinewidth\":0,\"ticks\":\"\"}}}],\"histogram\":[{\"marker\":{\"pattern\":{\"fillmode\":\"overlay\",\"size\":10,\"solidity\":0.2}},\"type\":\"histogram\"}],\"scattergl\":[{\"type\":\"scattergl\",\"marker\":{\"colorbar\":{\"outlinewidth\":0,\"ticks\":\"\"}}}],\"scatter3d\":[{\"type\":\"scatter3d\",\"line\":{\"colorbar\":{\"outlinewidth\":0,\"ticks\":\"\"}},\"marker\":{\"colorbar\":{\"outlinewidth\":0,\"ticks\":\"\"}}}],\"scattermapbox\":[{\"type\":\"scattermapbox\",\"marker\":{\"colorbar\":{\"outlinewidth\":0,\"ticks\":\"\"}}}],\"scatterternary\":[{\"type\":\"scatterternary\",\"marker\":{\"colorbar\":{\"outlinewidth\":0,\"ticks\":\"\"}}}],\"scattercarpet\":[{\"type\":\"scattercarpet\",\"marker\":{\"colorbar\":{\"outlinewidth\":0,\"ticks\":\"\"}}}],\"carpet\":[{\"aaxis\":{\"endlinecolor\":\"#2a3f5f\",\"gridcolor\":\"white\",\"linecolor\":\"white\",\"minorgridcolor\":\"white\",\"startlinecolor\":\"#2a3f5f\"},\"baxis\":{\"endlinecolor\":\"#2a3f5f\",\"gridcolor\":\"white\",\"linecolor\":\"white\",\"minorgridcolor\":\"white\",\"startlinecolor\":\"#2a3f5f\"},\"type\":\"carpet\"}],\"table\":[{\"cells\":{\"fill\":{\"color\":\"#EBF0F8\"},\"line\":{\"color\":\"white\"}},\"header\":{\"fill\":{\"color\":\"#C8D4E3\"},\"line\":{\"color\":\"white\"}},\"type\":\"table\"}],\"barpolar\":[{\"marker\":{\"line\":{\"color\":\"#E5ECF6\",\"width\":0.5},\"pattern\":{\"fillmode\":\"overlay\",\"size\":10,\"solidity\":0.2}},\"type\":\"barpolar\"}],\"pie\":[{\"automargin\":true,\"type\":\"pie\"}]},\"layout\":{\"autotypenumbers\":\"strict\",\"colorway\":[\"#636efa\",\"#EF553B\",\"#00cc96\",\"#ab63fa\",\"#FFA15A\",\"#19d3f3\",\"#FF6692\",\"#B6E880\",\"#FF97FF\",\"#FECB52\"],\"font\":{\"color\":\"#2a3f5f\"},\"hovermode\":\"closest\",\"hoverlabel\":{\"align\":\"left\"},\"paper_bgcolor\":\"white\",\"plot_bgcolor\":\"#E5ECF6\",\"polar\":{\"bgcolor\":\"#E5ECF6\",\"angularaxis\":{\"gridcolor\":\"white\",\"linecolor\":\"white\",\"ticks\":\"\"},\"radialaxis\":{\"gridcolor\":\"white\",\"linecolor\":\"white\",\"ticks\":\"\"}},\"ternary\":{\"bgcolor\":\"#E5ECF6\",\"aaxis\":{\"gridcolor\":\"white\",\"linecolor\":\"white\",\"ticks\":\"\"},\"baxis\":{\"gridcolor\":\"white\",\"linecolor\":\"white\",\"ticks\":\"\"},\"caxis\":{\"gridcolor\":\"white\",\"linecolor\":\"white\",\"ticks\":\"\"}},\"coloraxis\":{\"colorbar\":{\"outlinewidth\":0,\"ticks\":\"\"}},\"colorscale\":{\"sequential\":[[0.0,\"#0d0887\"],[0.1111111111111111,\"#46039f\"],[0.2222222222222222,\"#7201a8\"],[0.3333333333333333,\"#9c179e\"],[0.4444444444444444,\"#bd3786\"],[0.5555555555555556,\"#d8576b\"],[0.6666666666666666,\"#ed7953\"],[0.7777777777777778,\"#fb9f3a\"],[0.8888888888888888,\"#fdca26\"],[1.0,\"#f0f921\"]],\"sequentialminus\":[[0.0,\"#0d0887\"],[0.1111111111111111,\"#46039f\"],[0.2222222222222222,\"#7201a8\"],[0.3333333333333333,\"#9c179e\"],[0.4444444444444444,\"#bd3786\"],[0.5555555555555556,\"#d8576b\"],[0.6666666666666666,\"#ed7953\"],[0.7777777777777778,\"#fb9f3a\"],[0.8888888888888888,\"#fdca26\"],[1.0,\"#f0f921\"]],\"diverging\":[[0,\"#8e0152\"],[0.1,\"#c51b7d\"],[0.2,\"#de77ae\"],[0.3,\"#f1b6da\"],[0.4,\"#fde0ef\"],[0.5,\"#f7f7f7\"],[0.6,\"#e6f5d0\"],[0.7,\"#b8e186\"],[0.8,\"#7fbc41\"],[0.9,\"#4d9221\"],[1,\"#276419\"]]},\"xaxis\":{\"gridcolor\":\"white\",\"linecolor\":\"white\",\"ticks\":\"\",\"title\":{\"standoff\":15},\"zerolinecolor\":\"white\",\"automargin\":true,\"zerolinewidth\":2},\"yaxis\":{\"gridcolor\":\"white\",\"linecolor\":\"white\",\"ticks\":\"\",\"title\":{\"standoff\":15},\"zerolinecolor\":\"white\",\"automargin\":true,\"zerolinewidth\":2},\"scene\":{\"xaxis\":{\"backgroundcolor\":\"#E5ECF6\",\"gridcolor\":\"white\",\"linecolor\":\"white\",\"showbackground\":true,\"ticks\":\"\",\"zerolinecolor\":\"white\",\"gridwidth\":2},\"yaxis\":{\"backgroundcolor\":\"#E5ECF6\",\"gridcolor\":\"white\",\"linecolor\":\"white\",\"showbackground\":true,\"ticks\":\"\",\"zerolinecolor\":\"white\",\"gridwidth\":2},\"zaxis\":{\"backgroundcolor\":\"#E5ECF6\",\"gridcolor\":\"white\",\"linecolor\":\"white\",\"showbackground\":true,\"ticks\":\"\",\"zerolinecolor\":\"white\",\"gridwidth\":2}},\"shapedefaults\":{\"line\":{\"color\":\"#2a3f5f\"}},\"annotationdefaults\":{\"arrowcolor\":\"#2a3f5f\",\"arrowhead\":0,\"arrowwidth\":1},\"geo\":{\"bgcolor\":\"white\",\"landcolor\":\"#E5ECF6\",\"subunitcolor\":\"white\",\"showland\":true,\"showlakes\":true,\"lakecolor\":\"white\"},\"title\":{\"x\":0.05},\"mapbox\":{\"style\":\"light\"}}},\"xaxis\":{\"anchor\":\"y\",\"domain\":[0.0,1.0],\"title\":{\"text\":\"Annual Income\"}},\"yaxis\":{\"anchor\":\"x\",\"domain\":[0.0,1.0],\"title\":{\"text\":\"Browsing History\"}},\"legend\":{\"tracegroupgap\":0},\"title\":{\"text\":\"Browsing History vs Annual Income\"},\"width\":1500},                        {\"responsive\": true}                    ).then(function(){\n",
              "                            \n",
              "var gd = document.getElementById('e1f3deb5-4a49-4c98-bc98-2f104c2b26aa');\n",
              "var x = new MutationObserver(function (mutations, observer) {{\n",
              "        var display = window.getComputedStyle(gd).display;\n",
              "        if (!display || display === 'none') {{\n",
              "            console.log([gd, 'removed!']);\n",
              "            Plotly.purge(gd);\n",
              "            observer.disconnect();\n",
              "        }}\n",
              "}});\n",
              "\n",
              "// Listen for the removal of the full notebook cells\n",
              "var notebookContainer = gd.closest('#notebook-container');\n",
              "if (notebookContainer) {{\n",
              "    x.observe(notebookContainer, {childList: true});\n",
              "}}\n",
              "\n",
              "// Listen for the clearing of the current output cell\n",
              "var outputEl = gd.closest('.output');\n",
              "if (outputEl) {{\n",
              "    x.observe(outputEl, {childList: true});\n",
              "}}\n",
              "\n",
              "                        })                };                            </script>        </div>\n",
              "</body>\n",
              "</html>"
            ]
          },
          "metadata": {}
        }
      ]
    },
    {
      "cell_type": "markdown",
      "source": [
        "**How does the number of reviews given affect purchase history?**"
      ],
      "metadata": {
        "id": "C6j-wbwciy2f"
      }
    },
    {
      "cell_type": "code",
      "source": [
        "fig = px.scatter(df_no_outliers, x='Product Reviews', y='Purchase History', title='Product Reviews vs Purchase History', width=2500, height=1500)\n",
        "fig.show()"
      ],
      "metadata": {
        "execution": {
          "iopub.status.busy": "2024-09-19T09:54:01.625699Z",
          "iopub.execute_input": "2024-09-19T09:54:01.626223Z",
          "iopub.status.idle": "2024-09-19T09:54:01.706069Z",
          "shell.execute_reply.started": "2024-09-19T09:54:01.626168Z",
          "shell.execute_reply": "2024-09-19T09:54:01.704904Z"
        },
        "trusted": true,
        "id": "H_-zVBlwiy2f",
        "outputId": "ed596f6a-a17e-4c99-8132-ebd39816ba6a",
        "colab": {
          "base_uri": "https://localhost:8080/",
          "height": 1000
        }
      },
      "execution_count": 25,
      "outputs": [
        {
          "output_type": "display_data",
          "data": {
            "text/html": [
              "<html>\n",
              "<head><meta charset=\"utf-8\" /></head>\n",
              "<body>\n",
              "    <div>            <script src=\"https://cdnjs.cloudflare.com/ajax/libs/mathjax/2.7.5/MathJax.js?config=TeX-AMS-MML_SVG\"></script><script type=\"text/javascript\">if (window.MathJax && window.MathJax.Hub && window.MathJax.Hub.Config) {window.MathJax.Hub.Config({SVG: {font: \"STIX-Web\"}});}</script>                <script type=\"text/javascript\">window.PlotlyConfig = {MathJaxConfig: 'local'};</script>\n",
              "        <script charset=\"utf-8\" src=\"https://cdn.plot.ly/plotly-2.35.2.min.js\"></script>                <div id=\"c19c6768-5fa5-4763-9778-586afe6efdef\" class=\"plotly-graph-div\" style=\"height:1500px; width:2500px;\"></div>            <script type=\"text/javascript\">                                    window.PLOTLYENV=window.PLOTLYENV || {};                                    if (document.getElementById(\"c19c6768-5fa5-4763-9778-586afe6efdef\")) {                    Plotly.newPlot(                        \"c19c6768-5fa5-4763-9778-586afe6efdef\",                        [{\"hovertemplate\":\"Product Reviews=%{x}\\u003cbr\\u003ePurchase History=%{y}\\u003cextra\\u003e\\u003c\\u002fextra\\u003e\",\"legendgroup\":\"\",\"marker\":{\"color\":\"#636efa\",\"symbol\":\"circle\"},\"mode\":\"markers\",\"name\":\"\",\"orientation\":\"v\",\"showlegend\":false,\"x\":[\"Great pair of jeans, very comfortable. Rating: 4 stars.\",\"Great customer service!\",\"Great electronics. The sound quality is excellent. I would highly recommend this product.\",\"{\\\"Product 1\\\": {\\\"Rating\\\": 4, \\\"Review\\\": \\\"Great experience buying this product. Fast delivery and excellent customer service.\\\"}}\",\"{\\\"Product 1\\\": {\\\"Rating\\\": 3, \\\"Review\\\": \\\"Good product, but could have been better.\\\"}}\",\"{\\\"Product 1\\\": {\\\"Rating\\\": 5, \\\"Review\\\": \\\"Awesome product, highly recommend it to everyone.\\\"}}\",\"{\\\"Product 1\\\": {\\\"Rating\\\": 4, \\\"Review\\\": \\\"Great product, will definitely buy again.\\\"}}\",\"{\\\"Product 1\\\": {\\\"Rating\\\": 3, \\\"Review\\\": \\\"Good product, but not worth the price.\\\"}}\",\"{\\\"Product 1\\\": {\\\"Rating\\\": 5, \\\"Review\\\": \\\"Outstanding product, exceeded my expectations.\\\"}}\",\"{\\\"Product 1\\\": {\\\"Rating\\\": 4, \\\"Review\\\": \\\"Good product, but could have been better.\\\"}}\",\"{\\\"Product 1\\\": {\\\"Rating\\\": 3, \\\"Review\\\": \\\"Good product, but not what I expected.\\\"}}\",\"{\\\"Product 1\\\": {\\\"Rating\\\": 4, \\\"Review\\\": \\\"Great product, will definitely buy again.\\\"}}\",\"{\\\"Review Text\\\": \\\"Great quality clothes!\\\", \\\"Rating\\\": 5}\",\"{\\\"Review Text\\\": \\\"Good product, but could be cheaper.\\\", \\\"Rating\\\": 3}\",\"{\\\"Review Text\\\": \\\"Very satisfied with my purchase!\\\", \\\"Rating\\\": 5}\",\"{\\\"Review Text\\\": \\\"Not what I expected.\\\", \\\"Rating\\\": 2}\",\"{\\\"Review Text\\\": \\\"Excellent product, highly recommend!\\\", \\\"Rating\\\": 5}\",\"{\\\"Review Text\\\": \\\"Awesome purchase!\\\", \\\"Rating\\\": 5}\",\"{\\\"Review Text\\\": \\\"Good product, but not worth the price.\\\", \\\"Rating\\\": 3}\",\"{\\\"Review Text\\\": \\\"Great product, highly recommend!\\\", \\\"Rating\\\": 5}\",\"{\\\"Review Text\\\": \\\"Satisfied with my purchase!\\\", \\\"Rating\\\": 4}\",\"{\\\"Review Text\\\": \\\"Excellent product, highly recommend!\\\", \\\"Rating\\\": 5}\",\"{\\\"Review Text\\\": \\\"Good product, but could be better.\\\", \\\"Rating\\\": 3}\",\"{\\\"Review Text\\\": \\\"Excellent product, highly recommend!\\\", \\\"Rating\\\": 5}\",\"This dress is amazing! I love the color and fit. 5 stars.\",\"The blouse is so comfortable and stylish. 5 stars!\",\"The headphones are great. Sound quality is excellent. 4.5 stars.\",\"The dress fits perfectly. I love it. 5 stars!\",\"The vacuum cleaner works great. 4 stars.\",\"The top is nice, but the size is a bit small. 3.5 stars.\",\"The phone is fantastic. 5 stars!\",\"The shirt is comfortable. 4 stars.\",\"The laptop is excellent. 5 stars!\",\"The shoes are comfortable. 4.5 stars.\",\"The coffee maker is great. 5 stars!\",\"The skirt is lovely. 4.5 stars.\",\"The TV is amazing. 5 stars!\",\"The bedding is comfortable. 4 stars.\",\"Great find! 5 stars\",\"Great product, very happy with my purchase.\",\"The product arrived quickly and in great condition.\",\"Great headphones, sound quality is amazing.\",\"Great purchase! The shoes are so comfortable and stylish. I've received several compliments.\",\"I'm really happy with my new phone. The battery life is impressive.\",\"The headphones are amazing! The sound quality is excellent.\",\"I love my new kitchen gadget! It's so efficient and easy to use.\",\"The laptop is perfect for my needs. It's lightweight and powerful.\",\"The clothing arrived quickly and fits great! 5 stars.\",\"The electronics were excellent quality and arrived promptly. 5 stars.\",\"The electronics were as described and arrived on time. 4 stars.\"],\"xaxis\":\"x\",\"y\":[\"[{\\\"Date\\\": \\\"2022-03-05\\\", \\\"Category\\\": \\\"Clothing\\\", \\\"Price\\\": 34.99}, {\\\"Date\\\": \\\"2022-02-12\\\", \\\"Category\\\": \\\"Electronics\\\", \\\"Price\\\": 129.99}, {\\\"Date\\\": \\\"2022-01-20\\\", \\\"Category\\\": \\\"Home & Garden\\\", \\\"Price\\\": 29.99}]\",\"[{\\\"Product Category\\\": \\\"Clothing\\\", \\\"Purchase Date\\\": \\\"2022-05-15\\\", \\\"Price\\\": 34.56}, {\\\"Product Category\\\": \\\"Electronics\\\", \\\"Purchase Date\\\": \\\"2022-06-02\\\", \\\"Price\\\": 150.99}]\",\"[{\\\"Product Category\\\": \\\"Electronics\\\", \\\"Purchase Date\\\": \\\"2022-08-15\\\", \\\"Price\\\": 345.5}, {\\\"Product Category\\\": \\\"Home & Garden\\\", \\\"Purchase Date\\\": \\\"2022-07-02\\\", \\\"Price\\\": 279.99}]\",\"{'Purchase Date': '2022-08-15', 'Product Category': 'Electronics', 'Price': 200.5},{'Purchase Date': '2022-07-22', 'Product Category': 'Clothing', 'Price': 125.6},{'Purchase Date': '2022-06-01', 'Product Category': 'Home & Garden', 'Price': 300.8},{'Purchase Date': '2022-05-10', 'Product Category': 'Electronics', 'Price': 150.9}\",\"{'Purchase Date': '2022-07-25', 'Product Category': 'Clothing', 'Price': 67.2},{'Purchase Date': '2022-06-08', 'Product Category': 'Home & Garden', 'Price': 250.1},{'Purchase Date': '2022-05-15', 'Product Category': 'Electronics', 'Price': 400.7}\",\"{'Purchase Date': '2022-09-01', 'Product Category': 'Electronics', 'Price': 300.2},{'Purchase Date': '2022-08-12', 'Product Category': 'Clothing', 'Price': 185.3},{'Purchase Date': '2022-07-28', 'Product Category': 'Home & Garden', 'Price': 200.9}\",\"{'Purchase Date': '2022-07-20', 'Product Category': 'Electronics', 'Price': 150.8},{'Purchase Date': '2022-06-05', 'Product Category': 'Clothing', 'Price': 120.6},{'Purchase Date': '2022-05-18', 'Product Category': 'Home & Garden', 'Price': 350.1}\",\"{'Purchase Date': '2022-08-28', 'Product Category': 'Electronics', 'Price': 250.6},{'Purchase Date': '2022-07-15', 'Product Category': 'Clothing', 'Price': 115.7},{'Purchase Date': '2022-06-03', 'Product Category': 'Home & Garden', 'Price': 300.4}\",\"{'Purchase Date': '2022-09-05', 'Product Category': 'Electronics', 'Price': 400.9},{'Purchase Date': '2022-08-18', 'Product Category': 'Clothing', 'Price': 195.3},{'Purchase Date': '2022-07-03', 'Product Category': 'Home & Garden', 'Price': 220.7}\",\"{'Purchase Date': '2022-07-27', 'Product Category': 'Electronics', 'Price': 120.5},{'Purchase Date': '2022-06-12', 'Product Category': 'Clothing', 'Price': 130.6},{'Purchase Date': '2022-05-28', 'Product Category': 'Home & Garden', 'Price': 320.8}\",\"{'Purchase Date': '2022-09-08', 'Product Category': 'Electronics', 'Price': 350.2},{'Purchase Date': '2022-08-23', 'Product Category': 'Clothing', 'Price': 165.3},{'Purchase Date': '2022-07-07', 'Product Category': 'Home & Garden', 'Price': 280.9}\",\"{'Purchase Date': '2022-08-25', 'Product Category': 'Electronics', 'Price': 170.8},{'Purchase Date': '2022-07-09', 'Product Category': 'Clothing', 'Price': 105.6},{'Purchase Date': '2022-06-24', 'Product Category': 'Home & Garden', 'Price': 290.1}\",\"{'Purchase Date': '2022-03-05', 'Product Category': 'Clothing', 'Price': 45.99},{'Purchase Date': '2022-04-12', 'Product Category': 'Home & Garden', 'Price': 120.5}\",\"{'Purchase Date': '2022-02-15', 'Product Category': 'Electronics', 'Price': 250},{'Purchase Date': '2022-05-10', 'Product Category': 'Clothing', 'Price': 34.99}\",\"{'Purchase Date': '2022-01-18', 'Product Category': 'Home & Garden', 'Price': 180},{'Purchase Date': '2022-06-02', 'Product Category': 'Electronics', 'Price': 400}\",\"{'Purchase Date': '2022-04-25', 'Product Category': 'Clothing', 'Price': 29.99},{'Purchase Date': '2022-07-07', 'Product Category': 'Home & Garden', 'Price': 150}\",\"{'Purchase Date': '2022-05-20', 'Product Category': 'Electronics', 'Price': 600},{'Purchase Date': '2022-08-03', 'Product Category': 'Clothing', 'Price': 59.99}\",\"{'Purchase Date': '2022-06-15', 'Product Category': 'Home & Garden', 'Price': 220},{'Purchase Date': '2022-09-01', 'Product Category': 'Electronics', 'Price': 300}\",\"{'Purchase Date': '2022-07-22', 'Product Category': 'Clothing', 'Price': 39.99},{'Purchase Date': '2022-10-06', 'Product Category': 'Home & Garden', 'Price': 190}\",\"{'Purchase Date': '2022-08-08', 'Product Category': 'Electronics', 'Price': 550},{'Purchase Date': '2022-11-01', 'Product Category': 'Clothing', 'Price': 44.99}\",\"{'Purchase Date': '2022-09-20', 'Product Category': 'Home & Garden', 'Price': 200},{'Purchase Date': '2022-12-05', 'Product Category': 'Electronics', 'Price': 350}\",\"{'Purchase Date': '2022-10-15', 'Product Category': 'Clothing', 'Price': 34.99},{'Purchase Date': '2022-12-20', 'Product Category': 'Home & Garden', 'Price': 250}\",\"{'Purchase Date': '2022-11-05', 'Product Category': 'Electronics', 'Price': 150},{'Purchase Date': '2023-01-10', 'Product Category': 'Clothing', 'Price': 29.99}\",\"{'Purchase Date': '2022-12-25', 'Product Category': 'Home & Garden', 'Price': 170},{'Purchase Date': '2023-02-05', 'Product Category': 'Electronics', 'Price': 450}\",\"[{\\\"Purchase Date\\\": \\\"2022-09-15\\\", \\\"Product Category\\\": \\\"Clothing\\\", \\\"Price\\\": 34.5}]\",\"{'Purchase Date': '2022-05-15', 'Product Category': 'Clothing', 'Price': 120},{'Purchase Date': '2022-06-02', 'Product Category': 'Home & Garden', 'Price': 250}\",\"{'Purchase Date': '2022-06-12', 'Product Category': 'Electronics', 'Price': 350}\",\"{'Purchase Date': '2022-05-28', 'Product Category': 'Clothing', 'Price': 75},{'Purchase Date': '2022-06-10', 'Product Category': 'Home & Garden', 'Price': 120}\",\"{'Purchase Date': '2022-05-08', 'Product Category': 'Electronics', 'Price': 200},{'Purchase Date': '2022-06-05', 'Product Category': 'Home & Garden', 'Price': 150}\",\"{'Purchase Date': '2022-05-18', 'Product Category': 'Clothing', 'Price': 50},{'Purchase Date': '2022-06-07', 'Product Category': 'Home & Garden', 'Price': 100}\",\"{'Purchase Date': '2022-05-23', 'Product Category': 'Electronics', 'Price': 400},{'Purchase Date': '2022-06-03', 'Product Category': 'Home & Garden', 'Price': 200}\",\"{'Purchase Date': '2022-05-25', 'Product Category': 'Clothing', 'Price': 100},{'Purchase Date': '2022-06-08', 'Product Category': 'Home & Garden', 'Price': 180}\",\"{'Purchase Date': '2022-05-20', 'Product Category': 'Electronics', 'Price': 300},{'Purchase Date': '2022-06-04', 'Product Category': 'Home & Garden', 'Price': 250}\",\"{'Purchase Date': '2022-05-16', 'Product Category': 'Clothing', 'Price': 60},{'Purchase Date': '2022-06-06', 'Product Category': 'Home & Garden', 'Price': 150}\",\"{'Purchase Date': '2022-05-12', 'Product Category': 'Electronics', 'Price': 250},{'Purchase Date': '2022-06-01', 'Product Category': 'Home & Garden', 'Price': 175}\",\"{'Purchase Date': '2022-05-27', 'Product Category': 'Clothing', 'Price': 80},{'Purchase Date': '2022-06-09', 'Product Category': 'Home & Garden', 'Price': 200}\",\"{'Purchase Date': '2022-05-22', 'Product Category': 'Electronics', 'Price': 350},{'Purchase Date': '2022-06-02', 'Product Category': 'Home & Garden', 'Price': 100}\",\"{'Purchase Date': '2022-05-19', 'Product Category': 'Clothing', 'Price': 120},{'Purchase Date': '2022-06-07', 'Product Category': 'Home & Garden', 'Price': 150}\",\"[{\\\"Product Category\\\": \\\"Clothing\\\", \\\"Purchase Date\\\": \\\"2022-08-15\\\", \\\"Price\\\": 45.23}, {\\\"Product Category\\\": \\\"Electronics\\\", \\\"Purchase Date\\\": \\\"2022-07-20\\\", \\\"Price\\\": 250.34}]\",\"[{\\\"Product Category\\\": \\\"Electronics\\\", \\\"Purchase Date\\\": \\\"2022-03-15\\\", \\\"Price\\\": 250.5}, {\\\"Product Category\\\": \\\"Clothing\\\", \\\"Purchase Date\\\": \\\"2022-02-01\\\", \\\"Price\\\": 125.8}]\",\"[{\\\"Product Category\\\": \\\"Clothing\\\", \\\"Purchase Date\\\": \\\"2022-02-20\\\", \\\"Price\\\": 150.2}, {\\\"Product Category\\\": \\\"Home & Garden\\\", \\\"Purchase Date\\\": \\\"2022-01-12\\\", \\\"Price\\\": 450}]\",\"[{\\\"Product Category\\\": \\\"Electronics\\\", \\\"Purchase Date\\\": \\\"2022-03-15\\\", \\\"Price\\\": 249.99}]\",\"[{\\\"Product Category\\\": \\\"Clothing\\\", \\\"Purchase Date\\\": \\\"2022-06-12\\\", \\\"Price\\\": 45.99}, {\\\"Product Category\\\": \\\"Electronics\\\", \\\"Purchase Date\\\": \\\"2022-05-08\\\", \\\"Price\\\": 199.99}]\",\"[{\\\"Product Category\\\": \\\"Electronics\\\", \\\"Purchase Date\\\": \\\"2022-07-03\\\", \\\"Price\\\": 249.99}, {\\\"Product Category\\\": \\\"Home & Garden\\\", \\\"Purchase Date\\\": \\\"2022-06-17\\\", \\\"Price\\\": 129.99}]\",\"[{\\\"Product Category\\\": \\\"Clothing\\\", \\\"Purchase Date\\\": \\\"2022-06-22\\\", \\\"Price\\\": 34.99}, {\\\"Product Category\\\": \\\"Electronics\\\", \\\"Purchase Date\\\": \\\"2022-05-15\\\", \\\"Price\\\": 149.99}]\",\"[{\\\"Product Category\\\": \\\"Clothing\\\", \\\"Purchase Date\\\": \\\"2022-07-08\\\", \\\"Price\\\": 79.99}, {\\\"Product Category\\\": \\\"Home & Garden\\\", \\\"Purchase Date\\\": \\\"2022-06-24\\\", \\\"Price\\\": 399.99}]\",\"[{\\\"Product Category\\\": \\\"Electronics\\\", \\\"Purchase Date\\\": \\\"2022-06-01\\\", \\\"Price\\\": 129.99}, {\\\"Product Category\\\": \\\"Home & Garden\\\", \\\"Purchase Date\\\": \\\"2022-05-18\\\", \\\"Price\\\": 59.99}]\",\"[{\\\"Purchase Date\\\": \\\"2022-07-02\\\",\\\"Product Category\\\": \\\"Clothing\\\",\\\"Price\\\": 25.6},{\\\"Purchase Date\\\": \\\"2022-06-15\\\",\\\"Product Category\\\": \\\"Electronics\\\",\\\"Price\\\": 120},{\\\"Purchase Date\\\": \\\"2022-05-10\\\",\\\"Product Category\\\": \\\"Home & Garden\\\",\\\"Price\\\": 35}]\",\"[{\\\"Purchase Date\\\": \\\"2022-07-08\\\",\\\"Product Category\\\": \\\"Electronics\\\",\\\"Price\\\": 420},{\\\"Purchase Date\\\": \\\"2022-06-23\\\",\\\"Product Category\\\": \\\"Clothing\\\",\\\"Price\\\": 75},{\\\"Purchase Date\\\": \\\"2022-05-12\\\",\\\"Product Category\\\": \\\"Home & Garden\\\",\\\"Price\\\": 200}]\",\"[{\\\"Purchase Date\\\": \\\"2022-07-01\\\",\\\"Product Category\\\": \\\"Electronics\\\",\\\"Price\\\": 180},{\\\"Purchase Date\\\": \\\"2022-06-18\\\",\\\"Product Category\\\": \\\"Clothing\\\",\\\"Price\\\": 50},{\\\"Purchase Date\\\": \\\"2022-05-09\\\",\\\"Product Category\\\": \\\"Home & Garden\\\",\\\"Price\\\": 30}]\"],\"yaxis\":\"y\",\"type\":\"scatter\"}],                        {\"template\":{\"data\":{\"histogram2dcontour\":[{\"type\":\"histogram2dcontour\",\"colorbar\":{\"outlinewidth\":0,\"ticks\":\"\"},\"colorscale\":[[0.0,\"#0d0887\"],[0.1111111111111111,\"#46039f\"],[0.2222222222222222,\"#7201a8\"],[0.3333333333333333,\"#9c179e\"],[0.4444444444444444,\"#bd3786\"],[0.5555555555555556,\"#d8576b\"],[0.6666666666666666,\"#ed7953\"],[0.7777777777777778,\"#fb9f3a\"],[0.8888888888888888,\"#fdca26\"],[1.0,\"#f0f921\"]]}],\"choropleth\":[{\"type\":\"choropleth\",\"colorbar\":{\"outlinewidth\":0,\"ticks\":\"\"}}],\"histogram2d\":[{\"type\":\"histogram2d\",\"colorbar\":{\"outlinewidth\":0,\"ticks\":\"\"},\"colorscale\":[[0.0,\"#0d0887\"],[0.1111111111111111,\"#46039f\"],[0.2222222222222222,\"#7201a8\"],[0.3333333333333333,\"#9c179e\"],[0.4444444444444444,\"#bd3786\"],[0.5555555555555556,\"#d8576b\"],[0.6666666666666666,\"#ed7953\"],[0.7777777777777778,\"#fb9f3a\"],[0.8888888888888888,\"#fdca26\"],[1.0,\"#f0f921\"]]}],\"heatmap\":[{\"type\":\"heatmap\",\"colorbar\":{\"outlinewidth\":0,\"ticks\":\"\"},\"colorscale\":[[0.0,\"#0d0887\"],[0.1111111111111111,\"#46039f\"],[0.2222222222222222,\"#7201a8\"],[0.3333333333333333,\"#9c179e\"],[0.4444444444444444,\"#bd3786\"],[0.5555555555555556,\"#d8576b\"],[0.6666666666666666,\"#ed7953\"],[0.7777777777777778,\"#fb9f3a\"],[0.8888888888888888,\"#fdca26\"],[1.0,\"#f0f921\"]]}],\"heatmapgl\":[{\"type\":\"heatmapgl\",\"colorbar\":{\"outlinewidth\":0,\"ticks\":\"\"},\"colorscale\":[[0.0,\"#0d0887\"],[0.1111111111111111,\"#46039f\"],[0.2222222222222222,\"#7201a8\"],[0.3333333333333333,\"#9c179e\"],[0.4444444444444444,\"#bd3786\"],[0.5555555555555556,\"#d8576b\"],[0.6666666666666666,\"#ed7953\"],[0.7777777777777778,\"#fb9f3a\"],[0.8888888888888888,\"#fdca26\"],[1.0,\"#f0f921\"]]}],\"contourcarpet\":[{\"type\":\"contourcarpet\",\"colorbar\":{\"outlinewidth\":0,\"ticks\":\"\"}}],\"contour\":[{\"type\":\"contour\",\"colorbar\":{\"outlinewidth\":0,\"ticks\":\"\"},\"colorscale\":[[0.0,\"#0d0887\"],[0.1111111111111111,\"#46039f\"],[0.2222222222222222,\"#7201a8\"],[0.3333333333333333,\"#9c179e\"],[0.4444444444444444,\"#bd3786\"],[0.5555555555555556,\"#d8576b\"],[0.6666666666666666,\"#ed7953\"],[0.7777777777777778,\"#fb9f3a\"],[0.8888888888888888,\"#fdca26\"],[1.0,\"#f0f921\"]]}],\"surface\":[{\"type\":\"surface\",\"colorbar\":{\"outlinewidth\":0,\"ticks\":\"\"},\"colorscale\":[[0.0,\"#0d0887\"],[0.1111111111111111,\"#46039f\"],[0.2222222222222222,\"#7201a8\"],[0.3333333333333333,\"#9c179e\"],[0.4444444444444444,\"#bd3786\"],[0.5555555555555556,\"#d8576b\"],[0.6666666666666666,\"#ed7953\"],[0.7777777777777778,\"#fb9f3a\"],[0.8888888888888888,\"#fdca26\"],[1.0,\"#f0f921\"]]}],\"mesh3d\":[{\"type\":\"mesh3d\",\"colorbar\":{\"outlinewidth\":0,\"ticks\":\"\"}}],\"scatter\":[{\"fillpattern\":{\"fillmode\":\"overlay\",\"size\":10,\"solidity\":0.2},\"type\":\"scatter\"}],\"parcoords\":[{\"type\":\"parcoords\",\"line\":{\"colorbar\":{\"outlinewidth\":0,\"ticks\":\"\"}}}],\"scatterpolargl\":[{\"type\":\"scatterpolargl\",\"marker\":{\"colorbar\":{\"outlinewidth\":0,\"ticks\":\"\"}}}],\"bar\":[{\"error_x\":{\"color\":\"#2a3f5f\"},\"error_y\":{\"color\":\"#2a3f5f\"},\"marker\":{\"line\":{\"color\":\"#E5ECF6\",\"width\":0.5},\"pattern\":{\"fillmode\":\"overlay\",\"size\":10,\"solidity\":0.2}},\"type\":\"bar\"}],\"scattergeo\":[{\"type\":\"scattergeo\",\"marker\":{\"colorbar\":{\"outlinewidth\":0,\"ticks\":\"\"}}}],\"scatterpolar\":[{\"type\":\"scatterpolar\",\"marker\":{\"colorbar\":{\"outlinewidth\":0,\"ticks\":\"\"}}}],\"histogram\":[{\"marker\":{\"pattern\":{\"fillmode\":\"overlay\",\"size\":10,\"solidity\":0.2}},\"type\":\"histogram\"}],\"scattergl\":[{\"type\":\"scattergl\",\"marker\":{\"colorbar\":{\"outlinewidth\":0,\"ticks\":\"\"}}}],\"scatter3d\":[{\"type\":\"scatter3d\",\"line\":{\"colorbar\":{\"outlinewidth\":0,\"ticks\":\"\"}},\"marker\":{\"colorbar\":{\"outlinewidth\":0,\"ticks\":\"\"}}}],\"scattermapbox\":[{\"type\":\"scattermapbox\",\"marker\":{\"colorbar\":{\"outlinewidth\":0,\"ticks\":\"\"}}}],\"scatterternary\":[{\"type\":\"scatterternary\",\"marker\":{\"colorbar\":{\"outlinewidth\":0,\"ticks\":\"\"}}}],\"scattercarpet\":[{\"type\":\"scattercarpet\",\"marker\":{\"colorbar\":{\"outlinewidth\":0,\"ticks\":\"\"}}}],\"carpet\":[{\"aaxis\":{\"endlinecolor\":\"#2a3f5f\",\"gridcolor\":\"white\",\"linecolor\":\"white\",\"minorgridcolor\":\"white\",\"startlinecolor\":\"#2a3f5f\"},\"baxis\":{\"endlinecolor\":\"#2a3f5f\",\"gridcolor\":\"white\",\"linecolor\":\"white\",\"minorgridcolor\":\"white\",\"startlinecolor\":\"#2a3f5f\"},\"type\":\"carpet\"}],\"table\":[{\"cells\":{\"fill\":{\"color\":\"#EBF0F8\"},\"line\":{\"color\":\"white\"}},\"header\":{\"fill\":{\"color\":\"#C8D4E3\"},\"line\":{\"color\":\"white\"}},\"type\":\"table\"}],\"barpolar\":[{\"marker\":{\"line\":{\"color\":\"#E5ECF6\",\"width\":0.5},\"pattern\":{\"fillmode\":\"overlay\",\"size\":10,\"solidity\":0.2}},\"type\":\"barpolar\"}],\"pie\":[{\"automargin\":true,\"type\":\"pie\"}]},\"layout\":{\"autotypenumbers\":\"strict\",\"colorway\":[\"#636efa\",\"#EF553B\",\"#00cc96\",\"#ab63fa\",\"#FFA15A\",\"#19d3f3\",\"#FF6692\",\"#B6E880\",\"#FF97FF\",\"#FECB52\"],\"font\":{\"color\":\"#2a3f5f\"},\"hovermode\":\"closest\",\"hoverlabel\":{\"align\":\"left\"},\"paper_bgcolor\":\"white\",\"plot_bgcolor\":\"#E5ECF6\",\"polar\":{\"bgcolor\":\"#E5ECF6\",\"angularaxis\":{\"gridcolor\":\"white\",\"linecolor\":\"white\",\"ticks\":\"\"},\"radialaxis\":{\"gridcolor\":\"white\",\"linecolor\":\"white\",\"ticks\":\"\"}},\"ternary\":{\"bgcolor\":\"#E5ECF6\",\"aaxis\":{\"gridcolor\":\"white\",\"linecolor\":\"white\",\"ticks\":\"\"},\"baxis\":{\"gridcolor\":\"white\",\"linecolor\":\"white\",\"ticks\":\"\"},\"caxis\":{\"gridcolor\":\"white\",\"linecolor\":\"white\",\"ticks\":\"\"}},\"coloraxis\":{\"colorbar\":{\"outlinewidth\":0,\"ticks\":\"\"}},\"colorscale\":{\"sequential\":[[0.0,\"#0d0887\"],[0.1111111111111111,\"#46039f\"],[0.2222222222222222,\"#7201a8\"],[0.3333333333333333,\"#9c179e\"],[0.4444444444444444,\"#bd3786\"],[0.5555555555555556,\"#d8576b\"],[0.6666666666666666,\"#ed7953\"],[0.7777777777777778,\"#fb9f3a\"],[0.8888888888888888,\"#fdca26\"],[1.0,\"#f0f921\"]],\"sequentialminus\":[[0.0,\"#0d0887\"],[0.1111111111111111,\"#46039f\"],[0.2222222222222222,\"#7201a8\"],[0.3333333333333333,\"#9c179e\"],[0.4444444444444444,\"#bd3786\"],[0.5555555555555556,\"#d8576b\"],[0.6666666666666666,\"#ed7953\"],[0.7777777777777778,\"#fb9f3a\"],[0.8888888888888888,\"#fdca26\"],[1.0,\"#f0f921\"]],\"diverging\":[[0,\"#8e0152\"],[0.1,\"#c51b7d\"],[0.2,\"#de77ae\"],[0.3,\"#f1b6da\"],[0.4,\"#fde0ef\"],[0.5,\"#f7f7f7\"],[0.6,\"#e6f5d0\"],[0.7,\"#b8e186\"],[0.8,\"#7fbc41\"],[0.9,\"#4d9221\"],[1,\"#276419\"]]},\"xaxis\":{\"gridcolor\":\"white\",\"linecolor\":\"white\",\"ticks\":\"\",\"title\":{\"standoff\":15},\"zerolinecolor\":\"white\",\"automargin\":true,\"zerolinewidth\":2},\"yaxis\":{\"gridcolor\":\"white\",\"linecolor\":\"white\",\"ticks\":\"\",\"title\":{\"standoff\":15},\"zerolinecolor\":\"white\",\"automargin\":true,\"zerolinewidth\":2},\"scene\":{\"xaxis\":{\"backgroundcolor\":\"#E5ECF6\",\"gridcolor\":\"white\",\"linecolor\":\"white\",\"showbackground\":true,\"ticks\":\"\",\"zerolinecolor\":\"white\",\"gridwidth\":2},\"yaxis\":{\"backgroundcolor\":\"#E5ECF6\",\"gridcolor\":\"white\",\"linecolor\":\"white\",\"showbackground\":true,\"ticks\":\"\",\"zerolinecolor\":\"white\",\"gridwidth\":2},\"zaxis\":{\"backgroundcolor\":\"#E5ECF6\",\"gridcolor\":\"white\",\"linecolor\":\"white\",\"showbackground\":true,\"ticks\":\"\",\"zerolinecolor\":\"white\",\"gridwidth\":2}},\"shapedefaults\":{\"line\":{\"color\":\"#2a3f5f\"}},\"annotationdefaults\":{\"arrowcolor\":\"#2a3f5f\",\"arrowhead\":0,\"arrowwidth\":1},\"geo\":{\"bgcolor\":\"white\",\"landcolor\":\"#E5ECF6\",\"subunitcolor\":\"white\",\"showland\":true,\"showlakes\":true,\"lakecolor\":\"white\"},\"title\":{\"x\":0.05},\"mapbox\":{\"style\":\"light\"}}},\"xaxis\":{\"anchor\":\"y\",\"domain\":[0.0,1.0],\"title\":{\"text\":\"Product Reviews\"}},\"yaxis\":{\"anchor\":\"x\",\"domain\":[0.0,1.0],\"title\":{\"text\":\"Purchase History\"}},\"legend\":{\"tracegroupgap\":0},\"title\":{\"text\":\"Product Reviews vs Purchase History\"},\"height\":1500,\"width\":2500},                        {\"responsive\": true}                    ).then(function(){\n",
              "                            \n",
              "var gd = document.getElementById('c19c6768-5fa5-4763-9778-586afe6efdef');\n",
              "var x = new MutationObserver(function (mutations, observer) {{\n",
              "        var display = window.getComputedStyle(gd).display;\n",
              "        if (!display || display === 'none') {{\n",
              "            console.log([gd, 'removed!']);\n",
              "            Plotly.purge(gd);\n",
              "            observer.disconnect();\n",
              "        }}\n",
              "}});\n",
              "\n",
              "// Listen for the removal of the full notebook cells\n",
              "var notebookContainer = gd.closest('#notebook-container');\n",
              "if (notebookContainer) {{\n",
              "    x.observe(notebookContainer, {childList: true});\n",
              "}}\n",
              "\n",
              "// Listen for the clearing of the current output cell\n",
              "var outputEl = gd.closest('.output');\n",
              "if (outputEl) {{\n",
              "    x.observe(outputEl, {childList: true});\n",
              "}}\n",
              "\n",
              "                        })                };                            </script>        </div>\n",
              "</body>\n",
              "</html>"
            ]
          },
          "metadata": {}
        }
      ]
    },
    {
      "cell_type": "markdown",
      "source": [
        "**What is the relationship between time on site and browsing history?**"
      ],
      "metadata": {
        "id": "oPV-1GPziy2f"
      }
    },
    {
      "cell_type": "code",
      "source": [
        "fig = px.scatter(df_no_outliers, x='Time on Site', y='Browsing History', title='Time on Site vs Browsing History', width=1500)\n",
        "fig.show()"
      ],
      "metadata": {
        "execution": {
          "iopub.status.busy": "2024-09-19T09:54:01.707835Z",
          "iopub.execute_input": "2024-09-19T09:54:01.708336Z",
          "iopub.status.idle": "2024-09-19T09:54:01.785558Z",
          "shell.execute_reply.started": "2024-09-19T09:54:01.708282Z",
          "shell.execute_reply": "2024-09-19T09:54:01.784307Z"
        },
        "trusted": true,
        "id": "IUfQzTIriy2g",
        "outputId": "f2177c2a-a106-47a1-9f16-d4670f3b1471",
        "colab": {
          "base_uri": "https://localhost:8080/",
          "height": 562
        }
      },
      "execution_count": 26,
      "outputs": [
        {
          "output_type": "display_data",
          "data": {
            "text/html": [
              "<html>\n",
              "<head><meta charset=\"utf-8\" /></head>\n",
              "<body>\n",
              "    <div>            <script src=\"https://cdnjs.cloudflare.com/ajax/libs/mathjax/2.7.5/MathJax.js?config=TeX-AMS-MML_SVG\"></script><script type=\"text/javascript\">if (window.MathJax && window.MathJax.Hub && window.MathJax.Hub.Config) {window.MathJax.Hub.Config({SVG: {font: \"STIX-Web\"}});}</script>                <script type=\"text/javascript\">window.PlotlyConfig = {MathJaxConfig: 'local'};</script>\n",
              "        <script charset=\"utf-8\" src=\"https://cdn.plot.ly/plotly-2.35.2.min.js\"></script>                <div id=\"9a6eb4de-a6d8-4b61-9644-8c9ec5abc23d\" class=\"plotly-graph-div\" style=\"height:525px; width:1500px;\"></div>            <script type=\"text/javascript\">                                    window.PLOTLYENV=window.PLOTLYENV || {};                                    if (document.getElementById(\"9a6eb4de-a6d8-4b61-9644-8c9ec5abc23d\")) {                    Plotly.newPlot(                        \"9a6eb4de-a6d8-4b61-9644-8c9ec5abc23d\",                        [{\"hovertemplate\":\"Time on Site=%{x}\\u003cbr\\u003eBrowsing History=%{y}\\u003cextra\\u003e\\u003c\\u002fextra\\u003e\",\"legendgroup\":\"\",\"marker\":{\"color\":\"#636efa\",\"symbol\":\"circle\"},\"mode\":\"markers\",\"name\":\"\",\"orientation\":\"h\",\"showlegend\":false,\"x\":[32.5,123.45,125.6,327.6,214.9,486.3,378.5,289.8,456.2,334.9,298.6,312.5,120.0,75.0,200.0,150.0,300.0,250.0,180.0,280.0,220.0,200.0,160.0,240.0,120.5,120.0,300.0,250.0,350.0,200.0,400.0,300.0,450.0,250.0,350.0,200.0,300.0,250.0,72.3,123.6,246.9,75.2,120.5,250.0,75.0,300.0,100.0,120.0,350.0,200.0],\"xaxis\":\"x\",\"y\":[\"[{\\\"Timestamp\\\": \\\"2022-03-10T14:30:00Z\\\"}, {\\\"Timestamp\\\": \\\"2022-03-11T09:45:00Z\\\"}, {\\\"Timestamp\\\": \\\"2022-03-12T16:20:00Z\\\"}]\",\"[{\\\"Product Category\\\": \\\"Home & Garden\\\", \\\"Timestamp\\\": \\\"2022-05-12T13:30:00Z\\\"}, {\\\"Product Category\\\": \\\"Electronics\\\", \\\"Timestamp\\\": \\\"2022-06-05T08:45:00Z\\\"}]\",\"[{\\\"Product Category\\\": \\\"Clothing\\\", \\\"Timestamp\\\": \\\"2022-09-03 15:30:00\\\"}, {\\\"Product Category\\\": \\\"Electronics\\\", \\\"Timestamp\\\": \\\"2022-09-01 10:15:00\\\"}]\",\"{'Timestamp': '2022-09-03 14:30:00'}\",\"{'Timestamp': '2022-08-10 17:15:00'}\",\"{'Timestamp': '2022-06-25 10:45:00'}\",\"{'Timestamp': '2022-08-15 13:20:00'}\",\"{'Timestamp': '2022-09-12 16:35:00'}\",\"{'Timestamp': '2022-06-28 09:00:00'}\",\"{'Timestamp': '2022-08-17 14:50:00'}\",\"{'Timestamp': '2022-06-30 11:15:00'}\",\"{'Timestamp': '2022-09-14 10:00:00'}\",\"{'Timestamp': '2022-03-06 14:30:00'}\",\"{'Timestamp': '2022-05-12 16:15:00'}\",\"{'Timestamp': '2022-06-03 10:45:00'}\",\"{'Timestamp': '2022-07-08 13:00:00'}\",\"{'Timestamp': '2022-08-04 09:30:00'}\",\"{'Timestamp': '2022-09-02 11:15:00'}\",\"{'Timestamp': '2022-10-07 14:45:00'}\",\"{'Timestamp': '2022-11-02 10:30:00'}\",\"{'Timestamp': '2022-12-06 12:00:00'}\",\"{'Timestamp': '2022-12-21 15:30:00'}\",\"{'Timestamp': '2023-01-11 08:45:00'}\",\"{'Timestamp': '2023-02-06 13:15:00'}\",\"[{\\\"Timestamp\\\": \\\"2022-08-20T14:30:00Z\\\"}, {\\\"Timestamp\\\": \\\"2022-08-22T16:45:00Z\\\"}, {\\\"Timestamp\\\": \\\"2022-09-03T10:20:00Z\\\"}]\",\"{'Timestamp': '2022-04-20T14:30:00Z'}\",\"{'Timestamp': '2022-05-25T17:45:00Z'}\",\"{'Timestamp': '2022-06-01T09:15:00Z'}\",\"{'Timestamp': '2022-05-22T10:30:00Z'}\",\"{'Timestamp': '2022-05-30T13:45:00Z'}\",\"{'Timestamp': '2022-06-06T08:00:00Z'}\",\"{'Timestamp': '2022-06-15T11:30:00Z'}\",\"{'Timestamp': '2022-05-28T15:15:00Z'}\",\"{'Timestamp': '2022-05-31T16:45:00Z'}\",\"{'Timestamp': '2022-05-29T10:30:00Z'}\",\"{'Timestamp': '2022-06-13T13:00:00Z'}\",\"{'Timestamp': '2022-05-26T11:15:00Z'}\",\"{'Timestamp': '2022-06-08T14:30:00Z'}\",\"[{\\\"Product Category\\\": \\\"Home & Garden\\\", \\\"Timestamp\\\": \\\"2022-09-01T14:30:00Z\\\"}, {\\\"Product Category\\\": \\\"Clothing\\\", \\\"Timestamp\\\": \\\"2022-08-25T12:15:00Z\\\"}]\",\"[{\\\"Product Category\\\": \\\"Home & Garden\\\", \\\"Timestamp\\\": \\\"2022-04-03T15:30:00Z\\\"}, {\\\"Product Category\\\": \\\"Electronics\\\", \\\"Timestamp\\\": \\\"2022-03-28T08:45:00Z\\\"}]\",\"[{\\\"Product Category\\\": \\\"Electronics\\\", \\\"Timestamp\\\": \\\"2022-03-01T10:15:00Z\\\"}, {\\\"Product Category\\\": \\\"Clothing\\\", \\\"Timestamp\\\": \\\"2022-02-15T16:30:00Z\\\"}]\",\"[{\\\"Product Category\\\": \\\"Home & Garden\\\", \\\"Timestamp\\\": \\\"2022-02-20T12:34:56Z\\\"}]\",\"[{\\\"Product Category\\\": \\\"Home & Garden\\\", \\\"Timestamp\\\": \\\"2022-06-15T12:34:56Z\\\"}, {\\\"Product Category\\\": \\\"Electronics\\\", \\\"Timestamp\\\": \\\"2022-05-20T16:17:23Z\\\"}]\",\"[{\\\"Product Category\\\": \\\"Clothing\\\", \\\"Timestamp\\\": \\\"2022-07-10T09:15:32Z\\\"}, {\\\"Product Category\\\": \\\"Electronics\\\", \\\"Timestamp\\\": \\\"2022-06-25T14:46:01Z\\\"}]\",\"[{\\\"Product Category\\\": \\\"Home & Garden\\\", \\\"Timestamp\\\": \\\"2022-06-27T10:30:11Z\\\"}, {\\\"Product Category\\\": \\\"Electronics\\\", \\\"Timestamp\\\": \\\"2022-05-30T13:02:45Z\\\"}]\",\"[{\\\"Product Category\\\": \\\"Electronics\\\", \\\"Timestamp\\\": \\\"2022-07-12T11:45:06Z\\\"}, {\\\"Product Category\\\": \\\"Clothing\\\", \\\"Timestamp\\\": \\\"2022-06-30T16:23:30Z\\\"}]\",\"[{\\\"Product Category\\\": \\\"Clothing\\\", \\\"Timestamp\\\": \\\"2022-06-05T08:00:23Z\\\"}, {\\\"Product Category\\\": \\\"Electronics\\\", \\\"Timestamp\\\": \\\"2022-05-28T14:30:56Z\\\"}]\",\"[{\\\"Timestamp\\\": \\\"2022-08-14T09:30:00Z\\\"},{\\\"Timestamp\\\": \\\"2022-07-25T14:15:00Z\\\"},{\\\"Timestamp\\\": \\\"2022-06-01T10:45:00Z\\\"}]\",\"[{\\\"Timestamp\\\": \\\"2022-08-12T16:00:00Z\\\"},{\\\"Timestamp\\\": \\\"2022-07-27T08:30:00Z\\\"},{\\\"Timestamp\\\": \\\"2022-06-03T11:00:00Z\\\"}]\",\"[{\\\"Timestamp\\\": \\\"2022-08-13T13:45:00Z\\\"},{\\\"Timestamp\\\": \\\"2022-07-26T07:00:00Z\\\"},{\\\"Timestamp\\\": \\\"2022-06-02T15:30:00Z\\\"}]\"],\"yaxis\":\"y\",\"type\":\"scatter\"}],                        {\"template\":{\"data\":{\"histogram2dcontour\":[{\"type\":\"histogram2dcontour\",\"colorbar\":{\"outlinewidth\":0,\"ticks\":\"\"},\"colorscale\":[[0.0,\"#0d0887\"],[0.1111111111111111,\"#46039f\"],[0.2222222222222222,\"#7201a8\"],[0.3333333333333333,\"#9c179e\"],[0.4444444444444444,\"#bd3786\"],[0.5555555555555556,\"#d8576b\"],[0.6666666666666666,\"#ed7953\"],[0.7777777777777778,\"#fb9f3a\"],[0.8888888888888888,\"#fdca26\"],[1.0,\"#f0f921\"]]}],\"choropleth\":[{\"type\":\"choropleth\",\"colorbar\":{\"outlinewidth\":0,\"ticks\":\"\"}}],\"histogram2d\":[{\"type\":\"histogram2d\",\"colorbar\":{\"outlinewidth\":0,\"ticks\":\"\"},\"colorscale\":[[0.0,\"#0d0887\"],[0.1111111111111111,\"#46039f\"],[0.2222222222222222,\"#7201a8\"],[0.3333333333333333,\"#9c179e\"],[0.4444444444444444,\"#bd3786\"],[0.5555555555555556,\"#d8576b\"],[0.6666666666666666,\"#ed7953\"],[0.7777777777777778,\"#fb9f3a\"],[0.8888888888888888,\"#fdca26\"],[1.0,\"#f0f921\"]]}],\"heatmap\":[{\"type\":\"heatmap\",\"colorbar\":{\"outlinewidth\":0,\"ticks\":\"\"},\"colorscale\":[[0.0,\"#0d0887\"],[0.1111111111111111,\"#46039f\"],[0.2222222222222222,\"#7201a8\"],[0.3333333333333333,\"#9c179e\"],[0.4444444444444444,\"#bd3786\"],[0.5555555555555556,\"#d8576b\"],[0.6666666666666666,\"#ed7953\"],[0.7777777777777778,\"#fb9f3a\"],[0.8888888888888888,\"#fdca26\"],[1.0,\"#f0f921\"]]}],\"heatmapgl\":[{\"type\":\"heatmapgl\",\"colorbar\":{\"outlinewidth\":0,\"ticks\":\"\"},\"colorscale\":[[0.0,\"#0d0887\"],[0.1111111111111111,\"#46039f\"],[0.2222222222222222,\"#7201a8\"],[0.3333333333333333,\"#9c179e\"],[0.4444444444444444,\"#bd3786\"],[0.5555555555555556,\"#d8576b\"],[0.6666666666666666,\"#ed7953\"],[0.7777777777777778,\"#fb9f3a\"],[0.8888888888888888,\"#fdca26\"],[1.0,\"#f0f921\"]]}],\"contourcarpet\":[{\"type\":\"contourcarpet\",\"colorbar\":{\"outlinewidth\":0,\"ticks\":\"\"}}],\"contour\":[{\"type\":\"contour\",\"colorbar\":{\"outlinewidth\":0,\"ticks\":\"\"},\"colorscale\":[[0.0,\"#0d0887\"],[0.1111111111111111,\"#46039f\"],[0.2222222222222222,\"#7201a8\"],[0.3333333333333333,\"#9c179e\"],[0.4444444444444444,\"#bd3786\"],[0.5555555555555556,\"#d8576b\"],[0.6666666666666666,\"#ed7953\"],[0.7777777777777778,\"#fb9f3a\"],[0.8888888888888888,\"#fdca26\"],[1.0,\"#f0f921\"]]}],\"surface\":[{\"type\":\"surface\",\"colorbar\":{\"outlinewidth\":0,\"ticks\":\"\"},\"colorscale\":[[0.0,\"#0d0887\"],[0.1111111111111111,\"#46039f\"],[0.2222222222222222,\"#7201a8\"],[0.3333333333333333,\"#9c179e\"],[0.4444444444444444,\"#bd3786\"],[0.5555555555555556,\"#d8576b\"],[0.6666666666666666,\"#ed7953\"],[0.7777777777777778,\"#fb9f3a\"],[0.8888888888888888,\"#fdca26\"],[1.0,\"#f0f921\"]]}],\"mesh3d\":[{\"type\":\"mesh3d\",\"colorbar\":{\"outlinewidth\":0,\"ticks\":\"\"}}],\"scatter\":[{\"fillpattern\":{\"fillmode\":\"overlay\",\"size\":10,\"solidity\":0.2},\"type\":\"scatter\"}],\"parcoords\":[{\"type\":\"parcoords\",\"line\":{\"colorbar\":{\"outlinewidth\":0,\"ticks\":\"\"}}}],\"scatterpolargl\":[{\"type\":\"scatterpolargl\",\"marker\":{\"colorbar\":{\"outlinewidth\":0,\"ticks\":\"\"}}}],\"bar\":[{\"error_x\":{\"color\":\"#2a3f5f\"},\"error_y\":{\"color\":\"#2a3f5f\"},\"marker\":{\"line\":{\"color\":\"#E5ECF6\",\"width\":0.5},\"pattern\":{\"fillmode\":\"overlay\",\"size\":10,\"solidity\":0.2}},\"type\":\"bar\"}],\"scattergeo\":[{\"type\":\"scattergeo\",\"marker\":{\"colorbar\":{\"outlinewidth\":0,\"ticks\":\"\"}}}],\"scatterpolar\":[{\"type\":\"scatterpolar\",\"marker\":{\"colorbar\":{\"outlinewidth\":0,\"ticks\":\"\"}}}],\"histogram\":[{\"marker\":{\"pattern\":{\"fillmode\":\"overlay\",\"size\":10,\"solidity\":0.2}},\"type\":\"histogram\"}],\"scattergl\":[{\"type\":\"scattergl\",\"marker\":{\"colorbar\":{\"outlinewidth\":0,\"ticks\":\"\"}}}],\"scatter3d\":[{\"type\":\"scatter3d\",\"line\":{\"colorbar\":{\"outlinewidth\":0,\"ticks\":\"\"}},\"marker\":{\"colorbar\":{\"outlinewidth\":0,\"ticks\":\"\"}}}],\"scattermapbox\":[{\"type\":\"scattermapbox\",\"marker\":{\"colorbar\":{\"outlinewidth\":0,\"ticks\":\"\"}}}],\"scatterternary\":[{\"type\":\"scatterternary\",\"marker\":{\"colorbar\":{\"outlinewidth\":0,\"ticks\":\"\"}}}],\"scattercarpet\":[{\"type\":\"scattercarpet\",\"marker\":{\"colorbar\":{\"outlinewidth\":0,\"ticks\":\"\"}}}],\"carpet\":[{\"aaxis\":{\"endlinecolor\":\"#2a3f5f\",\"gridcolor\":\"white\",\"linecolor\":\"white\",\"minorgridcolor\":\"white\",\"startlinecolor\":\"#2a3f5f\"},\"baxis\":{\"endlinecolor\":\"#2a3f5f\",\"gridcolor\":\"white\",\"linecolor\":\"white\",\"minorgridcolor\":\"white\",\"startlinecolor\":\"#2a3f5f\"},\"type\":\"carpet\"}],\"table\":[{\"cells\":{\"fill\":{\"color\":\"#EBF0F8\"},\"line\":{\"color\":\"white\"}},\"header\":{\"fill\":{\"color\":\"#C8D4E3\"},\"line\":{\"color\":\"white\"}},\"type\":\"table\"}],\"barpolar\":[{\"marker\":{\"line\":{\"color\":\"#E5ECF6\",\"width\":0.5},\"pattern\":{\"fillmode\":\"overlay\",\"size\":10,\"solidity\":0.2}},\"type\":\"barpolar\"}],\"pie\":[{\"automargin\":true,\"type\":\"pie\"}]},\"layout\":{\"autotypenumbers\":\"strict\",\"colorway\":[\"#636efa\",\"#EF553B\",\"#00cc96\",\"#ab63fa\",\"#FFA15A\",\"#19d3f3\",\"#FF6692\",\"#B6E880\",\"#FF97FF\",\"#FECB52\"],\"font\":{\"color\":\"#2a3f5f\"},\"hovermode\":\"closest\",\"hoverlabel\":{\"align\":\"left\"},\"paper_bgcolor\":\"white\",\"plot_bgcolor\":\"#E5ECF6\",\"polar\":{\"bgcolor\":\"#E5ECF6\",\"angularaxis\":{\"gridcolor\":\"white\",\"linecolor\":\"white\",\"ticks\":\"\"},\"radialaxis\":{\"gridcolor\":\"white\",\"linecolor\":\"white\",\"ticks\":\"\"}},\"ternary\":{\"bgcolor\":\"#E5ECF6\",\"aaxis\":{\"gridcolor\":\"white\",\"linecolor\":\"white\",\"ticks\":\"\"},\"baxis\":{\"gridcolor\":\"white\",\"linecolor\":\"white\",\"ticks\":\"\"},\"caxis\":{\"gridcolor\":\"white\",\"linecolor\":\"white\",\"ticks\":\"\"}},\"coloraxis\":{\"colorbar\":{\"outlinewidth\":0,\"ticks\":\"\"}},\"colorscale\":{\"sequential\":[[0.0,\"#0d0887\"],[0.1111111111111111,\"#46039f\"],[0.2222222222222222,\"#7201a8\"],[0.3333333333333333,\"#9c179e\"],[0.4444444444444444,\"#bd3786\"],[0.5555555555555556,\"#d8576b\"],[0.6666666666666666,\"#ed7953\"],[0.7777777777777778,\"#fb9f3a\"],[0.8888888888888888,\"#fdca26\"],[1.0,\"#f0f921\"]],\"sequentialminus\":[[0.0,\"#0d0887\"],[0.1111111111111111,\"#46039f\"],[0.2222222222222222,\"#7201a8\"],[0.3333333333333333,\"#9c179e\"],[0.4444444444444444,\"#bd3786\"],[0.5555555555555556,\"#d8576b\"],[0.6666666666666666,\"#ed7953\"],[0.7777777777777778,\"#fb9f3a\"],[0.8888888888888888,\"#fdca26\"],[1.0,\"#f0f921\"]],\"diverging\":[[0,\"#8e0152\"],[0.1,\"#c51b7d\"],[0.2,\"#de77ae\"],[0.3,\"#f1b6da\"],[0.4,\"#fde0ef\"],[0.5,\"#f7f7f7\"],[0.6,\"#e6f5d0\"],[0.7,\"#b8e186\"],[0.8,\"#7fbc41\"],[0.9,\"#4d9221\"],[1,\"#276419\"]]},\"xaxis\":{\"gridcolor\":\"white\",\"linecolor\":\"white\",\"ticks\":\"\",\"title\":{\"standoff\":15},\"zerolinecolor\":\"white\",\"automargin\":true,\"zerolinewidth\":2},\"yaxis\":{\"gridcolor\":\"white\",\"linecolor\":\"white\",\"ticks\":\"\",\"title\":{\"standoff\":15},\"zerolinecolor\":\"white\",\"automargin\":true,\"zerolinewidth\":2},\"scene\":{\"xaxis\":{\"backgroundcolor\":\"#E5ECF6\",\"gridcolor\":\"white\",\"linecolor\":\"white\",\"showbackground\":true,\"ticks\":\"\",\"zerolinecolor\":\"white\",\"gridwidth\":2},\"yaxis\":{\"backgroundcolor\":\"#E5ECF6\",\"gridcolor\":\"white\",\"linecolor\":\"white\",\"showbackground\":true,\"ticks\":\"\",\"zerolinecolor\":\"white\",\"gridwidth\":2},\"zaxis\":{\"backgroundcolor\":\"#E5ECF6\",\"gridcolor\":\"white\",\"linecolor\":\"white\",\"showbackground\":true,\"ticks\":\"\",\"zerolinecolor\":\"white\",\"gridwidth\":2}},\"shapedefaults\":{\"line\":{\"color\":\"#2a3f5f\"}},\"annotationdefaults\":{\"arrowcolor\":\"#2a3f5f\",\"arrowhead\":0,\"arrowwidth\":1},\"geo\":{\"bgcolor\":\"white\",\"landcolor\":\"#E5ECF6\",\"subunitcolor\":\"white\",\"showland\":true,\"showlakes\":true,\"lakecolor\":\"white\"},\"title\":{\"x\":0.05},\"mapbox\":{\"style\":\"light\"}}},\"xaxis\":{\"anchor\":\"y\",\"domain\":[0.0,1.0],\"title\":{\"text\":\"Time on Site\"}},\"yaxis\":{\"anchor\":\"x\",\"domain\":[0.0,1.0],\"title\":{\"text\":\"Browsing History\"}},\"legend\":{\"tracegroupgap\":0},\"title\":{\"text\":\"Time on Site vs Browsing History\"},\"width\":1500},                        {\"responsive\": true}                    ).then(function(){\n",
              "                            \n",
              "var gd = document.getElementById('9a6eb4de-a6d8-4b61-9644-8c9ec5abc23d');\n",
              "var x = new MutationObserver(function (mutations, observer) {{\n",
              "        var display = window.getComputedStyle(gd).display;\n",
              "        if (!display || display === 'none') {{\n",
              "            console.log([gd, 'removed!']);\n",
              "            Plotly.purge(gd);\n",
              "            observer.disconnect();\n",
              "        }}\n",
              "}});\n",
              "\n",
              "// Listen for the removal of the full notebook cells\n",
              "var notebookContainer = gd.closest('#notebook-container');\n",
              "if (notebookContainer) {{\n",
              "    x.observe(notebookContainer, {childList: true});\n",
              "}}\n",
              "\n",
              "// Listen for the clearing of the current output cell\n",
              "var outputEl = gd.closest('.output');\n",
              "if (outputEl) {{\n",
              "    x.observe(outputEl, {childList: true});\n",
              "}}\n",
              "\n",
              "                        })                };                            </script>        </div>\n",
              "</body>\n",
              "</html>"
            ]
          },
          "metadata": {}
        }
      ]
    },
    {
      "cell_type": "markdown",
      "source": [
        "**What are the purchasing patterns across different age groups?**"
      ],
      "metadata": {
        "id": "zxz7ZIf6iy2h"
      }
    },
    {
      "cell_type": "code",
      "source": [
        "fig = px.histogram(df_no_outliers, x='Age', y='Purchase History', color='Gender',\n",
        "                   title='Purchase History Distribution by Age Group', width=2500)\n",
        "fig.show()"
      ],
      "metadata": {
        "execution": {
          "iopub.status.busy": "2024-09-19T09:54:01.78725Z",
          "iopub.execute_input": "2024-09-19T09:54:01.787723Z",
          "iopub.status.idle": "2024-09-19T09:54:01.882867Z",
          "shell.execute_reply.started": "2024-09-19T09:54:01.787677Z",
          "shell.execute_reply": "2024-09-19T09:54:01.881564Z"
        },
        "trusted": true,
        "id": "0SFnwrBBiy2h",
        "outputId": "ffd16017-c816-44ca-d731-1c2f38633f81",
        "colab": {
          "base_uri": "https://localhost:8080/",
          "height": 562
        }
      },
      "execution_count": 27,
      "outputs": [
        {
          "output_type": "display_data",
          "data": {
            "text/html": [
              "<html>\n",
              "<head><meta charset=\"utf-8\" /></head>\n",
              "<body>\n",
              "    <div>            <script src=\"https://cdnjs.cloudflare.com/ajax/libs/mathjax/2.7.5/MathJax.js?config=TeX-AMS-MML_SVG\"></script><script type=\"text/javascript\">if (window.MathJax && window.MathJax.Hub && window.MathJax.Hub.Config) {window.MathJax.Hub.Config({SVG: {font: \"STIX-Web\"}});}</script>                <script type=\"text/javascript\">window.PlotlyConfig = {MathJaxConfig: 'local'};</script>\n",
              "        <script charset=\"utf-8\" src=\"https://cdn.plot.ly/plotly-2.35.2.min.js\"></script>                <div id=\"f29e806b-5cc3-4fe5-9756-93730ee6afda\" class=\"plotly-graph-div\" style=\"height:525px; width:2500px;\"></div>            <script type=\"text/javascript\">                                    window.PLOTLYENV=window.PLOTLYENV || {};                                    if (document.getElementById(\"f29e806b-5cc3-4fe5-9756-93730ee6afda\")) {                    Plotly.newPlot(                        \"f29e806b-5cc3-4fe5-9756-93730ee6afda\",                        [{\"alignmentgroup\":\"True\",\"bingroup\":\"y\",\"histfunc\":\"sum\",\"hovertemplate\":\"Gender=Female\\u003cbr\\u003esum of Age=%{x}\\u003cbr\\u003ePurchase History=%{y}\\u003cextra\\u003e\\u003c\\u002fextra\\u003e\",\"legendgroup\":\"Female\",\"marker\":{\"color\":\"#636efa\",\"pattern\":{\"shape\":\"\"}},\"name\":\"Female\",\"offsetgroup\":\"Female\",\"orientation\":\"h\",\"showlegend\":true,\"x\":[25,28,28,45,29,36,45,28,38,50,48,65,24,35,28,31,60,29,36,50,32,35,32,28,52,34],\"xaxis\":\"x\",\"y\":[\"[{\\\"Date\\\": \\\"2022-03-05\\\", \\\"Category\\\": \\\"Clothing\\\", \\\"Price\\\": 34.99}, {\\\"Date\\\": \\\"2022-02-12\\\", \\\"Category\\\": \\\"Electronics\\\", \\\"Price\\\": 129.99}, {\\\"Date\\\": \\\"2022-01-20\\\", \\\"Category\\\": \\\"Home & Garden\\\", \\\"Price\\\": 29.99}]\",\"[{\\\"Product Category\\\": \\\"Clothing\\\", \\\"Purchase Date\\\": \\\"2022-05-15\\\", \\\"Price\\\": 34.56}, {\\\"Product Category\\\": \\\"Electronics\\\", \\\"Purchase Date\\\": \\\"2022-06-02\\\", \\\"Price\\\": 150.99}]\",\"[{\\\"Product Category\\\": \\\"Electronics\\\", \\\"Purchase Date\\\": \\\"2022-08-15\\\", \\\"Price\\\": 345.5}, {\\\"Product Category\\\": \\\"Home & Garden\\\", \\\"Purchase Date\\\": \\\"2022-07-02\\\", \\\"Price\\\": 279.99}]\",\"{'Purchase Date': '2022-08-15', 'Product Category': 'Electronics', 'Price': 200.5},{'Purchase Date': '2022-07-22', 'Product Category': 'Clothing', 'Price': 125.6},{'Purchase Date': '2022-06-01', 'Product Category': 'Home & Garden', 'Price': 300.8},{'Purchase Date': '2022-05-10', 'Product Category': 'Electronics', 'Price': 150.9}\",\"{'Purchase Date': '2022-07-20', 'Product Category': 'Electronics', 'Price': 150.8},{'Purchase Date': '2022-06-05', 'Product Category': 'Clothing', 'Price': 120.6},{'Purchase Date': '2022-05-18', 'Product Category': 'Home & Garden', 'Price': 350.1}\",\"{'Purchase Date': '2022-07-27', 'Product Category': 'Electronics', 'Price': 120.5},{'Purchase Date': '2022-06-12', 'Product Category': 'Clothing', 'Price': 130.6},{'Purchase Date': '2022-05-28', 'Product Category': 'Home & Garden', 'Price': 320.8}\",\"{'Purchase Date': '2022-03-05', 'Product Category': 'Clothing', 'Price': 45.99},{'Purchase Date': '2022-04-12', 'Product Category': 'Home & Garden', 'Price': 120.5}\",\"{'Purchase Date': '2022-04-25', 'Product Category': 'Clothing', 'Price': 29.99},{'Purchase Date': '2022-07-07', 'Product Category': 'Home & Garden', 'Price': 150}\",\"{'Purchase Date': '2022-06-15', 'Product Category': 'Home & Garden', 'Price': 220},{'Purchase Date': '2022-09-01', 'Product Category': 'Electronics', 'Price': 300}\",\"{'Purchase Date': '2022-08-08', 'Product Category': 'Electronics', 'Price': 550},{'Purchase Date': '2022-11-01', 'Product Category': 'Clothing', 'Price': 44.99}\",\"{'Purchase Date': '2022-10-15', 'Product Category': 'Clothing', 'Price': 34.99},{'Purchase Date': '2022-12-20', 'Product Category': 'Home & Garden', 'Price': 250}\",\"{'Purchase Date': '2022-12-25', 'Product Category': 'Home & Garden', 'Price': 170},{'Purchase Date': '2023-02-05', 'Product Category': 'Electronics', 'Price': 450}\",\"[{\\\"Purchase Date\\\": \\\"2022-09-15\\\", \\\"Product Category\\\": \\\"Clothing\\\", \\\"Price\\\": 34.5}]\",\"{'Purchase Date': '2022-05-15', 'Product Category': 'Clothing', 'Price': 120},{'Purchase Date': '2022-06-02', 'Product Category': 'Home & Garden', 'Price': 250}\",\"{'Purchase Date': '2022-05-28', 'Product Category': 'Clothing', 'Price': 75},{'Purchase Date': '2022-06-10', 'Product Category': 'Home & Garden', 'Price': 120}\",\"{'Purchase Date': '2022-05-18', 'Product Category': 'Clothing', 'Price': 50},{'Purchase Date': '2022-06-07', 'Product Category': 'Home & Garden', 'Price': 100}\",\"{'Purchase Date': '2022-05-25', 'Product Category': 'Clothing', 'Price': 100},{'Purchase Date': '2022-06-08', 'Product Category': 'Home & Garden', 'Price': 180}\",\"{'Purchase Date': '2022-05-16', 'Product Category': 'Clothing', 'Price': 60},{'Purchase Date': '2022-06-06', 'Product Category': 'Home & Garden', 'Price': 150}\",\"{'Purchase Date': '2022-05-27', 'Product Category': 'Clothing', 'Price': 80},{'Purchase Date': '2022-06-09', 'Product Category': 'Home & Garden', 'Price': 200}\",\"{'Purchase Date': '2022-05-19', 'Product Category': 'Clothing', 'Price': 120},{'Purchase Date': '2022-06-07', 'Product Category': 'Home & Garden', 'Price': 150}\",\"[{\\\"Product Category\\\": \\\"Clothing\\\", \\\"Purchase Date\\\": \\\"2022-08-15\\\", \\\"Price\\\": 45.23}, {\\\"Product Category\\\": \\\"Electronics\\\", \\\"Purchase Date\\\": \\\"2022-07-20\\\", \\\"Price\\\": 250.34}]\",\"[{\\\"Product Category\\\": \\\"Electronics\\\", \\\"Purchase Date\\\": \\\"2022-03-15\\\", \\\"Price\\\": 250.5}, {\\\"Product Category\\\": \\\"Clothing\\\", \\\"Purchase Date\\\": \\\"2022-02-01\\\", \\\"Price\\\": 125.8}]\",\"[{\\\"Product Category\\\": \\\"Electronics\\\", \\\"Purchase Date\\\": \\\"2022-03-15\\\", \\\"Price\\\": 249.99}]\",\"[{\\\"Product Category\\\": \\\"Clothing\\\", \\\"Purchase Date\\\": \\\"2022-06-12\\\", \\\"Price\\\": 45.99}, {\\\"Product Category\\\": \\\"Electronics\\\", \\\"Purchase Date\\\": \\\"2022-05-08\\\", \\\"Price\\\": 199.99}]\",\"[{\\\"Product Category\\\": \\\"Clothing\\\", \\\"Purchase Date\\\": \\\"2022-07-08\\\", \\\"Price\\\": 79.99}, {\\\"Product Category\\\": \\\"Home & Garden\\\", \\\"Purchase Date\\\": \\\"2022-06-24\\\", \\\"Price\\\": 399.99}]\",\"[{\\\"Purchase Date\\\": \\\"2022-07-02\\\",\\\"Product Category\\\": \\\"Clothing\\\",\\\"Price\\\": 25.6},{\\\"Purchase Date\\\": \\\"2022-06-15\\\",\\\"Product Category\\\": \\\"Electronics\\\",\\\"Price\\\": 120},{\\\"Purchase Date\\\": \\\"2022-05-10\\\",\\\"Product Category\\\": \\\"Home & Garden\\\",\\\"Price\\\": 35}]\"],\"yaxis\":\"y\",\"type\":\"histogram\"},{\"alignmentgroup\":\"True\",\"bingroup\":\"y\",\"histfunc\":\"sum\",\"hovertemplate\":\"Gender=Male\\u003cbr\\u003esum of Age=%{x}\\u003cbr\\u003ePurchase History=%{y}\\u003cextra\\u003e\\u003c\\u002fextra\\u003e\",\"legendgroup\":\"Male\",\"marker\":{\"color\":\"#EF553B\",\"pattern\":{\"shape\":\"\"}},\"name\":\"Male\",\"offsetgroup\":\"Male\",\"orientation\":\"h\",\"showlegend\":true,\"x\":[34,42,48,32,55,42,35,30,45,52,48,55,58,42,42,42,24,45],\"xaxis\":\"x\",\"y\":[\"{'Purchase Date': '2022-07-25', 'Product Category': 'Clothing', 'Price': 67.2},{'Purchase Date': '2022-06-08', 'Product Category': 'Home & Garden', 'Price': 250.1},{'Purchase Date': '2022-05-15', 'Product Category': 'Electronics', 'Price': 400.7}\",\"{'Purchase Date': '2022-08-28', 'Product Category': 'Electronics', 'Price': 250.6},{'Purchase Date': '2022-07-15', 'Product Category': 'Clothing', 'Price': 115.7},{'Purchase Date': '2022-06-03', 'Product Category': 'Home & Garden', 'Price': 300.4}\",\"{'Purchase Date': '2022-09-08', 'Product Category': 'Electronics', 'Price': 350.2},{'Purchase Date': '2022-08-23', 'Product Category': 'Clothing', 'Price': 165.3},{'Purchase Date': '2022-07-07', 'Product Category': 'Home & Garden', 'Price': 280.9}\",\"{'Purchase Date': '2022-02-15', 'Product Category': 'Electronics', 'Price': 250},{'Purchase Date': '2022-05-10', 'Product Category': 'Clothing', 'Price': 34.99}\",\"{'Purchase Date': '2022-05-20', 'Product Category': 'Electronics', 'Price': 600},{'Purchase Date': '2022-08-03', 'Product Category': 'Clothing', 'Price': 59.99}\",\"{'Purchase Date': '2022-07-22', 'Product Category': 'Clothing', 'Price': 39.99},{'Purchase Date': '2022-10-06', 'Product Category': 'Home & Garden', 'Price': 190}\",\"{'Purchase Date': '2022-09-20', 'Product Category': 'Home & Garden', 'Price': 200},{'Purchase Date': '2022-12-05', 'Product Category': 'Electronics', 'Price': 350}\",\"{'Purchase Date': '2022-11-05', 'Product Category': 'Electronics', 'Price': 150},{'Purchase Date': '2023-01-10', 'Product Category': 'Clothing', 'Price': 29.99}\",\"{'Purchase Date': '2022-06-12', 'Product Category': 'Electronics', 'Price': 350}\",\"{'Purchase Date': '2022-05-08', 'Product Category': 'Electronics', 'Price': 200},{'Purchase Date': '2022-06-05', 'Product Category': 'Home & Garden', 'Price': 150}\",\"{'Purchase Date': '2022-05-23', 'Product Category': 'Electronics', 'Price': 400},{'Purchase Date': '2022-06-03', 'Product Category': 'Home & Garden', 'Price': 200}\",\"{'Purchase Date': '2022-05-20', 'Product Category': 'Electronics', 'Price': 300},{'Purchase Date': '2022-06-04', 'Product Category': 'Home & Garden', 'Price': 250}\",\"{'Purchase Date': '2022-05-12', 'Product Category': 'Electronics', 'Price': 250},{'Purchase Date': '2022-06-01', 'Product Category': 'Home & Garden', 'Price': 175}\",\"{'Purchase Date': '2022-05-22', 'Product Category': 'Electronics', 'Price': 350},{'Purchase Date': '2022-06-02', 'Product Category': 'Home & Garden', 'Price': 100}\",\"[{\\\"Product Category\\\": \\\"Clothing\\\", \\\"Purchase Date\\\": \\\"2022-02-20\\\", \\\"Price\\\": 150.2}, {\\\"Product Category\\\": \\\"Home & Garden\\\", \\\"Purchase Date\\\": \\\"2022-01-12\\\", \\\"Price\\\": 450}]\",\"[{\\\"Product Category\\\": \\\"Electronics\\\", \\\"Purchase Date\\\": \\\"2022-07-03\\\", \\\"Price\\\": 249.99}, {\\\"Product Category\\\": \\\"Home & Garden\\\", \\\"Purchase Date\\\": \\\"2022-06-17\\\", \\\"Price\\\": 129.99}]\",\"[{\\\"Product Category\\\": \\\"Electronics\\\", \\\"Purchase Date\\\": \\\"2022-06-01\\\", \\\"Price\\\": 129.99}, {\\\"Product Category\\\": \\\"Home & Garden\\\", \\\"Purchase Date\\\": \\\"2022-05-18\\\", \\\"Price\\\": 59.99}]\",\"[{\\\"Purchase Date\\\": \\\"2022-07-08\\\",\\\"Product Category\\\": \\\"Electronics\\\",\\\"Price\\\": 420},{\\\"Purchase Date\\\": \\\"2022-06-23\\\",\\\"Product Category\\\": \\\"Clothing\\\",\\\"Price\\\": 75},{\\\"Purchase Date\\\": \\\"2022-05-12\\\",\\\"Product Category\\\": \\\"Home & Garden\\\",\\\"Price\\\": 200}]\"],\"yaxis\":\"y\",\"type\":\"histogram\"},{\"alignmentgroup\":\"True\",\"bingroup\":\"y\",\"histfunc\":\"sum\",\"hovertemplate\":\"Gender=Other\\u003cbr\\u003esum of Age=%{x}\\u003cbr\\u003ePurchase History=%{y}\\u003cextra\\u003e\\u003c\\u002fextra\\u003e\",\"legendgroup\":\"Other\",\"marker\":{\"color\":\"#00cc96\",\"pattern\":{\"shape\":\"\"}},\"name\":\"Other\",\"offsetgroup\":\"Other\",\"orientation\":\"h\",\"showlegend\":true,\"x\":[56,51,25,60,35,29],\"xaxis\":\"x\",\"y\":[\"{'Purchase Date': '2022-09-01', 'Product Category': 'Electronics', 'Price': 300.2},{'Purchase Date': '2022-08-12', 'Product Category': 'Clothing', 'Price': 185.3},{'Purchase Date': '2022-07-28', 'Product Category': 'Home & Garden', 'Price': 200.9}\",\"{'Purchase Date': '2022-09-05', 'Product Category': 'Electronics', 'Price': 400.9},{'Purchase Date': '2022-08-18', 'Product Category': 'Clothing', 'Price': 195.3},{'Purchase Date': '2022-07-03', 'Product Category': 'Home & Garden', 'Price': 220.7}\",\"{'Purchase Date': '2022-08-25', 'Product Category': 'Electronics', 'Price': 170.8},{'Purchase Date': '2022-07-09', 'Product Category': 'Clothing', 'Price': 105.6},{'Purchase Date': '2022-06-24', 'Product Category': 'Home & Garden', 'Price': 290.1}\",\"{'Purchase Date': '2022-01-18', 'Product Category': 'Home & Garden', 'Price': 180},{'Purchase Date': '2022-06-02', 'Product Category': 'Electronics', 'Price': 400}\",\"[{\\\"Product Category\\\": \\\"Clothing\\\", \\\"Purchase Date\\\": \\\"2022-06-22\\\", \\\"Price\\\": 34.99}, {\\\"Product Category\\\": \\\"Electronics\\\", \\\"Purchase Date\\\": \\\"2022-05-15\\\", \\\"Price\\\": 149.99}]\",\"[{\\\"Purchase Date\\\": \\\"2022-07-01\\\",\\\"Product Category\\\": \\\"Electronics\\\",\\\"Price\\\": 180},{\\\"Purchase Date\\\": \\\"2022-06-18\\\",\\\"Product Category\\\": \\\"Clothing\\\",\\\"Price\\\": 50},{\\\"Purchase Date\\\": \\\"2022-05-09\\\",\\\"Product Category\\\": \\\"Home & Garden\\\",\\\"Price\\\": 30}]\"],\"yaxis\":\"y\",\"type\":\"histogram\"}],                        {\"template\":{\"data\":{\"histogram2dcontour\":[{\"type\":\"histogram2dcontour\",\"colorbar\":{\"outlinewidth\":0,\"ticks\":\"\"},\"colorscale\":[[0.0,\"#0d0887\"],[0.1111111111111111,\"#46039f\"],[0.2222222222222222,\"#7201a8\"],[0.3333333333333333,\"#9c179e\"],[0.4444444444444444,\"#bd3786\"],[0.5555555555555556,\"#d8576b\"],[0.6666666666666666,\"#ed7953\"],[0.7777777777777778,\"#fb9f3a\"],[0.8888888888888888,\"#fdca26\"],[1.0,\"#f0f921\"]]}],\"choropleth\":[{\"type\":\"choropleth\",\"colorbar\":{\"outlinewidth\":0,\"ticks\":\"\"}}],\"histogram2d\":[{\"type\":\"histogram2d\",\"colorbar\":{\"outlinewidth\":0,\"ticks\":\"\"},\"colorscale\":[[0.0,\"#0d0887\"],[0.1111111111111111,\"#46039f\"],[0.2222222222222222,\"#7201a8\"],[0.3333333333333333,\"#9c179e\"],[0.4444444444444444,\"#bd3786\"],[0.5555555555555556,\"#d8576b\"],[0.6666666666666666,\"#ed7953\"],[0.7777777777777778,\"#fb9f3a\"],[0.8888888888888888,\"#fdca26\"],[1.0,\"#f0f921\"]]}],\"heatmap\":[{\"type\":\"heatmap\",\"colorbar\":{\"outlinewidth\":0,\"ticks\":\"\"},\"colorscale\":[[0.0,\"#0d0887\"],[0.1111111111111111,\"#46039f\"],[0.2222222222222222,\"#7201a8\"],[0.3333333333333333,\"#9c179e\"],[0.4444444444444444,\"#bd3786\"],[0.5555555555555556,\"#d8576b\"],[0.6666666666666666,\"#ed7953\"],[0.7777777777777778,\"#fb9f3a\"],[0.8888888888888888,\"#fdca26\"],[1.0,\"#f0f921\"]]}],\"heatmapgl\":[{\"type\":\"heatmapgl\",\"colorbar\":{\"outlinewidth\":0,\"ticks\":\"\"},\"colorscale\":[[0.0,\"#0d0887\"],[0.1111111111111111,\"#46039f\"],[0.2222222222222222,\"#7201a8\"],[0.3333333333333333,\"#9c179e\"],[0.4444444444444444,\"#bd3786\"],[0.5555555555555556,\"#d8576b\"],[0.6666666666666666,\"#ed7953\"],[0.7777777777777778,\"#fb9f3a\"],[0.8888888888888888,\"#fdca26\"],[1.0,\"#f0f921\"]]}],\"contourcarpet\":[{\"type\":\"contourcarpet\",\"colorbar\":{\"outlinewidth\":0,\"ticks\":\"\"}}],\"contour\":[{\"type\":\"contour\",\"colorbar\":{\"outlinewidth\":0,\"ticks\":\"\"},\"colorscale\":[[0.0,\"#0d0887\"],[0.1111111111111111,\"#46039f\"],[0.2222222222222222,\"#7201a8\"],[0.3333333333333333,\"#9c179e\"],[0.4444444444444444,\"#bd3786\"],[0.5555555555555556,\"#d8576b\"],[0.6666666666666666,\"#ed7953\"],[0.7777777777777778,\"#fb9f3a\"],[0.8888888888888888,\"#fdca26\"],[1.0,\"#f0f921\"]]}],\"surface\":[{\"type\":\"surface\",\"colorbar\":{\"outlinewidth\":0,\"ticks\":\"\"},\"colorscale\":[[0.0,\"#0d0887\"],[0.1111111111111111,\"#46039f\"],[0.2222222222222222,\"#7201a8\"],[0.3333333333333333,\"#9c179e\"],[0.4444444444444444,\"#bd3786\"],[0.5555555555555556,\"#d8576b\"],[0.6666666666666666,\"#ed7953\"],[0.7777777777777778,\"#fb9f3a\"],[0.8888888888888888,\"#fdca26\"],[1.0,\"#f0f921\"]]}],\"mesh3d\":[{\"type\":\"mesh3d\",\"colorbar\":{\"outlinewidth\":0,\"ticks\":\"\"}}],\"scatter\":[{\"fillpattern\":{\"fillmode\":\"overlay\",\"size\":10,\"solidity\":0.2},\"type\":\"scatter\"}],\"parcoords\":[{\"type\":\"parcoords\",\"line\":{\"colorbar\":{\"outlinewidth\":0,\"ticks\":\"\"}}}],\"scatterpolargl\":[{\"type\":\"scatterpolargl\",\"marker\":{\"colorbar\":{\"outlinewidth\":0,\"ticks\":\"\"}}}],\"bar\":[{\"error_x\":{\"color\":\"#2a3f5f\"},\"error_y\":{\"color\":\"#2a3f5f\"},\"marker\":{\"line\":{\"color\":\"#E5ECF6\",\"width\":0.5},\"pattern\":{\"fillmode\":\"overlay\",\"size\":10,\"solidity\":0.2}},\"type\":\"bar\"}],\"scattergeo\":[{\"type\":\"scattergeo\",\"marker\":{\"colorbar\":{\"outlinewidth\":0,\"ticks\":\"\"}}}],\"scatterpolar\":[{\"type\":\"scatterpolar\",\"marker\":{\"colorbar\":{\"outlinewidth\":0,\"ticks\":\"\"}}}],\"histogram\":[{\"marker\":{\"pattern\":{\"fillmode\":\"overlay\",\"size\":10,\"solidity\":0.2}},\"type\":\"histogram\"}],\"scattergl\":[{\"type\":\"scattergl\",\"marker\":{\"colorbar\":{\"outlinewidth\":0,\"ticks\":\"\"}}}],\"scatter3d\":[{\"type\":\"scatter3d\",\"line\":{\"colorbar\":{\"outlinewidth\":0,\"ticks\":\"\"}},\"marker\":{\"colorbar\":{\"outlinewidth\":0,\"ticks\":\"\"}}}],\"scattermapbox\":[{\"type\":\"scattermapbox\",\"marker\":{\"colorbar\":{\"outlinewidth\":0,\"ticks\":\"\"}}}],\"scatterternary\":[{\"type\":\"scatterternary\",\"marker\":{\"colorbar\":{\"outlinewidth\":0,\"ticks\":\"\"}}}],\"scattercarpet\":[{\"type\":\"scattercarpet\",\"marker\":{\"colorbar\":{\"outlinewidth\":0,\"ticks\":\"\"}}}],\"carpet\":[{\"aaxis\":{\"endlinecolor\":\"#2a3f5f\",\"gridcolor\":\"white\",\"linecolor\":\"white\",\"minorgridcolor\":\"white\",\"startlinecolor\":\"#2a3f5f\"},\"baxis\":{\"endlinecolor\":\"#2a3f5f\",\"gridcolor\":\"white\",\"linecolor\":\"white\",\"minorgridcolor\":\"white\",\"startlinecolor\":\"#2a3f5f\"},\"type\":\"carpet\"}],\"table\":[{\"cells\":{\"fill\":{\"color\":\"#EBF0F8\"},\"line\":{\"color\":\"white\"}},\"header\":{\"fill\":{\"color\":\"#C8D4E3\"},\"line\":{\"color\":\"white\"}},\"type\":\"table\"}],\"barpolar\":[{\"marker\":{\"line\":{\"color\":\"#E5ECF6\",\"width\":0.5},\"pattern\":{\"fillmode\":\"overlay\",\"size\":10,\"solidity\":0.2}},\"type\":\"barpolar\"}],\"pie\":[{\"automargin\":true,\"type\":\"pie\"}]},\"layout\":{\"autotypenumbers\":\"strict\",\"colorway\":[\"#636efa\",\"#EF553B\",\"#00cc96\",\"#ab63fa\",\"#FFA15A\",\"#19d3f3\",\"#FF6692\",\"#B6E880\",\"#FF97FF\",\"#FECB52\"],\"font\":{\"color\":\"#2a3f5f\"},\"hovermode\":\"closest\",\"hoverlabel\":{\"align\":\"left\"},\"paper_bgcolor\":\"white\",\"plot_bgcolor\":\"#E5ECF6\",\"polar\":{\"bgcolor\":\"#E5ECF6\",\"angularaxis\":{\"gridcolor\":\"white\",\"linecolor\":\"white\",\"ticks\":\"\"},\"radialaxis\":{\"gridcolor\":\"white\",\"linecolor\":\"white\",\"ticks\":\"\"}},\"ternary\":{\"bgcolor\":\"#E5ECF6\",\"aaxis\":{\"gridcolor\":\"white\",\"linecolor\":\"white\",\"ticks\":\"\"},\"baxis\":{\"gridcolor\":\"white\",\"linecolor\":\"white\",\"ticks\":\"\"},\"caxis\":{\"gridcolor\":\"white\",\"linecolor\":\"white\",\"ticks\":\"\"}},\"coloraxis\":{\"colorbar\":{\"outlinewidth\":0,\"ticks\":\"\"}},\"colorscale\":{\"sequential\":[[0.0,\"#0d0887\"],[0.1111111111111111,\"#46039f\"],[0.2222222222222222,\"#7201a8\"],[0.3333333333333333,\"#9c179e\"],[0.4444444444444444,\"#bd3786\"],[0.5555555555555556,\"#d8576b\"],[0.6666666666666666,\"#ed7953\"],[0.7777777777777778,\"#fb9f3a\"],[0.8888888888888888,\"#fdca26\"],[1.0,\"#f0f921\"]],\"sequentialminus\":[[0.0,\"#0d0887\"],[0.1111111111111111,\"#46039f\"],[0.2222222222222222,\"#7201a8\"],[0.3333333333333333,\"#9c179e\"],[0.4444444444444444,\"#bd3786\"],[0.5555555555555556,\"#d8576b\"],[0.6666666666666666,\"#ed7953\"],[0.7777777777777778,\"#fb9f3a\"],[0.8888888888888888,\"#fdca26\"],[1.0,\"#f0f921\"]],\"diverging\":[[0,\"#8e0152\"],[0.1,\"#c51b7d\"],[0.2,\"#de77ae\"],[0.3,\"#f1b6da\"],[0.4,\"#fde0ef\"],[0.5,\"#f7f7f7\"],[0.6,\"#e6f5d0\"],[0.7,\"#b8e186\"],[0.8,\"#7fbc41\"],[0.9,\"#4d9221\"],[1,\"#276419\"]]},\"xaxis\":{\"gridcolor\":\"white\",\"linecolor\":\"white\",\"ticks\":\"\",\"title\":{\"standoff\":15},\"zerolinecolor\":\"white\",\"automargin\":true,\"zerolinewidth\":2},\"yaxis\":{\"gridcolor\":\"white\",\"linecolor\":\"white\",\"ticks\":\"\",\"title\":{\"standoff\":15},\"zerolinecolor\":\"white\",\"automargin\":true,\"zerolinewidth\":2},\"scene\":{\"xaxis\":{\"backgroundcolor\":\"#E5ECF6\",\"gridcolor\":\"white\",\"linecolor\":\"white\",\"showbackground\":true,\"ticks\":\"\",\"zerolinecolor\":\"white\",\"gridwidth\":2},\"yaxis\":{\"backgroundcolor\":\"#E5ECF6\",\"gridcolor\":\"white\",\"linecolor\":\"white\",\"showbackground\":true,\"ticks\":\"\",\"zerolinecolor\":\"white\",\"gridwidth\":2},\"zaxis\":{\"backgroundcolor\":\"#E5ECF6\",\"gridcolor\":\"white\",\"linecolor\":\"white\",\"showbackground\":true,\"ticks\":\"\",\"zerolinecolor\":\"white\",\"gridwidth\":2}},\"shapedefaults\":{\"line\":{\"color\":\"#2a3f5f\"}},\"annotationdefaults\":{\"arrowcolor\":\"#2a3f5f\",\"arrowhead\":0,\"arrowwidth\":1},\"geo\":{\"bgcolor\":\"white\",\"landcolor\":\"#E5ECF6\",\"subunitcolor\":\"white\",\"showland\":true,\"showlakes\":true,\"lakecolor\":\"white\"},\"title\":{\"x\":0.05},\"mapbox\":{\"style\":\"light\"}}},\"xaxis\":{\"anchor\":\"y\",\"domain\":[0.0,1.0],\"title\":{\"text\":\"sum of Age\"}},\"yaxis\":{\"anchor\":\"x\",\"domain\":[0.0,1.0],\"title\":{\"text\":\"Purchase History\"}},\"legend\":{\"title\":{\"text\":\"Gender\"},\"tracegroupgap\":0},\"title\":{\"text\":\"Purchase History Distribution by Age Group\"},\"barmode\":\"relative\",\"width\":2500},                        {\"responsive\": true}                    ).then(function(){\n",
              "                            \n",
              "var gd = document.getElementById('f29e806b-5cc3-4fe5-9756-93730ee6afda');\n",
              "var x = new MutationObserver(function (mutations, observer) {{\n",
              "        var display = window.getComputedStyle(gd).display;\n",
              "        if (!display || display === 'none') {{\n",
              "            console.log([gd, 'removed!']);\n",
              "            Plotly.purge(gd);\n",
              "            observer.disconnect();\n",
              "        }}\n",
              "}});\n",
              "\n",
              "// Listen for the removal of the full notebook cells\n",
              "var notebookContainer = gd.closest('#notebook-container');\n",
              "if (notebookContainer) {{\n",
              "    x.observe(notebookContainer, {childList: true});\n",
              "}}\n",
              "\n",
              "// Listen for the clearing of the current output cell\n",
              "var outputEl = gd.closest('.output');\n",
              "if (outputEl) {{\n",
              "    x.observe(outputEl, {childList: true});\n",
              "}}\n",
              "\n",
              "                        })                };                            </script>        </div>\n",
              "</body>\n",
              "</html>"
            ]
          },
          "metadata": {}
        }
      ]
    },
    {
      "cell_type": "markdown",
      "source": [
        "**What is the relationship between product reviews and time spent on the site?**"
      ],
      "metadata": {
        "id": "--Xod1Lkiy2h"
      }
    },
    {
      "cell_type": "code",
      "source": [
        "fig = px.scatter(df_no_outliers, x='Product Reviews', y='Time on Site', color='Gender',\n",
        "                 title='Time on Site vs Product Reviews', height=1200)\n",
        "fig.show()"
      ],
      "metadata": {
        "execution": {
          "iopub.status.busy": "2024-09-19T09:54:01.884405Z",
          "iopub.execute_input": "2024-09-19T09:54:01.884834Z",
          "iopub.status.idle": "2024-09-19T09:54:01.974314Z",
          "shell.execute_reply.started": "2024-09-19T09:54:01.884791Z",
          "shell.execute_reply": "2024-09-19T09:54:01.972974Z"
        },
        "trusted": true,
        "id": "Zn1PZHHRiy2h",
        "outputId": "372ca02c-9a6e-4e3d-f490-626502a98878",
        "colab": {
          "base_uri": "https://localhost:8080/",
          "height": 1000
        }
      },
      "execution_count": 28,
      "outputs": [
        {
          "output_type": "display_data",
          "data": {
            "text/html": [
              "<html>\n",
              "<head><meta charset=\"utf-8\" /></head>\n",
              "<body>\n",
              "    <div>            <script src=\"https://cdnjs.cloudflare.com/ajax/libs/mathjax/2.7.5/MathJax.js?config=TeX-AMS-MML_SVG\"></script><script type=\"text/javascript\">if (window.MathJax && window.MathJax.Hub && window.MathJax.Hub.Config) {window.MathJax.Hub.Config({SVG: {font: \"STIX-Web\"}});}</script>                <script type=\"text/javascript\">window.PlotlyConfig = {MathJaxConfig: 'local'};</script>\n",
              "        <script charset=\"utf-8\" src=\"https://cdn.plot.ly/plotly-2.35.2.min.js\"></script>                <div id=\"992da682-c3e4-437e-bd19-99851ea29c74\" class=\"plotly-graph-div\" style=\"height:1200px; width:100%;\"></div>            <script type=\"text/javascript\">                                    window.PLOTLYENV=window.PLOTLYENV || {};                                    if (document.getElementById(\"992da682-c3e4-437e-bd19-99851ea29c74\")) {                    Plotly.newPlot(                        \"992da682-c3e4-437e-bd19-99851ea29c74\",                        [{\"hovertemplate\":\"Gender=Female\\u003cbr\\u003eProduct Reviews=%{x}\\u003cbr\\u003eTime on Site=%{y}\\u003cextra\\u003e\\u003c\\u002fextra\\u003e\",\"legendgroup\":\"Female\",\"marker\":{\"color\":\"#636efa\",\"symbol\":\"circle\"},\"mode\":\"markers\",\"name\":\"Female\",\"orientation\":\"v\",\"showlegend\":true,\"x\":[\"Great pair of jeans, very comfortable. Rating: 4 stars.\",\"Great customer service!\",\"Great electronics. The sound quality is excellent. I would highly recommend this product.\",\"{\\\"Product 1\\\": {\\\"Rating\\\": 4, \\\"Review\\\": \\\"Great experience buying this product. Fast delivery and excellent customer service.\\\"}}\",\"{\\\"Product 1\\\": {\\\"Rating\\\": 4, \\\"Review\\\": \\\"Great product, will definitely buy again.\\\"}}\",\"{\\\"Product 1\\\": {\\\"Rating\\\": 4, \\\"Review\\\": \\\"Good product, but could have been better.\\\"}}\",\"{\\\"Review Text\\\": \\\"Great quality clothes!\\\", \\\"Rating\\\": 5}\",\"{\\\"Review Text\\\": \\\"Not what I expected.\\\", \\\"Rating\\\": 2}\",\"{\\\"Review Text\\\": \\\"Awesome purchase!\\\", \\\"Rating\\\": 5}\",\"{\\\"Review Text\\\": \\\"Great product, highly recommend!\\\", \\\"Rating\\\": 5}\",\"{\\\"Review Text\\\": \\\"Excellent product, highly recommend!\\\", \\\"Rating\\\": 5}\",\"{\\\"Review Text\\\": \\\"Excellent product, highly recommend!\\\", \\\"Rating\\\": 5}\",\"This dress is amazing! I love the color and fit. 5 stars.\",\"The blouse is so comfortable and stylish. 5 stars!\",\"The dress fits perfectly. I love it. 5 stars!\",\"The top is nice, but the size is a bit small. 3.5 stars.\",\"The shirt is comfortable. 4 stars.\",\"The shoes are comfortable. 4.5 stars.\",\"The skirt is lovely. 4.5 stars.\",\"The bedding is comfortable. 4 stars.\",\"Great find! 5 stars\",\"Great product, very happy with my purchase.\",\"Great headphones, sound quality is amazing.\",\"Great purchase! The shoes are so comfortable and stylish. I've received several compliments.\",\"I love my new kitchen gadget! It's so efficient and easy to use.\",\"The clothing arrived quickly and fits great! 5 stars.\"],\"xaxis\":\"x\",\"y\":[32.5,123.45,125.6,327.6,378.5,334.9,120.0,150.0,250.0,280.0,200.0,240.0,120.5,120.0,250.0,200.0,300.0,250.0,200.0,250.0,72.3,123.6,75.2,120.5,300.0,120.0],\"yaxis\":\"y\",\"type\":\"scatter\"},{\"hovertemplate\":\"Gender=Male\\u003cbr\\u003eProduct Reviews=%{x}\\u003cbr\\u003eTime on Site=%{y}\\u003cextra\\u003e\\u003c\\u002fextra\\u003e\",\"legendgroup\":\"Male\",\"marker\":{\"color\":\"#EF553B\",\"symbol\":\"circle\"},\"mode\":\"markers\",\"name\":\"Male\",\"orientation\":\"v\",\"showlegend\":true,\"x\":[\"{\\\"Product 1\\\": {\\\"Rating\\\": 3, \\\"Review\\\": \\\"Good product, but could have been better.\\\"}}\",\"{\\\"Product 1\\\": {\\\"Rating\\\": 3, \\\"Review\\\": \\\"Good product, but not worth the price.\\\"}}\",\"{\\\"Product 1\\\": {\\\"Rating\\\": 3, \\\"Review\\\": \\\"Good product, but not what I expected.\\\"}}\",\"{\\\"Review Text\\\": \\\"Good product, but could be cheaper.\\\", \\\"Rating\\\": 3}\",\"{\\\"Review Text\\\": \\\"Excellent product, highly recommend!\\\", \\\"Rating\\\": 5}\",\"{\\\"Review Text\\\": \\\"Good product, but not worth the price.\\\", \\\"Rating\\\": 3}\",\"{\\\"Review Text\\\": \\\"Satisfied with my purchase!\\\", \\\"Rating\\\": 4}\",\"{\\\"Review Text\\\": \\\"Good product, but could be better.\\\", \\\"Rating\\\": 3}\",\"The headphones are great. Sound quality is excellent. 4.5 stars.\",\"The vacuum cleaner works great. 4 stars.\",\"The phone is fantastic. 5 stars!\",\"The laptop is excellent. 5 stars!\",\"The coffee maker is great. 5 stars!\",\"The TV is amazing. 5 stars!\",\"The product arrived quickly and in great condition.\",\"I'm really happy with my new phone. The battery life is impressive.\",\"The laptop is perfect for my needs. It's lightweight and powerful.\",\"The electronics were excellent quality and arrived promptly. 5 stars.\"],\"xaxis\":\"x\",\"y\":[214.9,289.8,298.6,75.0,300.0,180.0,220.0,160.0,300.0,350.0,400.0,450.0,350.0,300.0,246.9,250.0,100.0,350.0],\"yaxis\":\"y\",\"type\":\"scatter\"},{\"hovertemplate\":\"Gender=Other\\u003cbr\\u003eProduct Reviews=%{x}\\u003cbr\\u003eTime on Site=%{y}\\u003cextra\\u003e\\u003c\\u002fextra\\u003e\",\"legendgroup\":\"Other\",\"marker\":{\"color\":\"#00cc96\",\"symbol\":\"circle\"},\"mode\":\"markers\",\"name\":\"Other\",\"orientation\":\"v\",\"showlegend\":true,\"x\":[\"{\\\"Product 1\\\": {\\\"Rating\\\": 5, \\\"Review\\\": \\\"Awesome product, highly recommend it to everyone.\\\"}}\",\"{\\\"Product 1\\\": {\\\"Rating\\\": 5, \\\"Review\\\": \\\"Outstanding product, exceeded my expectations.\\\"}}\",\"{\\\"Product 1\\\": {\\\"Rating\\\": 4, \\\"Review\\\": \\\"Great product, will definitely buy again.\\\"}}\",\"{\\\"Review Text\\\": \\\"Very satisfied with my purchase!\\\", \\\"Rating\\\": 5}\",\"The headphones are amazing! The sound quality is excellent.\",\"The electronics were as described and arrived on time. 4 stars.\"],\"xaxis\":\"x\",\"y\":[486.3,456.2,312.5,200.0,75.0,200.0],\"yaxis\":\"y\",\"type\":\"scatter\"}],                        {\"template\":{\"data\":{\"histogram2dcontour\":[{\"type\":\"histogram2dcontour\",\"colorbar\":{\"outlinewidth\":0,\"ticks\":\"\"},\"colorscale\":[[0.0,\"#0d0887\"],[0.1111111111111111,\"#46039f\"],[0.2222222222222222,\"#7201a8\"],[0.3333333333333333,\"#9c179e\"],[0.4444444444444444,\"#bd3786\"],[0.5555555555555556,\"#d8576b\"],[0.6666666666666666,\"#ed7953\"],[0.7777777777777778,\"#fb9f3a\"],[0.8888888888888888,\"#fdca26\"],[1.0,\"#f0f921\"]]}],\"choropleth\":[{\"type\":\"choropleth\",\"colorbar\":{\"outlinewidth\":0,\"ticks\":\"\"}}],\"histogram2d\":[{\"type\":\"histogram2d\",\"colorbar\":{\"outlinewidth\":0,\"ticks\":\"\"},\"colorscale\":[[0.0,\"#0d0887\"],[0.1111111111111111,\"#46039f\"],[0.2222222222222222,\"#7201a8\"],[0.3333333333333333,\"#9c179e\"],[0.4444444444444444,\"#bd3786\"],[0.5555555555555556,\"#d8576b\"],[0.6666666666666666,\"#ed7953\"],[0.7777777777777778,\"#fb9f3a\"],[0.8888888888888888,\"#fdca26\"],[1.0,\"#f0f921\"]]}],\"heatmap\":[{\"type\":\"heatmap\",\"colorbar\":{\"outlinewidth\":0,\"ticks\":\"\"},\"colorscale\":[[0.0,\"#0d0887\"],[0.1111111111111111,\"#46039f\"],[0.2222222222222222,\"#7201a8\"],[0.3333333333333333,\"#9c179e\"],[0.4444444444444444,\"#bd3786\"],[0.5555555555555556,\"#d8576b\"],[0.6666666666666666,\"#ed7953\"],[0.7777777777777778,\"#fb9f3a\"],[0.8888888888888888,\"#fdca26\"],[1.0,\"#f0f921\"]]}],\"heatmapgl\":[{\"type\":\"heatmapgl\",\"colorbar\":{\"outlinewidth\":0,\"ticks\":\"\"},\"colorscale\":[[0.0,\"#0d0887\"],[0.1111111111111111,\"#46039f\"],[0.2222222222222222,\"#7201a8\"],[0.3333333333333333,\"#9c179e\"],[0.4444444444444444,\"#bd3786\"],[0.5555555555555556,\"#d8576b\"],[0.6666666666666666,\"#ed7953\"],[0.7777777777777778,\"#fb9f3a\"],[0.8888888888888888,\"#fdca26\"],[1.0,\"#f0f921\"]]}],\"contourcarpet\":[{\"type\":\"contourcarpet\",\"colorbar\":{\"outlinewidth\":0,\"ticks\":\"\"}}],\"contour\":[{\"type\":\"contour\",\"colorbar\":{\"outlinewidth\":0,\"ticks\":\"\"},\"colorscale\":[[0.0,\"#0d0887\"],[0.1111111111111111,\"#46039f\"],[0.2222222222222222,\"#7201a8\"],[0.3333333333333333,\"#9c179e\"],[0.4444444444444444,\"#bd3786\"],[0.5555555555555556,\"#d8576b\"],[0.6666666666666666,\"#ed7953\"],[0.7777777777777778,\"#fb9f3a\"],[0.8888888888888888,\"#fdca26\"],[1.0,\"#f0f921\"]]}],\"surface\":[{\"type\":\"surface\",\"colorbar\":{\"outlinewidth\":0,\"ticks\":\"\"},\"colorscale\":[[0.0,\"#0d0887\"],[0.1111111111111111,\"#46039f\"],[0.2222222222222222,\"#7201a8\"],[0.3333333333333333,\"#9c179e\"],[0.4444444444444444,\"#bd3786\"],[0.5555555555555556,\"#d8576b\"],[0.6666666666666666,\"#ed7953\"],[0.7777777777777778,\"#fb9f3a\"],[0.8888888888888888,\"#fdca26\"],[1.0,\"#f0f921\"]]}],\"mesh3d\":[{\"type\":\"mesh3d\",\"colorbar\":{\"outlinewidth\":0,\"ticks\":\"\"}}],\"scatter\":[{\"fillpattern\":{\"fillmode\":\"overlay\",\"size\":10,\"solidity\":0.2},\"type\":\"scatter\"}],\"parcoords\":[{\"type\":\"parcoords\",\"line\":{\"colorbar\":{\"outlinewidth\":0,\"ticks\":\"\"}}}],\"scatterpolargl\":[{\"type\":\"scatterpolargl\",\"marker\":{\"colorbar\":{\"outlinewidth\":0,\"ticks\":\"\"}}}],\"bar\":[{\"error_x\":{\"color\":\"#2a3f5f\"},\"error_y\":{\"color\":\"#2a3f5f\"},\"marker\":{\"line\":{\"color\":\"#E5ECF6\",\"width\":0.5},\"pattern\":{\"fillmode\":\"overlay\",\"size\":10,\"solidity\":0.2}},\"type\":\"bar\"}],\"scattergeo\":[{\"type\":\"scattergeo\",\"marker\":{\"colorbar\":{\"outlinewidth\":0,\"ticks\":\"\"}}}],\"scatterpolar\":[{\"type\":\"scatterpolar\",\"marker\":{\"colorbar\":{\"outlinewidth\":0,\"ticks\":\"\"}}}],\"histogram\":[{\"marker\":{\"pattern\":{\"fillmode\":\"overlay\",\"size\":10,\"solidity\":0.2}},\"type\":\"histogram\"}],\"scattergl\":[{\"type\":\"scattergl\",\"marker\":{\"colorbar\":{\"outlinewidth\":0,\"ticks\":\"\"}}}],\"scatter3d\":[{\"type\":\"scatter3d\",\"line\":{\"colorbar\":{\"outlinewidth\":0,\"ticks\":\"\"}},\"marker\":{\"colorbar\":{\"outlinewidth\":0,\"ticks\":\"\"}}}],\"scattermapbox\":[{\"type\":\"scattermapbox\",\"marker\":{\"colorbar\":{\"outlinewidth\":0,\"ticks\":\"\"}}}],\"scatterternary\":[{\"type\":\"scatterternary\",\"marker\":{\"colorbar\":{\"outlinewidth\":0,\"ticks\":\"\"}}}],\"scattercarpet\":[{\"type\":\"scattercarpet\",\"marker\":{\"colorbar\":{\"outlinewidth\":0,\"ticks\":\"\"}}}],\"carpet\":[{\"aaxis\":{\"endlinecolor\":\"#2a3f5f\",\"gridcolor\":\"white\",\"linecolor\":\"white\",\"minorgridcolor\":\"white\",\"startlinecolor\":\"#2a3f5f\"},\"baxis\":{\"endlinecolor\":\"#2a3f5f\",\"gridcolor\":\"white\",\"linecolor\":\"white\",\"minorgridcolor\":\"white\",\"startlinecolor\":\"#2a3f5f\"},\"type\":\"carpet\"}],\"table\":[{\"cells\":{\"fill\":{\"color\":\"#EBF0F8\"},\"line\":{\"color\":\"white\"}},\"header\":{\"fill\":{\"color\":\"#C8D4E3\"},\"line\":{\"color\":\"white\"}},\"type\":\"table\"}],\"barpolar\":[{\"marker\":{\"line\":{\"color\":\"#E5ECF6\",\"width\":0.5},\"pattern\":{\"fillmode\":\"overlay\",\"size\":10,\"solidity\":0.2}},\"type\":\"barpolar\"}],\"pie\":[{\"automargin\":true,\"type\":\"pie\"}]},\"layout\":{\"autotypenumbers\":\"strict\",\"colorway\":[\"#636efa\",\"#EF553B\",\"#00cc96\",\"#ab63fa\",\"#FFA15A\",\"#19d3f3\",\"#FF6692\",\"#B6E880\",\"#FF97FF\",\"#FECB52\"],\"font\":{\"color\":\"#2a3f5f\"},\"hovermode\":\"closest\",\"hoverlabel\":{\"align\":\"left\"},\"paper_bgcolor\":\"white\",\"plot_bgcolor\":\"#E5ECF6\",\"polar\":{\"bgcolor\":\"#E5ECF6\",\"angularaxis\":{\"gridcolor\":\"white\",\"linecolor\":\"white\",\"ticks\":\"\"},\"radialaxis\":{\"gridcolor\":\"white\",\"linecolor\":\"white\",\"ticks\":\"\"}},\"ternary\":{\"bgcolor\":\"#E5ECF6\",\"aaxis\":{\"gridcolor\":\"white\",\"linecolor\":\"white\",\"ticks\":\"\"},\"baxis\":{\"gridcolor\":\"white\",\"linecolor\":\"white\",\"ticks\":\"\"},\"caxis\":{\"gridcolor\":\"white\",\"linecolor\":\"white\",\"ticks\":\"\"}},\"coloraxis\":{\"colorbar\":{\"outlinewidth\":0,\"ticks\":\"\"}},\"colorscale\":{\"sequential\":[[0.0,\"#0d0887\"],[0.1111111111111111,\"#46039f\"],[0.2222222222222222,\"#7201a8\"],[0.3333333333333333,\"#9c179e\"],[0.4444444444444444,\"#bd3786\"],[0.5555555555555556,\"#d8576b\"],[0.6666666666666666,\"#ed7953\"],[0.7777777777777778,\"#fb9f3a\"],[0.8888888888888888,\"#fdca26\"],[1.0,\"#f0f921\"]],\"sequentialminus\":[[0.0,\"#0d0887\"],[0.1111111111111111,\"#46039f\"],[0.2222222222222222,\"#7201a8\"],[0.3333333333333333,\"#9c179e\"],[0.4444444444444444,\"#bd3786\"],[0.5555555555555556,\"#d8576b\"],[0.6666666666666666,\"#ed7953\"],[0.7777777777777778,\"#fb9f3a\"],[0.8888888888888888,\"#fdca26\"],[1.0,\"#f0f921\"]],\"diverging\":[[0,\"#8e0152\"],[0.1,\"#c51b7d\"],[0.2,\"#de77ae\"],[0.3,\"#f1b6da\"],[0.4,\"#fde0ef\"],[0.5,\"#f7f7f7\"],[0.6,\"#e6f5d0\"],[0.7,\"#b8e186\"],[0.8,\"#7fbc41\"],[0.9,\"#4d9221\"],[1,\"#276419\"]]},\"xaxis\":{\"gridcolor\":\"white\",\"linecolor\":\"white\",\"ticks\":\"\",\"title\":{\"standoff\":15},\"zerolinecolor\":\"white\",\"automargin\":true,\"zerolinewidth\":2},\"yaxis\":{\"gridcolor\":\"white\",\"linecolor\":\"white\",\"ticks\":\"\",\"title\":{\"standoff\":15},\"zerolinecolor\":\"white\",\"automargin\":true,\"zerolinewidth\":2},\"scene\":{\"xaxis\":{\"backgroundcolor\":\"#E5ECF6\",\"gridcolor\":\"white\",\"linecolor\":\"white\",\"showbackground\":true,\"ticks\":\"\",\"zerolinecolor\":\"white\",\"gridwidth\":2},\"yaxis\":{\"backgroundcolor\":\"#E5ECF6\",\"gridcolor\":\"white\",\"linecolor\":\"white\",\"showbackground\":true,\"ticks\":\"\",\"zerolinecolor\":\"white\",\"gridwidth\":2},\"zaxis\":{\"backgroundcolor\":\"#E5ECF6\",\"gridcolor\":\"white\",\"linecolor\":\"white\",\"showbackground\":true,\"ticks\":\"\",\"zerolinecolor\":\"white\",\"gridwidth\":2}},\"shapedefaults\":{\"line\":{\"color\":\"#2a3f5f\"}},\"annotationdefaults\":{\"arrowcolor\":\"#2a3f5f\",\"arrowhead\":0,\"arrowwidth\":1},\"geo\":{\"bgcolor\":\"white\",\"landcolor\":\"#E5ECF6\",\"subunitcolor\":\"white\",\"showland\":true,\"showlakes\":true,\"lakecolor\":\"white\"},\"title\":{\"x\":0.05},\"mapbox\":{\"style\":\"light\"}}},\"xaxis\":{\"anchor\":\"y\",\"domain\":[0.0,1.0],\"title\":{\"text\":\"Product Reviews\"}},\"yaxis\":{\"anchor\":\"x\",\"domain\":[0.0,1.0],\"title\":{\"text\":\"Time on Site\"}},\"legend\":{\"title\":{\"text\":\"Gender\"},\"tracegroupgap\":0},\"title\":{\"text\":\"Time on Site vs Product Reviews\"},\"height\":1200},                        {\"responsive\": true}                    ).then(function(){\n",
              "                            \n",
              "var gd = document.getElementById('992da682-c3e4-437e-bd19-99851ea29c74');\n",
              "var x = new MutationObserver(function (mutations, observer) {{\n",
              "        var display = window.getComputedStyle(gd).display;\n",
              "        if (!display || display === 'none') {{\n",
              "            console.log([gd, 'removed!']);\n",
              "            Plotly.purge(gd);\n",
              "            observer.disconnect();\n",
              "        }}\n",
              "}});\n",
              "\n",
              "// Listen for the removal of the full notebook cells\n",
              "var notebookContainer = gd.closest('#notebook-container');\n",
              "if (notebookContainer) {{\n",
              "    x.observe(notebookContainer, {childList: true});\n",
              "}}\n",
              "\n",
              "// Listen for the clearing of the current output cell\n",
              "var outputEl = gd.closest('.output');\n",
              "if (outputEl) {{\n",
              "    x.observe(outputEl, {childList: true});\n",
              "}}\n",
              "\n",
              "                        })                };                            </script>        </div>\n",
              "</body>\n",
              "</html>"
            ]
          },
          "metadata": {}
        }
      ]
    },
    {
      "cell_type": "markdown",
      "source": [
        "**How does the distribution of time on site vary by location?**"
      ],
      "metadata": {
        "id": "xXsig28uiy2i"
      }
    },
    {
      "cell_type": "code",
      "source": [
        "fig = px.density_heatmap(df_no_outliers, x='Location', y='Time on Site', z='Time on Site',\n",
        "                         title='Distribution of Time on Site by Location')\n",
        "fig.show()"
      ],
      "metadata": {
        "execution": {
          "iopub.status.busy": "2024-09-19T09:54:01.975486Z",
          "iopub.execute_input": "2024-09-19T09:54:01.975866Z",
          "iopub.status.idle": "2024-09-19T09:54:02.055593Z",
          "shell.execute_reply.started": "2024-09-19T09:54:01.975827Z",
          "shell.execute_reply": "2024-09-19T09:54:02.054367Z"
        },
        "trusted": true,
        "id": "gVNW9x9miy2i",
        "outputId": "f823cf6e-ec21-414a-e94c-55f7b3fc264c",
        "colab": {
          "base_uri": "https://localhost:8080/",
          "height": 542
        }
      },
      "execution_count": 29,
      "outputs": [
        {
          "output_type": "display_data",
          "data": {
            "text/html": [
              "<html>\n",
              "<head><meta charset=\"utf-8\" /></head>\n",
              "<body>\n",
              "    <div>            <script src=\"https://cdnjs.cloudflare.com/ajax/libs/mathjax/2.7.5/MathJax.js?config=TeX-AMS-MML_SVG\"></script><script type=\"text/javascript\">if (window.MathJax && window.MathJax.Hub && window.MathJax.Hub.Config) {window.MathJax.Hub.Config({SVG: {font: \"STIX-Web\"}});}</script>                <script type=\"text/javascript\">window.PlotlyConfig = {MathJaxConfig: 'local'};</script>\n",
              "        <script charset=\"utf-8\" src=\"https://cdn.plot.ly/plotly-2.35.2.min.js\"></script>                <div id=\"e8a1caab-c50b-4b49-a225-800f79097885\" class=\"plotly-graph-div\" style=\"height:525px; width:100%;\"></div>            <script type=\"text/javascript\">                                    window.PLOTLYENV=window.PLOTLYENV || {};                                    if (document.getElementById(\"e8a1caab-c50b-4b49-a225-800f79097885\")) {                    Plotly.newPlot(                        \"e8a1caab-c50b-4b49-a225-800f79097885\",                        [{\"coloraxis\":\"coloraxis\",\"histfunc\":\"sum\",\"hovertemplate\":\"Location=%{x}\\u003cbr\\u003eTime on Site=%{y}\\u003cbr\\u003esum of Time on Site=%{z}\\u003cextra\\u003e\\u003c\\u002fextra\\u003e\",\"name\":\"\",\"x\":[\"City D\",\"City D\",\"City D\",\"City D\",\"City E\",\"City F\",\"City G\",\"City H\",\"City I\",\"City J\",\"City K\",\"City L\",\"City D\",\"City A\",\"City B\",\"City C\",\"City E\",\"City F\",\"City G\",\"City H\",\"City I\",\"City J\",\"City K\",\"City L\",\"City D\",\"City D\",\"City E\",\"City F\",\"City G\",\"City H\",\"City I\",\"City J\",\"City K\",\"City L\",\"City M\",\"City N\",\"City O\",\"City P\",\"City D\",\"City D\",\"City E\",\"City D\",\"City D\",\"City E\",\"City F\",\"City G\",\"City H\",\"City D\",\"City E\",\"City F\"],\"xaxis\":\"x\",\"xbingroup\":\"x\",\"y\":[32.5,123.45,125.6,327.6,214.9,486.3,378.5,289.8,456.2,334.9,298.6,312.5,120.0,75.0,200.0,150.0,300.0,250.0,180.0,280.0,220.0,200.0,160.0,240.0,120.5,120.0,300.0,250.0,350.0,200.0,400.0,300.0,450.0,250.0,350.0,200.0,300.0,250.0,72.3,123.6,246.9,75.2,120.5,250.0,75.0,300.0,100.0,120.0,350.0,200.0],\"yaxis\":\"y\",\"ybingroup\":\"y\",\"z\":[32.5,123.45,125.6,327.6,214.9,486.3,378.5,289.8,456.2,334.9,298.6,312.5,120.0,75.0,200.0,150.0,300.0,250.0,180.0,280.0,220.0,200.0,160.0,240.0,120.5,120.0,300.0,250.0,350.0,200.0,400.0,300.0,450.0,250.0,350.0,200.0,300.0,250.0,72.3,123.6,246.9,75.2,120.5,250.0,75.0,300.0,100.0,120.0,350.0,200.0],\"type\":\"histogram2d\"}],                        {\"template\":{\"data\":{\"histogram2dcontour\":[{\"type\":\"histogram2dcontour\",\"colorbar\":{\"outlinewidth\":0,\"ticks\":\"\"},\"colorscale\":[[0.0,\"#0d0887\"],[0.1111111111111111,\"#46039f\"],[0.2222222222222222,\"#7201a8\"],[0.3333333333333333,\"#9c179e\"],[0.4444444444444444,\"#bd3786\"],[0.5555555555555556,\"#d8576b\"],[0.6666666666666666,\"#ed7953\"],[0.7777777777777778,\"#fb9f3a\"],[0.8888888888888888,\"#fdca26\"],[1.0,\"#f0f921\"]]}],\"choropleth\":[{\"type\":\"choropleth\",\"colorbar\":{\"outlinewidth\":0,\"ticks\":\"\"}}],\"histogram2d\":[{\"type\":\"histogram2d\",\"colorbar\":{\"outlinewidth\":0,\"ticks\":\"\"},\"colorscale\":[[0.0,\"#0d0887\"],[0.1111111111111111,\"#46039f\"],[0.2222222222222222,\"#7201a8\"],[0.3333333333333333,\"#9c179e\"],[0.4444444444444444,\"#bd3786\"],[0.5555555555555556,\"#d8576b\"],[0.6666666666666666,\"#ed7953\"],[0.7777777777777778,\"#fb9f3a\"],[0.8888888888888888,\"#fdca26\"],[1.0,\"#f0f921\"]]}],\"heatmap\":[{\"type\":\"heatmap\",\"colorbar\":{\"outlinewidth\":0,\"ticks\":\"\"},\"colorscale\":[[0.0,\"#0d0887\"],[0.1111111111111111,\"#46039f\"],[0.2222222222222222,\"#7201a8\"],[0.3333333333333333,\"#9c179e\"],[0.4444444444444444,\"#bd3786\"],[0.5555555555555556,\"#d8576b\"],[0.6666666666666666,\"#ed7953\"],[0.7777777777777778,\"#fb9f3a\"],[0.8888888888888888,\"#fdca26\"],[1.0,\"#f0f921\"]]}],\"heatmapgl\":[{\"type\":\"heatmapgl\",\"colorbar\":{\"outlinewidth\":0,\"ticks\":\"\"},\"colorscale\":[[0.0,\"#0d0887\"],[0.1111111111111111,\"#46039f\"],[0.2222222222222222,\"#7201a8\"],[0.3333333333333333,\"#9c179e\"],[0.4444444444444444,\"#bd3786\"],[0.5555555555555556,\"#d8576b\"],[0.6666666666666666,\"#ed7953\"],[0.7777777777777778,\"#fb9f3a\"],[0.8888888888888888,\"#fdca26\"],[1.0,\"#f0f921\"]]}],\"contourcarpet\":[{\"type\":\"contourcarpet\",\"colorbar\":{\"outlinewidth\":0,\"ticks\":\"\"}}],\"contour\":[{\"type\":\"contour\",\"colorbar\":{\"outlinewidth\":0,\"ticks\":\"\"},\"colorscale\":[[0.0,\"#0d0887\"],[0.1111111111111111,\"#46039f\"],[0.2222222222222222,\"#7201a8\"],[0.3333333333333333,\"#9c179e\"],[0.4444444444444444,\"#bd3786\"],[0.5555555555555556,\"#d8576b\"],[0.6666666666666666,\"#ed7953\"],[0.7777777777777778,\"#fb9f3a\"],[0.8888888888888888,\"#fdca26\"],[1.0,\"#f0f921\"]]}],\"surface\":[{\"type\":\"surface\",\"colorbar\":{\"outlinewidth\":0,\"ticks\":\"\"},\"colorscale\":[[0.0,\"#0d0887\"],[0.1111111111111111,\"#46039f\"],[0.2222222222222222,\"#7201a8\"],[0.3333333333333333,\"#9c179e\"],[0.4444444444444444,\"#bd3786\"],[0.5555555555555556,\"#d8576b\"],[0.6666666666666666,\"#ed7953\"],[0.7777777777777778,\"#fb9f3a\"],[0.8888888888888888,\"#fdca26\"],[1.0,\"#f0f921\"]]}],\"mesh3d\":[{\"type\":\"mesh3d\",\"colorbar\":{\"outlinewidth\":0,\"ticks\":\"\"}}],\"scatter\":[{\"fillpattern\":{\"fillmode\":\"overlay\",\"size\":10,\"solidity\":0.2},\"type\":\"scatter\"}],\"parcoords\":[{\"type\":\"parcoords\",\"line\":{\"colorbar\":{\"outlinewidth\":0,\"ticks\":\"\"}}}],\"scatterpolargl\":[{\"type\":\"scatterpolargl\",\"marker\":{\"colorbar\":{\"outlinewidth\":0,\"ticks\":\"\"}}}],\"bar\":[{\"error_x\":{\"color\":\"#2a3f5f\"},\"error_y\":{\"color\":\"#2a3f5f\"},\"marker\":{\"line\":{\"color\":\"#E5ECF6\",\"width\":0.5},\"pattern\":{\"fillmode\":\"overlay\",\"size\":10,\"solidity\":0.2}},\"type\":\"bar\"}],\"scattergeo\":[{\"type\":\"scattergeo\",\"marker\":{\"colorbar\":{\"outlinewidth\":0,\"ticks\":\"\"}}}],\"scatterpolar\":[{\"type\":\"scatterpolar\",\"marker\":{\"colorbar\":{\"outlinewidth\":0,\"ticks\":\"\"}}}],\"histogram\":[{\"marker\":{\"pattern\":{\"fillmode\":\"overlay\",\"size\":10,\"solidity\":0.2}},\"type\":\"histogram\"}],\"scattergl\":[{\"type\":\"scattergl\",\"marker\":{\"colorbar\":{\"outlinewidth\":0,\"ticks\":\"\"}}}],\"scatter3d\":[{\"type\":\"scatter3d\",\"line\":{\"colorbar\":{\"outlinewidth\":0,\"ticks\":\"\"}},\"marker\":{\"colorbar\":{\"outlinewidth\":0,\"ticks\":\"\"}}}],\"scattermapbox\":[{\"type\":\"scattermapbox\",\"marker\":{\"colorbar\":{\"outlinewidth\":0,\"ticks\":\"\"}}}],\"scatterternary\":[{\"type\":\"scatterternary\",\"marker\":{\"colorbar\":{\"outlinewidth\":0,\"ticks\":\"\"}}}],\"scattercarpet\":[{\"type\":\"scattercarpet\",\"marker\":{\"colorbar\":{\"outlinewidth\":0,\"ticks\":\"\"}}}],\"carpet\":[{\"aaxis\":{\"endlinecolor\":\"#2a3f5f\",\"gridcolor\":\"white\",\"linecolor\":\"white\",\"minorgridcolor\":\"white\",\"startlinecolor\":\"#2a3f5f\"},\"baxis\":{\"endlinecolor\":\"#2a3f5f\",\"gridcolor\":\"white\",\"linecolor\":\"white\",\"minorgridcolor\":\"white\",\"startlinecolor\":\"#2a3f5f\"},\"type\":\"carpet\"}],\"table\":[{\"cells\":{\"fill\":{\"color\":\"#EBF0F8\"},\"line\":{\"color\":\"white\"}},\"header\":{\"fill\":{\"color\":\"#C8D4E3\"},\"line\":{\"color\":\"white\"}},\"type\":\"table\"}],\"barpolar\":[{\"marker\":{\"line\":{\"color\":\"#E5ECF6\",\"width\":0.5},\"pattern\":{\"fillmode\":\"overlay\",\"size\":10,\"solidity\":0.2}},\"type\":\"barpolar\"}],\"pie\":[{\"automargin\":true,\"type\":\"pie\"}]},\"layout\":{\"autotypenumbers\":\"strict\",\"colorway\":[\"#636efa\",\"#EF553B\",\"#00cc96\",\"#ab63fa\",\"#FFA15A\",\"#19d3f3\",\"#FF6692\",\"#B6E880\",\"#FF97FF\",\"#FECB52\"],\"font\":{\"color\":\"#2a3f5f\"},\"hovermode\":\"closest\",\"hoverlabel\":{\"align\":\"left\"},\"paper_bgcolor\":\"white\",\"plot_bgcolor\":\"#E5ECF6\",\"polar\":{\"bgcolor\":\"#E5ECF6\",\"angularaxis\":{\"gridcolor\":\"white\",\"linecolor\":\"white\",\"ticks\":\"\"},\"radialaxis\":{\"gridcolor\":\"white\",\"linecolor\":\"white\",\"ticks\":\"\"}},\"ternary\":{\"bgcolor\":\"#E5ECF6\",\"aaxis\":{\"gridcolor\":\"white\",\"linecolor\":\"white\",\"ticks\":\"\"},\"baxis\":{\"gridcolor\":\"white\",\"linecolor\":\"white\",\"ticks\":\"\"},\"caxis\":{\"gridcolor\":\"white\",\"linecolor\":\"white\",\"ticks\":\"\"}},\"coloraxis\":{\"colorbar\":{\"outlinewidth\":0,\"ticks\":\"\"}},\"colorscale\":{\"sequential\":[[0.0,\"#0d0887\"],[0.1111111111111111,\"#46039f\"],[0.2222222222222222,\"#7201a8\"],[0.3333333333333333,\"#9c179e\"],[0.4444444444444444,\"#bd3786\"],[0.5555555555555556,\"#d8576b\"],[0.6666666666666666,\"#ed7953\"],[0.7777777777777778,\"#fb9f3a\"],[0.8888888888888888,\"#fdca26\"],[1.0,\"#f0f921\"]],\"sequentialminus\":[[0.0,\"#0d0887\"],[0.1111111111111111,\"#46039f\"],[0.2222222222222222,\"#7201a8\"],[0.3333333333333333,\"#9c179e\"],[0.4444444444444444,\"#bd3786\"],[0.5555555555555556,\"#d8576b\"],[0.6666666666666666,\"#ed7953\"],[0.7777777777777778,\"#fb9f3a\"],[0.8888888888888888,\"#fdca26\"],[1.0,\"#f0f921\"]],\"diverging\":[[0,\"#8e0152\"],[0.1,\"#c51b7d\"],[0.2,\"#de77ae\"],[0.3,\"#f1b6da\"],[0.4,\"#fde0ef\"],[0.5,\"#f7f7f7\"],[0.6,\"#e6f5d0\"],[0.7,\"#b8e186\"],[0.8,\"#7fbc41\"],[0.9,\"#4d9221\"],[1,\"#276419\"]]},\"xaxis\":{\"gridcolor\":\"white\",\"linecolor\":\"white\",\"ticks\":\"\",\"title\":{\"standoff\":15},\"zerolinecolor\":\"white\",\"automargin\":true,\"zerolinewidth\":2},\"yaxis\":{\"gridcolor\":\"white\",\"linecolor\":\"white\",\"ticks\":\"\",\"title\":{\"standoff\":15},\"zerolinecolor\":\"white\",\"automargin\":true,\"zerolinewidth\":2},\"scene\":{\"xaxis\":{\"backgroundcolor\":\"#E5ECF6\",\"gridcolor\":\"white\",\"linecolor\":\"white\",\"showbackground\":true,\"ticks\":\"\",\"zerolinecolor\":\"white\",\"gridwidth\":2},\"yaxis\":{\"backgroundcolor\":\"#E5ECF6\",\"gridcolor\":\"white\",\"linecolor\":\"white\",\"showbackground\":true,\"ticks\":\"\",\"zerolinecolor\":\"white\",\"gridwidth\":2},\"zaxis\":{\"backgroundcolor\":\"#E5ECF6\",\"gridcolor\":\"white\",\"linecolor\":\"white\",\"showbackground\":true,\"ticks\":\"\",\"zerolinecolor\":\"white\",\"gridwidth\":2}},\"shapedefaults\":{\"line\":{\"color\":\"#2a3f5f\"}},\"annotationdefaults\":{\"arrowcolor\":\"#2a3f5f\",\"arrowhead\":0,\"arrowwidth\":1},\"geo\":{\"bgcolor\":\"white\",\"landcolor\":\"#E5ECF6\",\"subunitcolor\":\"white\",\"showland\":true,\"showlakes\":true,\"lakecolor\":\"white\"},\"title\":{\"x\":0.05},\"mapbox\":{\"style\":\"light\"}}},\"xaxis\":{\"anchor\":\"y\",\"domain\":[0.0,1.0],\"title\":{\"text\":\"Location\"}},\"yaxis\":{\"anchor\":\"x\",\"domain\":[0.0,1.0],\"title\":{\"text\":\"Time on Site\"}},\"coloraxis\":{\"colorbar\":{\"title\":{\"text\":\"sum of Time on Site\"}},\"colorscale\":[[0.0,\"#0d0887\"],[0.1111111111111111,\"#46039f\"],[0.2222222222222222,\"#7201a8\"],[0.3333333333333333,\"#9c179e\"],[0.4444444444444444,\"#bd3786\"],[0.5555555555555556,\"#d8576b\"],[0.6666666666666666,\"#ed7953\"],[0.7777777777777778,\"#fb9f3a\"],[0.8888888888888888,\"#fdca26\"],[1.0,\"#f0f921\"]]},\"legend\":{\"tracegroupgap\":0},\"title\":{\"text\":\"Distribution of Time on Site by Location\"}},                        {\"responsive\": true}                    ).then(function(){\n",
              "                            \n",
              "var gd = document.getElementById('e8a1caab-c50b-4b49-a225-800f79097885');\n",
              "var x = new MutationObserver(function (mutations, observer) {{\n",
              "        var display = window.getComputedStyle(gd).display;\n",
              "        if (!display || display === 'none') {{\n",
              "            console.log([gd, 'removed!']);\n",
              "            Plotly.purge(gd);\n",
              "            observer.disconnect();\n",
              "        }}\n",
              "}});\n",
              "\n",
              "// Listen for the removal of the full notebook cells\n",
              "var notebookContainer = gd.closest('#notebook-container');\n",
              "if (notebookContainer) {{\n",
              "    x.observe(notebookContainer, {childList: true});\n",
              "}}\n",
              "\n",
              "// Listen for the clearing of the current output cell\n",
              "var outputEl = gd.closest('.output');\n",
              "if (outputEl) {{\n",
              "    x.observe(outputEl, {childList: true});\n",
              "}}\n",
              "\n",
              "                        })                };                            </script>        </div>\n",
              "</body>\n",
              "</html>"
            ]
          },
          "metadata": {}
        }
      ]
    },
    {
      "cell_type": "markdown",
      "source": [
        "**What is the distribution of customers' annual income across different locations?**"
      ],
      "metadata": {
        "id": "2sYWUEFciy2i"
      }
    },
    {
      "cell_type": "code",
      "source": [
        "fig = px.density_heatmap(df_no_outliers, x='Location', y='Annual Income', z='Annual Income',\n",
        "                         title='Annual Income Distribution by Location')\n",
        "fig.show()"
      ],
      "metadata": {
        "execution": {
          "iopub.status.busy": "2024-09-19T09:54:02.057018Z",
          "iopub.execute_input": "2024-09-19T09:54:02.057398Z",
          "iopub.status.idle": "2024-09-19T09:54:02.132966Z",
          "shell.execute_reply.started": "2024-09-19T09:54:02.057357Z",
          "shell.execute_reply": "2024-09-19T09:54:02.131783Z"
        },
        "trusted": true,
        "id": "-SgMkauAiy2j",
        "outputId": "7d11c424-1bfd-4c0e-d166-d21fa1e60bc1",
        "colab": {
          "base_uri": "https://localhost:8080/",
          "height": 542
        }
      },
      "execution_count": 30,
      "outputs": [
        {
          "output_type": "display_data",
          "data": {
            "text/html": [
              "<html>\n",
              "<head><meta charset=\"utf-8\" /></head>\n",
              "<body>\n",
              "    <div>            <script src=\"https://cdnjs.cloudflare.com/ajax/libs/mathjax/2.7.5/MathJax.js?config=TeX-AMS-MML_SVG\"></script><script type=\"text/javascript\">if (window.MathJax && window.MathJax.Hub && window.MathJax.Hub.Config) {window.MathJax.Hub.Config({SVG: {font: \"STIX-Web\"}});}</script>                <script type=\"text/javascript\">window.PlotlyConfig = {MathJaxConfig: 'local'};</script>\n",
              "        <script charset=\"utf-8\" src=\"https://cdn.plot.ly/plotly-2.35.2.min.js\"></script>                <div id=\"88e05dad-5c41-4f45-95ed-3dcc03dbd871\" class=\"plotly-graph-div\" style=\"height:525px; width:100%;\"></div>            <script type=\"text/javascript\">                                    window.PLOTLYENV=window.PLOTLYENV || {};                                    if (document.getElementById(\"88e05dad-5c41-4f45-95ed-3dcc03dbd871\")) {                    Plotly.newPlot(                        \"88e05dad-5c41-4f45-95ed-3dcc03dbd871\",                        [{\"coloraxis\":\"coloraxis\",\"histfunc\":\"sum\",\"hovertemplate\":\"Location=%{x}\\u003cbr\\u003eAnnual Income=%{y}\\u003cbr\\u003esum of Annual Income=%{z}\\u003cextra\\u003e\\u003c\\u002fextra\\u003e\",\"name\":\"\",\"x\":[\"City D\",\"City D\",\"City D\",\"City D\",\"City E\",\"City F\",\"City G\",\"City H\",\"City I\",\"City J\",\"City K\",\"City L\",\"City D\",\"City A\",\"City B\",\"City C\",\"City E\",\"City F\",\"City G\",\"City H\",\"City I\",\"City J\",\"City K\",\"City L\",\"City D\",\"City D\",\"City E\",\"City F\",\"City G\",\"City H\",\"City I\",\"City J\",\"City K\",\"City L\",\"City M\",\"City N\",\"City O\",\"City P\",\"City D\",\"City D\",\"City E\",\"City D\",\"City D\",\"City E\",\"City F\",\"City G\",\"City H\",\"City D\",\"City E\",\"City F\"],\"xaxis\":\"x\",\"xbingroup\":\"x\",\"y\":[45000,52000,65000,70000,45000,90000,60000,75000,85000,55000,80000,40000,75000,50000,80000,45000,90000,65000,70000,85000,55000,75000,40000,95000,45000,50000,80000,60000,70000,45000,90000,65000,85000,40000,75000,55000,95000,68000,65000,60000,75000,55000,65000,80000,50000,100000,45000,55000,87000,42000],\"yaxis\":\"y\",\"ybingroup\":\"y\",\"z\":[45000,52000,65000,70000,45000,90000,60000,75000,85000,55000,80000,40000,75000,50000,80000,45000,90000,65000,70000,85000,55000,75000,40000,95000,45000,50000,80000,60000,70000,45000,90000,65000,85000,40000,75000,55000,95000,68000,65000,60000,75000,55000,65000,80000,50000,100000,45000,55000,87000,42000],\"type\":\"histogram2d\"}],                        {\"template\":{\"data\":{\"histogram2dcontour\":[{\"type\":\"histogram2dcontour\",\"colorbar\":{\"outlinewidth\":0,\"ticks\":\"\"},\"colorscale\":[[0.0,\"#0d0887\"],[0.1111111111111111,\"#46039f\"],[0.2222222222222222,\"#7201a8\"],[0.3333333333333333,\"#9c179e\"],[0.4444444444444444,\"#bd3786\"],[0.5555555555555556,\"#d8576b\"],[0.6666666666666666,\"#ed7953\"],[0.7777777777777778,\"#fb9f3a\"],[0.8888888888888888,\"#fdca26\"],[1.0,\"#f0f921\"]]}],\"choropleth\":[{\"type\":\"choropleth\",\"colorbar\":{\"outlinewidth\":0,\"ticks\":\"\"}}],\"histogram2d\":[{\"type\":\"histogram2d\",\"colorbar\":{\"outlinewidth\":0,\"ticks\":\"\"},\"colorscale\":[[0.0,\"#0d0887\"],[0.1111111111111111,\"#46039f\"],[0.2222222222222222,\"#7201a8\"],[0.3333333333333333,\"#9c179e\"],[0.4444444444444444,\"#bd3786\"],[0.5555555555555556,\"#d8576b\"],[0.6666666666666666,\"#ed7953\"],[0.7777777777777778,\"#fb9f3a\"],[0.8888888888888888,\"#fdca26\"],[1.0,\"#f0f921\"]]}],\"heatmap\":[{\"type\":\"heatmap\",\"colorbar\":{\"outlinewidth\":0,\"ticks\":\"\"},\"colorscale\":[[0.0,\"#0d0887\"],[0.1111111111111111,\"#46039f\"],[0.2222222222222222,\"#7201a8\"],[0.3333333333333333,\"#9c179e\"],[0.4444444444444444,\"#bd3786\"],[0.5555555555555556,\"#d8576b\"],[0.6666666666666666,\"#ed7953\"],[0.7777777777777778,\"#fb9f3a\"],[0.8888888888888888,\"#fdca26\"],[1.0,\"#f0f921\"]]}],\"heatmapgl\":[{\"type\":\"heatmapgl\",\"colorbar\":{\"outlinewidth\":0,\"ticks\":\"\"},\"colorscale\":[[0.0,\"#0d0887\"],[0.1111111111111111,\"#46039f\"],[0.2222222222222222,\"#7201a8\"],[0.3333333333333333,\"#9c179e\"],[0.4444444444444444,\"#bd3786\"],[0.5555555555555556,\"#d8576b\"],[0.6666666666666666,\"#ed7953\"],[0.7777777777777778,\"#fb9f3a\"],[0.8888888888888888,\"#fdca26\"],[1.0,\"#f0f921\"]]}],\"contourcarpet\":[{\"type\":\"contourcarpet\",\"colorbar\":{\"outlinewidth\":0,\"ticks\":\"\"}}],\"contour\":[{\"type\":\"contour\",\"colorbar\":{\"outlinewidth\":0,\"ticks\":\"\"},\"colorscale\":[[0.0,\"#0d0887\"],[0.1111111111111111,\"#46039f\"],[0.2222222222222222,\"#7201a8\"],[0.3333333333333333,\"#9c179e\"],[0.4444444444444444,\"#bd3786\"],[0.5555555555555556,\"#d8576b\"],[0.6666666666666666,\"#ed7953\"],[0.7777777777777778,\"#fb9f3a\"],[0.8888888888888888,\"#fdca26\"],[1.0,\"#f0f921\"]]}],\"surface\":[{\"type\":\"surface\",\"colorbar\":{\"outlinewidth\":0,\"ticks\":\"\"},\"colorscale\":[[0.0,\"#0d0887\"],[0.1111111111111111,\"#46039f\"],[0.2222222222222222,\"#7201a8\"],[0.3333333333333333,\"#9c179e\"],[0.4444444444444444,\"#bd3786\"],[0.5555555555555556,\"#d8576b\"],[0.6666666666666666,\"#ed7953\"],[0.7777777777777778,\"#fb9f3a\"],[0.8888888888888888,\"#fdca26\"],[1.0,\"#f0f921\"]]}],\"mesh3d\":[{\"type\":\"mesh3d\",\"colorbar\":{\"outlinewidth\":0,\"ticks\":\"\"}}],\"scatter\":[{\"fillpattern\":{\"fillmode\":\"overlay\",\"size\":10,\"solidity\":0.2},\"type\":\"scatter\"}],\"parcoords\":[{\"type\":\"parcoords\",\"line\":{\"colorbar\":{\"outlinewidth\":0,\"ticks\":\"\"}}}],\"scatterpolargl\":[{\"type\":\"scatterpolargl\",\"marker\":{\"colorbar\":{\"outlinewidth\":0,\"ticks\":\"\"}}}],\"bar\":[{\"error_x\":{\"color\":\"#2a3f5f\"},\"error_y\":{\"color\":\"#2a3f5f\"},\"marker\":{\"line\":{\"color\":\"#E5ECF6\",\"width\":0.5},\"pattern\":{\"fillmode\":\"overlay\",\"size\":10,\"solidity\":0.2}},\"type\":\"bar\"}],\"scattergeo\":[{\"type\":\"scattergeo\",\"marker\":{\"colorbar\":{\"outlinewidth\":0,\"ticks\":\"\"}}}],\"scatterpolar\":[{\"type\":\"scatterpolar\",\"marker\":{\"colorbar\":{\"outlinewidth\":0,\"ticks\":\"\"}}}],\"histogram\":[{\"marker\":{\"pattern\":{\"fillmode\":\"overlay\",\"size\":10,\"solidity\":0.2}},\"type\":\"histogram\"}],\"scattergl\":[{\"type\":\"scattergl\",\"marker\":{\"colorbar\":{\"outlinewidth\":0,\"ticks\":\"\"}}}],\"scatter3d\":[{\"type\":\"scatter3d\",\"line\":{\"colorbar\":{\"outlinewidth\":0,\"ticks\":\"\"}},\"marker\":{\"colorbar\":{\"outlinewidth\":0,\"ticks\":\"\"}}}],\"scattermapbox\":[{\"type\":\"scattermapbox\",\"marker\":{\"colorbar\":{\"outlinewidth\":0,\"ticks\":\"\"}}}],\"scatterternary\":[{\"type\":\"scatterternary\",\"marker\":{\"colorbar\":{\"outlinewidth\":0,\"ticks\":\"\"}}}],\"scattercarpet\":[{\"type\":\"scattercarpet\",\"marker\":{\"colorbar\":{\"outlinewidth\":0,\"ticks\":\"\"}}}],\"carpet\":[{\"aaxis\":{\"endlinecolor\":\"#2a3f5f\",\"gridcolor\":\"white\",\"linecolor\":\"white\",\"minorgridcolor\":\"white\",\"startlinecolor\":\"#2a3f5f\"},\"baxis\":{\"endlinecolor\":\"#2a3f5f\",\"gridcolor\":\"white\",\"linecolor\":\"white\",\"minorgridcolor\":\"white\",\"startlinecolor\":\"#2a3f5f\"},\"type\":\"carpet\"}],\"table\":[{\"cells\":{\"fill\":{\"color\":\"#EBF0F8\"},\"line\":{\"color\":\"white\"}},\"header\":{\"fill\":{\"color\":\"#C8D4E3\"},\"line\":{\"color\":\"white\"}},\"type\":\"table\"}],\"barpolar\":[{\"marker\":{\"line\":{\"color\":\"#E5ECF6\",\"width\":0.5},\"pattern\":{\"fillmode\":\"overlay\",\"size\":10,\"solidity\":0.2}},\"type\":\"barpolar\"}],\"pie\":[{\"automargin\":true,\"type\":\"pie\"}]},\"layout\":{\"autotypenumbers\":\"strict\",\"colorway\":[\"#636efa\",\"#EF553B\",\"#00cc96\",\"#ab63fa\",\"#FFA15A\",\"#19d3f3\",\"#FF6692\",\"#B6E880\",\"#FF97FF\",\"#FECB52\"],\"font\":{\"color\":\"#2a3f5f\"},\"hovermode\":\"closest\",\"hoverlabel\":{\"align\":\"left\"},\"paper_bgcolor\":\"white\",\"plot_bgcolor\":\"#E5ECF6\",\"polar\":{\"bgcolor\":\"#E5ECF6\",\"angularaxis\":{\"gridcolor\":\"white\",\"linecolor\":\"white\",\"ticks\":\"\"},\"radialaxis\":{\"gridcolor\":\"white\",\"linecolor\":\"white\",\"ticks\":\"\"}},\"ternary\":{\"bgcolor\":\"#E5ECF6\",\"aaxis\":{\"gridcolor\":\"white\",\"linecolor\":\"white\",\"ticks\":\"\"},\"baxis\":{\"gridcolor\":\"white\",\"linecolor\":\"white\",\"ticks\":\"\"},\"caxis\":{\"gridcolor\":\"white\",\"linecolor\":\"white\",\"ticks\":\"\"}},\"coloraxis\":{\"colorbar\":{\"outlinewidth\":0,\"ticks\":\"\"}},\"colorscale\":{\"sequential\":[[0.0,\"#0d0887\"],[0.1111111111111111,\"#46039f\"],[0.2222222222222222,\"#7201a8\"],[0.3333333333333333,\"#9c179e\"],[0.4444444444444444,\"#bd3786\"],[0.5555555555555556,\"#d8576b\"],[0.6666666666666666,\"#ed7953\"],[0.7777777777777778,\"#fb9f3a\"],[0.8888888888888888,\"#fdca26\"],[1.0,\"#f0f921\"]],\"sequentialminus\":[[0.0,\"#0d0887\"],[0.1111111111111111,\"#46039f\"],[0.2222222222222222,\"#7201a8\"],[0.3333333333333333,\"#9c179e\"],[0.4444444444444444,\"#bd3786\"],[0.5555555555555556,\"#d8576b\"],[0.6666666666666666,\"#ed7953\"],[0.7777777777777778,\"#fb9f3a\"],[0.8888888888888888,\"#fdca26\"],[1.0,\"#f0f921\"]],\"diverging\":[[0,\"#8e0152\"],[0.1,\"#c51b7d\"],[0.2,\"#de77ae\"],[0.3,\"#f1b6da\"],[0.4,\"#fde0ef\"],[0.5,\"#f7f7f7\"],[0.6,\"#e6f5d0\"],[0.7,\"#b8e186\"],[0.8,\"#7fbc41\"],[0.9,\"#4d9221\"],[1,\"#276419\"]]},\"xaxis\":{\"gridcolor\":\"white\",\"linecolor\":\"white\",\"ticks\":\"\",\"title\":{\"standoff\":15},\"zerolinecolor\":\"white\",\"automargin\":true,\"zerolinewidth\":2},\"yaxis\":{\"gridcolor\":\"white\",\"linecolor\":\"white\",\"ticks\":\"\",\"title\":{\"standoff\":15},\"zerolinecolor\":\"white\",\"automargin\":true,\"zerolinewidth\":2},\"scene\":{\"xaxis\":{\"backgroundcolor\":\"#E5ECF6\",\"gridcolor\":\"white\",\"linecolor\":\"white\",\"showbackground\":true,\"ticks\":\"\",\"zerolinecolor\":\"white\",\"gridwidth\":2},\"yaxis\":{\"backgroundcolor\":\"#E5ECF6\",\"gridcolor\":\"white\",\"linecolor\":\"white\",\"showbackground\":true,\"ticks\":\"\",\"zerolinecolor\":\"white\",\"gridwidth\":2},\"zaxis\":{\"backgroundcolor\":\"#E5ECF6\",\"gridcolor\":\"white\",\"linecolor\":\"white\",\"showbackground\":true,\"ticks\":\"\",\"zerolinecolor\":\"white\",\"gridwidth\":2}},\"shapedefaults\":{\"line\":{\"color\":\"#2a3f5f\"}},\"annotationdefaults\":{\"arrowcolor\":\"#2a3f5f\",\"arrowhead\":0,\"arrowwidth\":1},\"geo\":{\"bgcolor\":\"white\",\"landcolor\":\"#E5ECF6\",\"subunitcolor\":\"white\",\"showland\":true,\"showlakes\":true,\"lakecolor\":\"white\"},\"title\":{\"x\":0.05},\"mapbox\":{\"style\":\"light\"}}},\"xaxis\":{\"anchor\":\"y\",\"domain\":[0.0,1.0],\"title\":{\"text\":\"Location\"}},\"yaxis\":{\"anchor\":\"x\",\"domain\":[0.0,1.0],\"title\":{\"text\":\"Annual Income\"}},\"coloraxis\":{\"colorbar\":{\"title\":{\"text\":\"sum of Annual Income\"}},\"colorscale\":[[0.0,\"#0d0887\"],[0.1111111111111111,\"#46039f\"],[0.2222222222222222,\"#7201a8\"],[0.3333333333333333,\"#9c179e\"],[0.4444444444444444,\"#bd3786\"],[0.5555555555555556,\"#d8576b\"],[0.6666666666666666,\"#ed7953\"],[0.7777777777777778,\"#fb9f3a\"],[0.8888888888888888,\"#fdca26\"],[1.0,\"#f0f921\"]]},\"legend\":{\"tracegroupgap\":0},\"title\":{\"text\":\"Annual Income Distribution by Location\"}},                        {\"responsive\": true}                    ).then(function(){\n",
              "                            \n",
              "var gd = document.getElementById('88e05dad-5c41-4f45-95ed-3dcc03dbd871');\n",
              "var x = new MutationObserver(function (mutations, observer) {{\n",
              "        var display = window.getComputedStyle(gd).display;\n",
              "        if (!display || display === 'none') {{\n",
              "            console.log([gd, 'removed!']);\n",
              "            Plotly.purge(gd);\n",
              "            observer.disconnect();\n",
              "        }}\n",
              "}});\n",
              "\n",
              "// Listen for the removal of the full notebook cells\n",
              "var notebookContainer = gd.closest('#notebook-container');\n",
              "if (notebookContainer) {{\n",
              "    x.observe(notebookContainer, {childList: true});\n",
              "}}\n",
              "\n",
              "// Listen for the clearing of the current output cell\n",
              "var outputEl = gd.closest('.output');\n",
              "if (outputEl) {{\n",
              "    x.observe(outputEl, {childList: true});\n",
              "}}\n",
              "\n",
              "                        })                };                            </script>        </div>\n",
              "</body>\n",
              "</html>"
            ]
          },
          "metadata": {}
        }
      ]
    },
    {
      "cell_type": "markdown",
      "source": [
        "**What is the interaction between product reviews, browsing history, and time on site?**"
      ],
      "metadata": {
        "id": "kkLW8Ja4iy2j"
      }
    },
    {
      "cell_type": "code",
      "source": [
        "fig = px.scatter(df_no_outliers, x='Browsing History', y='Product Reviews', size='Time on Site', color='Age',\n",
        "                 title='Interaction between Browsing History, Product Reviews, and Time on Site', height=1500, width=1500)\n",
        "fig.show()"
      ],
      "metadata": {
        "execution": {
          "iopub.status.busy": "2024-09-19T09:54:02.138111Z",
          "iopub.execute_input": "2024-09-19T09:54:02.138567Z",
          "iopub.status.idle": "2024-09-19T09:54:02.231443Z",
          "shell.execute_reply.started": "2024-09-19T09:54:02.138505Z",
          "shell.execute_reply": "2024-09-19T09:54:02.230231Z"
        },
        "trusted": true,
        "id": "n0Gs3BKYiy2t",
        "outputId": "dd794587-ab1e-404d-fece-b1b18b824837",
        "colab": {
          "base_uri": "https://localhost:8080/",
          "height": 1000
        }
      },
      "execution_count": 31,
      "outputs": [
        {
          "output_type": "display_data",
          "data": {
            "text/html": [
              "<html>\n",
              "<head><meta charset=\"utf-8\" /></head>\n",
              "<body>\n",
              "    <div>            <script src=\"https://cdnjs.cloudflare.com/ajax/libs/mathjax/2.7.5/MathJax.js?config=TeX-AMS-MML_SVG\"></script><script type=\"text/javascript\">if (window.MathJax && window.MathJax.Hub && window.MathJax.Hub.Config) {window.MathJax.Hub.Config({SVG: {font: \"STIX-Web\"}});}</script>                <script type=\"text/javascript\">window.PlotlyConfig = {MathJaxConfig: 'local'};</script>\n",
              "        <script charset=\"utf-8\" src=\"https://cdn.plot.ly/plotly-2.35.2.min.js\"></script>                <div id=\"1dbad244-ee7b-4f23-8f7e-4a3a9dd90e3e\" class=\"plotly-graph-div\" style=\"height:1500px; width:1500px;\"></div>            <script type=\"text/javascript\">                                    window.PLOTLYENV=window.PLOTLYENV || {};                                    if (document.getElementById(\"1dbad244-ee7b-4f23-8f7e-4a3a9dd90e3e\")) {                    Plotly.newPlot(                        \"1dbad244-ee7b-4f23-8f7e-4a3a9dd90e3e\",                        [{\"hovertemplate\":\"Browsing History=%{x}\\u003cbr\\u003eProduct Reviews=%{y}\\u003cbr\\u003eTime on Site=%{marker.size}\\u003cbr\\u003eAge=%{marker.color}\\u003cextra\\u003e\\u003c\\u002fextra\\u003e\",\"legendgroup\":\"\",\"marker\":{\"color\":[25,28,28,45,34,56,29,42,51,36,48,25,45,32,60,28,55,38,42,50,35,48,30,65,24,35,45,28,52,31,48,60,55,29,58,36,42,50,32,35,42,32,28,42,35,52,24,34,45,29],\"coloraxis\":\"coloraxis\",\"size\":[32.5,123.45,125.6,327.6,214.9,486.3,378.5,289.8,456.2,334.9,298.6,312.5,120.0,75.0,200.0,150.0,300.0,250.0,180.0,280.0,220.0,200.0,160.0,240.0,120.5,120.0,300.0,250.0,350.0,200.0,400.0,300.0,450.0,250.0,350.0,200.0,300.0,250.0,72.3,123.6,246.9,75.2,120.5,250.0,75.0,300.0,100.0,120.0,350.0,200.0],\"sizemode\":\"area\",\"sizeref\":1.21575,\"symbol\":\"circle\"},\"mode\":\"markers\",\"name\":\"\",\"orientation\":\"v\",\"showlegend\":false,\"x\":[\"[{\\\"Timestamp\\\": \\\"2022-03-10T14:30:00Z\\\"}, {\\\"Timestamp\\\": \\\"2022-03-11T09:45:00Z\\\"}, {\\\"Timestamp\\\": \\\"2022-03-12T16:20:00Z\\\"}]\",\"[{\\\"Product Category\\\": \\\"Home & Garden\\\", \\\"Timestamp\\\": \\\"2022-05-12T13:30:00Z\\\"}, {\\\"Product Category\\\": \\\"Electronics\\\", \\\"Timestamp\\\": \\\"2022-06-05T08:45:00Z\\\"}]\",\"[{\\\"Product Category\\\": \\\"Clothing\\\", \\\"Timestamp\\\": \\\"2022-09-03 15:30:00\\\"}, {\\\"Product Category\\\": \\\"Electronics\\\", \\\"Timestamp\\\": \\\"2022-09-01 10:15:00\\\"}]\",\"{'Timestamp': '2022-09-03 14:30:00'}\",\"{'Timestamp': '2022-08-10 17:15:00'}\",\"{'Timestamp': '2022-06-25 10:45:00'}\",\"{'Timestamp': '2022-08-15 13:20:00'}\",\"{'Timestamp': '2022-09-12 16:35:00'}\",\"{'Timestamp': '2022-06-28 09:00:00'}\",\"{'Timestamp': '2022-08-17 14:50:00'}\",\"{'Timestamp': '2022-06-30 11:15:00'}\",\"{'Timestamp': '2022-09-14 10:00:00'}\",\"{'Timestamp': '2022-03-06 14:30:00'}\",\"{'Timestamp': '2022-05-12 16:15:00'}\",\"{'Timestamp': '2022-06-03 10:45:00'}\",\"{'Timestamp': '2022-07-08 13:00:00'}\",\"{'Timestamp': '2022-08-04 09:30:00'}\",\"{'Timestamp': '2022-09-02 11:15:00'}\",\"{'Timestamp': '2022-10-07 14:45:00'}\",\"{'Timestamp': '2022-11-02 10:30:00'}\",\"{'Timestamp': '2022-12-06 12:00:00'}\",\"{'Timestamp': '2022-12-21 15:30:00'}\",\"{'Timestamp': '2023-01-11 08:45:00'}\",\"{'Timestamp': '2023-02-06 13:15:00'}\",\"[{\\\"Timestamp\\\": \\\"2022-08-20T14:30:00Z\\\"}, {\\\"Timestamp\\\": \\\"2022-08-22T16:45:00Z\\\"}, {\\\"Timestamp\\\": \\\"2022-09-03T10:20:00Z\\\"}]\",\"{'Timestamp': '2022-04-20T14:30:00Z'}\",\"{'Timestamp': '2022-05-25T17:45:00Z'}\",\"{'Timestamp': '2022-06-01T09:15:00Z'}\",\"{'Timestamp': '2022-05-22T10:30:00Z'}\",\"{'Timestamp': '2022-05-30T13:45:00Z'}\",\"{'Timestamp': '2022-06-06T08:00:00Z'}\",\"{'Timestamp': '2022-06-15T11:30:00Z'}\",\"{'Timestamp': '2022-05-28T15:15:00Z'}\",\"{'Timestamp': '2022-05-31T16:45:00Z'}\",\"{'Timestamp': '2022-05-29T10:30:00Z'}\",\"{'Timestamp': '2022-06-13T13:00:00Z'}\",\"{'Timestamp': '2022-05-26T11:15:00Z'}\",\"{'Timestamp': '2022-06-08T14:30:00Z'}\",\"[{\\\"Product Category\\\": \\\"Home & Garden\\\", \\\"Timestamp\\\": \\\"2022-09-01T14:30:00Z\\\"}, {\\\"Product Category\\\": \\\"Clothing\\\", \\\"Timestamp\\\": \\\"2022-08-25T12:15:00Z\\\"}]\",\"[{\\\"Product Category\\\": \\\"Home & Garden\\\", \\\"Timestamp\\\": \\\"2022-04-03T15:30:00Z\\\"}, {\\\"Product Category\\\": \\\"Electronics\\\", \\\"Timestamp\\\": \\\"2022-03-28T08:45:00Z\\\"}]\",\"[{\\\"Product Category\\\": \\\"Electronics\\\", \\\"Timestamp\\\": \\\"2022-03-01T10:15:00Z\\\"}, {\\\"Product Category\\\": \\\"Clothing\\\", \\\"Timestamp\\\": \\\"2022-02-15T16:30:00Z\\\"}]\",\"[{\\\"Product Category\\\": \\\"Home & Garden\\\", \\\"Timestamp\\\": \\\"2022-02-20T12:34:56Z\\\"}]\",\"[{\\\"Product Category\\\": \\\"Home & Garden\\\", \\\"Timestamp\\\": \\\"2022-06-15T12:34:56Z\\\"}, {\\\"Product Category\\\": \\\"Electronics\\\", \\\"Timestamp\\\": \\\"2022-05-20T16:17:23Z\\\"}]\",\"[{\\\"Product Category\\\": \\\"Clothing\\\", \\\"Timestamp\\\": \\\"2022-07-10T09:15:32Z\\\"}, {\\\"Product Category\\\": \\\"Electronics\\\", \\\"Timestamp\\\": \\\"2022-06-25T14:46:01Z\\\"}]\",\"[{\\\"Product Category\\\": \\\"Home & Garden\\\", \\\"Timestamp\\\": \\\"2022-06-27T10:30:11Z\\\"}, {\\\"Product Category\\\": \\\"Electronics\\\", \\\"Timestamp\\\": \\\"2022-05-30T13:02:45Z\\\"}]\",\"[{\\\"Product Category\\\": \\\"Electronics\\\", \\\"Timestamp\\\": \\\"2022-07-12T11:45:06Z\\\"}, {\\\"Product Category\\\": \\\"Clothing\\\", \\\"Timestamp\\\": \\\"2022-06-30T16:23:30Z\\\"}]\",\"[{\\\"Product Category\\\": \\\"Clothing\\\", \\\"Timestamp\\\": \\\"2022-06-05T08:00:23Z\\\"}, {\\\"Product Category\\\": \\\"Electronics\\\", \\\"Timestamp\\\": \\\"2022-05-28T14:30:56Z\\\"}]\",\"[{\\\"Timestamp\\\": \\\"2022-08-14T09:30:00Z\\\"},{\\\"Timestamp\\\": \\\"2022-07-25T14:15:00Z\\\"},{\\\"Timestamp\\\": \\\"2022-06-01T10:45:00Z\\\"}]\",\"[{\\\"Timestamp\\\": \\\"2022-08-12T16:00:00Z\\\"},{\\\"Timestamp\\\": \\\"2022-07-27T08:30:00Z\\\"},{\\\"Timestamp\\\": \\\"2022-06-03T11:00:00Z\\\"}]\",\"[{\\\"Timestamp\\\": \\\"2022-08-13T13:45:00Z\\\"},{\\\"Timestamp\\\": \\\"2022-07-26T07:00:00Z\\\"},{\\\"Timestamp\\\": \\\"2022-06-02T15:30:00Z\\\"}]\"],\"xaxis\":\"x\",\"y\":[\"Great pair of jeans, very comfortable. Rating: 4 stars.\",\"Great customer service!\",\"Great electronics. The sound quality is excellent. I would highly recommend this product.\",\"{\\\"Product 1\\\": {\\\"Rating\\\": 4, \\\"Review\\\": \\\"Great experience buying this product. Fast delivery and excellent customer service.\\\"}}\",\"{\\\"Product 1\\\": {\\\"Rating\\\": 3, \\\"Review\\\": \\\"Good product, but could have been better.\\\"}}\",\"{\\\"Product 1\\\": {\\\"Rating\\\": 5, \\\"Review\\\": \\\"Awesome product, highly recommend it to everyone.\\\"}}\",\"{\\\"Product 1\\\": {\\\"Rating\\\": 4, \\\"Review\\\": \\\"Great product, will definitely buy again.\\\"}}\",\"{\\\"Product 1\\\": {\\\"Rating\\\": 3, \\\"Review\\\": \\\"Good product, but not worth the price.\\\"}}\",\"{\\\"Product 1\\\": {\\\"Rating\\\": 5, \\\"Review\\\": \\\"Outstanding product, exceeded my expectations.\\\"}}\",\"{\\\"Product 1\\\": {\\\"Rating\\\": 4, \\\"Review\\\": \\\"Good product, but could have been better.\\\"}}\",\"{\\\"Product 1\\\": {\\\"Rating\\\": 3, \\\"Review\\\": \\\"Good product, but not what I expected.\\\"}}\",\"{\\\"Product 1\\\": {\\\"Rating\\\": 4, \\\"Review\\\": \\\"Great product, will definitely buy again.\\\"}}\",\"{\\\"Review Text\\\": \\\"Great quality clothes!\\\", \\\"Rating\\\": 5}\",\"{\\\"Review Text\\\": \\\"Good product, but could be cheaper.\\\", \\\"Rating\\\": 3}\",\"{\\\"Review Text\\\": \\\"Very satisfied with my purchase!\\\", \\\"Rating\\\": 5}\",\"{\\\"Review Text\\\": \\\"Not what I expected.\\\", \\\"Rating\\\": 2}\",\"{\\\"Review Text\\\": \\\"Excellent product, highly recommend!\\\", \\\"Rating\\\": 5}\",\"{\\\"Review Text\\\": \\\"Awesome purchase!\\\", \\\"Rating\\\": 5}\",\"{\\\"Review Text\\\": \\\"Good product, but not worth the price.\\\", \\\"Rating\\\": 3}\",\"{\\\"Review Text\\\": \\\"Great product, highly recommend!\\\", \\\"Rating\\\": 5}\",\"{\\\"Review Text\\\": \\\"Satisfied with my purchase!\\\", \\\"Rating\\\": 4}\",\"{\\\"Review Text\\\": \\\"Excellent product, highly recommend!\\\", \\\"Rating\\\": 5}\",\"{\\\"Review Text\\\": \\\"Good product, but could be better.\\\", \\\"Rating\\\": 3}\",\"{\\\"Review Text\\\": \\\"Excellent product, highly recommend!\\\", \\\"Rating\\\": 5}\",\"This dress is amazing! I love the color and fit. 5 stars.\",\"The blouse is so comfortable and stylish. 5 stars!\",\"The headphones are great. Sound quality is excellent. 4.5 stars.\",\"The dress fits perfectly. I love it. 5 stars!\",\"The vacuum cleaner works great. 4 stars.\",\"The top is nice, but the size is a bit small. 3.5 stars.\",\"The phone is fantastic. 5 stars!\",\"The shirt is comfortable. 4 stars.\",\"The laptop is excellent. 5 stars!\",\"The shoes are comfortable. 4.5 stars.\",\"The coffee maker is great. 5 stars!\",\"The skirt is lovely. 4.5 stars.\",\"The TV is amazing. 5 stars!\",\"The bedding is comfortable. 4 stars.\",\"Great find! 5 stars\",\"Great product, very happy with my purchase.\",\"The product arrived quickly and in great condition.\",\"Great headphones, sound quality is amazing.\",\"Great purchase! The shoes are so comfortable and stylish. I've received several compliments.\",\"I'm really happy with my new phone. The battery life is impressive.\",\"The headphones are amazing! The sound quality is excellent.\",\"I love my new kitchen gadget! It's so efficient and easy to use.\",\"The laptop is perfect for my needs. It's lightweight and powerful.\",\"The clothing arrived quickly and fits great! 5 stars.\",\"The electronics were excellent quality and arrived promptly. 5 stars.\",\"The electronics were as described and arrived on time. 4 stars.\"],\"yaxis\":\"y\",\"type\":\"scatter\"}],                        {\"template\":{\"data\":{\"histogram2dcontour\":[{\"type\":\"histogram2dcontour\",\"colorbar\":{\"outlinewidth\":0,\"ticks\":\"\"},\"colorscale\":[[0.0,\"#0d0887\"],[0.1111111111111111,\"#46039f\"],[0.2222222222222222,\"#7201a8\"],[0.3333333333333333,\"#9c179e\"],[0.4444444444444444,\"#bd3786\"],[0.5555555555555556,\"#d8576b\"],[0.6666666666666666,\"#ed7953\"],[0.7777777777777778,\"#fb9f3a\"],[0.8888888888888888,\"#fdca26\"],[1.0,\"#f0f921\"]]}],\"choropleth\":[{\"type\":\"choropleth\",\"colorbar\":{\"outlinewidth\":0,\"ticks\":\"\"}}],\"histogram2d\":[{\"type\":\"histogram2d\",\"colorbar\":{\"outlinewidth\":0,\"ticks\":\"\"},\"colorscale\":[[0.0,\"#0d0887\"],[0.1111111111111111,\"#46039f\"],[0.2222222222222222,\"#7201a8\"],[0.3333333333333333,\"#9c179e\"],[0.4444444444444444,\"#bd3786\"],[0.5555555555555556,\"#d8576b\"],[0.6666666666666666,\"#ed7953\"],[0.7777777777777778,\"#fb9f3a\"],[0.8888888888888888,\"#fdca26\"],[1.0,\"#f0f921\"]]}],\"heatmap\":[{\"type\":\"heatmap\",\"colorbar\":{\"outlinewidth\":0,\"ticks\":\"\"},\"colorscale\":[[0.0,\"#0d0887\"],[0.1111111111111111,\"#46039f\"],[0.2222222222222222,\"#7201a8\"],[0.3333333333333333,\"#9c179e\"],[0.4444444444444444,\"#bd3786\"],[0.5555555555555556,\"#d8576b\"],[0.6666666666666666,\"#ed7953\"],[0.7777777777777778,\"#fb9f3a\"],[0.8888888888888888,\"#fdca26\"],[1.0,\"#f0f921\"]]}],\"heatmapgl\":[{\"type\":\"heatmapgl\",\"colorbar\":{\"outlinewidth\":0,\"ticks\":\"\"},\"colorscale\":[[0.0,\"#0d0887\"],[0.1111111111111111,\"#46039f\"],[0.2222222222222222,\"#7201a8\"],[0.3333333333333333,\"#9c179e\"],[0.4444444444444444,\"#bd3786\"],[0.5555555555555556,\"#d8576b\"],[0.6666666666666666,\"#ed7953\"],[0.7777777777777778,\"#fb9f3a\"],[0.8888888888888888,\"#fdca26\"],[1.0,\"#f0f921\"]]}],\"contourcarpet\":[{\"type\":\"contourcarpet\",\"colorbar\":{\"outlinewidth\":0,\"ticks\":\"\"}}],\"contour\":[{\"type\":\"contour\",\"colorbar\":{\"outlinewidth\":0,\"ticks\":\"\"},\"colorscale\":[[0.0,\"#0d0887\"],[0.1111111111111111,\"#46039f\"],[0.2222222222222222,\"#7201a8\"],[0.3333333333333333,\"#9c179e\"],[0.4444444444444444,\"#bd3786\"],[0.5555555555555556,\"#d8576b\"],[0.6666666666666666,\"#ed7953\"],[0.7777777777777778,\"#fb9f3a\"],[0.8888888888888888,\"#fdca26\"],[1.0,\"#f0f921\"]]}],\"surface\":[{\"type\":\"surface\",\"colorbar\":{\"outlinewidth\":0,\"ticks\":\"\"},\"colorscale\":[[0.0,\"#0d0887\"],[0.1111111111111111,\"#46039f\"],[0.2222222222222222,\"#7201a8\"],[0.3333333333333333,\"#9c179e\"],[0.4444444444444444,\"#bd3786\"],[0.5555555555555556,\"#d8576b\"],[0.6666666666666666,\"#ed7953\"],[0.7777777777777778,\"#fb9f3a\"],[0.8888888888888888,\"#fdca26\"],[1.0,\"#f0f921\"]]}],\"mesh3d\":[{\"type\":\"mesh3d\",\"colorbar\":{\"outlinewidth\":0,\"ticks\":\"\"}}],\"scatter\":[{\"fillpattern\":{\"fillmode\":\"overlay\",\"size\":10,\"solidity\":0.2},\"type\":\"scatter\"}],\"parcoords\":[{\"type\":\"parcoords\",\"line\":{\"colorbar\":{\"outlinewidth\":0,\"ticks\":\"\"}}}],\"scatterpolargl\":[{\"type\":\"scatterpolargl\",\"marker\":{\"colorbar\":{\"outlinewidth\":0,\"ticks\":\"\"}}}],\"bar\":[{\"error_x\":{\"color\":\"#2a3f5f\"},\"error_y\":{\"color\":\"#2a3f5f\"},\"marker\":{\"line\":{\"color\":\"#E5ECF6\",\"width\":0.5},\"pattern\":{\"fillmode\":\"overlay\",\"size\":10,\"solidity\":0.2}},\"type\":\"bar\"}],\"scattergeo\":[{\"type\":\"scattergeo\",\"marker\":{\"colorbar\":{\"outlinewidth\":0,\"ticks\":\"\"}}}],\"scatterpolar\":[{\"type\":\"scatterpolar\",\"marker\":{\"colorbar\":{\"outlinewidth\":0,\"ticks\":\"\"}}}],\"histogram\":[{\"marker\":{\"pattern\":{\"fillmode\":\"overlay\",\"size\":10,\"solidity\":0.2}},\"type\":\"histogram\"}],\"scattergl\":[{\"type\":\"scattergl\",\"marker\":{\"colorbar\":{\"outlinewidth\":0,\"ticks\":\"\"}}}],\"scatter3d\":[{\"type\":\"scatter3d\",\"line\":{\"colorbar\":{\"outlinewidth\":0,\"ticks\":\"\"}},\"marker\":{\"colorbar\":{\"outlinewidth\":0,\"ticks\":\"\"}}}],\"scattermapbox\":[{\"type\":\"scattermapbox\",\"marker\":{\"colorbar\":{\"outlinewidth\":0,\"ticks\":\"\"}}}],\"scatterternary\":[{\"type\":\"scatterternary\",\"marker\":{\"colorbar\":{\"outlinewidth\":0,\"ticks\":\"\"}}}],\"scattercarpet\":[{\"type\":\"scattercarpet\",\"marker\":{\"colorbar\":{\"outlinewidth\":0,\"ticks\":\"\"}}}],\"carpet\":[{\"aaxis\":{\"endlinecolor\":\"#2a3f5f\",\"gridcolor\":\"white\",\"linecolor\":\"white\",\"minorgridcolor\":\"white\",\"startlinecolor\":\"#2a3f5f\"},\"baxis\":{\"endlinecolor\":\"#2a3f5f\",\"gridcolor\":\"white\",\"linecolor\":\"white\",\"minorgridcolor\":\"white\",\"startlinecolor\":\"#2a3f5f\"},\"type\":\"carpet\"}],\"table\":[{\"cells\":{\"fill\":{\"color\":\"#EBF0F8\"},\"line\":{\"color\":\"white\"}},\"header\":{\"fill\":{\"color\":\"#C8D4E3\"},\"line\":{\"color\":\"white\"}},\"type\":\"table\"}],\"barpolar\":[{\"marker\":{\"line\":{\"color\":\"#E5ECF6\",\"width\":0.5},\"pattern\":{\"fillmode\":\"overlay\",\"size\":10,\"solidity\":0.2}},\"type\":\"barpolar\"}],\"pie\":[{\"automargin\":true,\"type\":\"pie\"}]},\"layout\":{\"autotypenumbers\":\"strict\",\"colorway\":[\"#636efa\",\"#EF553B\",\"#00cc96\",\"#ab63fa\",\"#FFA15A\",\"#19d3f3\",\"#FF6692\",\"#B6E880\",\"#FF97FF\",\"#FECB52\"],\"font\":{\"color\":\"#2a3f5f\"},\"hovermode\":\"closest\",\"hoverlabel\":{\"align\":\"left\"},\"paper_bgcolor\":\"white\",\"plot_bgcolor\":\"#E5ECF6\",\"polar\":{\"bgcolor\":\"#E5ECF6\",\"angularaxis\":{\"gridcolor\":\"white\",\"linecolor\":\"white\",\"ticks\":\"\"},\"radialaxis\":{\"gridcolor\":\"white\",\"linecolor\":\"white\",\"ticks\":\"\"}},\"ternary\":{\"bgcolor\":\"#E5ECF6\",\"aaxis\":{\"gridcolor\":\"white\",\"linecolor\":\"white\",\"ticks\":\"\"},\"baxis\":{\"gridcolor\":\"white\",\"linecolor\":\"white\",\"ticks\":\"\"},\"caxis\":{\"gridcolor\":\"white\",\"linecolor\":\"white\",\"ticks\":\"\"}},\"coloraxis\":{\"colorbar\":{\"outlinewidth\":0,\"ticks\":\"\"}},\"colorscale\":{\"sequential\":[[0.0,\"#0d0887\"],[0.1111111111111111,\"#46039f\"],[0.2222222222222222,\"#7201a8\"],[0.3333333333333333,\"#9c179e\"],[0.4444444444444444,\"#bd3786\"],[0.5555555555555556,\"#d8576b\"],[0.6666666666666666,\"#ed7953\"],[0.7777777777777778,\"#fb9f3a\"],[0.8888888888888888,\"#fdca26\"],[1.0,\"#f0f921\"]],\"sequentialminus\":[[0.0,\"#0d0887\"],[0.1111111111111111,\"#46039f\"],[0.2222222222222222,\"#7201a8\"],[0.3333333333333333,\"#9c179e\"],[0.4444444444444444,\"#bd3786\"],[0.5555555555555556,\"#d8576b\"],[0.6666666666666666,\"#ed7953\"],[0.7777777777777778,\"#fb9f3a\"],[0.8888888888888888,\"#fdca26\"],[1.0,\"#f0f921\"]],\"diverging\":[[0,\"#8e0152\"],[0.1,\"#c51b7d\"],[0.2,\"#de77ae\"],[0.3,\"#f1b6da\"],[0.4,\"#fde0ef\"],[0.5,\"#f7f7f7\"],[0.6,\"#e6f5d0\"],[0.7,\"#b8e186\"],[0.8,\"#7fbc41\"],[0.9,\"#4d9221\"],[1,\"#276419\"]]},\"xaxis\":{\"gridcolor\":\"white\",\"linecolor\":\"white\",\"ticks\":\"\",\"title\":{\"standoff\":15},\"zerolinecolor\":\"white\",\"automargin\":true,\"zerolinewidth\":2},\"yaxis\":{\"gridcolor\":\"white\",\"linecolor\":\"white\",\"ticks\":\"\",\"title\":{\"standoff\":15},\"zerolinecolor\":\"white\",\"automargin\":true,\"zerolinewidth\":2},\"scene\":{\"xaxis\":{\"backgroundcolor\":\"#E5ECF6\",\"gridcolor\":\"white\",\"linecolor\":\"white\",\"showbackground\":true,\"ticks\":\"\",\"zerolinecolor\":\"white\",\"gridwidth\":2},\"yaxis\":{\"backgroundcolor\":\"#E5ECF6\",\"gridcolor\":\"white\",\"linecolor\":\"white\",\"showbackground\":true,\"ticks\":\"\",\"zerolinecolor\":\"white\",\"gridwidth\":2},\"zaxis\":{\"backgroundcolor\":\"#E5ECF6\",\"gridcolor\":\"white\",\"linecolor\":\"white\",\"showbackground\":true,\"ticks\":\"\",\"zerolinecolor\":\"white\",\"gridwidth\":2}},\"shapedefaults\":{\"line\":{\"color\":\"#2a3f5f\"}},\"annotationdefaults\":{\"arrowcolor\":\"#2a3f5f\",\"arrowhead\":0,\"arrowwidth\":1},\"geo\":{\"bgcolor\":\"white\",\"landcolor\":\"#E5ECF6\",\"subunitcolor\":\"white\",\"showland\":true,\"showlakes\":true,\"lakecolor\":\"white\"},\"title\":{\"x\":0.05},\"mapbox\":{\"style\":\"light\"}}},\"xaxis\":{\"anchor\":\"y\",\"domain\":[0.0,1.0],\"title\":{\"text\":\"Browsing History\"}},\"yaxis\":{\"anchor\":\"x\",\"domain\":[0.0,1.0],\"title\":{\"text\":\"Product Reviews\"}},\"coloraxis\":{\"colorbar\":{\"title\":{\"text\":\"Age\"}},\"colorscale\":[[0.0,\"#0d0887\"],[0.1111111111111111,\"#46039f\"],[0.2222222222222222,\"#7201a8\"],[0.3333333333333333,\"#9c179e\"],[0.4444444444444444,\"#bd3786\"],[0.5555555555555556,\"#d8576b\"],[0.6666666666666666,\"#ed7953\"],[0.7777777777777778,\"#fb9f3a\"],[0.8888888888888888,\"#fdca26\"],[1.0,\"#f0f921\"]]},\"legend\":{\"tracegroupgap\":0,\"itemsizing\":\"constant\"},\"title\":{\"text\":\"Interaction between Browsing History, Product Reviews, and Time on Site\"},\"height\":1500,\"width\":1500},                        {\"responsive\": true}                    ).then(function(){\n",
              "                            \n",
              "var gd = document.getElementById('1dbad244-ee7b-4f23-8f7e-4a3a9dd90e3e');\n",
              "var x = new MutationObserver(function (mutations, observer) {{\n",
              "        var display = window.getComputedStyle(gd).display;\n",
              "        if (!display || display === 'none') {{\n",
              "            console.log([gd, 'removed!']);\n",
              "            Plotly.purge(gd);\n",
              "            observer.disconnect();\n",
              "        }}\n",
              "}});\n",
              "\n",
              "// Listen for the removal of the full notebook cells\n",
              "var notebookContainer = gd.closest('#notebook-container');\n",
              "if (notebookContainer) {{\n",
              "    x.observe(notebookContainer, {childList: true});\n",
              "}}\n",
              "\n",
              "// Listen for the clearing of the current output cell\n",
              "var outputEl = gd.closest('.output');\n",
              "if (outputEl) {{\n",
              "    x.observe(outputEl, {childList: true});\n",
              "}}\n",
              "\n",
              "                        })                };                            </script>        </div>\n",
              "</body>\n",
              "</html>"
            ]
          },
          "metadata": {}
        }
      ]
    },
    {
      "cell_type": "markdown",
      "source": [
        "**Correlation between Age, Browsing History, and Annual Income**"
      ],
      "metadata": {
        "id": "iUWkRphZiy2u"
      }
    },
    {
      "cell_type": "code",
      "source": [
        "fig = px.scatter(df_no_outliers, x='Age', y='Browsing History', size='Annual Income', color='Gender',\n",
        "                 title='Age vs Browsing History with Annual Income as Bubble Size', width=1700)\n",
        "fig.show()"
      ],
      "metadata": {
        "execution": {
          "iopub.status.busy": "2024-09-19T09:54:02.232762Z",
          "iopub.execute_input": "2024-09-19T09:54:02.233145Z",
          "iopub.status.idle": "2024-09-19T09:54:02.332244Z",
          "shell.execute_reply.started": "2024-09-19T09:54:02.233104Z",
          "shell.execute_reply": "2024-09-19T09:54:02.330859Z"
        },
        "trusted": true,
        "id": "ptBIqREriy2v",
        "outputId": "c78a8698-8260-4575-cd52-f09658cc4e4a",
        "colab": {
          "base_uri": "https://localhost:8080/",
          "height": 562
        }
      },
      "execution_count": 32,
      "outputs": [
        {
          "output_type": "display_data",
          "data": {
            "text/html": [
              "<html>\n",
              "<head><meta charset=\"utf-8\" /></head>\n",
              "<body>\n",
              "    <div>            <script src=\"https://cdnjs.cloudflare.com/ajax/libs/mathjax/2.7.5/MathJax.js?config=TeX-AMS-MML_SVG\"></script><script type=\"text/javascript\">if (window.MathJax && window.MathJax.Hub && window.MathJax.Hub.Config) {window.MathJax.Hub.Config({SVG: {font: \"STIX-Web\"}});}</script>                <script type=\"text/javascript\">window.PlotlyConfig = {MathJaxConfig: 'local'};</script>\n",
              "        <script charset=\"utf-8\" src=\"https://cdn.plot.ly/plotly-2.35.2.min.js\"></script>                <div id=\"732a652d-61fd-45f6-8b3f-ebd306d082f1\" class=\"plotly-graph-div\" style=\"height:525px; width:1700px;\"></div>            <script type=\"text/javascript\">                                    window.PLOTLYENV=window.PLOTLYENV || {};                                    if (document.getElementById(\"732a652d-61fd-45f6-8b3f-ebd306d082f1\")) {                    Plotly.newPlot(                        \"732a652d-61fd-45f6-8b3f-ebd306d082f1\",                        [{\"hovertemplate\":\"Gender=Female\\u003cbr\\u003eAge=%{x}\\u003cbr\\u003eBrowsing History=%{y}\\u003cbr\\u003eAnnual Income=%{marker.size}\\u003cextra\\u003e\\u003c\\u002fextra\\u003e\",\"legendgroup\":\"Female\",\"marker\":{\"color\":\"#636efa\",\"size\":[45000,52000,65000,70000,60000,55000,75000,45000,65000,85000,75000,95000,45000,50000,60000,45000,65000,40000,55000,68000,65000,60000,55000,65000,100000,55000],\"sizemode\":\"area\",\"sizeref\":250.0,\"symbol\":\"circle\"},\"mode\":\"markers\",\"name\":\"Female\",\"orientation\":\"h\",\"showlegend\":true,\"x\":[25,28,28,45,29,36,45,28,38,50,48,65,24,35,28,31,60,29,36,50,32,35,32,28,52,34],\"xaxis\":\"x\",\"y\":[\"[{\\\"Timestamp\\\": \\\"2022-03-10T14:30:00Z\\\"}, {\\\"Timestamp\\\": \\\"2022-03-11T09:45:00Z\\\"}, {\\\"Timestamp\\\": \\\"2022-03-12T16:20:00Z\\\"}]\",\"[{\\\"Product Category\\\": \\\"Home & Garden\\\", \\\"Timestamp\\\": \\\"2022-05-12T13:30:00Z\\\"}, {\\\"Product Category\\\": \\\"Electronics\\\", \\\"Timestamp\\\": \\\"2022-06-05T08:45:00Z\\\"}]\",\"[{\\\"Product Category\\\": \\\"Clothing\\\", \\\"Timestamp\\\": \\\"2022-09-03 15:30:00\\\"}, {\\\"Product Category\\\": \\\"Electronics\\\", \\\"Timestamp\\\": \\\"2022-09-01 10:15:00\\\"}]\",\"{'Timestamp': '2022-09-03 14:30:00'}\",\"{'Timestamp': '2022-08-15 13:20:00'}\",\"{'Timestamp': '2022-08-17 14:50:00'}\",\"{'Timestamp': '2022-03-06 14:30:00'}\",\"{'Timestamp': '2022-07-08 13:00:00'}\",\"{'Timestamp': '2022-09-02 11:15:00'}\",\"{'Timestamp': '2022-11-02 10:30:00'}\",\"{'Timestamp': '2022-12-21 15:30:00'}\",\"{'Timestamp': '2023-02-06 13:15:00'}\",\"[{\\\"Timestamp\\\": \\\"2022-08-20T14:30:00Z\\\"}, {\\\"Timestamp\\\": \\\"2022-08-22T16:45:00Z\\\"}, {\\\"Timestamp\\\": \\\"2022-09-03T10:20:00Z\\\"}]\",\"{'Timestamp': '2022-04-20T14:30:00Z'}\",\"{'Timestamp': '2022-06-01T09:15:00Z'}\",\"{'Timestamp': '2022-05-30T13:45:00Z'}\",\"{'Timestamp': '2022-06-15T11:30:00Z'}\",\"{'Timestamp': '2022-05-31T16:45:00Z'}\",\"{'Timestamp': '2022-06-13T13:00:00Z'}\",\"{'Timestamp': '2022-06-08T14:30:00Z'}\",\"[{\\\"Product Category\\\": \\\"Home & Garden\\\", \\\"Timestamp\\\": \\\"2022-09-01T14:30:00Z\\\"}, {\\\"Product Category\\\": \\\"Clothing\\\", \\\"Timestamp\\\": \\\"2022-08-25T12:15:00Z\\\"}]\",\"[{\\\"Product Category\\\": \\\"Home & Garden\\\", \\\"Timestamp\\\": \\\"2022-04-03T15:30:00Z\\\"}, {\\\"Product Category\\\": \\\"Electronics\\\", \\\"Timestamp\\\": \\\"2022-03-28T08:45:00Z\\\"}]\",\"[{\\\"Product Category\\\": \\\"Home & Garden\\\", \\\"Timestamp\\\": \\\"2022-02-20T12:34:56Z\\\"}]\",\"[{\\\"Product Category\\\": \\\"Home & Garden\\\", \\\"Timestamp\\\": \\\"2022-06-15T12:34:56Z\\\"}, {\\\"Product Category\\\": \\\"Electronics\\\", \\\"Timestamp\\\": \\\"2022-05-20T16:17:23Z\\\"}]\",\"[{\\\"Product Category\\\": \\\"Electronics\\\", \\\"Timestamp\\\": \\\"2022-07-12T11:45:06Z\\\"}, {\\\"Product Category\\\": \\\"Clothing\\\", \\\"Timestamp\\\": \\\"2022-06-30T16:23:30Z\\\"}]\",\"[{\\\"Timestamp\\\": \\\"2022-08-14T09:30:00Z\\\"},{\\\"Timestamp\\\": \\\"2022-07-25T14:15:00Z\\\"},{\\\"Timestamp\\\": \\\"2022-06-01T10:45:00Z\\\"}]\"],\"yaxis\":\"y\",\"type\":\"scatter\"},{\"hovertemplate\":\"Gender=Male\\u003cbr\\u003eAge=%{x}\\u003cbr\\u003eBrowsing History=%{y}\\u003cbr\\u003eAnnual Income=%{marker.size}\\u003cextra\\u003e\\u003c\\u002fextra\\u003e\",\"legendgroup\":\"Male\",\"marker\":{\"color\":\"#EF553B\",\"size\":[45000,75000,80000,50000,90000,70000,55000,40000,80000,70000,90000,85000,75000,95000,75000,80000,45000,87000],\"sizemode\":\"area\",\"sizeref\":250.0,\"symbol\":\"circle\"},\"mode\":\"markers\",\"name\":\"Male\",\"orientation\":\"h\",\"showlegend\":true,\"x\":[34,42,48,32,55,42,35,30,45,52,48,55,58,42,42,42,24,45],\"xaxis\":\"x\",\"y\":[\"{'Timestamp': '2022-08-10 17:15:00'}\",\"{'Timestamp': '2022-09-12 16:35:00'}\",\"{'Timestamp': '2022-06-30 11:15:00'}\",\"{'Timestamp': '2022-05-12 16:15:00'}\",\"{'Timestamp': '2022-08-04 09:30:00'}\",\"{'Timestamp': '2022-10-07 14:45:00'}\",\"{'Timestamp': '2022-12-06 12:00:00'}\",\"{'Timestamp': '2023-01-11 08:45:00'}\",\"{'Timestamp': '2022-05-25T17:45:00Z'}\",\"{'Timestamp': '2022-05-22T10:30:00Z'}\",\"{'Timestamp': '2022-06-06T08:00:00Z'}\",\"{'Timestamp': '2022-05-28T15:15:00Z'}\",\"{'Timestamp': '2022-05-29T10:30:00Z'}\",\"{'Timestamp': '2022-05-26T11:15:00Z'}\",\"[{\\\"Product Category\\\": \\\"Electronics\\\", \\\"Timestamp\\\": \\\"2022-03-01T10:15:00Z\\\"}, {\\\"Product Category\\\": \\\"Clothing\\\", \\\"Timestamp\\\": \\\"2022-02-15T16:30:00Z\\\"}]\",\"[{\\\"Product Category\\\": \\\"Clothing\\\", \\\"Timestamp\\\": \\\"2022-07-10T09:15:32Z\\\"}, {\\\"Product Category\\\": \\\"Electronics\\\", \\\"Timestamp\\\": \\\"2022-06-25T14:46:01Z\\\"}]\",\"[{\\\"Product Category\\\": \\\"Clothing\\\", \\\"Timestamp\\\": \\\"2022-06-05T08:00:23Z\\\"}, {\\\"Product Category\\\": \\\"Electronics\\\", \\\"Timestamp\\\": \\\"2022-05-28T14:30:56Z\\\"}]\",\"[{\\\"Timestamp\\\": \\\"2022-08-12T16:00:00Z\\\"},{\\\"Timestamp\\\": \\\"2022-07-27T08:30:00Z\\\"},{\\\"Timestamp\\\": \\\"2022-06-03T11:00:00Z\\\"}]\"],\"yaxis\":\"y\",\"type\":\"scatter\"},{\"hovertemplate\":\"Gender=Other\\u003cbr\\u003eAge=%{x}\\u003cbr\\u003eBrowsing History=%{y}\\u003cbr\\u003eAnnual Income=%{marker.size}\\u003cextra\\u003e\\u003c\\u002fextra\\u003e\",\"legendgroup\":\"Other\",\"marker\":{\"color\":\"#00cc96\",\"size\":[90000,85000,40000,80000,50000,42000],\"sizemode\":\"area\",\"sizeref\":250.0,\"symbol\":\"circle\"},\"mode\":\"markers\",\"name\":\"Other\",\"orientation\":\"h\",\"showlegend\":true,\"x\":[56,51,25,60,35,29],\"xaxis\":\"x\",\"y\":[\"{'Timestamp': '2022-06-25 10:45:00'}\",\"{'Timestamp': '2022-06-28 09:00:00'}\",\"{'Timestamp': '2022-09-14 10:00:00'}\",\"{'Timestamp': '2022-06-03 10:45:00'}\",\"[{\\\"Product Category\\\": \\\"Home & Garden\\\", \\\"Timestamp\\\": \\\"2022-06-27T10:30:11Z\\\"}, {\\\"Product Category\\\": \\\"Electronics\\\", \\\"Timestamp\\\": \\\"2022-05-30T13:02:45Z\\\"}]\",\"[{\\\"Timestamp\\\": \\\"2022-08-13T13:45:00Z\\\"},{\\\"Timestamp\\\": \\\"2022-07-26T07:00:00Z\\\"},{\\\"Timestamp\\\": \\\"2022-06-02T15:30:00Z\\\"}]\"],\"yaxis\":\"y\",\"type\":\"scatter\"}],                        {\"template\":{\"data\":{\"histogram2dcontour\":[{\"type\":\"histogram2dcontour\",\"colorbar\":{\"outlinewidth\":0,\"ticks\":\"\"},\"colorscale\":[[0.0,\"#0d0887\"],[0.1111111111111111,\"#46039f\"],[0.2222222222222222,\"#7201a8\"],[0.3333333333333333,\"#9c179e\"],[0.4444444444444444,\"#bd3786\"],[0.5555555555555556,\"#d8576b\"],[0.6666666666666666,\"#ed7953\"],[0.7777777777777778,\"#fb9f3a\"],[0.8888888888888888,\"#fdca26\"],[1.0,\"#f0f921\"]]}],\"choropleth\":[{\"type\":\"choropleth\",\"colorbar\":{\"outlinewidth\":0,\"ticks\":\"\"}}],\"histogram2d\":[{\"type\":\"histogram2d\",\"colorbar\":{\"outlinewidth\":0,\"ticks\":\"\"},\"colorscale\":[[0.0,\"#0d0887\"],[0.1111111111111111,\"#46039f\"],[0.2222222222222222,\"#7201a8\"],[0.3333333333333333,\"#9c179e\"],[0.4444444444444444,\"#bd3786\"],[0.5555555555555556,\"#d8576b\"],[0.6666666666666666,\"#ed7953\"],[0.7777777777777778,\"#fb9f3a\"],[0.8888888888888888,\"#fdca26\"],[1.0,\"#f0f921\"]]}],\"heatmap\":[{\"type\":\"heatmap\",\"colorbar\":{\"outlinewidth\":0,\"ticks\":\"\"},\"colorscale\":[[0.0,\"#0d0887\"],[0.1111111111111111,\"#46039f\"],[0.2222222222222222,\"#7201a8\"],[0.3333333333333333,\"#9c179e\"],[0.4444444444444444,\"#bd3786\"],[0.5555555555555556,\"#d8576b\"],[0.6666666666666666,\"#ed7953\"],[0.7777777777777778,\"#fb9f3a\"],[0.8888888888888888,\"#fdca26\"],[1.0,\"#f0f921\"]]}],\"heatmapgl\":[{\"type\":\"heatmapgl\",\"colorbar\":{\"outlinewidth\":0,\"ticks\":\"\"},\"colorscale\":[[0.0,\"#0d0887\"],[0.1111111111111111,\"#46039f\"],[0.2222222222222222,\"#7201a8\"],[0.3333333333333333,\"#9c179e\"],[0.4444444444444444,\"#bd3786\"],[0.5555555555555556,\"#d8576b\"],[0.6666666666666666,\"#ed7953\"],[0.7777777777777778,\"#fb9f3a\"],[0.8888888888888888,\"#fdca26\"],[1.0,\"#f0f921\"]]}],\"contourcarpet\":[{\"type\":\"contourcarpet\",\"colorbar\":{\"outlinewidth\":0,\"ticks\":\"\"}}],\"contour\":[{\"type\":\"contour\",\"colorbar\":{\"outlinewidth\":0,\"ticks\":\"\"},\"colorscale\":[[0.0,\"#0d0887\"],[0.1111111111111111,\"#46039f\"],[0.2222222222222222,\"#7201a8\"],[0.3333333333333333,\"#9c179e\"],[0.4444444444444444,\"#bd3786\"],[0.5555555555555556,\"#d8576b\"],[0.6666666666666666,\"#ed7953\"],[0.7777777777777778,\"#fb9f3a\"],[0.8888888888888888,\"#fdca26\"],[1.0,\"#f0f921\"]]}],\"surface\":[{\"type\":\"surface\",\"colorbar\":{\"outlinewidth\":0,\"ticks\":\"\"},\"colorscale\":[[0.0,\"#0d0887\"],[0.1111111111111111,\"#46039f\"],[0.2222222222222222,\"#7201a8\"],[0.3333333333333333,\"#9c179e\"],[0.4444444444444444,\"#bd3786\"],[0.5555555555555556,\"#d8576b\"],[0.6666666666666666,\"#ed7953\"],[0.7777777777777778,\"#fb9f3a\"],[0.8888888888888888,\"#fdca26\"],[1.0,\"#f0f921\"]]}],\"mesh3d\":[{\"type\":\"mesh3d\",\"colorbar\":{\"outlinewidth\":0,\"ticks\":\"\"}}],\"scatter\":[{\"fillpattern\":{\"fillmode\":\"overlay\",\"size\":10,\"solidity\":0.2},\"type\":\"scatter\"}],\"parcoords\":[{\"type\":\"parcoords\",\"line\":{\"colorbar\":{\"outlinewidth\":0,\"ticks\":\"\"}}}],\"scatterpolargl\":[{\"type\":\"scatterpolargl\",\"marker\":{\"colorbar\":{\"outlinewidth\":0,\"ticks\":\"\"}}}],\"bar\":[{\"error_x\":{\"color\":\"#2a3f5f\"},\"error_y\":{\"color\":\"#2a3f5f\"},\"marker\":{\"line\":{\"color\":\"#E5ECF6\",\"width\":0.5},\"pattern\":{\"fillmode\":\"overlay\",\"size\":10,\"solidity\":0.2}},\"type\":\"bar\"}],\"scattergeo\":[{\"type\":\"scattergeo\",\"marker\":{\"colorbar\":{\"outlinewidth\":0,\"ticks\":\"\"}}}],\"scatterpolar\":[{\"type\":\"scatterpolar\",\"marker\":{\"colorbar\":{\"outlinewidth\":0,\"ticks\":\"\"}}}],\"histogram\":[{\"marker\":{\"pattern\":{\"fillmode\":\"overlay\",\"size\":10,\"solidity\":0.2}},\"type\":\"histogram\"}],\"scattergl\":[{\"type\":\"scattergl\",\"marker\":{\"colorbar\":{\"outlinewidth\":0,\"ticks\":\"\"}}}],\"scatter3d\":[{\"type\":\"scatter3d\",\"line\":{\"colorbar\":{\"outlinewidth\":0,\"ticks\":\"\"}},\"marker\":{\"colorbar\":{\"outlinewidth\":0,\"ticks\":\"\"}}}],\"scattermapbox\":[{\"type\":\"scattermapbox\",\"marker\":{\"colorbar\":{\"outlinewidth\":0,\"ticks\":\"\"}}}],\"scatterternary\":[{\"type\":\"scatterternary\",\"marker\":{\"colorbar\":{\"outlinewidth\":0,\"ticks\":\"\"}}}],\"scattercarpet\":[{\"type\":\"scattercarpet\",\"marker\":{\"colorbar\":{\"outlinewidth\":0,\"ticks\":\"\"}}}],\"carpet\":[{\"aaxis\":{\"endlinecolor\":\"#2a3f5f\",\"gridcolor\":\"white\",\"linecolor\":\"white\",\"minorgridcolor\":\"white\",\"startlinecolor\":\"#2a3f5f\"},\"baxis\":{\"endlinecolor\":\"#2a3f5f\",\"gridcolor\":\"white\",\"linecolor\":\"white\",\"minorgridcolor\":\"white\",\"startlinecolor\":\"#2a3f5f\"},\"type\":\"carpet\"}],\"table\":[{\"cells\":{\"fill\":{\"color\":\"#EBF0F8\"},\"line\":{\"color\":\"white\"}},\"header\":{\"fill\":{\"color\":\"#C8D4E3\"},\"line\":{\"color\":\"white\"}},\"type\":\"table\"}],\"barpolar\":[{\"marker\":{\"line\":{\"color\":\"#E5ECF6\",\"width\":0.5},\"pattern\":{\"fillmode\":\"overlay\",\"size\":10,\"solidity\":0.2}},\"type\":\"barpolar\"}],\"pie\":[{\"automargin\":true,\"type\":\"pie\"}]},\"layout\":{\"autotypenumbers\":\"strict\",\"colorway\":[\"#636efa\",\"#EF553B\",\"#00cc96\",\"#ab63fa\",\"#FFA15A\",\"#19d3f3\",\"#FF6692\",\"#B6E880\",\"#FF97FF\",\"#FECB52\"],\"font\":{\"color\":\"#2a3f5f\"},\"hovermode\":\"closest\",\"hoverlabel\":{\"align\":\"left\"},\"paper_bgcolor\":\"white\",\"plot_bgcolor\":\"#E5ECF6\",\"polar\":{\"bgcolor\":\"#E5ECF6\",\"angularaxis\":{\"gridcolor\":\"white\",\"linecolor\":\"white\",\"ticks\":\"\"},\"radialaxis\":{\"gridcolor\":\"white\",\"linecolor\":\"white\",\"ticks\":\"\"}},\"ternary\":{\"bgcolor\":\"#E5ECF6\",\"aaxis\":{\"gridcolor\":\"white\",\"linecolor\":\"white\",\"ticks\":\"\"},\"baxis\":{\"gridcolor\":\"white\",\"linecolor\":\"white\",\"ticks\":\"\"},\"caxis\":{\"gridcolor\":\"white\",\"linecolor\":\"white\",\"ticks\":\"\"}},\"coloraxis\":{\"colorbar\":{\"outlinewidth\":0,\"ticks\":\"\"}},\"colorscale\":{\"sequential\":[[0.0,\"#0d0887\"],[0.1111111111111111,\"#46039f\"],[0.2222222222222222,\"#7201a8\"],[0.3333333333333333,\"#9c179e\"],[0.4444444444444444,\"#bd3786\"],[0.5555555555555556,\"#d8576b\"],[0.6666666666666666,\"#ed7953\"],[0.7777777777777778,\"#fb9f3a\"],[0.8888888888888888,\"#fdca26\"],[1.0,\"#f0f921\"]],\"sequentialminus\":[[0.0,\"#0d0887\"],[0.1111111111111111,\"#46039f\"],[0.2222222222222222,\"#7201a8\"],[0.3333333333333333,\"#9c179e\"],[0.4444444444444444,\"#bd3786\"],[0.5555555555555556,\"#d8576b\"],[0.6666666666666666,\"#ed7953\"],[0.7777777777777778,\"#fb9f3a\"],[0.8888888888888888,\"#fdca26\"],[1.0,\"#f0f921\"]],\"diverging\":[[0,\"#8e0152\"],[0.1,\"#c51b7d\"],[0.2,\"#de77ae\"],[0.3,\"#f1b6da\"],[0.4,\"#fde0ef\"],[0.5,\"#f7f7f7\"],[0.6,\"#e6f5d0\"],[0.7,\"#b8e186\"],[0.8,\"#7fbc41\"],[0.9,\"#4d9221\"],[1,\"#276419\"]]},\"xaxis\":{\"gridcolor\":\"white\",\"linecolor\":\"white\",\"ticks\":\"\",\"title\":{\"standoff\":15},\"zerolinecolor\":\"white\",\"automargin\":true,\"zerolinewidth\":2},\"yaxis\":{\"gridcolor\":\"white\",\"linecolor\":\"white\",\"ticks\":\"\",\"title\":{\"standoff\":15},\"zerolinecolor\":\"white\",\"automargin\":true,\"zerolinewidth\":2},\"scene\":{\"xaxis\":{\"backgroundcolor\":\"#E5ECF6\",\"gridcolor\":\"white\",\"linecolor\":\"white\",\"showbackground\":true,\"ticks\":\"\",\"zerolinecolor\":\"white\",\"gridwidth\":2},\"yaxis\":{\"backgroundcolor\":\"#E5ECF6\",\"gridcolor\":\"white\",\"linecolor\":\"white\",\"showbackground\":true,\"ticks\":\"\",\"zerolinecolor\":\"white\",\"gridwidth\":2},\"zaxis\":{\"backgroundcolor\":\"#E5ECF6\",\"gridcolor\":\"white\",\"linecolor\":\"white\",\"showbackground\":true,\"ticks\":\"\",\"zerolinecolor\":\"white\",\"gridwidth\":2}},\"shapedefaults\":{\"line\":{\"color\":\"#2a3f5f\"}},\"annotationdefaults\":{\"arrowcolor\":\"#2a3f5f\",\"arrowhead\":0,\"arrowwidth\":1},\"geo\":{\"bgcolor\":\"white\",\"landcolor\":\"#E5ECF6\",\"subunitcolor\":\"white\",\"showland\":true,\"showlakes\":true,\"lakecolor\":\"white\"},\"title\":{\"x\":0.05},\"mapbox\":{\"style\":\"light\"}}},\"xaxis\":{\"anchor\":\"y\",\"domain\":[0.0,1.0],\"title\":{\"text\":\"Age\"}},\"yaxis\":{\"anchor\":\"x\",\"domain\":[0.0,1.0],\"title\":{\"text\":\"Browsing History\"}},\"legend\":{\"title\":{\"text\":\"Gender\"},\"tracegroupgap\":0,\"itemsizing\":\"constant\"},\"title\":{\"text\":\"Age vs Browsing History with Annual Income as Bubble Size\"},\"width\":1700},                        {\"responsive\": true}                    ).then(function(){\n",
              "                            \n",
              "var gd = document.getElementById('732a652d-61fd-45f6-8b3f-ebd306d082f1');\n",
              "var x = new MutationObserver(function (mutations, observer) {{\n",
              "        var display = window.getComputedStyle(gd).display;\n",
              "        if (!display || display === 'none') {{\n",
              "            console.log([gd, 'removed!']);\n",
              "            Plotly.purge(gd);\n",
              "            observer.disconnect();\n",
              "        }}\n",
              "}});\n",
              "\n",
              "// Listen for the removal of the full notebook cells\n",
              "var notebookContainer = gd.closest('#notebook-container');\n",
              "if (notebookContainer) {{\n",
              "    x.observe(notebookContainer, {childList: true});\n",
              "}}\n",
              "\n",
              "// Listen for the clearing of the current output cell\n",
              "var outputEl = gd.closest('.output');\n",
              "if (outputEl) {{\n",
              "    x.observe(outputEl, {childList: true});\n",
              "}}\n",
              "\n",
              "                        })                };                            </script>        </div>\n",
              "</body>\n",
              "</html>"
            ]
          },
          "metadata": {}
        }
      ]
    },
    {
      "cell_type": "markdown",
      "source": [
        "**Analysis of Browsing History, Product Reviews, and Time on Site**"
      ],
      "metadata": {
        "id": "b4YWHpDliy2v"
      }
    },
    {
      "cell_type": "code",
      "source": [
        "fig = px.scatter(df_no_outliers, x='Browsing History', y='Product Reviews', size='Time on Site', color='Gender',\n",
        "                 title='Browsing History vs Product Reviews with Time on Site as Bubble Size, by Gender', height=1500, width=1700)\n",
        "fig.show()"
      ],
      "metadata": {
        "execution": {
          "iopub.status.busy": "2024-09-19T09:54:02.333973Z",
          "iopub.execute_input": "2024-09-19T09:54:02.334474Z",
          "iopub.status.idle": "2024-09-19T09:54:02.428094Z",
          "shell.execute_reply.started": "2024-09-19T09:54:02.334414Z",
          "shell.execute_reply": "2024-09-19T09:54:02.426833Z"
        },
        "trusted": true,
        "id": "tqLgWq5Fiy2w",
        "outputId": "11831148-146a-44d5-e72c-d912f28349ac",
        "colab": {
          "base_uri": "https://localhost:8080/",
          "height": 1000
        }
      },
      "execution_count": 33,
      "outputs": [
        {
          "output_type": "display_data",
          "data": {
            "text/html": [
              "<html>\n",
              "<head><meta charset=\"utf-8\" /></head>\n",
              "<body>\n",
              "    <div>            <script src=\"https://cdnjs.cloudflare.com/ajax/libs/mathjax/2.7.5/MathJax.js?config=TeX-AMS-MML_SVG\"></script><script type=\"text/javascript\">if (window.MathJax && window.MathJax.Hub && window.MathJax.Hub.Config) {window.MathJax.Hub.Config({SVG: {font: \"STIX-Web\"}});}</script>                <script type=\"text/javascript\">window.PlotlyConfig = {MathJaxConfig: 'local'};</script>\n",
              "        <script charset=\"utf-8\" src=\"https://cdn.plot.ly/plotly-2.35.2.min.js\"></script>                <div id=\"86239b56-8c66-47c8-9d82-7c44faa6e4eb\" class=\"plotly-graph-div\" style=\"height:1500px; width:1700px;\"></div>            <script type=\"text/javascript\">                                    window.PLOTLYENV=window.PLOTLYENV || {};                                    if (document.getElementById(\"86239b56-8c66-47c8-9d82-7c44faa6e4eb\")) {                    Plotly.newPlot(                        \"86239b56-8c66-47c8-9d82-7c44faa6e4eb\",                        [{\"hovertemplate\":\"Gender=Female\\u003cbr\\u003eBrowsing History=%{x}\\u003cbr\\u003eProduct Reviews=%{y}\\u003cbr\\u003eTime on Site=%{marker.size}\\u003cextra\\u003e\\u003c\\u002fextra\\u003e\",\"legendgroup\":\"Female\",\"marker\":{\"color\":\"#636efa\",\"size\":[32.5,123.45,125.6,327.6,378.5,334.9,120.0,150.0,250.0,280.0,200.0,240.0,120.5,120.0,250.0,200.0,300.0,250.0,200.0,250.0,72.3,123.6,75.2,120.5,300.0,120.0],\"sizemode\":\"area\",\"sizeref\":1.21575,\"symbol\":\"circle\"},\"mode\":\"markers\",\"name\":\"Female\",\"orientation\":\"v\",\"showlegend\":true,\"x\":[\"[{\\\"Timestamp\\\": \\\"2022-03-10T14:30:00Z\\\"}, {\\\"Timestamp\\\": \\\"2022-03-11T09:45:00Z\\\"}, {\\\"Timestamp\\\": \\\"2022-03-12T16:20:00Z\\\"}]\",\"[{\\\"Product Category\\\": \\\"Home & Garden\\\", \\\"Timestamp\\\": \\\"2022-05-12T13:30:00Z\\\"}, {\\\"Product Category\\\": \\\"Electronics\\\", \\\"Timestamp\\\": \\\"2022-06-05T08:45:00Z\\\"}]\",\"[{\\\"Product Category\\\": \\\"Clothing\\\", \\\"Timestamp\\\": \\\"2022-09-03 15:30:00\\\"}, {\\\"Product Category\\\": \\\"Electronics\\\", \\\"Timestamp\\\": \\\"2022-09-01 10:15:00\\\"}]\",\"{'Timestamp': '2022-09-03 14:30:00'}\",\"{'Timestamp': '2022-08-15 13:20:00'}\",\"{'Timestamp': '2022-08-17 14:50:00'}\",\"{'Timestamp': '2022-03-06 14:30:00'}\",\"{'Timestamp': '2022-07-08 13:00:00'}\",\"{'Timestamp': '2022-09-02 11:15:00'}\",\"{'Timestamp': '2022-11-02 10:30:00'}\",\"{'Timestamp': '2022-12-21 15:30:00'}\",\"{'Timestamp': '2023-02-06 13:15:00'}\",\"[{\\\"Timestamp\\\": \\\"2022-08-20T14:30:00Z\\\"}, {\\\"Timestamp\\\": \\\"2022-08-22T16:45:00Z\\\"}, {\\\"Timestamp\\\": \\\"2022-09-03T10:20:00Z\\\"}]\",\"{'Timestamp': '2022-04-20T14:30:00Z'}\",\"{'Timestamp': '2022-06-01T09:15:00Z'}\",\"{'Timestamp': '2022-05-30T13:45:00Z'}\",\"{'Timestamp': '2022-06-15T11:30:00Z'}\",\"{'Timestamp': '2022-05-31T16:45:00Z'}\",\"{'Timestamp': '2022-06-13T13:00:00Z'}\",\"{'Timestamp': '2022-06-08T14:30:00Z'}\",\"[{\\\"Product Category\\\": \\\"Home & Garden\\\", \\\"Timestamp\\\": \\\"2022-09-01T14:30:00Z\\\"}, {\\\"Product Category\\\": \\\"Clothing\\\", \\\"Timestamp\\\": \\\"2022-08-25T12:15:00Z\\\"}]\",\"[{\\\"Product Category\\\": \\\"Home & Garden\\\", \\\"Timestamp\\\": \\\"2022-04-03T15:30:00Z\\\"}, {\\\"Product Category\\\": \\\"Electronics\\\", \\\"Timestamp\\\": \\\"2022-03-28T08:45:00Z\\\"}]\",\"[{\\\"Product Category\\\": \\\"Home & Garden\\\", \\\"Timestamp\\\": \\\"2022-02-20T12:34:56Z\\\"}]\",\"[{\\\"Product Category\\\": \\\"Home & Garden\\\", \\\"Timestamp\\\": \\\"2022-06-15T12:34:56Z\\\"}, {\\\"Product Category\\\": \\\"Electronics\\\", \\\"Timestamp\\\": \\\"2022-05-20T16:17:23Z\\\"}]\",\"[{\\\"Product Category\\\": \\\"Electronics\\\", \\\"Timestamp\\\": \\\"2022-07-12T11:45:06Z\\\"}, {\\\"Product Category\\\": \\\"Clothing\\\", \\\"Timestamp\\\": \\\"2022-06-30T16:23:30Z\\\"}]\",\"[{\\\"Timestamp\\\": \\\"2022-08-14T09:30:00Z\\\"},{\\\"Timestamp\\\": \\\"2022-07-25T14:15:00Z\\\"},{\\\"Timestamp\\\": \\\"2022-06-01T10:45:00Z\\\"}]\"],\"xaxis\":\"x\",\"y\":[\"Great pair of jeans, very comfortable. Rating: 4 stars.\",\"Great customer service!\",\"Great electronics. The sound quality is excellent. I would highly recommend this product.\",\"{\\\"Product 1\\\": {\\\"Rating\\\": 4, \\\"Review\\\": \\\"Great experience buying this product. Fast delivery and excellent customer service.\\\"}}\",\"{\\\"Product 1\\\": {\\\"Rating\\\": 4, \\\"Review\\\": \\\"Great product, will definitely buy again.\\\"}}\",\"{\\\"Product 1\\\": {\\\"Rating\\\": 4, \\\"Review\\\": \\\"Good product, but could have been better.\\\"}}\",\"{\\\"Review Text\\\": \\\"Great quality clothes!\\\", \\\"Rating\\\": 5}\",\"{\\\"Review Text\\\": \\\"Not what I expected.\\\", \\\"Rating\\\": 2}\",\"{\\\"Review Text\\\": \\\"Awesome purchase!\\\", \\\"Rating\\\": 5}\",\"{\\\"Review Text\\\": \\\"Great product, highly recommend!\\\", \\\"Rating\\\": 5}\",\"{\\\"Review Text\\\": \\\"Excellent product, highly recommend!\\\", \\\"Rating\\\": 5}\",\"{\\\"Review Text\\\": \\\"Excellent product, highly recommend!\\\", \\\"Rating\\\": 5}\",\"This dress is amazing! I love the color and fit. 5 stars.\",\"The blouse is so comfortable and stylish. 5 stars!\",\"The dress fits perfectly. I love it. 5 stars!\",\"The top is nice, but the size is a bit small. 3.5 stars.\",\"The shirt is comfortable. 4 stars.\",\"The shoes are comfortable. 4.5 stars.\",\"The skirt is lovely. 4.5 stars.\",\"The bedding is comfortable. 4 stars.\",\"Great find! 5 stars\",\"Great product, very happy with my purchase.\",\"Great headphones, sound quality is amazing.\",\"Great purchase! The shoes are so comfortable and stylish. I've received several compliments.\",\"I love my new kitchen gadget! It's so efficient and easy to use.\",\"The clothing arrived quickly and fits great! 5 stars.\"],\"yaxis\":\"y\",\"type\":\"scatter\"},{\"hovertemplate\":\"Gender=Male\\u003cbr\\u003eBrowsing History=%{x}\\u003cbr\\u003eProduct Reviews=%{y}\\u003cbr\\u003eTime on Site=%{marker.size}\\u003cextra\\u003e\\u003c\\u002fextra\\u003e\",\"legendgroup\":\"Male\",\"marker\":{\"color\":\"#EF553B\",\"size\":[214.9,289.8,298.6,75.0,300.0,180.0,220.0,160.0,300.0,350.0,400.0,450.0,350.0,300.0,246.9,250.0,100.0,350.0],\"sizemode\":\"area\",\"sizeref\":1.21575,\"symbol\":\"circle\"},\"mode\":\"markers\",\"name\":\"Male\",\"orientation\":\"v\",\"showlegend\":true,\"x\":[\"{'Timestamp': '2022-08-10 17:15:00'}\",\"{'Timestamp': '2022-09-12 16:35:00'}\",\"{'Timestamp': '2022-06-30 11:15:00'}\",\"{'Timestamp': '2022-05-12 16:15:00'}\",\"{'Timestamp': '2022-08-04 09:30:00'}\",\"{'Timestamp': '2022-10-07 14:45:00'}\",\"{'Timestamp': '2022-12-06 12:00:00'}\",\"{'Timestamp': '2023-01-11 08:45:00'}\",\"{'Timestamp': '2022-05-25T17:45:00Z'}\",\"{'Timestamp': '2022-05-22T10:30:00Z'}\",\"{'Timestamp': '2022-06-06T08:00:00Z'}\",\"{'Timestamp': '2022-05-28T15:15:00Z'}\",\"{'Timestamp': '2022-05-29T10:30:00Z'}\",\"{'Timestamp': '2022-05-26T11:15:00Z'}\",\"[{\\\"Product Category\\\": \\\"Electronics\\\", \\\"Timestamp\\\": \\\"2022-03-01T10:15:00Z\\\"}, {\\\"Product Category\\\": \\\"Clothing\\\", \\\"Timestamp\\\": \\\"2022-02-15T16:30:00Z\\\"}]\",\"[{\\\"Product Category\\\": \\\"Clothing\\\", \\\"Timestamp\\\": \\\"2022-07-10T09:15:32Z\\\"}, {\\\"Product Category\\\": \\\"Electronics\\\", \\\"Timestamp\\\": \\\"2022-06-25T14:46:01Z\\\"}]\",\"[{\\\"Product Category\\\": \\\"Clothing\\\", \\\"Timestamp\\\": \\\"2022-06-05T08:00:23Z\\\"}, {\\\"Product Category\\\": \\\"Electronics\\\", \\\"Timestamp\\\": \\\"2022-05-28T14:30:56Z\\\"}]\",\"[{\\\"Timestamp\\\": \\\"2022-08-12T16:00:00Z\\\"},{\\\"Timestamp\\\": \\\"2022-07-27T08:30:00Z\\\"},{\\\"Timestamp\\\": \\\"2022-06-03T11:00:00Z\\\"}]\"],\"xaxis\":\"x\",\"y\":[\"{\\\"Product 1\\\": {\\\"Rating\\\": 3, \\\"Review\\\": \\\"Good product, but could have been better.\\\"}}\",\"{\\\"Product 1\\\": {\\\"Rating\\\": 3, \\\"Review\\\": \\\"Good product, but not worth the price.\\\"}}\",\"{\\\"Product 1\\\": {\\\"Rating\\\": 3, \\\"Review\\\": \\\"Good product, but not what I expected.\\\"}}\",\"{\\\"Review Text\\\": \\\"Good product, but could be cheaper.\\\", \\\"Rating\\\": 3}\",\"{\\\"Review Text\\\": \\\"Excellent product, highly recommend!\\\", \\\"Rating\\\": 5}\",\"{\\\"Review Text\\\": \\\"Good product, but not worth the price.\\\", \\\"Rating\\\": 3}\",\"{\\\"Review Text\\\": \\\"Satisfied with my purchase!\\\", \\\"Rating\\\": 4}\",\"{\\\"Review Text\\\": \\\"Good product, but could be better.\\\", \\\"Rating\\\": 3}\",\"The headphones are great. Sound quality is excellent. 4.5 stars.\",\"The vacuum cleaner works great. 4 stars.\",\"The phone is fantastic. 5 stars!\",\"The laptop is excellent. 5 stars!\",\"The coffee maker is great. 5 stars!\",\"The TV is amazing. 5 stars!\",\"The product arrived quickly and in great condition.\",\"I'm really happy with my new phone. The battery life is impressive.\",\"The laptop is perfect for my needs. It's lightweight and powerful.\",\"The electronics were excellent quality and arrived promptly. 5 stars.\"],\"yaxis\":\"y\",\"type\":\"scatter\"},{\"hovertemplate\":\"Gender=Other\\u003cbr\\u003eBrowsing History=%{x}\\u003cbr\\u003eProduct Reviews=%{y}\\u003cbr\\u003eTime on Site=%{marker.size}\\u003cextra\\u003e\\u003c\\u002fextra\\u003e\",\"legendgroup\":\"Other\",\"marker\":{\"color\":\"#00cc96\",\"size\":[486.3,456.2,312.5,200.0,75.0,200.0],\"sizemode\":\"area\",\"sizeref\":1.21575,\"symbol\":\"circle\"},\"mode\":\"markers\",\"name\":\"Other\",\"orientation\":\"v\",\"showlegend\":true,\"x\":[\"{'Timestamp': '2022-06-25 10:45:00'}\",\"{'Timestamp': '2022-06-28 09:00:00'}\",\"{'Timestamp': '2022-09-14 10:00:00'}\",\"{'Timestamp': '2022-06-03 10:45:00'}\",\"[{\\\"Product Category\\\": \\\"Home & Garden\\\", \\\"Timestamp\\\": \\\"2022-06-27T10:30:11Z\\\"}, {\\\"Product Category\\\": \\\"Electronics\\\", \\\"Timestamp\\\": \\\"2022-05-30T13:02:45Z\\\"}]\",\"[{\\\"Timestamp\\\": \\\"2022-08-13T13:45:00Z\\\"},{\\\"Timestamp\\\": \\\"2022-07-26T07:00:00Z\\\"},{\\\"Timestamp\\\": \\\"2022-06-02T15:30:00Z\\\"}]\"],\"xaxis\":\"x\",\"y\":[\"{\\\"Product 1\\\": {\\\"Rating\\\": 5, \\\"Review\\\": \\\"Awesome product, highly recommend it to everyone.\\\"}}\",\"{\\\"Product 1\\\": {\\\"Rating\\\": 5, \\\"Review\\\": \\\"Outstanding product, exceeded my expectations.\\\"}}\",\"{\\\"Product 1\\\": {\\\"Rating\\\": 4, \\\"Review\\\": \\\"Great product, will definitely buy again.\\\"}}\",\"{\\\"Review Text\\\": \\\"Very satisfied with my purchase!\\\", \\\"Rating\\\": 5}\",\"The headphones are amazing! The sound quality is excellent.\",\"The electronics were as described and arrived on time. 4 stars.\"],\"yaxis\":\"y\",\"type\":\"scatter\"}],                        {\"template\":{\"data\":{\"histogram2dcontour\":[{\"type\":\"histogram2dcontour\",\"colorbar\":{\"outlinewidth\":0,\"ticks\":\"\"},\"colorscale\":[[0.0,\"#0d0887\"],[0.1111111111111111,\"#46039f\"],[0.2222222222222222,\"#7201a8\"],[0.3333333333333333,\"#9c179e\"],[0.4444444444444444,\"#bd3786\"],[0.5555555555555556,\"#d8576b\"],[0.6666666666666666,\"#ed7953\"],[0.7777777777777778,\"#fb9f3a\"],[0.8888888888888888,\"#fdca26\"],[1.0,\"#f0f921\"]]}],\"choropleth\":[{\"type\":\"choropleth\",\"colorbar\":{\"outlinewidth\":0,\"ticks\":\"\"}}],\"histogram2d\":[{\"type\":\"histogram2d\",\"colorbar\":{\"outlinewidth\":0,\"ticks\":\"\"},\"colorscale\":[[0.0,\"#0d0887\"],[0.1111111111111111,\"#46039f\"],[0.2222222222222222,\"#7201a8\"],[0.3333333333333333,\"#9c179e\"],[0.4444444444444444,\"#bd3786\"],[0.5555555555555556,\"#d8576b\"],[0.6666666666666666,\"#ed7953\"],[0.7777777777777778,\"#fb9f3a\"],[0.8888888888888888,\"#fdca26\"],[1.0,\"#f0f921\"]]}],\"heatmap\":[{\"type\":\"heatmap\",\"colorbar\":{\"outlinewidth\":0,\"ticks\":\"\"},\"colorscale\":[[0.0,\"#0d0887\"],[0.1111111111111111,\"#46039f\"],[0.2222222222222222,\"#7201a8\"],[0.3333333333333333,\"#9c179e\"],[0.4444444444444444,\"#bd3786\"],[0.5555555555555556,\"#d8576b\"],[0.6666666666666666,\"#ed7953\"],[0.7777777777777778,\"#fb9f3a\"],[0.8888888888888888,\"#fdca26\"],[1.0,\"#f0f921\"]]}],\"heatmapgl\":[{\"type\":\"heatmapgl\",\"colorbar\":{\"outlinewidth\":0,\"ticks\":\"\"},\"colorscale\":[[0.0,\"#0d0887\"],[0.1111111111111111,\"#46039f\"],[0.2222222222222222,\"#7201a8\"],[0.3333333333333333,\"#9c179e\"],[0.4444444444444444,\"#bd3786\"],[0.5555555555555556,\"#d8576b\"],[0.6666666666666666,\"#ed7953\"],[0.7777777777777778,\"#fb9f3a\"],[0.8888888888888888,\"#fdca26\"],[1.0,\"#f0f921\"]]}],\"contourcarpet\":[{\"type\":\"contourcarpet\",\"colorbar\":{\"outlinewidth\":0,\"ticks\":\"\"}}],\"contour\":[{\"type\":\"contour\",\"colorbar\":{\"outlinewidth\":0,\"ticks\":\"\"},\"colorscale\":[[0.0,\"#0d0887\"],[0.1111111111111111,\"#46039f\"],[0.2222222222222222,\"#7201a8\"],[0.3333333333333333,\"#9c179e\"],[0.4444444444444444,\"#bd3786\"],[0.5555555555555556,\"#d8576b\"],[0.6666666666666666,\"#ed7953\"],[0.7777777777777778,\"#fb9f3a\"],[0.8888888888888888,\"#fdca26\"],[1.0,\"#f0f921\"]]}],\"surface\":[{\"type\":\"surface\",\"colorbar\":{\"outlinewidth\":0,\"ticks\":\"\"},\"colorscale\":[[0.0,\"#0d0887\"],[0.1111111111111111,\"#46039f\"],[0.2222222222222222,\"#7201a8\"],[0.3333333333333333,\"#9c179e\"],[0.4444444444444444,\"#bd3786\"],[0.5555555555555556,\"#d8576b\"],[0.6666666666666666,\"#ed7953\"],[0.7777777777777778,\"#fb9f3a\"],[0.8888888888888888,\"#fdca26\"],[1.0,\"#f0f921\"]]}],\"mesh3d\":[{\"type\":\"mesh3d\",\"colorbar\":{\"outlinewidth\":0,\"ticks\":\"\"}}],\"scatter\":[{\"fillpattern\":{\"fillmode\":\"overlay\",\"size\":10,\"solidity\":0.2},\"type\":\"scatter\"}],\"parcoords\":[{\"type\":\"parcoords\",\"line\":{\"colorbar\":{\"outlinewidth\":0,\"ticks\":\"\"}}}],\"scatterpolargl\":[{\"type\":\"scatterpolargl\",\"marker\":{\"colorbar\":{\"outlinewidth\":0,\"ticks\":\"\"}}}],\"bar\":[{\"error_x\":{\"color\":\"#2a3f5f\"},\"error_y\":{\"color\":\"#2a3f5f\"},\"marker\":{\"line\":{\"color\":\"#E5ECF6\",\"width\":0.5},\"pattern\":{\"fillmode\":\"overlay\",\"size\":10,\"solidity\":0.2}},\"type\":\"bar\"}],\"scattergeo\":[{\"type\":\"scattergeo\",\"marker\":{\"colorbar\":{\"outlinewidth\":0,\"ticks\":\"\"}}}],\"scatterpolar\":[{\"type\":\"scatterpolar\",\"marker\":{\"colorbar\":{\"outlinewidth\":0,\"ticks\":\"\"}}}],\"histogram\":[{\"marker\":{\"pattern\":{\"fillmode\":\"overlay\",\"size\":10,\"solidity\":0.2}},\"type\":\"histogram\"}],\"scattergl\":[{\"type\":\"scattergl\",\"marker\":{\"colorbar\":{\"outlinewidth\":0,\"ticks\":\"\"}}}],\"scatter3d\":[{\"type\":\"scatter3d\",\"line\":{\"colorbar\":{\"outlinewidth\":0,\"ticks\":\"\"}},\"marker\":{\"colorbar\":{\"outlinewidth\":0,\"ticks\":\"\"}}}],\"scattermapbox\":[{\"type\":\"scattermapbox\",\"marker\":{\"colorbar\":{\"outlinewidth\":0,\"ticks\":\"\"}}}],\"scatterternary\":[{\"type\":\"scatterternary\",\"marker\":{\"colorbar\":{\"outlinewidth\":0,\"ticks\":\"\"}}}],\"scattercarpet\":[{\"type\":\"scattercarpet\",\"marker\":{\"colorbar\":{\"outlinewidth\":0,\"ticks\":\"\"}}}],\"carpet\":[{\"aaxis\":{\"endlinecolor\":\"#2a3f5f\",\"gridcolor\":\"white\",\"linecolor\":\"white\",\"minorgridcolor\":\"white\",\"startlinecolor\":\"#2a3f5f\"},\"baxis\":{\"endlinecolor\":\"#2a3f5f\",\"gridcolor\":\"white\",\"linecolor\":\"white\",\"minorgridcolor\":\"white\",\"startlinecolor\":\"#2a3f5f\"},\"type\":\"carpet\"}],\"table\":[{\"cells\":{\"fill\":{\"color\":\"#EBF0F8\"},\"line\":{\"color\":\"white\"}},\"header\":{\"fill\":{\"color\":\"#C8D4E3\"},\"line\":{\"color\":\"white\"}},\"type\":\"table\"}],\"barpolar\":[{\"marker\":{\"line\":{\"color\":\"#E5ECF6\",\"width\":0.5},\"pattern\":{\"fillmode\":\"overlay\",\"size\":10,\"solidity\":0.2}},\"type\":\"barpolar\"}],\"pie\":[{\"automargin\":true,\"type\":\"pie\"}]},\"layout\":{\"autotypenumbers\":\"strict\",\"colorway\":[\"#636efa\",\"#EF553B\",\"#00cc96\",\"#ab63fa\",\"#FFA15A\",\"#19d3f3\",\"#FF6692\",\"#B6E880\",\"#FF97FF\",\"#FECB52\"],\"font\":{\"color\":\"#2a3f5f\"},\"hovermode\":\"closest\",\"hoverlabel\":{\"align\":\"left\"},\"paper_bgcolor\":\"white\",\"plot_bgcolor\":\"#E5ECF6\",\"polar\":{\"bgcolor\":\"#E5ECF6\",\"angularaxis\":{\"gridcolor\":\"white\",\"linecolor\":\"white\",\"ticks\":\"\"},\"radialaxis\":{\"gridcolor\":\"white\",\"linecolor\":\"white\",\"ticks\":\"\"}},\"ternary\":{\"bgcolor\":\"#E5ECF6\",\"aaxis\":{\"gridcolor\":\"white\",\"linecolor\":\"white\",\"ticks\":\"\"},\"baxis\":{\"gridcolor\":\"white\",\"linecolor\":\"white\",\"ticks\":\"\"},\"caxis\":{\"gridcolor\":\"white\",\"linecolor\":\"white\",\"ticks\":\"\"}},\"coloraxis\":{\"colorbar\":{\"outlinewidth\":0,\"ticks\":\"\"}},\"colorscale\":{\"sequential\":[[0.0,\"#0d0887\"],[0.1111111111111111,\"#46039f\"],[0.2222222222222222,\"#7201a8\"],[0.3333333333333333,\"#9c179e\"],[0.4444444444444444,\"#bd3786\"],[0.5555555555555556,\"#d8576b\"],[0.6666666666666666,\"#ed7953\"],[0.7777777777777778,\"#fb9f3a\"],[0.8888888888888888,\"#fdca26\"],[1.0,\"#f0f921\"]],\"sequentialminus\":[[0.0,\"#0d0887\"],[0.1111111111111111,\"#46039f\"],[0.2222222222222222,\"#7201a8\"],[0.3333333333333333,\"#9c179e\"],[0.4444444444444444,\"#bd3786\"],[0.5555555555555556,\"#d8576b\"],[0.6666666666666666,\"#ed7953\"],[0.7777777777777778,\"#fb9f3a\"],[0.8888888888888888,\"#fdca26\"],[1.0,\"#f0f921\"]],\"diverging\":[[0,\"#8e0152\"],[0.1,\"#c51b7d\"],[0.2,\"#de77ae\"],[0.3,\"#f1b6da\"],[0.4,\"#fde0ef\"],[0.5,\"#f7f7f7\"],[0.6,\"#e6f5d0\"],[0.7,\"#b8e186\"],[0.8,\"#7fbc41\"],[0.9,\"#4d9221\"],[1,\"#276419\"]]},\"xaxis\":{\"gridcolor\":\"white\",\"linecolor\":\"white\",\"ticks\":\"\",\"title\":{\"standoff\":15},\"zerolinecolor\":\"white\",\"automargin\":true,\"zerolinewidth\":2},\"yaxis\":{\"gridcolor\":\"white\",\"linecolor\":\"white\",\"ticks\":\"\",\"title\":{\"standoff\":15},\"zerolinecolor\":\"white\",\"automargin\":true,\"zerolinewidth\":2},\"scene\":{\"xaxis\":{\"backgroundcolor\":\"#E5ECF6\",\"gridcolor\":\"white\",\"linecolor\":\"white\",\"showbackground\":true,\"ticks\":\"\",\"zerolinecolor\":\"white\",\"gridwidth\":2},\"yaxis\":{\"backgroundcolor\":\"#E5ECF6\",\"gridcolor\":\"white\",\"linecolor\":\"white\",\"showbackground\":true,\"ticks\":\"\",\"zerolinecolor\":\"white\",\"gridwidth\":2},\"zaxis\":{\"backgroundcolor\":\"#E5ECF6\",\"gridcolor\":\"white\",\"linecolor\":\"white\",\"showbackground\":true,\"ticks\":\"\",\"zerolinecolor\":\"white\",\"gridwidth\":2}},\"shapedefaults\":{\"line\":{\"color\":\"#2a3f5f\"}},\"annotationdefaults\":{\"arrowcolor\":\"#2a3f5f\",\"arrowhead\":0,\"arrowwidth\":1},\"geo\":{\"bgcolor\":\"white\",\"landcolor\":\"#E5ECF6\",\"subunitcolor\":\"white\",\"showland\":true,\"showlakes\":true,\"lakecolor\":\"white\"},\"title\":{\"x\":0.05},\"mapbox\":{\"style\":\"light\"}}},\"xaxis\":{\"anchor\":\"y\",\"domain\":[0.0,1.0],\"title\":{\"text\":\"Browsing History\"}},\"yaxis\":{\"anchor\":\"x\",\"domain\":[0.0,1.0],\"title\":{\"text\":\"Product Reviews\"}},\"legend\":{\"title\":{\"text\":\"Gender\"},\"tracegroupgap\":0,\"itemsizing\":\"constant\"},\"title\":{\"text\":\"Browsing History vs Product Reviews with Time on Site as Bubble Size, by Gender\"},\"height\":1500,\"width\":1700},                        {\"responsive\": true}                    ).then(function(){\n",
              "                            \n",
              "var gd = document.getElementById('86239b56-8c66-47c8-9d82-7c44faa6e4eb');\n",
              "var x = new MutationObserver(function (mutations, observer) {{\n",
              "        var display = window.getComputedStyle(gd).display;\n",
              "        if (!display || display === 'none') {{\n",
              "            console.log([gd, 'removed!']);\n",
              "            Plotly.purge(gd);\n",
              "            observer.disconnect();\n",
              "        }}\n",
              "}});\n",
              "\n",
              "// Listen for the removal of the full notebook cells\n",
              "var notebookContainer = gd.closest('#notebook-container');\n",
              "if (notebookContainer) {{\n",
              "    x.observe(notebookContainer, {childList: true});\n",
              "}}\n",
              "\n",
              "// Listen for the clearing of the current output cell\n",
              "var outputEl = gd.closest('.output');\n",
              "if (outputEl) {{\n",
              "    x.observe(outputEl, {childList: true});\n",
              "}}\n",
              "\n",
              "                        })                };                            </script>        </div>\n",
              "</body>\n",
              "</html>"
            ]
          },
          "metadata": {}
        }
      ]
    },
    {
      "cell_type": "markdown",
      "source": [
        "**Distribution of Time on Site by Age, Browsing History, and Gender**"
      ],
      "metadata": {
        "id": "fy9pqe8uiy2w"
      }
    },
    {
      "cell_type": "code",
      "source": [
        "fig = px.scatter(df_no_outliers, x='Age', y='Browsing History', size='Time on Site', color='Gender',\n",
        "                 title='Age vs Browsing History with Time on Site as Bubble Size, by Gender', width=1700)\n",
        "fig.show()"
      ],
      "metadata": {
        "execution": {
          "iopub.status.busy": "2024-09-19T09:54:02.42959Z",
          "iopub.execute_input": "2024-09-19T09:54:02.429987Z",
          "iopub.status.idle": "2024-09-19T09:54:02.522777Z",
          "shell.execute_reply.started": "2024-09-19T09:54:02.429946Z",
          "shell.execute_reply": "2024-09-19T09:54:02.521535Z"
        },
        "trusted": true,
        "id": "l3H8W-zgiy2y",
        "outputId": "9ddf50b6-49f5-4735-8f10-3a5b871b595c",
        "colab": {
          "base_uri": "https://localhost:8080/",
          "height": 562
        }
      },
      "execution_count": 34,
      "outputs": [
        {
          "output_type": "display_data",
          "data": {
            "text/html": [
              "<html>\n",
              "<head><meta charset=\"utf-8\" /></head>\n",
              "<body>\n",
              "    <div>            <script src=\"https://cdnjs.cloudflare.com/ajax/libs/mathjax/2.7.5/MathJax.js?config=TeX-AMS-MML_SVG\"></script><script type=\"text/javascript\">if (window.MathJax && window.MathJax.Hub && window.MathJax.Hub.Config) {window.MathJax.Hub.Config({SVG: {font: \"STIX-Web\"}});}</script>                <script type=\"text/javascript\">window.PlotlyConfig = {MathJaxConfig: 'local'};</script>\n",
              "        <script charset=\"utf-8\" src=\"https://cdn.plot.ly/plotly-2.35.2.min.js\"></script>                <div id=\"6fbd68bf-d790-48cd-99aa-6b96f98b7f1c\" class=\"plotly-graph-div\" style=\"height:525px; width:1700px;\"></div>            <script type=\"text/javascript\">                                    window.PLOTLYENV=window.PLOTLYENV || {};                                    if (document.getElementById(\"6fbd68bf-d790-48cd-99aa-6b96f98b7f1c\")) {                    Plotly.newPlot(                        \"6fbd68bf-d790-48cd-99aa-6b96f98b7f1c\",                        [{\"hovertemplate\":\"Gender=Female\\u003cbr\\u003eAge=%{x}\\u003cbr\\u003eBrowsing History=%{y}\\u003cbr\\u003eTime on Site=%{marker.size}\\u003cextra\\u003e\\u003c\\u002fextra\\u003e\",\"legendgroup\":\"Female\",\"marker\":{\"color\":\"#636efa\",\"size\":[32.5,123.45,125.6,327.6,378.5,334.9,120.0,150.0,250.0,280.0,200.0,240.0,120.5,120.0,250.0,200.0,300.0,250.0,200.0,250.0,72.3,123.6,75.2,120.5,300.0,120.0],\"sizemode\":\"area\",\"sizeref\":1.21575,\"symbol\":\"circle\"},\"mode\":\"markers\",\"name\":\"Female\",\"orientation\":\"h\",\"showlegend\":true,\"x\":[25,28,28,45,29,36,45,28,38,50,48,65,24,35,28,31,60,29,36,50,32,35,32,28,52,34],\"xaxis\":\"x\",\"y\":[\"[{\\\"Timestamp\\\": \\\"2022-03-10T14:30:00Z\\\"}, {\\\"Timestamp\\\": \\\"2022-03-11T09:45:00Z\\\"}, {\\\"Timestamp\\\": \\\"2022-03-12T16:20:00Z\\\"}]\",\"[{\\\"Product Category\\\": \\\"Home & Garden\\\", \\\"Timestamp\\\": \\\"2022-05-12T13:30:00Z\\\"}, {\\\"Product Category\\\": \\\"Electronics\\\", \\\"Timestamp\\\": \\\"2022-06-05T08:45:00Z\\\"}]\",\"[{\\\"Product Category\\\": \\\"Clothing\\\", \\\"Timestamp\\\": \\\"2022-09-03 15:30:00\\\"}, {\\\"Product Category\\\": \\\"Electronics\\\", \\\"Timestamp\\\": \\\"2022-09-01 10:15:00\\\"}]\",\"{'Timestamp': '2022-09-03 14:30:00'}\",\"{'Timestamp': '2022-08-15 13:20:00'}\",\"{'Timestamp': '2022-08-17 14:50:00'}\",\"{'Timestamp': '2022-03-06 14:30:00'}\",\"{'Timestamp': '2022-07-08 13:00:00'}\",\"{'Timestamp': '2022-09-02 11:15:00'}\",\"{'Timestamp': '2022-11-02 10:30:00'}\",\"{'Timestamp': '2022-12-21 15:30:00'}\",\"{'Timestamp': '2023-02-06 13:15:00'}\",\"[{\\\"Timestamp\\\": \\\"2022-08-20T14:30:00Z\\\"}, {\\\"Timestamp\\\": \\\"2022-08-22T16:45:00Z\\\"}, {\\\"Timestamp\\\": \\\"2022-09-03T10:20:00Z\\\"}]\",\"{'Timestamp': '2022-04-20T14:30:00Z'}\",\"{'Timestamp': '2022-06-01T09:15:00Z'}\",\"{'Timestamp': '2022-05-30T13:45:00Z'}\",\"{'Timestamp': '2022-06-15T11:30:00Z'}\",\"{'Timestamp': '2022-05-31T16:45:00Z'}\",\"{'Timestamp': '2022-06-13T13:00:00Z'}\",\"{'Timestamp': '2022-06-08T14:30:00Z'}\",\"[{\\\"Product Category\\\": \\\"Home & Garden\\\", \\\"Timestamp\\\": \\\"2022-09-01T14:30:00Z\\\"}, {\\\"Product Category\\\": \\\"Clothing\\\", \\\"Timestamp\\\": \\\"2022-08-25T12:15:00Z\\\"}]\",\"[{\\\"Product Category\\\": \\\"Home & Garden\\\", \\\"Timestamp\\\": \\\"2022-04-03T15:30:00Z\\\"}, {\\\"Product Category\\\": \\\"Electronics\\\", \\\"Timestamp\\\": \\\"2022-03-28T08:45:00Z\\\"}]\",\"[{\\\"Product Category\\\": \\\"Home & Garden\\\", \\\"Timestamp\\\": \\\"2022-02-20T12:34:56Z\\\"}]\",\"[{\\\"Product Category\\\": \\\"Home & Garden\\\", \\\"Timestamp\\\": \\\"2022-06-15T12:34:56Z\\\"}, {\\\"Product Category\\\": \\\"Electronics\\\", \\\"Timestamp\\\": \\\"2022-05-20T16:17:23Z\\\"}]\",\"[{\\\"Product Category\\\": \\\"Electronics\\\", \\\"Timestamp\\\": \\\"2022-07-12T11:45:06Z\\\"}, {\\\"Product Category\\\": \\\"Clothing\\\", \\\"Timestamp\\\": \\\"2022-06-30T16:23:30Z\\\"}]\",\"[{\\\"Timestamp\\\": \\\"2022-08-14T09:30:00Z\\\"},{\\\"Timestamp\\\": \\\"2022-07-25T14:15:00Z\\\"},{\\\"Timestamp\\\": \\\"2022-06-01T10:45:00Z\\\"}]\"],\"yaxis\":\"y\",\"type\":\"scatter\"},{\"hovertemplate\":\"Gender=Male\\u003cbr\\u003eAge=%{x}\\u003cbr\\u003eBrowsing History=%{y}\\u003cbr\\u003eTime on Site=%{marker.size}\\u003cextra\\u003e\\u003c\\u002fextra\\u003e\",\"legendgroup\":\"Male\",\"marker\":{\"color\":\"#EF553B\",\"size\":[214.9,289.8,298.6,75.0,300.0,180.0,220.0,160.0,300.0,350.0,400.0,450.0,350.0,300.0,246.9,250.0,100.0,350.0],\"sizemode\":\"area\",\"sizeref\":1.21575,\"symbol\":\"circle\"},\"mode\":\"markers\",\"name\":\"Male\",\"orientation\":\"h\",\"showlegend\":true,\"x\":[34,42,48,32,55,42,35,30,45,52,48,55,58,42,42,42,24,45],\"xaxis\":\"x\",\"y\":[\"{'Timestamp': '2022-08-10 17:15:00'}\",\"{'Timestamp': '2022-09-12 16:35:00'}\",\"{'Timestamp': '2022-06-30 11:15:00'}\",\"{'Timestamp': '2022-05-12 16:15:00'}\",\"{'Timestamp': '2022-08-04 09:30:00'}\",\"{'Timestamp': '2022-10-07 14:45:00'}\",\"{'Timestamp': '2022-12-06 12:00:00'}\",\"{'Timestamp': '2023-01-11 08:45:00'}\",\"{'Timestamp': '2022-05-25T17:45:00Z'}\",\"{'Timestamp': '2022-05-22T10:30:00Z'}\",\"{'Timestamp': '2022-06-06T08:00:00Z'}\",\"{'Timestamp': '2022-05-28T15:15:00Z'}\",\"{'Timestamp': '2022-05-29T10:30:00Z'}\",\"{'Timestamp': '2022-05-26T11:15:00Z'}\",\"[{\\\"Product Category\\\": \\\"Electronics\\\", \\\"Timestamp\\\": \\\"2022-03-01T10:15:00Z\\\"}, {\\\"Product Category\\\": \\\"Clothing\\\", \\\"Timestamp\\\": \\\"2022-02-15T16:30:00Z\\\"}]\",\"[{\\\"Product Category\\\": \\\"Clothing\\\", \\\"Timestamp\\\": \\\"2022-07-10T09:15:32Z\\\"}, {\\\"Product Category\\\": \\\"Electronics\\\", \\\"Timestamp\\\": \\\"2022-06-25T14:46:01Z\\\"}]\",\"[{\\\"Product Category\\\": \\\"Clothing\\\", \\\"Timestamp\\\": \\\"2022-06-05T08:00:23Z\\\"}, {\\\"Product Category\\\": \\\"Electronics\\\", \\\"Timestamp\\\": \\\"2022-05-28T14:30:56Z\\\"}]\",\"[{\\\"Timestamp\\\": \\\"2022-08-12T16:00:00Z\\\"},{\\\"Timestamp\\\": \\\"2022-07-27T08:30:00Z\\\"},{\\\"Timestamp\\\": \\\"2022-06-03T11:00:00Z\\\"}]\"],\"yaxis\":\"y\",\"type\":\"scatter\"},{\"hovertemplate\":\"Gender=Other\\u003cbr\\u003eAge=%{x}\\u003cbr\\u003eBrowsing History=%{y}\\u003cbr\\u003eTime on Site=%{marker.size}\\u003cextra\\u003e\\u003c\\u002fextra\\u003e\",\"legendgroup\":\"Other\",\"marker\":{\"color\":\"#00cc96\",\"size\":[486.3,456.2,312.5,200.0,75.0,200.0],\"sizemode\":\"area\",\"sizeref\":1.21575,\"symbol\":\"circle\"},\"mode\":\"markers\",\"name\":\"Other\",\"orientation\":\"h\",\"showlegend\":true,\"x\":[56,51,25,60,35,29],\"xaxis\":\"x\",\"y\":[\"{'Timestamp': '2022-06-25 10:45:00'}\",\"{'Timestamp': '2022-06-28 09:00:00'}\",\"{'Timestamp': '2022-09-14 10:00:00'}\",\"{'Timestamp': '2022-06-03 10:45:00'}\",\"[{\\\"Product Category\\\": \\\"Home & Garden\\\", \\\"Timestamp\\\": \\\"2022-06-27T10:30:11Z\\\"}, {\\\"Product Category\\\": \\\"Electronics\\\", \\\"Timestamp\\\": \\\"2022-05-30T13:02:45Z\\\"}]\",\"[{\\\"Timestamp\\\": \\\"2022-08-13T13:45:00Z\\\"},{\\\"Timestamp\\\": \\\"2022-07-26T07:00:00Z\\\"},{\\\"Timestamp\\\": \\\"2022-06-02T15:30:00Z\\\"}]\"],\"yaxis\":\"y\",\"type\":\"scatter\"}],                        {\"template\":{\"data\":{\"histogram2dcontour\":[{\"type\":\"histogram2dcontour\",\"colorbar\":{\"outlinewidth\":0,\"ticks\":\"\"},\"colorscale\":[[0.0,\"#0d0887\"],[0.1111111111111111,\"#46039f\"],[0.2222222222222222,\"#7201a8\"],[0.3333333333333333,\"#9c179e\"],[0.4444444444444444,\"#bd3786\"],[0.5555555555555556,\"#d8576b\"],[0.6666666666666666,\"#ed7953\"],[0.7777777777777778,\"#fb9f3a\"],[0.8888888888888888,\"#fdca26\"],[1.0,\"#f0f921\"]]}],\"choropleth\":[{\"type\":\"choropleth\",\"colorbar\":{\"outlinewidth\":0,\"ticks\":\"\"}}],\"histogram2d\":[{\"type\":\"histogram2d\",\"colorbar\":{\"outlinewidth\":0,\"ticks\":\"\"},\"colorscale\":[[0.0,\"#0d0887\"],[0.1111111111111111,\"#46039f\"],[0.2222222222222222,\"#7201a8\"],[0.3333333333333333,\"#9c179e\"],[0.4444444444444444,\"#bd3786\"],[0.5555555555555556,\"#d8576b\"],[0.6666666666666666,\"#ed7953\"],[0.7777777777777778,\"#fb9f3a\"],[0.8888888888888888,\"#fdca26\"],[1.0,\"#f0f921\"]]}],\"heatmap\":[{\"type\":\"heatmap\",\"colorbar\":{\"outlinewidth\":0,\"ticks\":\"\"},\"colorscale\":[[0.0,\"#0d0887\"],[0.1111111111111111,\"#46039f\"],[0.2222222222222222,\"#7201a8\"],[0.3333333333333333,\"#9c179e\"],[0.4444444444444444,\"#bd3786\"],[0.5555555555555556,\"#d8576b\"],[0.6666666666666666,\"#ed7953\"],[0.7777777777777778,\"#fb9f3a\"],[0.8888888888888888,\"#fdca26\"],[1.0,\"#f0f921\"]]}],\"heatmapgl\":[{\"type\":\"heatmapgl\",\"colorbar\":{\"outlinewidth\":0,\"ticks\":\"\"},\"colorscale\":[[0.0,\"#0d0887\"],[0.1111111111111111,\"#46039f\"],[0.2222222222222222,\"#7201a8\"],[0.3333333333333333,\"#9c179e\"],[0.4444444444444444,\"#bd3786\"],[0.5555555555555556,\"#d8576b\"],[0.6666666666666666,\"#ed7953\"],[0.7777777777777778,\"#fb9f3a\"],[0.8888888888888888,\"#fdca26\"],[1.0,\"#f0f921\"]]}],\"contourcarpet\":[{\"type\":\"contourcarpet\",\"colorbar\":{\"outlinewidth\":0,\"ticks\":\"\"}}],\"contour\":[{\"type\":\"contour\",\"colorbar\":{\"outlinewidth\":0,\"ticks\":\"\"},\"colorscale\":[[0.0,\"#0d0887\"],[0.1111111111111111,\"#46039f\"],[0.2222222222222222,\"#7201a8\"],[0.3333333333333333,\"#9c179e\"],[0.4444444444444444,\"#bd3786\"],[0.5555555555555556,\"#d8576b\"],[0.6666666666666666,\"#ed7953\"],[0.7777777777777778,\"#fb9f3a\"],[0.8888888888888888,\"#fdca26\"],[1.0,\"#f0f921\"]]}],\"surface\":[{\"type\":\"surface\",\"colorbar\":{\"outlinewidth\":0,\"ticks\":\"\"},\"colorscale\":[[0.0,\"#0d0887\"],[0.1111111111111111,\"#46039f\"],[0.2222222222222222,\"#7201a8\"],[0.3333333333333333,\"#9c179e\"],[0.4444444444444444,\"#bd3786\"],[0.5555555555555556,\"#d8576b\"],[0.6666666666666666,\"#ed7953\"],[0.7777777777777778,\"#fb9f3a\"],[0.8888888888888888,\"#fdca26\"],[1.0,\"#f0f921\"]]}],\"mesh3d\":[{\"type\":\"mesh3d\",\"colorbar\":{\"outlinewidth\":0,\"ticks\":\"\"}}],\"scatter\":[{\"fillpattern\":{\"fillmode\":\"overlay\",\"size\":10,\"solidity\":0.2},\"type\":\"scatter\"}],\"parcoords\":[{\"type\":\"parcoords\",\"line\":{\"colorbar\":{\"outlinewidth\":0,\"ticks\":\"\"}}}],\"scatterpolargl\":[{\"type\":\"scatterpolargl\",\"marker\":{\"colorbar\":{\"outlinewidth\":0,\"ticks\":\"\"}}}],\"bar\":[{\"error_x\":{\"color\":\"#2a3f5f\"},\"error_y\":{\"color\":\"#2a3f5f\"},\"marker\":{\"line\":{\"color\":\"#E5ECF6\",\"width\":0.5},\"pattern\":{\"fillmode\":\"overlay\",\"size\":10,\"solidity\":0.2}},\"type\":\"bar\"}],\"scattergeo\":[{\"type\":\"scattergeo\",\"marker\":{\"colorbar\":{\"outlinewidth\":0,\"ticks\":\"\"}}}],\"scatterpolar\":[{\"type\":\"scatterpolar\",\"marker\":{\"colorbar\":{\"outlinewidth\":0,\"ticks\":\"\"}}}],\"histogram\":[{\"marker\":{\"pattern\":{\"fillmode\":\"overlay\",\"size\":10,\"solidity\":0.2}},\"type\":\"histogram\"}],\"scattergl\":[{\"type\":\"scattergl\",\"marker\":{\"colorbar\":{\"outlinewidth\":0,\"ticks\":\"\"}}}],\"scatter3d\":[{\"type\":\"scatter3d\",\"line\":{\"colorbar\":{\"outlinewidth\":0,\"ticks\":\"\"}},\"marker\":{\"colorbar\":{\"outlinewidth\":0,\"ticks\":\"\"}}}],\"scattermapbox\":[{\"type\":\"scattermapbox\",\"marker\":{\"colorbar\":{\"outlinewidth\":0,\"ticks\":\"\"}}}],\"scatterternary\":[{\"type\":\"scatterternary\",\"marker\":{\"colorbar\":{\"outlinewidth\":0,\"ticks\":\"\"}}}],\"scattercarpet\":[{\"type\":\"scattercarpet\",\"marker\":{\"colorbar\":{\"outlinewidth\":0,\"ticks\":\"\"}}}],\"carpet\":[{\"aaxis\":{\"endlinecolor\":\"#2a3f5f\",\"gridcolor\":\"white\",\"linecolor\":\"white\",\"minorgridcolor\":\"white\",\"startlinecolor\":\"#2a3f5f\"},\"baxis\":{\"endlinecolor\":\"#2a3f5f\",\"gridcolor\":\"white\",\"linecolor\":\"white\",\"minorgridcolor\":\"white\",\"startlinecolor\":\"#2a3f5f\"},\"type\":\"carpet\"}],\"table\":[{\"cells\":{\"fill\":{\"color\":\"#EBF0F8\"},\"line\":{\"color\":\"white\"}},\"header\":{\"fill\":{\"color\":\"#C8D4E3\"},\"line\":{\"color\":\"white\"}},\"type\":\"table\"}],\"barpolar\":[{\"marker\":{\"line\":{\"color\":\"#E5ECF6\",\"width\":0.5},\"pattern\":{\"fillmode\":\"overlay\",\"size\":10,\"solidity\":0.2}},\"type\":\"barpolar\"}],\"pie\":[{\"automargin\":true,\"type\":\"pie\"}]},\"layout\":{\"autotypenumbers\":\"strict\",\"colorway\":[\"#636efa\",\"#EF553B\",\"#00cc96\",\"#ab63fa\",\"#FFA15A\",\"#19d3f3\",\"#FF6692\",\"#B6E880\",\"#FF97FF\",\"#FECB52\"],\"font\":{\"color\":\"#2a3f5f\"},\"hovermode\":\"closest\",\"hoverlabel\":{\"align\":\"left\"},\"paper_bgcolor\":\"white\",\"plot_bgcolor\":\"#E5ECF6\",\"polar\":{\"bgcolor\":\"#E5ECF6\",\"angularaxis\":{\"gridcolor\":\"white\",\"linecolor\":\"white\",\"ticks\":\"\"},\"radialaxis\":{\"gridcolor\":\"white\",\"linecolor\":\"white\",\"ticks\":\"\"}},\"ternary\":{\"bgcolor\":\"#E5ECF6\",\"aaxis\":{\"gridcolor\":\"white\",\"linecolor\":\"white\",\"ticks\":\"\"},\"baxis\":{\"gridcolor\":\"white\",\"linecolor\":\"white\",\"ticks\":\"\"},\"caxis\":{\"gridcolor\":\"white\",\"linecolor\":\"white\",\"ticks\":\"\"}},\"coloraxis\":{\"colorbar\":{\"outlinewidth\":0,\"ticks\":\"\"}},\"colorscale\":{\"sequential\":[[0.0,\"#0d0887\"],[0.1111111111111111,\"#46039f\"],[0.2222222222222222,\"#7201a8\"],[0.3333333333333333,\"#9c179e\"],[0.4444444444444444,\"#bd3786\"],[0.5555555555555556,\"#d8576b\"],[0.6666666666666666,\"#ed7953\"],[0.7777777777777778,\"#fb9f3a\"],[0.8888888888888888,\"#fdca26\"],[1.0,\"#f0f921\"]],\"sequentialminus\":[[0.0,\"#0d0887\"],[0.1111111111111111,\"#46039f\"],[0.2222222222222222,\"#7201a8\"],[0.3333333333333333,\"#9c179e\"],[0.4444444444444444,\"#bd3786\"],[0.5555555555555556,\"#d8576b\"],[0.6666666666666666,\"#ed7953\"],[0.7777777777777778,\"#fb9f3a\"],[0.8888888888888888,\"#fdca26\"],[1.0,\"#f0f921\"]],\"diverging\":[[0,\"#8e0152\"],[0.1,\"#c51b7d\"],[0.2,\"#de77ae\"],[0.3,\"#f1b6da\"],[0.4,\"#fde0ef\"],[0.5,\"#f7f7f7\"],[0.6,\"#e6f5d0\"],[0.7,\"#b8e186\"],[0.8,\"#7fbc41\"],[0.9,\"#4d9221\"],[1,\"#276419\"]]},\"xaxis\":{\"gridcolor\":\"white\",\"linecolor\":\"white\",\"ticks\":\"\",\"title\":{\"standoff\":15},\"zerolinecolor\":\"white\",\"automargin\":true,\"zerolinewidth\":2},\"yaxis\":{\"gridcolor\":\"white\",\"linecolor\":\"white\",\"ticks\":\"\",\"title\":{\"standoff\":15},\"zerolinecolor\":\"white\",\"automargin\":true,\"zerolinewidth\":2},\"scene\":{\"xaxis\":{\"backgroundcolor\":\"#E5ECF6\",\"gridcolor\":\"white\",\"linecolor\":\"white\",\"showbackground\":true,\"ticks\":\"\",\"zerolinecolor\":\"white\",\"gridwidth\":2},\"yaxis\":{\"backgroundcolor\":\"#E5ECF6\",\"gridcolor\":\"white\",\"linecolor\":\"white\",\"showbackground\":true,\"ticks\":\"\",\"zerolinecolor\":\"white\",\"gridwidth\":2},\"zaxis\":{\"backgroundcolor\":\"#E5ECF6\",\"gridcolor\":\"white\",\"linecolor\":\"white\",\"showbackground\":true,\"ticks\":\"\",\"zerolinecolor\":\"white\",\"gridwidth\":2}},\"shapedefaults\":{\"line\":{\"color\":\"#2a3f5f\"}},\"annotationdefaults\":{\"arrowcolor\":\"#2a3f5f\",\"arrowhead\":0,\"arrowwidth\":1},\"geo\":{\"bgcolor\":\"white\",\"landcolor\":\"#E5ECF6\",\"subunitcolor\":\"white\",\"showland\":true,\"showlakes\":true,\"lakecolor\":\"white\"},\"title\":{\"x\":0.05},\"mapbox\":{\"style\":\"light\"}}},\"xaxis\":{\"anchor\":\"y\",\"domain\":[0.0,1.0],\"title\":{\"text\":\"Age\"}},\"yaxis\":{\"anchor\":\"x\",\"domain\":[0.0,1.0],\"title\":{\"text\":\"Browsing History\"}},\"legend\":{\"title\":{\"text\":\"Gender\"},\"tracegroupgap\":0,\"itemsizing\":\"constant\"},\"title\":{\"text\":\"Age vs Browsing History with Time on Site as Bubble Size, by Gender\"},\"width\":1700},                        {\"responsive\": true}                    ).then(function(){\n",
              "                            \n",
              "var gd = document.getElementById('6fbd68bf-d790-48cd-99aa-6b96f98b7f1c');\n",
              "var x = new MutationObserver(function (mutations, observer) {{\n",
              "        var display = window.getComputedStyle(gd).display;\n",
              "        if (!display || display === 'none') {{\n",
              "            console.log([gd, 'removed!']);\n",
              "            Plotly.purge(gd);\n",
              "            observer.disconnect();\n",
              "        }}\n",
              "}});\n",
              "\n",
              "// Listen for the removal of the full notebook cells\n",
              "var notebookContainer = gd.closest('#notebook-container');\n",
              "if (notebookContainer) {{\n",
              "    x.observe(notebookContainer, {childList: true});\n",
              "}}\n",
              "\n",
              "// Listen for the clearing of the current output cell\n",
              "var outputEl = gd.closest('.output');\n",
              "if (outputEl) {{\n",
              "    x.observe(outputEl, {childList: true});\n",
              "}}\n",
              "\n",
              "                        })                };                            </script>        </div>\n",
              "</body>\n",
              "</html>"
            ]
          },
          "metadata": {}
        }
      ]
    },
    {
      "cell_type": "markdown",
      "source": [
        "**Comparative Analysis of Purchase History and Annual Income by Location**"
      ],
      "metadata": {
        "id": "TxGmfj3Fiy2y"
      }
    },
    {
      "cell_type": "code",
      "source": [
        "fig = px.scatter(df_no_outliers, x='Location', y='Purchase History', size='Annual Income', color='Gender',\n",
        "                 title='Purchase History vs Location with Annual Income as Bubble Size', width=2700)\n",
        "fig.show()"
      ],
      "metadata": {
        "execution": {
          "iopub.status.busy": "2024-09-19T09:54:02.525855Z",
          "iopub.execute_input": "2024-09-19T09:54:02.526291Z",
          "iopub.status.idle": "2024-09-19T09:54:02.620519Z",
          "shell.execute_reply.started": "2024-09-19T09:54:02.526238Z",
          "shell.execute_reply": "2024-09-19T09:54:02.619345Z"
        },
        "trusted": true,
        "id": "DB_SWgwniy2z",
        "outputId": "7c803766-454b-4911-f01a-c7ce49b1120c",
        "colab": {
          "base_uri": "https://localhost:8080/",
          "height": 562
        }
      },
      "execution_count": 35,
      "outputs": [
        {
          "output_type": "display_data",
          "data": {
            "text/html": [
              "<html>\n",
              "<head><meta charset=\"utf-8\" /></head>\n",
              "<body>\n",
              "    <div>            <script src=\"https://cdnjs.cloudflare.com/ajax/libs/mathjax/2.7.5/MathJax.js?config=TeX-AMS-MML_SVG\"></script><script type=\"text/javascript\">if (window.MathJax && window.MathJax.Hub && window.MathJax.Hub.Config) {window.MathJax.Hub.Config({SVG: {font: \"STIX-Web\"}});}</script>                <script type=\"text/javascript\">window.PlotlyConfig = {MathJaxConfig: 'local'};</script>\n",
              "        <script charset=\"utf-8\" src=\"https://cdn.plot.ly/plotly-2.35.2.min.js\"></script>                <div id=\"7f83c99c-7fa1-4c51-b784-aa346de34662\" class=\"plotly-graph-div\" style=\"height:525px; width:2700px;\"></div>            <script type=\"text/javascript\">                                    window.PLOTLYENV=window.PLOTLYENV || {};                                    if (document.getElementById(\"7f83c99c-7fa1-4c51-b784-aa346de34662\")) {                    Plotly.newPlot(                        \"7f83c99c-7fa1-4c51-b784-aa346de34662\",                        [{\"hovertemplate\":\"Gender=Female\\u003cbr\\u003eLocation=%{x}\\u003cbr\\u003ePurchase History=%{y}\\u003cbr\\u003eAnnual Income=%{marker.size}\\u003cextra\\u003e\\u003c\\u002fextra\\u003e\",\"legendgroup\":\"Female\",\"marker\":{\"color\":\"#636efa\",\"size\":[45000,52000,65000,70000,60000,55000,75000,45000,65000,85000,75000,95000,45000,50000,60000,45000,65000,40000,55000,68000,65000,60000,55000,65000,100000,55000],\"sizemode\":\"area\",\"sizeref\":250.0,\"symbol\":\"circle\"},\"mode\":\"markers\",\"name\":\"Female\",\"orientation\":\"v\",\"showlegend\":true,\"x\":[\"City D\",\"City D\",\"City D\",\"City D\",\"City G\",\"City J\",\"City D\",\"City C\",\"City F\",\"City H\",\"City J\",\"City L\",\"City D\",\"City D\",\"City F\",\"City H\",\"City J\",\"City L\",\"City N\",\"City P\",\"City D\",\"City D\",\"City D\",\"City D\",\"City G\",\"City D\"],\"xaxis\":\"x\",\"y\":[\"[{\\\"Date\\\": \\\"2022-03-05\\\", \\\"Category\\\": \\\"Clothing\\\", \\\"Price\\\": 34.99}, {\\\"Date\\\": \\\"2022-02-12\\\", \\\"Category\\\": \\\"Electronics\\\", \\\"Price\\\": 129.99}, {\\\"Date\\\": \\\"2022-01-20\\\", \\\"Category\\\": \\\"Home & Garden\\\", \\\"Price\\\": 29.99}]\",\"[{\\\"Product Category\\\": \\\"Clothing\\\", \\\"Purchase Date\\\": \\\"2022-05-15\\\", \\\"Price\\\": 34.56}, {\\\"Product Category\\\": \\\"Electronics\\\", \\\"Purchase Date\\\": \\\"2022-06-02\\\", \\\"Price\\\": 150.99}]\",\"[{\\\"Product Category\\\": \\\"Electronics\\\", \\\"Purchase Date\\\": \\\"2022-08-15\\\", \\\"Price\\\": 345.5}, {\\\"Product Category\\\": \\\"Home & Garden\\\", \\\"Purchase Date\\\": \\\"2022-07-02\\\", \\\"Price\\\": 279.99}]\",\"{'Purchase Date': '2022-08-15', 'Product Category': 'Electronics', 'Price': 200.5},{'Purchase Date': '2022-07-22', 'Product Category': 'Clothing', 'Price': 125.6},{'Purchase Date': '2022-06-01', 'Product Category': 'Home & Garden', 'Price': 300.8},{'Purchase Date': '2022-05-10', 'Product Category': 'Electronics', 'Price': 150.9}\",\"{'Purchase Date': '2022-07-20', 'Product Category': 'Electronics', 'Price': 150.8},{'Purchase Date': '2022-06-05', 'Product Category': 'Clothing', 'Price': 120.6},{'Purchase Date': '2022-05-18', 'Product Category': 'Home & Garden', 'Price': 350.1}\",\"{'Purchase Date': '2022-07-27', 'Product Category': 'Electronics', 'Price': 120.5},{'Purchase Date': '2022-06-12', 'Product Category': 'Clothing', 'Price': 130.6},{'Purchase Date': '2022-05-28', 'Product Category': 'Home & Garden', 'Price': 320.8}\",\"{'Purchase Date': '2022-03-05', 'Product Category': 'Clothing', 'Price': 45.99},{'Purchase Date': '2022-04-12', 'Product Category': 'Home & Garden', 'Price': 120.5}\",\"{'Purchase Date': '2022-04-25', 'Product Category': 'Clothing', 'Price': 29.99},{'Purchase Date': '2022-07-07', 'Product Category': 'Home & Garden', 'Price': 150}\",\"{'Purchase Date': '2022-06-15', 'Product Category': 'Home & Garden', 'Price': 220},{'Purchase Date': '2022-09-01', 'Product Category': 'Electronics', 'Price': 300}\",\"{'Purchase Date': '2022-08-08', 'Product Category': 'Electronics', 'Price': 550},{'Purchase Date': '2022-11-01', 'Product Category': 'Clothing', 'Price': 44.99}\",\"{'Purchase Date': '2022-10-15', 'Product Category': 'Clothing', 'Price': 34.99},{'Purchase Date': '2022-12-20', 'Product Category': 'Home & Garden', 'Price': 250}\",\"{'Purchase Date': '2022-12-25', 'Product Category': 'Home & Garden', 'Price': 170},{'Purchase Date': '2023-02-05', 'Product Category': 'Electronics', 'Price': 450}\",\"[{\\\"Purchase Date\\\": \\\"2022-09-15\\\", \\\"Product Category\\\": \\\"Clothing\\\", \\\"Price\\\": 34.5}]\",\"{'Purchase Date': '2022-05-15', 'Product Category': 'Clothing', 'Price': 120},{'Purchase Date': '2022-06-02', 'Product Category': 'Home & Garden', 'Price': 250}\",\"{'Purchase Date': '2022-05-28', 'Product Category': 'Clothing', 'Price': 75},{'Purchase Date': '2022-06-10', 'Product Category': 'Home & Garden', 'Price': 120}\",\"{'Purchase Date': '2022-05-18', 'Product Category': 'Clothing', 'Price': 50},{'Purchase Date': '2022-06-07', 'Product Category': 'Home & Garden', 'Price': 100}\",\"{'Purchase Date': '2022-05-25', 'Product Category': 'Clothing', 'Price': 100},{'Purchase Date': '2022-06-08', 'Product Category': 'Home & Garden', 'Price': 180}\",\"{'Purchase Date': '2022-05-16', 'Product Category': 'Clothing', 'Price': 60},{'Purchase Date': '2022-06-06', 'Product Category': 'Home & Garden', 'Price': 150}\",\"{'Purchase Date': '2022-05-27', 'Product Category': 'Clothing', 'Price': 80},{'Purchase Date': '2022-06-09', 'Product Category': 'Home & Garden', 'Price': 200}\",\"{'Purchase Date': '2022-05-19', 'Product Category': 'Clothing', 'Price': 120},{'Purchase Date': '2022-06-07', 'Product Category': 'Home & Garden', 'Price': 150}\",\"[{\\\"Product Category\\\": \\\"Clothing\\\", \\\"Purchase Date\\\": \\\"2022-08-15\\\", \\\"Price\\\": 45.23}, {\\\"Product Category\\\": \\\"Electronics\\\", \\\"Purchase Date\\\": \\\"2022-07-20\\\", \\\"Price\\\": 250.34}]\",\"[{\\\"Product Category\\\": \\\"Electronics\\\", \\\"Purchase Date\\\": \\\"2022-03-15\\\", \\\"Price\\\": 250.5}, {\\\"Product Category\\\": \\\"Clothing\\\", \\\"Purchase Date\\\": \\\"2022-02-01\\\", \\\"Price\\\": 125.8}]\",\"[{\\\"Product Category\\\": \\\"Electronics\\\", \\\"Purchase Date\\\": \\\"2022-03-15\\\", \\\"Price\\\": 249.99}]\",\"[{\\\"Product Category\\\": \\\"Clothing\\\", \\\"Purchase Date\\\": \\\"2022-06-12\\\", \\\"Price\\\": 45.99}, {\\\"Product Category\\\": \\\"Electronics\\\", \\\"Purchase Date\\\": \\\"2022-05-08\\\", \\\"Price\\\": 199.99}]\",\"[{\\\"Product Category\\\": \\\"Clothing\\\", \\\"Purchase Date\\\": \\\"2022-07-08\\\", \\\"Price\\\": 79.99}, {\\\"Product Category\\\": \\\"Home & Garden\\\", \\\"Purchase Date\\\": \\\"2022-06-24\\\", \\\"Price\\\": 399.99}]\",\"[{\\\"Purchase Date\\\": \\\"2022-07-02\\\",\\\"Product Category\\\": \\\"Clothing\\\",\\\"Price\\\": 25.6},{\\\"Purchase Date\\\": \\\"2022-06-15\\\",\\\"Product Category\\\": \\\"Electronics\\\",\\\"Price\\\": 120},{\\\"Purchase Date\\\": \\\"2022-05-10\\\",\\\"Product Category\\\": \\\"Home & Garden\\\",\\\"Price\\\": 35}]\"],\"yaxis\":\"y\",\"type\":\"scatter\"},{\"hovertemplate\":\"Gender=Male\\u003cbr\\u003eLocation=%{x}\\u003cbr\\u003ePurchase History=%{y}\\u003cbr\\u003eAnnual Income=%{marker.size}\\u003cextra\\u003e\\u003c\\u002fextra\\u003e\",\"legendgroup\":\"Male\",\"marker\":{\"color\":\"#EF553B\",\"size\":[45000,75000,80000,50000,90000,70000,55000,40000,80000,70000,90000,85000,75000,95000,75000,80000,45000,87000],\"sizemode\":\"area\",\"sizeref\":250.0,\"symbol\":\"circle\"},\"mode\":\"markers\",\"name\":\"Male\",\"orientation\":\"v\",\"showlegend\":true,\"x\":[\"City E\",\"City H\",\"City K\",\"City A\",\"City E\",\"City G\",\"City I\",\"City K\",\"City E\",\"City G\",\"City I\",\"City K\",\"City M\",\"City O\",\"City E\",\"City E\",\"City H\",\"City E\"],\"xaxis\":\"x\",\"y\":[\"{'Purchase Date': '2022-07-25', 'Product Category': 'Clothing', 'Price': 67.2},{'Purchase Date': '2022-06-08', 'Product Category': 'Home & Garden', 'Price': 250.1},{'Purchase Date': '2022-05-15', 'Product Category': 'Electronics', 'Price': 400.7}\",\"{'Purchase Date': '2022-08-28', 'Product Category': 'Electronics', 'Price': 250.6},{'Purchase Date': '2022-07-15', 'Product Category': 'Clothing', 'Price': 115.7},{'Purchase Date': '2022-06-03', 'Product Category': 'Home & Garden', 'Price': 300.4}\",\"{'Purchase Date': '2022-09-08', 'Product Category': 'Electronics', 'Price': 350.2},{'Purchase Date': '2022-08-23', 'Product Category': 'Clothing', 'Price': 165.3},{'Purchase Date': '2022-07-07', 'Product Category': 'Home & Garden', 'Price': 280.9}\",\"{'Purchase Date': '2022-02-15', 'Product Category': 'Electronics', 'Price': 250},{'Purchase Date': '2022-05-10', 'Product Category': 'Clothing', 'Price': 34.99}\",\"{'Purchase Date': '2022-05-20', 'Product Category': 'Electronics', 'Price': 600},{'Purchase Date': '2022-08-03', 'Product Category': 'Clothing', 'Price': 59.99}\",\"{'Purchase Date': '2022-07-22', 'Product Category': 'Clothing', 'Price': 39.99},{'Purchase Date': '2022-10-06', 'Product Category': 'Home & Garden', 'Price': 190}\",\"{'Purchase Date': '2022-09-20', 'Product Category': 'Home & Garden', 'Price': 200},{'Purchase Date': '2022-12-05', 'Product Category': 'Electronics', 'Price': 350}\",\"{'Purchase Date': '2022-11-05', 'Product Category': 'Electronics', 'Price': 150},{'Purchase Date': '2023-01-10', 'Product Category': 'Clothing', 'Price': 29.99}\",\"{'Purchase Date': '2022-06-12', 'Product Category': 'Electronics', 'Price': 350}\",\"{'Purchase Date': '2022-05-08', 'Product Category': 'Electronics', 'Price': 200},{'Purchase Date': '2022-06-05', 'Product Category': 'Home & Garden', 'Price': 150}\",\"{'Purchase Date': '2022-05-23', 'Product Category': 'Electronics', 'Price': 400},{'Purchase Date': '2022-06-03', 'Product Category': 'Home & Garden', 'Price': 200}\",\"{'Purchase Date': '2022-05-20', 'Product Category': 'Electronics', 'Price': 300},{'Purchase Date': '2022-06-04', 'Product Category': 'Home & Garden', 'Price': 250}\",\"{'Purchase Date': '2022-05-12', 'Product Category': 'Electronics', 'Price': 250},{'Purchase Date': '2022-06-01', 'Product Category': 'Home & Garden', 'Price': 175}\",\"{'Purchase Date': '2022-05-22', 'Product Category': 'Electronics', 'Price': 350},{'Purchase Date': '2022-06-02', 'Product Category': 'Home & Garden', 'Price': 100}\",\"[{\\\"Product Category\\\": \\\"Clothing\\\", \\\"Purchase Date\\\": \\\"2022-02-20\\\", \\\"Price\\\": 150.2}, {\\\"Product Category\\\": \\\"Home & Garden\\\", \\\"Purchase Date\\\": \\\"2022-01-12\\\", \\\"Price\\\": 450}]\",\"[{\\\"Product Category\\\": \\\"Electronics\\\", \\\"Purchase Date\\\": \\\"2022-07-03\\\", \\\"Price\\\": 249.99}, {\\\"Product Category\\\": \\\"Home & Garden\\\", \\\"Purchase Date\\\": \\\"2022-06-17\\\", \\\"Price\\\": 129.99}]\",\"[{\\\"Product Category\\\": \\\"Electronics\\\", \\\"Purchase Date\\\": \\\"2022-06-01\\\", \\\"Price\\\": 129.99}, {\\\"Product Category\\\": \\\"Home & Garden\\\", \\\"Purchase Date\\\": \\\"2022-05-18\\\", \\\"Price\\\": 59.99}]\",\"[{\\\"Purchase Date\\\": \\\"2022-07-08\\\",\\\"Product Category\\\": \\\"Electronics\\\",\\\"Price\\\": 420},{\\\"Purchase Date\\\": \\\"2022-06-23\\\",\\\"Product Category\\\": \\\"Clothing\\\",\\\"Price\\\": 75},{\\\"Purchase Date\\\": \\\"2022-05-12\\\",\\\"Product Category\\\": \\\"Home & Garden\\\",\\\"Price\\\": 200}]\"],\"yaxis\":\"y\",\"type\":\"scatter\"},{\"hovertemplate\":\"Gender=Other\\u003cbr\\u003eLocation=%{x}\\u003cbr\\u003ePurchase History=%{y}\\u003cbr\\u003eAnnual Income=%{marker.size}\\u003cextra\\u003e\\u003c\\u002fextra\\u003e\",\"legendgroup\":\"Other\",\"marker\":{\"color\":\"#00cc96\",\"size\":[90000,85000,40000,80000,50000,42000],\"sizemode\":\"area\",\"sizeref\":250.0,\"symbol\":\"circle\"},\"mode\":\"markers\",\"name\":\"Other\",\"orientation\":\"v\",\"showlegend\":true,\"x\":[\"City F\",\"City I\",\"City L\",\"City B\",\"City F\",\"City F\"],\"xaxis\":\"x\",\"y\":[\"{'Purchase Date': '2022-09-01', 'Product Category': 'Electronics', 'Price': 300.2},{'Purchase Date': '2022-08-12', 'Product Category': 'Clothing', 'Price': 185.3},{'Purchase Date': '2022-07-28', 'Product Category': 'Home & Garden', 'Price': 200.9}\",\"{'Purchase Date': '2022-09-05', 'Product Category': 'Electronics', 'Price': 400.9},{'Purchase Date': '2022-08-18', 'Product Category': 'Clothing', 'Price': 195.3},{'Purchase Date': '2022-07-03', 'Product Category': 'Home & Garden', 'Price': 220.7}\",\"{'Purchase Date': '2022-08-25', 'Product Category': 'Electronics', 'Price': 170.8},{'Purchase Date': '2022-07-09', 'Product Category': 'Clothing', 'Price': 105.6},{'Purchase Date': '2022-06-24', 'Product Category': 'Home & Garden', 'Price': 290.1}\",\"{'Purchase Date': '2022-01-18', 'Product Category': 'Home & Garden', 'Price': 180},{'Purchase Date': '2022-06-02', 'Product Category': 'Electronics', 'Price': 400}\",\"[{\\\"Product Category\\\": \\\"Clothing\\\", \\\"Purchase Date\\\": \\\"2022-06-22\\\", \\\"Price\\\": 34.99}, {\\\"Product Category\\\": \\\"Electronics\\\", \\\"Purchase Date\\\": \\\"2022-05-15\\\", \\\"Price\\\": 149.99}]\",\"[{\\\"Purchase Date\\\": \\\"2022-07-01\\\",\\\"Product Category\\\": \\\"Electronics\\\",\\\"Price\\\": 180},{\\\"Purchase Date\\\": \\\"2022-06-18\\\",\\\"Product Category\\\": \\\"Clothing\\\",\\\"Price\\\": 50},{\\\"Purchase Date\\\": \\\"2022-05-09\\\",\\\"Product Category\\\": \\\"Home & Garden\\\",\\\"Price\\\": 30}]\"],\"yaxis\":\"y\",\"type\":\"scatter\"}],                        {\"template\":{\"data\":{\"histogram2dcontour\":[{\"type\":\"histogram2dcontour\",\"colorbar\":{\"outlinewidth\":0,\"ticks\":\"\"},\"colorscale\":[[0.0,\"#0d0887\"],[0.1111111111111111,\"#46039f\"],[0.2222222222222222,\"#7201a8\"],[0.3333333333333333,\"#9c179e\"],[0.4444444444444444,\"#bd3786\"],[0.5555555555555556,\"#d8576b\"],[0.6666666666666666,\"#ed7953\"],[0.7777777777777778,\"#fb9f3a\"],[0.8888888888888888,\"#fdca26\"],[1.0,\"#f0f921\"]]}],\"choropleth\":[{\"type\":\"choropleth\",\"colorbar\":{\"outlinewidth\":0,\"ticks\":\"\"}}],\"histogram2d\":[{\"type\":\"histogram2d\",\"colorbar\":{\"outlinewidth\":0,\"ticks\":\"\"},\"colorscale\":[[0.0,\"#0d0887\"],[0.1111111111111111,\"#46039f\"],[0.2222222222222222,\"#7201a8\"],[0.3333333333333333,\"#9c179e\"],[0.4444444444444444,\"#bd3786\"],[0.5555555555555556,\"#d8576b\"],[0.6666666666666666,\"#ed7953\"],[0.7777777777777778,\"#fb9f3a\"],[0.8888888888888888,\"#fdca26\"],[1.0,\"#f0f921\"]]}],\"heatmap\":[{\"type\":\"heatmap\",\"colorbar\":{\"outlinewidth\":0,\"ticks\":\"\"},\"colorscale\":[[0.0,\"#0d0887\"],[0.1111111111111111,\"#46039f\"],[0.2222222222222222,\"#7201a8\"],[0.3333333333333333,\"#9c179e\"],[0.4444444444444444,\"#bd3786\"],[0.5555555555555556,\"#d8576b\"],[0.6666666666666666,\"#ed7953\"],[0.7777777777777778,\"#fb9f3a\"],[0.8888888888888888,\"#fdca26\"],[1.0,\"#f0f921\"]]}],\"heatmapgl\":[{\"type\":\"heatmapgl\",\"colorbar\":{\"outlinewidth\":0,\"ticks\":\"\"},\"colorscale\":[[0.0,\"#0d0887\"],[0.1111111111111111,\"#46039f\"],[0.2222222222222222,\"#7201a8\"],[0.3333333333333333,\"#9c179e\"],[0.4444444444444444,\"#bd3786\"],[0.5555555555555556,\"#d8576b\"],[0.6666666666666666,\"#ed7953\"],[0.7777777777777778,\"#fb9f3a\"],[0.8888888888888888,\"#fdca26\"],[1.0,\"#f0f921\"]]}],\"contourcarpet\":[{\"type\":\"contourcarpet\",\"colorbar\":{\"outlinewidth\":0,\"ticks\":\"\"}}],\"contour\":[{\"type\":\"contour\",\"colorbar\":{\"outlinewidth\":0,\"ticks\":\"\"},\"colorscale\":[[0.0,\"#0d0887\"],[0.1111111111111111,\"#46039f\"],[0.2222222222222222,\"#7201a8\"],[0.3333333333333333,\"#9c179e\"],[0.4444444444444444,\"#bd3786\"],[0.5555555555555556,\"#d8576b\"],[0.6666666666666666,\"#ed7953\"],[0.7777777777777778,\"#fb9f3a\"],[0.8888888888888888,\"#fdca26\"],[1.0,\"#f0f921\"]]}],\"surface\":[{\"type\":\"surface\",\"colorbar\":{\"outlinewidth\":0,\"ticks\":\"\"},\"colorscale\":[[0.0,\"#0d0887\"],[0.1111111111111111,\"#46039f\"],[0.2222222222222222,\"#7201a8\"],[0.3333333333333333,\"#9c179e\"],[0.4444444444444444,\"#bd3786\"],[0.5555555555555556,\"#d8576b\"],[0.6666666666666666,\"#ed7953\"],[0.7777777777777778,\"#fb9f3a\"],[0.8888888888888888,\"#fdca26\"],[1.0,\"#f0f921\"]]}],\"mesh3d\":[{\"type\":\"mesh3d\",\"colorbar\":{\"outlinewidth\":0,\"ticks\":\"\"}}],\"scatter\":[{\"fillpattern\":{\"fillmode\":\"overlay\",\"size\":10,\"solidity\":0.2},\"type\":\"scatter\"}],\"parcoords\":[{\"type\":\"parcoords\",\"line\":{\"colorbar\":{\"outlinewidth\":0,\"ticks\":\"\"}}}],\"scatterpolargl\":[{\"type\":\"scatterpolargl\",\"marker\":{\"colorbar\":{\"outlinewidth\":0,\"ticks\":\"\"}}}],\"bar\":[{\"error_x\":{\"color\":\"#2a3f5f\"},\"error_y\":{\"color\":\"#2a3f5f\"},\"marker\":{\"line\":{\"color\":\"#E5ECF6\",\"width\":0.5},\"pattern\":{\"fillmode\":\"overlay\",\"size\":10,\"solidity\":0.2}},\"type\":\"bar\"}],\"scattergeo\":[{\"type\":\"scattergeo\",\"marker\":{\"colorbar\":{\"outlinewidth\":0,\"ticks\":\"\"}}}],\"scatterpolar\":[{\"type\":\"scatterpolar\",\"marker\":{\"colorbar\":{\"outlinewidth\":0,\"ticks\":\"\"}}}],\"histogram\":[{\"marker\":{\"pattern\":{\"fillmode\":\"overlay\",\"size\":10,\"solidity\":0.2}},\"type\":\"histogram\"}],\"scattergl\":[{\"type\":\"scattergl\",\"marker\":{\"colorbar\":{\"outlinewidth\":0,\"ticks\":\"\"}}}],\"scatter3d\":[{\"type\":\"scatter3d\",\"line\":{\"colorbar\":{\"outlinewidth\":0,\"ticks\":\"\"}},\"marker\":{\"colorbar\":{\"outlinewidth\":0,\"ticks\":\"\"}}}],\"scattermapbox\":[{\"type\":\"scattermapbox\",\"marker\":{\"colorbar\":{\"outlinewidth\":0,\"ticks\":\"\"}}}],\"scatterternary\":[{\"type\":\"scatterternary\",\"marker\":{\"colorbar\":{\"outlinewidth\":0,\"ticks\":\"\"}}}],\"scattercarpet\":[{\"type\":\"scattercarpet\",\"marker\":{\"colorbar\":{\"outlinewidth\":0,\"ticks\":\"\"}}}],\"carpet\":[{\"aaxis\":{\"endlinecolor\":\"#2a3f5f\",\"gridcolor\":\"white\",\"linecolor\":\"white\",\"minorgridcolor\":\"white\",\"startlinecolor\":\"#2a3f5f\"},\"baxis\":{\"endlinecolor\":\"#2a3f5f\",\"gridcolor\":\"white\",\"linecolor\":\"white\",\"minorgridcolor\":\"white\",\"startlinecolor\":\"#2a3f5f\"},\"type\":\"carpet\"}],\"table\":[{\"cells\":{\"fill\":{\"color\":\"#EBF0F8\"},\"line\":{\"color\":\"white\"}},\"header\":{\"fill\":{\"color\":\"#C8D4E3\"},\"line\":{\"color\":\"white\"}},\"type\":\"table\"}],\"barpolar\":[{\"marker\":{\"line\":{\"color\":\"#E5ECF6\",\"width\":0.5},\"pattern\":{\"fillmode\":\"overlay\",\"size\":10,\"solidity\":0.2}},\"type\":\"barpolar\"}],\"pie\":[{\"automargin\":true,\"type\":\"pie\"}]},\"layout\":{\"autotypenumbers\":\"strict\",\"colorway\":[\"#636efa\",\"#EF553B\",\"#00cc96\",\"#ab63fa\",\"#FFA15A\",\"#19d3f3\",\"#FF6692\",\"#B6E880\",\"#FF97FF\",\"#FECB52\"],\"font\":{\"color\":\"#2a3f5f\"},\"hovermode\":\"closest\",\"hoverlabel\":{\"align\":\"left\"},\"paper_bgcolor\":\"white\",\"plot_bgcolor\":\"#E5ECF6\",\"polar\":{\"bgcolor\":\"#E5ECF6\",\"angularaxis\":{\"gridcolor\":\"white\",\"linecolor\":\"white\",\"ticks\":\"\"},\"radialaxis\":{\"gridcolor\":\"white\",\"linecolor\":\"white\",\"ticks\":\"\"}},\"ternary\":{\"bgcolor\":\"#E5ECF6\",\"aaxis\":{\"gridcolor\":\"white\",\"linecolor\":\"white\",\"ticks\":\"\"},\"baxis\":{\"gridcolor\":\"white\",\"linecolor\":\"white\",\"ticks\":\"\"},\"caxis\":{\"gridcolor\":\"white\",\"linecolor\":\"white\",\"ticks\":\"\"}},\"coloraxis\":{\"colorbar\":{\"outlinewidth\":0,\"ticks\":\"\"}},\"colorscale\":{\"sequential\":[[0.0,\"#0d0887\"],[0.1111111111111111,\"#46039f\"],[0.2222222222222222,\"#7201a8\"],[0.3333333333333333,\"#9c179e\"],[0.4444444444444444,\"#bd3786\"],[0.5555555555555556,\"#d8576b\"],[0.6666666666666666,\"#ed7953\"],[0.7777777777777778,\"#fb9f3a\"],[0.8888888888888888,\"#fdca26\"],[1.0,\"#f0f921\"]],\"sequentialminus\":[[0.0,\"#0d0887\"],[0.1111111111111111,\"#46039f\"],[0.2222222222222222,\"#7201a8\"],[0.3333333333333333,\"#9c179e\"],[0.4444444444444444,\"#bd3786\"],[0.5555555555555556,\"#d8576b\"],[0.6666666666666666,\"#ed7953\"],[0.7777777777777778,\"#fb9f3a\"],[0.8888888888888888,\"#fdca26\"],[1.0,\"#f0f921\"]],\"diverging\":[[0,\"#8e0152\"],[0.1,\"#c51b7d\"],[0.2,\"#de77ae\"],[0.3,\"#f1b6da\"],[0.4,\"#fde0ef\"],[0.5,\"#f7f7f7\"],[0.6,\"#e6f5d0\"],[0.7,\"#b8e186\"],[0.8,\"#7fbc41\"],[0.9,\"#4d9221\"],[1,\"#276419\"]]},\"xaxis\":{\"gridcolor\":\"white\",\"linecolor\":\"white\",\"ticks\":\"\",\"title\":{\"standoff\":15},\"zerolinecolor\":\"white\",\"automargin\":true,\"zerolinewidth\":2},\"yaxis\":{\"gridcolor\":\"white\",\"linecolor\":\"white\",\"ticks\":\"\",\"title\":{\"standoff\":15},\"zerolinecolor\":\"white\",\"automargin\":true,\"zerolinewidth\":2},\"scene\":{\"xaxis\":{\"backgroundcolor\":\"#E5ECF6\",\"gridcolor\":\"white\",\"linecolor\":\"white\",\"showbackground\":true,\"ticks\":\"\",\"zerolinecolor\":\"white\",\"gridwidth\":2},\"yaxis\":{\"backgroundcolor\":\"#E5ECF6\",\"gridcolor\":\"white\",\"linecolor\":\"white\",\"showbackground\":true,\"ticks\":\"\",\"zerolinecolor\":\"white\",\"gridwidth\":2},\"zaxis\":{\"backgroundcolor\":\"#E5ECF6\",\"gridcolor\":\"white\",\"linecolor\":\"white\",\"showbackground\":true,\"ticks\":\"\",\"zerolinecolor\":\"white\",\"gridwidth\":2}},\"shapedefaults\":{\"line\":{\"color\":\"#2a3f5f\"}},\"annotationdefaults\":{\"arrowcolor\":\"#2a3f5f\",\"arrowhead\":0,\"arrowwidth\":1},\"geo\":{\"bgcolor\":\"white\",\"landcolor\":\"#E5ECF6\",\"subunitcolor\":\"white\",\"showland\":true,\"showlakes\":true,\"lakecolor\":\"white\"},\"title\":{\"x\":0.05},\"mapbox\":{\"style\":\"light\"}}},\"xaxis\":{\"anchor\":\"y\",\"domain\":[0.0,1.0],\"title\":{\"text\":\"Location\"}},\"yaxis\":{\"anchor\":\"x\",\"domain\":[0.0,1.0],\"title\":{\"text\":\"Purchase History\"}},\"legend\":{\"title\":{\"text\":\"Gender\"},\"tracegroupgap\":0,\"itemsizing\":\"constant\"},\"title\":{\"text\":\"Purchase History vs Location with Annual Income as Bubble Size\"},\"width\":2700},                        {\"responsive\": true}                    ).then(function(){\n",
              "                            \n",
              "var gd = document.getElementById('7f83c99c-7fa1-4c51-b784-aa346de34662');\n",
              "var x = new MutationObserver(function (mutations, observer) {{\n",
              "        var display = window.getComputedStyle(gd).display;\n",
              "        if (!display || display === 'none') {{\n",
              "            console.log([gd, 'removed!']);\n",
              "            Plotly.purge(gd);\n",
              "            observer.disconnect();\n",
              "        }}\n",
              "}});\n",
              "\n",
              "// Listen for the removal of the full notebook cells\n",
              "var notebookContainer = gd.closest('#notebook-container');\n",
              "if (notebookContainer) {{\n",
              "    x.observe(notebookContainer, {childList: true});\n",
              "}}\n",
              "\n",
              "// Listen for the clearing of the current output cell\n",
              "var outputEl = gd.closest('.output');\n",
              "if (outputEl) {{\n",
              "    x.observe(outputEl, {childList: true});\n",
              "}}\n",
              "\n",
              "                        })                };                            </script>        </div>\n",
              "</body>\n",
              "</html>"
            ]
          },
          "metadata": {}
        }
      ]
    },
    {
      "cell_type": "code",
      "source": [],
      "metadata": {
        "id": "1eT6D6nFiy2z"
      },
      "execution_count": 35,
      "outputs": []
    }
  ]
}