{
  "metadata": {
    "kernelspec": {
      "language": "python",
      "display_name": "Python 3",
      "name": "python3"
    },
    "language_info": {
      "name": "python",
      "version": "3.10.14",
      "mimetype": "text/x-python",
      "codemirror_mode": {
        "name": "ipython",
        "version": 3
      },
      "pygments_lexer": "ipython3",
      "nbconvert_exporter": "python",
      "file_extension": ".py"
    },
    "kaggle": {
      "accelerator": "none",
      "dataSources": [
        {
          "sourceId": 9265317,
          "sourceType": "datasetVersion",
          "datasetId": 5606743
        }
      ],
      "dockerImageVersionId": 30761,
      "isInternetEnabled": true,
      "language": "python",
      "sourceType": "notebook",
      "isGpuEnabled": false
    },
    "colab": {
      "name": "E-commerce | Customer | Behavior | Key Analytics",
      "provenance": [],
      "include_colab_link": true
    }
  },
  "nbformat_minor": 0,
  "nbformat": 4,
  "cells": [
    {
      "cell_type": "markdown",
      "metadata": {
        "id": "view-in-github",
        "colab_type": "text"
      },
      "source": [
        "<a href=\"https://colab.research.google.com/github/gaurav123-sys/E_commerce_EDA/blob/main/E_commerce_%7C_Customer_%7C_Behavior_%7C_Key_Analytics.ipynb\" target=\"_parent\"><img src=\"https://colab.research.google.com/assets/colab-badge.svg\" alt=\"Open In Colab\"/></a>"
      ]
    },
    {
      "source": [],
      "metadata": {
        "id": "lB7xBRQDdNC4"
      },
      "cell_type": "code",
      "outputs": [],
      "execution_count": 2
    },
    {
      "cell_type": "markdown",
      "source": [
        "# **1. Data Collection**"
      ],
      "metadata": {
        "id": "pujHUtkMdNC8"
      }
    },
    {
      "cell_type": "markdown",
      "source": [
        "**1.1- Importing File formats**"
      ],
      "metadata": {
        "id": "iSRG6lzYdNC9"
      }
    },
    {
      "cell_type": "code",
      "source": [
        "import pandas as pd\n",
        "\n",
        "# Importing CSV file\n",
        "df = pd.read_csv('E-commerce.csv')"
      ],
      "metadata": {
        "execution": {
          "iopub.status.busy": "2024-10-03T09:17:36.206809Z",
          "iopub.execute_input": "2024-10-03T09:17:36.207234Z",
          "iopub.status.idle": "2024-10-03T09:17:36.683942Z",
          "shell.execute_reply.started": "2024-10-03T09:17:36.207193Z",
          "shell.execute_reply": "2024-10-03T09:17:36.682776Z"
        },
        "trusted": true,
        "id": "jM8CJkLhdNC-"
      },
      "execution_count": 3,
      "outputs": []
    },
    {
      "cell_type": "markdown",
      "source": [
        "**1.21- Checking Data Types:**"
      ],
      "metadata": {
        "id": "ZaxjKKT_dNC-"
      }
    },
    {
      "cell_type": "code",
      "source": [
        "data_types = df.dtypes\n",
        "print(data_types)"
      ],
      "metadata": {
        "execution": {
          "iopub.status.busy": "2024-10-03T09:17:38.544107Z",
          "iopub.execute_input": "2024-10-03T09:17:38.544561Z",
          "iopub.status.idle": "2024-10-03T09:17:38.553846Z",
          "shell.execute_reply.started": "2024-10-03T09:17:38.544515Z",
          "shell.execute_reply": "2024-10-03T09:17:38.55247Z"
        },
        "trusted": true,
        "colab": {
          "base_uri": "https://localhost:8080/"
        },
        "id": "5zi6m7oTdNC_",
        "outputId": "a602f3ce-9cbd-41c5-aef4-4e2be7b5b791"
      },
      "execution_count": 4,
      "outputs": [
        {
          "output_type": "stream",
          "name": "stdout",
          "text": [
            "Customer ID           int64\n",
            "Age                   int64\n",
            "Gender               object\n",
            "Location             object\n",
            "Annual Income         int64\n",
            "Purchase History     object\n",
            "Browsing History     object\n",
            "Product Reviews      object\n",
            "Time on Site        float64\n",
            "dtype: object\n"
          ]
        }
      ]
    },
    {
      "cell_type": "markdown",
      "source": [
        "**1.22- Checking Duplicates:**"
      ],
      "metadata": {
        "id": "WpzP1GwJdNC_"
      }
    },
    {
      "cell_type": "code",
      "source": [
        "duplicates = df.duplicated().sum()\n",
        "print(f'Duplicates: {duplicates}')"
      ],
      "metadata": {
        "execution": {
          "iopub.status.busy": "2024-10-03T09:17:39.042302Z",
          "iopub.execute_input": "2024-10-03T09:17:39.042861Z",
          "iopub.status.idle": "2024-10-03T09:17:39.061278Z",
          "shell.execute_reply.started": "2024-10-03T09:17:39.042803Z",
          "shell.execute_reply": "2024-10-03T09:17:39.059831Z"
        },
        "trusted": true,
        "colab": {
          "base_uri": "https://localhost:8080/"
        },
        "id": "_OoZtMoGdNDA",
        "outputId": "b247eb69-5a83-4561-8e9d-535f4b795eb0"
      },
      "execution_count": 5,
      "outputs": [
        {
          "output_type": "stream",
          "name": "stdout",
          "text": [
            "Duplicates: 0\n"
          ]
        }
      ]
    },
    {
      "cell_type": "markdown",
      "source": [
        "# **2. Data Exploration**"
      ],
      "metadata": {
        "id": "nvuuYLWpdNDA"
      }
    },
    {
      "cell_type": "markdown",
      "source": [
        "**2.1- Understanding the Structure**"
      ],
      "metadata": {
        "id": "icii9cwLdNDA"
      }
    },
    {
      "cell_type": "markdown",
      "source": [
        "**2.11- View the First Few Rows:**"
      ],
      "metadata": {
        "id": "_YgHXmvGdNDB"
      }
    },
    {
      "cell_type": "code",
      "source": [
        "df.head()"
      ],
      "metadata": {
        "execution": {
          "iopub.status.busy": "2024-10-03T09:17:39.938189Z",
          "iopub.execute_input": "2024-10-03T09:17:39.938667Z",
          "iopub.status.idle": "2024-10-03T09:17:39.962544Z",
          "shell.execute_reply.started": "2024-10-03T09:17:39.938614Z",
          "shell.execute_reply": "2024-10-03T09:17:39.961416Z"
        },
        "trusted": true,
        "colab": {
          "base_uri": "https://localhost:8080/",
          "height": 310
        },
        "id": "rd29BVrIdNDB",
        "outputId": "f156f812-1a1f-4733-9b64-4187e4ed7850"
      },
      "execution_count": 6,
      "outputs": [
        {
          "output_type": "execute_result",
          "data": {
            "text/plain": [
              "   Customer ID  Age  Gender Location  Annual Income  \\\n",
              "0         1001   25  Female   City D          45000   \n",
              "1         1001   28  Female   City D          52000   \n",
              "2         1001   28  Female   City D          65000   \n",
              "3         1001   45  Female   City D          70000   \n",
              "4         1002   34    Male   City E          45000   \n",
              "\n",
              "                                    Purchase History  \\\n",
              "0  [{\"Date\": \"2022-03-05\", \"Category\": \"Clothing\"...   \n",
              "1  [{\"Product Category\": \"Clothing\", \"Purchase Da...   \n",
              "2  [{\"Product Category\": \"Electronics\", \"Purchase...   \n",
              "3  {'Purchase Date': '2022-08-15', 'Product Categ...   \n",
              "4  {'Purchase Date': '2022-07-25', 'Product Categ...   \n",
              "\n",
              "                                    Browsing History  \\\n",
              "0  [{\"Timestamp\": \"2022-03-10T14:30:00Z\"}, {\"Time...   \n",
              "1  [{\"Product Category\": \"Home & Garden\", \"Timest...   \n",
              "2  [{\"Product Category\": \"Clothing\", \"Timestamp\":...   \n",
              "3               {'Timestamp': '2022-09-03 14:30:00'}   \n",
              "4               {'Timestamp': '2022-08-10 17:15:00'}   \n",
              "\n",
              "                                     Product Reviews  Time on Site  \n",
              "0  Great pair of jeans, very comfortable. Rating:...         32.50  \n",
              "1                            Great customer service!        123.45  \n",
              "2  Great electronics. The sound quality is excell...        125.60  \n",
              "3  {\"Product 1\": {\"Rating\": 4, \"Review\": \"Great e...        327.60  \n",
              "4  {\"Product 1\": {\"Rating\": 3, \"Review\": \"Good pr...        214.90  "
            ],
            "text/html": [
              "\n",
              "  <div id=\"df-070bbbc9-12c8-46cb-b27c-919fee84c22f\" class=\"colab-df-container\">\n",
              "    <div>\n",
              "<style scoped>\n",
              "    .dataframe tbody tr th:only-of-type {\n",
              "        vertical-align: middle;\n",
              "    }\n",
              "\n",
              "    .dataframe tbody tr th {\n",
              "        vertical-align: top;\n",
              "    }\n",
              "\n",
              "    .dataframe thead th {\n",
              "        text-align: right;\n",
              "    }\n",
              "</style>\n",
              "<table border=\"1\" class=\"dataframe\">\n",
              "  <thead>\n",
              "    <tr style=\"text-align: right;\">\n",
              "      <th></th>\n",
              "      <th>Customer ID</th>\n",
              "      <th>Age</th>\n",
              "      <th>Gender</th>\n",
              "      <th>Location</th>\n",
              "      <th>Annual Income</th>\n",
              "      <th>Purchase History</th>\n",
              "      <th>Browsing History</th>\n",
              "      <th>Product Reviews</th>\n",
              "      <th>Time on Site</th>\n",
              "    </tr>\n",
              "  </thead>\n",
              "  <tbody>\n",
              "    <tr>\n",
              "      <th>0</th>\n",
              "      <td>1001</td>\n",
              "      <td>25</td>\n",
              "      <td>Female</td>\n",
              "      <td>City D</td>\n",
              "      <td>45000</td>\n",
              "      <td>[{\"Date\": \"2022-03-05\", \"Category\": \"Clothing\"...</td>\n",
              "      <td>[{\"Timestamp\": \"2022-03-10T14:30:00Z\"}, {\"Time...</td>\n",
              "      <td>Great pair of jeans, very comfortable. Rating:...</td>\n",
              "      <td>32.50</td>\n",
              "    </tr>\n",
              "    <tr>\n",
              "      <th>1</th>\n",
              "      <td>1001</td>\n",
              "      <td>28</td>\n",
              "      <td>Female</td>\n",
              "      <td>City D</td>\n",
              "      <td>52000</td>\n",
              "      <td>[{\"Product Category\": \"Clothing\", \"Purchase Da...</td>\n",
              "      <td>[{\"Product Category\": \"Home &amp; Garden\", \"Timest...</td>\n",
              "      <td>Great customer service!</td>\n",
              "      <td>123.45</td>\n",
              "    </tr>\n",
              "    <tr>\n",
              "      <th>2</th>\n",
              "      <td>1001</td>\n",
              "      <td>28</td>\n",
              "      <td>Female</td>\n",
              "      <td>City D</td>\n",
              "      <td>65000</td>\n",
              "      <td>[{\"Product Category\": \"Electronics\", \"Purchase...</td>\n",
              "      <td>[{\"Product Category\": \"Clothing\", \"Timestamp\":...</td>\n",
              "      <td>Great electronics. The sound quality is excell...</td>\n",
              "      <td>125.60</td>\n",
              "    </tr>\n",
              "    <tr>\n",
              "      <th>3</th>\n",
              "      <td>1001</td>\n",
              "      <td>45</td>\n",
              "      <td>Female</td>\n",
              "      <td>City D</td>\n",
              "      <td>70000</td>\n",
              "      <td>{'Purchase Date': '2022-08-15', 'Product Categ...</td>\n",
              "      <td>{'Timestamp': '2022-09-03 14:30:00'}</td>\n",
              "      <td>{\"Product 1\": {\"Rating\": 4, \"Review\": \"Great e...</td>\n",
              "      <td>327.60</td>\n",
              "    </tr>\n",
              "    <tr>\n",
              "      <th>4</th>\n",
              "      <td>1002</td>\n",
              "      <td>34</td>\n",
              "      <td>Male</td>\n",
              "      <td>City E</td>\n",
              "      <td>45000</td>\n",
              "      <td>{'Purchase Date': '2022-07-25', 'Product Categ...</td>\n",
              "      <td>{'Timestamp': '2022-08-10 17:15:00'}</td>\n",
              "      <td>{\"Product 1\": {\"Rating\": 3, \"Review\": \"Good pr...</td>\n",
              "      <td>214.90</td>\n",
              "    </tr>\n",
              "  </tbody>\n",
              "</table>\n",
              "</div>\n",
              "    <div class=\"colab-df-buttons\">\n",
              "\n",
              "  <div class=\"colab-df-container\">\n",
              "    <button class=\"colab-df-convert\" onclick=\"convertToInteractive('df-070bbbc9-12c8-46cb-b27c-919fee84c22f')\"\n",
              "            title=\"Convert this dataframe to an interactive table.\"\n",
              "            style=\"display:none;\">\n",
              "\n",
              "  <svg xmlns=\"http://www.w3.org/2000/svg\" height=\"24px\" viewBox=\"0 -960 960 960\">\n",
              "    <path d=\"M120-120v-720h720v720H120Zm60-500h600v-160H180v160Zm220 220h160v-160H400v160Zm0 220h160v-160H400v160ZM180-400h160v-160H180v160Zm440 0h160v-160H620v160ZM180-180h160v-160H180v160Zm440 0h160v-160H620v160Z\"/>\n",
              "  </svg>\n",
              "    </button>\n",
              "\n",
              "  <style>\n",
              "    .colab-df-container {\n",
              "      display:flex;\n",
              "      gap: 12px;\n",
              "    }\n",
              "\n",
              "    .colab-df-convert {\n",
              "      background-color: #E8F0FE;\n",
              "      border: none;\n",
              "      border-radius: 50%;\n",
              "      cursor: pointer;\n",
              "      display: none;\n",
              "      fill: #1967D2;\n",
              "      height: 32px;\n",
              "      padding: 0 0 0 0;\n",
              "      width: 32px;\n",
              "    }\n",
              "\n",
              "    .colab-df-convert:hover {\n",
              "      background-color: #E2EBFA;\n",
              "      box-shadow: 0px 1px 2px rgba(60, 64, 67, 0.3), 0px 1px 3px 1px rgba(60, 64, 67, 0.15);\n",
              "      fill: #174EA6;\n",
              "    }\n",
              "\n",
              "    .colab-df-buttons div {\n",
              "      margin-bottom: 4px;\n",
              "    }\n",
              "\n",
              "    [theme=dark] .colab-df-convert {\n",
              "      background-color: #3B4455;\n",
              "      fill: #D2E3FC;\n",
              "    }\n",
              "\n",
              "    [theme=dark] .colab-df-convert:hover {\n",
              "      background-color: #434B5C;\n",
              "      box-shadow: 0px 1px 3px 1px rgba(0, 0, 0, 0.15);\n",
              "      filter: drop-shadow(0px 1px 2px rgba(0, 0, 0, 0.3));\n",
              "      fill: #FFFFFF;\n",
              "    }\n",
              "  </style>\n",
              "\n",
              "    <script>\n",
              "      const buttonEl =\n",
              "        document.querySelector('#df-070bbbc9-12c8-46cb-b27c-919fee84c22f button.colab-df-convert');\n",
              "      buttonEl.style.display =\n",
              "        google.colab.kernel.accessAllowed ? 'block' : 'none';\n",
              "\n",
              "      async function convertToInteractive(key) {\n",
              "        const element = document.querySelector('#df-070bbbc9-12c8-46cb-b27c-919fee84c22f');\n",
              "        const dataTable =\n",
              "          await google.colab.kernel.invokeFunction('convertToInteractive',\n",
              "                                                    [key], {});\n",
              "        if (!dataTable) return;\n",
              "\n",
              "        const docLinkHtml = 'Like what you see? Visit the ' +\n",
              "          '<a target=\"_blank\" href=https://colab.research.google.com/notebooks/data_table.ipynb>data table notebook</a>'\n",
              "          + ' to learn more about interactive tables.';\n",
              "        element.innerHTML = '';\n",
              "        dataTable['output_type'] = 'display_data';\n",
              "        await google.colab.output.renderOutput(dataTable, element);\n",
              "        const docLink = document.createElement('div');\n",
              "        docLink.innerHTML = docLinkHtml;\n",
              "        element.appendChild(docLink);\n",
              "      }\n",
              "    </script>\n",
              "  </div>\n",
              "\n",
              "\n",
              "<div id=\"df-7598e4eb-cdd4-45fa-9f03-328d7e957630\">\n",
              "  <button class=\"colab-df-quickchart\" onclick=\"quickchart('df-7598e4eb-cdd4-45fa-9f03-328d7e957630')\"\n",
              "            title=\"Suggest charts\"\n",
              "            style=\"display:none;\">\n",
              "\n",
              "<svg xmlns=\"http://www.w3.org/2000/svg\" height=\"24px\"viewBox=\"0 0 24 24\"\n",
              "     width=\"24px\">\n",
              "    <g>\n",
              "        <path d=\"M19 3H5c-1.1 0-2 .9-2 2v14c0 1.1.9 2 2 2h14c1.1 0 2-.9 2-2V5c0-1.1-.9-2-2-2zM9 17H7v-7h2v7zm4 0h-2V7h2v10zm4 0h-2v-4h2v4z\"/>\n",
              "    </g>\n",
              "</svg>\n",
              "  </button>\n",
              "\n",
              "<style>\n",
              "  .colab-df-quickchart {\n",
              "      --bg-color: #E8F0FE;\n",
              "      --fill-color: #1967D2;\n",
              "      --hover-bg-color: #E2EBFA;\n",
              "      --hover-fill-color: #174EA6;\n",
              "      --disabled-fill-color: #AAA;\n",
              "      --disabled-bg-color: #DDD;\n",
              "  }\n",
              "\n",
              "  [theme=dark] .colab-df-quickchart {\n",
              "      --bg-color: #3B4455;\n",
              "      --fill-color: #D2E3FC;\n",
              "      --hover-bg-color: #434B5C;\n",
              "      --hover-fill-color: #FFFFFF;\n",
              "      --disabled-bg-color: #3B4455;\n",
              "      --disabled-fill-color: #666;\n",
              "  }\n",
              "\n",
              "  .colab-df-quickchart {\n",
              "    background-color: var(--bg-color);\n",
              "    border: none;\n",
              "    border-radius: 50%;\n",
              "    cursor: pointer;\n",
              "    display: none;\n",
              "    fill: var(--fill-color);\n",
              "    height: 32px;\n",
              "    padding: 0;\n",
              "    width: 32px;\n",
              "  }\n",
              "\n",
              "  .colab-df-quickchart:hover {\n",
              "    background-color: var(--hover-bg-color);\n",
              "    box-shadow: 0 1px 2px rgba(60, 64, 67, 0.3), 0 1px 3px 1px rgba(60, 64, 67, 0.15);\n",
              "    fill: var(--button-hover-fill-color);\n",
              "  }\n",
              "\n",
              "  .colab-df-quickchart-complete:disabled,\n",
              "  .colab-df-quickchart-complete:disabled:hover {\n",
              "    background-color: var(--disabled-bg-color);\n",
              "    fill: var(--disabled-fill-color);\n",
              "    box-shadow: none;\n",
              "  }\n",
              "\n",
              "  .colab-df-spinner {\n",
              "    border: 2px solid var(--fill-color);\n",
              "    border-color: transparent;\n",
              "    border-bottom-color: var(--fill-color);\n",
              "    animation:\n",
              "      spin 1s steps(1) infinite;\n",
              "  }\n",
              "\n",
              "  @keyframes spin {\n",
              "    0% {\n",
              "      border-color: transparent;\n",
              "      border-bottom-color: var(--fill-color);\n",
              "      border-left-color: var(--fill-color);\n",
              "    }\n",
              "    20% {\n",
              "      border-color: transparent;\n",
              "      border-left-color: var(--fill-color);\n",
              "      border-top-color: var(--fill-color);\n",
              "    }\n",
              "    30% {\n",
              "      border-color: transparent;\n",
              "      border-left-color: var(--fill-color);\n",
              "      border-top-color: var(--fill-color);\n",
              "      border-right-color: var(--fill-color);\n",
              "    }\n",
              "    40% {\n",
              "      border-color: transparent;\n",
              "      border-right-color: var(--fill-color);\n",
              "      border-top-color: var(--fill-color);\n",
              "    }\n",
              "    60% {\n",
              "      border-color: transparent;\n",
              "      border-right-color: var(--fill-color);\n",
              "    }\n",
              "    80% {\n",
              "      border-color: transparent;\n",
              "      border-right-color: var(--fill-color);\n",
              "      border-bottom-color: var(--fill-color);\n",
              "    }\n",
              "    90% {\n",
              "      border-color: transparent;\n",
              "      border-bottom-color: var(--fill-color);\n",
              "    }\n",
              "  }\n",
              "</style>\n",
              "\n",
              "  <script>\n",
              "    async function quickchart(key) {\n",
              "      const quickchartButtonEl =\n",
              "        document.querySelector('#' + key + ' button');\n",
              "      quickchartButtonEl.disabled = true;  // To prevent multiple clicks.\n",
              "      quickchartButtonEl.classList.add('colab-df-spinner');\n",
              "      try {\n",
              "        const charts = await google.colab.kernel.invokeFunction(\n",
              "            'suggestCharts', [key], {});\n",
              "      } catch (error) {\n",
              "        console.error('Error during call to suggestCharts:', error);\n",
              "      }\n",
              "      quickchartButtonEl.classList.remove('colab-df-spinner');\n",
              "      quickchartButtonEl.classList.add('colab-df-quickchart-complete');\n",
              "    }\n",
              "    (() => {\n",
              "      let quickchartButtonEl =\n",
              "        document.querySelector('#df-7598e4eb-cdd4-45fa-9f03-328d7e957630 button');\n",
              "      quickchartButtonEl.style.display =\n",
              "        google.colab.kernel.accessAllowed ? 'block' : 'none';\n",
              "    })();\n",
              "  </script>\n",
              "</div>\n",
              "\n",
              "    </div>\n",
              "  </div>\n"
            ],
            "application/vnd.google.colaboratory.intrinsic+json": {
              "type": "dataframe",
              "variable_name": "df",
              "summary": "{\n  \"name\": \"df\",\n  \"rows\": 50,\n  \"fields\": [\n    {\n      \"column\": \"Customer ID\",\n      \"properties\": {\n        \"dtype\": \"number\",\n        \"std\": 3,\n        \"min\": 1001,\n        \"max\": 1013,\n        \"num_unique_values\": 13,\n        \"samples\": [\n          1012,\n          1010,\n          1001\n        ],\n        \"semantic_type\": \"\",\n        \"description\": \"\"\n      }\n    },\n    {\n      \"column\": \"Age\",\n      \"properties\": {\n        \"dtype\": \"number\",\n        \"std\": 11,\n        \"min\": 24,\n        \"max\": 65,\n        \"num_unique_values\": 22,\n        \"samples\": [\n          25,\n          38,\n          36\n        ],\n        \"semantic_type\": \"\",\n        \"description\": \"\"\n      }\n    },\n    {\n      \"column\": \"Gender\",\n      \"properties\": {\n        \"dtype\": \"category\",\n        \"num_unique_values\": 3,\n        \"samples\": [\n          \"Female\",\n          \"Male\",\n          \"Other\"\n        ],\n        \"semantic_type\": \"\",\n        \"description\": \"\"\n      }\n    },\n    {\n      \"column\": \"Location\",\n      \"properties\": {\n        \"dtype\": \"category\",\n        \"num_unique_values\": 16,\n        \"samples\": [\n          \"City D\",\n          \"City E\",\n          \"City I\"\n        ],\n        \"semantic_type\": \"\",\n        \"description\": \"\"\n      }\n    },\n    {\n      \"column\": \"Annual Income\",\n      \"properties\": {\n        \"dtype\": \"number\",\n        \"std\": 17059,\n        \"min\": 40000,\n        \"max\": 100000,\n        \"num_unique_values\": 17,\n        \"samples\": [\n          45000,\n          52000,\n          60000\n        ],\n        \"semantic_type\": \"\",\n        \"description\": \"\"\n      }\n    },\n    {\n      \"column\": \"Purchase History\",\n      \"properties\": {\n        \"dtype\": \"string\",\n        \"num_unique_values\": 50,\n        \"samples\": [\n          \"{'Purchase Date': '2022-02-15', 'Product Category': 'Electronics', 'Price': 250},{'Purchase Date': '2022-05-10', 'Product Category': 'Clothing', 'Price': 34.99}\",\n          \"[{\\\"Product Category\\\": \\\"Electronics\\\", \\\"Purchase Date\\\": \\\"2022-03-15\\\", \\\"Price\\\": 250.5}, {\\\"Product Category\\\": \\\"Clothing\\\", \\\"Purchase Date\\\": \\\"2022-02-01\\\", \\\"Price\\\": 125.8}]\",\n          \"{'Purchase Date': '2022-05-23', 'Product Category': 'Electronics', 'Price': 400},{'Purchase Date': '2022-06-03', 'Product Category': 'Home & Garden', 'Price': 200}\"\n        ],\n        \"semantic_type\": \"\",\n        \"description\": \"\"\n      }\n    },\n    {\n      \"column\": \"Browsing History\",\n      \"properties\": {\n        \"dtype\": \"string\",\n        \"num_unique_values\": 50,\n        \"samples\": [\n          \"{'Timestamp': '2022-05-12 16:15:00'}\",\n          \"[{\\\"Product Category\\\": \\\"Home & Garden\\\", \\\"Timestamp\\\": \\\"2022-04-03T15:30:00Z\\\"}, {\\\"Product Category\\\": \\\"Electronics\\\", \\\"Timestamp\\\": \\\"2022-03-28T08:45:00Z\\\"}]\",\n          \"{'Timestamp': '2022-06-06T08:00:00Z'}\"\n        ],\n        \"semantic_type\": \"\",\n        \"description\": \"\"\n      }\n    },\n    {\n      \"column\": \"Product Reviews\",\n      \"properties\": {\n        \"dtype\": \"string\",\n        \"num_unique_values\": 47,\n        \"samples\": [\n          \"The phone is fantastic. 5 stars!\",\n          \"Great purchase! The shoes are so comfortable and stylish. I've received several compliments.\",\n          \"The top is nice, but the size is a bit small. 3.5 stars.\"\n        ],\n        \"semantic_type\": \"\",\n        \"description\": \"\"\n      }\n    },\n    {\n      \"column\": \"Time on Site\",\n      \"properties\": {\n        \"dtype\": \"number\",\n        \"std\": 109.66973630972628,\n        \"min\": 32.5,\n        \"max\": 486.3,\n        \"num_unique_values\": 32,\n        \"samples\": [\n          246.9,\n          150.0,\n          350.0\n        ],\n        \"semantic_type\": \"\",\n        \"description\": \"\"\n      }\n    }\n  ]\n}"
            }
          },
          "metadata": {},
          "execution_count": 6
        }
      ]
    },
    {
      "cell_type": "markdown",
      "source": [
        "**2.12- View DataFrame Information:**"
      ],
      "metadata": {
        "id": "i3MNEzD1dNDB"
      }
    },
    {
      "cell_type": "code",
      "source": [
        "df.info()"
      ],
      "metadata": {
        "execution": {
          "iopub.status.busy": "2024-10-03T09:17:40.286368Z",
          "iopub.execute_input": "2024-10-03T09:17:40.287279Z",
          "iopub.status.idle": "2024-10-03T09:17:40.309758Z",
          "shell.execute_reply.started": "2024-10-03T09:17:40.287229Z",
          "shell.execute_reply": "2024-10-03T09:17:40.308505Z"
        },
        "trusted": true,
        "colab": {
          "base_uri": "https://localhost:8080/"
        },
        "id": "m_crCfXwdNDB",
        "outputId": "0301d4d8-925c-4e95-ff2f-e0b6403a6c20"
      },
      "execution_count": 7,
      "outputs": [
        {
          "output_type": "stream",
          "name": "stdout",
          "text": [
            "<class 'pandas.core.frame.DataFrame'>\n",
            "RangeIndex: 50 entries, 0 to 49\n",
            "Data columns (total 9 columns):\n",
            " #   Column            Non-Null Count  Dtype  \n",
            "---  ------            --------------  -----  \n",
            " 0   Customer ID       50 non-null     int64  \n",
            " 1   Age               50 non-null     int64  \n",
            " 2   Gender            50 non-null     object \n",
            " 3   Location          50 non-null     object \n",
            " 4   Annual Income     50 non-null     int64  \n",
            " 5   Purchase History  50 non-null     object \n",
            " 6   Browsing History  50 non-null     object \n",
            " 7   Product Reviews   50 non-null     object \n",
            " 8   Time on Site      50 non-null     float64\n",
            "dtypes: float64(1), int64(3), object(5)\n",
            "memory usage: 3.6+ KB\n"
          ]
        }
      ]
    },
    {
      "cell_type": "markdown",
      "source": [
        "**2.13- Summary Statistics:**"
      ],
      "metadata": {
        "id": "ZMxTdXbEdNDB"
      }
    },
    {
      "cell_type": "code",
      "source": [
        "df.describe()"
      ],
      "metadata": {
        "execution": {
          "iopub.status.busy": "2024-10-03T09:17:40.312281Z",
          "iopub.execute_input": "2024-10-03T09:17:40.312802Z",
          "iopub.status.idle": "2024-10-03T09:17:40.342118Z",
          "shell.execute_reply.started": "2024-10-03T09:17:40.312743Z",
          "shell.execute_reply": "2024-10-03T09:17:40.340838Z"
        },
        "trusted": true,
        "colab": {
          "base_uri": "https://localhost:8080/",
          "height": 300
        },
        "id": "ZIT8RipndNDB",
        "outputId": "6e94a6d8-c280-43f1-be7d-6b6f95d23e18"
      },
      "execution_count": 8,
      "outputs": [
        {
          "output_type": "execute_result",
          "data": {
            "text/plain": [
              "       Customer ID        Age  Annual Income  Time on Site\n",
              "count    50.000000  50.000000      50.000000     50.000000\n",
              "mean   1004.880000  39.960000   65780.000000    232.597000\n",
              "std       3.623281  11.067437   17059.667198    109.669736\n",
              "min    1001.000000  24.000000   40000.000000     32.500000\n",
              "25%    1002.000000  30.250000   50500.000000    124.100000\n",
              "50%    1004.000000  37.000000   65000.000000    243.450000\n",
              "75%    1007.750000  48.000000   80000.000000    300.000000\n",
              "max    1013.000000  65.000000  100000.000000    486.300000"
            ],
            "text/html": [
              "\n",
              "  <div id=\"df-128997b9-ae37-4a9f-8103-8431616b321c\" class=\"colab-df-container\">\n",
              "    <div>\n",
              "<style scoped>\n",
              "    .dataframe tbody tr th:only-of-type {\n",
              "        vertical-align: middle;\n",
              "    }\n",
              "\n",
              "    .dataframe tbody tr th {\n",
              "        vertical-align: top;\n",
              "    }\n",
              "\n",
              "    .dataframe thead th {\n",
              "        text-align: right;\n",
              "    }\n",
              "</style>\n",
              "<table border=\"1\" class=\"dataframe\">\n",
              "  <thead>\n",
              "    <tr style=\"text-align: right;\">\n",
              "      <th></th>\n",
              "      <th>Customer ID</th>\n",
              "      <th>Age</th>\n",
              "      <th>Annual Income</th>\n",
              "      <th>Time on Site</th>\n",
              "    </tr>\n",
              "  </thead>\n",
              "  <tbody>\n",
              "    <tr>\n",
              "      <th>count</th>\n",
              "      <td>50.000000</td>\n",
              "      <td>50.000000</td>\n",
              "      <td>50.000000</td>\n",
              "      <td>50.000000</td>\n",
              "    </tr>\n",
              "    <tr>\n",
              "      <th>mean</th>\n",
              "      <td>1004.880000</td>\n",
              "      <td>39.960000</td>\n",
              "      <td>65780.000000</td>\n",
              "      <td>232.597000</td>\n",
              "    </tr>\n",
              "    <tr>\n",
              "      <th>std</th>\n",
              "      <td>3.623281</td>\n",
              "      <td>11.067437</td>\n",
              "      <td>17059.667198</td>\n",
              "      <td>109.669736</td>\n",
              "    </tr>\n",
              "    <tr>\n",
              "      <th>min</th>\n",
              "      <td>1001.000000</td>\n",
              "      <td>24.000000</td>\n",
              "      <td>40000.000000</td>\n",
              "      <td>32.500000</td>\n",
              "    </tr>\n",
              "    <tr>\n",
              "      <th>25%</th>\n",
              "      <td>1002.000000</td>\n",
              "      <td>30.250000</td>\n",
              "      <td>50500.000000</td>\n",
              "      <td>124.100000</td>\n",
              "    </tr>\n",
              "    <tr>\n",
              "      <th>50%</th>\n",
              "      <td>1004.000000</td>\n",
              "      <td>37.000000</td>\n",
              "      <td>65000.000000</td>\n",
              "      <td>243.450000</td>\n",
              "    </tr>\n",
              "    <tr>\n",
              "      <th>75%</th>\n",
              "      <td>1007.750000</td>\n",
              "      <td>48.000000</td>\n",
              "      <td>80000.000000</td>\n",
              "      <td>300.000000</td>\n",
              "    </tr>\n",
              "    <tr>\n",
              "      <th>max</th>\n",
              "      <td>1013.000000</td>\n",
              "      <td>65.000000</td>\n",
              "      <td>100000.000000</td>\n",
              "      <td>486.300000</td>\n",
              "    </tr>\n",
              "  </tbody>\n",
              "</table>\n",
              "</div>\n",
              "    <div class=\"colab-df-buttons\">\n",
              "\n",
              "  <div class=\"colab-df-container\">\n",
              "    <button class=\"colab-df-convert\" onclick=\"convertToInteractive('df-128997b9-ae37-4a9f-8103-8431616b321c')\"\n",
              "            title=\"Convert this dataframe to an interactive table.\"\n",
              "            style=\"display:none;\">\n",
              "\n",
              "  <svg xmlns=\"http://www.w3.org/2000/svg\" height=\"24px\" viewBox=\"0 -960 960 960\">\n",
              "    <path d=\"M120-120v-720h720v720H120Zm60-500h600v-160H180v160Zm220 220h160v-160H400v160Zm0 220h160v-160H400v160ZM180-400h160v-160H180v160Zm440 0h160v-160H620v160ZM180-180h160v-160H180v160Zm440 0h160v-160H620v160Z\"/>\n",
              "  </svg>\n",
              "    </button>\n",
              "\n",
              "  <style>\n",
              "    .colab-df-container {\n",
              "      display:flex;\n",
              "      gap: 12px;\n",
              "    }\n",
              "\n",
              "    .colab-df-convert {\n",
              "      background-color: #E8F0FE;\n",
              "      border: none;\n",
              "      border-radius: 50%;\n",
              "      cursor: pointer;\n",
              "      display: none;\n",
              "      fill: #1967D2;\n",
              "      height: 32px;\n",
              "      padding: 0 0 0 0;\n",
              "      width: 32px;\n",
              "    }\n",
              "\n",
              "    .colab-df-convert:hover {\n",
              "      background-color: #E2EBFA;\n",
              "      box-shadow: 0px 1px 2px rgba(60, 64, 67, 0.3), 0px 1px 3px 1px rgba(60, 64, 67, 0.15);\n",
              "      fill: #174EA6;\n",
              "    }\n",
              "\n",
              "    .colab-df-buttons div {\n",
              "      margin-bottom: 4px;\n",
              "    }\n",
              "\n",
              "    [theme=dark] .colab-df-convert {\n",
              "      background-color: #3B4455;\n",
              "      fill: #D2E3FC;\n",
              "    }\n",
              "\n",
              "    [theme=dark] .colab-df-convert:hover {\n",
              "      background-color: #434B5C;\n",
              "      box-shadow: 0px 1px 3px 1px rgba(0, 0, 0, 0.15);\n",
              "      filter: drop-shadow(0px 1px 2px rgba(0, 0, 0, 0.3));\n",
              "      fill: #FFFFFF;\n",
              "    }\n",
              "  </style>\n",
              "\n",
              "    <script>\n",
              "      const buttonEl =\n",
              "        document.querySelector('#df-128997b9-ae37-4a9f-8103-8431616b321c button.colab-df-convert');\n",
              "      buttonEl.style.display =\n",
              "        google.colab.kernel.accessAllowed ? 'block' : 'none';\n",
              "\n",
              "      async function convertToInteractive(key) {\n",
              "        const element = document.querySelector('#df-128997b9-ae37-4a9f-8103-8431616b321c');\n",
              "        const dataTable =\n",
              "          await google.colab.kernel.invokeFunction('convertToInteractive',\n",
              "                                                    [key], {});\n",
              "        if (!dataTable) return;\n",
              "\n",
              "        const docLinkHtml = 'Like what you see? Visit the ' +\n",
              "          '<a target=\"_blank\" href=https://colab.research.google.com/notebooks/data_table.ipynb>data table notebook</a>'\n",
              "          + ' to learn more about interactive tables.';\n",
              "        element.innerHTML = '';\n",
              "        dataTable['output_type'] = 'display_data';\n",
              "        await google.colab.output.renderOutput(dataTable, element);\n",
              "        const docLink = document.createElement('div');\n",
              "        docLink.innerHTML = docLinkHtml;\n",
              "        element.appendChild(docLink);\n",
              "      }\n",
              "    </script>\n",
              "  </div>\n",
              "\n",
              "\n",
              "<div id=\"df-55d67467-0c5c-465b-9e70-bcb6bd62011a\">\n",
              "  <button class=\"colab-df-quickchart\" onclick=\"quickchart('df-55d67467-0c5c-465b-9e70-bcb6bd62011a')\"\n",
              "            title=\"Suggest charts\"\n",
              "            style=\"display:none;\">\n",
              "\n",
              "<svg xmlns=\"http://www.w3.org/2000/svg\" height=\"24px\"viewBox=\"0 0 24 24\"\n",
              "     width=\"24px\">\n",
              "    <g>\n",
              "        <path d=\"M19 3H5c-1.1 0-2 .9-2 2v14c0 1.1.9 2 2 2h14c1.1 0 2-.9 2-2V5c0-1.1-.9-2-2-2zM9 17H7v-7h2v7zm4 0h-2V7h2v10zm4 0h-2v-4h2v4z\"/>\n",
              "    </g>\n",
              "</svg>\n",
              "  </button>\n",
              "\n",
              "<style>\n",
              "  .colab-df-quickchart {\n",
              "      --bg-color: #E8F0FE;\n",
              "      --fill-color: #1967D2;\n",
              "      --hover-bg-color: #E2EBFA;\n",
              "      --hover-fill-color: #174EA6;\n",
              "      --disabled-fill-color: #AAA;\n",
              "      --disabled-bg-color: #DDD;\n",
              "  }\n",
              "\n",
              "  [theme=dark] .colab-df-quickchart {\n",
              "      --bg-color: #3B4455;\n",
              "      --fill-color: #D2E3FC;\n",
              "      --hover-bg-color: #434B5C;\n",
              "      --hover-fill-color: #FFFFFF;\n",
              "      --disabled-bg-color: #3B4455;\n",
              "      --disabled-fill-color: #666;\n",
              "  }\n",
              "\n",
              "  .colab-df-quickchart {\n",
              "    background-color: var(--bg-color);\n",
              "    border: none;\n",
              "    border-radius: 50%;\n",
              "    cursor: pointer;\n",
              "    display: none;\n",
              "    fill: var(--fill-color);\n",
              "    height: 32px;\n",
              "    padding: 0;\n",
              "    width: 32px;\n",
              "  }\n",
              "\n",
              "  .colab-df-quickchart:hover {\n",
              "    background-color: var(--hover-bg-color);\n",
              "    box-shadow: 0 1px 2px rgba(60, 64, 67, 0.3), 0 1px 3px 1px rgba(60, 64, 67, 0.15);\n",
              "    fill: var(--button-hover-fill-color);\n",
              "  }\n",
              "\n",
              "  .colab-df-quickchart-complete:disabled,\n",
              "  .colab-df-quickchart-complete:disabled:hover {\n",
              "    background-color: var(--disabled-bg-color);\n",
              "    fill: var(--disabled-fill-color);\n",
              "    box-shadow: none;\n",
              "  }\n",
              "\n",
              "  .colab-df-spinner {\n",
              "    border: 2px solid var(--fill-color);\n",
              "    border-color: transparent;\n",
              "    border-bottom-color: var(--fill-color);\n",
              "    animation:\n",
              "      spin 1s steps(1) infinite;\n",
              "  }\n",
              "\n",
              "  @keyframes spin {\n",
              "    0% {\n",
              "      border-color: transparent;\n",
              "      border-bottom-color: var(--fill-color);\n",
              "      border-left-color: var(--fill-color);\n",
              "    }\n",
              "    20% {\n",
              "      border-color: transparent;\n",
              "      border-left-color: var(--fill-color);\n",
              "      border-top-color: var(--fill-color);\n",
              "    }\n",
              "    30% {\n",
              "      border-color: transparent;\n",
              "      border-left-color: var(--fill-color);\n",
              "      border-top-color: var(--fill-color);\n",
              "      border-right-color: var(--fill-color);\n",
              "    }\n",
              "    40% {\n",
              "      border-color: transparent;\n",
              "      border-right-color: var(--fill-color);\n",
              "      border-top-color: var(--fill-color);\n",
              "    }\n",
              "    60% {\n",
              "      border-color: transparent;\n",
              "      border-right-color: var(--fill-color);\n",
              "    }\n",
              "    80% {\n",
              "      border-color: transparent;\n",
              "      border-right-color: var(--fill-color);\n",
              "      border-bottom-color: var(--fill-color);\n",
              "    }\n",
              "    90% {\n",
              "      border-color: transparent;\n",
              "      border-bottom-color: var(--fill-color);\n",
              "    }\n",
              "  }\n",
              "</style>\n",
              "\n",
              "  <script>\n",
              "    async function quickchart(key) {\n",
              "      const quickchartButtonEl =\n",
              "        document.querySelector('#' + key + ' button');\n",
              "      quickchartButtonEl.disabled = true;  // To prevent multiple clicks.\n",
              "      quickchartButtonEl.classList.add('colab-df-spinner');\n",
              "      try {\n",
              "        const charts = await google.colab.kernel.invokeFunction(\n",
              "            'suggestCharts', [key], {});\n",
              "      } catch (error) {\n",
              "        console.error('Error during call to suggestCharts:', error);\n",
              "      }\n",
              "      quickchartButtonEl.classList.remove('colab-df-spinner');\n",
              "      quickchartButtonEl.classList.add('colab-df-quickchart-complete');\n",
              "    }\n",
              "    (() => {\n",
              "      let quickchartButtonEl =\n",
              "        document.querySelector('#df-55d67467-0c5c-465b-9e70-bcb6bd62011a button');\n",
              "      quickchartButtonEl.style.display =\n",
              "        google.colab.kernel.accessAllowed ? 'block' : 'none';\n",
              "    })();\n",
              "  </script>\n",
              "</div>\n",
              "\n",
              "    </div>\n",
              "  </div>\n"
            ],
            "application/vnd.google.colaboratory.intrinsic+json": {
              "type": "dataframe",
              "summary": "{\n  \"name\": \"df\",\n  \"rows\": 8,\n  \"fields\": [\n    {\n      \"column\": \"Customer ID\",\n      \"properties\": {\n        \"dtype\": \"number\",\n        \"std\": 453.2008590349517,\n        \"min\": 3.6232807323344587,\n        \"max\": 1013.0,\n        \"num_unique_values\": 8,\n        \"samples\": [\n          1004.88,\n          1004.0,\n          50.0\n        ],\n        \"semantic_type\": \"\",\n        \"description\": \"\"\n      }\n    },\n    {\n      \"column\": \"Age\",\n      \"properties\": {\n        \"dtype\": \"number\",\n        \"std\": 16.729200584503946,\n        \"min\": 11.06743706850444,\n        \"max\": 65.0,\n        \"num_unique_values\": 8,\n        \"samples\": [\n          39.96,\n          37.0,\n          50.0\n        ],\n        \"semantic_type\": \"\",\n        \"description\": \"\"\n      }\n    },\n    {\n      \"column\": \"Annual Income\",\n      \"properties\": {\n        \"dtype\": \"number\",\n        \"std\": 32758.976834422356,\n        \"min\": 50.0,\n        \"max\": 100000.0,\n        \"num_unique_values\": 8,\n        \"samples\": [\n          65780.0,\n          65000.0,\n          50.0\n        ],\n        \"semantic_type\": \"\",\n        \"description\": \"\"\n      }\n    },\n    {\n      \"column\": \"Time on Site\",\n      \"properties\": {\n        \"dtype\": \"number\",\n        \"std\": 150.87251853875955,\n        \"min\": 32.5,\n        \"max\": 486.3,\n        \"num_unique_values\": 8,\n        \"samples\": [\n          232.597,\n          243.45,\n          50.0\n        ],\n        \"semantic_type\": \"\",\n        \"description\": \"\"\n      }\n    }\n  ]\n}"
            }
          },
          "metadata": {},
          "execution_count": 8
        }
      ]
    },
    {
      "cell_type": "markdown",
      "source": [
        "**2.14- View Column Names:**"
      ],
      "metadata": {
        "id": "iohNIvcWdNDC"
      }
    },
    {
      "cell_type": "code",
      "source": [
        "df.columns"
      ],
      "metadata": {
        "execution": {
          "iopub.status.busy": "2024-10-03T09:17:40.34425Z",
          "iopub.execute_input": "2024-10-03T09:17:40.344764Z",
          "iopub.status.idle": "2024-10-03T09:17:40.352558Z",
          "shell.execute_reply.started": "2024-10-03T09:17:40.344691Z",
          "shell.execute_reply": "2024-10-03T09:17:40.351351Z"
        },
        "trusted": true,
        "colab": {
          "base_uri": "https://localhost:8080/"
        },
        "id": "Lib7zO4vdNDC",
        "outputId": "6a16527d-4296-4aa0-fbab-35b15eac7512"
      },
      "execution_count": 9,
      "outputs": [
        {
          "output_type": "execute_result",
          "data": {
            "text/plain": [
              "Index(['Customer ID', 'Age', 'Gender', 'Location', 'Annual Income',\n",
              "       'Purchase History', 'Browsing History', 'Product Reviews',\n",
              "       'Time on Site'],\n",
              "      dtype='object')"
            ]
          },
          "metadata": {},
          "execution_count": 9
        }
      ]
    },
    {
      "cell_type": "markdown",
      "source": [
        "**2.15- Shape of the Data:**"
      ],
      "metadata": {
        "id": "3Tb0nbD4dNDC"
      }
    },
    {
      "cell_type": "code",
      "source": [
        "df.shape"
      ],
      "metadata": {
        "execution": {
          "iopub.status.busy": "2024-10-03T09:17:40.418694Z",
          "iopub.execute_input": "2024-10-03T09:17:40.419291Z",
          "iopub.status.idle": "2024-10-03T09:17:40.433362Z",
          "shell.execute_reply.started": "2024-10-03T09:17:40.419238Z",
          "shell.execute_reply": "2024-10-03T09:17:40.432161Z"
        },
        "trusted": true,
        "colab": {
          "base_uri": "https://localhost:8080/"
        },
        "id": "5N-H0jwNdNDC",
        "outputId": "1d845a85-64cc-4710-93a2-c53149d37b61"
      },
      "execution_count": 10,
      "outputs": [
        {
          "output_type": "execute_result",
          "data": {
            "text/plain": [
              "(50, 9)"
            ]
          },
          "metadata": {},
          "execution_count": 10
        }
      ]
    },
    {
      "cell_type": "markdown",
      "source": [
        "# **2.2- Missing Values**"
      ],
      "metadata": {
        "id": "Jfs8EMYidNDC"
      }
    },
    {
      "cell_type": "markdown",
      "source": [
        "**2.21- Identifying Missing Values:**"
      ],
      "metadata": {
        "id": "asovVeK-dNDC"
      }
    },
    {
      "cell_type": "code",
      "source": [
        "missing_values = df.isnull().sum()\n",
        "print(missing_values)"
      ],
      "metadata": {
        "execution": {
          "iopub.status.busy": "2024-10-03T09:17:40.795868Z",
          "iopub.execute_input": "2024-10-03T09:17:40.796293Z",
          "iopub.status.idle": "2024-10-03T09:17:40.803504Z",
          "shell.execute_reply.started": "2024-10-03T09:17:40.796248Z",
          "shell.execute_reply": "2024-10-03T09:17:40.802289Z"
        },
        "trusted": true,
        "colab": {
          "base_uri": "https://localhost:8080/"
        },
        "id": "ih0POLPBdNDC",
        "outputId": "3aa94bec-339b-4a84-80e3-af15974de553"
      },
      "execution_count": 11,
      "outputs": [
        {
          "output_type": "stream",
          "name": "stdout",
          "text": [
            "Customer ID         0\n",
            "Age                 0\n",
            "Gender              0\n",
            "Location            0\n",
            "Annual Income       0\n",
            "Purchase History    0\n",
            "Browsing History    0\n",
            "Product Reviews     0\n",
            "Time on Site        0\n",
            "dtype: int64\n"
          ]
        }
      ]
    },
    {
      "cell_type": "markdown",
      "source": [
        "**2.22- Dropping Rows or Columns with Missing Values:**"
      ],
      "metadata": {
        "id": "Dy2D52VUdNDC"
      }
    },
    {
      "cell_type": "code",
      "source": [
        "# Drop rows with any missing values\n",
        "df_cleaned_rows = df.dropna()\n",
        "\n",
        "# Drop columns with any missing values\n",
        "df_cleaned_columns = df.dropna(axis=1)"
      ],
      "metadata": {
        "execution": {
          "iopub.status.busy": "2024-10-03T09:17:41.28958Z",
          "iopub.execute_input": "2024-10-03T09:17:41.289998Z",
          "iopub.status.idle": "2024-10-03T09:17:41.298226Z",
          "shell.execute_reply.started": "2024-10-03T09:17:41.289956Z",
          "shell.execute_reply": "2024-10-03T09:17:41.296636Z"
        },
        "trusted": true,
        "id": "RBw8VkYldNDC"
      },
      "execution_count": 12,
      "outputs": []
    },
    {
      "cell_type": "markdown",
      "source": [
        "# **3. Data Cleaning**"
      ],
      "metadata": {
        "id": "sIXk6678dNDC"
      }
    },
    {
      "cell_type": "markdown",
      "source": [
        "**3.1- Identifying Outliers using Z-Score:**"
      ],
      "metadata": {
        "id": "jwFUXPpadNDD"
      }
    },
    {
      "cell_type": "code",
      "source": [
        "from scipy import stats\n",
        "\n",
        "# Calculate Z-scores of numeric columns\n",
        "z_scores = stats.zscore(df.select_dtypes(include=['float64', 'int64']))\n",
        "\n",
        "# Identify outliers where Z-score is > 3 or < -3\n",
        "df_outliers = df[(z_scores > 3).any(axis=1) | (z_scores < -3).any(axis=1)]"
      ],
      "metadata": {
        "execution": {
          "iopub.status.busy": "2024-10-03T09:17:42.147511Z",
          "iopub.execute_input": "2024-10-03T09:17:42.147952Z",
          "iopub.status.idle": "2024-10-03T09:17:42.672262Z",
          "shell.execute_reply.started": "2024-10-03T09:17:42.147892Z",
          "shell.execute_reply": "2024-10-03T09:17:42.671172Z"
        },
        "trusted": true,
        "id": "dFXQGxAGdNDD"
      },
      "execution_count": 13,
      "outputs": []
    },
    {
      "cell_type": "markdown",
      "source": [
        "**3.2- Remove Outliers:**"
      ],
      "metadata": {
        "id": "8csrmoWbdNDD"
      }
    },
    {
      "cell_type": "code",
      "source": [
        "# Remove rows with outliers based on Z-score\n",
        "df_no_outliers = df[(z_scores < 3).all(axis=1) & (z_scores > -3).all(axis=1)]"
      ],
      "metadata": {
        "execution": {
          "iopub.status.busy": "2024-10-03T09:17:42.674599Z",
          "iopub.execute_input": "2024-10-03T09:17:42.675135Z",
          "iopub.status.idle": "2024-10-03T09:17:42.682066Z",
          "shell.execute_reply.started": "2024-10-03T09:17:42.675092Z",
          "shell.execute_reply": "2024-10-03T09:17:42.680743Z"
        },
        "trusted": true,
        "id": "UNZQoTmUdNDD"
      },
      "execution_count": 14,
      "outputs": []
    },
    {
      "cell_type": "markdown",
      "source": [
        "# **A more detailed look into Customer Behavior**"
      ],
      "metadata": {
        "id": "aWTXzHi5dNDD"
      }
    },
    {
      "cell_type": "markdown",
      "source": [
        "**What is the distribution of customer age?**"
      ],
      "metadata": {
        "id": "viSnBzJadNDD"
      }
    },
    {
      "cell_type": "code",
      "source": [
        "import plotly.express as px\n",
        "\n",
        "fig = px.histogram(df_no_outliers, x='Age', nbins=20, title='Distribution of Customer Age')\n",
        "fig.show()"
      ],
      "metadata": {
        "execution": {
          "iopub.status.busy": "2024-10-03T09:17:42.683671Z",
          "iopub.execute_input": "2024-10-03T09:17:42.684062Z",
          "iopub.status.idle": "2024-10-03T09:17:45.611455Z",
          "shell.execute_reply.started": "2024-10-03T09:17:42.684022Z",
          "shell.execute_reply": "2024-10-03T09:17:45.610317Z"
        },
        "trusted": true,
        "colab": {
          "base_uri": "https://localhost:8080/",
          "height": 542
        },
        "id": "Qi8GleJ3dNDD",
        "outputId": "0fcc1f07-41c0-43a4-bb23-f627a251c99a"
      },
      "execution_count": 15,
      "outputs": [
        {
          "output_type": "display_data",
          "data": {
            "text/html": [
              "<html>\n",
              "<head><meta charset=\"utf-8\" /></head>\n",
              "<body>\n",
              "    <div>            <script src=\"https://cdnjs.cloudflare.com/ajax/libs/mathjax/2.7.5/MathJax.js?config=TeX-AMS-MML_SVG\"></script><script type=\"text/javascript\">if (window.MathJax && window.MathJax.Hub && window.MathJax.Hub.Config) {window.MathJax.Hub.Config({SVG: {font: \"STIX-Web\"}});}</script>                <script type=\"text/javascript\">window.PlotlyConfig = {MathJaxConfig: 'local'};</script>\n",
              "        <script charset=\"utf-8\" src=\"https://cdn.plot.ly/plotly-2.35.2.min.js\"></script>                <div id=\"03093eb5-5b0d-4c95-8f57-708b4dda7aaa\" class=\"plotly-graph-div\" style=\"height:525px; width:100%;\"></div>            <script type=\"text/javascript\">                                    window.PLOTLYENV=window.PLOTLYENV || {};                                    if (document.getElementById(\"03093eb5-5b0d-4c95-8f57-708b4dda7aaa\")) {                    Plotly.newPlot(                        \"03093eb5-5b0d-4c95-8f57-708b4dda7aaa\",                        [{\"alignmentgroup\":\"True\",\"bingroup\":\"x\",\"hovertemplate\":\"Age=%{x}\\u003cbr\\u003ecount=%{y}\\u003cextra\\u003e\\u003c\\u002fextra\\u003e\",\"legendgroup\":\"\",\"marker\":{\"color\":\"#636efa\",\"pattern\":{\"shape\":\"\"}},\"name\":\"\",\"nbinsx\":20,\"offsetgroup\":\"\",\"orientation\":\"v\",\"showlegend\":false,\"x\":[25,28,28,45,34,56,29,42,51,36,48,25,45,32,60,28,55,38,42,50,35,48,30,65,24,35,45,28,52,31,48,60,55,29,58,36,42,50,32,35,42,32,28,42,35,52,24,34,45,29],\"xaxis\":\"x\",\"yaxis\":\"y\",\"type\":\"histogram\"}],                        {\"template\":{\"data\":{\"histogram2dcontour\":[{\"type\":\"histogram2dcontour\",\"colorbar\":{\"outlinewidth\":0,\"ticks\":\"\"},\"colorscale\":[[0.0,\"#0d0887\"],[0.1111111111111111,\"#46039f\"],[0.2222222222222222,\"#7201a8\"],[0.3333333333333333,\"#9c179e\"],[0.4444444444444444,\"#bd3786\"],[0.5555555555555556,\"#d8576b\"],[0.6666666666666666,\"#ed7953\"],[0.7777777777777778,\"#fb9f3a\"],[0.8888888888888888,\"#fdca26\"],[1.0,\"#f0f921\"]]}],\"choropleth\":[{\"type\":\"choropleth\",\"colorbar\":{\"outlinewidth\":0,\"ticks\":\"\"}}],\"histogram2d\":[{\"type\":\"histogram2d\",\"colorbar\":{\"outlinewidth\":0,\"ticks\":\"\"},\"colorscale\":[[0.0,\"#0d0887\"],[0.1111111111111111,\"#46039f\"],[0.2222222222222222,\"#7201a8\"],[0.3333333333333333,\"#9c179e\"],[0.4444444444444444,\"#bd3786\"],[0.5555555555555556,\"#d8576b\"],[0.6666666666666666,\"#ed7953\"],[0.7777777777777778,\"#fb9f3a\"],[0.8888888888888888,\"#fdca26\"],[1.0,\"#f0f921\"]]}],\"heatmap\":[{\"type\":\"heatmap\",\"colorbar\":{\"outlinewidth\":0,\"ticks\":\"\"},\"colorscale\":[[0.0,\"#0d0887\"],[0.1111111111111111,\"#46039f\"],[0.2222222222222222,\"#7201a8\"],[0.3333333333333333,\"#9c179e\"],[0.4444444444444444,\"#bd3786\"],[0.5555555555555556,\"#d8576b\"],[0.6666666666666666,\"#ed7953\"],[0.7777777777777778,\"#fb9f3a\"],[0.8888888888888888,\"#fdca26\"],[1.0,\"#f0f921\"]]}],\"heatmapgl\":[{\"type\":\"heatmapgl\",\"colorbar\":{\"outlinewidth\":0,\"ticks\":\"\"},\"colorscale\":[[0.0,\"#0d0887\"],[0.1111111111111111,\"#46039f\"],[0.2222222222222222,\"#7201a8\"],[0.3333333333333333,\"#9c179e\"],[0.4444444444444444,\"#bd3786\"],[0.5555555555555556,\"#d8576b\"],[0.6666666666666666,\"#ed7953\"],[0.7777777777777778,\"#fb9f3a\"],[0.8888888888888888,\"#fdca26\"],[1.0,\"#f0f921\"]]}],\"contourcarpet\":[{\"type\":\"contourcarpet\",\"colorbar\":{\"outlinewidth\":0,\"ticks\":\"\"}}],\"contour\":[{\"type\":\"contour\",\"colorbar\":{\"outlinewidth\":0,\"ticks\":\"\"},\"colorscale\":[[0.0,\"#0d0887\"],[0.1111111111111111,\"#46039f\"],[0.2222222222222222,\"#7201a8\"],[0.3333333333333333,\"#9c179e\"],[0.4444444444444444,\"#bd3786\"],[0.5555555555555556,\"#d8576b\"],[0.6666666666666666,\"#ed7953\"],[0.7777777777777778,\"#fb9f3a\"],[0.8888888888888888,\"#fdca26\"],[1.0,\"#f0f921\"]]}],\"surface\":[{\"type\":\"surface\",\"colorbar\":{\"outlinewidth\":0,\"ticks\":\"\"},\"colorscale\":[[0.0,\"#0d0887\"],[0.1111111111111111,\"#46039f\"],[0.2222222222222222,\"#7201a8\"],[0.3333333333333333,\"#9c179e\"],[0.4444444444444444,\"#bd3786\"],[0.5555555555555556,\"#d8576b\"],[0.6666666666666666,\"#ed7953\"],[0.7777777777777778,\"#fb9f3a\"],[0.8888888888888888,\"#fdca26\"],[1.0,\"#f0f921\"]]}],\"mesh3d\":[{\"type\":\"mesh3d\",\"colorbar\":{\"outlinewidth\":0,\"ticks\":\"\"}}],\"scatter\":[{\"fillpattern\":{\"fillmode\":\"overlay\",\"size\":10,\"solidity\":0.2},\"type\":\"scatter\"}],\"parcoords\":[{\"type\":\"parcoords\",\"line\":{\"colorbar\":{\"outlinewidth\":0,\"ticks\":\"\"}}}],\"scatterpolargl\":[{\"type\":\"scatterpolargl\",\"marker\":{\"colorbar\":{\"outlinewidth\":0,\"ticks\":\"\"}}}],\"bar\":[{\"error_x\":{\"color\":\"#2a3f5f\"},\"error_y\":{\"color\":\"#2a3f5f\"},\"marker\":{\"line\":{\"color\":\"#E5ECF6\",\"width\":0.5},\"pattern\":{\"fillmode\":\"overlay\",\"size\":10,\"solidity\":0.2}},\"type\":\"bar\"}],\"scattergeo\":[{\"type\":\"scattergeo\",\"marker\":{\"colorbar\":{\"outlinewidth\":0,\"ticks\":\"\"}}}],\"scatterpolar\":[{\"type\":\"scatterpolar\",\"marker\":{\"colorbar\":{\"outlinewidth\":0,\"ticks\":\"\"}}}],\"histogram\":[{\"marker\":{\"pattern\":{\"fillmode\":\"overlay\",\"size\":10,\"solidity\":0.2}},\"type\":\"histogram\"}],\"scattergl\":[{\"type\":\"scattergl\",\"marker\":{\"colorbar\":{\"outlinewidth\":0,\"ticks\":\"\"}}}],\"scatter3d\":[{\"type\":\"scatter3d\",\"line\":{\"colorbar\":{\"outlinewidth\":0,\"ticks\":\"\"}},\"marker\":{\"colorbar\":{\"outlinewidth\":0,\"ticks\":\"\"}}}],\"scattermapbox\":[{\"type\":\"scattermapbox\",\"marker\":{\"colorbar\":{\"outlinewidth\":0,\"ticks\":\"\"}}}],\"scatterternary\":[{\"type\":\"scatterternary\",\"marker\":{\"colorbar\":{\"outlinewidth\":0,\"ticks\":\"\"}}}],\"scattercarpet\":[{\"type\":\"scattercarpet\",\"marker\":{\"colorbar\":{\"outlinewidth\":0,\"ticks\":\"\"}}}],\"carpet\":[{\"aaxis\":{\"endlinecolor\":\"#2a3f5f\",\"gridcolor\":\"white\",\"linecolor\":\"white\",\"minorgridcolor\":\"white\",\"startlinecolor\":\"#2a3f5f\"},\"baxis\":{\"endlinecolor\":\"#2a3f5f\",\"gridcolor\":\"white\",\"linecolor\":\"white\",\"minorgridcolor\":\"white\",\"startlinecolor\":\"#2a3f5f\"},\"type\":\"carpet\"}],\"table\":[{\"cells\":{\"fill\":{\"color\":\"#EBF0F8\"},\"line\":{\"color\":\"white\"}},\"header\":{\"fill\":{\"color\":\"#C8D4E3\"},\"line\":{\"color\":\"white\"}},\"type\":\"table\"}],\"barpolar\":[{\"marker\":{\"line\":{\"color\":\"#E5ECF6\",\"width\":0.5},\"pattern\":{\"fillmode\":\"overlay\",\"size\":10,\"solidity\":0.2}},\"type\":\"barpolar\"}],\"pie\":[{\"automargin\":true,\"type\":\"pie\"}]},\"layout\":{\"autotypenumbers\":\"strict\",\"colorway\":[\"#636efa\",\"#EF553B\",\"#00cc96\",\"#ab63fa\",\"#FFA15A\",\"#19d3f3\",\"#FF6692\",\"#B6E880\",\"#FF97FF\",\"#FECB52\"],\"font\":{\"color\":\"#2a3f5f\"},\"hovermode\":\"closest\",\"hoverlabel\":{\"align\":\"left\"},\"paper_bgcolor\":\"white\",\"plot_bgcolor\":\"#E5ECF6\",\"polar\":{\"bgcolor\":\"#E5ECF6\",\"angularaxis\":{\"gridcolor\":\"white\",\"linecolor\":\"white\",\"ticks\":\"\"},\"radialaxis\":{\"gridcolor\":\"white\",\"linecolor\":\"white\",\"ticks\":\"\"}},\"ternary\":{\"bgcolor\":\"#E5ECF6\",\"aaxis\":{\"gridcolor\":\"white\",\"linecolor\":\"white\",\"ticks\":\"\"},\"baxis\":{\"gridcolor\":\"white\",\"linecolor\":\"white\",\"ticks\":\"\"},\"caxis\":{\"gridcolor\":\"white\",\"linecolor\":\"white\",\"ticks\":\"\"}},\"coloraxis\":{\"colorbar\":{\"outlinewidth\":0,\"ticks\":\"\"}},\"colorscale\":{\"sequential\":[[0.0,\"#0d0887\"],[0.1111111111111111,\"#46039f\"],[0.2222222222222222,\"#7201a8\"],[0.3333333333333333,\"#9c179e\"],[0.4444444444444444,\"#bd3786\"],[0.5555555555555556,\"#d8576b\"],[0.6666666666666666,\"#ed7953\"],[0.7777777777777778,\"#fb9f3a\"],[0.8888888888888888,\"#fdca26\"],[1.0,\"#f0f921\"]],\"sequentialminus\":[[0.0,\"#0d0887\"],[0.1111111111111111,\"#46039f\"],[0.2222222222222222,\"#7201a8\"],[0.3333333333333333,\"#9c179e\"],[0.4444444444444444,\"#bd3786\"],[0.5555555555555556,\"#d8576b\"],[0.6666666666666666,\"#ed7953\"],[0.7777777777777778,\"#fb9f3a\"],[0.8888888888888888,\"#fdca26\"],[1.0,\"#f0f921\"]],\"diverging\":[[0,\"#8e0152\"],[0.1,\"#c51b7d\"],[0.2,\"#de77ae\"],[0.3,\"#f1b6da\"],[0.4,\"#fde0ef\"],[0.5,\"#f7f7f7\"],[0.6,\"#e6f5d0\"],[0.7,\"#b8e186\"],[0.8,\"#7fbc41\"],[0.9,\"#4d9221\"],[1,\"#276419\"]]},\"xaxis\":{\"gridcolor\":\"white\",\"linecolor\":\"white\",\"ticks\":\"\",\"title\":{\"standoff\":15},\"zerolinecolor\":\"white\",\"automargin\":true,\"zerolinewidth\":2},\"yaxis\":{\"gridcolor\":\"white\",\"linecolor\":\"white\",\"ticks\":\"\",\"title\":{\"standoff\":15},\"zerolinecolor\":\"white\",\"automargin\":true,\"zerolinewidth\":2},\"scene\":{\"xaxis\":{\"backgroundcolor\":\"#E5ECF6\",\"gridcolor\":\"white\",\"linecolor\":\"white\",\"showbackground\":true,\"ticks\":\"\",\"zerolinecolor\":\"white\",\"gridwidth\":2},\"yaxis\":{\"backgroundcolor\":\"#E5ECF6\",\"gridcolor\":\"white\",\"linecolor\":\"white\",\"showbackground\":true,\"ticks\":\"\",\"zerolinecolor\":\"white\",\"gridwidth\":2},\"zaxis\":{\"backgroundcolor\":\"#E5ECF6\",\"gridcolor\":\"white\",\"linecolor\":\"white\",\"showbackground\":true,\"ticks\":\"\",\"zerolinecolor\":\"white\",\"gridwidth\":2}},\"shapedefaults\":{\"line\":{\"color\":\"#2a3f5f\"}},\"annotationdefaults\":{\"arrowcolor\":\"#2a3f5f\",\"arrowhead\":0,\"arrowwidth\":1},\"geo\":{\"bgcolor\":\"white\",\"landcolor\":\"#E5ECF6\",\"subunitcolor\":\"white\",\"showland\":true,\"showlakes\":true,\"lakecolor\":\"white\"},\"title\":{\"x\":0.05},\"mapbox\":{\"style\":\"light\"}}},\"xaxis\":{\"anchor\":\"y\",\"domain\":[0.0,1.0],\"title\":{\"text\":\"Age\"}},\"yaxis\":{\"anchor\":\"x\",\"domain\":[0.0,1.0],\"title\":{\"text\":\"count\"}},\"legend\":{\"tracegroupgap\":0},\"title\":{\"text\":\"Distribution of Customer Age\"},\"barmode\":\"relative\"},                        {\"responsive\": true}                    ).then(function(){\n",
              "                            \n",
              "var gd = document.getElementById('03093eb5-5b0d-4c95-8f57-708b4dda7aaa');\n",
              "var x = new MutationObserver(function (mutations, observer) {{\n",
              "        var display = window.getComputedStyle(gd).display;\n",
              "        if (!display || display === 'none') {{\n",
              "            console.log([gd, 'removed!']);\n",
              "            Plotly.purge(gd);\n",
              "            observer.disconnect();\n",
              "        }}\n",
              "}});\n",
              "\n",
              "// Listen for the removal of the full notebook cells\n",
              "var notebookContainer = gd.closest('#notebook-container');\n",
              "if (notebookContainer) {{\n",
              "    x.observe(notebookContainer, {childList: true});\n",
              "}}\n",
              "\n",
              "// Listen for the clearing of the current output cell\n",
              "var outputEl = gd.closest('.output');\n",
              "if (outputEl) {{\n",
              "    x.observe(outputEl, {childList: true});\n",
              "}}\n",
              "\n",
              "                        })                };                            </script>        </div>\n",
              "</body>\n",
              "</html>"
            ]
          },
          "metadata": {}
        }
      ]
    },
    {
      "cell_type": "markdown",
      "source": [
        "**What is the distribution of customer gender?**"
      ],
      "metadata": {
        "id": "d7sH-Z-kdNDD"
      }
    },
    {
      "cell_type": "code",
      "source": [
        "fig = px.pie(df_no_outliers, names='Gender', title='Customer Gender Distribution')\n",
        "fig.show()"
      ],
      "metadata": {
        "execution": {
          "iopub.status.busy": "2024-10-03T09:17:45.613053Z",
          "iopub.execute_input": "2024-10-03T09:17:45.613461Z",
          "iopub.status.idle": "2024-10-03T09:17:45.701906Z",
          "shell.execute_reply.started": "2024-10-03T09:17:45.61342Z",
          "shell.execute_reply": "2024-10-03T09:17:45.700752Z"
        },
        "trusted": true,
        "colab": {
          "base_uri": "https://localhost:8080/",
          "height": 542
        },
        "id": "19kCINpodNDD",
        "outputId": "70fa8874-1e5a-497a-8c66-e2593723723f"
      },
      "execution_count": 16,
      "outputs": [
        {
          "output_type": "display_data",
          "data": {
            "text/html": [
              "<html>\n",
              "<head><meta charset=\"utf-8\" /></head>\n",
              "<body>\n",
              "    <div>            <script src=\"https://cdnjs.cloudflare.com/ajax/libs/mathjax/2.7.5/MathJax.js?config=TeX-AMS-MML_SVG\"></script><script type=\"text/javascript\">if (window.MathJax && window.MathJax.Hub && window.MathJax.Hub.Config) {window.MathJax.Hub.Config({SVG: {font: \"STIX-Web\"}});}</script>                <script type=\"text/javascript\">window.PlotlyConfig = {MathJaxConfig: 'local'};</script>\n",
              "        <script charset=\"utf-8\" src=\"https://cdn.plot.ly/plotly-2.35.2.min.js\"></script>                <div id=\"58b4792e-5a9f-40a8-9947-325e08d992c7\" class=\"plotly-graph-div\" style=\"height:525px; width:100%;\"></div>            <script type=\"text/javascript\">                                    window.PLOTLYENV=window.PLOTLYENV || {};                                    if (document.getElementById(\"58b4792e-5a9f-40a8-9947-325e08d992c7\")) {                    Plotly.newPlot(                        \"58b4792e-5a9f-40a8-9947-325e08d992c7\",                        [{\"domain\":{\"x\":[0.0,1.0],\"y\":[0.0,1.0]},\"hovertemplate\":\"Gender=%{label}\\u003cextra\\u003e\\u003c\\u002fextra\\u003e\",\"labels\":[\"Female\",\"Female\",\"Female\",\"Female\",\"Male\",\"Other\",\"Female\",\"Male\",\"Other\",\"Female\",\"Male\",\"Other\",\"Female\",\"Male\",\"Other\",\"Female\",\"Male\",\"Female\",\"Male\",\"Female\",\"Male\",\"Female\",\"Male\",\"Female\",\"Female\",\"Female\",\"Male\",\"Female\",\"Male\",\"Female\",\"Male\",\"Female\",\"Male\",\"Female\",\"Male\",\"Female\",\"Male\",\"Female\",\"Female\",\"Female\",\"Male\",\"Female\",\"Female\",\"Male\",\"Other\",\"Female\",\"Male\",\"Female\",\"Male\",\"Other\"],\"legendgroup\":\"\",\"name\":\"\",\"showlegend\":true,\"type\":\"pie\"}],                        {\"template\":{\"data\":{\"histogram2dcontour\":[{\"type\":\"histogram2dcontour\",\"colorbar\":{\"outlinewidth\":0,\"ticks\":\"\"},\"colorscale\":[[0.0,\"#0d0887\"],[0.1111111111111111,\"#46039f\"],[0.2222222222222222,\"#7201a8\"],[0.3333333333333333,\"#9c179e\"],[0.4444444444444444,\"#bd3786\"],[0.5555555555555556,\"#d8576b\"],[0.6666666666666666,\"#ed7953\"],[0.7777777777777778,\"#fb9f3a\"],[0.8888888888888888,\"#fdca26\"],[1.0,\"#f0f921\"]]}],\"choropleth\":[{\"type\":\"choropleth\",\"colorbar\":{\"outlinewidth\":0,\"ticks\":\"\"}}],\"histogram2d\":[{\"type\":\"histogram2d\",\"colorbar\":{\"outlinewidth\":0,\"ticks\":\"\"},\"colorscale\":[[0.0,\"#0d0887\"],[0.1111111111111111,\"#46039f\"],[0.2222222222222222,\"#7201a8\"],[0.3333333333333333,\"#9c179e\"],[0.4444444444444444,\"#bd3786\"],[0.5555555555555556,\"#d8576b\"],[0.6666666666666666,\"#ed7953\"],[0.7777777777777778,\"#fb9f3a\"],[0.8888888888888888,\"#fdca26\"],[1.0,\"#f0f921\"]]}],\"heatmap\":[{\"type\":\"heatmap\",\"colorbar\":{\"outlinewidth\":0,\"ticks\":\"\"},\"colorscale\":[[0.0,\"#0d0887\"],[0.1111111111111111,\"#46039f\"],[0.2222222222222222,\"#7201a8\"],[0.3333333333333333,\"#9c179e\"],[0.4444444444444444,\"#bd3786\"],[0.5555555555555556,\"#d8576b\"],[0.6666666666666666,\"#ed7953\"],[0.7777777777777778,\"#fb9f3a\"],[0.8888888888888888,\"#fdca26\"],[1.0,\"#f0f921\"]]}],\"heatmapgl\":[{\"type\":\"heatmapgl\",\"colorbar\":{\"outlinewidth\":0,\"ticks\":\"\"},\"colorscale\":[[0.0,\"#0d0887\"],[0.1111111111111111,\"#46039f\"],[0.2222222222222222,\"#7201a8\"],[0.3333333333333333,\"#9c179e\"],[0.4444444444444444,\"#bd3786\"],[0.5555555555555556,\"#d8576b\"],[0.6666666666666666,\"#ed7953\"],[0.7777777777777778,\"#fb9f3a\"],[0.8888888888888888,\"#fdca26\"],[1.0,\"#f0f921\"]]}],\"contourcarpet\":[{\"type\":\"contourcarpet\",\"colorbar\":{\"outlinewidth\":0,\"ticks\":\"\"}}],\"contour\":[{\"type\":\"contour\",\"colorbar\":{\"outlinewidth\":0,\"ticks\":\"\"},\"colorscale\":[[0.0,\"#0d0887\"],[0.1111111111111111,\"#46039f\"],[0.2222222222222222,\"#7201a8\"],[0.3333333333333333,\"#9c179e\"],[0.4444444444444444,\"#bd3786\"],[0.5555555555555556,\"#d8576b\"],[0.6666666666666666,\"#ed7953\"],[0.7777777777777778,\"#fb9f3a\"],[0.8888888888888888,\"#fdca26\"],[1.0,\"#f0f921\"]]}],\"surface\":[{\"type\":\"surface\",\"colorbar\":{\"outlinewidth\":0,\"ticks\":\"\"},\"colorscale\":[[0.0,\"#0d0887\"],[0.1111111111111111,\"#46039f\"],[0.2222222222222222,\"#7201a8\"],[0.3333333333333333,\"#9c179e\"],[0.4444444444444444,\"#bd3786\"],[0.5555555555555556,\"#d8576b\"],[0.6666666666666666,\"#ed7953\"],[0.7777777777777778,\"#fb9f3a\"],[0.8888888888888888,\"#fdca26\"],[1.0,\"#f0f921\"]]}],\"mesh3d\":[{\"type\":\"mesh3d\",\"colorbar\":{\"outlinewidth\":0,\"ticks\":\"\"}}],\"scatter\":[{\"fillpattern\":{\"fillmode\":\"overlay\",\"size\":10,\"solidity\":0.2},\"type\":\"scatter\"}],\"parcoords\":[{\"type\":\"parcoords\",\"line\":{\"colorbar\":{\"outlinewidth\":0,\"ticks\":\"\"}}}],\"scatterpolargl\":[{\"type\":\"scatterpolargl\",\"marker\":{\"colorbar\":{\"outlinewidth\":0,\"ticks\":\"\"}}}],\"bar\":[{\"error_x\":{\"color\":\"#2a3f5f\"},\"error_y\":{\"color\":\"#2a3f5f\"},\"marker\":{\"line\":{\"color\":\"#E5ECF6\",\"width\":0.5},\"pattern\":{\"fillmode\":\"overlay\",\"size\":10,\"solidity\":0.2}},\"type\":\"bar\"}],\"scattergeo\":[{\"type\":\"scattergeo\",\"marker\":{\"colorbar\":{\"outlinewidth\":0,\"ticks\":\"\"}}}],\"scatterpolar\":[{\"type\":\"scatterpolar\",\"marker\":{\"colorbar\":{\"outlinewidth\":0,\"ticks\":\"\"}}}],\"histogram\":[{\"marker\":{\"pattern\":{\"fillmode\":\"overlay\",\"size\":10,\"solidity\":0.2}},\"type\":\"histogram\"}],\"scattergl\":[{\"type\":\"scattergl\",\"marker\":{\"colorbar\":{\"outlinewidth\":0,\"ticks\":\"\"}}}],\"scatter3d\":[{\"type\":\"scatter3d\",\"line\":{\"colorbar\":{\"outlinewidth\":0,\"ticks\":\"\"}},\"marker\":{\"colorbar\":{\"outlinewidth\":0,\"ticks\":\"\"}}}],\"scattermapbox\":[{\"type\":\"scattermapbox\",\"marker\":{\"colorbar\":{\"outlinewidth\":0,\"ticks\":\"\"}}}],\"scatterternary\":[{\"type\":\"scatterternary\",\"marker\":{\"colorbar\":{\"outlinewidth\":0,\"ticks\":\"\"}}}],\"scattercarpet\":[{\"type\":\"scattercarpet\",\"marker\":{\"colorbar\":{\"outlinewidth\":0,\"ticks\":\"\"}}}],\"carpet\":[{\"aaxis\":{\"endlinecolor\":\"#2a3f5f\",\"gridcolor\":\"white\",\"linecolor\":\"white\",\"minorgridcolor\":\"white\",\"startlinecolor\":\"#2a3f5f\"},\"baxis\":{\"endlinecolor\":\"#2a3f5f\",\"gridcolor\":\"white\",\"linecolor\":\"white\",\"minorgridcolor\":\"white\",\"startlinecolor\":\"#2a3f5f\"},\"type\":\"carpet\"}],\"table\":[{\"cells\":{\"fill\":{\"color\":\"#EBF0F8\"},\"line\":{\"color\":\"white\"}},\"header\":{\"fill\":{\"color\":\"#C8D4E3\"},\"line\":{\"color\":\"white\"}},\"type\":\"table\"}],\"barpolar\":[{\"marker\":{\"line\":{\"color\":\"#E5ECF6\",\"width\":0.5},\"pattern\":{\"fillmode\":\"overlay\",\"size\":10,\"solidity\":0.2}},\"type\":\"barpolar\"}],\"pie\":[{\"automargin\":true,\"type\":\"pie\"}]},\"layout\":{\"autotypenumbers\":\"strict\",\"colorway\":[\"#636efa\",\"#EF553B\",\"#00cc96\",\"#ab63fa\",\"#FFA15A\",\"#19d3f3\",\"#FF6692\",\"#B6E880\",\"#FF97FF\",\"#FECB52\"],\"font\":{\"color\":\"#2a3f5f\"},\"hovermode\":\"closest\",\"hoverlabel\":{\"align\":\"left\"},\"paper_bgcolor\":\"white\",\"plot_bgcolor\":\"#E5ECF6\",\"polar\":{\"bgcolor\":\"#E5ECF6\",\"angularaxis\":{\"gridcolor\":\"white\",\"linecolor\":\"white\",\"ticks\":\"\"},\"radialaxis\":{\"gridcolor\":\"white\",\"linecolor\":\"white\",\"ticks\":\"\"}},\"ternary\":{\"bgcolor\":\"#E5ECF6\",\"aaxis\":{\"gridcolor\":\"white\",\"linecolor\":\"white\",\"ticks\":\"\"},\"baxis\":{\"gridcolor\":\"white\",\"linecolor\":\"white\",\"ticks\":\"\"},\"caxis\":{\"gridcolor\":\"white\",\"linecolor\":\"white\",\"ticks\":\"\"}},\"coloraxis\":{\"colorbar\":{\"outlinewidth\":0,\"ticks\":\"\"}},\"colorscale\":{\"sequential\":[[0.0,\"#0d0887\"],[0.1111111111111111,\"#46039f\"],[0.2222222222222222,\"#7201a8\"],[0.3333333333333333,\"#9c179e\"],[0.4444444444444444,\"#bd3786\"],[0.5555555555555556,\"#d8576b\"],[0.6666666666666666,\"#ed7953\"],[0.7777777777777778,\"#fb9f3a\"],[0.8888888888888888,\"#fdca26\"],[1.0,\"#f0f921\"]],\"sequentialminus\":[[0.0,\"#0d0887\"],[0.1111111111111111,\"#46039f\"],[0.2222222222222222,\"#7201a8\"],[0.3333333333333333,\"#9c179e\"],[0.4444444444444444,\"#bd3786\"],[0.5555555555555556,\"#d8576b\"],[0.6666666666666666,\"#ed7953\"],[0.7777777777777778,\"#fb9f3a\"],[0.8888888888888888,\"#fdca26\"],[1.0,\"#f0f921\"]],\"diverging\":[[0,\"#8e0152\"],[0.1,\"#c51b7d\"],[0.2,\"#de77ae\"],[0.3,\"#f1b6da\"],[0.4,\"#fde0ef\"],[0.5,\"#f7f7f7\"],[0.6,\"#e6f5d0\"],[0.7,\"#b8e186\"],[0.8,\"#7fbc41\"],[0.9,\"#4d9221\"],[1,\"#276419\"]]},\"xaxis\":{\"gridcolor\":\"white\",\"linecolor\":\"white\",\"ticks\":\"\",\"title\":{\"standoff\":15},\"zerolinecolor\":\"white\",\"automargin\":true,\"zerolinewidth\":2},\"yaxis\":{\"gridcolor\":\"white\",\"linecolor\":\"white\",\"ticks\":\"\",\"title\":{\"standoff\":15},\"zerolinecolor\":\"white\",\"automargin\":true,\"zerolinewidth\":2},\"scene\":{\"xaxis\":{\"backgroundcolor\":\"#E5ECF6\",\"gridcolor\":\"white\",\"linecolor\":\"white\",\"showbackground\":true,\"ticks\":\"\",\"zerolinecolor\":\"white\",\"gridwidth\":2},\"yaxis\":{\"backgroundcolor\":\"#E5ECF6\",\"gridcolor\":\"white\",\"linecolor\":\"white\",\"showbackground\":true,\"ticks\":\"\",\"zerolinecolor\":\"white\",\"gridwidth\":2},\"zaxis\":{\"backgroundcolor\":\"#E5ECF6\",\"gridcolor\":\"white\",\"linecolor\":\"white\",\"showbackground\":true,\"ticks\":\"\",\"zerolinecolor\":\"white\",\"gridwidth\":2}},\"shapedefaults\":{\"line\":{\"color\":\"#2a3f5f\"}},\"annotationdefaults\":{\"arrowcolor\":\"#2a3f5f\",\"arrowhead\":0,\"arrowwidth\":1},\"geo\":{\"bgcolor\":\"white\",\"landcolor\":\"#E5ECF6\",\"subunitcolor\":\"white\",\"showland\":true,\"showlakes\":true,\"lakecolor\":\"white\"},\"title\":{\"x\":0.05},\"mapbox\":{\"style\":\"light\"}}},\"legend\":{\"tracegroupgap\":0},\"title\":{\"text\":\"Customer Gender Distribution\"}},                        {\"responsive\": true}                    ).then(function(){\n",
              "                            \n",
              "var gd = document.getElementById('58b4792e-5a9f-40a8-9947-325e08d992c7');\n",
              "var x = new MutationObserver(function (mutations, observer) {{\n",
              "        var display = window.getComputedStyle(gd).display;\n",
              "        if (!display || display === 'none') {{\n",
              "            console.log([gd, 'removed!']);\n",
              "            Plotly.purge(gd);\n",
              "            observer.disconnect();\n",
              "        }}\n",
              "}});\n",
              "\n",
              "// Listen for the removal of the full notebook cells\n",
              "var notebookContainer = gd.closest('#notebook-container');\n",
              "if (notebookContainer) {{\n",
              "    x.observe(notebookContainer, {childList: true});\n",
              "}}\n",
              "\n",
              "// Listen for the clearing of the current output cell\n",
              "var outputEl = gd.closest('.output');\n",
              "if (outputEl) {{\n",
              "    x.observe(outputEl, {childList: true});\n",
              "}}\n",
              "\n",
              "                        })                };                            </script>        </div>\n",
              "</body>\n",
              "</html>"
            ]
          },
          "metadata": {}
        }
      ]
    },
    {
      "cell_type": "markdown",
      "source": [
        "**What is the distribution of customer income levels?**"
      ],
      "metadata": {
        "id": "LsfsRhBHdNDD"
      }
    },
    {
      "cell_type": "code",
      "source": [
        "fig = px.histogram(df_no_outliers, x='Annual Income', nbins=20, title='Distribution of Annual Income')\n",
        "fig.show()"
      ],
      "metadata": {
        "execution": {
          "iopub.status.busy": "2024-10-03T09:17:45.705406Z",
          "iopub.execute_input": "2024-10-03T09:17:45.705924Z",
          "iopub.status.idle": "2024-10-03T09:17:45.778664Z",
          "shell.execute_reply.started": "2024-10-03T09:17:45.705875Z",
          "shell.execute_reply": "2024-10-03T09:17:45.777498Z"
        },
        "trusted": true,
        "colab": {
          "base_uri": "https://localhost:8080/",
          "height": 542
        },
        "id": "V0FSp6cVdNDE",
        "outputId": "c03177cd-aa86-47c9-a71f-161d43590d77"
      },
      "execution_count": 17,
      "outputs": [
        {
          "output_type": "display_data",
          "data": {
            "text/html": [
              "<html>\n",
              "<head><meta charset=\"utf-8\" /></head>\n",
              "<body>\n",
              "    <div>            <script src=\"https://cdnjs.cloudflare.com/ajax/libs/mathjax/2.7.5/MathJax.js?config=TeX-AMS-MML_SVG\"></script><script type=\"text/javascript\">if (window.MathJax && window.MathJax.Hub && window.MathJax.Hub.Config) {window.MathJax.Hub.Config({SVG: {font: \"STIX-Web\"}});}</script>                <script type=\"text/javascript\">window.PlotlyConfig = {MathJaxConfig: 'local'};</script>\n",
              "        <script charset=\"utf-8\" src=\"https://cdn.plot.ly/plotly-2.35.2.min.js\"></script>                <div id=\"6f982815-e9a4-44a8-9761-2c7aa1100a6a\" class=\"plotly-graph-div\" style=\"height:525px; width:100%;\"></div>            <script type=\"text/javascript\">                                    window.PLOTLYENV=window.PLOTLYENV || {};                                    if (document.getElementById(\"6f982815-e9a4-44a8-9761-2c7aa1100a6a\")) {                    Plotly.newPlot(                        \"6f982815-e9a4-44a8-9761-2c7aa1100a6a\",                        [{\"alignmentgroup\":\"True\",\"bingroup\":\"x\",\"hovertemplate\":\"Annual Income=%{x}\\u003cbr\\u003ecount=%{y}\\u003cextra\\u003e\\u003c\\u002fextra\\u003e\",\"legendgroup\":\"\",\"marker\":{\"color\":\"#636efa\",\"pattern\":{\"shape\":\"\"}},\"name\":\"\",\"nbinsx\":20,\"offsetgroup\":\"\",\"orientation\":\"v\",\"showlegend\":false,\"x\":[45000,52000,65000,70000,45000,90000,60000,75000,85000,55000,80000,40000,75000,50000,80000,45000,90000,65000,70000,85000,55000,75000,40000,95000,45000,50000,80000,60000,70000,45000,90000,65000,85000,40000,75000,55000,95000,68000,65000,60000,75000,55000,65000,80000,50000,100000,45000,55000,87000,42000],\"xaxis\":\"x\",\"yaxis\":\"y\",\"type\":\"histogram\"}],                        {\"template\":{\"data\":{\"histogram2dcontour\":[{\"type\":\"histogram2dcontour\",\"colorbar\":{\"outlinewidth\":0,\"ticks\":\"\"},\"colorscale\":[[0.0,\"#0d0887\"],[0.1111111111111111,\"#46039f\"],[0.2222222222222222,\"#7201a8\"],[0.3333333333333333,\"#9c179e\"],[0.4444444444444444,\"#bd3786\"],[0.5555555555555556,\"#d8576b\"],[0.6666666666666666,\"#ed7953\"],[0.7777777777777778,\"#fb9f3a\"],[0.8888888888888888,\"#fdca26\"],[1.0,\"#f0f921\"]]}],\"choropleth\":[{\"type\":\"choropleth\",\"colorbar\":{\"outlinewidth\":0,\"ticks\":\"\"}}],\"histogram2d\":[{\"type\":\"histogram2d\",\"colorbar\":{\"outlinewidth\":0,\"ticks\":\"\"},\"colorscale\":[[0.0,\"#0d0887\"],[0.1111111111111111,\"#46039f\"],[0.2222222222222222,\"#7201a8\"],[0.3333333333333333,\"#9c179e\"],[0.4444444444444444,\"#bd3786\"],[0.5555555555555556,\"#d8576b\"],[0.6666666666666666,\"#ed7953\"],[0.7777777777777778,\"#fb9f3a\"],[0.8888888888888888,\"#fdca26\"],[1.0,\"#f0f921\"]]}],\"heatmap\":[{\"type\":\"heatmap\",\"colorbar\":{\"outlinewidth\":0,\"ticks\":\"\"},\"colorscale\":[[0.0,\"#0d0887\"],[0.1111111111111111,\"#46039f\"],[0.2222222222222222,\"#7201a8\"],[0.3333333333333333,\"#9c179e\"],[0.4444444444444444,\"#bd3786\"],[0.5555555555555556,\"#d8576b\"],[0.6666666666666666,\"#ed7953\"],[0.7777777777777778,\"#fb9f3a\"],[0.8888888888888888,\"#fdca26\"],[1.0,\"#f0f921\"]]}],\"heatmapgl\":[{\"type\":\"heatmapgl\",\"colorbar\":{\"outlinewidth\":0,\"ticks\":\"\"},\"colorscale\":[[0.0,\"#0d0887\"],[0.1111111111111111,\"#46039f\"],[0.2222222222222222,\"#7201a8\"],[0.3333333333333333,\"#9c179e\"],[0.4444444444444444,\"#bd3786\"],[0.5555555555555556,\"#d8576b\"],[0.6666666666666666,\"#ed7953\"],[0.7777777777777778,\"#fb9f3a\"],[0.8888888888888888,\"#fdca26\"],[1.0,\"#f0f921\"]]}],\"contourcarpet\":[{\"type\":\"contourcarpet\",\"colorbar\":{\"outlinewidth\":0,\"ticks\":\"\"}}],\"contour\":[{\"type\":\"contour\",\"colorbar\":{\"outlinewidth\":0,\"ticks\":\"\"},\"colorscale\":[[0.0,\"#0d0887\"],[0.1111111111111111,\"#46039f\"],[0.2222222222222222,\"#7201a8\"],[0.3333333333333333,\"#9c179e\"],[0.4444444444444444,\"#bd3786\"],[0.5555555555555556,\"#d8576b\"],[0.6666666666666666,\"#ed7953\"],[0.7777777777777778,\"#fb9f3a\"],[0.8888888888888888,\"#fdca26\"],[1.0,\"#f0f921\"]]}],\"surface\":[{\"type\":\"surface\",\"colorbar\":{\"outlinewidth\":0,\"ticks\":\"\"},\"colorscale\":[[0.0,\"#0d0887\"],[0.1111111111111111,\"#46039f\"],[0.2222222222222222,\"#7201a8\"],[0.3333333333333333,\"#9c179e\"],[0.4444444444444444,\"#bd3786\"],[0.5555555555555556,\"#d8576b\"],[0.6666666666666666,\"#ed7953\"],[0.7777777777777778,\"#fb9f3a\"],[0.8888888888888888,\"#fdca26\"],[1.0,\"#f0f921\"]]}],\"mesh3d\":[{\"type\":\"mesh3d\",\"colorbar\":{\"outlinewidth\":0,\"ticks\":\"\"}}],\"scatter\":[{\"fillpattern\":{\"fillmode\":\"overlay\",\"size\":10,\"solidity\":0.2},\"type\":\"scatter\"}],\"parcoords\":[{\"type\":\"parcoords\",\"line\":{\"colorbar\":{\"outlinewidth\":0,\"ticks\":\"\"}}}],\"scatterpolargl\":[{\"type\":\"scatterpolargl\",\"marker\":{\"colorbar\":{\"outlinewidth\":0,\"ticks\":\"\"}}}],\"bar\":[{\"error_x\":{\"color\":\"#2a3f5f\"},\"error_y\":{\"color\":\"#2a3f5f\"},\"marker\":{\"line\":{\"color\":\"#E5ECF6\",\"width\":0.5},\"pattern\":{\"fillmode\":\"overlay\",\"size\":10,\"solidity\":0.2}},\"type\":\"bar\"}],\"scattergeo\":[{\"type\":\"scattergeo\",\"marker\":{\"colorbar\":{\"outlinewidth\":0,\"ticks\":\"\"}}}],\"scatterpolar\":[{\"type\":\"scatterpolar\",\"marker\":{\"colorbar\":{\"outlinewidth\":0,\"ticks\":\"\"}}}],\"histogram\":[{\"marker\":{\"pattern\":{\"fillmode\":\"overlay\",\"size\":10,\"solidity\":0.2}},\"type\":\"histogram\"}],\"scattergl\":[{\"type\":\"scattergl\",\"marker\":{\"colorbar\":{\"outlinewidth\":0,\"ticks\":\"\"}}}],\"scatter3d\":[{\"type\":\"scatter3d\",\"line\":{\"colorbar\":{\"outlinewidth\":0,\"ticks\":\"\"}},\"marker\":{\"colorbar\":{\"outlinewidth\":0,\"ticks\":\"\"}}}],\"scattermapbox\":[{\"type\":\"scattermapbox\",\"marker\":{\"colorbar\":{\"outlinewidth\":0,\"ticks\":\"\"}}}],\"scatterternary\":[{\"type\":\"scatterternary\",\"marker\":{\"colorbar\":{\"outlinewidth\":0,\"ticks\":\"\"}}}],\"scattercarpet\":[{\"type\":\"scattercarpet\",\"marker\":{\"colorbar\":{\"outlinewidth\":0,\"ticks\":\"\"}}}],\"carpet\":[{\"aaxis\":{\"endlinecolor\":\"#2a3f5f\",\"gridcolor\":\"white\",\"linecolor\":\"white\",\"minorgridcolor\":\"white\",\"startlinecolor\":\"#2a3f5f\"},\"baxis\":{\"endlinecolor\":\"#2a3f5f\",\"gridcolor\":\"white\",\"linecolor\":\"white\",\"minorgridcolor\":\"white\",\"startlinecolor\":\"#2a3f5f\"},\"type\":\"carpet\"}],\"table\":[{\"cells\":{\"fill\":{\"color\":\"#EBF0F8\"},\"line\":{\"color\":\"white\"}},\"header\":{\"fill\":{\"color\":\"#C8D4E3\"},\"line\":{\"color\":\"white\"}},\"type\":\"table\"}],\"barpolar\":[{\"marker\":{\"line\":{\"color\":\"#E5ECF6\",\"width\":0.5},\"pattern\":{\"fillmode\":\"overlay\",\"size\":10,\"solidity\":0.2}},\"type\":\"barpolar\"}],\"pie\":[{\"automargin\":true,\"type\":\"pie\"}]},\"layout\":{\"autotypenumbers\":\"strict\",\"colorway\":[\"#636efa\",\"#EF553B\",\"#00cc96\",\"#ab63fa\",\"#FFA15A\",\"#19d3f3\",\"#FF6692\",\"#B6E880\",\"#FF97FF\",\"#FECB52\"],\"font\":{\"color\":\"#2a3f5f\"},\"hovermode\":\"closest\",\"hoverlabel\":{\"align\":\"left\"},\"paper_bgcolor\":\"white\",\"plot_bgcolor\":\"#E5ECF6\",\"polar\":{\"bgcolor\":\"#E5ECF6\",\"angularaxis\":{\"gridcolor\":\"white\",\"linecolor\":\"white\",\"ticks\":\"\"},\"radialaxis\":{\"gridcolor\":\"white\",\"linecolor\":\"white\",\"ticks\":\"\"}},\"ternary\":{\"bgcolor\":\"#E5ECF6\",\"aaxis\":{\"gridcolor\":\"white\",\"linecolor\":\"white\",\"ticks\":\"\"},\"baxis\":{\"gridcolor\":\"white\",\"linecolor\":\"white\",\"ticks\":\"\"},\"caxis\":{\"gridcolor\":\"white\",\"linecolor\":\"white\",\"ticks\":\"\"}},\"coloraxis\":{\"colorbar\":{\"outlinewidth\":0,\"ticks\":\"\"}},\"colorscale\":{\"sequential\":[[0.0,\"#0d0887\"],[0.1111111111111111,\"#46039f\"],[0.2222222222222222,\"#7201a8\"],[0.3333333333333333,\"#9c179e\"],[0.4444444444444444,\"#bd3786\"],[0.5555555555555556,\"#d8576b\"],[0.6666666666666666,\"#ed7953\"],[0.7777777777777778,\"#fb9f3a\"],[0.8888888888888888,\"#fdca26\"],[1.0,\"#f0f921\"]],\"sequentialminus\":[[0.0,\"#0d0887\"],[0.1111111111111111,\"#46039f\"],[0.2222222222222222,\"#7201a8\"],[0.3333333333333333,\"#9c179e\"],[0.4444444444444444,\"#bd3786\"],[0.5555555555555556,\"#d8576b\"],[0.6666666666666666,\"#ed7953\"],[0.7777777777777778,\"#fb9f3a\"],[0.8888888888888888,\"#fdca26\"],[1.0,\"#f0f921\"]],\"diverging\":[[0,\"#8e0152\"],[0.1,\"#c51b7d\"],[0.2,\"#de77ae\"],[0.3,\"#f1b6da\"],[0.4,\"#fde0ef\"],[0.5,\"#f7f7f7\"],[0.6,\"#e6f5d0\"],[0.7,\"#b8e186\"],[0.8,\"#7fbc41\"],[0.9,\"#4d9221\"],[1,\"#276419\"]]},\"xaxis\":{\"gridcolor\":\"white\",\"linecolor\":\"white\",\"ticks\":\"\",\"title\":{\"standoff\":15},\"zerolinecolor\":\"white\",\"automargin\":true,\"zerolinewidth\":2},\"yaxis\":{\"gridcolor\":\"white\",\"linecolor\":\"white\",\"ticks\":\"\",\"title\":{\"standoff\":15},\"zerolinecolor\":\"white\",\"automargin\":true,\"zerolinewidth\":2},\"scene\":{\"xaxis\":{\"backgroundcolor\":\"#E5ECF6\",\"gridcolor\":\"white\",\"linecolor\":\"white\",\"showbackground\":true,\"ticks\":\"\",\"zerolinecolor\":\"white\",\"gridwidth\":2},\"yaxis\":{\"backgroundcolor\":\"#E5ECF6\",\"gridcolor\":\"white\",\"linecolor\":\"white\",\"showbackground\":true,\"ticks\":\"\",\"zerolinecolor\":\"white\",\"gridwidth\":2},\"zaxis\":{\"backgroundcolor\":\"#E5ECF6\",\"gridcolor\":\"white\",\"linecolor\":\"white\",\"showbackground\":true,\"ticks\":\"\",\"zerolinecolor\":\"white\",\"gridwidth\":2}},\"shapedefaults\":{\"line\":{\"color\":\"#2a3f5f\"}},\"annotationdefaults\":{\"arrowcolor\":\"#2a3f5f\",\"arrowhead\":0,\"arrowwidth\":1},\"geo\":{\"bgcolor\":\"white\",\"landcolor\":\"#E5ECF6\",\"subunitcolor\":\"white\",\"showland\":true,\"showlakes\":true,\"lakecolor\":\"white\"},\"title\":{\"x\":0.05},\"mapbox\":{\"style\":\"light\"}}},\"xaxis\":{\"anchor\":\"y\",\"domain\":[0.0,1.0],\"title\":{\"text\":\"Annual Income\"}},\"yaxis\":{\"anchor\":\"x\",\"domain\":[0.0,1.0],\"title\":{\"text\":\"count\"}},\"legend\":{\"tracegroupgap\":0},\"title\":{\"text\":\"Distribution of Annual Income\"},\"barmode\":\"relative\"},                        {\"responsive\": true}                    ).then(function(){\n",
              "                            \n",
              "var gd = document.getElementById('6f982815-e9a4-44a8-9761-2c7aa1100a6a');\n",
              "var x = new MutationObserver(function (mutations, observer) {{\n",
              "        var display = window.getComputedStyle(gd).display;\n",
              "        if (!display || display === 'none') {{\n",
              "            console.log([gd, 'removed!']);\n",
              "            Plotly.purge(gd);\n",
              "            observer.disconnect();\n",
              "        }}\n",
              "}});\n",
              "\n",
              "// Listen for the removal of the full notebook cells\n",
              "var notebookContainer = gd.closest('#notebook-container');\n",
              "if (notebookContainer) {{\n",
              "    x.observe(notebookContainer, {childList: true});\n",
              "}}\n",
              "\n",
              "// Listen for the clearing of the current output cell\n",
              "var outputEl = gd.closest('.output');\n",
              "if (outputEl) {{\n",
              "    x.observe(outputEl, {childList: true});\n",
              "}}\n",
              "\n",
              "                        })                };                            </script>        </div>\n",
              "</body>\n",
              "</html>"
            ]
          },
          "metadata": {}
        }
      ]
    },
    {
      "cell_type": "markdown",
      "source": [
        "**How does time spent on the site vary with age?**"
      ],
      "metadata": {
        "id": "u-Mcd5h8dNDE"
      }
    },
    {
      "cell_type": "code",
      "source": [
        "fig = px.scatter(df_no_outliers, x='Age', y='Time on Site', title='Time on Site vs Age')\n",
        "fig.show()"
      ],
      "metadata": {
        "execution": {
          "iopub.status.busy": "2024-10-03T09:17:45.780384Z",
          "iopub.execute_input": "2024-10-03T09:17:45.78087Z",
          "iopub.status.idle": "2024-10-03T09:17:45.881723Z",
          "shell.execute_reply.started": "2024-10-03T09:17:45.780815Z",
          "shell.execute_reply": "2024-10-03T09:17:45.880477Z"
        },
        "trusted": true,
        "colab": {
          "base_uri": "https://localhost:8080/",
          "height": 542
        },
        "id": "OHwkE2-WdNDE",
        "outputId": "b2f52b1e-b241-4f10-cab4-b73f80aca7b9"
      },
      "execution_count": 18,
      "outputs": [
        {
          "output_type": "display_data",
          "data": {
            "text/html": [
              "<html>\n",
              "<head><meta charset=\"utf-8\" /></head>\n",
              "<body>\n",
              "    <div>            <script src=\"https://cdnjs.cloudflare.com/ajax/libs/mathjax/2.7.5/MathJax.js?config=TeX-AMS-MML_SVG\"></script><script type=\"text/javascript\">if (window.MathJax && window.MathJax.Hub && window.MathJax.Hub.Config) {window.MathJax.Hub.Config({SVG: {font: \"STIX-Web\"}});}</script>                <script type=\"text/javascript\">window.PlotlyConfig = {MathJaxConfig: 'local'};</script>\n",
              "        <script charset=\"utf-8\" src=\"https://cdn.plot.ly/plotly-2.35.2.min.js\"></script>                <div id=\"f5d43afb-58c4-4d67-b576-6549b411bff0\" class=\"plotly-graph-div\" style=\"height:525px; width:100%;\"></div>            <script type=\"text/javascript\">                                    window.PLOTLYENV=window.PLOTLYENV || {};                                    if (document.getElementById(\"f5d43afb-58c4-4d67-b576-6549b411bff0\")) {                    Plotly.newPlot(                        \"f5d43afb-58c4-4d67-b576-6549b411bff0\",                        [{\"hovertemplate\":\"Age=%{x}\\u003cbr\\u003eTime on Site=%{y}\\u003cextra\\u003e\\u003c\\u002fextra\\u003e\",\"legendgroup\":\"\",\"marker\":{\"color\":\"#636efa\",\"symbol\":\"circle\"},\"mode\":\"markers\",\"name\":\"\",\"orientation\":\"v\",\"showlegend\":false,\"x\":[25,28,28,45,34,56,29,42,51,36,48,25,45,32,60,28,55,38,42,50,35,48,30,65,24,35,45,28,52,31,48,60,55,29,58,36,42,50,32,35,42,32,28,42,35,52,24,34,45,29],\"xaxis\":\"x\",\"y\":[32.5,123.45,125.6,327.6,214.9,486.3,378.5,289.8,456.2,334.9,298.6,312.5,120.0,75.0,200.0,150.0,300.0,250.0,180.0,280.0,220.0,200.0,160.0,240.0,120.5,120.0,300.0,250.0,350.0,200.0,400.0,300.0,450.0,250.0,350.0,200.0,300.0,250.0,72.3,123.6,246.9,75.2,120.5,250.0,75.0,300.0,100.0,120.0,350.0,200.0],\"yaxis\":\"y\",\"type\":\"scatter\"}],                        {\"template\":{\"data\":{\"histogram2dcontour\":[{\"type\":\"histogram2dcontour\",\"colorbar\":{\"outlinewidth\":0,\"ticks\":\"\"},\"colorscale\":[[0.0,\"#0d0887\"],[0.1111111111111111,\"#46039f\"],[0.2222222222222222,\"#7201a8\"],[0.3333333333333333,\"#9c179e\"],[0.4444444444444444,\"#bd3786\"],[0.5555555555555556,\"#d8576b\"],[0.6666666666666666,\"#ed7953\"],[0.7777777777777778,\"#fb9f3a\"],[0.8888888888888888,\"#fdca26\"],[1.0,\"#f0f921\"]]}],\"choropleth\":[{\"type\":\"choropleth\",\"colorbar\":{\"outlinewidth\":0,\"ticks\":\"\"}}],\"histogram2d\":[{\"type\":\"histogram2d\",\"colorbar\":{\"outlinewidth\":0,\"ticks\":\"\"},\"colorscale\":[[0.0,\"#0d0887\"],[0.1111111111111111,\"#46039f\"],[0.2222222222222222,\"#7201a8\"],[0.3333333333333333,\"#9c179e\"],[0.4444444444444444,\"#bd3786\"],[0.5555555555555556,\"#d8576b\"],[0.6666666666666666,\"#ed7953\"],[0.7777777777777778,\"#fb9f3a\"],[0.8888888888888888,\"#fdca26\"],[1.0,\"#f0f921\"]]}],\"heatmap\":[{\"type\":\"heatmap\",\"colorbar\":{\"outlinewidth\":0,\"ticks\":\"\"},\"colorscale\":[[0.0,\"#0d0887\"],[0.1111111111111111,\"#46039f\"],[0.2222222222222222,\"#7201a8\"],[0.3333333333333333,\"#9c179e\"],[0.4444444444444444,\"#bd3786\"],[0.5555555555555556,\"#d8576b\"],[0.6666666666666666,\"#ed7953\"],[0.7777777777777778,\"#fb9f3a\"],[0.8888888888888888,\"#fdca26\"],[1.0,\"#f0f921\"]]}],\"heatmapgl\":[{\"type\":\"heatmapgl\",\"colorbar\":{\"outlinewidth\":0,\"ticks\":\"\"},\"colorscale\":[[0.0,\"#0d0887\"],[0.1111111111111111,\"#46039f\"],[0.2222222222222222,\"#7201a8\"],[0.3333333333333333,\"#9c179e\"],[0.4444444444444444,\"#bd3786\"],[0.5555555555555556,\"#d8576b\"],[0.6666666666666666,\"#ed7953\"],[0.7777777777777778,\"#fb9f3a\"],[0.8888888888888888,\"#fdca26\"],[1.0,\"#f0f921\"]]}],\"contourcarpet\":[{\"type\":\"contourcarpet\",\"colorbar\":{\"outlinewidth\":0,\"ticks\":\"\"}}],\"contour\":[{\"type\":\"contour\",\"colorbar\":{\"outlinewidth\":0,\"ticks\":\"\"},\"colorscale\":[[0.0,\"#0d0887\"],[0.1111111111111111,\"#46039f\"],[0.2222222222222222,\"#7201a8\"],[0.3333333333333333,\"#9c179e\"],[0.4444444444444444,\"#bd3786\"],[0.5555555555555556,\"#d8576b\"],[0.6666666666666666,\"#ed7953\"],[0.7777777777777778,\"#fb9f3a\"],[0.8888888888888888,\"#fdca26\"],[1.0,\"#f0f921\"]]}],\"surface\":[{\"type\":\"surface\",\"colorbar\":{\"outlinewidth\":0,\"ticks\":\"\"},\"colorscale\":[[0.0,\"#0d0887\"],[0.1111111111111111,\"#46039f\"],[0.2222222222222222,\"#7201a8\"],[0.3333333333333333,\"#9c179e\"],[0.4444444444444444,\"#bd3786\"],[0.5555555555555556,\"#d8576b\"],[0.6666666666666666,\"#ed7953\"],[0.7777777777777778,\"#fb9f3a\"],[0.8888888888888888,\"#fdca26\"],[1.0,\"#f0f921\"]]}],\"mesh3d\":[{\"type\":\"mesh3d\",\"colorbar\":{\"outlinewidth\":0,\"ticks\":\"\"}}],\"scatter\":[{\"fillpattern\":{\"fillmode\":\"overlay\",\"size\":10,\"solidity\":0.2},\"type\":\"scatter\"}],\"parcoords\":[{\"type\":\"parcoords\",\"line\":{\"colorbar\":{\"outlinewidth\":0,\"ticks\":\"\"}}}],\"scatterpolargl\":[{\"type\":\"scatterpolargl\",\"marker\":{\"colorbar\":{\"outlinewidth\":0,\"ticks\":\"\"}}}],\"bar\":[{\"error_x\":{\"color\":\"#2a3f5f\"},\"error_y\":{\"color\":\"#2a3f5f\"},\"marker\":{\"line\":{\"color\":\"#E5ECF6\",\"width\":0.5},\"pattern\":{\"fillmode\":\"overlay\",\"size\":10,\"solidity\":0.2}},\"type\":\"bar\"}],\"scattergeo\":[{\"type\":\"scattergeo\",\"marker\":{\"colorbar\":{\"outlinewidth\":0,\"ticks\":\"\"}}}],\"scatterpolar\":[{\"type\":\"scatterpolar\",\"marker\":{\"colorbar\":{\"outlinewidth\":0,\"ticks\":\"\"}}}],\"histogram\":[{\"marker\":{\"pattern\":{\"fillmode\":\"overlay\",\"size\":10,\"solidity\":0.2}},\"type\":\"histogram\"}],\"scattergl\":[{\"type\":\"scattergl\",\"marker\":{\"colorbar\":{\"outlinewidth\":0,\"ticks\":\"\"}}}],\"scatter3d\":[{\"type\":\"scatter3d\",\"line\":{\"colorbar\":{\"outlinewidth\":0,\"ticks\":\"\"}},\"marker\":{\"colorbar\":{\"outlinewidth\":0,\"ticks\":\"\"}}}],\"scattermapbox\":[{\"type\":\"scattermapbox\",\"marker\":{\"colorbar\":{\"outlinewidth\":0,\"ticks\":\"\"}}}],\"scatterternary\":[{\"type\":\"scatterternary\",\"marker\":{\"colorbar\":{\"outlinewidth\":0,\"ticks\":\"\"}}}],\"scattercarpet\":[{\"type\":\"scattercarpet\",\"marker\":{\"colorbar\":{\"outlinewidth\":0,\"ticks\":\"\"}}}],\"carpet\":[{\"aaxis\":{\"endlinecolor\":\"#2a3f5f\",\"gridcolor\":\"white\",\"linecolor\":\"white\",\"minorgridcolor\":\"white\",\"startlinecolor\":\"#2a3f5f\"},\"baxis\":{\"endlinecolor\":\"#2a3f5f\",\"gridcolor\":\"white\",\"linecolor\":\"white\",\"minorgridcolor\":\"white\",\"startlinecolor\":\"#2a3f5f\"},\"type\":\"carpet\"}],\"table\":[{\"cells\":{\"fill\":{\"color\":\"#EBF0F8\"},\"line\":{\"color\":\"white\"}},\"header\":{\"fill\":{\"color\":\"#C8D4E3\"},\"line\":{\"color\":\"white\"}},\"type\":\"table\"}],\"barpolar\":[{\"marker\":{\"line\":{\"color\":\"#E5ECF6\",\"width\":0.5},\"pattern\":{\"fillmode\":\"overlay\",\"size\":10,\"solidity\":0.2}},\"type\":\"barpolar\"}],\"pie\":[{\"automargin\":true,\"type\":\"pie\"}]},\"layout\":{\"autotypenumbers\":\"strict\",\"colorway\":[\"#636efa\",\"#EF553B\",\"#00cc96\",\"#ab63fa\",\"#FFA15A\",\"#19d3f3\",\"#FF6692\",\"#B6E880\",\"#FF97FF\",\"#FECB52\"],\"font\":{\"color\":\"#2a3f5f\"},\"hovermode\":\"closest\",\"hoverlabel\":{\"align\":\"left\"},\"paper_bgcolor\":\"white\",\"plot_bgcolor\":\"#E5ECF6\",\"polar\":{\"bgcolor\":\"#E5ECF6\",\"angularaxis\":{\"gridcolor\":\"white\",\"linecolor\":\"white\",\"ticks\":\"\"},\"radialaxis\":{\"gridcolor\":\"white\",\"linecolor\":\"white\",\"ticks\":\"\"}},\"ternary\":{\"bgcolor\":\"#E5ECF6\",\"aaxis\":{\"gridcolor\":\"white\",\"linecolor\":\"white\",\"ticks\":\"\"},\"baxis\":{\"gridcolor\":\"white\",\"linecolor\":\"white\",\"ticks\":\"\"},\"caxis\":{\"gridcolor\":\"white\",\"linecolor\":\"white\",\"ticks\":\"\"}},\"coloraxis\":{\"colorbar\":{\"outlinewidth\":0,\"ticks\":\"\"}},\"colorscale\":{\"sequential\":[[0.0,\"#0d0887\"],[0.1111111111111111,\"#46039f\"],[0.2222222222222222,\"#7201a8\"],[0.3333333333333333,\"#9c179e\"],[0.4444444444444444,\"#bd3786\"],[0.5555555555555556,\"#d8576b\"],[0.6666666666666666,\"#ed7953\"],[0.7777777777777778,\"#fb9f3a\"],[0.8888888888888888,\"#fdca26\"],[1.0,\"#f0f921\"]],\"sequentialminus\":[[0.0,\"#0d0887\"],[0.1111111111111111,\"#46039f\"],[0.2222222222222222,\"#7201a8\"],[0.3333333333333333,\"#9c179e\"],[0.4444444444444444,\"#bd3786\"],[0.5555555555555556,\"#d8576b\"],[0.6666666666666666,\"#ed7953\"],[0.7777777777777778,\"#fb9f3a\"],[0.8888888888888888,\"#fdca26\"],[1.0,\"#f0f921\"]],\"diverging\":[[0,\"#8e0152\"],[0.1,\"#c51b7d\"],[0.2,\"#de77ae\"],[0.3,\"#f1b6da\"],[0.4,\"#fde0ef\"],[0.5,\"#f7f7f7\"],[0.6,\"#e6f5d0\"],[0.7,\"#b8e186\"],[0.8,\"#7fbc41\"],[0.9,\"#4d9221\"],[1,\"#276419\"]]},\"xaxis\":{\"gridcolor\":\"white\",\"linecolor\":\"white\",\"ticks\":\"\",\"title\":{\"standoff\":15},\"zerolinecolor\":\"white\",\"automargin\":true,\"zerolinewidth\":2},\"yaxis\":{\"gridcolor\":\"white\",\"linecolor\":\"white\",\"ticks\":\"\",\"title\":{\"standoff\":15},\"zerolinecolor\":\"white\",\"automargin\":true,\"zerolinewidth\":2},\"scene\":{\"xaxis\":{\"backgroundcolor\":\"#E5ECF6\",\"gridcolor\":\"white\",\"linecolor\":\"white\",\"showbackground\":true,\"ticks\":\"\",\"zerolinecolor\":\"white\",\"gridwidth\":2},\"yaxis\":{\"backgroundcolor\":\"#E5ECF6\",\"gridcolor\":\"white\",\"linecolor\":\"white\",\"showbackground\":true,\"ticks\":\"\",\"zerolinecolor\":\"white\",\"gridwidth\":2},\"zaxis\":{\"backgroundcolor\":\"#E5ECF6\",\"gridcolor\":\"white\",\"linecolor\":\"white\",\"showbackground\":true,\"ticks\":\"\",\"zerolinecolor\":\"white\",\"gridwidth\":2}},\"shapedefaults\":{\"line\":{\"color\":\"#2a3f5f\"}},\"annotationdefaults\":{\"arrowcolor\":\"#2a3f5f\",\"arrowhead\":0,\"arrowwidth\":1},\"geo\":{\"bgcolor\":\"white\",\"landcolor\":\"#E5ECF6\",\"subunitcolor\":\"white\",\"showland\":true,\"showlakes\":true,\"lakecolor\":\"white\"},\"title\":{\"x\":0.05},\"mapbox\":{\"style\":\"light\"}}},\"xaxis\":{\"anchor\":\"y\",\"domain\":[0.0,1.0],\"title\":{\"text\":\"Age\"}},\"yaxis\":{\"anchor\":\"x\",\"domain\":[0.0,1.0],\"title\":{\"text\":\"Time on Site\"}},\"legend\":{\"tracegroupgap\":0},\"title\":{\"text\":\"Time on Site vs Age\"}},                        {\"responsive\": true}                    ).then(function(){\n",
              "                            \n",
              "var gd = document.getElementById('f5d43afb-58c4-4d67-b576-6549b411bff0');\n",
              "var x = new MutationObserver(function (mutations, observer) {{\n",
              "        var display = window.getComputedStyle(gd).display;\n",
              "        if (!display || display === 'none') {{\n",
              "            console.log([gd, 'removed!']);\n",
              "            Plotly.purge(gd);\n",
              "            observer.disconnect();\n",
              "        }}\n",
              "}});\n",
              "\n",
              "// Listen for the removal of the full notebook cells\n",
              "var notebookContainer = gd.closest('#notebook-container');\n",
              "if (notebookContainer) {{\n",
              "    x.observe(notebookContainer, {childList: true});\n",
              "}}\n",
              "\n",
              "// Listen for the clearing of the current output cell\n",
              "var outputEl = gd.closest('.output');\n",
              "if (outputEl) {{\n",
              "    x.observe(outputEl, {childList: true});\n",
              "}}\n",
              "\n",
              "                        })                };                            </script>        </div>\n",
              "</body>\n",
              "</html>"
            ]
          },
          "metadata": {}
        }
      ]
    },
    {
      "cell_type": "markdown",
      "source": [
        "**What is the distribution of product reviews?**"
      ],
      "metadata": {
        "id": "VG86P0fkdNDI"
      }
    },
    {
      "cell_type": "code",
      "source": [
        "fig = px.histogram(df_no_outliers, x='Product Reviews', nbins=15, title='Distribution of Product Reviews', height=1300)\n",
        "fig.show()"
      ],
      "metadata": {
        "execution": {
          "iopub.status.busy": "2024-10-03T09:17:45.883324Z",
          "iopub.execute_input": "2024-10-03T09:17:45.883808Z",
          "iopub.status.idle": "2024-10-03T09:17:46.063555Z",
          "shell.execute_reply.started": "2024-10-03T09:17:45.883754Z",
          "shell.execute_reply": "2024-10-03T09:17:46.062262Z"
        },
        "trusted": true,
        "colab": {
          "base_uri": "https://localhost:8080/",
          "height": 1000
        },
        "id": "y9sqdqnldNDI",
        "outputId": "6d57ee18-440c-4ca9-d7d0-d3366b171272"
      },
      "execution_count": 19,
      "outputs": [
        {
          "output_type": "display_data",
          "data": {
            "text/html": [
              "<html>\n",
              "<head><meta charset=\"utf-8\" /></head>\n",
              "<body>\n",
              "    <div>            <script src=\"https://cdnjs.cloudflare.com/ajax/libs/mathjax/2.7.5/MathJax.js?config=TeX-AMS-MML_SVG\"></script><script type=\"text/javascript\">if (window.MathJax && window.MathJax.Hub && window.MathJax.Hub.Config) {window.MathJax.Hub.Config({SVG: {font: \"STIX-Web\"}});}</script>                <script type=\"text/javascript\">window.PlotlyConfig = {MathJaxConfig: 'local'};</script>\n",
              "        <script charset=\"utf-8\" src=\"https://cdn.plot.ly/plotly-2.35.2.min.js\"></script>                <div id=\"ed5676a0-3f9a-46ed-8587-429de874b44e\" class=\"plotly-graph-div\" style=\"height:1300px; width:100%;\"></div>            <script type=\"text/javascript\">                                    window.PLOTLYENV=window.PLOTLYENV || {};                                    if (document.getElementById(\"ed5676a0-3f9a-46ed-8587-429de874b44e\")) {                    Plotly.newPlot(                        \"ed5676a0-3f9a-46ed-8587-429de874b44e\",                        [{\"alignmentgroup\":\"True\",\"bingroup\":\"x\",\"hovertemplate\":\"Product Reviews=%{x}\\u003cbr\\u003ecount=%{y}\\u003cextra\\u003e\\u003c\\u002fextra\\u003e\",\"legendgroup\":\"\",\"marker\":{\"color\":\"#636efa\",\"pattern\":{\"shape\":\"\"}},\"name\":\"\",\"nbinsx\":15,\"offsetgroup\":\"\",\"orientation\":\"v\",\"showlegend\":false,\"x\":[\"Great pair of jeans, very comfortable. Rating: 4 stars.\",\"Great customer service!\",\"Great electronics. The sound quality is excellent. I would highly recommend this product.\",\"{\\\"Product 1\\\": {\\\"Rating\\\": 4, \\\"Review\\\": \\\"Great experience buying this product. Fast delivery and excellent customer service.\\\"}}\",\"{\\\"Product 1\\\": {\\\"Rating\\\": 3, \\\"Review\\\": \\\"Good product, but could have been better.\\\"}}\",\"{\\\"Product 1\\\": {\\\"Rating\\\": 5, \\\"Review\\\": \\\"Awesome product, highly recommend it to everyone.\\\"}}\",\"{\\\"Product 1\\\": {\\\"Rating\\\": 4, \\\"Review\\\": \\\"Great product, will definitely buy again.\\\"}}\",\"{\\\"Product 1\\\": {\\\"Rating\\\": 3, \\\"Review\\\": \\\"Good product, but not worth the price.\\\"}}\",\"{\\\"Product 1\\\": {\\\"Rating\\\": 5, \\\"Review\\\": \\\"Outstanding product, exceeded my expectations.\\\"}}\",\"{\\\"Product 1\\\": {\\\"Rating\\\": 4, \\\"Review\\\": \\\"Good product, but could have been better.\\\"}}\",\"{\\\"Product 1\\\": {\\\"Rating\\\": 3, \\\"Review\\\": \\\"Good product, but not what I expected.\\\"}}\",\"{\\\"Product 1\\\": {\\\"Rating\\\": 4, \\\"Review\\\": \\\"Great product, will definitely buy again.\\\"}}\",\"{\\\"Review Text\\\": \\\"Great quality clothes!\\\", \\\"Rating\\\": 5}\",\"{\\\"Review Text\\\": \\\"Good product, but could be cheaper.\\\", \\\"Rating\\\": 3}\",\"{\\\"Review Text\\\": \\\"Very satisfied with my purchase!\\\", \\\"Rating\\\": 5}\",\"{\\\"Review Text\\\": \\\"Not what I expected.\\\", \\\"Rating\\\": 2}\",\"{\\\"Review Text\\\": \\\"Excellent product, highly recommend!\\\", \\\"Rating\\\": 5}\",\"{\\\"Review Text\\\": \\\"Awesome purchase!\\\", \\\"Rating\\\": 5}\",\"{\\\"Review Text\\\": \\\"Good product, but not worth the price.\\\", \\\"Rating\\\": 3}\",\"{\\\"Review Text\\\": \\\"Great product, highly recommend!\\\", \\\"Rating\\\": 5}\",\"{\\\"Review Text\\\": \\\"Satisfied with my purchase!\\\", \\\"Rating\\\": 4}\",\"{\\\"Review Text\\\": \\\"Excellent product, highly recommend!\\\", \\\"Rating\\\": 5}\",\"{\\\"Review Text\\\": \\\"Good product, but could be better.\\\", \\\"Rating\\\": 3}\",\"{\\\"Review Text\\\": \\\"Excellent product, highly recommend!\\\", \\\"Rating\\\": 5}\",\"This dress is amazing! I love the color and fit. 5 stars.\",\"The blouse is so comfortable and stylish. 5 stars!\",\"The headphones are great. Sound quality is excellent. 4.5 stars.\",\"The dress fits perfectly. I love it. 5 stars!\",\"The vacuum cleaner works great. 4 stars.\",\"The top is nice, but the size is a bit small. 3.5 stars.\",\"The phone is fantastic. 5 stars!\",\"The shirt is comfortable. 4 stars.\",\"The laptop is excellent. 5 stars!\",\"The shoes are comfortable. 4.5 stars.\",\"The coffee maker is great. 5 stars!\",\"The skirt is lovely. 4.5 stars.\",\"The TV is amazing. 5 stars!\",\"The bedding is comfortable. 4 stars.\",\"Great find! 5 stars\",\"Great product, very happy with my purchase.\",\"The product arrived quickly and in great condition.\",\"Great headphones, sound quality is amazing.\",\"Great purchase! The shoes are so comfortable and stylish. I've received several compliments.\",\"I'm really happy with my new phone. The battery life is impressive.\",\"The headphones are amazing! The sound quality is excellent.\",\"I love my new kitchen gadget! It's so efficient and easy to use.\",\"The laptop is perfect for my needs. It's lightweight and powerful.\",\"The clothing arrived quickly and fits great! 5 stars.\",\"The electronics were excellent quality and arrived promptly. 5 stars.\",\"The electronics were as described and arrived on time. 4 stars.\"],\"xaxis\":\"x\",\"yaxis\":\"y\",\"type\":\"histogram\"}],                        {\"template\":{\"data\":{\"histogram2dcontour\":[{\"type\":\"histogram2dcontour\",\"colorbar\":{\"outlinewidth\":0,\"ticks\":\"\"},\"colorscale\":[[0.0,\"#0d0887\"],[0.1111111111111111,\"#46039f\"],[0.2222222222222222,\"#7201a8\"],[0.3333333333333333,\"#9c179e\"],[0.4444444444444444,\"#bd3786\"],[0.5555555555555556,\"#d8576b\"],[0.6666666666666666,\"#ed7953\"],[0.7777777777777778,\"#fb9f3a\"],[0.8888888888888888,\"#fdca26\"],[1.0,\"#f0f921\"]]}],\"choropleth\":[{\"type\":\"choropleth\",\"colorbar\":{\"outlinewidth\":0,\"ticks\":\"\"}}],\"histogram2d\":[{\"type\":\"histogram2d\",\"colorbar\":{\"outlinewidth\":0,\"ticks\":\"\"},\"colorscale\":[[0.0,\"#0d0887\"],[0.1111111111111111,\"#46039f\"],[0.2222222222222222,\"#7201a8\"],[0.3333333333333333,\"#9c179e\"],[0.4444444444444444,\"#bd3786\"],[0.5555555555555556,\"#d8576b\"],[0.6666666666666666,\"#ed7953\"],[0.7777777777777778,\"#fb9f3a\"],[0.8888888888888888,\"#fdca26\"],[1.0,\"#f0f921\"]]}],\"heatmap\":[{\"type\":\"heatmap\",\"colorbar\":{\"outlinewidth\":0,\"ticks\":\"\"},\"colorscale\":[[0.0,\"#0d0887\"],[0.1111111111111111,\"#46039f\"],[0.2222222222222222,\"#7201a8\"],[0.3333333333333333,\"#9c179e\"],[0.4444444444444444,\"#bd3786\"],[0.5555555555555556,\"#d8576b\"],[0.6666666666666666,\"#ed7953\"],[0.7777777777777778,\"#fb9f3a\"],[0.8888888888888888,\"#fdca26\"],[1.0,\"#f0f921\"]]}],\"heatmapgl\":[{\"type\":\"heatmapgl\",\"colorbar\":{\"outlinewidth\":0,\"ticks\":\"\"},\"colorscale\":[[0.0,\"#0d0887\"],[0.1111111111111111,\"#46039f\"],[0.2222222222222222,\"#7201a8\"],[0.3333333333333333,\"#9c179e\"],[0.4444444444444444,\"#bd3786\"],[0.5555555555555556,\"#d8576b\"],[0.6666666666666666,\"#ed7953\"],[0.7777777777777778,\"#fb9f3a\"],[0.8888888888888888,\"#fdca26\"],[1.0,\"#f0f921\"]]}],\"contourcarpet\":[{\"type\":\"contourcarpet\",\"colorbar\":{\"outlinewidth\":0,\"ticks\":\"\"}}],\"contour\":[{\"type\":\"contour\",\"colorbar\":{\"outlinewidth\":0,\"ticks\":\"\"},\"colorscale\":[[0.0,\"#0d0887\"],[0.1111111111111111,\"#46039f\"],[0.2222222222222222,\"#7201a8\"],[0.3333333333333333,\"#9c179e\"],[0.4444444444444444,\"#bd3786\"],[0.5555555555555556,\"#d8576b\"],[0.6666666666666666,\"#ed7953\"],[0.7777777777777778,\"#fb9f3a\"],[0.8888888888888888,\"#fdca26\"],[1.0,\"#f0f921\"]]}],\"surface\":[{\"type\":\"surface\",\"colorbar\":{\"outlinewidth\":0,\"ticks\":\"\"},\"colorscale\":[[0.0,\"#0d0887\"],[0.1111111111111111,\"#46039f\"],[0.2222222222222222,\"#7201a8\"],[0.3333333333333333,\"#9c179e\"],[0.4444444444444444,\"#bd3786\"],[0.5555555555555556,\"#d8576b\"],[0.6666666666666666,\"#ed7953\"],[0.7777777777777778,\"#fb9f3a\"],[0.8888888888888888,\"#fdca26\"],[1.0,\"#f0f921\"]]}],\"mesh3d\":[{\"type\":\"mesh3d\",\"colorbar\":{\"outlinewidth\":0,\"ticks\":\"\"}}],\"scatter\":[{\"fillpattern\":{\"fillmode\":\"overlay\",\"size\":10,\"solidity\":0.2},\"type\":\"scatter\"}],\"parcoords\":[{\"type\":\"parcoords\",\"line\":{\"colorbar\":{\"outlinewidth\":0,\"ticks\":\"\"}}}],\"scatterpolargl\":[{\"type\":\"scatterpolargl\",\"marker\":{\"colorbar\":{\"outlinewidth\":0,\"ticks\":\"\"}}}],\"bar\":[{\"error_x\":{\"color\":\"#2a3f5f\"},\"error_y\":{\"color\":\"#2a3f5f\"},\"marker\":{\"line\":{\"color\":\"#E5ECF6\",\"width\":0.5},\"pattern\":{\"fillmode\":\"overlay\",\"size\":10,\"solidity\":0.2}},\"type\":\"bar\"}],\"scattergeo\":[{\"type\":\"scattergeo\",\"marker\":{\"colorbar\":{\"outlinewidth\":0,\"ticks\":\"\"}}}],\"scatterpolar\":[{\"type\":\"scatterpolar\",\"marker\":{\"colorbar\":{\"outlinewidth\":0,\"ticks\":\"\"}}}],\"histogram\":[{\"marker\":{\"pattern\":{\"fillmode\":\"overlay\",\"size\":10,\"solidity\":0.2}},\"type\":\"histogram\"}],\"scattergl\":[{\"type\":\"scattergl\",\"marker\":{\"colorbar\":{\"outlinewidth\":0,\"ticks\":\"\"}}}],\"scatter3d\":[{\"type\":\"scatter3d\",\"line\":{\"colorbar\":{\"outlinewidth\":0,\"ticks\":\"\"}},\"marker\":{\"colorbar\":{\"outlinewidth\":0,\"ticks\":\"\"}}}],\"scattermapbox\":[{\"type\":\"scattermapbox\",\"marker\":{\"colorbar\":{\"outlinewidth\":0,\"ticks\":\"\"}}}],\"scatterternary\":[{\"type\":\"scatterternary\",\"marker\":{\"colorbar\":{\"outlinewidth\":0,\"ticks\":\"\"}}}],\"scattercarpet\":[{\"type\":\"scattercarpet\",\"marker\":{\"colorbar\":{\"outlinewidth\":0,\"ticks\":\"\"}}}],\"carpet\":[{\"aaxis\":{\"endlinecolor\":\"#2a3f5f\",\"gridcolor\":\"white\",\"linecolor\":\"white\",\"minorgridcolor\":\"white\",\"startlinecolor\":\"#2a3f5f\"},\"baxis\":{\"endlinecolor\":\"#2a3f5f\",\"gridcolor\":\"white\",\"linecolor\":\"white\",\"minorgridcolor\":\"white\",\"startlinecolor\":\"#2a3f5f\"},\"type\":\"carpet\"}],\"table\":[{\"cells\":{\"fill\":{\"color\":\"#EBF0F8\"},\"line\":{\"color\":\"white\"}},\"header\":{\"fill\":{\"color\":\"#C8D4E3\"},\"line\":{\"color\":\"white\"}},\"type\":\"table\"}],\"barpolar\":[{\"marker\":{\"line\":{\"color\":\"#E5ECF6\",\"width\":0.5},\"pattern\":{\"fillmode\":\"overlay\",\"size\":10,\"solidity\":0.2}},\"type\":\"barpolar\"}],\"pie\":[{\"automargin\":true,\"type\":\"pie\"}]},\"layout\":{\"autotypenumbers\":\"strict\",\"colorway\":[\"#636efa\",\"#EF553B\",\"#00cc96\",\"#ab63fa\",\"#FFA15A\",\"#19d3f3\",\"#FF6692\",\"#B6E880\",\"#FF97FF\",\"#FECB52\"],\"font\":{\"color\":\"#2a3f5f\"},\"hovermode\":\"closest\",\"hoverlabel\":{\"align\":\"left\"},\"paper_bgcolor\":\"white\",\"plot_bgcolor\":\"#E5ECF6\",\"polar\":{\"bgcolor\":\"#E5ECF6\",\"angularaxis\":{\"gridcolor\":\"white\",\"linecolor\":\"white\",\"ticks\":\"\"},\"radialaxis\":{\"gridcolor\":\"white\",\"linecolor\":\"white\",\"ticks\":\"\"}},\"ternary\":{\"bgcolor\":\"#E5ECF6\",\"aaxis\":{\"gridcolor\":\"white\",\"linecolor\":\"white\",\"ticks\":\"\"},\"baxis\":{\"gridcolor\":\"white\",\"linecolor\":\"white\",\"ticks\":\"\"},\"caxis\":{\"gridcolor\":\"white\",\"linecolor\":\"white\",\"ticks\":\"\"}},\"coloraxis\":{\"colorbar\":{\"outlinewidth\":0,\"ticks\":\"\"}},\"colorscale\":{\"sequential\":[[0.0,\"#0d0887\"],[0.1111111111111111,\"#46039f\"],[0.2222222222222222,\"#7201a8\"],[0.3333333333333333,\"#9c179e\"],[0.4444444444444444,\"#bd3786\"],[0.5555555555555556,\"#d8576b\"],[0.6666666666666666,\"#ed7953\"],[0.7777777777777778,\"#fb9f3a\"],[0.8888888888888888,\"#fdca26\"],[1.0,\"#f0f921\"]],\"sequentialminus\":[[0.0,\"#0d0887\"],[0.1111111111111111,\"#46039f\"],[0.2222222222222222,\"#7201a8\"],[0.3333333333333333,\"#9c179e\"],[0.4444444444444444,\"#bd3786\"],[0.5555555555555556,\"#d8576b\"],[0.6666666666666666,\"#ed7953\"],[0.7777777777777778,\"#fb9f3a\"],[0.8888888888888888,\"#fdca26\"],[1.0,\"#f0f921\"]],\"diverging\":[[0,\"#8e0152\"],[0.1,\"#c51b7d\"],[0.2,\"#de77ae\"],[0.3,\"#f1b6da\"],[0.4,\"#fde0ef\"],[0.5,\"#f7f7f7\"],[0.6,\"#e6f5d0\"],[0.7,\"#b8e186\"],[0.8,\"#7fbc41\"],[0.9,\"#4d9221\"],[1,\"#276419\"]]},\"xaxis\":{\"gridcolor\":\"white\",\"linecolor\":\"white\",\"ticks\":\"\",\"title\":{\"standoff\":15},\"zerolinecolor\":\"white\",\"automargin\":true,\"zerolinewidth\":2},\"yaxis\":{\"gridcolor\":\"white\",\"linecolor\":\"white\",\"ticks\":\"\",\"title\":{\"standoff\":15},\"zerolinecolor\":\"white\",\"automargin\":true,\"zerolinewidth\":2},\"scene\":{\"xaxis\":{\"backgroundcolor\":\"#E5ECF6\",\"gridcolor\":\"white\",\"linecolor\":\"white\",\"showbackground\":true,\"ticks\":\"\",\"zerolinecolor\":\"white\",\"gridwidth\":2},\"yaxis\":{\"backgroundcolor\":\"#E5ECF6\",\"gridcolor\":\"white\",\"linecolor\":\"white\",\"showbackground\":true,\"ticks\":\"\",\"zerolinecolor\":\"white\",\"gridwidth\":2},\"zaxis\":{\"backgroundcolor\":\"#E5ECF6\",\"gridcolor\":\"white\",\"linecolor\":\"white\",\"showbackground\":true,\"ticks\":\"\",\"zerolinecolor\":\"white\",\"gridwidth\":2}},\"shapedefaults\":{\"line\":{\"color\":\"#2a3f5f\"}},\"annotationdefaults\":{\"arrowcolor\":\"#2a3f5f\",\"arrowhead\":0,\"arrowwidth\":1},\"geo\":{\"bgcolor\":\"white\",\"landcolor\":\"#E5ECF6\",\"subunitcolor\":\"white\",\"showland\":true,\"showlakes\":true,\"lakecolor\":\"white\"},\"title\":{\"x\":0.05},\"mapbox\":{\"style\":\"light\"}}},\"xaxis\":{\"anchor\":\"y\",\"domain\":[0.0,1.0],\"title\":{\"text\":\"Product Reviews\"}},\"yaxis\":{\"anchor\":\"x\",\"domain\":[0.0,1.0],\"title\":{\"text\":\"count\"}},\"legend\":{\"tracegroupgap\":0},\"title\":{\"text\":\"Distribution of Product Reviews\"},\"barmode\":\"relative\",\"height\":1300},                        {\"responsive\": true}                    ).then(function(){\n",
              "                            \n",
              "var gd = document.getElementById('ed5676a0-3f9a-46ed-8587-429de874b44e');\n",
              "var x = new MutationObserver(function (mutations, observer) {{\n",
              "        var display = window.getComputedStyle(gd).display;\n",
              "        if (!display || display === 'none') {{\n",
              "            console.log([gd, 'removed!']);\n",
              "            Plotly.purge(gd);\n",
              "            observer.disconnect();\n",
              "        }}\n",
              "}});\n",
              "\n",
              "// Listen for the removal of the full notebook cells\n",
              "var notebookContainer = gd.closest('#notebook-container');\n",
              "if (notebookContainer) {{\n",
              "    x.observe(notebookContainer, {childList: true});\n",
              "}}\n",
              "\n",
              "// Listen for the clearing of the current output cell\n",
              "var outputEl = gd.closest('.output');\n",
              "if (outputEl) {{\n",
              "    x.observe(outputEl, {childList: true});\n",
              "}}\n",
              "\n",
              "                        })                };                            </script>        </div>\n",
              "</body>\n",
              "</html>"
            ]
          },
          "metadata": {}
        }
      ]
    },
    {
      "cell_type": "markdown",
      "source": [
        "**How do product reviews affect purchase history?**"
      ],
      "metadata": {
        "id": "gy6ttK_2dNDI"
      }
    },
    {
      "cell_type": "code",
      "source": [
        "fig = px.density_heatmap(df_no_outliers, x='Product Reviews', y='Purchase History',\n",
        "                         title='Relationship between Product Reviews and Purchase History', width=2500, height=1500)\n",
        "fig.show()"
      ],
      "metadata": {
        "execution": {
          "iopub.status.busy": "2024-10-03T09:17:46.065113Z",
          "iopub.execute_input": "2024-10-03T09:17:46.065538Z",
          "iopub.status.idle": "2024-10-03T09:17:46.170264Z",
          "shell.execute_reply.started": "2024-10-03T09:17:46.065487Z",
          "shell.execute_reply": "2024-10-03T09:17:46.169104Z"
        },
        "trusted": true,
        "colab": {
          "base_uri": "https://localhost:8080/",
          "height": 1000
        },
        "id": "wNwufq8gdNDI",
        "outputId": "a749679e-ea46-48da-fd57-2c54bc055cd8"
      },
      "execution_count": 20,
      "outputs": [
        {
          "output_type": "display_data",
          "data": {
            "text/html": [
              "<html>\n",
              "<head><meta charset=\"utf-8\" /></head>\n",
              "<body>\n",
              "    <div>            <script src=\"https://cdnjs.cloudflare.com/ajax/libs/mathjax/2.7.5/MathJax.js?config=TeX-AMS-MML_SVG\"></script><script type=\"text/javascript\">if (window.MathJax && window.MathJax.Hub && window.MathJax.Hub.Config) {window.MathJax.Hub.Config({SVG: {font: \"STIX-Web\"}});}</script>                <script type=\"text/javascript\">window.PlotlyConfig = {MathJaxConfig: 'local'};</script>\n",
              "        <script charset=\"utf-8\" src=\"https://cdn.plot.ly/plotly-2.35.2.min.js\"></script>                <div id=\"319cbdd2-fdf3-4476-b564-07dd67095f5d\" class=\"plotly-graph-div\" style=\"height:1500px; width:2500px;\"></div>            <script type=\"text/javascript\">                                    window.PLOTLYENV=window.PLOTLYENV || {};                                    if (document.getElementById(\"319cbdd2-fdf3-4476-b564-07dd67095f5d\")) {                    Plotly.newPlot(                        \"319cbdd2-fdf3-4476-b564-07dd67095f5d\",                        [{\"coloraxis\":\"coloraxis\",\"hovertemplate\":\"Product Reviews=%{x}\\u003cbr\\u003ePurchase History=%{y}\\u003cbr\\u003ecount=%{z}\\u003cextra\\u003e\\u003c\\u002fextra\\u003e\",\"name\":\"\",\"x\":[\"Great pair of jeans, very comfortable. Rating: 4 stars.\",\"Great customer service!\",\"Great electronics. The sound quality is excellent. I would highly recommend this product.\",\"{\\\"Product 1\\\": {\\\"Rating\\\": 4, \\\"Review\\\": \\\"Great experience buying this product. Fast delivery and excellent customer service.\\\"}}\",\"{\\\"Product 1\\\": {\\\"Rating\\\": 3, \\\"Review\\\": \\\"Good product, but could have been better.\\\"}}\",\"{\\\"Product 1\\\": {\\\"Rating\\\": 5, \\\"Review\\\": \\\"Awesome product, highly recommend it to everyone.\\\"}}\",\"{\\\"Product 1\\\": {\\\"Rating\\\": 4, \\\"Review\\\": \\\"Great product, will definitely buy again.\\\"}}\",\"{\\\"Product 1\\\": {\\\"Rating\\\": 3, \\\"Review\\\": \\\"Good product, but not worth the price.\\\"}}\",\"{\\\"Product 1\\\": {\\\"Rating\\\": 5, \\\"Review\\\": \\\"Outstanding product, exceeded my expectations.\\\"}}\",\"{\\\"Product 1\\\": {\\\"Rating\\\": 4, \\\"Review\\\": \\\"Good product, but could have been better.\\\"}}\",\"{\\\"Product 1\\\": {\\\"Rating\\\": 3, \\\"Review\\\": \\\"Good product, but not what I expected.\\\"}}\",\"{\\\"Product 1\\\": {\\\"Rating\\\": 4, \\\"Review\\\": \\\"Great product, will definitely buy again.\\\"}}\",\"{\\\"Review Text\\\": \\\"Great quality clothes!\\\", \\\"Rating\\\": 5}\",\"{\\\"Review Text\\\": \\\"Good product, but could be cheaper.\\\", \\\"Rating\\\": 3}\",\"{\\\"Review Text\\\": \\\"Very satisfied with my purchase!\\\", \\\"Rating\\\": 5}\",\"{\\\"Review Text\\\": \\\"Not what I expected.\\\", \\\"Rating\\\": 2}\",\"{\\\"Review Text\\\": \\\"Excellent product, highly recommend!\\\", \\\"Rating\\\": 5}\",\"{\\\"Review Text\\\": \\\"Awesome purchase!\\\", \\\"Rating\\\": 5}\",\"{\\\"Review Text\\\": \\\"Good product, but not worth the price.\\\", \\\"Rating\\\": 3}\",\"{\\\"Review Text\\\": \\\"Great product, highly recommend!\\\", \\\"Rating\\\": 5}\",\"{\\\"Review Text\\\": \\\"Satisfied with my purchase!\\\", \\\"Rating\\\": 4}\",\"{\\\"Review Text\\\": \\\"Excellent product, highly recommend!\\\", \\\"Rating\\\": 5}\",\"{\\\"Review Text\\\": \\\"Good product, but could be better.\\\", \\\"Rating\\\": 3}\",\"{\\\"Review Text\\\": \\\"Excellent product, highly recommend!\\\", \\\"Rating\\\": 5}\",\"This dress is amazing! I love the color and fit. 5 stars.\",\"The blouse is so comfortable and stylish. 5 stars!\",\"The headphones are great. Sound quality is excellent. 4.5 stars.\",\"The dress fits perfectly. I love it. 5 stars!\",\"The vacuum cleaner works great. 4 stars.\",\"The top is nice, but the size is a bit small. 3.5 stars.\",\"The phone is fantastic. 5 stars!\",\"The shirt is comfortable. 4 stars.\",\"The laptop is excellent. 5 stars!\",\"The shoes are comfortable. 4.5 stars.\",\"The coffee maker is great. 5 stars!\",\"The skirt is lovely. 4.5 stars.\",\"The TV is amazing. 5 stars!\",\"The bedding is comfortable. 4 stars.\",\"Great find! 5 stars\",\"Great product, very happy with my purchase.\",\"The product arrived quickly and in great condition.\",\"Great headphones, sound quality is amazing.\",\"Great purchase! The shoes are so comfortable and stylish. I've received several compliments.\",\"I'm really happy with my new phone. The battery life is impressive.\",\"The headphones are amazing! The sound quality is excellent.\",\"I love my new kitchen gadget! It's so efficient and easy to use.\",\"The laptop is perfect for my needs. It's lightweight and powerful.\",\"The clothing arrived quickly and fits great! 5 stars.\",\"The electronics were excellent quality and arrived promptly. 5 stars.\",\"The electronics were as described and arrived on time. 4 stars.\"],\"xaxis\":\"x\",\"xbingroup\":\"x\",\"y\":[\"[{\\\"Date\\\": \\\"2022-03-05\\\", \\\"Category\\\": \\\"Clothing\\\", \\\"Price\\\": 34.99}, {\\\"Date\\\": \\\"2022-02-12\\\", \\\"Category\\\": \\\"Electronics\\\", \\\"Price\\\": 129.99}, {\\\"Date\\\": \\\"2022-01-20\\\", \\\"Category\\\": \\\"Home & Garden\\\", \\\"Price\\\": 29.99}]\",\"[{\\\"Product Category\\\": \\\"Clothing\\\", \\\"Purchase Date\\\": \\\"2022-05-15\\\", \\\"Price\\\": 34.56}, {\\\"Product Category\\\": \\\"Electronics\\\", \\\"Purchase Date\\\": \\\"2022-06-02\\\", \\\"Price\\\": 150.99}]\",\"[{\\\"Product Category\\\": \\\"Electronics\\\", \\\"Purchase Date\\\": \\\"2022-08-15\\\", \\\"Price\\\": 345.5}, {\\\"Product Category\\\": \\\"Home & Garden\\\", \\\"Purchase Date\\\": \\\"2022-07-02\\\", \\\"Price\\\": 279.99}]\",\"{'Purchase Date': '2022-08-15', 'Product Category': 'Electronics', 'Price': 200.5},{'Purchase Date': '2022-07-22', 'Product Category': 'Clothing', 'Price': 125.6},{'Purchase Date': '2022-06-01', 'Product Category': 'Home & Garden', 'Price': 300.8},{'Purchase Date': '2022-05-10', 'Product Category': 'Electronics', 'Price': 150.9}\",\"{'Purchase Date': '2022-07-25', 'Product Category': 'Clothing', 'Price': 67.2},{'Purchase Date': '2022-06-08', 'Product Category': 'Home & Garden', 'Price': 250.1},{'Purchase Date': '2022-05-15', 'Product Category': 'Electronics', 'Price': 400.7}\",\"{'Purchase Date': '2022-09-01', 'Product Category': 'Electronics', 'Price': 300.2},{'Purchase Date': '2022-08-12', 'Product Category': 'Clothing', 'Price': 185.3},{'Purchase Date': '2022-07-28', 'Product Category': 'Home & Garden', 'Price': 200.9}\",\"{'Purchase Date': '2022-07-20', 'Product Category': 'Electronics', 'Price': 150.8},{'Purchase Date': '2022-06-05', 'Product Category': 'Clothing', 'Price': 120.6},{'Purchase Date': '2022-05-18', 'Product Category': 'Home & Garden', 'Price': 350.1}\",\"{'Purchase Date': '2022-08-28', 'Product Category': 'Electronics', 'Price': 250.6},{'Purchase Date': '2022-07-15', 'Product Category': 'Clothing', 'Price': 115.7},{'Purchase Date': '2022-06-03', 'Product Category': 'Home & Garden', 'Price': 300.4}\",\"{'Purchase Date': '2022-09-05', 'Product Category': 'Electronics', 'Price': 400.9},{'Purchase Date': '2022-08-18', 'Product Category': 'Clothing', 'Price': 195.3},{'Purchase Date': '2022-07-03', 'Product Category': 'Home & Garden', 'Price': 220.7}\",\"{'Purchase Date': '2022-07-27', 'Product Category': 'Electronics', 'Price': 120.5},{'Purchase Date': '2022-06-12', 'Product Category': 'Clothing', 'Price': 130.6},{'Purchase Date': '2022-05-28', 'Product Category': 'Home & Garden', 'Price': 320.8}\",\"{'Purchase Date': '2022-09-08', 'Product Category': 'Electronics', 'Price': 350.2},{'Purchase Date': '2022-08-23', 'Product Category': 'Clothing', 'Price': 165.3},{'Purchase Date': '2022-07-07', 'Product Category': 'Home & Garden', 'Price': 280.9}\",\"{'Purchase Date': '2022-08-25', 'Product Category': 'Electronics', 'Price': 170.8},{'Purchase Date': '2022-07-09', 'Product Category': 'Clothing', 'Price': 105.6},{'Purchase Date': '2022-06-24', 'Product Category': 'Home & Garden', 'Price': 290.1}\",\"{'Purchase Date': '2022-03-05', 'Product Category': 'Clothing', 'Price': 45.99},{'Purchase Date': '2022-04-12', 'Product Category': 'Home & Garden', 'Price': 120.5}\",\"{'Purchase Date': '2022-02-15', 'Product Category': 'Electronics', 'Price': 250},{'Purchase Date': '2022-05-10', 'Product Category': 'Clothing', 'Price': 34.99}\",\"{'Purchase Date': '2022-01-18', 'Product Category': 'Home & Garden', 'Price': 180},{'Purchase Date': '2022-06-02', 'Product Category': 'Electronics', 'Price': 400}\",\"{'Purchase Date': '2022-04-25', 'Product Category': 'Clothing', 'Price': 29.99},{'Purchase Date': '2022-07-07', 'Product Category': 'Home & Garden', 'Price': 150}\",\"{'Purchase Date': '2022-05-20', 'Product Category': 'Electronics', 'Price': 600},{'Purchase Date': '2022-08-03', 'Product Category': 'Clothing', 'Price': 59.99}\",\"{'Purchase Date': '2022-06-15', 'Product Category': 'Home & Garden', 'Price': 220},{'Purchase Date': '2022-09-01', 'Product Category': 'Electronics', 'Price': 300}\",\"{'Purchase Date': '2022-07-22', 'Product Category': 'Clothing', 'Price': 39.99},{'Purchase Date': '2022-10-06', 'Product Category': 'Home & Garden', 'Price': 190}\",\"{'Purchase Date': '2022-08-08', 'Product Category': 'Electronics', 'Price': 550},{'Purchase Date': '2022-11-01', 'Product Category': 'Clothing', 'Price': 44.99}\",\"{'Purchase Date': '2022-09-20', 'Product Category': 'Home & Garden', 'Price': 200},{'Purchase Date': '2022-12-05', 'Product Category': 'Electronics', 'Price': 350}\",\"{'Purchase Date': '2022-10-15', 'Product Category': 'Clothing', 'Price': 34.99},{'Purchase Date': '2022-12-20', 'Product Category': 'Home & Garden', 'Price': 250}\",\"{'Purchase Date': '2022-11-05', 'Product Category': 'Electronics', 'Price': 150},{'Purchase Date': '2023-01-10', 'Product Category': 'Clothing', 'Price': 29.99}\",\"{'Purchase Date': '2022-12-25', 'Product Category': 'Home & Garden', 'Price': 170},{'Purchase Date': '2023-02-05', 'Product Category': 'Electronics', 'Price': 450}\",\"[{\\\"Purchase Date\\\": \\\"2022-09-15\\\", \\\"Product Category\\\": \\\"Clothing\\\", \\\"Price\\\": 34.5}]\",\"{'Purchase Date': '2022-05-15', 'Product Category': 'Clothing', 'Price': 120},{'Purchase Date': '2022-06-02', 'Product Category': 'Home & Garden', 'Price': 250}\",\"{'Purchase Date': '2022-06-12', 'Product Category': 'Electronics', 'Price': 350}\",\"{'Purchase Date': '2022-05-28', 'Product Category': 'Clothing', 'Price': 75},{'Purchase Date': '2022-06-10', 'Product Category': 'Home & Garden', 'Price': 120}\",\"{'Purchase Date': '2022-05-08', 'Product Category': 'Electronics', 'Price': 200},{'Purchase Date': '2022-06-05', 'Product Category': 'Home & Garden', 'Price': 150}\",\"{'Purchase Date': '2022-05-18', 'Product Category': 'Clothing', 'Price': 50},{'Purchase Date': '2022-06-07', 'Product Category': 'Home & Garden', 'Price': 100}\",\"{'Purchase Date': '2022-05-23', 'Product Category': 'Electronics', 'Price': 400},{'Purchase Date': '2022-06-03', 'Product Category': 'Home & Garden', 'Price': 200}\",\"{'Purchase Date': '2022-05-25', 'Product Category': 'Clothing', 'Price': 100},{'Purchase Date': '2022-06-08', 'Product Category': 'Home & Garden', 'Price': 180}\",\"{'Purchase Date': '2022-05-20', 'Product Category': 'Electronics', 'Price': 300},{'Purchase Date': '2022-06-04', 'Product Category': 'Home & Garden', 'Price': 250}\",\"{'Purchase Date': '2022-05-16', 'Product Category': 'Clothing', 'Price': 60},{'Purchase Date': '2022-06-06', 'Product Category': 'Home & Garden', 'Price': 150}\",\"{'Purchase Date': '2022-05-12', 'Product Category': 'Electronics', 'Price': 250},{'Purchase Date': '2022-06-01', 'Product Category': 'Home & Garden', 'Price': 175}\",\"{'Purchase Date': '2022-05-27', 'Product Category': 'Clothing', 'Price': 80},{'Purchase Date': '2022-06-09', 'Product Category': 'Home & Garden', 'Price': 200}\",\"{'Purchase Date': '2022-05-22', 'Product Category': 'Electronics', 'Price': 350},{'Purchase Date': '2022-06-02', 'Product Category': 'Home & Garden', 'Price': 100}\",\"{'Purchase Date': '2022-05-19', 'Product Category': 'Clothing', 'Price': 120},{'Purchase Date': '2022-06-07', 'Product Category': 'Home & Garden', 'Price': 150}\",\"[{\\\"Product Category\\\": \\\"Clothing\\\", \\\"Purchase Date\\\": \\\"2022-08-15\\\", \\\"Price\\\": 45.23}, {\\\"Product Category\\\": \\\"Electronics\\\", \\\"Purchase Date\\\": \\\"2022-07-20\\\", \\\"Price\\\": 250.34}]\",\"[{\\\"Product Category\\\": \\\"Electronics\\\", \\\"Purchase Date\\\": \\\"2022-03-15\\\", \\\"Price\\\": 250.5}, {\\\"Product Category\\\": \\\"Clothing\\\", \\\"Purchase Date\\\": \\\"2022-02-01\\\", \\\"Price\\\": 125.8}]\",\"[{\\\"Product Category\\\": \\\"Clothing\\\", \\\"Purchase Date\\\": \\\"2022-02-20\\\", \\\"Price\\\": 150.2}, {\\\"Product Category\\\": \\\"Home & Garden\\\", \\\"Purchase Date\\\": \\\"2022-01-12\\\", \\\"Price\\\": 450}]\",\"[{\\\"Product Category\\\": \\\"Electronics\\\", \\\"Purchase Date\\\": \\\"2022-03-15\\\", \\\"Price\\\": 249.99}]\",\"[{\\\"Product Category\\\": \\\"Clothing\\\", \\\"Purchase Date\\\": \\\"2022-06-12\\\", \\\"Price\\\": 45.99}, {\\\"Product Category\\\": \\\"Electronics\\\", \\\"Purchase Date\\\": \\\"2022-05-08\\\", \\\"Price\\\": 199.99}]\",\"[{\\\"Product Category\\\": \\\"Electronics\\\", \\\"Purchase Date\\\": \\\"2022-07-03\\\", \\\"Price\\\": 249.99}, {\\\"Product Category\\\": \\\"Home & Garden\\\", \\\"Purchase Date\\\": \\\"2022-06-17\\\", \\\"Price\\\": 129.99}]\",\"[{\\\"Product Category\\\": \\\"Clothing\\\", \\\"Purchase Date\\\": \\\"2022-06-22\\\", \\\"Price\\\": 34.99}, {\\\"Product Category\\\": \\\"Electronics\\\", \\\"Purchase Date\\\": \\\"2022-05-15\\\", \\\"Price\\\": 149.99}]\",\"[{\\\"Product Category\\\": \\\"Clothing\\\", \\\"Purchase Date\\\": \\\"2022-07-08\\\", \\\"Price\\\": 79.99}, {\\\"Product Category\\\": \\\"Home & Garden\\\", \\\"Purchase Date\\\": \\\"2022-06-24\\\", \\\"Price\\\": 399.99}]\",\"[{\\\"Product Category\\\": \\\"Electronics\\\", \\\"Purchase Date\\\": \\\"2022-06-01\\\", \\\"Price\\\": 129.99}, {\\\"Product Category\\\": \\\"Home & Garden\\\", \\\"Purchase Date\\\": \\\"2022-05-18\\\", \\\"Price\\\": 59.99}]\",\"[{\\\"Purchase Date\\\": \\\"2022-07-02\\\",\\\"Product Category\\\": \\\"Clothing\\\",\\\"Price\\\": 25.6},{\\\"Purchase Date\\\": \\\"2022-06-15\\\",\\\"Product Category\\\": \\\"Electronics\\\",\\\"Price\\\": 120},{\\\"Purchase Date\\\": \\\"2022-05-10\\\",\\\"Product Category\\\": \\\"Home & Garden\\\",\\\"Price\\\": 35}]\",\"[{\\\"Purchase Date\\\": \\\"2022-07-08\\\",\\\"Product Category\\\": \\\"Electronics\\\",\\\"Price\\\": 420},{\\\"Purchase Date\\\": \\\"2022-06-23\\\",\\\"Product Category\\\": \\\"Clothing\\\",\\\"Price\\\": 75},{\\\"Purchase Date\\\": \\\"2022-05-12\\\",\\\"Product Category\\\": \\\"Home & Garden\\\",\\\"Price\\\": 200}]\",\"[{\\\"Purchase Date\\\": \\\"2022-07-01\\\",\\\"Product Category\\\": \\\"Electronics\\\",\\\"Price\\\": 180},{\\\"Purchase Date\\\": \\\"2022-06-18\\\",\\\"Product Category\\\": \\\"Clothing\\\",\\\"Price\\\": 50},{\\\"Purchase Date\\\": \\\"2022-05-09\\\",\\\"Product Category\\\": \\\"Home & Garden\\\",\\\"Price\\\": 30}]\"],\"yaxis\":\"y\",\"ybingroup\":\"y\",\"type\":\"histogram2d\"}],                        {\"template\":{\"data\":{\"histogram2dcontour\":[{\"type\":\"histogram2dcontour\",\"colorbar\":{\"outlinewidth\":0,\"ticks\":\"\"},\"colorscale\":[[0.0,\"#0d0887\"],[0.1111111111111111,\"#46039f\"],[0.2222222222222222,\"#7201a8\"],[0.3333333333333333,\"#9c179e\"],[0.4444444444444444,\"#bd3786\"],[0.5555555555555556,\"#d8576b\"],[0.6666666666666666,\"#ed7953\"],[0.7777777777777778,\"#fb9f3a\"],[0.8888888888888888,\"#fdca26\"],[1.0,\"#f0f921\"]]}],\"choropleth\":[{\"type\":\"choropleth\",\"colorbar\":{\"outlinewidth\":0,\"ticks\":\"\"}}],\"histogram2d\":[{\"type\":\"histogram2d\",\"colorbar\":{\"outlinewidth\":0,\"ticks\":\"\"},\"colorscale\":[[0.0,\"#0d0887\"],[0.1111111111111111,\"#46039f\"],[0.2222222222222222,\"#7201a8\"],[0.3333333333333333,\"#9c179e\"],[0.4444444444444444,\"#bd3786\"],[0.5555555555555556,\"#d8576b\"],[0.6666666666666666,\"#ed7953\"],[0.7777777777777778,\"#fb9f3a\"],[0.8888888888888888,\"#fdca26\"],[1.0,\"#f0f921\"]]}],\"heatmap\":[{\"type\":\"heatmap\",\"colorbar\":{\"outlinewidth\":0,\"ticks\":\"\"},\"colorscale\":[[0.0,\"#0d0887\"],[0.1111111111111111,\"#46039f\"],[0.2222222222222222,\"#7201a8\"],[0.3333333333333333,\"#9c179e\"],[0.4444444444444444,\"#bd3786\"],[0.5555555555555556,\"#d8576b\"],[0.6666666666666666,\"#ed7953\"],[0.7777777777777778,\"#fb9f3a\"],[0.8888888888888888,\"#fdca26\"],[1.0,\"#f0f921\"]]}],\"heatmapgl\":[{\"type\":\"heatmapgl\",\"colorbar\":{\"outlinewidth\":0,\"ticks\":\"\"},\"colorscale\":[[0.0,\"#0d0887\"],[0.1111111111111111,\"#46039f\"],[0.2222222222222222,\"#7201a8\"],[0.3333333333333333,\"#9c179e\"],[0.4444444444444444,\"#bd3786\"],[0.5555555555555556,\"#d8576b\"],[0.6666666666666666,\"#ed7953\"],[0.7777777777777778,\"#fb9f3a\"],[0.8888888888888888,\"#fdca26\"],[1.0,\"#f0f921\"]]}],\"contourcarpet\":[{\"type\":\"contourcarpet\",\"colorbar\":{\"outlinewidth\":0,\"ticks\":\"\"}}],\"contour\":[{\"type\":\"contour\",\"colorbar\":{\"outlinewidth\":0,\"ticks\":\"\"},\"colorscale\":[[0.0,\"#0d0887\"],[0.1111111111111111,\"#46039f\"],[0.2222222222222222,\"#7201a8\"],[0.3333333333333333,\"#9c179e\"],[0.4444444444444444,\"#bd3786\"],[0.5555555555555556,\"#d8576b\"],[0.6666666666666666,\"#ed7953\"],[0.7777777777777778,\"#fb9f3a\"],[0.8888888888888888,\"#fdca26\"],[1.0,\"#f0f921\"]]}],\"surface\":[{\"type\":\"surface\",\"colorbar\":{\"outlinewidth\":0,\"ticks\":\"\"},\"colorscale\":[[0.0,\"#0d0887\"],[0.1111111111111111,\"#46039f\"],[0.2222222222222222,\"#7201a8\"],[0.3333333333333333,\"#9c179e\"],[0.4444444444444444,\"#bd3786\"],[0.5555555555555556,\"#d8576b\"],[0.6666666666666666,\"#ed7953\"],[0.7777777777777778,\"#fb9f3a\"],[0.8888888888888888,\"#fdca26\"],[1.0,\"#f0f921\"]]}],\"mesh3d\":[{\"type\":\"mesh3d\",\"colorbar\":{\"outlinewidth\":0,\"ticks\":\"\"}}],\"scatter\":[{\"fillpattern\":{\"fillmode\":\"overlay\",\"size\":10,\"solidity\":0.2},\"type\":\"scatter\"}],\"parcoords\":[{\"type\":\"parcoords\",\"line\":{\"colorbar\":{\"outlinewidth\":0,\"ticks\":\"\"}}}],\"scatterpolargl\":[{\"type\":\"scatterpolargl\",\"marker\":{\"colorbar\":{\"outlinewidth\":0,\"ticks\":\"\"}}}],\"bar\":[{\"error_x\":{\"color\":\"#2a3f5f\"},\"error_y\":{\"color\":\"#2a3f5f\"},\"marker\":{\"line\":{\"color\":\"#E5ECF6\",\"width\":0.5},\"pattern\":{\"fillmode\":\"overlay\",\"size\":10,\"solidity\":0.2}},\"type\":\"bar\"}],\"scattergeo\":[{\"type\":\"scattergeo\",\"marker\":{\"colorbar\":{\"outlinewidth\":0,\"ticks\":\"\"}}}],\"scatterpolar\":[{\"type\":\"scatterpolar\",\"marker\":{\"colorbar\":{\"outlinewidth\":0,\"ticks\":\"\"}}}],\"histogram\":[{\"marker\":{\"pattern\":{\"fillmode\":\"overlay\",\"size\":10,\"solidity\":0.2}},\"type\":\"histogram\"}],\"scattergl\":[{\"type\":\"scattergl\",\"marker\":{\"colorbar\":{\"outlinewidth\":0,\"ticks\":\"\"}}}],\"scatter3d\":[{\"type\":\"scatter3d\",\"line\":{\"colorbar\":{\"outlinewidth\":0,\"ticks\":\"\"}},\"marker\":{\"colorbar\":{\"outlinewidth\":0,\"ticks\":\"\"}}}],\"scattermapbox\":[{\"type\":\"scattermapbox\",\"marker\":{\"colorbar\":{\"outlinewidth\":0,\"ticks\":\"\"}}}],\"scatterternary\":[{\"type\":\"scatterternary\",\"marker\":{\"colorbar\":{\"outlinewidth\":0,\"ticks\":\"\"}}}],\"scattercarpet\":[{\"type\":\"scattercarpet\",\"marker\":{\"colorbar\":{\"outlinewidth\":0,\"ticks\":\"\"}}}],\"carpet\":[{\"aaxis\":{\"endlinecolor\":\"#2a3f5f\",\"gridcolor\":\"white\",\"linecolor\":\"white\",\"minorgridcolor\":\"white\",\"startlinecolor\":\"#2a3f5f\"},\"baxis\":{\"endlinecolor\":\"#2a3f5f\",\"gridcolor\":\"white\",\"linecolor\":\"white\",\"minorgridcolor\":\"white\",\"startlinecolor\":\"#2a3f5f\"},\"type\":\"carpet\"}],\"table\":[{\"cells\":{\"fill\":{\"color\":\"#EBF0F8\"},\"line\":{\"color\":\"white\"}},\"header\":{\"fill\":{\"color\":\"#C8D4E3\"},\"line\":{\"color\":\"white\"}},\"type\":\"table\"}],\"barpolar\":[{\"marker\":{\"line\":{\"color\":\"#E5ECF6\",\"width\":0.5},\"pattern\":{\"fillmode\":\"overlay\",\"size\":10,\"solidity\":0.2}},\"type\":\"barpolar\"}],\"pie\":[{\"automargin\":true,\"type\":\"pie\"}]},\"layout\":{\"autotypenumbers\":\"strict\",\"colorway\":[\"#636efa\",\"#EF553B\",\"#00cc96\",\"#ab63fa\",\"#FFA15A\",\"#19d3f3\",\"#FF6692\",\"#B6E880\",\"#FF97FF\",\"#FECB52\"],\"font\":{\"color\":\"#2a3f5f\"},\"hovermode\":\"closest\",\"hoverlabel\":{\"align\":\"left\"},\"paper_bgcolor\":\"white\",\"plot_bgcolor\":\"#E5ECF6\",\"polar\":{\"bgcolor\":\"#E5ECF6\",\"angularaxis\":{\"gridcolor\":\"white\",\"linecolor\":\"white\",\"ticks\":\"\"},\"radialaxis\":{\"gridcolor\":\"white\",\"linecolor\":\"white\",\"ticks\":\"\"}},\"ternary\":{\"bgcolor\":\"#E5ECF6\",\"aaxis\":{\"gridcolor\":\"white\",\"linecolor\":\"white\",\"ticks\":\"\"},\"baxis\":{\"gridcolor\":\"white\",\"linecolor\":\"white\",\"ticks\":\"\"},\"caxis\":{\"gridcolor\":\"white\",\"linecolor\":\"white\",\"ticks\":\"\"}},\"coloraxis\":{\"colorbar\":{\"outlinewidth\":0,\"ticks\":\"\"}},\"colorscale\":{\"sequential\":[[0.0,\"#0d0887\"],[0.1111111111111111,\"#46039f\"],[0.2222222222222222,\"#7201a8\"],[0.3333333333333333,\"#9c179e\"],[0.4444444444444444,\"#bd3786\"],[0.5555555555555556,\"#d8576b\"],[0.6666666666666666,\"#ed7953\"],[0.7777777777777778,\"#fb9f3a\"],[0.8888888888888888,\"#fdca26\"],[1.0,\"#f0f921\"]],\"sequentialminus\":[[0.0,\"#0d0887\"],[0.1111111111111111,\"#46039f\"],[0.2222222222222222,\"#7201a8\"],[0.3333333333333333,\"#9c179e\"],[0.4444444444444444,\"#bd3786\"],[0.5555555555555556,\"#d8576b\"],[0.6666666666666666,\"#ed7953\"],[0.7777777777777778,\"#fb9f3a\"],[0.8888888888888888,\"#fdca26\"],[1.0,\"#f0f921\"]],\"diverging\":[[0,\"#8e0152\"],[0.1,\"#c51b7d\"],[0.2,\"#de77ae\"],[0.3,\"#f1b6da\"],[0.4,\"#fde0ef\"],[0.5,\"#f7f7f7\"],[0.6,\"#e6f5d0\"],[0.7,\"#b8e186\"],[0.8,\"#7fbc41\"],[0.9,\"#4d9221\"],[1,\"#276419\"]]},\"xaxis\":{\"gridcolor\":\"white\",\"linecolor\":\"white\",\"ticks\":\"\",\"title\":{\"standoff\":15},\"zerolinecolor\":\"white\",\"automargin\":true,\"zerolinewidth\":2},\"yaxis\":{\"gridcolor\":\"white\",\"linecolor\":\"white\",\"ticks\":\"\",\"title\":{\"standoff\":15},\"zerolinecolor\":\"white\",\"automargin\":true,\"zerolinewidth\":2},\"scene\":{\"xaxis\":{\"backgroundcolor\":\"#E5ECF6\",\"gridcolor\":\"white\",\"linecolor\":\"white\",\"showbackground\":true,\"ticks\":\"\",\"zerolinecolor\":\"white\",\"gridwidth\":2},\"yaxis\":{\"backgroundcolor\":\"#E5ECF6\",\"gridcolor\":\"white\",\"linecolor\":\"white\",\"showbackground\":true,\"ticks\":\"\",\"zerolinecolor\":\"white\",\"gridwidth\":2},\"zaxis\":{\"backgroundcolor\":\"#E5ECF6\",\"gridcolor\":\"white\",\"linecolor\":\"white\",\"showbackground\":true,\"ticks\":\"\",\"zerolinecolor\":\"white\",\"gridwidth\":2}},\"shapedefaults\":{\"line\":{\"color\":\"#2a3f5f\"}},\"annotationdefaults\":{\"arrowcolor\":\"#2a3f5f\",\"arrowhead\":0,\"arrowwidth\":1},\"geo\":{\"bgcolor\":\"white\",\"landcolor\":\"#E5ECF6\",\"subunitcolor\":\"white\",\"showland\":true,\"showlakes\":true,\"lakecolor\":\"white\"},\"title\":{\"x\":0.05},\"mapbox\":{\"style\":\"light\"}}},\"xaxis\":{\"anchor\":\"y\",\"domain\":[0.0,1.0],\"title\":{\"text\":\"Product Reviews\"}},\"yaxis\":{\"anchor\":\"x\",\"domain\":[0.0,1.0],\"title\":{\"text\":\"Purchase History\"}},\"coloraxis\":{\"colorbar\":{\"title\":{\"text\":\"count\"}},\"colorscale\":[[0.0,\"#0d0887\"],[0.1111111111111111,\"#46039f\"],[0.2222222222222222,\"#7201a8\"],[0.3333333333333333,\"#9c179e\"],[0.4444444444444444,\"#bd3786\"],[0.5555555555555556,\"#d8576b\"],[0.6666666666666666,\"#ed7953\"],[0.7777777777777778,\"#fb9f3a\"],[0.8888888888888888,\"#fdca26\"],[1.0,\"#f0f921\"]]},\"legend\":{\"tracegroupgap\":0},\"title\":{\"text\":\"Relationship between Product Reviews and Purchase History\"},\"height\":1500,\"width\":2500},                        {\"responsive\": true}                    ).then(function(){\n",
              "                            \n",
              "var gd = document.getElementById('319cbdd2-fdf3-4476-b564-07dd67095f5d');\n",
              "var x = new MutationObserver(function (mutations, observer) {{\n",
              "        var display = window.getComputedStyle(gd).display;\n",
              "        if (!display || display === 'none') {{\n",
              "            console.log([gd, 'removed!']);\n",
              "            Plotly.purge(gd);\n",
              "            observer.disconnect();\n",
              "        }}\n",
              "}});\n",
              "\n",
              "// Listen for the removal of the full notebook cells\n",
              "var notebookContainer = gd.closest('#notebook-container');\n",
              "if (notebookContainer) {{\n",
              "    x.observe(notebookContainer, {childList: true});\n",
              "}}\n",
              "\n",
              "// Listen for the clearing of the current output cell\n",
              "var outputEl = gd.closest('.output');\n",
              "if (outputEl) {{\n",
              "    x.observe(outputEl, {childList: true});\n",
              "}}\n",
              "\n",
              "                        })                };                            </script>        </div>\n",
              "</body>\n",
              "</html>"
            ]
          },
          "metadata": {}
        }
      ]
    },
    {
      "cell_type": "markdown",
      "source": [
        "**What is the relationship between annual income and purchase history?**"
      ],
      "metadata": {
        "id": "Yu78vM67dNDJ"
      }
    },
    {
      "cell_type": "code",
      "source": [
        "fig = px.scatter(df_no_outliers, x='Annual Income', y='Purchase History', color='Gender',\n",
        "                 title='Annual Income vs Purchase History', width=2500)\n",
        "fig.show()"
      ],
      "metadata": {
        "execution": {
          "iopub.status.busy": "2024-10-03T09:17:46.17187Z",
          "iopub.execute_input": "2024-10-03T09:17:46.172399Z",
          "iopub.status.idle": "2024-10-03T09:17:46.269185Z",
          "shell.execute_reply.started": "2024-10-03T09:17:46.172325Z",
          "shell.execute_reply": "2024-10-03T09:17:46.26796Z"
        },
        "trusted": true,
        "colab": {
          "base_uri": "https://localhost:8080/",
          "height": 562
        },
        "id": "0cikkla_dNDJ",
        "outputId": "c2a5c8c3-34d8-4a18-eb07-ab7bcf75d170"
      },
      "execution_count": 21,
      "outputs": [
        {
          "output_type": "display_data",
          "data": {
            "text/html": [
              "<html>\n",
              "<head><meta charset=\"utf-8\" /></head>\n",
              "<body>\n",
              "    <div>            <script src=\"https://cdnjs.cloudflare.com/ajax/libs/mathjax/2.7.5/MathJax.js?config=TeX-AMS-MML_SVG\"></script><script type=\"text/javascript\">if (window.MathJax && window.MathJax.Hub && window.MathJax.Hub.Config) {window.MathJax.Hub.Config({SVG: {font: \"STIX-Web\"}});}</script>                <script type=\"text/javascript\">window.PlotlyConfig = {MathJaxConfig: 'local'};</script>\n",
              "        <script charset=\"utf-8\" src=\"https://cdn.plot.ly/plotly-2.35.2.min.js\"></script>                <div id=\"2dfcebfd-2463-48da-833c-47b93fa8cf06\" class=\"plotly-graph-div\" style=\"height:525px; width:2500px;\"></div>            <script type=\"text/javascript\">                                    window.PLOTLYENV=window.PLOTLYENV || {};                                    if (document.getElementById(\"2dfcebfd-2463-48da-833c-47b93fa8cf06\")) {                    Plotly.newPlot(                        \"2dfcebfd-2463-48da-833c-47b93fa8cf06\",                        [{\"hovertemplate\":\"Gender=Female\\u003cbr\\u003eAnnual Income=%{x}\\u003cbr\\u003ePurchase History=%{y}\\u003cextra\\u003e\\u003c\\u002fextra\\u003e\",\"legendgroup\":\"Female\",\"marker\":{\"color\":\"#636efa\",\"symbol\":\"circle\"},\"mode\":\"markers\",\"name\":\"Female\",\"orientation\":\"h\",\"showlegend\":true,\"x\":[45000,52000,65000,70000,60000,55000,75000,45000,65000,85000,75000,95000,45000,50000,60000,45000,65000,40000,55000,68000,65000,60000,55000,65000,100000,55000],\"xaxis\":\"x\",\"y\":[\"[{\\\"Date\\\": \\\"2022-03-05\\\", \\\"Category\\\": \\\"Clothing\\\", \\\"Price\\\": 34.99}, {\\\"Date\\\": \\\"2022-02-12\\\", \\\"Category\\\": \\\"Electronics\\\", \\\"Price\\\": 129.99}, {\\\"Date\\\": \\\"2022-01-20\\\", \\\"Category\\\": \\\"Home & Garden\\\", \\\"Price\\\": 29.99}]\",\"[{\\\"Product Category\\\": \\\"Clothing\\\", \\\"Purchase Date\\\": \\\"2022-05-15\\\", \\\"Price\\\": 34.56}, {\\\"Product Category\\\": \\\"Electronics\\\", \\\"Purchase Date\\\": \\\"2022-06-02\\\", \\\"Price\\\": 150.99}]\",\"[{\\\"Product Category\\\": \\\"Electronics\\\", \\\"Purchase Date\\\": \\\"2022-08-15\\\", \\\"Price\\\": 345.5}, {\\\"Product Category\\\": \\\"Home & Garden\\\", \\\"Purchase Date\\\": \\\"2022-07-02\\\", \\\"Price\\\": 279.99}]\",\"{'Purchase Date': '2022-08-15', 'Product Category': 'Electronics', 'Price': 200.5},{'Purchase Date': '2022-07-22', 'Product Category': 'Clothing', 'Price': 125.6},{'Purchase Date': '2022-06-01', 'Product Category': 'Home & Garden', 'Price': 300.8},{'Purchase Date': '2022-05-10', 'Product Category': 'Electronics', 'Price': 150.9}\",\"{'Purchase Date': '2022-07-20', 'Product Category': 'Electronics', 'Price': 150.8},{'Purchase Date': '2022-06-05', 'Product Category': 'Clothing', 'Price': 120.6},{'Purchase Date': '2022-05-18', 'Product Category': 'Home & Garden', 'Price': 350.1}\",\"{'Purchase Date': '2022-07-27', 'Product Category': 'Electronics', 'Price': 120.5},{'Purchase Date': '2022-06-12', 'Product Category': 'Clothing', 'Price': 130.6},{'Purchase Date': '2022-05-28', 'Product Category': 'Home & Garden', 'Price': 320.8}\",\"{'Purchase Date': '2022-03-05', 'Product Category': 'Clothing', 'Price': 45.99},{'Purchase Date': '2022-04-12', 'Product Category': 'Home & Garden', 'Price': 120.5}\",\"{'Purchase Date': '2022-04-25', 'Product Category': 'Clothing', 'Price': 29.99},{'Purchase Date': '2022-07-07', 'Product Category': 'Home & Garden', 'Price': 150}\",\"{'Purchase Date': '2022-06-15', 'Product Category': 'Home & Garden', 'Price': 220},{'Purchase Date': '2022-09-01', 'Product Category': 'Electronics', 'Price': 300}\",\"{'Purchase Date': '2022-08-08', 'Product Category': 'Electronics', 'Price': 550},{'Purchase Date': '2022-11-01', 'Product Category': 'Clothing', 'Price': 44.99}\",\"{'Purchase Date': '2022-10-15', 'Product Category': 'Clothing', 'Price': 34.99},{'Purchase Date': '2022-12-20', 'Product Category': 'Home & Garden', 'Price': 250}\",\"{'Purchase Date': '2022-12-25', 'Product Category': 'Home & Garden', 'Price': 170},{'Purchase Date': '2023-02-05', 'Product Category': 'Electronics', 'Price': 450}\",\"[{\\\"Purchase Date\\\": \\\"2022-09-15\\\", \\\"Product Category\\\": \\\"Clothing\\\", \\\"Price\\\": 34.5}]\",\"{'Purchase Date': '2022-05-15', 'Product Category': 'Clothing', 'Price': 120},{'Purchase Date': '2022-06-02', 'Product Category': 'Home & Garden', 'Price': 250}\",\"{'Purchase Date': '2022-05-28', 'Product Category': 'Clothing', 'Price': 75},{'Purchase Date': '2022-06-10', 'Product Category': 'Home & Garden', 'Price': 120}\",\"{'Purchase Date': '2022-05-18', 'Product Category': 'Clothing', 'Price': 50},{'Purchase Date': '2022-06-07', 'Product Category': 'Home & Garden', 'Price': 100}\",\"{'Purchase Date': '2022-05-25', 'Product Category': 'Clothing', 'Price': 100},{'Purchase Date': '2022-06-08', 'Product Category': 'Home & Garden', 'Price': 180}\",\"{'Purchase Date': '2022-05-16', 'Product Category': 'Clothing', 'Price': 60},{'Purchase Date': '2022-06-06', 'Product Category': 'Home & Garden', 'Price': 150}\",\"{'Purchase Date': '2022-05-27', 'Product Category': 'Clothing', 'Price': 80},{'Purchase Date': '2022-06-09', 'Product Category': 'Home & Garden', 'Price': 200}\",\"{'Purchase Date': '2022-05-19', 'Product Category': 'Clothing', 'Price': 120},{'Purchase Date': '2022-06-07', 'Product Category': 'Home & Garden', 'Price': 150}\",\"[{\\\"Product Category\\\": \\\"Clothing\\\", \\\"Purchase Date\\\": \\\"2022-08-15\\\", \\\"Price\\\": 45.23}, {\\\"Product Category\\\": \\\"Electronics\\\", \\\"Purchase Date\\\": \\\"2022-07-20\\\", \\\"Price\\\": 250.34}]\",\"[{\\\"Product Category\\\": \\\"Electronics\\\", \\\"Purchase Date\\\": \\\"2022-03-15\\\", \\\"Price\\\": 250.5}, {\\\"Product Category\\\": \\\"Clothing\\\", \\\"Purchase Date\\\": \\\"2022-02-01\\\", \\\"Price\\\": 125.8}]\",\"[{\\\"Product Category\\\": \\\"Electronics\\\", \\\"Purchase Date\\\": \\\"2022-03-15\\\", \\\"Price\\\": 249.99}]\",\"[{\\\"Product Category\\\": \\\"Clothing\\\", \\\"Purchase Date\\\": \\\"2022-06-12\\\", \\\"Price\\\": 45.99}, {\\\"Product Category\\\": \\\"Electronics\\\", \\\"Purchase Date\\\": \\\"2022-05-08\\\", \\\"Price\\\": 199.99}]\",\"[{\\\"Product Category\\\": \\\"Clothing\\\", \\\"Purchase Date\\\": \\\"2022-07-08\\\", \\\"Price\\\": 79.99}, {\\\"Product Category\\\": \\\"Home & Garden\\\", \\\"Purchase Date\\\": \\\"2022-06-24\\\", \\\"Price\\\": 399.99}]\",\"[{\\\"Purchase Date\\\": \\\"2022-07-02\\\",\\\"Product Category\\\": \\\"Clothing\\\",\\\"Price\\\": 25.6},{\\\"Purchase Date\\\": \\\"2022-06-15\\\",\\\"Product Category\\\": \\\"Electronics\\\",\\\"Price\\\": 120},{\\\"Purchase Date\\\": \\\"2022-05-10\\\",\\\"Product Category\\\": \\\"Home & Garden\\\",\\\"Price\\\": 35}]\"],\"yaxis\":\"y\",\"type\":\"scatter\"},{\"hovertemplate\":\"Gender=Male\\u003cbr\\u003eAnnual Income=%{x}\\u003cbr\\u003ePurchase History=%{y}\\u003cextra\\u003e\\u003c\\u002fextra\\u003e\",\"legendgroup\":\"Male\",\"marker\":{\"color\":\"#EF553B\",\"symbol\":\"circle\"},\"mode\":\"markers\",\"name\":\"Male\",\"orientation\":\"h\",\"showlegend\":true,\"x\":[45000,75000,80000,50000,90000,70000,55000,40000,80000,70000,90000,85000,75000,95000,75000,80000,45000,87000],\"xaxis\":\"x\",\"y\":[\"{'Purchase Date': '2022-07-25', 'Product Category': 'Clothing', 'Price': 67.2},{'Purchase Date': '2022-06-08', 'Product Category': 'Home & Garden', 'Price': 250.1},{'Purchase Date': '2022-05-15', 'Product Category': 'Electronics', 'Price': 400.7}\",\"{'Purchase Date': '2022-08-28', 'Product Category': 'Electronics', 'Price': 250.6},{'Purchase Date': '2022-07-15', 'Product Category': 'Clothing', 'Price': 115.7},{'Purchase Date': '2022-06-03', 'Product Category': 'Home & Garden', 'Price': 300.4}\",\"{'Purchase Date': '2022-09-08', 'Product Category': 'Electronics', 'Price': 350.2},{'Purchase Date': '2022-08-23', 'Product Category': 'Clothing', 'Price': 165.3},{'Purchase Date': '2022-07-07', 'Product Category': 'Home & Garden', 'Price': 280.9}\",\"{'Purchase Date': '2022-02-15', 'Product Category': 'Electronics', 'Price': 250},{'Purchase Date': '2022-05-10', 'Product Category': 'Clothing', 'Price': 34.99}\",\"{'Purchase Date': '2022-05-20', 'Product Category': 'Electronics', 'Price': 600},{'Purchase Date': '2022-08-03', 'Product Category': 'Clothing', 'Price': 59.99}\",\"{'Purchase Date': '2022-07-22', 'Product Category': 'Clothing', 'Price': 39.99},{'Purchase Date': '2022-10-06', 'Product Category': 'Home & Garden', 'Price': 190}\",\"{'Purchase Date': '2022-09-20', 'Product Category': 'Home & Garden', 'Price': 200},{'Purchase Date': '2022-12-05', 'Product Category': 'Electronics', 'Price': 350}\",\"{'Purchase Date': '2022-11-05', 'Product Category': 'Electronics', 'Price': 150},{'Purchase Date': '2023-01-10', 'Product Category': 'Clothing', 'Price': 29.99}\",\"{'Purchase Date': '2022-06-12', 'Product Category': 'Electronics', 'Price': 350}\",\"{'Purchase Date': '2022-05-08', 'Product Category': 'Electronics', 'Price': 200},{'Purchase Date': '2022-06-05', 'Product Category': 'Home & Garden', 'Price': 150}\",\"{'Purchase Date': '2022-05-23', 'Product Category': 'Electronics', 'Price': 400},{'Purchase Date': '2022-06-03', 'Product Category': 'Home & Garden', 'Price': 200}\",\"{'Purchase Date': '2022-05-20', 'Product Category': 'Electronics', 'Price': 300},{'Purchase Date': '2022-06-04', 'Product Category': 'Home & Garden', 'Price': 250}\",\"{'Purchase Date': '2022-05-12', 'Product Category': 'Electronics', 'Price': 250},{'Purchase Date': '2022-06-01', 'Product Category': 'Home & Garden', 'Price': 175}\",\"{'Purchase Date': '2022-05-22', 'Product Category': 'Electronics', 'Price': 350},{'Purchase Date': '2022-06-02', 'Product Category': 'Home & Garden', 'Price': 100}\",\"[{\\\"Product Category\\\": \\\"Clothing\\\", \\\"Purchase Date\\\": \\\"2022-02-20\\\", \\\"Price\\\": 150.2}, {\\\"Product Category\\\": \\\"Home & Garden\\\", \\\"Purchase Date\\\": \\\"2022-01-12\\\", \\\"Price\\\": 450}]\",\"[{\\\"Product Category\\\": \\\"Electronics\\\", \\\"Purchase Date\\\": \\\"2022-07-03\\\", \\\"Price\\\": 249.99}, {\\\"Product Category\\\": \\\"Home & Garden\\\", \\\"Purchase Date\\\": \\\"2022-06-17\\\", \\\"Price\\\": 129.99}]\",\"[{\\\"Product Category\\\": \\\"Electronics\\\", \\\"Purchase Date\\\": \\\"2022-06-01\\\", \\\"Price\\\": 129.99}, {\\\"Product Category\\\": \\\"Home & Garden\\\", \\\"Purchase Date\\\": \\\"2022-05-18\\\", \\\"Price\\\": 59.99}]\",\"[{\\\"Purchase Date\\\": \\\"2022-07-08\\\",\\\"Product Category\\\": \\\"Electronics\\\",\\\"Price\\\": 420},{\\\"Purchase Date\\\": \\\"2022-06-23\\\",\\\"Product Category\\\": \\\"Clothing\\\",\\\"Price\\\": 75},{\\\"Purchase Date\\\": \\\"2022-05-12\\\",\\\"Product Category\\\": \\\"Home & Garden\\\",\\\"Price\\\": 200}]\"],\"yaxis\":\"y\",\"type\":\"scatter\"},{\"hovertemplate\":\"Gender=Other\\u003cbr\\u003eAnnual Income=%{x}\\u003cbr\\u003ePurchase History=%{y}\\u003cextra\\u003e\\u003c\\u002fextra\\u003e\",\"legendgroup\":\"Other\",\"marker\":{\"color\":\"#00cc96\",\"symbol\":\"circle\"},\"mode\":\"markers\",\"name\":\"Other\",\"orientation\":\"h\",\"showlegend\":true,\"x\":[90000,85000,40000,80000,50000,42000],\"xaxis\":\"x\",\"y\":[\"{'Purchase Date': '2022-09-01', 'Product Category': 'Electronics', 'Price': 300.2},{'Purchase Date': '2022-08-12', 'Product Category': 'Clothing', 'Price': 185.3},{'Purchase Date': '2022-07-28', 'Product Category': 'Home & Garden', 'Price': 200.9}\",\"{'Purchase Date': '2022-09-05', 'Product Category': 'Electronics', 'Price': 400.9},{'Purchase Date': '2022-08-18', 'Product Category': 'Clothing', 'Price': 195.3},{'Purchase Date': '2022-07-03', 'Product Category': 'Home & Garden', 'Price': 220.7}\",\"{'Purchase Date': '2022-08-25', 'Product Category': 'Electronics', 'Price': 170.8},{'Purchase Date': '2022-07-09', 'Product Category': 'Clothing', 'Price': 105.6},{'Purchase Date': '2022-06-24', 'Product Category': 'Home & Garden', 'Price': 290.1}\",\"{'Purchase Date': '2022-01-18', 'Product Category': 'Home & Garden', 'Price': 180},{'Purchase Date': '2022-06-02', 'Product Category': 'Electronics', 'Price': 400}\",\"[{\\\"Product Category\\\": \\\"Clothing\\\", \\\"Purchase Date\\\": \\\"2022-06-22\\\", \\\"Price\\\": 34.99}, {\\\"Product Category\\\": \\\"Electronics\\\", \\\"Purchase Date\\\": \\\"2022-05-15\\\", \\\"Price\\\": 149.99}]\",\"[{\\\"Purchase Date\\\": \\\"2022-07-01\\\",\\\"Product Category\\\": \\\"Electronics\\\",\\\"Price\\\": 180},{\\\"Purchase Date\\\": \\\"2022-06-18\\\",\\\"Product Category\\\": \\\"Clothing\\\",\\\"Price\\\": 50},{\\\"Purchase Date\\\": \\\"2022-05-09\\\",\\\"Product Category\\\": \\\"Home & Garden\\\",\\\"Price\\\": 30}]\"],\"yaxis\":\"y\",\"type\":\"scatter\"}],                        {\"template\":{\"data\":{\"histogram2dcontour\":[{\"type\":\"histogram2dcontour\",\"colorbar\":{\"outlinewidth\":0,\"ticks\":\"\"},\"colorscale\":[[0.0,\"#0d0887\"],[0.1111111111111111,\"#46039f\"],[0.2222222222222222,\"#7201a8\"],[0.3333333333333333,\"#9c179e\"],[0.4444444444444444,\"#bd3786\"],[0.5555555555555556,\"#d8576b\"],[0.6666666666666666,\"#ed7953\"],[0.7777777777777778,\"#fb9f3a\"],[0.8888888888888888,\"#fdca26\"],[1.0,\"#f0f921\"]]}],\"choropleth\":[{\"type\":\"choropleth\",\"colorbar\":{\"outlinewidth\":0,\"ticks\":\"\"}}],\"histogram2d\":[{\"type\":\"histogram2d\",\"colorbar\":{\"outlinewidth\":0,\"ticks\":\"\"},\"colorscale\":[[0.0,\"#0d0887\"],[0.1111111111111111,\"#46039f\"],[0.2222222222222222,\"#7201a8\"],[0.3333333333333333,\"#9c179e\"],[0.4444444444444444,\"#bd3786\"],[0.5555555555555556,\"#d8576b\"],[0.6666666666666666,\"#ed7953\"],[0.7777777777777778,\"#fb9f3a\"],[0.8888888888888888,\"#fdca26\"],[1.0,\"#f0f921\"]]}],\"heatmap\":[{\"type\":\"heatmap\",\"colorbar\":{\"outlinewidth\":0,\"ticks\":\"\"},\"colorscale\":[[0.0,\"#0d0887\"],[0.1111111111111111,\"#46039f\"],[0.2222222222222222,\"#7201a8\"],[0.3333333333333333,\"#9c179e\"],[0.4444444444444444,\"#bd3786\"],[0.5555555555555556,\"#d8576b\"],[0.6666666666666666,\"#ed7953\"],[0.7777777777777778,\"#fb9f3a\"],[0.8888888888888888,\"#fdca26\"],[1.0,\"#f0f921\"]]}],\"heatmapgl\":[{\"type\":\"heatmapgl\",\"colorbar\":{\"outlinewidth\":0,\"ticks\":\"\"},\"colorscale\":[[0.0,\"#0d0887\"],[0.1111111111111111,\"#46039f\"],[0.2222222222222222,\"#7201a8\"],[0.3333333333333333,\"#9c179e\"],[0.4444444444444444,\"#bd3786\"],[0.5555555555555556,\"#d8576b\"],[0.6666666666666666,\"#ed7953\"],[0.7777777777777778,\"#fb9f3a\"],[0.8888888888888888,\"#fdca26\"],[1.0,\"#f0f921\"]]}],\"contourcarpet\":[{\"type\":\"contourcarpet\",\"colorbar\":{\"outlinewidth\":0,\"ticks\":\"\"}}],\"contour\":[{\"type\":\"contour\",\"colorbar\":{\"outlinewidth\":0,\"ticks\":\"\"},\"colorscale\":[[0.0,\"#0d0887\"],[0.1111111111111111,\"#46039f\"],[0.2222222222222222,\"#7201a8\"],[0.3333333333333333,\"#9c179e\"],[0.4444444444444444,\"#bd3786\"],[0.5555555555555556,\"#d8576b\"],[0.6666666666666666,\"#ed7953\"],[0.7777777777777778,\"#fb9f3a\"],[0.8888888888888888,\"#fdca26\"],[1.0,\"#f0f921\"]]}],\"surface\":[{\"type\":\"surface\",\"colorbar\":{\"outlinewidth\":0,\"ticks\":\"\"},\"colorscale\":[[0.0,\"#0d0887\"],[0.1111111111111111,\"#46039f\"],[0.2222222222222222,\"#7201a8\"],[0.3333333333333333,\"#9c179e\"],[0.4444444444444444,\"#bd3786\"],[0.5555555555555556,\"#d8576b\"],[0.6666666666666666,\"#ed7953\"],[0.7777777777777778,\"#fb9f3a\"],[0.8888888888888888,\"#fdca26\"],[1.0,\"#f0f921\"]]}],\"mesh3d\":[{\"type\":\"mesh3d\",\"colorbar\":{\"outlinewidth\":0,\"ticks\":\"\"}}],\"scatter\":[{\"fillpattern\":{\"fillmode\":\"overlay\",\"size\":10,\"solidity\":0.2},\"type\":\"scatter\"}],\"parcoords\":[{\"type\":\"parcoords\",\"line\":{\"colorbar\":{\"outlinewidth\":0,\"ticks\":\"\"}}}],\"scatterpolargl\":[{\"type\":\"scatterpolargl\",\"marker\":{\"colorbar\":{\"outlinewidth\":0,\"ticks\":\"\"}}}],\"bar\":[{\"error_x\":{\"color\":\"#2a3f5f\"},\"error_y\":{\"color\":\"#2a3f5f\"},\"marker\":{\"line\":{\"color\":\"#E5ECF6\",\"width\":0.5},\"pattern\":{\"fillmode\":\"overlay\",\"size\":10,\"solidity\":0.2}},\"type\":\"bar\"}],\"scattergeo\":[{\"type\":\"scattergeo\",\"marker\":{\"colorbar\":{\"outlinewidth\":0,\"ticks\":\"\"}}}],\"scatterpolar\":[{\"type\":\"scatterpolar\",\"marker\":{\"colorbar\":{\"outlinewidth\":0,\"ticks\":\"\"}}}],\"histogram\":[{\"marker\":{\"pattern\":{\"fillmode\":\"overlay\",\"size\":10,\"solidity\":0.2}},\"type\":\"histogram\"}],\"scattergl\":[{\"type\":\"scattergl\",\"marker\":{\"colorbar\":{\"outlinewidth\":0,\"ticks\":\"\"}}}],\"scatter3d\":[{\"type\":\"scatter3d\",\"line\":{\"colorbar\":{\"outlinewidth\":0,\"ticks\":\"\"}},\"marker\":{\"colorbar\":{\"outlinewidth\":0,\"ticks\":\"\"}}}],\"scattermapbox\":[{\"type\":\"scattermapbox\",\"marker\":{\"colorbar\":{\"outlinewidth\":0,\"ticks\":\"\"}}}],\"scatterternary\":[{\"type\":\"scatterternary\",\"marker\":{\"colorbar\":{\"outlinewidth\":0,\"ticks\":\"\"}}}],\"scattercarpet\":[{\"type\":\"scattercarpet\",\"marker\":{\"colorbar\":{\"outlinewidth\":0,\"ticks\":\"\"}}}],\"carpet\":[{\"aaxis\":{\"endlinecolor\":\"#2a3f5f\",\"gridcolor\":\"white\",\"linecolor\":\"white\",\"minorgridcolor\":\"white\",\"startlinecolor\":\"#2a3f5f\"},\"baxis\":{\"endlinecolor\":\"#2a3f5f\",\"gridcolor\":\"white\",\"linecolor\":\"white\",\"minorgridcolor\":\"white\",\"startlinecolor\":\"#2a3f5f\"},\"type\":\"carpet\"}],\"table\":[{\"cells\":{\"fill\":{\"color\":\"#EBF0F8\"},\"line\":{\"color\":\"white\"}},\"header\":{\"fill\":{\"color\":\"#C8D4E3\"},\"line\":{\"color\":\"white\"}},\"type\":\"table\"}],\"barpolar\":[{\"marker\":{\"line\":{\"color\":\"#E5ECF6\",\"width\":0.5},\"pattern\":{\"fillmode\":\"overlay\",\"size\":10,\"solidity\":0.2}},\"type\":\"barpolar\"}],\"pie\":[{\"automargin\":true,\"type\":\"pie\"}]},\"layout\":{\"autotypenumbers\":\"strict\",\"colorway\":[\"#636efa\",\"#EF553B\",\"#00cc96\",\"#ab63fa\",\"#FFA15A\",\"#19d3f3\",\"#FF6692\",\"#B6E880\",\"#FF97FF\",\"#FECB52\"],\"font\":{\"color\":\"#2a3f5f\"},\"hovermode\":\"closest\",\"hoverlabel\":{\"align\":\"left\"},\"paper_bgcolor\":\"white\",\"plot_bgcolor\":\"#E5ECF6\",\"polar\":{\"bgcolor\":\"#E5ECF6\",\"angularaxis\":{\"gridcolor\":\"white\",\"linecolor\":\"white\",\"ticks\":\"\"},\"radialaxis\":{\"gridcolor\":\"white\",\"linecolor\":\"white\",\"ticks\":\"\"}},\"ternary\":{\"bgcolor\":\"#E5ECF6\",\"aaxis\":{\"gridcolor\":\"white\",\"linecolor\":\"white\",\"ticks\":\"\"},\"baxis\":{\"gridcolor\":\"white\",\"linecolor\":\"white\",\"ticks\":\"\"},\"caxis\":{\"gridcolor\":\"white\",\"linecolor\":\"white\",\"ticks\":\"\"}},\"coloraxis\":{\"colorbar\":{\"outlinewidth\":0,\"ticks\":\"\"}},\"colorscale\":{\"sequential\":[[0.0,\"#0d0887\"],[0.1111111111111111,\"#46039f\"],[0.2222222222222222,\"#7201a8\"],[0.3333333333333333,\"#9c179e\"],[0.4444444444444444,\"#bd3786\"],[0.5555555555555556,\"#d8576b\"],[0.6666666666666666,\"#ed7953\"],[0.7777777777777778,\"#fb9f3a\"],[0.8888888888888888,\"#fdca26\"],[1.0,\"#f0f921\"]],\"sequentialminus\":[[0.0,\"#0d0887\"],[0.1111111111111111,\"#46039f\"],[0.2222222222222222,\"#7201a8\"],[0.3333333333333333,\"#9c179e\"],[0.4444444444444444,\"#bd3786\"],[0.5555555555555556,\"#d8576b\"],[0.6666666666666666,\"#ed7953\"],[0.7777777777777778,\"#fb9f3a\"],[0.8888888888888888,\"#fdca26\"],[1.0,\"#f0f921\"]],\"diverging\":[[0,\"#8e0152\"],[0.1,\"#c51b7d\"],[0.2,\"#de77ae\"],[0.3,\"#f1b6da\"],[0.4,\"#fde0ef\"],[0.5,\"#f7f7f7\"],[0.6,\"#e6f5d0\"],[0.7,\"#b8e186\"],[0.8,\"#7fbc41\"],[0.9,\"#4d9221\"],[1,\"#276419\"]]},\"xaxis\":{\"gridcolor\":\"white\",\"linecolor\":\"white\",\"ticks\":\"\",\"title\":{\"standoff\":15},\"zerolinecolor\":\"white\",\"automargin\":true,\"zerolinewidth\":2},\"yaxis\":{\"gridcolor\":\"white\",\"linecolor\":\"white\",\"ticks\":\"\",\"title\":{\"standoff\":15},\"zerolinecolor\":\"white\",\"automargin\":true,\"zerolinewidth\":2},\"scene\":{\"xaxis\":{\"backgroundcolor\":\"#E5ECF6\",\"gridcolor\":\"white\",\"linecolor\":\"white\",\"showbackground\":true,\"ticks\":\"\",\"zerolinecolor\":\"white\",\"gridwidth\":2},\"yaxis\":{\"backgroundcolor\":\"#E5ECF6\",\"gridcolor\":\"white\",\"linecolor\":\"white\",\"showbackground\":true,\"ticks\":\"\",\"zerolinecolor\":\"white\",\"gridwidth\":2},\"zaxis\":{\"backgroundcolor\":\"#E5ECF6\",\"gridcolor\":\"white\",\"linecolor\":\"white\",\"showbackground\":true,\"ticks\":\"\",\"zerolinecolor\":\"white\",\"gridwidth\":2}},\"shapedefaults\":{\"line\":{\"color\":\"#2a3f5f\"}},\"annotationdefaults\":{\"arrowcolor\":\"#2a3f5f\",\"arrowhead\":0,\"arrowwidth\":1},\"geo\":{\"bgcolor\":\"white\",\"landcolor\":\"#E5ECF6\",\"subunitcolor\":\"white\",\"showland\":true,\"showlakes\":true,\"lakecolor\":\"white\"},\"title\":{\"x\":0.05},\"mapbox\":{\"style\":\"light\"}}},\"xaxis\":{\"anchor\":\"y\",\"domain\":[0.0,1.0],\"title\":{\"text\":\"Annual Income\"}},\"yaxis\":{\"anchor\":\"x\",\"domain\":[0.0,1.0],\"title\":{\"text\":\"Purchase History\"}},\"legend\":{\"title\":{\"text\":\"Gender\"},\"tracegroupgap\":0},\"title\":{\"text\":\"Annual Income vs Purchase History\"},\"width\":2500},                        {\"responsive\": true}                    ).then(function(){\n",
              "                            \n",
              "var gd = document.getElementById('2dfcebfd-2463-48da-833c-47b93fa8cf06');\n",
              "var x = new MutationObserver(function (mutations, observer) {{\n",
              "        var display = window.getComputedStyle(gd).display;\n",
              "        if (!display || display === 'none') {{\n",
              "            console.log([gd, 'removed!']);\n",
              "            Plotly.purge(gd);\n",
              "            observer.disconnect();\n",
              "        }}\n",
              "}});\n",
              "\n",
              "// Listen for the removal of the full notebook cells\n",
              "var notebookContainer = gd.closest('#notebook-container');\n",
              "if (notebookContainer) {{\n",
              "    x.observe(notebookContainer, {childList: true});\n",
              "}}\n",
              "\n",
              "// Listen for the clearing of the current output cell\n",
              "var outputEl = gd.closest('.output');\n",
              "if (outputEl) {{\n",
              "    x.observe(outputEl, {childList: true});\n",
              "}}\n",
              "\n",
              "                        })                };                            </script>        </div>\n",
              "</body>\n",
              "</html>"
            ]
          },
          "metadata": {}
        }
      ]
    },
    {
      "cell_type": "markdown",
      "source": [
        "**How long do customers stay on the site relative to their purchase history?**"
      ],
      "metadata": {
        "id": "F20nJSKwdNDJ"
      }
    },
    {
      "cell_type": "code",
      "source": [
        "fig = px.scatter(df_no_outliers, x='Time on Site', y='Purchase History', color='Annual Income',\n",
        "                 title='Time on Site vs Purchase History', width=2500)\n",
        "fig.show()"
      ],
      "metadata": {
        "execution": {
          "iopub.status.busy": "2024-10-03T09:17:46.270753Z",
          "iopub.execute_input": "2024-10-03T09:17:46.271209Z",
          "iopub.status.idle": "2024-10-03T09:17:46.352494Z",
          "shell.execute_reply.started": "2024-10-03T09:17:46.271159Z",
          "shell.execute_reply": "2024-10-03T09:17:46.351303Z"
        },
        "trusted": true,
        "colab": {
          "base_uri": "https://localhost:8080/",
          "height": 562
        },
        "id": "u2j1O7D4dNDJ",
        "outputId": "c7b8ae34-d7ad-49ad-92f7-18520c43234c"
      },
      "execution_count": 22,
      "outputs": [
        {
          "output_type": "display_data",
          "data": {
            "text/html": [
              "<html>\n",
              "<head><meta charset=\"utf-8\" /></head>\n",
              "<body>\n",
              "    <div>            <script src=\"https://cdnjs.cloudflare.com/ajax/libs/mathjax/2.7.5/MathJax.js?config=TeX-AMS-MML_SVG\"></script><script type=\"text/javascript\">if (window.MathJax && window.MathJax.Hub && window.MathJax.Hub.Config) {window.MathJax.Hub.Config({SVG: {font: \"STIX-Web\"}});}</script>                <script type=\"text/javascript\">window.PlotlyConfig = {MathJaxConfig: 'local'};</script>\n",
              "        <script charset=\"utf-8\" src=\"https://cdn.plot.ly/plotly-2.35.2.min.js\"></script>                <div id=\"1d6a0128-0bc3-4ca0-803f-b74159cb33ec\" class=\"plotly-graph-div\" style=\"height:525px; width:2500px;\"></div>            <script type=\"text/javascript\">                                    window.PLOTLYENV=window.PLOTLYENV || {};                                    if (document.getElementById(\"1d6a0128-0bc3-4ca0-803f-b74159cb33ec\")) {                    Plotly.newPlot(                        \"1d6a0128-0bc3-4ca0-803f-b74159cb33ec\",                        [{\"hovertemplate\":\"Time on Site=%{x}\\u003cbr\\u003ePurchase History=%{y}\\u003cbr\\u003eAnnual Income=%{marker.color}\\u003cextra\\u003e\\u003c\\u002fextra\\u003e\",\"legendgroup\":\"\",\"marker\":{\"color\":[45000,52000,65000,70000,45000,90000,60000,75000,85000,55000,80000,40000,75000,50000,80000,45000,90000,65000,70000,85000,55000,75000,40000,95000,45000,50000,80000,60000,70000,45000,90000,65000,85000,40000,75000,55000,95000,68000,65000,60000,75000,55000,65000,80000,50000,100000,45000,55000,87000,42000],\"coloraxis\":\"coloraxis\",\"symbol\":\"circle\"},\"mode\":\"markers\",\"name\":\"\",\"orientation\":\"h\",\"showlegend\":false,\"x\":[32.5,123.45,125.6,327.6,214.9,486.3,378.5,289.8,456.2,334.9,298.6,312.5,120.0,75.0,200.0,150.0,300.0,250.0,180.0,280.0,220.0,200.0,160.0,240.0,120.5,120.0,300.0,250.0,350.0,200.0,400.0,300.0,450.0,250.0,350.0,200.0,300.0,250.0,72.3,123.6,246.9,75.2,120.5,250.0,75.0,300.0,100.0,120.0,350.0,200.0],\"xaxis\":\"x\",\"y\":[\"[{\\\"Date\\\": \\\"2022-03-05\\\", \\\"Category\\\": \\\"Clothing\\\", \\\"Price\\\": 34.99}, {\\\"Date\\\": \\\"2022-02-12\\\", \\\"Category\\\": \\\"Electronics\\\", \\\"Price\\\": 129.99}, {\\\"Date\\\": \\\"2022-01-20\\\", \\\"Category\\\": \\\"Home & Garden\\\", \\\"Price\\\": 29.99}]\",\"[{\\\"Product Category\\\": \\\"Clothing\\\", \\\"Purchase Date\\\": \\\"2022-05-15\\\", \\\"Price\\\": 34.56}, {\\\"Product Category\\\": \\\"Electronics\\\", \\\"Purchase Date\\\": \\\"2022-06-02\\\", \\\"Price\\\": 150.99}]\",\"[{\\\"Product Category\\\": \\\"Electronics\\\", \\\"Purchase Date\\\": \\\"2022-08-15\\\", \\\"Price\\\": 345.5}, {\\\"Product Category\\\": \\\"Home & Garden\\\", \\\"Purchase Date\\\": \\\"2022-07-02\\\", \\\"Price\\\": 279.99}]\",\"{'Purchase Date': '2022-08-15', 'Product Category': 'Electronics', 'Price': 200.5},{'Purchase Date': '2022-07-22', 'Product Category': 'Clothing', 'Price': 125.6},{'Purchase Date': '2022-06-01', 'Product Category': 'Home & Garden', 'Price': 300.8},{'Purchase Date': '2022-05-10', 'Product Category': 'Electronics', 'Price': 150.9}\",\"{'Purchase Date': '2022-07-25', 'Product Category': 'Clothing', 'Price': 67.2},{'Purchase Date': '2022-06-08', 'Product Category': 'Home & Garden', 'Price': 250.1},{'Purchase Date': '2022-05-15', 'Product Category': 'Electronics', 'Price': 400.7}\",\"{'Purchase Date': '2022-09-01', 'Product Category': 'Electronics', 'Price': 300.2},{'Purchase Date': '2022-08-12', 'Product Category': 'Clothing', 'Price': 185.3},{'Purchase Date': '2022-07-28', 'Product Category': 'Home & Garden', 'Price': 200.9}\",\"{'Purchase Date': '2022-07-20', 'Product Category': 'Electronics', 'Price': 150.8},{'Purchase Date': '2022-06-05', 'Product Category': 'Clothing', 'Price': 120.6},{'Purchase Date': '2022-05-18', 'Product Category': 'Home & Garden', 'Price': 350.1}\",\"{'Purchase Date': '2022-08-28', 'Product Category': 'Electronics', 'Price': 250.6},{'Purchase Date': '2022-07-15', 'Product Category': 'Clothing', 'Price': 115.7},{'Purchase Date': '2022-06-03', 'Product Category': 'Home & Garden', 'Price': 300.4}\",\"{'Purchase Date': '2022-09-05', 'Product Category': 'Electronics', 'Price': 400.9},{'Purchase Date': '2022-08-18', 'Product Category': 'Clothing', 'Price': 195.3},{'Purchase Date': '2022-07-03', 'Product Category': 'Home & Garden', 'Price': 220.7}\",\"{'Purchase Date': '2022-07-27', 'Product Category': 'Electronics', 'Price': 120.5},{'Purchase Date': '2022-06-12', 'Product Category': 'Clothing', 'Price': 130.6},{'Purchase Date': '2022-05-28', 'Product Category': 'Home & Garden', 'Price': 320.8}\",\"{'Purchase Date': '2022-09-08', 'Product Category': 'Electronics', 'Price': 350.2},{'Purchase Date': '2022-08-23', 'Product Category': 'Clothing', 'Price': 165.3},{'Purchase Date': '2022-07-07', 'Product Category': 'Home & Garden', 'Price': 280.9}\",\"{'Purchase Date': '2022-08-25', 'Product Category': 'Electronics', 'Price': 170.8},{'Purchase Date': '2022-07-09', 'Product Category': 'Clothing', 'Price': 105.6},{'Purchase Date': '2022-06-24', 'Product Category': 'Home & Garden', 'Price': 290.1}\",\"{'Purchase Date': '2022-03-05', 'Product Category': 'Clothing', 'Price': 45.99},{'Purchase Date': '2022-04-12', 'Product Category': 'Home & Garden', 'Price': 120.5}\",\"{'Purchase Date': '2022-02-15', 'Product Category': 'Electronics', 'Price': 250},{'Purchase Date': '2022-05-10', 'Product Category': 'Clothing', 'Price': 34.99}\",\"{'Purchase Date': '2022-01-18', 'Product Category': 'Home & Garden', 'Price': 180},{'Purchase Date': '2022-06-02', 'Product Category': 'Electronics', 'Price': 400}\",\"{'Purchase Date': '2022-04-25', 'Product Category': 'Clothing', 'Price': 29.99},{'Purchase Date': '2022-07-07', 'Product Category': 'Home & Garden', 'Price': 150}\",\"{'Purchase Date': '2022-05-20', 'Product Category': 'Electronics', 'Price': 600},{'Purchase Date': '2022-08-03', 'Product Category': 'Clothing', 'Price': 59.99}\",\"{'Purchase Date': '2022-06-15', 'Product Category': 'Home & Garden', 'Price': 220},{'Purchase Date': '2022-09-01', 'Product Category': 'Electronics', 'Price': 300}\",\"{'Purchase Date': '2022-07-22', 'Product Category': 'Clothing', 'Price': 39.99},{'Purchase Date': '2022-10-06', 'Product Category': 'Home & Garden', 'Price': 190}\",\"{'Purchase Date': '2022-08-08', 'Product Category': 'Electronics', 'Price': 550},{'Purchase Date': '2022-11-01', 'Product Category': 'Clothing', 'Price': 44.99}\",\"{'Purchase Date': '2022-09-20', 'Product Category': 'Home & Garden', 'Price': 200},{'Purchase Date': '2022-12-05', 'Product Category': 'Electronics', 'Price': 350}\",\"{'Purchase Date': '2022-10-15', 'Product Category': 'Clothing', 'Price': 34.99},{'Purchase Date': '2022-12-20', 'Product Category': 'Home & Garden', 'Price': 250}\",\"{'Purchase Date': '2022-11-05', 'Product Category': 'Electronics', 'Price': 150},{'Purchase Date': '2023-01-10', 'Product Category': 'Clothing', 'Price': 29.99}\",\"{'Purchase Date': '2022-12-25', 'Product Category': 'Home & Garden', 'Price': 170},{'Purchase Date': '2023-02-05', 'Product Category': 'Electronics', 'Price': 450}\",\"[{\\\"Purchase Date\\\": \\\"2022-09-15\\\", \\\"Product Category\\\": \\\"Clothing\\\", \\\"Price\\\": 34.5}]\",\"{'Purchase Date': '2022-05-15', 'Product Category': 'Clothing', 'Price': 120},{'Purchase Date': '2022-06-02', 'Product Category': 'Home & Garden', 'Price': 250}\",\"{'Purchase Date': '2022-06-12', 'Product Category': 'Electronics', 'Price': 350}\",\"{'Purchase Date': '2022-05-28', 'Product Category': 'Clothing', 'Price': 75},{'Purchase Date': '2022-06-10', 'Product Category': 'Home & Garden', 'Price': 120}\",\"{'Purchase Date': '2022-05-08', 'Product Category': 'Electronics', 'Price': 200},{'Purchase Date': '2022-06-05', 'Product Category': 'Home & Garden', 'Price': 150}\",\"{'Purchase Date': '2022-05-18', 'Product Category': 'Clothing', 'Price': 50},{'Purchase Date': '2022-06-07', 'Product Category': 'Home & Garden', 'Price': 100}\",\"{'Purchase Date': '2022-05-23', 'Product Category': 'Electronics', 'Price': 400},{'Purchase Date': '2022-06-03', 'Product Category': 'Home & Garden', 'Price': 200}\",\"{'Purchase Date': '2022-05-25', 'Product Category': 'Clothing', 'Price': 100},{'Purchase Date': '2022-06-08', 'Product Category': 'Home & Garden', 'Price': 180}\",\"{'Purchase Date': '2022-05-20', 'Product Category': 'Electronics', 'Price': 300},{'Purchase Date': '2022-06-04', 'Product Category': 'Home & Garden', 'Price': 250}\",\"{'Purchase Date': '2022-05-16', 'Product Category': 'Clothing', 'Price': 60},{'Purchase Date': '2022-06-06', 'Product Category': 'Home & Garden', 'Price': 150}\",\"{'Purchase Date': '2022-05-12', 'Product Category': 'Electronics', 'Price': 250},{'Purchase Date': '2022-06-01', 'Product Category': 'Home & Garden', 'Price': 175}\",\"{'Purchase Date': '2022-05-27', 'Product Category': 'Clothing', 'Price': 80},{'Purchase Date': '2022-06-09', 'Product Category': 'Home & Garden', 'Price': 200}\",\"{'Purchase Date': '2022-05-22', 'Product Category': 'Electronics', 'Price': 350},{'Purchase Date': '2022-06-02', 'Product Category': 'Home & Garden', 'Price': 100}\",\"{'Purchase Date': '2022-05-19', 'Product Category': 'Clothing', 'Price': 120},{'Purchase Date': '2022-06-07', 'Product Category': 'Home & Garden', 'Price': 150}\",\"[{\\\"Product Category\\\": \\\"Clothing\\\", \\\"Purchase Date\\\": \\\"2022-08-15\\\", \\\"Price\\\": 45.23}, {\\\"Product Category\\\": \\\"Electronics\\\", \\\"Purchase Date\\\": \\\"2022-07-20\\\", \\\"Price\\\": 250.34}]\",\"[{\\\"Product Category\\\": \\\"Electronics\\\", \\\"Purchase Date\\\": \\\"2022-03-15\\\", \\\"Price\\\": 250.5}, {\\\"Product Category\\\": \\\"Clothing\\\", \\\"Purchase Date\\\": \\\"2022-02-01\\\", \\\"Price\\\": 125.8}]\",\"[{\\\"Product Category\\\": \\\"Clothing\\\", \\\"Purchase Date\\\": \\\"2022-02-20\\\", \\\"Price\\\": 150.2}, {\\\"Product Category\\\": \\\"Home & Garden\\\", \\\"Purchase Date\\\": \\\"2022-01-12\\\", \\\"Price\\\": 450}]\",\"[{\\\"Product Category\\\": \\\"Electronics\\\", \\\"Purchase Date\\\": \\\"2022-03-15\\\", \\\"Price\\\": 249.99}]\",\"[{\\\"Product Category\\\": \\\"Clothing\\\", \\\"Purchase Date\\\": \\\"2022-06-12\\\", \\\"Price\\\": 45.99}, {\\\"Product Category\\\": \\\"Electronics\\\", \\\"Purchase Date\\\": \\\"2022-05-08\\\", \\\"Price\\\": 199.99}]\",\"[{\\\"Product Category\\\": \\\"Electronics\\\", \\\"Purchase Date\\\": \\\"2022-07-03\\\", \\\"Price\\\": 249.99}, {\\\"Product Category\\\": \\\"Home & Garden\\\", \\\"Purchase Date\\\": \\\"2022-06-17\\\", \\\"Price\\\": 129.99}]\",\"[{\\\"Product Category\\\": \\\"Clothing\\\", \\\"Purchase Date\\\": \\\"2022-06-22\\\", \\\"Price\\\": 34.99}, {\\\"Product Category\\\": \\\"Electronics\\\", \\\"Purchase Date\\\": \\\"2022-05-15\\\", \\\"Price\\\": 149.99}]\",\"[{\\\"Product Category\\\": \\\"Clothing\\\", \\\"Purchase Date\\\": \\\"2022-07-08\\\", \\\"Price\\\": 79.99}, {\\\"Product Category\\\": \\\"Home & Garden\\\", \\\"Purchase Date\\\": \\\"2022-06-24\\\", \\\"Price\\\": 399.99}]\",\"[{\\\"Product Category\\\": \\\"Electronics\\\", \\\"Purchase Date\\\": \\\"2022-06-01\\\", \\\"Price\\\": 129.99}, {\\\"Product Category\\\": \\\"Home & Garden\\\", \\\"Purchase Date\\\": \\\"2022-05-18\\\", \\\"Price\\\": 59.99}]\",\"[{\\\"Purchase Date\\\": \\\"2022-07-02\\\",\\\"Product Category\\\": \\\"Clothing\\\",\\\"Price\\\": 25.6},{\\\"Purchase Date\\\": \\\"2022-06-15\\\",\\\"Product Category\\\": \\\"Electronics\\\",\\\"Price\\\": 120},{\\\"Purchase Date\\\": \\\"2022-05-10\\\",\\\"Product Category\\\": \\\"Home & Garden\\\",\\\"Price\\\": 35}]\",\"[{\\\"Purchase Date\\\": \\\"2022-07-08\\\",\\\"Product Category\\\": \\\"Electronics\\\",\\\"Price\\\": 420},{\\\"Purchase Date\\\": \\\"2022-06-23\\\",\\\"Product Category\\\": \\\"Clothing\\\",\\\"Price\\\": 75},{\\\"Purchase Date\\\": \\\"2022-05-12\\\",\\\"Product Category\\\": \\\"Home & Garden\\\",\\\"Price\\\": 200}]\",\"[{\\\"Purchase Date\\\": \\\"2022-07-01\\\",\\\"Product Category\\\": \\\"Electronics\\\",\\\"Price\\\": 180},{\\\"Purchase Date\\\": \\\"2022-06-18\\\",\\\"Product Category\\\": \\\"Clothing\\\",\\\"Price\\\": 50},{\\\"Purchase Date\\\": \\\"2022-05-09\\\",\\\"Product Category\\\": \\\"Home & Garden\\\",\\\"Price\\\": 30}]\"],\"yaxis\":\"y\",\"type\":\"scatter\"}],                        {\"template\":{\"data\":{\"histogram2dcontour\":[{\"type\":\"histogram2dcontour\",\"colorbar\":{\"outlinewidth\":0,\"ticks\":\"\"},\"colorscale\":[[0.0,\"#0d0887\"],[0.1111111111111111,\"#46039f\"],[0.2222222222222222,\"#7201a8\"],[0.3333333333333333,\"#9c179e\"],[0.4444444444444444,\"#bd3786\"],[0.5555555555555556,\"#d8576b\"],[0.6666666666666666,\"#ed7953\"],[0.7777777777777778,\"#fb9f3a\"],[0.8888888888888888,\"#fdca26\"],[1.0,\"#f0f921\"]]}],\"choropleth\":[{\"type\":\"choropleth\",\"colorbar\":{\"outlinewidth\":0,\"ticks\":\"\"}}],\"histogram2d\":[{\"type\":\"histogram2d\",\"colorbar\":{\"outlinewidth\":0,\"ticks\":\"\"},\"colorscale\":[[0.0,\"#0d0887\"],[0.1111111111111111,\"#46039f\"],[0.2222222222222222,\"#7201a8\"],[0.3333333333333333,\"#9c179e\"],[0.4444444444444444,\"#bd3786\"],[0.5555555555555556,\"#d8576b\"],[0.6666666666666666,\"#ed7953\"],[0.7777777777777778,\"#fb9f3a\"],[0.8888888888888888,\"#fdca26\"],[1.0,\"#f0f921\"]]}],\"heatmap\":[{\"type\":\"heatmap\",\"colorbar\":{\"outlinewidth\":0,\"ticks\":\"\"},\"colorscale\":[[0.0,\"#0d0887\"],[0.1111111111111111,\"#46039f\"],[0.2222222222222222,\"#7201a8\"],[0.3333333333333333,\"#9c179e\"],[0.4444444444444444,\"#bd3786\"],[0.5555555555555556,\"#d8576b\"],[0.6666666666666666,\"#ed7953\"],[0.7777777777777778,\"#fb9f3a\"],[0.8888888888888888,\"#fdca26\"],[1.0,\"#f0f921\"]]}],\"heatmapgl\":[{\"type\":\"heatmapgl\",\"colorbar\":{\"outlinewidth\":0,\"ticks\":\"\"},\"colorscale\":[[0.0,\"#0d0887\"],[0.1111111111111111,\"#46039f\"],[0.2222222222222222,\"#7201a8\"],[0.3333333333333333,\"#9c179e\"],[0.4444444444444444,\"#bd3786\"],[0.5555555555555556,\"#d8576b\"],[0.6666666666666666,\"#ed7953\"],[0.7777777777777778,\"#fb9f3a\"],[0.8888888888888888,\"#fdca26\"],[1.0,\"#f0f921\"]]}],\"contourcarpet\":[{\"type\":\"contourcarpet\",\"colorbar\":{\"outlinewidth\":0,\"ticks\":\"\"}}],\"contour\":[{\"type\":\"contour\",\"colorbar\":{\"outlinewidth\":0,\"ticks\":\"\"},\"colorscale\":[[0.0,\"#0d0887\"],[0.1111111111111111,\"#46039f\"],[0.2222222222222222,\"#7201a8\"],[0.3333333333333333,\"#9c179e\"],[0.4444444444444444,\"#bd3786\"],[0.5555555555555556,\"#d8576b\"],[0.6666666666666666,\"#ed7953\"],[0.7777777777777778,\"#fb9f3a\"],[0.8888888888888888,\"#fdca26\"],[1.0,\"#f0f921\"]]}],\"surface\":[{\"type\":\"surface\",\"colorbar\":{\"outlinewidth\":0,\"ticks\":\"\"},\"colorscale\":[[0.0,\"#0d0887\"],[0.1111111111111111,\"#46039f\"],[0.2222222222222222,\"#7201a8\"],[0.3333333333333333,\"#9c179e\"],[0.4444444444444444,\"#bd3786\"],[0.5555555555555556,\"#d8576b\"],[0.6666666666666666,\"#ed7953\"],[0.7777777777777778,\"#fb9f3a\"],[0.8888888888888888,\"#fdca26\"],[1.0,\"#f0f921\"]]}],\"mesh3d\":[{\"type\":\"mesh3d\",\"colorbar\":{\"outlinewidth\":0,\"ticks\":\"\"}}],\"scatter\":[{\"fillpattern\":{\"fillmode\":\"overlay\",\"size\":10,\"solidity\":0.2},\"type\":\"scatter\"}],\"parcoords\":[{\"type\":\"parcoords\",\"line\":{\"colorbar\":{\"outlinewidth\":0,\"ticks\":\"\"}}}],\"scatterpolargl\":[{\"type\":\"scatterpolargl\",\"marker\":{\"colorbar\":{\"outlinewidth\":0,\"ticks\":\"\"}}}],\"bar\":[{\"error_x\":{\"color\":\"#2a3f5f\"},\"error_y\":{\"color\":\"#2a3f5f\"},\"marker\":{\"line\":{\"color\":\"#E5ECF6\",\"width\":0.5},\"pattern\":{\"fillmode\":\"overlay\",\"size\":10,\"solidity\":0.2}},\"type\":\"bar\"}],\"scattergeo\":[{\"type\":\"scattergeo\",\"marker\":{\"colorbar\":{\"outlinewidth\":0,\"ticks\":\"\"}}}],\"scatterpolar\":[{\"type\":\"scatterpolar\",\"marker\":{\"colorbar\":{\"outlinewidth\":0,\"ticks\":\"\"}}}],\"histogram\":[{\"marker\":{\"pattern\":{\"fillmode\":\"overlay\",\"size\":10,\"solidity\":0.2}},\"type\":\"histogram\"}],\"scattergl\":[{\"type\":\"scattergl\",\"marker\":{\"colorbar\":{\"outlinewidth\":0,\"ticks\":\"\"}}}],\"scatter3d\":[{\"type\":\"scatter3d\",\"line\":{\"colorbar\":{\"outlinewidth\":0,\"ticks\":\"\"}},\"marker\":{\"colorbar\":{\"outlinewidth\":0,\"ticks\":\"\"}}}],\"scattermapbox\":[{\"type\":\"scattermapbox\",\"marker\":{\"colorbar\":{\"outlinewidth\":0,\"ticks\":\"\"}}}],\"scatterternary\":[{\"type\":\"scatterternary\",\"marker\":{\"colorbar\":{\"outlinewidth\":0,\"ticks\":\"\"}}}],\"scattercarpet\":[{\"type\":\"scattercarpet\",\"marker\":{\"colorbar\":{\"outlinewidth\":0,\"ticks\":\"\"}}}],\"carpet\":[{\"aaxis\":{\"endlinecolor\":\"#2a3f5f\",\"gridcolor\":\"white\",\"linecolor\":\"white\",\"minorgridcolor\":\"white\",\"startlinecolor\":\"#2a3f5f\"},\"baxis\":{\"endlinecolor\":\"#2a3f5f\",\"gridcolor\":\"white\",\"linecolor\":\"white\",\"minorgridcolor\":\"white\",\"startlinecolor\":\"#2a3f5f\"},\"type\":\"carpet\"}],\"table\":[{\"cells\":{\"fill\":{\"color\":\"#EBF0F8\"},\"line\":{\"color\":\"white\"}},\"header\":{\"fill\":{\"color\":\"#C8D4E3\"},\"line\":{\"color\":\"white\"}},\"type\":\"table\"}],\"barpolar\":[{\"marker\":{\"line\":{\"color\":\"#E5ECF6\",\"width\":0.5},\"pattern\":{\"fillmode\":\"overlay\",\"size\":10,\"solidity\":0.2}},\"type\":\"barpolar\"}],\"pie\":[{\"automargin\":true,\"type\":\"pie\"}]},\"layout\":{\"autotypenumbers\":\"strict\",\"colorway\":[\"#636efa\",\"#EF553B\",\"#00cc96\",\"#ab63fa\",\"#FFA15A\",\"#19d3f3\",\"#FF6692\",\"#B6E880\",\"#FF97FF\",\"#FECB52\"],\"font\":{\"color\":\"#2a3f5f\"},\"hovermode\":\"closest\",\"hoverlabel\":{\"align\":\"left\"},\"paper_bgcolor\":\"white\",\"plot_bgcolor\":\"#E5ECF6\",\"polar\":{\"bgcolor\":\"#E5ECF6\",\"angularaxis\":{\"gridcolor\":\"white\",\"linecolor\":\"white\",\"ticks\":\"\"},\"radialaxis\":{\"gridcolor\":\"white\",\"linecolor\":\"white\",\"ticks\":\"\"}},\"ternary\":{\"bgcolor\":\"#E5ECF6\",\"aaxis\":{\"gridcolor\":\"white\",\"linecolor\":\"white\",\"ticks\":\"\"},\"baxis\":{\"gridcolor\":\"white\",\"linecolor\":\"white\",\"ticks\":\"\"},\"caxis\":{\"gridcolor\":\"white\",\"linecolor\":\"white\",\"ticks\":\"\"}},\"coloraxis\":{\"colorbar\":{\"outlinewidth\":0,\"ticks\":\"\"}},\"colorscale\":{\"sequential\":[[0.0,\"#0d0887\"],[0.1111111111111111,\"#46039f\"],[0.2222222222222222,\"#7201a8\"],[0.3333333333333333,\"#9c179e\"],[0.4444444444444444,\"#bd3786\"],[0.5555555555555556,\"#d8576b\"],[0.6666666666666666,\"#ed7953\"],[0.7777777777777778,\"#fb9f3a\"],[0.8888888888888888,\"#fdca26\"],[1.0,\"#f0f921\"]],\"sequentialminus\":[[0.0,\"#0d0887\"],[0.1111111111111111,\"#46039f\"],[0.2222222222222222,\"#7201a8\"],[0.3333333333333333,\"#9c179e\"],[0.4444444444444444,\"#bd3786\"],[0.5555555555555556,\"#d8576b\"],[0.6666666666666666,\"#ed7953\"],[0.7777777777777778,\"#fb9f3a\"],[0.8888888888888888,\"#fdca26\"],[1.0,\"#f0f921\"]],\"diverging\":[[0,\"#8e0152\"],[0.1,\"#c51b7d\"],[0.2,\"#de77ae\"],[0.3,\"#f1b6da\"],[0.4,\"#fde0ef\"],[0.5,\"#f7f7f7\"],[0.6,\"#e6f5d0\"],[0.7,\"#b8e186\"],[0.8,\"#7fbc41\"],[0.9,\"#4d9221\"],[1,\"#276419\"]]},\"xaxis\":{\"gridcolor\":\"white\",\"linecolor\":\"white\",\"ticks\":\"\",\"title\":{\"standoff\":15},\"zerolinecolor\":\"white\",\"automargin\":true,\"zerolinewidth\":2},\"yaxis\":{\"gridcolor\":\"white\",\"linecolor\":\"white\",\"ticks\":\"\",\"title\":{\"standoff\":15},\"zerolinecolor\":\"white\",\"automargin\":true,\"zerolinewidth\":2},\"scene\":{\"xaxis\":{\"backgroundcolor\":\"#E5ECF6\",\"gridcolor\":\"white\",\"linecolor\":\"white\",\"showbackground\":true,\"ticks\":\"\",\"zerolinecolor\":\"white\",\"gridwidth\":2},\"yaxis\":{\"backgroundcolor\":\"#E5ECF6\",\"gridcolor\":\"white\",\"linecolor\":\"white\",\"showbackground\":true,\"ticks\":\"\",\"zerolinecolor\":\"white\",\"gridwidth\":2},\"zaxis\":{\"backgroundcolor\":\"#E5ECF6\",\"gridcolor\":\"white\",\"linecolor\":\"white\",\"showbackground\":true,\"ticks\":\"\",\"zerolinecolor\":\"white\",\"gridwidth\":2}},\"shapedefaults\":{\"line\":{\"color\":\"#2a3f5f\"}},\"annotationdefaults\":{\"arrowcolor\":\"#2a3f5f\",\"arrowhead\":0,\"arrowwidth\":1},\"geo\":{\"bgcolor\":\"white\",\"landcolor\":\"#E5ECF6\",\"subunitcolor\":\"white\",\"showland\":true,\"showlakes\":true,\"lakecolor\":\"white\"},\"title\":{\"x\":0.05},\"mapbox\":{\"style\":\"light\"}}},\"xaxis\":{\"anchor\":\"y\",\"domain\":[0.0,1.0],\"title\":{\"text\":\"Time on Site\"}},\"yaxis\":{\"anchor\":\"x\",\"domain\":[0.0,1.0],\"title\":{\"text\":\"Purchase History\"}},\"coloraxis\":{\"colorbar\":{\"title\":{\"text\":\"Annual Income\"}},\"colorscale\":[[0.0,\"#0d0887\"],[0.1111111111111111,\"#46039f\"],[0.2222222222222222,\"#7201a8\"],[0.3333333333333333,\"#9c179e\"],[0.4444444444444444,\"#bd3786\"],[0.5555555555555556,\"#d8576b\"],[0.6666666666666666,\"#ed7953\"],[0.7777777777777778,\"#fb9f3a\"],[0.8888888888888888,\"#fdca26\"],[1.0,\"#f0f921\"]]},\"legend\":{\"tracegroupgap\":0},\"title\":{\"text\":\"Time on Site vs Purchase History\"},\"width\":2500},                        {\"responsive\": true}                    ).then(function(){\n",
              "                            \n",
              "var gd = document.getElementById('1d6a0128-0bc3-4ca0-803f-b74159cb33ec');\n",
              "var x = new MutationObserver(function (mutations, observer) {{\n",
              "        var display = window.getComputedStyle(gd).display;\n",
              "        if (!display || display === 'none') {{\n",
              "            console.log([gd, 'removed!']);\n",
              "            Plotly.purge(gd);\n",
              "            observer.disconnect();\n",
              "        }}\n",
              "}});\n",
              "\n",
              "// Listen for the removal of the full notebook cells\n",
              "var notebookContainer = gd.closest('#notebook-container');\n",
              "if (notebookContainer) {{\n",
              "    x.observe(notebookContainer, {childList: true});\n",
              "}}\n",
              "\n",
              "// Listen for the clearing of the current output cell\n",
              "var outputEl = gd.closest('.output');\n",
              "if (outputEl) {{\n",
              "    x.observe(outputEl, {childList: true});\n",
              "}}\n",
              "\n",
              "                        })                };                            </script>        </div>\n",
              "</body>\n",
              "</html>"
            ]
          },
          "metadata": {}
        }
      ]
    },
    {
      "cell_type": "markdown",
      "source": [
        "**How does purchase behavior differ across customer segments (e.g., based on income or gender)?**"
      ],
      "metadata": {
        "id": "rcogUrtzdNDJ"
      }
    },
    {
      "cell_type": "code",
      "source": [
        "fig = px.histogram(df_no_outliers, x='Purchase History', color='Gender', marginal='rug', title='Purchase History by Gender', height=2500)\n",
        "fig.show()"
      ],
      "metadata": {
        "execution": {
          "iopub.status.busy": "2024-10-03T09:17:46.354169Z",
          "iopub.execute_input": "2024-10-03T09:17:46.354969Z",
          "iopub.status.idle": "2024-10-03T09:17:46.521353Z",
          "shell.execute_reply.started": "2024-10-03T09:17:46.354913Z",
          "shell.execute_reply": "2024-10-03T09:17:46.520048Z"
        },
        "trusted": true,
        "colab": {
          "base_uri": "https://localhost:8080/",
          "height": 1000
        },
        "id": "Bw9Dj22VdNDJ",
        "outputId": "1d3fe0b2-84e6-4424-eaca-d49c48ca9aab"
      },
      "execution_count": 23,
      "outputs": [
        {
          "output_type": "display_data",
          "data": {
            "text/html": [
              "<html>\n",
              "<head><meta charset=\"utf-8\" /></head>\n",
              "<body>\n",
              "    <div>            <script src=\"https://cdnjs.cloudflare.com/ajax/libs/mathjax/2.7.5/MathJax.js?config=TeX-AMS-MML_SVG\"></script><script type=\"text/javascript\">if (window.MathJax && window.MathJax.Hub && window.MathJax.Hub.Config) {window.MathJax.Hub.Config({SVG: {font: \"STIX-Web\"}});}</script>                <script type=\"text/javascript\">window.PlotlyConfig = {MathJaxConfig: 'local'};</script>\n",
              "        <script charset=\"utf-8\" src=\"https://cdn.plot.ly/plotly-2.35.2.min.js\"></script>                <div id=\"ccd827ab-24bb-4ba2-b1b0-08d51fe2f289\" class=\"plotly-graph-div\" style=\"height:2500px; width:100%;\"></div>            <script type=\"text/javascript\">                                    window.PLOTLYENV=window.PLOTLYENV || {};                                    if (document.getElementById(\"ccd827ab-24bb-4ba2-b1b0-08d51fe2f289\")) {                    Plotly.newPlot(                        \"ccd827ab-24bb-4ba2-b1b0-08d51fe2f289\",                        [{\"alignmentgroup\":\"True\",\"bingroup\":\"x\",\"hovertemplate\":\"Gender=Female\\u003cbr\\u003ePurchase History=%{x}\\u003cbr\\u003ecount=%{y}\\u003cextra\\u003e\\u003c\\u002fextra\\u003e\",\"legendgroup\":\"Female\",\"marker\":{\"color\":\"#636efa\",\"pattern\":{\"shape\":\"\"}},\"name\":\"Female\",\"offsetgroup\":\"Female\",\"orientation\":\"v\",\"showlegend\":true,\"x\":[\"[{\\\"Date\\\": \\\"2022-03-05\\\", \\\"Category\\\": \\\"Clothing\\\", \\\"Price\\\": 34.99}, {\\\"Date\\\": \\\"2022-02-12\\\", \\\"Category\\\": \\\"Electronics\\\", \\\"Price\\\": 129.99}, {\\\"Date\\\": \\\"2022-01-20\\\", \\\"Category\\\": \\\"Home & Garden\\\", \\\"Price\\\": 29.99}]\",\"[{\\\"Product Category\\\": \\\"Clothing\\\", \\\"Purchase Date\\\": \\\"2022-05-15\\\", \\\"Price\\\": 34.56}, {\\\"Product Category\\\": \\\"Electronics\\\", \\\"Purchase Date\\\": \\\"2022-06-02\\\", \\\"Price\\\": 150.99}]\",\"[{\\\"Product Category\\\": \\\"Electronics\\\", \\\"Purchase Date\\\": \\\"2022-08-15\\\", \\\"Price\\\": 345.5}, {\\\"Product Category\\\": \\\"Home & Garden\\\", \\\"Purchase Date\\\": \\\"2022-07-02\\\", \\\"Price\\\": 279.99}]\",\"{'Purchase Date': '2022-08-15', 'Product Category': 'Electronics', 'Price': 200.5},{'Purchase Date': '2022-07-22', 'Product Category': 'Clothing', 'Price': 125.6},{'Purchase Date': '2022-06-01', 'Product Category': 'Home & Garden', 'Price': 300.8},{'Purchase Date': '2022-05-10', 'Product Category': 'Electronics', 'Price': 150.9}\",\"{'Purchase Date': '2022-07-20', 'Product Category': 'Electronics', 'Price': 150.8},{'Purchase Date': '2022-06-05', 'Product Category': 'Clothing', 'Price': 120.6},{'Purchase Date': '2022-05-18', 'Product Category': 'Home & Garden', 'Price': 350.1}\",\"{'Purchase Date': '2022-07-27', 'Product Category': 'Electronics', 'Price': 120.5},{'Purchase Date': '2022-06-12', 'Product Category': 'Clothing', 'Price': 130.6},{'Purchase Date': '2022-05-28', 'Product Category': 'Home & Garden', 'Price': 320.8}\",\"{'Purchase Date': '2022-03-05', 'Product Category': 'Clothing', 'Price': 45.99},{'Purchase Date': '2022-04-12', 'Product Category': 'Home & Garden', 'Price': 120.5}\",\"{'Purchase Date': '2022-04-25', 'Product Category': 'Clothing', 'Price': 29.99},{'Purchase Date': '2022-07-07', 'Product Category': 'Home & Garden', 'Price': 150}\",\"{'Purchase Date': '2022-06-15', 'Product Category': 'Home & Garden', 'Price': 220},{'Purchase Date': '2022-09-01', 'Product Category': 'Electronics', 'Price': 300}\",\"{'Purchase Date': '2022-08-08', 'Product Category': 'Electronics', 'Price': 550},{'Purchase Date': '2022-11-01', 'Product Category': 'Clothing', 'Price': 44.99}\",\"{'Purchase Date': '2022-10-15', 'Product Category': 'Clothing', 'Price': 34.99},{'Purchase Date': '2022-12-20', 'Product Category': 'Home & Garden', 'Price': 250}\",\"{'Purchase Date': '2022-12-25', 'Product Category': 'Home & Garden', 'Price': 170},{'Purchase Date': '2023-02-05', 'Product Category': 'Electronics', 'Price': 450}\",\"[{\\\"Purchase Date\\\": \\\"2022-09-15\\\", \\\"Product Category\\\": \\\"Clothing\\\", \\\"Price\\\": 34.5}]\",\"{'Purchase Date': '2022-05-15', 'Product Category': 'Clothing', 'Price': 120},{'Purchase Date': '2022-06-02', 'Product Category': 'Home & Garden', 'Price': 250}\",\"{'Purchase Date': '2022-05-28', 'Product Category': 'Clothing', 'Price': 75},{'Purchase Date': '2022-06-10', 'Product Category': 'Home & Garden', 'Price': 120}\",\"{'Purchase Date': '2022-05-18', 'Product Category': 'Clothing', 'Price': 50},{'Purchase Date': '2022-06-07', 'Product Category': 'Home & Garden', 'Price': 100}\",\"{'Purchase Date': '2022-05-25', 'Product Category': 'Clothing', 'Price': 100},{'Purchase Date': '2022-06-08', 'Product Category': 'Home & Garden', 'Price': 180}\",\"{'Purchase Date': '2022-05-16', 'Product Category': 'Clothing', 'Price': 60},{'Purchase Date': '2022-06-06', 'Product Category': 'Home & Garden', 'Price': 150}\",\"{'Purchase Date': '2022-05-27', 'Product Category': 'Clothing', 'Price': 80},{'Purchase Date': '2022-06-09', 'Product Category': 'Home & Garden', 'Price': 200}\",\"{'Purchase Date': '2022-05-19', 'Product Category': 'Clothing', 'Price': 120},{'Purchase Date': '2022-06-07', 'Product Category': 'Home & Garden', 'Price': 150}\",\"[{\\\"Product Category\\\": \\\"Clothing\\\", \\\"Purchase Date\\\": \\\"2022-08-15\\\", \\\"Price\\\": 45.23}, {\\\"Product Category\\\": \\\"Electronics\\\", \\\"Purchase Date\\\": \\\"2022-07-20\\\", \\\"Price\\\": 250.34}]\",\"[{\\\"Product Category\\\": \\\"Electronics\\\", \\\"Purchase Date\\\": \\\"2022-03-15\\\", \\\"Price\\\": 250.5}, {\\\"Product Category\\\": \\\"Clothing\\\", \\\"Purchase Date\\\": \\\"2022-02-01\\\", \\\"Price\\\": 125.8}]\",\"[{\\\"Product Category\\\": \\\"Electronics\\\", \\\"Purchase Date\\\": \\\"2022-03-15\\\", \\\"Price\\\": 249.99}]\",\"[{\\\"Product Category\\\": \\\"Clothing\\\", \\\"Purchase Date\\\": \\\"2022-06-12\\\", \\\"Price\\\": 45.99}, {\\\"Product Category\\\": \\\"Electronics\\\", \\\"Purchase Date\\\": \\\"2022-05-08\\\", \\\"Price\\\": 199.99}]\",\"[{\\\"Product Category\\\": \\\"Clothing\\\", \\\"Purchase Date\\\": \\\"2022-07-08\\\", \\\"Price\\\": 79.99}, {\\\"Product Category\\\": \\\"Home & Garden\\\", \\\"Purchase Date\\\": \\\"2022-06-24\\\", \\\"Price\\\": 399.99}]\",\"[{\\\"Purchase Date\\\": \\\"2022-07-02\\\",\\\"Product Category\\\": \\\"Clothing\\\",\\\"Price\\\": 25.6},{\\\"Purchase Date\\\": \\\"2022-06-15\\\",\\\"Product Category\\\": \\\"Electronics\\\",\\\"Price\\\": 120},{\\\"Purchase Date\\\": \\\"2022-05-10\\\",\\\"Product Category\\\": \\\"Home & Garden\\\",\\\"Price\\\": 35}]\"],\"xaxis\":\"x\",\"yaxis\":\"y\",\"type\":\"histogram\"},{\"alignmentgroup\":\"True\",\"boxpoints\":\"all\",\"fillcolor\":\"rgba(255,255,255,0)\",\"hoveron\":\"points\",\"hovertemplate\":\"Gender=Female\\u003cbr\\u003ePurchase History=%{x}\\u003cextra\\u003e\\u003c\\u002fextra\\u003e\",\"jitter\":0,\"legendgroup\":\"Female\",\"line\":{\"color\":\"rgba(255,255,255,0)\"},\"marker\":{\"color\":\"#636efa\",\"symbol\":\"line-ns-open\"},\"name\":\"Female\",\"offsetgroup\":\"Female\",\"showlegend\":false,\"x\":[\"[{\\\"Date\\\": \\\"2022-03-05\\\", \\\"Category\\\": \\\"Clothing\\\", \\\"Price\\\": 34.99}, {\\\"Date\\\": \\\"2022-02-12\\\", \\\"Category\\\": \\\"Electronics\\\", \\\"Price\\\": 129.99}, {\\\"Date\\\": \\\"2022-01-20\\\", \\\"Category\\\": \\\"Home & Garden\\\", \\\"Price\\\": 29.99}]\",\"[{\\\"Product Category\\\": \\\"Clothing\\\", \\\"Purchase Date\\\": \\\"2022-05-15\\\", \\\"Price\\\": 34.56}, {\\\"Product Category\\\": \\\"Electronics\\\", \\\"Purchase Date\\\": \\\"2022-06-02\\\", \\\"Price\\\": 150.99}]\",\"[{\\\"Product Category\\\": \\\"Electronics\\\", \\\"Purchase Date\\\": \\\"2022-08-15\\\", \\\"Price\\\": 345.5}, {\\\"Product Category\\\": \\\"Home & Garden\\\", \\\"Purchase Date\\\": \\\"2022-07-02\\\", \\\"Price\\\": 279.99}]\",\"{'Purchase Date': '2022-08-15', 'Product Category': 'Electronics', 'Price': 200.5},{'Purchase Date': '2022-07-22', 'Product Category': 'Clothing', 'Price': 125.6},{'Purchase Date': '2022-06-01', 'Product Category': 'Home & Garden', 'Price': 300.8},{'Purchase Date': '2022-05-10', 'Product Category': 'Electronics', 'Price': 150.9}\",\"{'Purchase Date': '2022-07-20', 'Product Category': 'Electronics', 'Price': 150.8},{'Purchase Date': '2022-06-05', 'Product Category': 'Clothing', 'Price': 120.6},{'Purchase Date': '2022-05-18', 'Product Category': 'Home & Garden', 'Price': 350.1}\",\"{'Purchase Date': '2022-07-27', 'Product Category': 'Electronics', 'Price': 120.5},{'Purchase Date': '2022-06-12', 'Product Category': 'Clothing', 'Price': 130.6},{'Purchase Date': '2022-05-28', 'Product Category': 'Home & Garden', 'Price': 320.8}\",\"{'Purchase Date': '2022-03-05', 'Product Category': 'Clothing', 'Price': 45.99},{'Purchase Date': '2022-04-12', 'Product Category': 'Home & Garden', 'Price': 120.5}\",\"{'Purchase Date': '2022-04-25', 'Product Category': 'Clothing', 'Price': 29.99},{'Purchase Date': '2022-07-07', 'Product Category': 'Home & Garden', 'Price': 150}\",\"{'Purchase Date': '2022-06-15', 'Product Category': 'Home & Garden', 'Price': 220},{'Purchase Date': '2022-09-01', 'Product Category': 'Electronics', 'Price': 300}\",\"{'Purchase Date': '2022-08-08', 'Product Category': 'Electronics', 'Price': 550},{'Purchase Date': '2022-11-01', 'Product Category': 'Clothing', 'Price': 44.99}\",\"{'Purchase Date': '2022-10-15', 'Product Category': 'Clothing', 'Price': 34.99},{'Purchase Date': '2022-12-20', 'Product Category': 'Home & Garden', 'Price': 250}\",\"{'Purchase Date': '2022-12-25', 'Product Category': 'Home & Garden', 'Price': 170},{'Purchase Date': '2023-02-05', 'Product Category': 'Electronics', 'Price': 450}\",\"[{\\\"Purchase Date\\\": \\\"2022-09-15\\\", \\\"Product Category\\\": \\\"Clothing\\\", \\\"Price\\\": 34.5}]\",\"{'Purchase Date': '2022-05-15', 'Product Category': 'Clothing', 'Price': 120},{'Purchase Date': '2022-06-02', 'Product Category': 'Home & Garden', 'Price': 250}\",\"{'Purchase Date': '2022-05-28', 'Product Category': 'Clothing', 'Price': 75},{'Purchase Date': '2022-06-10', 'Product Category': 'Home & Garden', 'Price': 120}\",\"{'Purchase Date': '2022-05-18', 'Product Category': 'Clothing', 'Price': 50},{'Purchase Date': '2022-06-07', 'Product Category': 'Home & Garden', 'Price': 100}\",\"{'Purchase Date': '2022-05-25', 'Product Category': 'Clothing', 'Price': 100},{'Purchase Date': '2022-06-08', 'Product Category': 'Home & Garden', 'Price': 180}\",\"{'Purchase Date': '2022-05-16', 'Product Category': 'Clothing', 'Price': 60},{'Purchase Date': '2022-06-06', 'Product Category': 'Home & Garden', 'Price': 150}\",\"{'Purchase Date': '2022-05-27', 'Product Category': 'Clothing', 'Price': 80},{'Purchase Date': '2022-06-09', 'Product Category': 'Home & Garden', 'Price': 200}\",\"{'Purchase Date': '2022-05-19', 'Product Category': 'Clothing', 'Price': 120},{'Purchase Date': '2022-06-07', 'Product Category': 'Home & Garden', 'Price': 150}\",\"[{\\\"Product Category\\\": \\\"Clothing\\\", \\\"Purchase Date\\\": \\\"2022-08-15\\\", \\\"Price\\\": 45.23}, {\\\"Product Category\\\": \\\"Electronics\\\", \\\"Purchase Date\\\": \\\"2022-07-20\\\", \\\"Price\\\": 250.34}]\",\"[{\\\"Product Category\\\": \\\"Electronics\\\", \\\"Purchase Date\\\": \\\"2022-03-15\\\", \\\"Price\\\": 250.5}, {\\\"Product Category\\\": \\\"Clothing\\\", \\\"Purchase Date\\\": \\\"2022-02-01\\\", \\\"Price\\\": 125.8}]\",\"[{\\\"Product Category\\\": \\\"Electronics\\\", \\\"Purchase Date\\\": \\\"2022-03-15\\\", \\\"Price\\\": 249.99}]\",\"[{\\\"Product Category\\\": \\\"Clothing\\\", \\\"Purchase Date\\\": \\\"2022-06-12\\\", \\\"Price\\\": 45.99}, {\\\"Product Category\\\": \\\"Electronics\\\", \\\"Purchase Date\\\": \\\"2022-05-08\\\", \\\"Price\\\": 199.99}]\",\"[{\\\"Product Category\\\": \\\"Clothing\\\", \\\"Purchase Date\\\": \\\"2022-07-08\\\", \\\"Price\\\": 79.99}, {\\\"Product Category\\\": \\\"Home & Garden\\\", \\\"Purchase Date\\\": \\\"2022-06-24\\\", \\\"Price\\\": 399.99}]\",\"[{\\\"Purchase Date\\\": \\\"2022-07-02\\\",\\\"Product Category\\\": \\\"Clothing\\\",\\\"Price\\\": 25.6},{\\\"Purchase Date\\\": \\\"2022-06-15\\\",\\\"Product Category\\\": \\\"Electronics\\\",\\\"Price\\\": 120},{\\\"Purchase Date\\\": \\\"2022-05-10\\\",\\\"Product Category\\\": \\\"Home & Garden\\\",\\\"Price\\\": 35}]\"],\"xaxis\":\"x2\",\"yaxis\":\"y2\",\"type\":\"box\"},{\"alignmentgroup\":\"True\",\"bingroup\":\"x\",\"hovertemplate\":\"Gender=Male\\u003cbr\\u003ePurchase History=%{x}\\u003cbr\\u003ecount=%{y}\\u003cextra\\u003e\\u003c\\u002fextra\\u003e\",\"legendgroup\":\"Male\",\"marker\":{\"color\":\"#EF553B\",\"pattern\":{\"shape\":\"\"}},\"name\":\"Male\",\"offsetgroup\":\"Male\",\"orientation\":\"v\",\"showlegend\":true,\"x\":[\"{'Purchase Date': '2022-07-25', 'Product Category': 'Clothing', 'Price': 67.2},{'Purchase Date': '2022-06-08', 'Product Category': 'Home & Garden', 'Price': 250.1},{'Purchase Date': '2022-05-15', 'Product Category': 'Electronics', 'Price': 400.7}\",\"{'Purchase Date': '2022-08-28', 'Product Category': 'Electronics', 'Price': 250.6},{'Purchase Date': '2022-07-15', 'Product Category': 'Clothing', 'Price': 115.7},{'Purchase Date': '2022-06-03', 'Product Category': 'Home & Garden', 'Price': 300.4}\",\"{'Purchase Date': '2022-09-08', 'Product Category': 'Electronics', 'Price': 350.2},{'Purchase Date': '2022-08-23', 'Product Category': 'Clothing', 'Price': 165.3},{'Purchase Date': '2022-07-07', 'Product Category': 'Home & Garden', 'Price': 280.9}\",\"{'Purchase Date': '2022-02-15', 'Product Category': 'Electronics', 'Price': 250},{'Purchase Date': '2022-05-10', 'Product Category': 'Clothing', 'Price': 34.99}\",\"{'Purchase Date': '2022-05-20', 'Product Category': 'Electronics', 'Price': 600},{'Purchase Date': '2022-08-03', 'Product Category': 'Clothing', 'Price': 59.99}\",\"{'Purchase Date': '2022-07-22', 'Product Category': 'Clothing', 'Price': 39.99},{'Purchase Date': '2022-10-06', 'Product Category': 'Home & Garden', 'Price': 190}\",\"{'Purchase Date': '2022-09-20', 'Product Category': 'Home & Garden', 'Price': 200},{'Purchase Date': '2022-12-05', 'Product Category': 'Electronics', 'Price': 350}\",\"{'Purchase Date': '2022-11-05', 'Product Category': 'Electronics', 'Price': 150},{'Purchase Date': '2023-01-10', 'Product Category': 'Clothing', 'Price': 29.99}\",\"{'Purchase Date': '2022-06-12', 'Product Category': 'Electronics', 'Price': 350}\",\"{'Purchase Date': '2022-05-08', 'Product Category': 'Electronics', 'Price': 200},{'Purchase Date': '2022-06-05', 'Product Category': 'Home & Garden', 'Price': 150}\",\"{'Purchase Date': '2022-05-23', 'Product Category': 'Electronics', 'Price': 400},{'Purchase Date': '2022-06-03', 'Product Category': 'Home & Garden', 'Price': 200}\",\"{'Purchase Date': '2022-05-20', 'Product Category': 'Electronics', 'Price': 300},{'Purchase Date': '2022-06-04', 'Product Category': 'Home & Garden', 'Price': 250}\",\"{'Purchase Date': '2022-05-12', 'Product Category': 'Electronics', 'Price': 250},{'Purchase Date': '2022-06-01', 'Product Category': 'Home & Garden', 'Price': 175}\",\"{'Purchase Date': '2022-05-22', 'Product Category': 'Electronics', 'Price': 350},{'Purchase Date': '2022-06-02', 'Product Category': 'Home & Garden', 'Price': 100}\",\"[{\\\"Product Category\\\": \\\"Clothing\\\", \\\"Purchase Date\\\": \\\"2022-02-20\\\", \\\"Price\\\": 150.2}, {\\\"Product Category\\\": \\\"Home & Garden\\\", \\\"Purchase Date\\\": \\\"2022-01-12\\\", \\\"Price\\\": 450}]\",\"[{\\\"Product Category\\\": \\\"Electronics\\\", \\\"Purchase Date\\\": \\\"2022-07-03\\\", \\\"Price\\\": 249.99}, {\\\"Product Category\\\": \\\"Home & Garden\\\", \\\"Purchase Date\\\": \\\"2022-06-17\\\", \\\"Price\\\": 129.99}]\",\"[{\\\"Product Category\\\": \\\"Electronics\\\", \\\"Purchase Date\\\": \\\"2022-06-01\\\", \\\"Price\\\": 129.99}, {\\\"Product Category\\\": \\\"Home & Garden\\\", \\\"Purchase Date\\\": \\\"2022-05-18\\\", \\\"Price\\\": 59.99}]\",\"[{\\\"Purchase Date\\\": \\\"2022-07-08\\\",\\\"Product Category\\\": \\\"Electronics\\\",\\\"Price\\\": 420},{\\\"Purchase Date\\\": \\\"2022-06-23\\\",\\\"Product Category\\\": \\\"Clothing\\\",\\\"Price\\\": 75},{\\\"Purchase Date\\\": \\\"2022-05-12\\\",\\\"Product Category\\\": \\\"Home & Garden\\\",\\\"Price\\\": 200}]\"],\"xaxis\":\"x\",\"yaxis\":\"y\",\"type\":\"histogram\"},{\"alignmentgroup\":\"True\",\"boxpoints\":\"all\",\"fillcolor\":\"rgba(255,255,255,0)\",\"hoveron\":\"points\",\"hovertemplate\":\"Gender=Male\\u003cbr\\u003ePurchase History=%{x}\\u003cextra\\u003e\\u003c\\u002fextra\\u003e\",\"jitter\":0,\"legendgroup\":\"Male\",\"line\":{\"color\":\"rgba(255,255,255,0)\"},\"marker\":{\"color\":\"#EF553B\",\"symbol\":\"line-ns-open\"},\"name\":\"Male\",\"offsetgroup\":\"Male\",\"showlegend\":false,\"x\":[\"{'Purchase Date': '2022-07-25', 'Product Category': 'Clothing', 'Price': 67.2},{'Purchase Date': '2022-06-08', 'Product Category': 'Home & Garden', 'Price': 250.1},{'Purchase Date': '2022-05-15', 'Product Category': 'Electronics', 'Price': 400.7}\",\"{'Purchase Date': '2022-08-28', 'Product Category': 'Electronics', 'Price': 250.6},{'Purchase Date': '2022-07-15', 'Product Category': 'Clothing', 'Price': 115.7},{'Purchase Date': '2022-06-03', 'Product Category': 'Home & Garden', 'Price': 300.4}\",\"{'Purchase Date': '2022-09-08', 'Product Category': 'Electronics', 'Price': 350.2},{'Purchase Date': '2022-08-23', 'Product Category': 'Clothing', 'Price': 165.3},{'Purchase Date': '2022-07-07', 'Product Category': 'Home & Garden', 'Price': 280.9}\",\"{'Purchase Date': '2022-02-15', 'Product Category': 'Electronics', 'Price': 250},{'Purchase Date': '2022-05-10', 'Product Category': 'Clothing', 'Price': 34.99}\",\"{'Purchase Date': '2022-05-20', 'Product Category': 'Electronics', 'Price': 600},{'Purchase Date': '2022-08-03', 'Product Category': 'Clothing', 'Price': 59.99}\",\"{'Purchase Date': '2022-07-22', 'Product Category': 'Clothing', 'Price': 39.99},{'Purchase Date': '2022-10-06', 'Product Category': 'Home & Garden', 'Price': 190}\",\"{'Purchase Date': '2022-09-20', 'Product Category': 'Home & Garden', 'Price': 200},{'Purchase Date': '2022-12-05', 'Product Category': 'Electronics', 'Price': 350}\",\"{'Purchase Date': '2022-11-05', 'Product Category': 'Electronics', 'Price': 150},{'Purchase Date': '2023-01-10', 'Product Category': 'Clothing', 'Price': 29.99}\",\"{'Purchase Date': '2022-06-12', 'Product Category': 'Electronics', 'Price': 350}\",\"{'Purchase Date': '2022-05-08', 'Product Category': 'Electronics', 'Price': 200},{'Purchase Date': '2022-06-05', 'Product Category': 'Home & Garden', 'Price': 150}\",\"{'Purchase Date': '2022-05-23', 'Product Category': 'Electronics', 'Price': 400},{'Purchase Date': '2022-06-03', 'Product Category': 'Home & Garden', 'Price': 200}\",\"{'Purchase Date': '2022-05-20', 'Product Category': 'Electronics', 'Price': 300},{'Purchase Date': '2022-06-04', 'Product Category': 'Home & Garden', 'Price': 250}\",\"{'Purchase Date': '2022-05-12', 'Product Category': 'Electronics', 'Price': 250},{'Purchase Date': '2022-06-01', 'Product Category': 'Home & Garden', 'Price': 175}\",\"{'Purchase Date': '2022-05-22', 'Product Category': 'Electronics', 'Price': 350},{'Purchase Date': '2022-06-02', 'Product Category': 'Home & Garden', 'Price': 100}\",\"[{\\\"Product Category\\\": \\\"Clothing\\\", \\\"Purchase Date\\\": \\\"2022-02-20\\\", \\\"Price\\\": 150.2}, {\\\"Product Category\\\": \\\"Home & Garden\\\", \\\"Purchase Date\\\": \\\"2022-01-12\\\", \\\"Price\\\": 450}]\",\"[{\\\"Product Category\\\": \\\"Electronics\\\", \\\"Purchase Date\\\": \\\"2022-07-03\\\", \\\"Price\\\": 249.99}, {\\\"Product Category\\\": \\\"Home & Garden\\\", \\\"Purchase Date\\\": \\\"2022-06-17\\\", \\\"Price\\\": 129.99}]\",\"[{\\\"Product Category\\\": \\\"Electronics\\\", \\\"Purchase Date\\\": \\\"2022-06-01\\\", \\\"Price\\\": 129.99}, {\\\"Product Category\\\": \\\"Home & Garden\\\", \\\"Purchase Date\\\": \\\"2022-05-18\\\", \\\"Price\\\": 59.99}]\",\"[{\\\"Purchase Date\\\": \\\"2022-07-08\\\",\\\"Product Category\\\": \\\"Electronics\\\",\\\"Price\\\": 420},{\\\"Purchase Date\\\": \\\"2022-06-23\\\",\\\"Product Category\\\": \\\"Clothing\\\",\\\"Price\\\": 75},{\\\"Purchase Date\\\": \\\"2022-05-12\\\",\\\"Product Category\\\": \\\"Home & Garden\\\",\\\"Price\\\": 200}]\"],\"xaxis\":\"x2\",\"yaxis\":\"y2\",\"type\":\"box\"},{\"alignmentgroup\":\"True\",\"bingroup\":\"x\",\"hovertemplate\":\"Gender=Other\\u003cbr\\u003ePurchase History=%{x}\\u003cbr\\u003ecount=%{y}\\u003cextra\\u003e\\u003c\\u002fextra\\u003e\",\"legendgroup\":\"Other\",\"marker\":{\"color\":\"#00cc96\",\"pattern\":{\"shape\":\"\"}},\"name\":\"Other\",\"offsetgroup\":\"Other\",\"orientation\":\"v\",\"showlegend\":true,\"x\":[\"{'Purchase Date': '2022-09-01', 'Product Category': 'Electronics', 'Price': 300.2},{'Purchase Date': '2022-08-12', 'Product Category': 'Clothing', 'Price': 185.3},{'Purchase Date': '2022-07-28', 'Product Category': 'Home & Garden', 'Price': 200.9}\",\"{'Purchase Date': '2022-09-05', 'Product Category': 'Electronics', 'Price': 400.9},{'Purchase Date': '2022-08-18', 'Product Category': 'Clothing', 'Price': 195.3},{'Purchase Date': '2022-07-03', 'Product Category': 'Home & Garden', 'Price': 220.7}\",\"{'Purchase Date': '2022-08-25', 'Product Category': 'Electronics', 'Price': 170.8},{'Purchase Date': '2022-07-09', 'Product Category': 'Clothing', 'Price': 105.6},{'Purchase Date': '2022-06-24', 'Product Category': 'Home & Garden', 'Price': 290.1}\",\"{'Purchase Date': '2022-01-18', 'Product Category': 'Home & Garden', 'Price': 180},{'Purchase Date': '2022-06-02', 'Product Category': 'Electronics', 'Price': 400}\",\"[{\\\"Product Category\\\": \\\"Clothing\\\", \\\"Purchase Date\\\": \\\"2022-06-22\\\", \\\"Price\\\": 34.99}, {\\\"Product Category\\\": \\\"Electronics\\\", \\\"Purchase Date\\\": \\\"2022-05-15\\\", \\\"Price\\\": 149.99}]\",\"[{\\\"Purchase Date\\\": \\\"2022-07-01\\\",\\\"Product Category\\\": \\\"Electronics\\\",\\\"Price\\\": 180},{\\\"Purchase Date\\\": \\\"2022-06-18\\\",\\\"Product Category\\\": \\\"Clothing\\\",\\\"Price\\\": 50},{\\\"Purchase Date\\\": \\\"2022-05-09\\\",\\\"Product Category\\\": \\\"Home & Garden\\\",\\\"Price\\\": 30}]\"],\"xaxis\":\"x\",\"yaxis\":\"y\",\"type\":\"histogram\"},{\"alignmentgroup\":\"True\",\"boxpoints\":\"all\",\"fillcolor\":\"rgba(255,255,255,0)\",\"hoveron\":\"points\",\"hovertemplate\":\"Gender=Other\\u003cbr\\u003ePurchase History=%{x}\\u003cextra\\u003e\\u003c\\u002fextra\\u003e\",\"jitter\":0,\"legendgroup\":\"Other\",\"line\":{\"color\":\"rgba(255,255,255,0)\"},\"marker\":{\"color\":\"#00cc96\",\"symbol\":\"line-ns-open\"},\"name\":\"Other\",\"offsetgroup\":\"Other\",\"showlegend\":false,\"x\":[\"{'Purchase Date': '2022-09-01', 'Product Category': 'Electronics', 'Price': 300.2},{'Purchase Date': '2022-08-12', 'Product Category': 'Clothing', 'Price': 185.3},{'Purchase Date': '2022-07-28', 'Product Category': 'Home & Garden', 'Price': 200.9}\",\"{'Purchase Date': '2022-09-05', 'Product Category': 'Electronics', 'Price': 400.9},{'Purchase Date': '2022-08-18', 'Product Category': 'Clothing', 'Price': 195.3},{'Purchase Date': '2022-07-03', 'Product Category': 'Home & Garden', 'Price': 220.7}\",\"{'Purchase Date': '2022-08-25', 'Product Category': 'Electronics', 'Price': 170.8},{'Purchase Date': '2022-07-09', 'Product Category': 'Clothing', 'Price': 105.6},{'Purchase Date': '2022-06-24', 'Product Category': 'Home & Garden', 'Price': 290.1}\",\"{'Purchase Date': '2022-01-18', 'Product Category': 'Home & Garden', 'Price': 180},{'Purchase Date': '2022-06-02', 'Product Category': 'Electronics', 'Price': 400}\",\"[{\\\"Product Category\\\": \\\"Clothing\\\", \\\"Purchase Date\\\": \\\"2022-06-22\\\", \\\"Price\\\": 34.99}, {\\\"Product Category\\\": \\\"Electronics\\\", \\\"Purchase Date\\\": \\\"2022-05-15\\\", \\\"Price\\\": 149.99}]\",\"[{\\\"Purchase Date\\\": \\\"2022-07-01\\\",\\\"Product Category\\\": \\\"Electronics\\\",\\\"Price\\\": 180},{\\\"Purchase Date\\\": \\\"2022-06-18\\\",\\\"Product Category\\\": \\\"Clothing\\\",\\\"Price\\\": 50},{\\\"Purchase Date\\\": \\\"2022-05-09\\\",\\\"Product Category\\\": \\\"Home & Garden\\\",\\\"Price\\\": 30}]\"],\"xaxis\":\"x2\",\"yaxis\":\"y2\",\"type\":\"box\"}],                        {\"template\":{\"data\":{\"histogram2dcontour\":[{\"type\":\"histogram2dcontour\",\"colorbar\":{\"outlinewidth\":0,\"ticks\":\"\"},\"colorscale\":[[0.0,\"#0d0887\"],[0.1111111111111111,\"#46039f\"],[0.2222222222222222,\"#7201a8\"],[0.3333333333333333,\"#9c179e\"],[0.4444444444444444,\"#bd3786\"],[0.5555555555555556,\"#d8576b\"],[0.6666666666666666,\"#ed7953\"],[0.7777777777777778,\"#fb9f3a\"],[0.8888888888888888,\"#fdca26\"],[1.0,\"#f0f921\"]]}],\"choropleth\":[{\"type\":\"choropleth\",\"colorbar\":{\"outlinewidth\":0,\"ticks\":\"\"}}],\"histogram2d\":[{\"type\":\"histogram2d\",\"colorbar\":{\"outlinewidth\":0,\"ticks\":\"\"},\"colorscale\":[[0.0,\"#0d0887\"],[0.1111111111111111,\"#46039f\"],[0.2222222222222222,\"#7201a8\"],[0.3333333333333333,\"#9c179e\"],[0.4444444444444444,\"#bd3786\"],[0.5555555555555556,\"#d8576b\"],[0.6666666666666666,\"#ed7953\"],[0.7777777777777778,\"#fb9f3a\"],[0.8888888888888888,\"#fdca26\"],[1.0,\"#f0f921\"]]}],\"heatmap\":[{\"type\":\"heatmap\",\"colorbar\":{\"outlinewidth\":0,\"ticks\":\"\"},\"colorscale\":[[0.0,\"#0d0887\"],[0.1111111111111111,\"#46039f\"],[0.2222222222222222,\"#7201a8\"],[0.3333333333333333,\"#9c179e\"],[0.4444444444444444,\"#bd3786\"],[0.5555555555555556,\"#d8576b\"],[0.6666666666666666,\"#ed7953\"],[0.7777777777777778,\"#fb9f3a\"],[0.8888888888888888,\"#fdca26\"],[1.0,\"#f0f921\"]]}],\"heatmapgl\":[{\"type\":\"heatmapgl\",\"colorbar\":{\"outlinewidth\":0,\"ticks\":\"\"},\"colorscale\":[[0.0,\"#0d0887\"],[0.1111111111111111,\"#46039f\"],[0.2222222222222222,\"#7201a8\"],[0.3333333333333333,\"#9c179e\"],[0.4444444444444444,\"#bd3786\"],[0.5555555555555556,\"#d8576b\"],[0.6666666666666666,\"#ed7953\"],[0.7777777777777778,\"#fb9f3a\"],[0.8888888888888888,\"#fdca26\"],[1.0,\"#f0f921\"]]}],\"contourcarpet\":[{\"type\":\"contourcarpet\",\"colorbar\":{\"outlinewidth\":0,\"ticks\":\"\"}}],\"contour\":[{\"type\":\"contour\",\"colorbar\":{\"outlinewidth\":0,\"ticks\":\"\"},\"colorscale\":[[0.0,\"#0d0887\"],[0.1111111111111111,\"#46039f\"],[0.2222222222222222,\"#7201a8\"],[0.3333333333333333,\"#9c179e\"],[0.4444444444444444,\"#bd3786\"],[0.5555555555555556,\"#d8576b\"],[0.6666666666666666,\"#ed7953\"],[0.7777777777777778,\"#fb9f3a\"],[0.8888888888888888,\"#fdca26\"],[1.0,\"#f0f921\"]]}],\"surface\":[{\"type\":\"surface\",\"colorbar\":{\"outlinewidth\":0,\"ticks\":\"\"},\"colorscale\":[[0.0,\"#0d0887\"],[0.1111111111111111,\"#46039f\"],[0.2222222222222222,\"#7201a8\"],[0.3333333333333333,\"#9c179e\"],[0.4444444444444444,\"#bd3786\"],[0.5555555555555556,\"#d8576b\"],[0.6666666666666666,\"#ed7953\"],[0.7777777777777778,\"#fb9f3a\"],[0.8888888888888888,\"#fdca26\"],[1.0,\"#f0f921\"]]}],\"mesh3d\":[{\"type\":\"mesh3d\",\"colorbar\":{\"outlinewidth\":0,\"ticks\":\"\"}}],\"scatter\":[{\"fillpattern\":{\"fillmode\":\"overlay\",\"size\":10,\"solidity\":0.2},\"type\":\"scatter\"}],\"parcoords\":[{\"type\":\"parcoords\",\"line\":{\"colorbar\":{\"outlinewidth\":0,\"ticks\":\"\"}}}],\"scatterpolargl\":[{\"type\":\"scatterpolargl\",\"marker\":{\"colorbar\":{\"outlinewidth\":0,\"ticks\":\"\"}}}],\"bar\":[{\"error_x\":{\"color\":\"#2a3f5f\"},\"error_y\":{\"color\":\"#2a3f5f\"},\"marker\":{\"line\":{\"color\":\"#E5ECF6\",\"width\":0.5},\"pattern\":{\"fillmode\":\"overlay\",\"size\":10,\"solidity\":0.2}},\"type\":\"bar\"}],\"scattergeo\":[{\"type\":\"scattergeo\",\"marker\":{\"colorbar\":{\"outlinewidth\":0,\"ticks\":\"\"}}}],\"scatterpolar\":[{\"type\":\"scatterpolar\",\"marker\":{\"colorbar\":{\"outlinewidth\":0,\"ticks\":\"\"}}}],\"histogram\":[{\"marker\":{\"pattern\":{\"fillmode\":\"overlay\",\"size\":10,\"solidity\":0.2}},\"type\":\"histogram\"}],\"scattergl\":[{\"type\":\"scattergl\",\"marker\":{\"colorbar\":{\"outlinewidth\":0,\"ticks\":\"\"}}}],\"scatter3d\":[{\"type\":\"scatter3d\",\"line\":{\"colorbar\":{\"outlinewidth\":0,\"ticks\":\"\"}},\"marker\":{\"colorbar\":{\"outlinewidth\":0,\"ticks\":\"\"}}}],\"scattermapbox\":[{\"type\":\"scattermapbox\",\"marker\":{\"colorbar\":{\"outlinewidth\":0,\"ticks\":\"\"}}}],\"scatterternary\":[{\"type\":\"scatterternary\",\"marker\":{\"colorbar\":{\"outlinewidth\":0,\"ticks\":\"\"}}}],\"scattercarpet\":[{\"type\":\"scattercarpet\",\"marker\":{\"colorbar\":{\"outlinewidth\":0,\"ticks\":\"\"}}}],\"carpet\":[{\"aaxis\":{\"endlinecolor\":\"#2a3f5f\",\"gridcolor\":\"white\",\"linecolor\":\"white\",\"minorgridcolor\":\"white\",\"startlinecolor\":\"#2a3f5f\"},\"baxis\":{\"endlinecolor\":\"#2a3f5f\",\"gridcolor\":\"white\",\"linecolor\":\"white\",\"minorgridcolor\":\"white\",\"startlinecolor\":\"#2a3f5f\"},\"type\":\"carpet\"}],\"table\":[{\"cells\":{\"fill\":{\"color\":\"#EBF0F8\"},\"line\":{\"color\":\"white\"}},\"header\":{\"fill\":{\"color\":\"#C8D4E3\"},\"line\":{\"color\":\"white\"}},\"type\":\"table\"}],\"barpolar\":[{\"marker\":{\"line\":{\"color\":\"#E5ECF6\",\"width\":0.5},\"pattern\":{\"fillmode\":\"overlay\",\"size\":10,\"solidity\":0.2}},\"type\":\"barpolar\"}],\"pie\":[{\"automargin\":true,\"type\":\"pie\"}]},\"layout\":{\"autotypenumbers\":\"strict\",\"colorway\":[\"#636efa\",\"#EF553B\",\"#00cc96\",\"#ab63fa\",\"#FFA15A\",\"#19d3f3\",\"#FF6692\",\"#B6E880\",\"#FF97FF\",\"#FECB52\"],\"font\":{\"color\":\"#2a3f5f\"},\"hovermode\":\"closest\",\"hoverlabel\":{\"align\":\"left\"},\"paper_bgcolor\":\"white\",\"plot_bgcolor\":\"#E5ECF6\",\"polar\":{\"bgcolor\":\"#E5ECF6\",\"angularaxis\":{\"gridcolor\":\"white\",\"linecolor\":\"white\",\"ticks\":\"\"},\"radialaxis\":{\"gridcolor\":\"white\",\"linecolor\":\"white\",\"ticks\":\"\"}},\"ternary\":{\"bgcolor\":\"#E5ECF6\",\"aaxis\":{\"gridcolor\":\"white\",\"linecolor\":\"white\",\"ticks\":\"\"},\"baxis\":{\"gridcolor\":\"white\",\"linecolor\":\"white\",\"ticks\":\"\"},\"caxis\":{\"gridcolor\":\"white\",\"linecolor\":\"white\",\"ticks\":\"\"}},\"coloraxis\":{\"colorbar\":{\"outlinewidth\":0,\"ticks\":\"\"}},\"colorscale\":{\"sequential\":[[0.0,\"#0d0887\"],[0.1111111111111111,\"#46039f\"],[0.2222222222222222,\"#7201a8\"],[0.3333333333333333,\"#9c179e\"],[0.4444444444444444,\"#bd3786\"],[0.5555555555555556,\"#d8576b\"],[0.6666666666666666,\"#ed7953\"],[0.7777777777777778,\"#fb9f3a\"],[0.8888888888888888,\"#fdca26\"],[1.0,\"#f0f921\"]],\"sequentialminus\":[[0.0,\"#0d0887\"],[0.1111111111111111,\"#46039f\"],[0.2222222222222222,\"#7201a8\"],[0.3333333333333333,\"#9c179e\"],[0.4444444444444444,\"#bd3786\"],[0.5555555555555556,\"#d8576b\"],[0.6666666666666666,\"#ed7953\"],[0.7777777777777778,\"#fb9f3a\"],[0.8888888888888888,\"#fdca26\"],[1.0,\"#f0f921\"]],\"diverging\":[[0,\"#8e0152\"],[0.1,\"#c51b7d\"],[0.2,\"#de77ae\"],[0.3,\"#f1b6da\"],[0.4,\"#fde0ef\"],[0.5,\"#f7f7f7\"],[0.6,\"#e6f5d0\"],[0.7,\"#b8e186\"],[0.8,\"#7fbc41\"],[0.9,\"#4d9221\"],[1,\"#276419\"]]},\"xaxis\":{\"gridcolor\":\"white\",\"linecolor\":\"white\",\"ticks\":\"\",\"title\":{\"standoff\":15},\"zerolinecolor\":\"white\",\"automargin\":true,\"zerolinewidth\":2},\"yaxis\":{\"gridcolor\":\"white\",\"linecolor\":\"white\",\"ticks\":\"\",\"title\":{\"standoff\":15},\"zerolinecolor\":\"white\",\"automargin\":true,\"zerolinewidth\":2},\"scene\":{\"xaxis\":{\"backgroundcolor\":\"#E5ECF6\",\"gridcolor\":\"white\",\"linecolor\":\"white\",\"showbackground\":true,\"ticks\":\"\",\"zerolinecolor\":\"white\",\"gridwidth\":2},\"yaxis\":{\"backgroundcolor\":\"#E5ECF6\",\"gridcolor\":\"white\",\"linecolor\":\"white\",\"showbackground\":true,\"ticks\":\"\",\"zerolinecolor\":\"white\",\"gridwidth\":2},\"zaxis\":{\"backgroundcolor\":\"#E5ECF6\",\"gridcolor\":\"white\",\"linecolor\":\"white\",\"showbackground\":true,\"ticks\":\"\",\"zerolinecolor\":\"white\",\"gridwidth\":2}},\"shapedefaults\":{\"line\":{\"color\":\"#2a3f5f\"}},\"annotationdefaults\":{\"arrowcolor\":\"#2a3f5f\",\"arrowhead\":0,\"arrowwidth\":1},\"geo\":{\"bgcolor\":\"white\",\"landcolor\":\"#E5ECF6\",\"subunitcolor\":\"white\",\"showland\":true,\"showlakes\":true,\"lakecolor\":\"white\"},\"title\":{\"x\":0.05},\"mapbox\":{\"style\":\"light\"}}},\"xaxis\":{\"anchor\":\"y\",\"domain\":[0.0,1.0],\"title\":{\"text\":\"Purchase History\"}},\"yaxis\":{\"anchor\":\"x\",\"domain\":[0.0,0.7326],\"title\":{\"text\":\"count\"}},\"xaxis2\":{\"anchor\":\"y2\",\"domain\":[0.0,1.0],\"matches\":\"x\",\"showticklabels\":false,\"showgrid\":true},\"yaxis2\":{\"anchor\":\"x2\",\"domain\":[0.7426,1.0],\"matches\":\"y2\",\"showticklabels\":false,\"showline\":false,\"ticks\":\"\",\"showgrid\":false},\"legend\":{\"title\":{\"text\":\"Gender\"},\"tracegroupgap\":0},\"title\":{\"text\":\"Purchase History by Gender\"},\"barmode\":\"relative\",\"height\":2500},                        {\"responsive\": true}                    ).then(function(){\n",
              "                            \n",
              "var gd = document.getElementById('ccd827ab-24bb-4ba2-b1b0-08d51fe2f289');\n",
              "var x = new MutationObserver(function (mutations, observer) {{\n",
              "        var display = window.getComputedStyle(gd).display;\n",
              "        if (!display || display === 'none') {{\n",
              "            console.log([gd, 'removed!']);\n",
              "            Plotly.purge(gd);\n",
              "            observer.disconnect();\n",
              "        }}\n",
              "}});\n",
              "\n",
              "// Listen for the removal of the full notebook cells\n",
              "var notebookContainer = gd.closest('#notebook-container');\n",
              "if (notebookContainer) {{\n",
              "    x.observe(notebookContainer, {childList: true});\n",
              "}}\n",
              "\n",
              "// Listen for the clearing of the current output cell\n",
              "var outputEl = gd.closest('.output');\n",
              "if (outputEl) {{\n",
              "    x.observe(outputEl, {childList: true});\n",
              "}}\n",
              "\n",
              "                        })                };                            </script>        </div>\n",
              "</body>\n",
              "</html>"
            ]
          },
          "metadata": {}
        }
      ]
    },
    {
      "cell_type": "markdown",
      "source": [
        "**How do customers in different locations vary in their time spent on the site?**"
      ],
      "metadata": {
        "id": "ict7O8ALdNDJ"
      }
    },
    {
      "cell_type": "code",
      "source": [
        "avg_time_on_site_by_location = df_no_outliers.groupby('Location')['Time on Site'].mean().reset_index()\n",
        "fig = px.bar(avg_time_on_site_by_location, x='Location', y='Time on Site', title='Average Time on Site by Location')\n",
        "fig.show()"
      ],
      "metadata": {
        "execution": {
          "iopub.status.busy": "2024-10-03T09:17:46.525161Z",
          "iopub.execute_input": "2024-10-03T09:17:46.52648Z",
          "iopub.status.idle": "2024-10-03T09:17:46.62158Z",
          "shell.execute_reply.started": "2024-10-03T09:17:46.526431Z",
          "shell.execute_reply": "2024-10-03T09:17:46.620431Z"
        },
        "trusted": true,
        "colab": {
          "base_uri": "https://localhost:8080/",
          "height": 542
        },
        "id": "0tOGav9ydNDJ",
        "outputId": "52188949-7a1f-40aa-c7cd-a5b8525c798e"
      },
      "execution_count": 24,
      "outputs": [
        {
          "output_type": "display_data",
          "data": {
            "text/html": [
              "<html>\n",
              "<head><meta charset=\"utf-8\" /></head>\n",
              "<body>\n",
              "    <div>            <script src=\"https://cdnjs.cloudflare.com/ajax/libs/mathjax/2.7.5/MathJax.js?config=TeX-AMS-MML_SVG\"></script><script type=\"text/javascript\">if (window.MathJax && window.MathJax.Hub && window.MathJax.Hub.Config) {window.MathJax.Hub.Config({SVG: {font: \"STIX-Web\"}});}</script>                <script type=\"text/javascript\">window.PlotlyConfig = {MathJaxConfig: 'local'};</script>\n",
              "        <script charset=\"utf-8\" src=\"https://cdn.plot.ly/plotly-2.35.2.min.js\"></script>                <div id=\"f8aa5a76-df9c-4e9f-a1d1-ac6a845927eb\" class=\"plotly-graph-div\" style=\"height:525px; width:100%;\"></div>            <script type=\"text/javascript\">                                    window.PLOTLYENV=window.PLOTLYENV || {};                                    if (document.getElementById(\"f8aa5a76-df9c-4e9f-a1d1-ac6a845927eb\")) {                    Plotly.newPlot(                        \"f8aa5a76-df9c-4e9f-a1d1-ac6a845927eb\",                        [{\"alignmentgroup\":\"True\",\"hovertemplate\":\"Location=%{x}\\u003cbr\\u003eTime on Site=%{y}\\u003cextra\\u003e\\u003c\\u002fextra\\u003e\",\"legendgroup\":\"\",\"marker\":{\"color\":\"#636efa\",\"pattern\":{\"shape\":\"\"}},\"name\":\"\",\"offsetgroup\":\"\",\"orientation\":\"v\",\"showlegend\":false,\"textposition\":\"auto\",\"x\":[\"City A\",\"City B\",\"City C\",\"City D\",\"City E\",\"City F\",\"City G\",\"City H\",\"City I\",\"City J\",\"City K\",\"City L\",\"City M\",\"City N\",\"City O\",\"City P\"],\"xaxis\":\"x\",\"y\":[75.0,200.0,150.0,123.4375,276.96666666666664,252.26,302.125,217.45,358.73333333333335,278.3,302.8666666666667,267.5,350.0,200.0,300.0,250.0],\"yaxis\":\"y\",\"type\":\"bar\"}],                        {\"template\":{\"data\":{\"histogram2dcontour\":[{\"type\":\"histogram2dcontour\",\"colorbar\":{\"outlinewidth\":0,\"ticks\":\"\"},\"colorscale\":[[0.0,\"#0d0887\"],[0.1111111111111111,\"#46039f\"],[0.2222222222222222,\"#7201a8\"],[0.3333333333333333,\"#9c179e\"],[0.4444444444444444,\"#bd3786\"],[0.5555555555555556,\"#d8576b\"],[0.6666666666666666,\"#ed7953\"],[0.7777777777777778,\"#fb9f3a\"],[0.8888888888888888,\"#fdca26\"],[1.0,\"#f0f921\"]]}],\"choropleth\":[{\"type\":\"choropleth\",\"colorbar\":{\"outlinewidth\":0,\"ticks\":\"\"}}],\"histogram2d\":[{\"type\":\"histogram2d\",\"colorbar\":{\"outlinewidth\":0,\"ticks\":\"\"},\"colorscale\":[[0.0,\"#0d0887\"],[0.1111111111111111,\"#46039f\"],[0.2222222222222222,\"#7201a8\"],[0.3333333333333333,\"#9c179e\"],[0.4444444444444444,\"#bd3786\"],[0.5555555555555556,\"#d8576b\"],[0.6666666666666666,\"#ed7953\"],[0.7777777777777778,\"#fb9f3a\"],[0.8888888888888888,\"#fdca26\"],[1.0,\"#f0f921\"]]}],\"heatmap\":[{\"type\":\"heatmap\",\"colorbar\":{\"outlinewidth\":0,\"ticks\":\"\"},\"colorscale\":[[0.0,\"#0d0887\"],[0.1111111111111111,\"#46039f\"],[0.2222222222222222,\"#7201a8\"],[0.3333333333333333,\"#9c179e\"],[0.4444444444444444,\"#bd3786\"],[0.5555555555555556,\"#d8576b\"],[0.6666666666666666,\"#ed7953\"],[0.7777777777777778,\"#fb9f3a\"],[0.8888888888888888,\"#fdca26\"],[1.0,\"#f0f921\"]]}],\"heatmapgl\":[{\"type\":\"heatmapgl\",\"colorbar\":{\"outlinewidth\":0,\"ticks\":\"\"},\"colorscale\":[[0.0,\"#0d0887\"],[0.1111111111111111,\"#46039f\"],[0.2222222222222222,\"#7201a8\"],[0.3333333333333333,\"#9c179e\"],[0.4444444444444444,\"#bd3786\"],[0.5555555555555556,\"#d8576b\"],[0.6666666666666666,\"#ed7953\"],[0.7777777777777778,\"#fb9f3a\"],[0.8888888888888888,\"#fdca26\"],[1.0,\"#f0f921\"]]}],\"contourcarpet\":[{\"type\":\"contourcarpet\",\"colorbar\":{\"outlinewidth\":0,\"ticks\":\"\"}}],\"contour\":[{\"type\":\"contour\",\"colorbar\":{\"outlinewidth\":0,\"ticks\":\"\"},\"colorscale\":[[0.0,\"#0d0887\"],[0.1111111111111111,\"#46039f\"],[0.2222222222222222,\"#7201a8\"],[0.3333333333333333,\"#9c179e\"],[0.4444444444444444,\"#bd3786\"],[0.5555555555555556,\"#d8576b\"],[0.6666666666666666,\"#ed7953\"],[0.7777777777777778,\"#fb9f3a\"],[0.8888888888888888,\"#fdca26\"],[1.0,\"#f0f921\"]]}],\"surface\":[{\"type\":\"surface\",\"colorbar\":{\"outlinewidth\":0,\"ticks\":\"\"},\"colorscale\":[[0.0,\"#0d0887\"],[0.1111111111111111,\"#46039f\"],[0.2222222222222222,\"#7201a8\"],[0.3333333333333333,\"#9c179e\"],[0.4444444444444444,\"#bd3786\"],[0.5555555555555556,\"#d8576b\"],[0.6666666666666666,\"#ed7953\"],[0.7777777777777778,\"#fb9f3a\"],[0.8888888888888888,\"#fdca26\"],[1.0,\"#f0f921\"]]}],\"mesh3d\":[{\"type\":\"mesh3d\",\"colorbar\":{\"outlinewidth\":0,\"ticks\":\"\"}}],\"scatter\":[{\"fillpattern\":{\"fillmode\":\"overlay\",\"size\":10,\"solidity\":0.2},\"type\":\"scatter\"}],\"parcoords\":[{\"type\":\"parcoords\",\"line\":{\"colorbar\":{\"outlinewidth\":0,\"ticks\":\"\"}}}],\"scatterpolargl\":[{\"type\":\"scatterpolargl\",\"marker\":{\"colorbar\":{\"outlinewidth\":0,\"ticks\":\"\"}}}],\"bar\":[{\"error_x\":{\"color\":\"#2a3f5f\"},\"error_y\":{\"color\":\"#2a3f5f\"},\"marker\":{\"line\":{\"color\":\"#E5ECF6\",\"width\":0.5},\"pattern\":{\"fillmode\":\"overlay\",\"size\":10,\"solidity\":0.2}},\"type\":\"bar\"}],\"scattergeo\":[{\"type\":\"scattergeo\",\"marker\":{\"colorbar\":{\"outlinewidth\":0,\"ticks\":\"\"}}}],\"scatterpolar\":[{\"type\":\"scatterpolar\",\"marker\":{\"colorbar\":{\"outlinewidth\":0,\"ticks\":\"\"}}}],\"histogram\":[{\"marker\":{\"pattern\":{\"fillmode\":\"overlay\",\"size\":10,\"solidity\":0.2}},\"type\":\"histogram\"}],\"scattergl\":[{\"type\":\"scattergl\",\"marker\":{\"colorbar\":{\"outlinewidth\":0,\"ticks\":\"\"}}}],\"scatter3d\":[{\"type\":\"scatter3d\",\"line\":{\"colorbar\":{\"outlinewidth\":0,\"ticks\":\"\"}},\"marker\":{\"colorbar\":{\"outlinewidth\":0,\"ticks\":\"\"}}}],\"scattermapbox\":[{\"type\":\"scattermapbox\",\"marker\":{\"colorbar\":{\"outlinewidth\":0,\"ticks\":\"\"}}}],\"scatterternary\":[{\"type\":\"scatterternary\",\"marker\":{\"colorbar\":{\"outlinewidth\":0,\"ticks\":\"\"}}}],\"scattercarpet\":[{\"type\":\"scattercarpet\",\"marker\":{\"colorbar\":{\"outlinewidth\":0,\"ticks\":\"\"}}}],\"carpet\":[{\"aaxis\":{\"endlinecolor\":\"#2a3f5f\",\"gridcolor\":\"white\",\"linecolor\":\"white\",\"minorgridcolor\":\"white\",\"startlinecolor\":\"#2a3f5f\"},\"baxis\":{\"endlinecolor\":\"#2a3f5f\",\"gridcolor\":\"white\",\"linecolor\":\"white\",\"minorgridcolor\":\"white\",\"startlinecolor\":\"#2a3f5f\"},\"type\":\"carpet\"}],\"table\":[{\"cells\":{\"fill\":{\"color\":\"#EBF0F8\"},\"line\":{\"color\":\"white\"}},\"header\":{\"fill\":{\"color\":\"#C8D4E3\"},\"line\":{\"color\":\"white\"}},\"type\":\"table\"}],\"barpolar\":[{\"marker\":{\"line\":{\"color\":\"#E5ECF6\",\"width\":0.5},\"pattern\":{\"fillmode\":\"overlay\",\"size\":10,\"solidity\":0.2}},\"type\":\"barpolar\"}],\"pie\":[{\"automargin\":true,\"type\":\"pie\"}]},\"layout\":{\"autotypenumbers\":\"strict\",\"colorway\":[\"#636efa\",\"#EF553B\",\"#00cc96\",\"#ab63fa\",\"#FFA15A\",\"#19d3f3\",\"#FF6692\",\"#B6E880\",\"#FF97FF\",\"#FECB52\"],\"font\":{\"color\":\"#2a3f5f\"},\"hovermode\":\"closest\",\"hoverlabel\":{\"align\":\"left\"},\"paper_bgcolor\":\"white\",\"plot_bgcolor\":\"#E5ECF6\",\"polar\":{\"bgcolor\":\"#E5ECF6\",\"angularaxis\":{\"gridcolor\":\"white\",\"linecolor\":\"white\",\"ticks\":\"\"},\"radialaxis\":{\"gridcolor\":\"white\",\"linecolor\":\"white\",\"ticks\":\"\"}},\"ternary\":{\"bgcolor\":\"#E5ECF6\",\"aaxis\":{\"gridcolor\":\"white\",\"linecolor\":\"white\",\"ticks\":\"\"},\"baxis\":{\"gridcolor\":\"white\",\"linecolor\":\"white\",\"ticks\":\"\"},\"caxis\":{\"gridcolor\":\"white\",\"linecolor\":\"white\",\"ticks\":\"\"}},\"coloraxis\":{\"colorbar\":{\"outlinewidth\":0,\"ticks\":\"\"}},\"colorscale\":{\"sequential\":[[0.0,\"#0d0887\"],[0.1111111111111111,\"#46039f\"],[0.2222222222222222,\"#7201a8\"],[0.3333333333333333,\"#9c179e\"],[0.4444444444444444,\"#bd3786\"],[0.5555555555555556,\"#d8576b\"],[0.6666666666666666,\"#ed7953\"],[0.7777777777777778,\"#fb9f3a\"],[0.8888888888888888,\"#fdca26\"],[1.0,\"#f0f921\"]],\"sequentialminus\":[[0.0,\"#0d0887\"],[0.1111111111111111,\"#46039f\"],[0.2222222222222222,\"#7201a8\"],[0.3333333333333333,\"#9c179e\"],[0.4444444444444444,\"#bd3786\"],[0.5555555555555556,\"#d8576b\"],[0.6666666666666666,\"#ed7953\"],[0.7777777777777778,\"#fb9f3a\"],[0.8888888888888888,\"#fdca26\"],[1.0,\"#f0f921\"]],\"diverging\":[[0,\"#8e0152\"],[0.1,\"#c51b7d\"],[0.2,\"#de77ae\"],[0.3,\"#f1b6da\"],[0.4,\"#fde0ef\"],[0.5,\"#f7f7f7\"],[0.6,\"#e6f5d0\"],[0.7,\"#b8e186\"],[0.8,\"#7fbc41\"],[0.9,\"#4d9221\"],[1,\"#276419\"]]},\"xaxis\":{\"gridcolor\":\"white\",\"linecolor\":\"white\",\"ticks\":\"\",\"title\":{\"standoff\":15},\"zerolinecolor\":\"white\",\"automargin\":true,\"zerolinewidth\":2},\"yaxis\":{\"gridcolor\":\"white\",\"linecolor\":\"white\",\"ticks\":\"\",\"title\":{\"standoff\":15},\"zerolinecolor\":\"white\",\"automargin\":true,\"zerolinewidth\":2},\"scene\":{\"xaxis\":{\"backgroundcolor\":\"#E5ECF6\",\"gridcolor\":\"white\",\"linecolor\":\"white\",\"showbackground\":true,\"ticks\":\"\",\"zerolinecolor\":\"white\",\"gridwidth\":2},\"yaxis\":{\"backgroundcolor\":\"#E5ECF6\",\"gridcolor\":\"white\",\"linecolor\":\"white\",\"showbackground\":true,\"ticks\":\"\",\"zerolinecolor\":\"white\",\"gridwidth\":2},\"zaxis\":{\"backgroundcolor\":\"#E5ECF6\",\"gridcolor\":\"white\",\"linecolor\":\"white\",\"showbackground\":true,\"ticks\":\"\",\"zerolinecolor\":\"white\",\"gridwidth\":2}},\"shapedefaults\":{\"line\":{\"color\":\"#2a3f5f\"}},\"annotationdefaults\":{\"arrowcolor\":\"#2a3f5f\",\"arrowhead\":0,\"arrowwidth\":1},\"geo\":{\"bgcolor\":\"white\",\"landcolor\":\"#E5ECF6\",\"subunitcolor\":\"white\",\"showland\":true,\"showlakes\":true,\"lakecolor\":\"white\"},\"title\":{\"x\":0.05},\"mapbox\":{\"style\":\"light\"}}},\"xaxis\":{\"anchor\":\"y\",\"domain\":[0.0,1.0],\"title\":{\"text\":\"Location\"}},\"yaxis\":{\"anchor\":\"x\",\"domain\":[0.0,1.0],\"title\":{\"text\":\"Time on Site\"}},\"legend\":{\"tracegroupgap\":0},\"title\":{\"text\":\"Average Time on Site by Location\"},\"barmode\":\"relative\"},                        {\"responsive\": true}                    ).then(function(){\n",
              "                            \n",
              "var gd = document.getElementById('f8aa5a76-df9c-4e9f-a1d1-ac6a845927eb');\n",
              "var x = new MutationObserver(function (mutations, observer) {{\n",
              "        var display = window.getComputedStyle(gd).display;\n",
              "        if (!display || display === 'none') {{\n",
              "            console.log([gd, 'removed!']);\n",
              "            Plotly.purge(gd);\n",
              "            observer.disconnect();\n",
              "        }}\n",
              "}});\n",
              "\n",
              "// Listen for the removal of the full notebook cells\n",
              "var notebookContainer = gd.closest('#notebook-container');\n",
              "if (notebookContainer) {{\n",
              "    x.observe(notebookContainer, {childList: true});\n",
              "}}\n",
              "\n",
              "// Listen for the clearing of the current output cell\n",
              "var outputEl = gd.closest('.output');\n",
              "if (outputEl) {{\n",
              "    x.observe(outputEl, {childList: true});\n",
              "}}\n",
              "\n",
              "                        })                };                            </script>        </div>\n",
              "</body>\n",
              "</html>"
            ]
          },
          "metadata": {}
        }
      ]
    },
    {
      "cell_type": "markdown",
      "source": [
        "**What is the relationship between browsing history and annual income?**"
      ],
      "metadata": {
        "id": "ej5191godNDJ"
      }
    },
    {
      "cell_type": "code",
      "source": [
        "fig = px.scatter(df_no_outliers, x='Annual Income', y='Browsing History', title='Browsing History vs Annual Income', width=1500)\n",
        "fig.show()"
      ],
      "metadata": {
        "execution": {
          "iopub.status.busy": "2024-10-03T09:17:46.622826Z",
          "iopub.execute_input": "2024-10-03T09:17:46.623197Z",
          "iopub.status.idle": "2024-10-03T09:17:46.696023Z",
          "shell.execute_reply.started": "2024-10-03T09:17:46.623157Z",
          "shell.execute_reply": "2024-10-03T09:17:46.69489Z"
        },
        "trusted": true,
        "colab": {
          "base_uri": "https://localhost:8080/",
          "height": 562
        },
        "id": "_hcGbJXAdNDK",
        "outputId": "ab22ff8d-6286-4c7f-fb34-1df7db4d1cef"
      },
      "execution_count": 25,
      "outputs": [
        {
          "output_type": "display_data",
          "data": {
            "text/html": [
              "<html>\n",
              "<head><meta charset=\"utf-8\" /></head>\n",
              "<body>\n",
              "    <div>            <script src=\"https://cdnjs.cloudflare.com/ajax/libs/mathjax/2.7.5/MathJax.js?config=TeX-AMS-MML_SVG\"></script><script type=\"text/javascript\">if (window.MathJax && window.MathJax.Hub && window.MathJax.Hub.Config) {window.MathJax.Hub.Config({SVG: {font: \"STIX-Web\"}});}</script>                <script type=\"text/javascript\">window.PlotlyConfig = {MathJaxConfig: 'local'};</script>\n",
              "        <script charset=\"utf-8\" src=\"https://cdn.plot.ly/plotly-2.35.2.min.js\"></script>                <div id=\"4c2d8b33-3973-478f-8185-313772984ad7\" class=\"plotly-graph-div\" style=\"height:525px; width:1500px;\"></div>            <script type=\"text/javascript\">                                    window.PLOTLYENV=window.PLOTLYENV || {};                                    if (document.getElementById(\"4c2d8b33-3973-478f-8185-313772984ad7\")) {                    Plotly.newPlot(                        \"4c2d8b33-3973-478f-8185-313772984ad7\",                        [{\"hovertemplate\":\"Annual Income=%{x}\\u003cbr\\u003eBrowsing History=%{y}\\u003cextra\\u003e\\u003c\\u002fextra\\u003e\",\"legendgroup\":\"\",\"marker\":{\"color\":\"#636efa\",\"symbol\":\"circle\"},\"mode\":\"markers\",\"name\":\"\",\"orientation\":\"h\",\"showlegend\":false,\"x\":[45000,52000,65000,70000,45000,90000,60000,75000,85000,55000,80000,40000,75000,50000,80000,45000,90000,65000,70000,85000,55000,75000,40000,95000,45000,50000,80000,60000,70000,45000,90000,65000,85000,40000,75000,55000,95000,68000,65000,60000,75000,55000,65000,80000,50000,100000,45000,55000,87000,42000],\"xaxis\":\"x\",\"y\":[\"[{\\\"Timestamp\\\": \\\"2022-03-10T14:30:00Z\\\"}, {\\\"Timestamp\\\": \\\"2022-03-11T09:45:00Z\\\"}, {\\\"Timestamp\\\": \\\"2022-03-12T16:20:00Z\\\"}]\",\"[{\\\"Product Category\\\": \\\"Home & Garden\\\", \\\"Timestamp\\\": \\\"2022-05-12T13:30:00Z\\\"}, {\\\"Product Category\\\": \\\"Electronics\\\", \\\"Timestamp\\\": \\\"2022-06-05T08:45:00Z\\\"}]\",\"[{\\\"Product Category\\\": \\\"Clothing\\\", \\\"Timestamp\\\": \\\"2022-09-03 15:30:00\\\"}, {\\\"Product Category\\\": \\\"Electronics\\\", \\\"Timestamp\\\": \\\"2022-09-01 10:15:00\\\"}]\",\"{'Timestamp': '2022-09-03 14:30:00'}\",\"{'Timestamp': '2022-08-10 17:15:00'}\",\"{'Timestamp': '2022-06-25 10:45:00'}\",\"{'Timestamp': '2022-08-15 13:20:00'}\",\"{'Timestamp': '2022-09-12 16:35:00'}\",\"{'Timestamp': '2022-06-28 09:00:00'}\",\"{'Timestamp': '2022-08-17 14:50:00'}\",\"{'Timestamp': '2022-06-30 11:15:00'}\",\"{'Timestamp': '2022-09-14 10:00:00'}\",\"{'Timestamp': '2022-03-06 14:30:00'}\",\"{'Timestamp': '2022-05-12 16:15:00'}\",\"{'Timestamp': '2022-06-03 10:45:00'}\",\"{'Timestamp': '2022-07-08 13:00:00'}\",\"{'Timestamp': '2022-08-04 09:30:00'}\",\"{'Timestamp': '2022-09-02 11:15:00'}\",\"{'Timestamp': '2022-10-07 14:45:00'}\",\"{'Timestamp': '2022-11-02 10:30:00'}\",\"{'Timestamp': '2022-12-06 12:00:00'}\",\"{'Timestamp': '2022-12-21 15:30:00'}\",\"{'Timestamp': '2023-01-11 08:45:00'}\",\"{'Timestamp': '2023-02-06 13:15:00'}\",\"[{\\\"Timestamp\\\": \\\"2022-08-20T14:30:00Z\\\"}, {\\\"Timestamp\\\": \\\"2022-08-22T16:45:00Z\\\"}, {\\\"Timestamp\\\": \\\"2022-09-03T10:20:00Z\\\"}]\",\"{'Timestamp': '2022-04-20T14:30:00Z'}\",\"{'Timestamp': '2022-05-25T17:45:00Z'}\",\"{'Timestamp': '2022-06-01T09:15:00Z'}\",\"{'Timestamp': '2022-05-22T10:30:00Z'}\",\"{'Timestamp': '2022-05-30T13:45:00Z'}\",\"{'Timestamp': '2022-06-06T08:00:00Z'}\",\"{'Timestamp': '2022-06-15T11:30:00Z'}\",\"{'Timestamp': '2022-05-28T15:15:00Z'}\",\"{'Timestamp': '2022-05-31T16:45:00Z'}\",\"{'Timestamp': '2022-05-29T10:30:00Z'}\",\"{'Timestamp': '2022-06-13T13:00:00Z'}\",\"{'Timestamp': '2022-05-26T11:15:00Z'}\",\"{'Timestamp': '2022-06-08T14:30:00Z'}\",\"[{\\\"Product Category\\\": \\\"Home & Garden\\\", \\\"Timestamp\\\": \\\"2022-09-01T14:30:00Z\\\"}, {\\\"Product Category\\\": \\\"Clothing\\\", \\\"Timestamp\\\": \\\"2022-08-25T12:15:00Z\\\"}]\",\"[{\\\"Product Category\\\": \\\"Home & Garden\\\", \\\"Timestamp\\\": \\\"2022-04-03T15:30:00Z\\\"}, {\\\"Product Category\\\": \\\"Electronics\\\", \\\"Timestamp\\\": \\\"2022-03-28T08:45:00Z\\\"}]\",\"[{\\\"Product Category\\\": \\\"Electronics\\\", \\\"Timestamp\\\": \\\"2022-03-01T10:15:00Z\\\"}, {\\\"Product Category\\\": \\\"Clothing\\\", \\\"Timestamp\\\": \\\"2022-02-15T16:30:00Z\\\"}]\",\"[{\\\"Product Category\\\": \\\"Home & Garden\\\", \\\"Timestamp\\\": \\\"2022-02-20T12:34:56Z\\\"}]\",\"[{\\\"Product Category\\\": \\\"Home & Garden\\\", \\\"Timestamp\\\": \\\"2022-06-15T12:34:56Z\\\"}, {\\\"Product Category\\\": \\\"Electronics\\\", \\\"Timestamp\\\": \\\"2022-05-20T16:17:23Z\\\"}]\",\"[{\\\"Product Category\\\": \\\"Clothing\\\", \\\"Timestamp\\\": \\\"2022-07-10T09:15:32Z\\\"}, {\\\"Product Category\\\": \\\"Electronics\\\", \\\"Timestamp\\\": \\\"2022-06-25T14:46:01Z\\\"}]\",\"[{\\\"Product Category\\\": \\\"Home & Garden\\\", \\\"Timestamp\\\": \\\"2022-06-27T10:30:11Z\\\"}, {\\\"Product Category\\\": \\\"Electronics\\\", \\\"Timestamp\\\": \\\"2022-05-30T13:02:45Z\\\"}]\",\"[{\\\"Product Category\\\": \\\"Electronics\\\", \\\"Timestamp\\\": \\\"2022-07-12T11:45:06Z\\\"}, {\\\"Product Category\\\": \\\"Clothing\\\", \\\"Timestamp\\\": \\\"2022-06-30T16:23:30Z\\\"}]\",\"[{\\\"Product Category\\\": \\\"Clothing\\\", \\\"Timestamp\\\": \\\"2022-06-05T08:00:23Z\\\"}, {\\\"Product Category\\\": \\\"Electronics\\\", \\\"Timestamp\\\": \\\"2022-05-28T14:30:56Z\\\"}]\",\"[{\\\"Timestamp\\\": \\\"2022-08-14T09:30:00Z\\\"},{\\\"Timestamp\\\": \\\"2022-07-25T14:15:00Z\\\"},{\\\"Timestamp\\\": \\\"2022-06-01T10:45:00Z\\\"}]\",\"[{\\\"Timestamp\\\": \\\"2022-08-12T16:00:00Z\\\"},{\\\"Timestamp\\\": \\\"2022-07-27T08:30:00Z\\\"},{\\\"Timestamp\\\": \\\"2022-06-03T11:00:00Z\\\"}]\",\"[{\\\"Timestamp\\\": \\\"2022-08-13T13:45:00Z\\\"},{\\\"Timestamp\\\": \\\"2022-07-26T07:00:00Z\\\"},{\\\"Timestamp\\\": \\\"2022-06-02T15:30:00Z\\\"}]\"],\"yaxis\":\"y\",\"type\":\"scatter\"}],                        {\"template\":{\"data\":{\"histogram2dcontour\":[{\"type\":\"histogram2dcontour\",\"colorbar\":{\"outlinewidth\":0,\"ticks\":\"\"},\"colorscale\":[[0.0,\"#0d0887\"],[0.1111111111111111,\"#46039f\"],[0.2222222222222222,\"#7201a8\"],[0.3333333333333333,\"#9c179e\"],[0.4444444444444444,\"#bd3786\"],[0.5555555555555556,\"#d8576b\"],[0.6666666666666666,\"#ed7953\"],[0.7777777777777778,\"#fb9f3a\"],[0.8888888888888888,\"#fdca26\"],[1.0,\"#f0f921\"]]}],\"choropleth\":[{\"type\":\"choropleth\",\"colorbar\":{\"outlinewidth\":0,\"ticks\":\"\"}}],\"histogram2d\":[{\"type\":\"histogram2d\",\"colorbar\":{\"outlinewidth\":0,\"ticks\":\"\"},\"colorscale\":[[0.0,\"#0d0887\"],[0.1111111111111111,\"#46039f\"],[0.2222222222222222,\"#7201a8\"],[0.3333333333333333,\"#9c179e\"],[0.4444444444444444,\"#bd3786\"],[0.5555555555555556,\"#d8576b\"],[0.6666666666666666,\"#ed7953\"],[0.7777777777777778,\"#fb9f3a\"],[0.8888888888888888,\"#fdca26\"],[1.0,\"#f0f921\"]]}],\"heatmap\":[{\"type\":\"heatmap\",\"colorbar\":{\"outlinewidth\":0,\"ticks\":\"\"},\"colorscale\":[[0.0,\"#0d0887\"],[0.1111111111111111,\"#46039f\"],[0.2222222222222222,\"#7201a8\"],[0.3333333333333333,\"#9c179e\"],[0.4444444444444444,\"#bd3786\"],[0.5555555555555556,\"#d8576b\"],[0.6666666666666666,\"#ed7953\"],[0.7777777777777778,\"#fb9f3a\"],[0.8888888888888888,\"#fdca26\"],[1.0,\"#f0f921\"]]}],\"heatmapgl\":[{\"type\":\"heatmapgl\",\"colorbar\":{\"outlinewidth\":0,\"ticks\":\"\"},\"colorscale\":[[0.0,\"#0d0887\"],[0.1111111111111111,\"#46039f\"],[0.2222222222222222,\"#7201a8\"],[0.3333333333333333,\"#9c179e\"],[0.4444444444444444,\"#bd3786\"],[0.5555555555555556,\"#d8576b\"],[0.6666666666666666,\"#ed7953\"],[0.7777777777777778,\"#fb9f3a\"],[0.8888888888888888,\"#fdca26\"],[1.0,\"#f0f921\"]]}],\"contourcarpet\":[{\"type\":\"contourcarpet\",\"colorbar\":{\"outlinewidth\":0,\"ticks\":\"\"}}],\"contour\":[{\"type\":\"contour\",\"colorbar\":{\"outlinewidth\":0,\"ticks\":\"\"},\"colorscale\":[[0.0,\"#0d0887\"],[0.1111111111111111,\"#46039f\"],[0.2222222222222222,\"#7201a8\"],[0.3333333333333333,\"#9c179e\"],[0.4444444444444444,\"#bd3786\"],[0.5555555555555556,\"#d8576b\"],[0.6666666666666666,\"#ed7953\"],[0.7777777777777778,\"#fb9f3a\"],[0.8888888888888888,\"#fdca26\"],[1.0,\"#f0f921\"]]}],\"surface\":[{\"type\":\"surface\",\"colorbar\":{\"outlinewidth\":0,\"ticks\":\"\"},\"colorscale\":[[0.0,\"#0d0887\"],[0.1111111111111111,\"#46039f\"],[0.2222222222222222,\"#7201a8\"],[0.3333333333333333,\"#9c179e\"],[0.4444444444444444,\"#bd3786\"],[0.5555555555555556,\"#d8576b\"],[0.6666666666666666,\"#ed7953\"],[0.7777777777777778,\"#fb9f3a\"],[0.8888888888888888,\"#fdca26\"],[1.0,\"#f0f921\"]]}],\"mesh3d\":[{\"type\":\"mesh3d\",\"colorbar\":{\"outlinewidth\":0,\"ticks\":\"\"}}],\"scatter\":[{\"fillpattern\":{\"fillmode\":\"overlay\",\"size\":10,\"solidity\":0.2},\"type\":\"scatter\"}],\"parcoords\":[{\"type\":\"parcoords\",\"line\":{\"colorbar\":{\"outlinewidth\":0,\"ticks\":\"\"}}}],\"scatterpolargl\":[{\"type\":\"scatterpolargl\",\"marker\":{\"colorbar\":{\"outlinewidth\":0,\"ticks\":\"\"}}}],\"bar\":[{\"error_x\":{\"color\":\"#2a3f5f\"},\"error_y\":{\"color\":\"#2a3f5f\"},\"marker\":{\"line\":{\"color\":\"#E5ECF6\",\"width\":0.5},\"pattern\":{\"fillmode\":\"overlay\",\"size\":10,\"solidity\":0.2}},\"type\":\"bar\"}],\"scattergeo\":[{\"type\":\"scattergeo\",\"marker\":{\"colorbar\":{\"outlinewidth\":0,\"ticks\":\"\"}}}],\"scatterpolar\":[{\"type\":\"scatterpolar\",\"marker\":{\"colorbar\":{\"outlinewidth\":0,\"ticks\":\"\"}}}],\"histogram\":[{\"marker\":{\"pattern\":{\"fillmode\":\"overlay\",\"size\":10,\"solidity\":0.2}},\"type\":\"histogram\"}],\"scattergl\":[{\"type\":\"scattergl\",\"marker\":{\"colorbar\":{\"outlinewidth\":0,\"ticks\":\"\"}}}],\"scatter3d\":[{\"type\":\"scatter3d\",\"line\":{\"colorbar\":{\"outlinewidth\":0,\"ticks\":\"\"}},\"marker\":{\"colorbar\":{\"outlinewidth\":0,\"ticks\":\"\"}}}],\"scattermapbox\":[{\"type\":\"scattermapbox\",\"marker\":{\"colorbar\":{\"outlinewidth\":0,\"ticks\":\"\"}}}],\"scatterternary\":[{\"type\":\"scatterternary\",\"marker\":{\"colorbar\":{\"outlinewidth\":0,\"ticks\":\"\"}}}],\"scattercarpet\":[{\"type\":\"scattercarpet\",\"marker\":{\"colorbar\":{\"outlinewidth\":0,\"ticks\":\"\"}}}],\"carpet\":[{\"aaxis\":{\"endlinecolor\":\"#2a3f5f\",\"gridcolor\":\"white\",\"linecolor\":\"white\",\"minorgridcolor\":\"white\",\"startlinecolor\":\"#2a3f5f\"},\"baxis\":{\"endlinecolor\":\"#2a3f5f\",\"gridcolor\":\"white\",\"linecolor\":\"white\",\"minorgridcolor\":\"white\",\"startlinecolor\":\"#2a3f5f\"},\"type\":\"carpet\"}],\"table\":[{\"cells\":{\"fill\":{\"color\":\"#EBF0F8\"},\"line\":{\"color\":\"white\"}},\"header\":{\"fill\":{\"color\":\"#C8D4E3\"},\"line\":{\"color\":\"white\"}},\"type\":\"table\"}],\"barpolar\":[{\"marker\":{\"line\":{\"color\":\"#E5ECF6\",\"width\":0.5},\"pattern\":{\"fillmode\":\"overlay\",\"size\":10,\"solidity\":0.2}},\"type\":\"barpolar\"}],\"pie\":[{\"automargin\":true,\"type\":\"pie\"}]},\"layout\":{\"autotypenumbers\":\"strict\",\"colorway\":[\"#636efa\",\"#EF553B\",\"#00cc96\",\"#ab63fa\",\"#FFA15A\",\"#19d3f3\",\"#FF6692\",\"#B6E880\",\"#FF97FF\",\"#FECB52\"],\"font\":{\"color\":\"#2a3f5f\"},\"hovermode\":\"closest\",\"hoverlabel\":{\"align\":\"left\"},\"paper_bgcolor\":\"white\",\"plot_bgcolor\":\"#E5ECF6\",\"polar\":{\"bgcolor\":\"#E5ECF6\",\"angularaxis\":{\"gridcolor\":\"white\",\"linecolor\":\"white\",\"ticks\":\"\"},\"radialaxis\":{\"gridcolor\":\"white\",\"linecolor\":\"white\",\"ticks\":\"\"}},\"ternary\":{\"bgcolor\":\"#E5ECF6\",\"aaxis\":{\"gridcolor\":\"white\",\"linecolor\":\"white\",\"ticks\":\"\"},\"baxis\":{\"gridcolor\":\"white\",\"linecolor\":\"white\",\"ticks\":\"\"},\"caxis\":{\"gridcolor\":\"white\",\"linecolor\":\"white\",\"ticks\":\"\"}},\"coloraxis\":{\"colorbar\":{\"outlinewidth\":0,\"ticks\":\"\"}},\"colorscale\":{\"sequential\":[[0.0,\"#0d0887\"],[0.1111111111111111,\"#46039f\"],[0.2222222222222222,\"#7201a8\"],[0.3333333333333333,\"#9c179e\"],[0.4444444444444444,\"#bd3786\"],[0.5555555555555556,\"#d8576b\"],[0.6666666666666666,\"#ed7953\"],[0.7777777777777778,\"#fb9f3a\"],[0.8888888888888888,\"#fdca26\"],[1.0,\"#f0f921\"]],\"sequentialminus\":[[0.0,\"#0d0887\"],[0.1111111111111111,\"#46039f\"],[0.2222222222222222,\"#7201a8\"],[0.3333333333333333,\"#9c179e\"],[0.4444444444444444,\"#bd3786\"],[0.5555555555555556,\"#d8576b\"],[0.6666666666666666,\"#ed7953\"],[0.7777777777777778,\"#fb9f3a\"],[0.8888888888888888,\"#fdca26\"],[1.0,\"#f0f921\"]],\"diverging\":[[0,\"#8e0152\"],[0.1,\"#c51b7d\"],[0.2,\"#de77ae\"],[0.3,\"#f1b6da\"],[0.4,\"#fde0ef\"],[0.5,\"#f7f7f7\"],[0.6,\"#e6f5d0\"],[0.7,\"#b8e186\"],[0.8,\"#7fbc41\"],[0.9,\"#4d9221\"],[1,\"#276419\"]]},\"xaxis\":{\"gridcolor\":\"white\",\"linecolor\":\"white\",\"ticks\":\"\",\"title\":{\"standoff\":15},\"zerolinecolor\":\"white\",\"automargin\":true,\"zerolinewidth\":2},\"yaxis\":{\"gridcolor\":\"white\",\"linecolor\":\"white\",\"ticks\":\"\",\"title\":{\"standoff\":15},\"zerolinecolor\":\"white\",\"automargin\":true,\"zerolinewidth\":2},\"scene\":{\"xaxis\":{\"backgroundcolor\":\"#E5ECF6\",\"gridcolor\":\"white\",\"linecolor\":\"white\",\"showbackground\":true,\"ticks\":\"\",\"zerolinecolor\":\"white\",\"gridwidth\":2},\"yaxis\":{\"backgroundcolor\":\"#E5ECF6\",\"gridcolor\":\"white\",\"linecolor\":\"white\",\"showbackground\":true,\"ticks\":\"\",\"zerolinecolor\":\"white\",\"gridwidth\":2},\"zaxis\":{\"backgroundcolor\":\"#E5ECF6\",\"gridcolor\":\"white\",\"linecolor\":\"white\",\"showbackground\":true,\"ticks\":\"\",\"zerolinecolor\":\"white\",\"gridwidth\":2}},\"shapedefaults\":{\"line\":{\"color\":\"#2a3f5f\"}},\"annotationdefaults\":{\"arrowcolor\":\"#2a3f5f\",\"arrowhead\":0,\"arrowwidth\":1},\"geo\":{\"bgcolor\":\"white\",\"landcolor\":\"#E5ECF6\",\"subunitcolor\":\"white\",\"showland\":true,\"showlakes\":true,\"lakecolor\":\"white\"},\"title\":{\"x\":0.05},\"mapbox\":{\"style\":\"light\"}}},\"xaxis\":{\"anchor\":\"y\",\"domain\":[0.0,1.0],\"title\":{\"text\":\"Annual Income\"}},\"yaxis\":{\"anchor\":\"x\",\"domain\":[0.0,1.0],\"title\":{\"text\":\"Browsing History\"}},\"legend\":{\"tracegroupgap\":0},\"title\":{\"text\":\"Browsing History vs Annual Income\"},\"width\":1500},                        {\"responsive\": true}                    ).then(function(){\n",
              "                            \n",
              "var gd = document.getElementById('4c2d8b33-3973-478f-8185-313772984ad7');\n",
              "var x = new MutationObserver(function (mutations, observer) {{\n",
              "        var display = window.getComputedStyle(gd).display;\n",
              "        if (!display || display === 'none') {{\n",
              "            console.log([gd, 'removed!']);\n",
              "            Plotly.purge(gd);\n",
              "            observer.disconnect();\n",
              "        }}\n",
              "}});\n",
              "\n",
              "// Listen for the removal of the full notebook cells\n",
              "var notebookContainer = gd.closest('#notebook-container');\n",
              "if (notebookContainer) {{\n",
              "    x.observe(notebookContainer, {childList: true});\n",
              "}}\n",
              "\n",
              "// Listen for the clearing of the current output cell\n",
              "var outputEl = gd.closest('.output');\n",
              "if (outputEl) {{\n",
              "    x.observe(outputEl, {childList: true});\n",
              "}}\n",
              "\n",
              "                        })                };                            </script>        </div>\n",
              "</body>\n",
              "</html>"
            ]
          },
          "metadata": {}
        }
      ]
    },
    {
      "cell_type": "markdown",
      "source": [
        "**How does the number of reviews given affect purchase history?**"
      ],
      "metadata": {
        "id": "4brTk9EBdNDK"
      }
    },
    {
      "cell_type": "code",
      "source": [
        "fig = px.scatter(df_no_outliers, x='Product Reviews', y='Purchase History', title='Product Reviews vs Purchase History', width=2500, height=1500)\n",
        "fig.show()"
      ],
      "metadata": {
        "execution": {
          "iopub.status.busy": "2024-10-03T09:17:46.697447Z",
          "iopub.execute_input": "2024-10-03T09:17:46.697816Z",
          "iopub.status.idle": "2024-10-03T09:17:46.771514Z",
          "shell.execute_reply.started": "2024-10-03T09:17:46.697776Z",
          "shell.execute_reply": "2024-10-03T09:17:46.770279Z"
        },
        "trusted": true,
        "colab": {
          "base_uri": "https://localhost:8080/",
          "height": 1000
        },
        "id": "nCxxBc6jdNDK",
        "outputId": "e828b8e4-afad-4c47-f794-acebca8addcc"
      },
      "execution_count": 26,
      "outputs": [
        {
          "output_type": "display_data",
          "data": {
            "text/html": [
              "<html>\n",
              "<head><meta charset=\"utf-8\" /></head>\n",
              "<body>\n",
              "    <div>            <script src=\"https://cdnjs.cloudflare.com/ajax/libs/mathjax/2.7.5/MathJax.js?config=TeX-AMS-MML_SVG\"></script><script type=\"text/javascript\">if (window.MathJax && window.MathJax.Hub && window.MathJax.Hub.Config) {window.MathJax.Hub.Config({SVG: {font: \"STIX-Web\"}});}</script>                <script type=\"text/javascript\">window.PlotlyConfig = {MathJaxConfig: 'local'};</script>\n",
              "        <script charset=\"utf-8\" src=\"https://cdn.plot.ly/plotly-2.35.2.min.js\"></script>                <div id=\"a60a0125-96de-46d1-8bf4-54e5d5a49b61\" class=\"plotly-graph-div\" style=\"height:1500px; width:2500px;\"></div>            <script type=\"text/javascript\">                                    window.PLOTLYENV=window.PLOTLYENV || {};                                    if (document.getElementById(\"a60a0125-96de-46d1-8bf4-54e5d5a49b61\")) {                    Plotly.newPlot(                        \"a60a0125-96de-46d1-8bf4-54e5d5a49b61\",                        [{\"hovertemplate\":\"Product Reviews=%{x}\\u003cbr\\u003ePurchase History=%{y}\\u003cextra\\u003e\\u003c\\u002fextra\\u003e\",\"legendgroup\":\"\",\"marker\":{\"color\":\"#636efa\",\"symbol\":\"circle\"},\"mode\":\"markers\",\"name\":\"\",\"orientation\":\"v\",\"showlegend\":false,\"x\":[\"Great pair of jeans, very comfortable. Rating: 4 stars.\",\"Great customer service!\",\"Great electronics. The sound quality is excellent. I would highly recommend this product.\",\"{\\\"Product 1\\\": {\\\"Rating\\\": 4, \\\"Review\\\": \\\"Great experience buying this product. Fast delivery and excellent customer service.\\\"}}\",\"{\\\"Product 1\\\": {\\\"Rating\\\": 3, \\\"Review\\\": \\\"Good product, but could have been better.\\\"}}\",\"{\\\"Product 1\\\": {\\\"Rating\\\": 5, \\\"Review\\\": \\\"Awesome product, highly recommend it to everyone.\\\"}}\",\"{\\\"Product 1\\\": {\\\"Rating\\\": 4, \\\"Review\\\": \\\"Great product, will definitely buy again.\\\"}}\",\"{\\\"Product 1\\\": {\\\"Rating\\\": 3, \\\"Review\\\": \\\"Good product, but not worth the price.\\\"}}\",\"{\\\"Product 1\\\": {\\\"Rating\\\": 5, \\\"Review\\\": \\\"Outstanding product, exceeded my expectations.\\\"}}\",\"{\\\"Product 1\\\": {\\\"Rating\\\": 4, \\\"Review\\\": \\\"Good product, but could have been better.\\\"}}\",\"{\\\"Product 1\\\": {\\\"Rating\\\": 3, \\\"Review\\\": \\\"Good product, but not what I expected.\\\"}}\",\"{\\\"Product 1\\\": {\\\"Rating\\\": 4, \\\"Review\\\": \\\"Great product, will definitely buy again.\\\"}}\",\"{\\\"Review Text\\\": \\\"Great quality clothes!\\\", \\\"Rating\\\": 5}\",\"{\\\"Review Text\\\": \\\"Good product, but could be cheaper.\\\", \\\"Rating\\\": 3}\",\"{\\\"Review Text\\\": \\\"Very satisfied with my purchase!\\\", \\\"Rating\\\": 5}\",\"{\\\"Review Text\\\": \\\"Not what I expected.\\\", \\\"Rating\\\": 2}\",\"{\\\"Review Text\\\": \\\"Excellent product, highly recommend!\\\", \\\"Rating\\\": 5}\",\"{\\\"Review Text\\\": \\\"Awesome purchase!\\\", \\\"Rating\\\": 5}\",\"{\\\"Review Text\\\": \\\"Good product, but not worth the price.\\\", \\\"Rating\\\": 3}\",\"{\\\"Review Text\\\": \\\"Great product, highly recommend!\\\", \\\"Rating\\\": 5}\",\"{\\\"Review Text\\\": \\\"Satisfied with my purchase!\\\", \\\"Rating\\\": 4}\",\"{\\\"Review Text\\\": \\\"Excellent product, highly recommend!\\\", \\\"Rating\\\": 5}\",\"{\\\"Review Text\\\": \\\"Good product, but could be better.\\\", \\\"Rating\\\": 3}\",\"{\\\"Review Text\\\": \\\"Excellent product, highly recommend!\\\", \\\"Rating\\\": 5}\",\"This dress is amazing! I love the color and fit. 5 stars.\",\"The blouse is so comfortable and stylish. 5 stars!\",\"The headphones are great. Sound quality is excellent. 4.5 stars.\",\"The dress fits perfectly. I love it. 5 stars!\",\"The vacuum cleaner works great. 4 stars.\",\"The top is nice, but the size is a bit small. 3.5 stars.\",\"The phone is fantastic. 5 stars!\",\"The shirt is comfortable. 4 stars.\",\"The laptop is excellent. 5 stars!\",\"The shoes are comfortable. 4.5 stars.\",\"The coffee maker is great. 5 stars!\",\"The skirt is lovely. 4.5 stars.\",\"The TV is amazing. 5 stars!\",\"The bedding is comfortable. 4 stars.\",\"Great find! 5 stars\",\"Great product, very happy with my purchase.\",\"The product arrived quickly and in great condition.\",\"Great headphones, sound quality is amazing.\",\"Great purchase! The shoes are so comfortable and stylish. I've received several compliments.\",\"I'm really happy with my new phone. The battery life is impressive.\",\"The headphones are amazing! The sound quality is excellent.\",\"I love my new kitchen gadget! It's so efficient and easy to use.\",\"The laptop is perfect for my needs. It's lightweight and powerful.\",\"The clothing arrived quickly and fits great! 5 stars.\",\"The electronics were excellent quality and arrived promptly. 5 stars.\",\"The electronics were as described and arrived on time. 4 stars.\"],\"xaxis\":\"x\",\"y\":[\"[{\\\"Date\\\": \\\"2022-03-05\\\", \\\"Category\\\": \\\"Clothing\\\", \\\"Price\\\": 34.99}, {\\\"Date\\\": \\\"2022-02-12\\\", \\\"Category\\\": \\\"Electronics\\\", \\\"Price\\\": 129.99}, {\\\"Date\\\": \\\"2022-01-20\\\", \\\"Category\\\": \\\"Home & Garden\\\", \\\"Price\\\": 29.99}]\",\"[{\\\"Product Category\\\": \\\"Clothing\\\", \\\"Purchase Date\\\": \\\"2022-05-15\\\", \\\"Price\\\": 34.56}, {\\\"Product Category\\\": \\\"Electronics\\\", \\\"Purchase Date\\\": \\\"2022-06-02\\\", \\\"Price\\\": 150.99}]\",\"[{\\\"Product Category\\\": \\\"Electronics\\\", \\\"Purchase Date\\\": \\\"2022-08-15\\\", \\\"Price\\\": 345.5}, {\\\"Product Category\\\": \\\"Home & Garden\\\", \\\"Purchase Date\\\": \\\"2022-07-02\\\", \\\"Price\\\": 279.99}]\",\"{'Purchase Date': '2022-08-15', 'Product Category': 'Electronics', 'Price': 200.5},{'Purchase Date': '2022-07-22', 'Product Category': 'Clothing', 'Price': 125.6},{'Purchase Date': '2022-06-01', 'Product Category': 'Home & Garden', 'Price': 300.8},{'Purchase Date': '2022-05-10', 'Product Category': 'Electronics', 'Price': 150.9}\",\"{'Purchase Date': '2022-07-25', 'Product Category': 'Clothing', 'Price': 67.2},{'Purchase Date': '2022-06-08', 'Product Category': 'Home & Garden', 'Price': 250.1},{'Purchase Date': '2022-05-15', 'Product Category': 'Electronics', 'Price': 400.7}\",\"{'Purchase Date': '2022-09-01', 'Product Category': 'Electronics', 'Price': 300.2},{'Purchase Date': '2022-08-12', 'Product Category': 'Clothing', 'Price': 185.3},{'Purchase Date': '2022-07-28', 'Product Category': 'Home & Garden', 'Price': 200.9}\",\"{'Purchase Date': '2022-07-20', 'Product Category': 'Electronics', 'Price': 150.8},{'Purchase Date': '2022-06-05', 'Product Category': 'Clothing', 'Price': 120.6},{'Purchase Date': '2022-05-18', 'Product Category': 'Home & Garden', 'Price': 350.1}\",\"{'Purchase Date': '2022-08-28', 'Product Category': 'Electronics', 'Price': 250.6},{'Purchase Date': '2022-07-15', 'Product Category': 'Clothing', 'Price': 115.7},{'Purchase Date': '2022-06-03', 'Product Category': 'Home & Garden', 'Price': 300.4}\",\"{'Purchase Date': '2022-09-05', 'Product Category': 'Electronics', 'Price': 400.9},{'Purchase Date': '2022-08-18', 'Product Category': 'Clothing', 'Price': 195.3},{'Purchase Date': '2022-07-03', 'Product Category': 'Home & Garden', 'Price': 220.7}\",\"{'Purchase Date': '2022-07-27', 'Product Category': 'Electronics', 'Price': 120.5},{'Purchase Date': '2022-06-12', 'Product Category': 'Clothing', 'Price': 130.6},{'Purchase Date': '2022-05-28', 'Product Category': 'Home & Garden', 'Price': 320.8}\",\"{'Purchase Date': '2022-09-08', 'Product Category': 'Electronics', 'Price': 350.2},{'Purchase Date': '2022-08-23', 'Product Category': 'Clothing', 'Price': 165.3},{'Purchase Date': '2022-07-07', 'Product Category': 'Home & Garden', 'Price': 280.9}\",\"{'Purchase Date': '2022-08-25', 'Product Category': 'Electronics', 'Price': 170.8},{'Purchase Date': '2022-07-09', 'Product Category': 'Clothing', 'Price': 105.6},{'Purchase Date': '2022-06-24', 'Product Category': 'Home & Garden', 'Price': 290.1}\",\"{'Purchase Date': '2022-03-05', 'Product Category': 'Clothing', 'Price': 45.99},{'Purchase Date': '2022-04-12', 'Product Category': 'Home & Garden', 'Price': 120.5}\",\"{'Purchase Date': '2022-02-15', 'Product Category': 'Electronics', 'Price': 250},{'Purchase Date': '2022-05-10', 'Product Category': 'Clothing', 'Price': 34.99}\",\"{'Purchase Date': '2022-01-18', 'Product Category': 'Home & Garden', 'Price': 180},{'Purchase Date': '2022-06-02', 'Product Category': 'Electronics', 'Price': 400}\",\"{'Purchase Date': '2022-04-25', 'Product Category': 'Clothing', 'Price': 29.99},{'Purchase Date': '2022-07-07', 'Product Category': 'Home & Garden', 'Price': 150}\",\"{'Purchase Date': '2022-05-20', 'Product Category': 'Electronics', 'Price': 600},{'Purchase Date': '2022-08-03', 'Product Category': 'Clothing', 'Price': 59.99}\",\"{'Purchase Date': '2022-06-15', 'Product Category': 'Home & Garden', 'Price': 220},{'Purchase Date': '2022-09-01', 'Product Category': 'Electronics', 'Price': 300}\",\"{'Purchase Date': '2022-07-22', 'Product Category': 'Clothing', 'Price': 39.99},{'Purchase Date': '2022-10-06', 'Product Category': 'Home & Garden', 'Price': 190}\",\"{'Purchase Date': '2022-08-08', 'Product Category': 'Electronics', 'Price': 550},{'Purchase Date': '2022-11-01', 'Product Category': 'Clothing', 'Price': 44.99}\",\"{'Purchase Date': '2022-09-20', 'Product Category': 'Home & Garden', 'Price': 200},{'Purchase Date': '2022-12-05', 'Product Category': 'Electronics', 'Price': 350}\",\"{'Purchase Date': '2022-10-15', 'Product Category': 'Clothing', 'Price': 34.99},{'Purchase Date': '2022-12-20', 'Product Category': 'Home & Garden', 'Price': 250}\",\"{'Purchase Date': '2022-11-05', 'Product Category': 'Electronics', 'Price': 150},{'Purchase Date': '2023-01-10', 'Product Category': 'Clothing', 'Price': 29.99}\",\"{'Purchase Date': '2022-12-25', 'Product Category': 'Home & Garden', 'Price': 170},{'Purchase Date': '2023-02-05', 'Product Category': 'Electronics', 'Price': 450}\",\"[{\\\"Purchase Date\\\": \\\"2022-09-15\\\", \\\"Product Category\\\": \\\"Clothing\\\", \\\"Price\\\": 34.5}]\",\"{'Purchase Date': '2022-05-15', 'Product Category': 'Clothing', 'Price': 120},{'Purchase Date': '2022-06-02', 'Product Category': 'Home & Garden', 'Price': 250}\",\"{'Purchase Date': '2022-06-12', 'Product Category': 'Electronics', 'Price': 350}\",\"{'Purchase Date': '2022-05-28', 'Product Category': 'Clothing', 'Price': 75},{'Purchase Date': '2022-06-10', 'Product Category': 'Home & Garden', 'Price': 120}\",\"{'Purchase Date': '2022-05-08', 'Product Category': 'Electronics', 'Price': 200},{'Purchase Date': '2022-06-05', 'Product Category': 'Home & Garden', 'Price': 150}\",\"{'Purchase Date': '2022-05-18', 'Product Category': 'Clothing', 'Price': 50},{'Purchase Date': '2022-06-07', 'Product Category': 'Home & Garden', 'Price': 100}\",\"{'Purchase Date': '2022-05-23', 'Product Category': 'Electronics', 'Price': 400},{'Purchase Date': '2022-06-03', 'Product Category': 'Home & Garden', 'Price': 200}\",\"{'Purchase Date': '2022-05-25', 'Product Category': 'Clothing', 'Price': 100},{'Purchase Date': '2022-06-08', 'Product Category': 'Home & Garden', 'Price': 180}\",\"{'Purchase Date': '2022-05-20', 'Product Category': 'Electronics', 'Price': 300},{'Purchase Date': '2022-06-04', 'Product Category': 'Home & Garden', 'Price': 250}\",\"{'Purchase Date': '2022-05-16', 'Product Category': 'Clothing', 'Price': 60},{'Purchase Date': '2022-06-06', 'Product Category': 'Home & Garden', 'Price': 150}\",\"{'Purchase Date': '2022-05-12', 'Product Category': 'Electronics', 'Price': 250},{'Purchase Date': '2022-06-01', 'Product Category': 'Home & Garden', 'Price': 175}\",\"{'Purchase Date': '2022-05-27', 'Product Category': 'Clothing', 'Price': 80},{'Purchase Date': '2022-06-09', 'Product Category': 'Home & Garden', 'Price': 200}\",\"{'Purchase Date': '2022-05-22', 'Product Category': 'Electronics', 'Price': 350},{'Purchase Date': '2022-06-02', 'Product Category': 'Home & Garden', 'Price': 100}\",\"{'Purchase Date': '2022-05-19', 'Product Category': 'Clothing', 'Price': 120},{'Purchase Date': '2022-06-07', 'Product Category': 'Home & Garden', 'Price': 150}\",\"[{\\\"Product Category\\\": \\\"Clothing\\\", \\\"Purchase Date\\\": \\\"2022-08-15\\\", \\\"Price\\\": 45.23}, {\\\"Product Category\\\": \\\"Electronics\\\", \\\"Purchase Date\\\": \\\"2022-07-20\\\", \\\"Price\\\": 250.34}]\",\"[{\\\"Product Category\\\": \\\"Electronics\\\", \\\"Purchase Date\\\": \\\"2022-03-15\\\", \\\"Price\\\": 250.5}, {\\\"Product Category\\\": \\\"Clothing\\\", \\\"Purchase Date\\\": \\\"2022-02-01\\\", \\\"Price\\\": 125.8}]\",\"[{\\\"Product Category\\\": \\\"Clothing\\\", \\\"Purchase Date\\\": \\\"2022-02-20\\\", \\\"Price\\\": 150.2}, {\\\"Product Category\\\": \\\"Home & Garden\\\", \\\"Purchase Date\\\": \\\"2022-01-12\\\", \\\"Price\\\": 450}]\",\"[{\\\"Product Category\\\": \\\"Electronics\\\", \\\"Purchase Date\\\": \\\"2022-03-15\\\", \\\"Price\\\": 249.99}]\",\"[{\\\"Product Category\\\": \\\"Clothing\\\", \\\"Purchase Date\\\": \\\"2022-06-12\\\", \\\"Price\\\": 45.99}, {\\\"Product Category\\\": \\\"Electronics\\\", \\\"Purchase Date\\\": \\\"2022-05-08\\\", \\\"Price\\\": 199.99}]\",\"[{\\\"Product Category\\\": \\\"Electronics\\\", \\\"Purchase Date\\\": \\\"2022-07-03\\\", \\\"Price\\\": 249.99}, {\\\"Product Category\\\": \\\"Home & Garden\\\", \\\"Purchase Date\\\": \\\"2022-06-17\\\", \\\"Price\\\": 129.99}]\",\"[{\\\"Product Category\\\": \\\"Clothing\\\", \\\"Purchase Date\\\": \\\"2022-06-22\\\", \\\"Price\\\": 34.99}, {\\\"Product Category\\\": \\\"Electronics\\\", \\\"Purchase Date\\\": \\\"2022-05-15\\\", \\\"Price\\\": 149.99}]\",\"[{\\\"Product Category\\\": \\\"Clothing\\\", \\\"Purchase Date\\\": \\\"2022-07-08\\\", \\\"Price\\\": 79.99}, {\\\"Product Category\\\": \\\"Home & Garden\\\", \\\"Purchase Date\\\": \\\"2022-06-24\\\", \\\"Price\\\": 399.99}]\",\"[{\\\"Product Category\\\": \\\"Electronics\\\", \\\"Purchase Date\\\": \\\"2022-06-01\\\", \\\"Price\\\": 129.99}, {\\\"Product Category\\\": \\\"Home & Garden\\\", \\\"Purchase Date\\\": \\\"2022-05-18\\\", \\\"Price\\\": 59.99}]\",\"[{\\\"Purchase Date\\\": \\\"2022-07-02\\\",\\\"Product Category\\\": \\\"Clothing\\\",\\\"Price\\\": 25.6},{\\\"Purchase Date\\\": \\\"2022-06-15\\\",\\\"Product Category\\\": \\\"Electronics\\\",\\\"Price\\\": 120},{\\\"Purchase Date\\\": \\\"2022-05-10\\\",\\\"Product Category\\\": \\\"Home & Garden\\\",\\\"Price\\\": 35}]\",\"[{\\\"Purchase Date\\\": \\\"2022-07-08\\\",\\\"Product Category\\\": \\\"Electronics\\\",\\\"Price\\\": 420},{\\\"Purchase Date\\\": \\\"2022-06-23\\\",\\\"Product Category\\\": \\\"Clothing\\\",\\\"Price\\\": 75},{\\\"Purchase Date\\\": \\\"2022-05-12\\\",\\\"Product Category\\\": \\\"Home & Garden\\\",\\\"Price\\\": 200}]\",\"[{\\\"Purchase Date\\\": \\\"2022-07-01\\\",\\\"Product Category\\\": \\\"Electronics\\\",\\\"Price\\\": 180},{\\\"Purchase Date\\\": \\\"2022-06-18\\\",\\\"Product Category\\\": \\\"Clothing\\\",\\\"Price\\\": 50},{\\\"Purchase Date\\\": \\\"2022-05-09\\\",\\\"Product Category\\\": \\\"Home & Garden\\\",\\\"Price\\\": 30}]\"],\"yaxis\":\"y\",\"type\":\"scatter\"}],                        {\"template\":{\"data\":{\"histogram2dcontour\":[{\"type\":\"histogram2dcontour\",\"colorbar\":{\"outlinewidth\":0,\"ticks\":\"\"},\"colorscale\":[[0.0,\"#0d0887\"],[0.1111111111111111,\"#46039f\"],[0.2222222222222222,\"#7201a8\"],[0.3333333333333333,\"#9c179e\"],[0.4444444444444444,\"#bd3786\"],[0.5555555555555556,\"#d8576b\"],[0.6666666666666666,\"#ed7953\"],[0.7777777777777778,\"#fb9f3a\"],[0.8888888888888888,\"#fdca26\"],[1.0,\"#f0f921\"]]}],\"choropleth\":[{\"type\":\"choropleth\",\"colorbar\":{\"outlinewidth\":0,\"ticks\":\"\"}}],\"histogram2d\":[{\"type\":\"histogram2d\",\"colorbar\":{\"outlinewidth\":0,\"ticks\":\"\"},\"colorscale\":[[0.0,\"#0d0887\"],[0.1111111111111111,\"#46039f\"],[0.2222222222222222,\"#7201a8\"],[0.3333333333333333,\"#9c179e\"],[0.4444444444444444,\"#bd3786\"],[0.5555555555555556,\"#d8576b\"],[0.6666666666666666,\"#ed7953\"],[0.7777777777777778,\"#fb9f3a\"],[0.8888888888888888,\"#fdca26\"],[1.0,\"#f0f921\"]]}],\"heatmap\":[{\"type\":\"heatmap\",\"colorbar\":{\"outlinewidth\":0,\"ticks\":\"\"},\"colorscale\":[[0.0,\"#0d0887\"],[0.1111111111111111,\"#46039f\"],[0.2222222222222222,\"#7201a8\"],[0.3333333333333333,\"#9c179e\"],[0.4444444444444444,\"#bd3786\"],[0.5555555555555556,\"#d8576b\"],[0.6666666666666666,\"#ed7953\"],[0.7777777777777778,\"#fb9f3a\"],[0.8888888888888888,\"#fdca26\"],[1.0,\"#f0f921\"]]}],\"heatmapgl\":[{\"type\":\"heatmapgl\",\"colorbar\":{\"outlinewidth\":0,\"ticks\":\"\"},\"colorscale\":[[0.0,\"#0d0887\"],[0.1111111111111111,\"#46039f\"],[0.2222222222222222,\"#7201a8\"],[0.3333333333333333,\"#9c179e\"],[0.4444444444444444,\"#bd3786\"],[0.5555555555555556,\"#d8576b\"],[0.6666666666666666,\"#ed7953\"],[0.7777777777777778,\"#fb9f3a\"],[0.8888888888888888,\"#fdca26\"],[1.0,\"#f0f921\"]]}],\"contourcarpet\":[{\"type\":\"contourcarpet\",\"colorbar\":{\"outlinewidth\":0,\"ticks\":\"\"}}],\"contour\":[{\"type\":\"contour\",\"colorbar\":{\"outlinewidth\":0,\"ticks\":\"\"},\"colorscale\":[[0.0,\"#0d0887\"],[0.1111111111111111,\"#46039f\"],[0.2222222222222222,\"#7201a8\"],[0.3333333333333333,\"#9c179e\"],[0.4444444444444444,\"#bd3786\"],[0.5555555555555556,\"#d8576b\"],[0.6666666666666666,\"#ed7953\"],[0.7777777777777778,\"#fb9f3a\"],[0.8888888888888888,\"#fdca26\"],[1.0,\"#f0f921\"]]}],\"surface\":[{\"type\":\"surface\",\"colorbar\":{\"outlinewidth\":0,\"ticks\":\"\"},\"colorscale\":[[0.0,\"#0d0887\"],[0.1111111111111111,\"#46039f\"],[0.2222222222222222,\"#7201a8\"],[0.3333333333333333,\"#9c179e\"],[0.4444444444444444,\"#bd3786\"],[0.5555555555555556,\"#d8576b\"],[0.6666666666666666,\"#ed7953\"],[0.7777777777777778,\"#fb9f3a\"],[0.8888888888888888,\"#fdca26\"],[1.0,\"#f0f921\"]]}],\"mesh3d\":[{\"type\":\"mesh3d\",\"colorbar\":{\"outlinewidth\":0,\"ticks\":\"\"}}],\"scatter\":[{\"fillpattern\":{\"fillmode\":\"overlay\",\"size\":10,\"solidity\":0.2},\"type\":\"scatter\"}],\"parcoords\":[{\"type\":\"parcoords\",\"line\":{\"colorbar\":{\"outlinewidth\":0,\"ticks\":\"\"}}}],\"scatterpolargl\":[{\"type\":\"scatterpolargl\",\"marker\":{\"colorbar\":{\"outlinewidth\":0,\"ticks\":\"\"}}}],\"bar\":[{\"error_x\":{\"color\":\"#2a3f5f\"},\"error_y\":{\"color\":\"#2a3f5f\"},\"marker\":{\"line\":{\"color\":\"#E5ECF6\",\"width\":0.5},\"pattern\":{\"fillmode\":\"overlay\",\"size\":10,\"solidity\":0.2}},\"type\":\"bar\"}],\"scattergeo\":[{\"type\":\"scattergeo\",\"marker\":{\"colorbar\":{\"outlinewidth\":0,\"ticks\":\"\"}}}],\"scatterpolar\":[{\"type\":\"scatterpolar\",\"marker\":{\"colorbar\":{\"outlinewidth\":0,\"ticks\":\"\"}}}],\"histogram\":[{\"marker\":{\"pattern\":{\"fillmode\":\"overlay\",\"size\":10,\"solidity\":0.2}},\"type\":\"histogram\"}],\"scattergl\":[{\"type\":\"scattergl\",\"marker\":{\"colorbar\":{\"outlinewidth\":0,\"ticks\":\"\"}}}],\"scatter3d\":[{\"type\":\"scatter3d\",\"line\":{\"colorbar\":{\"outlinewidth\":0,\"ticks\":\"\"}},\"marker\":{\"colorbar\":{\"outlinewidth\":0,\"ticks\":\"\"}}}],\"scattermapbox\":[{\"type\":\"scattermapbox\",\"marker\":{\"colorbar\":{\"outlinewidth\":0,\"ticks\":\"\"}}}],\"scatterternary\":[{\"type\":\"scatterternary\",\"marker\":{\"colorbar\":{\"outlinewidth\":0,\"ticks\":\"\"}}}],\"scattercarpet\":[{\"type\":\"scattercarpet\",\"marker\":{\"colorbar\":{\"outlinewidth\":0,\"ticks\":\"\"}}}],\"carpet\":[{\"aaxis\":{\"endlinecolor\":\"#2a3f5f\",\"gridcolor\":\"white\",\"linecolor\":\"white\",\"minorgridcolor\":\"white\",\"startlinecolor\":\"#2a3f5f\"},\"baxis\":{\"endlinecolor\":\"#2a3f5f\",\"gridcolor\":\"white\",\"linecolor\":\"white\",\"minorgridcolor\":\"white\",\"startlinecolor\":\"#2a3f5f\"},\"type\":\"carpet\"}],\"table\":[{\"cells\":{\"fill\":{\"color\":\"#EBF0F8\"},\"line\":{\"color\":\"white\"}},\"header\":{\"fill\":{\"color\":\"#C8D4E3\"},\"line\":{\"color\":\"white\"}},\"type\":\"table\"}],\"barpolar\":[{\"marker\":{\"line\":{\"color\":\"#E5ECF6\",\"width\":0.5},\"pattern\":{\"fillmode\":\"overlay\",\"size\":10,\"solidity\":0.2}},\"type\":\"barpolar\"}],\"pie\":[{\"automargin\":true,\"type\":\"pie\"}]},\"layout\":{\"autotypenumbers\":\"strict\",\"colorway\":[\"#636efa\",\"#EF553B\",\"#00cc96\",\"#ab63fa\",\"#FFA15A\",\"#19d3f3\",\"#FF6692\",\"#B6E880\",\"#FF97FF\",\"#FECB52\"],\"font\":{\"color\":\"#2a3f5f\"},\"hovermode\":\"closest\",\"hoverlabel\":{\"align\":\"left\"},\"paper_bgcolor\":\"white\",\"plot_bgcolor\":\"#E5ECF6\",\"polar\":{\"bgcolor\":\"#E5ECF6\",\"angularaxis\":{\"gridcolor\":\"white\",\"linecolor\":\"white\",\"ticks\":\"\"},\"radialaxis\":{\"gridcolor\":\"white\",\"linecolor\":\"white\",\"ticks\":\"\"}},\"ternary\":{\"bgcolor\":\"#E5ECF6\",\"aaxis\":{\"gridcolor\":\"white\",\"linecolor\":\"white\",\"ticks\":\"\"},\"baxis\":{\"gridcolor\":\"white\",\"linecolor\":\"white\",\"ticks\":\"\"},\"caxis\":{\"gridcolor\":\"white\",\"linecolor\":\"white\",\"ticks\":\"\"}},\"coloraxis\":{\"colorbar\":{\"outlinewidth\":0,\"ticks\":\"\"}},\"colorscale\":{\"sequential\":[[0.0,\"#0d0887\"],[0.1111111111111111,\"#46039f\"],[0.2222222222222222,\"#7201a8\"],[0.3333333333333333,\"#9c179e\"],[0.4444444444444444,\"#bd3786\"],[0.5555555555555556,\"#d8576b\"],[0.6666666666666666,\"#ed7953\"],[0.7777777777777778,\"#fb9f3a\"],[0.8888888888888888,\"#fdca26\"],[1.0,\"#f0f921\"]],\"sequentialminus\":[[0.0,\"#0d0887\"],[0.1111111111111111,\"#46039f\"],[0.2222222222222222,\"#7201a8\"],[0.3333333333333333,\"#9c179e\"],[0.4444444444444444,\"#bd3786\"],[0.5555555555555556,\"#d8576b\"],[0.6666666666666666,\"#ed7953\"],[0.7777777777777778,\"#fb9f3a\"],[0.8888888888888888,\"#fdca26\"],[1.0,\"#f0f921\"]],\"diverging\":[[0,\"#8e0152\"],[0.1,\"#c51b7d\"],[0.2,\"#de77ae\"],[0.3,\"#f1b6da\"],[0.4,\"#fde0ef\"],[0.5,\"#f7f7f7\"],[0.6,\"#e6f5d0\"],[0.7,\"#b8e186\"],[0.8,\"#7fbc41\"],[0.9,\"#4d9221\"],[1,\"#276419\"]]},\"xaxis\":{\"gridcolor\":\"white\",\"linecolor\":\"white\",\"ticks\":\"\",\"title\":{\"standoff\":15},\"zerolinecolor\":\"white\",\"automargin\":true,\"zerolinewidth\":2},\"yaxis\":{\"gridcolor\":\"white\",\"linecolor\":\"white\",\"ticks\":\"\",\"title\":{\"standoff\":15},\"zerolinecolor\":\"white\",\"automargin\":true,\"zerolinewidth\":2},\"scene\":{\"xaxis\":{\"backgroundcolor\":\"#E5ECF6\",\"gridcolor\":\"white\",\"linecolor\":\"white\",\"showbackground\":true,\"ticks\":\"\",\"zerolinecolor\":\"white\",\"gridwidth\":2},\"yaxis\":{\"backgroundcolor\":\"#E5ECF6\",\"gridcolor\":\"white\",\"linecolor\":\"white\",\"showbackground\":true,\"ticks\":\"\",\"zerolinecolor\":\"white\",\"gridwidth\":2},\"zaxis\":{\"backgroundcolor\":\"#E5ECF6\",\"gridcolor\":\"white\",\"linecolor\":\"white\",\"showbackground\":true,\"ticks\":\"\",\"zerolinecolor\":\"white\",\"gridwidth\":2}},\"shapedefaults\":{\"line\":{\"color\":\"#2a3f5f\"}},\"annotationdefaults\":{\"arrowcolor\":\"#2a3f5f\",\"arrowhead\":0,\"arrowwidth\":1},\"geo\":{\"bgcolor\":\"white\",\"landcolor\":\"#E5ECF6\",\"subunitcolor\":\"white\",\"showland\":true,\"showlakes\":true,\"lakecolor\":\"white\"},\"title\":{\"x\":0.05},\"mapbox\":{\"style\":\"light\"}}},\"xaxis\":{\"anchor\":\"y\",\"domain\":[0.0,1.0],\"title\":{\"text\":\"Product Reviews\"}},\"yaxis\":{\"anchor\":\"x\",\"domain\":[0.0,1.0],\"title\":{\"text\":\"Purchase History\"}},\"legend\":{\"tracegroupgap\":0},\"title\":{\"text\":\"Product Reviews vs Purchase History\"},\"height\":1500,\"width\":2500},                        {\"responsive\": true}                    ).then(function(){\n",
              "                            \n",
              "var gd = document.getElementById('a60a0125-96de-46d1-8bf4-54e5d5a49b61');\n",
              "var x = new MutationObserver(function (mutations, observer) {{\n",
              "        var display = window.getComputedStyle(gd).display;\n",
              "        if (!display || display === 'none') {{\n",
              "            console.log([gd, 'removed!']);\n",
              "            Plotly.purge(gd);\n",
              "            observer.disconnect();\n",
              "        }}\n",
              "}});\n",
              "\n",
              "// Listen for the removal of the full notebook cells\n",
              "var notebookContainer = gd.closest('#notebook-container');\n",
              "if (notebookContainer) {{\n",
              "    x.observe(notebookContainer, {childList: true});\n",
              "}}\n",
              "\n",
              "// Listen for the clearing of the current output cell\n",
              "var outputEl = gd.closest('.output');\n",
              "if (outputEl) {{\n",
              "    x.observe(outputEl, {childList: true});\n",
              "}}\n",
              "\n",
              "                        })                };                            </script>        </div>\n",
              "</body>\n",
              "</html>"
            ]
          },
          "metadata": {}
        }
      ]
    },
    {
      "cell_type": "markdown",
      "source": [
        "**What is the relationship between time on site and browsing history?**"
      ],
      "metadata": {
        "id": "w1hUekvHdNDK"
      }
    },
    {
      "cell_type": "code",
      "source": [
        "fig = px.scatter(df_no_outliers, x='Time on Site', y='Browsing History', title='Time on Site vs Browsing History', width=1500)\n",
        "fig.show()"
      ],
      "metadata": {
        "execution": {
          "iopub.status.busy": "2024-10-03T09:17:46.773253Z",
          "iopub.execute_input": "2024-10-03T09:17:46.774243Z",
          "iopub.status.idle": "2024-10-03T09:17:46.848223Z",
          "shell.execute_reply.started": "2024-10-03T09:17:46.774182Z",
          "shell.execute_reply": "2024-10-03T09:17:46.847034Z"
        },
        "trusted": true,
        "colab": {
          "base_uri": "https://localhost:8080/",
          "height": 562
        },
        "id": "xlcZcLUCdNDK",
        "outputId": "60469a83-e550-463f-e5fc-4f01adb736ff"
      },
      "execution_count": 27,
      "outputs": [
        {
          "output_type": "display_data",
          "data": {
            "text/html": [
              "<html>\n",
              "<head><meta charset=\"utf-8\" /></head>\n",
              "<body>\n",
              "    <div>            <script src=\"https://cdnjs.cloudflare.com/ajax/libs/mathjax/2.7.5/MathJax.js?config=TeX-AMS-MML_SVG\"></script><script type=\"text/javascript\">if (window.MathJax && window.MathJax.Hub && window.MathJax.Hub.Config) {window.MathJax.Hub.Config({SVG: {font: \"STIX-Web\"}});}</script>                <script type=\"text/javascript\">window.PlotlyConfig = {MathJaxConfig: 'local'};</script>\n",
              "        <script charset=\"utf-8\" src=\"https://cdn.plot.ly/plotly-2.35.2.min.js\"></script>                <div id=\"739c3b5e-7a28-459f-8cc1-0bbb6294ed73\" class=\"plotly-graph-div\" style=\"height:525px; width:1500px;\"></div>            <script type=\"text/javascript\">                                    window.PLOTLYENV=window.PLOTLYENV || {};                                    if (document.getElementById(\"739c3b5e-7a28-459f-8cc1-0bbb6294ed73\")) {                    Plotly.newPlot(                        \"739c3b5e-7a28-459f-8cc1-0bbb6294ed73\",                        [{\"hovertemplate\":\"Time on Site=%{x}\\u003cbr\\u003eBrowsing History=%{y}\\u003cextra\\u003e\\u003c\\u002fextra\\u003e\",\"legendgroup\":\"\",\"marker\":{\"color\":\"#636efa\",\"symbol\":\"circle\"},\"mode\":\"markers\",\"name\":\"\",\"orientation\":\"h\",\"showlegend\":false,\"x\":[32.5,123.45,125.6,327.6,214.9,486.3,378.5,289.8,456.2,334.9,298.6,312.5,120.0,75.0,200.0,150.0,300.0,250.0,180.0,280.0,220.0,200.0,160.0,240.0,120.5,120.0,300.0,250.0,350.0,200.0,400.0,300.0,450.0,250.0,350.0,200.0,300.0,250.0,72.3,123.6,246.9,75.2,120.5,250.0,75.0,300.0,100.0,120.0,350.0,200.0],\"xaxis\":\"x\",\"y\":[\"[{\\\"Timestamp\\\": \\\"2022-03-10T14:30:00Z\\\"}, {\\\"Timestamp\\\": \\\"2022-03-11T09:45:00Z\\\"}, {\\\"Timestamp\\\": \\\"2022-03-12T16:20:00Z\\\"}]\",\"[{\\\"Product Category\\\": \\\"Home & Garden\\\", \\\"Timestamp\\\": \\\"2022-05-12T13:30:00Z\\\"}, {\\\"Product Category\\\": \\\"Electronics\\\", \\\"Timestamp\\\": \\\"2022-06-05T08:45:00Z\\\"}]\",\"[{\\\"Product Category\\\": \\\"Clothing\\\", \\\"Timestamp\\\": \\\"2022-09-03 15:30:00\\\"}, {\\\"Product Category\\\": \\\"Electronics\\\", \\\"Timestamp\\\": \\\"2022-09-01 10:15:00\\\"}]\",\"{'Timestamp': '2022-09-03 14:30:00'}\",\"{'Timestamp': '2022-08-10 17:15:00'}\",\"{'Timestamp': '2022-06-25 10:45:00'}\",\"{'Timestamp': '2022-08-15 13:20:00'}\",\"{'Timestamp': '2022-09-12 16:35:00'}\",\"{'Timestamp': '2022-06-28 09:00:00'}\",\"{'Timestamp': '2022-08-17 14:50:00'}\",\"{'Timestamp': '2022-06-30 11:15:00'}\",\"{'Timestamp': '2022-09-14 10:00:00'}\",\"{'Timestamp': '2022-03-06 14:30:00'}\",\"{'Timestamp': '2022-05-12 16:15:00'}\",\"{'Timestamp': '2022-06-03 10:45:00'}\",\"{'Timestamp': '2022-07-08 13:00:00'}\",\"{'Timestamp': '2022-08-04 09:30:00'}\",\"{'Timestamp': '2022-09-02 11:15:00'}\",\"{'Timestamp': '2022-10-07 14:45:00'}\",\"{'Timestamp': '2022-11-02 10:30:00'}\",\"{'Timestamp': '2022-12-06 12:00:00'}\",\"{'Timestamp': '2022-12-21 15:30:00'}\",\"{'Timestamp': '2023-01-11 08:45:00'}\",\"{'Timestamp': '2023-02-06 13:15:00'}\",\"[{\\\"Timestamp\\\": \\\"2022-08-20T14:30:00Z\\\"}, {\\\"Timestamp\\\": \\\"2022-08-22T16:45:00Z\\\"}, {\\\"Timestamp\\\": \\\"2022-09-03T10:20:00Z\\\"}]\",\"{'Timestamp': '2022-04-20T14:30:00Z'}\",\"{'Timestamp': '2022-05-25T17:45:00Z'}\",\"{'Timestamp': '2022-06-01T09:15:00Z'}\",\"{'Timestamp': '2022-05-22T10:30:00Z'}\",\"{'Timestamp': '2022-05-30T13:45:00Z'}\",\"{'Timestamp': '2022-06-06T08:00:00Z'}\",\"{'Timestamp': '2022-06-15T11:30:00Z'}\",\"{'Timestamp': '2022-05-28T15:15:00Z'}\",\"{'Timestamp': '2022-05-31T16:45:00Z'}\",\"{'Timestamp': '2022-05-29T10:30:00Z'}\",\"{'Timestamp': '2022-06-13T13:00:00Z'}\",\"{'Timestamp': '2022-05-26T11:15:00Z'}\",\"{'Timestamp': '2022-06-08T14:30:00Z'}\",\"[{\\\"Product Category\\\": \\\"Home & Garden\\\", \\\"Timestamp\\\": \\\"2022-09-01T14:30:00Z\\\"}, {\\\"Product Category\\\": \\\"Clothing\\\", \\\"Timestamp\\\": \\\"2022-08-25T12:15:00Z\\\"}]\",\"[{\\\"Product Category\\\": \\\"Home & Garden\\\", \\\"Timestamp\\\": \\\"2022-04-03T15:30:00Z\\\"}, {\\\"Product Category\\\": \\\"Electronics\\\", \\\"Timestamp\\\": \\\"2022-03-28T08:45:00Z\\\"}]\",\"[{\\\"Product Category\\\": \\\"Electronics\\\", \\\"Timestamp\\\": \\\"2022-03-01T10:15:00Z\\\"}, {\\\"Product Category\\\": \\\"Clothing\\\", \\\"Timestamp\\\": \\\"2022-02-15T16:30:00Z\\\"}]\",\"[{\\\"Product Category\\\": \\\"Home & Garden\\\", \\\"Timestamp\\\": \\\"2022-02-20T12:34:56Z\\\"}]\",\"[{\\\"Product Category\\\": \\\"Home & Garden\\\", \\\"Timestamp\\\": \\\"2022-06-15T12:34:56Z\\\"}, {\\\"Product Category\\\": \\\"Electronics\\\", \\\"Timestamp\\\": \\\"2022-05-20T16:17:23Z\\\"}]\",\"[{\\\"Product Category\\\": \\\"Clothing\\\", \\\"Timestamp\\\": \\\"2022-07-10T09:15:32Z\\\"}, {\\\"Product Category\\\": \\\"Electronics\\\", \\\"Timestamp\\\": \\\"2022-06-25T14:46:01Z\\\"}]\",\"[{\\\"Product Category\\\": \\\"Home & Garden\\\", \\\"Timestamp\\\": \\\"2022-06-27T10:30:11Z\\\"}, {\\\"Product Category\\\": \\\"Electronics\\\", \\\"Timestamp\\\": \\\"2022-05-30T13:02:45Z\\\"}]\",\"[{\\\"Product Category\\\": \\\"Electronics\\\", \\\"Timestamp\\\": \\\"2022-07-12T11:45:06Z\\\"}, {\\\"Product Category\\\": \\\"Clothing\\\", \\\"Timestamp\\\": \\\"2022-06-30T16:23:30Z\\\"}]\",\"[{\\\"Product Category\\\": \\\"Clothing\\\", \\\"Timestamp\\\": \\\"2022-06-05T08:00:23Z\\\"}, {\\\"Product Category\\\": \\\"Electronics\\\", \\\"Timestamp\\\": \\\"2022-05-28T14:30:56Z\\\"}]\",\"[{\\\"Timestamp\\\": \\\"2022-08-14T09:30:00Z\\\"},{\\\"Timestamp\\\": \\\"2022-07-25T14:15:00Z\\\"},{\\\"Timestamp\\\": \\\"2022-06-01T10:45:00Z\\\"}]\",\"[{\\\"Timestamp\\\": \\\"2022-08-12T16:00:00Z\\\"},{\\\"Timestamp\\\": \\\"2022-07-27T08:30:00Z\\\"},{\\\"Timestamp\\\": \\\"2022-06-03T11:00:00Z\\\"}]\",\"[{\\\"Timestamp\\\": \\\"2022-08-13T13:45:00Z\\\"},{\\\"Timestamp\\\": \\\"2022-07-26T07:00:00Z\\\"},{\\\"Timestamp\\\": \\\"2022-06-02T15:30:00Z\\\"}]\"],\"yaxis\":\"y\",\"type\":\"scatter\"}],                        {\"template\":{\"data\":{\"histogram2dcontour\":[{\"type\":\"histogram2dcontour\",\"colorbar\":{\"outlinewidth\":0,\"ticks\":\"\"},\"colorscale\":[[0.0,\"#0d0887\"],[0.1111111111111111,\"#46039f\"],[0.2222222222222222,\"#7201a8\"],[0.3333333333333333,\"#9c179e\"],[0.4444444444444444,\"#bd3786\"],[0.5555555555555556,\"#d8576b\"],[0.6666666666666666,\"#ed7953\"],[0.7777777777777778,\"#fb9f3a\"],[0.8888888888888888,\"#fdca26\"],[1.0,\"#f0f921\"]]}],\"choropleth\":[{\"type\":\"choropleth\",\"colorbar\":{\"outlinewidth\":0,\"ticks\":\"\"}}],\"histogram2d\":[{\"type\":\"histogram2d\",\"colorbar\":{\"outlinewidth\":0,\"ticks\":\"\"},\"colorscale\":[[0.0,\"#0d0887\"],[0.1111111111111111,\"#46039f\"],[0.2222222222222222,\"#7201a8\"],[0.3333333333333333,\"#9c179e\"],[0.4444444444444444,\"#bd3786\"],[0.5555555555555556,\"#d8576b\"],[0.6666666666666666,\"#ed7953\"],[0.7777777777777778,\"#fb9f3a\"],[0.8888888888888888,\"#fdca26\"],[1.0,\"#f0f921\"]]}],\"heatmap\":[{\"type\":\"heatmap\",\"colorbar\":{\"outlinewidth\":0,\"ticks\":\"\"},\"colorscale\":[[0.0,\"#0d0887\"],[0.1111111111111111,\"#46039f\"],[0.2222222222222222,\"#7201a8\"],[0.3333333333333333,\"#9c179e\"],[0.4444444444444444,\"#bd3786\"],[0.5555555555555556,\"#d8576b\"],[0.6666666666666666,\"#ed7953\"],[0.7777777777777778,\"#fb9f3a\"],[0.8888888888888888,\"#fdca26\"],[1.0,\"#f0f921\"]]}],\"heatmapgl\":[{\"type\":\"heatmapgl\",\"colorbar\":{\"outlinewidth\":0,\"ticks\":\"\"},\"colorscale\":[[0.0,\"#0d0887\"],[0.1111111111111111,\"#46039f\"],[0.2222222222222222,\"#7201a8\"],[0.3333333333333333,\"#9c179e\"],[0.4444444444444444,\"#bd3786\"],[0.5555555555555556,\"#d8576b\"],[0.6666666666666666,\"#ed7953\"],[0.7777777777777778,\"#fb9f3a\"],[0.8888888888888888,\"#fdca26\"],[1.0,\"#f0f921\"]]}],\"contourcarpet\":[{\"type\":\"contourcarpet\",\"colorbar\":{\"outlinewidth\":0,\"ticks\":\"\"}}],\"contour\":[{\"type\":\"contour\",\"colorbar\":{\"outlinewidth\":0,\"ticks\":\"\"},\"colorscale\":[[0.0,\"#0d0887\"],[0.1111111111111111,\"#46039f\"],[0.2222222222222222,\"#7201a8\"],[0.3333333333333333,\"#9c179e\"],[0.4444444444444444,\"#bd3786\"],[0.5555555555555556,\"#d8576b\"],[0.6666666666666666,\"#ed7953\"],[0.7777777777777778,\"#fb9f3a\"],[0.8888888888888888,\"#fdca26\"],[1.0,\"#f0f921\"]]}],\"surface\":[{\"type\":\"surface\",\"colorbar\":{\"outlinewidth\":0,\"ticks\":\"\"},\"colorscale\":[[0.0,\"#0d0887\"],[0.1111111111111111,\"#46039f\"],[0.2222222222222222,\"#7201a8\"],[0.3333333333333333,\"#9c179e\"],[0.4444444444444444,\"#bd3786\"],[0.5555555555555556,\"#d8576b\"],[0.6666666666666666,\"#ed7953\"],[0.7777777777777778,\"#fb9f3a\"],[0.8888888888888888,\"#fdca26\"],[1.0,\"#f0f921\"]]}],\"mesh3d\":[{\"type\":\"mesh3d\",\"colorbar\":{\"outlinewidth\":0,\"ticks\":\"\"}}],\"scatter\":[{\"fillpattern\":{\"fillmode\":\"overlay\",\"size\":10,\"solidity\":0.2},\"type\":\"scatter\"}],\"parcoords\":[{\"type\":\"parcoords\",\"line\":{\"colorbar\":{\"outlinewidth\":0,\"ticks\":\"\"}}}],\"scatterpolargl\":[{\"type\":\"scatterpolargl\",\"marker\":{\"colorbar\":{\"outlinewidth\":0,\"ticks\":\"\"}}}],\"bar\":[{\"error_x\":{\"color\":\"#2a3f5f\"},\"error_y\":{\"color\":\"#2a3f5f\"},\"marker\":{\"line\":{\"color\":\"#E5ECF6\",\"width\":0.5},\"pattern\":{\"fillmode\":\"overlay\",\"size\":10,\"solidity\":0.2}},\"type\":\"bar\"}],\"scattergeo\":[{\"type\":\"scattergeo\",\"marker\":{\"colorbar\":{\"outlinewidth\":0,\"ticks\":\"\"}}}],\"scatterpolar\":[{\"type\":\"scatterpolar\",\"marker\":{\"colorbar\":{\"outlinewidth\":0,\"ticks\":\"\"}}}],\"histogram\":[{\"marker\":{\"pattern\":{\"fillmode\":\"overlay\",\"size\":10,\"solidity\":0.2}},\"type\":\"histogram\"}],\"scattergl\":[{\"type\":\"scattergl\",\"marker\":{\"colorbar\":{\"outlinewidth\":0,\"ticks\":\"\"}}}],\"scatter3d\":[{\"type\":\"scatter3d\",\"line\":{\"colorbar\":{\"outlinewidth\":0,\"ticks\":\"\"}},\"marker\":{\"colorbar\":{\"outlinewidth\":0,\"ticks\":\"\"}}}],\"scattermapbox\":[{\"type\":\"scattermapbox\",\"marker\":{\"colorbar\":{\"outlinewidth\":0,\"ticks\":\"\"}}}],\"scatterternary\":[{\"type\":\"scatterternary\",\"marker\":{\"colorbar\":{\"outlinewidth\":0,\"ticks\":\"\"}}}],\"scattercarpet\":[{\"type\":\"scattercarpet\",\"marker\":{\"colorbar\":{\"outlinewidth\":0,\"ticks\":\"\"}}}],\"carpet\":[{\"aaxis\":{\"endlinecolor\":\"#2a3f5f\",\"gridcolor\":\"white\",\"linecolor\":\"white\",\"minorgridcolor\":\"white\",\"startlinecolor\":\"#2a3f5f\"},\"baxis\":{\"endlinecolor\":\"#2a3f5f\",\"gridcolor\":\"white\",\"linecolor\":\"white\",\"minorgridcolor\":\"white\",\"startlinecolor\":\"#2a3f5f\"},\"type\":\"carpet\"}],\"table\":[{\"cells\":{\"fill\":{\"color\":\"#EBF0F8\"},\"line\":{\"color\":\"white\"}},\"header\":{\"fill\":{\"color\":\"#C8D4E3\"},\"line\":{\"color\":\"white\"}},\"type\":\"table\"}],\"barpolar\":[{\"marker\":{\"line\":{\"color\":\"#E5ECF6\",\"width\":0.5},\"pattern\":{\"fillmode\":\"overlay\",\"size\":10,\"solidity\":0.2}},\"type\":\"barpolar\"}],\"pie\":[{\"automargin\":true,\"type\":\"pie\"}]},\"layout\":{\"autotypenumbers\":\"strict\",\"colorway\":[\"#636efa\",\"#EF553B\",\"#00cc96\",\"#ab63fa\",\"#FFA15A\",\"#19d3f3\",\"#FF6692\",\"#B6E880\",\"#FF97FF\",\"#FECB52\"],\"font\":{\"color\":\"#2a3f5f\"},\"hovermode\":\"closest\",\"hoverlabel\":{\"align\":\"left\"},\"paper_bgcolor\":\"white\",\"plot_bgcolor\":\"#E5ECF6\",\"polar\":{\"bgcolor\":\"#E5ECF6\",\"angularaxis\":{\"gridcolor\":\"white\",\"linecolor\":\"white\",\"ticks\":\"\"},\"radialaxis\":{\"gridcolor\":\"white\",\"linecolor\":\"white\",\"ticks\":\"\"}},\"ternary\":{\"bgcolor\":\"#E5ECF6\",\"aaxis\":{\"gridcolor\":\"white\",\"linecolor\":\"white\",\"ticks\":\"\"},\"baxis\":{\"gridcolor\":\"white\",\"linecolor\":\"white\",\"ticks\":\"\"},\"caxis\":{\"gridcolor\":\"white\",\"linecolor\":\"white\",\"ticks\":\"\"}},\"coloraxis\":{\"colorbar\":{\"outlinewidth\":0,\"ticks\":\"\"}},\"colorscale\":{\"sequential\":[[0.0,\"#0d0887\"],[0.1111111111111111,\"#46039f\"],[0.2222222222222222,\"#7201a8\"],[0.3333333333333333,\"#9c179e\"],[0.4444444444444444,\"#bd3786\"],[0.5555555555555556,\"#d8576b\"],[0.6666666666666666,\"#ed7953\"],[0.7777777777777778,\"#fb9f3a\"],[0.8888888888888888,\"#fdca26\"],[1.0,\"#f0f921\"]],\"sequentialminus\":[[0.0,\"#0d0887\"],[0.1111111111111111,\"#46039f\"],[0.2222222222222222,\"#7201a8\"],[0.3333333333333333,\"#9c179e\"],[0.4444444444444444,\"#bd3786\"],[0.5555555555555556,\"#d8576b\"],[0.6666666666666666,\"#ed7953\"],[0.7777777777777778,\"#fb9f3a\"],[0.8888888888888888,\"#fdca26\"],[1.0,\"#f0f921\"]],\"diverging\":[[0,\"#8e0152\"],[0.1,\"#c51b7d\"],[0.2,\"#de77ae\"],[0.3,\"#f1b6da\"],[0.4,\"#fde0ef\"],[0.5,\"#f7f7f7\"],[0.6,\"#e6f5d0\"],[0.7,\"#b8e186\"],[0.8,\"#7fbc41\"],[0.9,\"#4d9221\"],[1,\"#276419\"]]},\"xaxis\":{\"gridcolor\":\"white\",\"linecolor\":\"white\",\"ticks\":\"\",\"title\":{\"standoff\":15},\"zerolinecolor\":\"white\",\"automargin\":true,\"zerolinewidth\":2},\"yaxis\":{\"gridcolor\":\"white\",\"linecolor\":\"white\",\"ticks\":\"\",\"title\":{\"standoff\":15},\"zerolinecolor\":\"white\",\"automargin\":true,\"zerolinewidth\":2},\"scene\":{\"xaxis\":{\"backgroundcolor\":\"#E5ECF6\",\"gridcolor\":\"white\",\"linecolor\":\"white\",\"showbackground\":true,\"ticks\":\"\",\"zerolinecolor\":\"white\",\"gridwidth\":2},\"yaxis\":{\"backgroundcolor\":\"#E5ECF6\",\"gridcolor\":\"white\",\"linecolor\":\"white\",\"showbackground\":true,\"ticks\":\"\",\"zerolinecolor\":\"white\",\"gridwidth\":2},\"zaxis\":{\"backgroundcolor\":\"#E5ECF6\",\"gridcolor\":\"white\",\"linecolor\":\"white\",\"showbackground\":true,\"ticks\":\"\",\"zerolinecolor\":\"white\",\"gridwidth\":2}},\"shapedefaults\":{\"line\":{\"color\":\"#2a3f5f\"}},\"annotationdefaults\":{\"arrowcolor\":\"#2a3f5f\",\"arrowhead\":0,\"arrowwidth\":1},\"geo\":{\"bgcolor\":\"white\",\"landcolor\":\"#E5ECF6\",\"subunitcolor\":\"white\",\"showland\":true,\"showlakes\":true,\"lakecolor\":\"white\"},\"title\":{\"x\":0.05},\"mapbox\":{\"style\":\"light\"}}},\"xaxis\":{\"anchor\":\"y\",\"domain\":[0.0,1.0],\"title\":{\"text\":\"Time on Site\"}},\"yaxis\":{\"anchor\":\"x\",\"domain\":[0.0,1.0],\"title\":{\"text\":\"Browsing History\"}},\"legend\":{\"tracegroupgap\":0},\"title\":{\"text\":\"Time on Site vs Browsing History\"},\"width\":1500},                        {\"responsive\": true}                    ).then(function(){\n",
              "                            \n",
              "var gd = document.getElementById('739c3b5e-7a28-459f-8cc1-0bbb6294ed73');\n",
              "var x = new MutationObserver(function (mutations, observer) {{\n",
              "        var display = window.getComputedStyle(gd).display;\n",
              "        if (!display || display === 'none') {{\n",
              "            console.log([gd, 'removed!']);\n",
              "            Plotly.purge(gd);\n",
              "            observer.disconnect();\n",
              "        }}\n",
              "}});\n",
              "\n",
              "// Listen for the removal of the full notebook cells\n",
              "var notebookContainer = gd.closest('#notebook-container');\n",
              "if (notebookContainer) {{\n",
              "    x.observe(notebookContainer, {childList: true});\n",
              "}}\n",
              "\n",
              "// Listen for the clearing of the current output cell\n",
              "var outputEl = gd.closest('.output');\n",
              "if (outputEl) {{\n",
              "    x.observe(outputEl, {childList: true});\n",
              "}}\n",
              "\n",
              "                        })                };                            </script>        </div>\n",
              "</body>\n",
              "</html>"
            ]
          },
          "metadata": {}
        }
      ]
    },
    {
      "cell_type": "markdown",
      "source": [
        "**What are the purchasing patterns across different age groups?**"
      ],
      "metadata": {
        "id": "bJaaMDGSdNDL"
      }
    },
    {
      "cell_type": "code",
      "source": [
        "fig = px.histogram(df_no_outliers, x='Age', y='Purchase History', color='Gender',\n",
        "                   title='Purchase History Distribution by Age Group', width=2500)\n",
        "fig.show()"
      ],
      "metadata": {
        "execution": {
          "iopub.status.busy": "2024-10-03T09:17:46.849653Z",
          "iopub.execute_input": "2024-10-03T09:17:46.850034Z",
          "iopub.status.idle": "2024-10-03T09:17:46.938533Z",
          "shell.execute_reply.started": "2024-10-03T09:17:46.849994Z",
          "shell.execute_reply": "2024-10-03T09:17:46.937386Z"
        },
        "trusted": true,
        "colab": {
          "base_uri": "https://localhost:8080/",
          "height": 562
        },
        "id": "Gl1astLodNDL",
        "outputId": "ecf8bb0a-12c8-4559-941d-bce0d9a752d9"
      },
      "execution_count": 28,
      "outputs": [
        {
          "output_type": "display_data",
          "data": {
            "text/html": [
              "<html>\n",
              "<head><meta charset=\"utf-8\" /></head>\n",
              "<body>\n",
              "    <div>            <script src=\"https://cdnjs.cloudflare.com/ajax/libs/mathjax/2.7.5/MathJax.js?config=TeX-AMS-MML_SVG\"></script><script type=\"text/javascript\">if (window.MathJax && window.MathJax.Hub && window.MathJax.Hub.Config) {window.MathJax.Hub.Config({SVG: {font: \"STIX-Web\"}});}</script>                <script type=\"text/javascript\">window.PlotlyConfig = {MathJaxConfig: 'local'};</script>\n",
              "        <script charset=\"utf-8\" src=\"https://cdn.plot.ly/plotly-2.35.2.min.js\"></script>                <div id=\"0c22bc65-5ff0-4080-b988-9472f807cbfc\" class=\"plotly-graph-div\" style=\"height:525px; width:2500px;\"></div>            <script type=\"text/javascript\">                                    window.PLOTLYENV=window.PLOTLYENV || {};                                    if (document.getElementById(\"0c22bc65-5ff0-4080-b988-9472f807cbfc\")) {                    Plotly.newPlot(                        \"0c22bc65-5ff0-4080-b988-9472f807cbfc\",                        [{\"alignmentgroup\":\"True\",\"bingroup\":\"y\",\"histfunc\":\"sum\",\"hovertemplate\":\"Gender=Female\\u003cbr\\u003esum of Age=%{x}\\u003cbr\\u003ePurchase History=%{y}\\u003cextra\\u003e\\u003c\\u002fextra\\u003e\",\"legendgroup\":\"Female\",\"marker\":{\"color\":\"#636efa\",\"pattern\":{\"shape\":\"\"}},\"name\":\"Female\",\"offsetgroup\":\"Female\",\"orientation\":\"h\",\"showlegend\":true,\"x\":[25,28,28,45,29,36,45,28,38,50,48,65,24,35,28,31,60,29,36,50,32,35,32,28,52,34],\"xaxis\":\"x\",\"y\":[\"[{\\\"Date\\\": \\\"2022-03-05\\\", \\\"Category\\\": \\\"Clothing\\\", \\\"Price\\\": 34.99}, {\\\"Date\\\": \\\"2022-02-12\\\", \\\"Category\\\": \\\"Electronics\\\", \\\"Price\\\": 129.99}, {\\\"Date\\\": \\\"2022-01-20\\\", \\\"Category\\\": \\\"Home & Garden\\\", \\\"Price\\\": 29.99}]\",\"[{\\\"Product Category\\\": \\\"Clothing\\\", \\\"Purchase Date\\\": \\\"2022-05-15\\\", \\\"Price\\\": 34.56}, {\\\"Product Category\\\": \\\"Electronics\\\", \\\"Purchase Date\\\": \\\"2022-06-02\\\", \\\"Price\\\": 150.99}]\",\"[{\\\"Product Category\\\": \\\"Electronics\\\", \\\"Purchase Date\\\": \\\"2022-08-15\\\", \\\"Price\\\": 345.5}, {\\\"Product Category\\\": \\\"Home & Garden\\\", \\\"Purchase Date\\\": \\\"2022-07-02\\\", \\\"Price\\\": 279.99}]\",\"{'Purchase Date': '2022-08-15', 'Product Category': 'Electronics', 'Price': 200.5},{'Purchase Date': '2022-07-22', 'Product Category': 'Clothing', 'Price': 125.6},{'Purchase Date': '2022-06-01', 'Product Category': 'Home & Garden', 'Price': 300.8},{'Purchase Date': '2022-05-10', 'Product Category': 'Electronics', 'Price': 150.9}\",\"{'Purchase Date': '2022-07-20', 'Product Category': 'Electronics', 'Price': 150.8},{'Purchase Date': '2022-06-05', 'Product Category': 'Clothing', 'Price': 120.6},{'Purchase Date': '2022-05-18', 'Product Category': 'Home & Garden', 'Price': 350.1}\",\"{'Purchase Date': '2022-07-27', 'Product Category': 'Electronics', 'Price': 120.5},{'Purchase Date': '2022-06-12', 'Product Category': 'Clothing', 'Price': 130.6},{'Purchase Date': '2022-05-28', 'Product Category': 'Home & Garden', 'Price': 320.8}\",\"{'Purchase Date': '2022-03-05', 'Product Category': 'Clothing', 'Price': 45.99},{'Purchase Date': '2022-04-12', 'Product Category': 'Home & Garden', 'Price': 120.5}\",\"{'Purchase Date': '2022-04-25', 'Product Category': 'Clothing', 'Price': 29.99},{'Purchase Date': '2022-07-07', 'Product Category': 'Home & Garden', 'Price': 150}\",\"{'Purchase Date': '2022-06-15', 'Product Category': 'Home & Garden', 'Price': 220},{'Purchase Date': '2022-09-01', 'Product Category': 'Electronics', 'Price': 300}\",\"{'Purchase Date': '2022-08-08', 'Product Category': 'Electronics', 'Price': 550},{'Purchase Date': '2022-11-01', 'Product Category': 'Clothing', 'Price': 44.99}\",\"{'Purchase Date': '2022-10-15', 'Product Category': 'Clothing', 'Price': 34.99},{'Purchase Date': '2022-12-20', 'Product Category': 'Home & Garden', 'Price': 250}\",\"{'Purchase Date': '2022-12-25', 'Product Category': 'Home & Garden', 'Price': 170},{'Purchase Date': '2023-02-05', 'Product Category': 'Electronics', 'Price': 450}\",\"[{\\\"Purchase Date\\\": \\\"2022-09-15\\\", \\\"Product Category\\\": \\\"Clothing\\\", \\\"Price\\\": 34.5}]\",\"{'Purchase Date': '2022-05-15', 'Product Category': 'Clothing', 'Price': 120},{'Purchase Date': '2022-06-02', 'Product Category': 'Home & Garden', 'Price': 250}\",\"{'Purchase Date': '2022-05-28', 'Product Category': 'Clothing', 'Price': 75},{'Purchase Date': '2022-06-10', 'Product Category': 'Home & Garden', 'Price': 120}\",\"{'Purchase Date': '2022-05-18', 'Product Category': 'Clothing', 'Price': 50},{'Purchase Date': '2022-06-07', 'Product Category': 'Home & Garden', 'Price': 100}\",\"{'Purchase Date': '2022-05-25', 'Product Category': 'Clothing', 'Price': 100},{'Purchase Date': '2022-06-08', 'Product Category': 'Home & Garden', 'Price': 180}\",\"{'Purchase Date': '2022-05-16', 'Product Category': 'Clothing', 'Price': 60},{'Purchase Date': '2022-06-06', 'Product Category': 'Home & Garden', 'Price': 150}\",\"{'Purchase Date': '2022-05-27', 'Product Category': 'Clothing', 'Price': 80},{'Purchase Date': '2022-06-09', 'Product Category': 'Home & Garden', 'Price': 200}\",\"{'Purchase Date': '2022-05-19', 'Product Category': 'Clothing', 'Price': 120},{'Purchase Date': '2022-06-07', 'Product Category': 'Home & Garden', 'Price': 150}\",\"[{\\\"Product Category\\\": \\\"Clothing\\\", \\\"Purchase Date\\\": \\\"2022-08-15\\\", \\\"Price\\\": 45.23}, {\\\"Product Category\\\": \\\"Electronics\\\", \\\"Purchase Date\\\": \\\"2022-07-20\\\", \\\"Price\\\": 250.34}]\",\"[{\\\"Product Category\\\": \\\"Electronics\\\", \\\"Purchase Date\\\": \\\"2022-03-15\\\", \\\"Price\\\": 250.5}, {\\\"Product Category\\\": \\\"Clothing\\\", \\\"Purchase Date\\\": \\\"2022-02-01\\\", \\\"Price\\\": 125.8}]\",\"[{\\\"Product Category\\\": \\\"Electronics\\\", \\\"Purchase Date\\\": \\\"2022-03-15\\\", \\\"Price\\\": 249.99}]\",\"[{\\\"Product Category\\\": \\\"Clothing\\\", \\\"Purchase Date\\\": \\\"2022-06-12\\\", \\\"Price\\\": 45.99}, {\\\"Product Category\\\": \\\"Electronics\\\", \\\"Purchase Date\\\": \\\"2022-05-08\\\", \\\"Price\\\": 199.99}]\",\"[{\\\"Product Category\\\": \\\"Clothing\\\", \\\"Purchase Date\\\": \\\"2022-07-08\\\", \\\"Price\\\": 79.99}, {\\\"Product Category\\\": \\\"Home & Garden\\\", \\\"Purchase Date\\\": \\\"2022-06-24\\\", \\\"Price\\\": 399.99}]\",\"[{\\\"Purchase Date\\\": \\\"2022-07-02\\\",\\\"Product Category\\\": \\\"Clothing\\\",\\\"Price\\\": 25.6},{\\\"Purchase Date\\\": \\\"2022-06-15\\\",\\\"Product Category\\\": \\\"Electronics\\\",\\\"Price\\\": 120},{\\\"Purchase Date\\\": \\\"2022-05-10\\\",\\\"Product Category\\\": \\\"Home & Garden\\\",\\\"Price\\\": 35}]\"],\"yaxis\":\"y\",\"type\":\"histogram\"},{\"alignmentgroup\":\"True\",\"bingroup\":\"y\",\"histfunc\":\"sum\",\"hovertemplate\":\"Gender=Male\\u003cbr\\u003esum of Age=%{x}\\u003cbr\\u003ePurchase History=%{y}\\u003cextra\\u003e\\u003c\\u002fextra\\u003e\",\"legendgroup\":\"Male\",\"marker\":{\"color\":\"#EF553B\",\"pattern\":{\"shape\":\"\"}},\"name\":\"Male\",\"offsetgroup\":\"Male\",\"orientation\":\"h\",\"showlegend\":true,\"x\":[34,42,48,32,55,42,35,30,45,52,48,55,58,42,42,42,24,45],\"xaxis\":\"x\",\"y\":[\"{'Purchase Date': '2022-07-25', 'Product Category': 'Clothing', 'Price': 67.2},{'Purchase Date': '2022-06-08', 'Product Category': 'Home & Garden', 'Price': 250.1},{'Purchase Date': '2022-05-15', 'Product Category': 'Electronics', 'Price': 400.7}\",\"{'Purchase Date': '2022-08-28', 'Product Category': 'Electronics', 'Price': 250.6},{'Purchase Date': '2022-07-15', 'Product Category': 'Clothing', 'Price': 115.7},{'Purchase Date': '2022-06-03', 'Product Category': 'Home & Garden', 'Price': 300.4}\",\"{'Purchase Date': '2022-09-08', 'Product Category': 'Electronics', 'Price': 350.2},{'Purchase Date': '2022-08-23', 'Product Category': 'Clothing', 'Price': 165.3},{'Purchase Date': '2022-07-07', 'Product Category': 'Home & Garden', 'Price': 280.9}\",\"{'Purchase Date': '2022-02-15', 'Product Category': 'Electronics', 'Price': 250},{'Purchase Date': '2022-05-10', 'Product Category': 'Clothing', 'Price': 34.99}\",\"{'Purchase Date': '2022-05-20', 'Product Category': 'Electronics', 'Price': 600},{'Purchase Date': '2022-08-03', 'Product Category': 'Clothing', 'Price': 59.99}\",\"{'Purchase Date': '2022-07-22', 'Product Category': 'Clothing', 'Price': 39.99},{'Purchase Date': '2022-10-06', 'Product Category': 'Home & Garden', 'Price': 190}\",\"{'Purchase Date': '2022-09-20', 'Product Category': 'Home & Garden', 'Price': 200},{'Purchase Date': '2022-12-05', 'Product Category': 'Electronics', 'Price': 350}\",\"{'Purchase Date': '2022-11-05', 'Product Category': 'Electronics', 'Price': 150},{'Purchase Date': '2023-01-10', 'Product Category': 'Clothing', 'Price': 29.99}\",\"{'Purchase Date': '2022-06-12', 'Product Category': 'Electronics', 'Price': 350}\",\"{'Purchase Date': '2022-05-08', 'Product Category': 'Electronics', 'Price': 200},{'Purchase Date': '2022-06-05', 'Product Category': 'Home & Garden', 'Price': 150}\",\"{'Purchase Date': '2022-05-23', 'Product Category': 'Electronics', 'Price': 400},{'Purchase Date': '2022-06-03', 'Product Category': 'Home & Garden', 'Price': 200}\",\"{'Purchase Date': '2022-05-20', 'Product Category': 'Electronics', 'Price': 300},{'Purchase Date': '2022-06-04', 'Product Category': 'Home & Garden', 'Price': 250}\",\"{'Purchase Date': '2022-05-12', 'Product Category': 'Electronics', 'Price': 250},{'Purchase Date': '2022-06-01', 'Product Category': 'Home & Garden', 'Price': 175}\",\"{'Purchase Date': '2022-05-22', 'Product Category': 'Electronics', 'Price': 350},{'Purchase Date': '2022-06-02', 'Product Category': 'Home & Garden', 'Price': 100}\",\"[{\\\"Product Category\\\": \\\"Clothing\\\", \\\"Purchase Date\\\": \\\"2022-02-20\\\", \\\"Price\\\": 150.2}, {\\\"Product Category\\\": \\\"Home & Garden\\\", \\\"Purchase Date\\\": \\\"2022-01-12\\\", \\\"Price\\\": 450}]\",\"[{\\\"Product Category\\\": \\\"Electronics\\\", \\\"Purchase Date\\\": \\\"2022-07-03\\\", \\\"Price\\\": 249.99}, {\\\"Product Category\\\": \\\"Home & Garden\\\", \\\"Purchase Date\\\": \\\"2022-06-17\\\", \\\"Price\\\": 129.99}]\",\"[{\\\"Product Category\\\": \\\"Electronics\\\", \\\"Purchase Date\\\": \\\"2022-06-01\\\", \\\"Price\\\": 129.99}, {\\\"Product Category\\\": \\\"Home & Garden\\\", \\\"Purchase Date\\\": \\\"2022-05-18\\\", \\\"Price\\\": 59.99}]\",\"[{\\\"Purchase Date\\\": \\\"2022-07-08\\\",\\\"Product Category\\\": \\\"Electronics\\\",\\\"Price\\\": 420},{\\\"Purchase Date\\\": \\\"2022-06-23\\\",\\\"Product Category\\\": \\\"Clothing\\\",\\\"Price\\\": 75},{\\\"Purchase Date\\\": \\\"2022-05-12\\\",\\\"Product Category\\\": \\\"Home & Garden\\\",\\\"Price\\\": 200}]\"],\"yaxis\":\"y\",\"type\":\"histogram\"},{\"alignmentgroup\":\"True\",\"bingroup\":\"y\",\"histfunc\":\"sum\",\"hovertemplate\":\"Gender=Other\\u003cbr\\u003esum of Age=%{x}\\u003cbr\\u003ePurchase History=%{y}\\u003cextra\\u003e\\u003c\\u002fextra\\u003e\",\"legendgroup\":\"Other\",\"marker\":{\"color\":\"#00cc96\",\"pattern\":{\"shape\":\"\"}},\"name\":\"Other\",\"offsetgroup\":\"Other\",\"orientation\":\"h\",\"showlegend\":true,\"x\":[56,51,25,60,35,29],\"xaxis\":\"x\",\"y\":[\"{'Purchase Date': '2022-09-01', 'Product Category': 'Electronics', 'Price': 300.2},{'Purchase Date': '2022-08-12', 'Product Category': 'Clothing', 'Price': 185.3},{'Purchase Date': '2022-07-28', 'Product Category': 'Home & Garden', 'Price': 200.9}\",\"{'Purchase Date': '2022-09-05', 'Product Category': 'Electronics', 'Price': 400.9},{'Purchase Date': '2022-08-18', 'Product Category': 'Clothing', 'Price': 195.3},{'Purchase Date': '2022-07-03', 'Product Category': 'Home & Garden', 'Price': 220.7}\",\"{'Purchase Date': '2022-08-25', 'Product Category': 'Electronics', 'Price': 170.8},{'Purchase Date': '2022-07-09', 'Product Category': 'Clothing', 'Price': 105.6},{'Purchase Date': '2022-06-24', 'Product Category': 'Home & Garden', 'Price': 290.1}\",\"{'Purchase Date': '2022-01-18', 'Product Category': 'Home & Garden', 'Price': 180},{'Purchase Date': '2022-06-02', 'Product Category': 'Electronics', 'Price': 400}\",\"[{\\\"Product Category\\\": \\\"Clothing\\\", \\\"Purchase Date\\\": \\\"2022-06-22\\\", \\\"Price\\\": 34.99}, {\\\"Product Category\\\": \\\"Electronics\\\", \\\"Purchase Date\\\": \\\"2022-05-15\\\", \\\"Price\\\": 149.99}]\",\"[{\\\"Purchase Date\\\": \\\"2022-07-01\\\",\\\"Product Category\\\": \\\"Electronics\\\",\\\"Price\\\": 180},{\\\"Purchase Date\\\": \\\"2022-06-18\\\",\\\"Product Category\\\": \\\"Clothing\\\",\\\"Price\\\": 50},{\\\"Purchase Date\\\": \\\"2022-05-09\\\",\\\"Product Category\\\": \\\"Home & Garden\\\",\\\"Price\\\": 30}]\"],\"yaxis\":\"y\",\"type\":\"histogram\"}],                        {\"template\":{\"data\":{\"histogram2dcontour\":[{\"type\":\"histogram2dcontour\",\"colorbar\":{\"outlinewidth\":0,\"ticks\":\"\"},\"colorscale\":[[0.0,\"#0d0887\"],[0.1111111111111111,\"#46039f\"],[0.2222222222222222,\"#7201a8\"],[0.3333333333333333,\"#9c179e\"],[0.4444444444444444,\"#bd3786\"],[0.5555555555555556,\"#d8576b\"],[0.6666666666666666,\"#ed7953\"],[0.7777777777777778,\"#fb9f3a\"],[0.8888888888888888,\"#fdca26\"],[1.0,\"#f0f921\"]]}],\"choropleth\":[{\"type\":\"choropleth\",\"colorbar\":{\"outlinewidth\":0,\"ticks\":\"\"}}],\"histogram2d\":[{\"type\":\"histogram2d\",\"colorbar\":{\"outlinewidth\":0,\"ticks\":\"\"},\"colorscale\":[[0.0,\"#0d0887\"],[0.1111111111111111,\"#46039f\"],[0.2222222222222222,\"#7201a8\"],[0.3333333333333333,\"#9c179e\"],[0.4444444444444444,\"#bd3786\"],[0.5555555555555556,\"#d8576b\"],[0.6666666666666666,\"#ed7953\"],[0.7777777777777778,\"#fb9f3a\"],[0.8888888888888888,\"#fdca26\"],[1.0,\"#f0f921\"]]}],\"heatmap\":[{\"type\":\"heatmap\",\"colorbar\":{\"outlinewidth\":0,\"ticks\":\"\"},\"colorscale\":[[0.0,\"#0d0887\"],[0.1111111111111111,\"#46039f\"],[0.2222222222222222,\"#7201a8\"],[0.3333333333333333,\"#9c179e\"],[0.4444444444444444,\"#bd3786\"],[0.5555555555555556,\"#d8576b\"],[0.6666666666666666,\"#ed7953\"],[0.7777777777777778,\"#fb9f3a\"],[0.8888888888888888,\"#fdca26\"],[1.0,\"#f0f921\"]]}],\"heatmapgl\":[{\"type\":\"heatmapgl\",\"colorbar\":{\"outlinewidth\":0,\"ticks\":\"\"},\"colorscale\":[[0.0,\"#0d0887\"],[0.1111111111111111,\"#46039f\"],[0.2222222222222222,\"#7201a8\"],[0.3333333333333333,\"#9c179e\"],[0.4444444444444444,\"#bd3786\"],[0.5555555555555556,\"#d8576b\"],[0.6666666666666666,\"#ed7953\"],[0.7777777777777778,\"#fb9f3a\"],[0.8888888888888888,\"#fdca26\"],[1.0,\"#f0f921\"]]}],\"contourcarpet\":[{\"type\":\"contourcarpet\",\"colorbar\":{\"outlinewidth\":0,\"ticks\":\"\"}}],\"contour\":[{\"type\":\"contour\",\"colorbar\":{\"outlinewidth\":0,\"ticks\":\"\"},\"colorscale\":[[0.0,\"#0d0887\"],[0.1111111111111111,\"#46039f\"],[0.2222222222222222,\"#7201a8\"],[0.3333333333333333,\"#9c179e\"],[0.4444444444444444,\"#bd3786\"],[0.5555555555555556,\"#d8576b\"],[0.6666666666666666,\"#ed7953\"],[0.7777777777777778,\"#fb9f3a\"],[0.8888888888888888,\"#fdca26\"],[1.0,\"#f0f921\"]]}],\"surface\":[{\"type\":\"surface\",\"colorbar\":{\"outlinewidth\":0,\"ticks\":\"\"},\"colorscale\":[[0.0,\"#0d0887\"],[0.1111111111111111,\"#46039f\"],[0.2222222222222222,\"#7201a8\"],[0.3333333333333333,\"#9c179e\"],[0.4444444444444444,\"#bd3786\"],[0.5555555555555556,\"#d8576b\"],[0.6666666666666666,\"#ed7953\"],[0.7777777777777778,\"#fb9f3a\"],[0.8888888888888888,\"#fdca26\"],[1.0,\"#f0f921\"]]}],\"mesh3d\":[{\"type\":\"mesh3d\",\"colorbar\":{\"outlinewidth\":0,\"ticks\":\"\"}}],\"scatter\":[{\"fillpattern\":{\"fillmode\":\"overlay\",\"size\":10,\"solidity\":0.2},\"type\":\"scatter\"}],\"parcoords\":[{\"type\":\"parcoords\",\"line\":{\"colorbar\":{\"outlinewidth\":0,\"ticks\":\"\"}}}],\"scatterpolargl\":[{\"type\":\"scatterpolargl\",\"marker\":{\"colorbar\":{\"outlinewidth\":0,\"ticks\":\"\"}}}],\"bar\":[{\"error_x\":{\"color\":\"#2a3f5f\"},\"error_y\":{\"color\":\"#2a3f5f\"},\"marker\":{\"line\":{\"color\":\"#E5ECF6\",\"width\":0.5},\"pattern\":{\"fillmode\":\"overlay\",\"size\":10,\"solidity\":0.2}},\"type\":\"bar\"}],\"scattergeo\":[{\"type\":\"scattergeo\",\"marker\":{\"colorbar\":{\"outlinewidth\":0,\"ticks\":\"\"}}}],\"scatterpolar\":[{\"type\":\"scatterpolar\",\"marker\":{\"colorbar\":{\"outlinewidth\":0,\"ticks\":\"\"}}}],\"histogram\":[{\"marker\":{\"pattern\":{\"fillmode\":\"overlay\",\"size\":10,\"solidity\":0.2}},\"type\":\"histogram\"}],\"scattergl\":[{\"type\":\"scattergl\",\"marker\":{\"colorbar\":{\"outlinewidth\":0,\"ticks\":\"\"}}}],\"scatter3d\":[{\"type\":\"scatter3d\",\"line\":{\"colorbar\":{\"outlinewidth\":0,\"ticks\":\"\"}},\"marker\":{\"colorbar\":{\"outlinewidth\":0,\"ticks\":\"\"}}}],\"scattermapbox\":[{\"type\":\"scattermapbox\",\"marker\":{\"colorbar\":{\"outlinewidth\":0,\"ticks\":\"\"}}}],\"scatterternary\":[{\"type\":\"scatterternary\",\"marker\":{\"colorbar\":{\"outlinewidth\":0,\"ticks\":\"\"}}}],\"scattercarpet\":[{\"type\":\"scattercarpet\",\"marker\":{\"colorbar\":{\"outlinewidth\":0,\"ticks\":\"\"}}}],\"carpet\":[{\"aaxis\":{\"endlinecolor\":\"#2a3f5f\",\"gridcolor\":\"white\",\"linecolor\":\"white\",\"minorgridcolor\":\"white\",\"startlinecolor\":\"#2a3f5f\"},\"baxis\":{\"endlinecolor\":\"#2a3f5f\",\"gridcolor\":\"white\",\"linecolor\":\"white\",\"minorgridcolor\":\"white\",\"startlinecolor\":\"#2a3f5f\"},\"type\":\"carpet\"}],\"table\":[{\"cells\":{\"fill\":{\"color\":\"#EBF0F8\"},\"line\":{\"color\":\"white\"}},\"header\":{\"fill\":{\"color\":\"#C8D4E3\"},\"line\":{\"color\":\"white\"}},\"type\":\"table\"}],\"barpolar\":[{\"marker\":{\"line\":{\"color\":\"#E5ECF6\",\"width\":0.5},\"pattern\":{\"fillmode\":\"overlay\",\"size\":10,\"solidity\":0.2}},\"type\":\"barpolar\"}],\"pie\":[{\"automargin\":true,\"type\":\"pie\"}]},\"layout\":{\"autotypenumbers\":\"strict\",\"colorway\":[\"#636efa\",\"#EF553B\",\"#00cc96\",\"#ab63fa\",\"#FFA15A\",\"#19d3f3\",\"#FF6692\",\"#B6E880\",\"#FF97FF\",\"#FECB52\"],\"font\":{\"color\":\"#2a3f5f\"},\"hovermode\":\"closest\",\"hoverlabel\":{\"align\":\"left\"},\"paper_bgcolor\":\"white\",\"plot_bgcolor\":\"#E5ECF6\",\"polar\":{\"bgcolor\":\"#E5ECF6\",\"angularaxis\":{\"gridcolor\":\"white\",\"linecolor\":\"white\",\"ticks\":\"\"},\"radialaxis\":{\"gridcolor\":\"white\",\"linecolor\":\"white\",\"ticks\":\"\"}},\"ternary\":{\"bgcolor\":\"#E5ECF6\",\"aaxis\":{\"gridcolor\":\"white\",\"linecolor\":\"white\",\"ticks\":\"\"},\"baxis\":{\"gridcolor\":\"white\",\"linecolor\":\"white\",\"ticks\":\"\"},\"caxis\":{\"gridcolor\":\"white\",\"linecolor\":\"white\",\"ticks\":\"\"}},\"coloraxis\":{\"colorbar\":{\"outlinewidth\":0,\"ticks\":\"\"}},\"colorscale\":{\"sequential\":[[0.0,\"#0d0887\"],[0.1111111111111111,\"#46039f\"],[0.2222222222222222,\"#7201a8\"],[0.3333333333333333,\"#9c179e\"],[0.4444444444444444,\"#bd3786\"],[0.5555555555555556,\"#d8576b\"],[0.6666666666666666,\"#ed7953\"],[0.7777777777777778,\"#fb9f3a\"],[0.8888888888888888,\"#fdca26\"],[1.0,\"#f0f921\"]],\"sequentialminus\":[[0.0,\"#0d0887\"],[0.1111111111111111,\"#46039f\"],[0.2222222222222222,\"#7201a8\"],[0.3333333333333333,\"#9c179e\"],[0.4444444444444444,\"#bd3786\"],[0.5555555555555556,\"#d8576b\"],[0.6666666666666666,\"#ed7953\"],[0.7777777777777778,\"#fb9f3a\"],[0.8888888888888888,\"#fdca26\"],[1.0,\"#f0f921\"]],\"diverging\":[[0,\"#8e0152\"],[0.1,\"#c51b7d\"],[0.2,\"#de77ae\"],[0.3,\"#f1b6da\"],[0.4,\"#fde0ef\"],[0.5,\"#f7f7f7\"],[0.6,\"#e6f5d0\"],[0.7,\"#b8e186\"],[0.8,\"#7fbc41\"],[0.9,\"#4d9221\"],[1,\"#276419\"]]},\"xaxis\":{\"gridcolor\":\"white\",\"linecolor\":\"white\",\"ticks\":\"\",\"title\":{\"standoff\":15},\"zerolinecolor\":\"white\",\"automargin\":true,\"zerolinewidth\":2},\"yaxis\":{\"gridcolor\":\"white\",\"linecolor\":\"white\",\"ticks\":\"\",\"title\":{\"standoff\":15},\"zerolinecolor\":\"white\",\"automargin\":true,\"zerolinewidth\":2},\"scene\":{\"xaxis\":{\"backgroundcolor\":\"#E5ECF6\",\"gridcolor\":\"white\",\"linecolor\":\"white\",\"showbackground\":true,\"ticks\":\"\",\"zerolinecolor\":\"white\",\"gridwidth\":2},\"yaxis\":{\"backgroundcolor\":\"#E5ECF6\",\"gridcolor\":\"white\",\"linecolor\":\"white\",\"showbackground\":true,\"ticks\":\"\",\"zerolinecolor\":\"white\",\"gridwidth\":2},\"zaxis\":{\"backgroundcolor\":\"#E5ECF6\",\"gridcolor\":\"white\",\"linecolor\":\"white\",\"showbackground\":true,\"ticks\":\"\",\"zerolinecolor\":\"white\",\"gridwidth\":2}},\"shapedefaults\":{\"line\":{\"color\":\"#2a3f5f\"}},\"annotationdefaults\":{\"arrowcolor\":\"#2a3f5f\",\"arrowhead\":0,\"arrowwidth\":1},\"geo\":{\"bgcolor\":\"white\",\"landcolor\":\"#E5ECF6\",\"subunitcolor\":\"white\",\"showland\":true,\"showlakes\":true,\"lakecolor\":\"white\"},\"title\":{\"x\":0.05},\"mapbox\":{\"style\":\"light\"}}},\"xaxis\":{\"anchor\":\"y\",\"domain\":[0.0,1.0],\"title\":{\"text\":\"sum of Age\"}},\"yaxis\":{\"anchor\":\"x\",\"domain\":[0.0,1.0],\"title\":{\"text\":\"Purchase History\"}},\"legend\":{\"title\":{\"text\":\"Gender\"},\"tracegroupgap\":0},\"title\":{\"text\":\"Purchase History Distribution by Age Group\"},\"barmode\":\"relative\",\"width\":2500},                        {\"responsive\": true}                    ).then(function(){\n",
              "                            \n",
              "var gd = document.getElementById('0c22bc65-5ff0-4080-b988-9472f807cbfc');\n",
              "var x = new MutationObserver(function (mutations, observer) {{\n",
              "        var display = window.getComputedStyle(gd).display;\n",
              "        if (!display || display === 'none') {{\n",
              "            console.log([gd, 'removed!']);\n",
              "            Plotly.purge(gd);\n",
              "            observer.disconnect();\n",
              "        }}\n",
              "}});\n",
              "\n",
              "// Listen for the removal of the full notebook cells\n",
              "var notebookContainer = gd.closest('#notebook-container');\n",
              "if (notebookContainer) {{\n",
              "    x.observe(notebookContainer, {childList: true});\n",
              "}}\n",
              "\n",
              "// Listen for the clearing of the current output cell\n",
              "var outputEl = gd.closest('.output');\n",
              "if (outputEl) {{\n",
              "    x.observe(outputEl, {childList: true});\n",
              "}}\n",
              "\n",
              "                        })                };                            </script>        </div>\n",
              "</body>\n",
              "</html>"
            ]
          },
          "metadata": {}
        }
      ]
    },
    {
      "cell_type": "markdown",
      "source": [
        "**What is the relationship between product reviews and time spent on the site?**"
      ],
      "metadata": {
        "id": "snmix_uLdNDL"
      }
    },
    {
      "cell_type": "code",
      "source": [
        "fig = px.scatter(df_no_outliers, x='Product Reviews', y='Time on Site', color='Gender',\n",
        "                 title='Time on Site vs Product Reviews', height=1200)\n",
        "fig.show()"
      ],
      "metadata": {
        "execution": {
          "iopub.status.busy": "2024-10-03T09:17:46.939832Z",
          "iopub.execute_input": "2024-10-03T09:17:46.940192Z",
          "iopub.status.idle": "2024-10-03T09:17:47.027504Z",
          "shell.execute_reply.started": "2024-10-03T09:17:46.940153Z",
          "shell.execute_reply": "2024-10-03T09:17:47.02626Z"
        },
        "trusted": true,
        "colab": {
          "base_uri": "https://localhost:8080/",
          "height": 1000
        },
        "id": "CsbGPk8zdNDL",
        "outputId": "da28fd50-99c3-4042-f28d-94e8d365a778"
      },
      "execution_count": 29,
      "outputs": [
        {
          "output_type": "display_data",
          "data": {
            "text/html": [
              "<html>\n",
              "<head><meta charset=\"utf-8\" /></head>\n",
              "<body>\n",
              "    <div>            <script src=\"https://cdnjs.cloudflare.com/ajax/libs/mathjax/2.7.5/MathJax.js?config=TeX-AMS-MML_SVG\"></script><script type=\"text/javascript\">if (window.MathJax && window.MathJax.Hub && window.MathJax.Hub.Config) {window.MathJax.Hub.Config({SVG: {font: \"STIX-Web\"}});}</script>                <script type=\"text/javascript\">window.PlotlyConfig = {MathJaxConfig: 'local'};</script>\n",
              "        <script charset=\"utf-8\" src=\"https://cdn.plot.ly/plotly-2.35.2.min.js\"></script>                <div id=\"adf6ea2c-0f62-43cb-b6c0-902cb2f0f1a9\" class=\"plotly-graph-div\" style=\"height:1200px; width:100%;\"></div>            <script type=\"text/javascript\">                                    window.PLOTLYENV=window.PLOTLYENV || {};                                    if (document.getElementById(\"adf6ea2c-0f62-43cb-b6c0-902cb2f0f1a9\")) {                    Plotly.newPlot(                        \"adf6ea2c-0f62-43cb-b6c0-902cb2f0f1a9\",                        [{\"hovertemplate\":\"Gender=Female\\u003cbr\\u003eProduct Reviews=%{x}\\u003cbr\\u003eTime on Site=%{y}\\u003cextra\\u003e\\u003c\\u002fextra\\u003e\",\"legendgroup\":\"Female\",\"marker\":{\"color\":\"#636efa\",\"symbol\":\"circle\"},\"mode\":\"markers\",\"name\":\"Female\",\"orientation\":\"v\",\"showlegend\":true,\"x\":[\"Great pair of jeans, very comfortable. Rating: 4 stars.\",\"Great customer service!\",\"Great electronics. The sound quality is excellent. I would highly recommend this product.\",\"{\\\"Product 1\\\": {\\\"Rating\\\": 4, \\\"Review\\\": \\\"Great experience buying this product. Fast delivery and excellent customer service.\\\"}}\",\"{\\\"Product 1\\\": {\\\"Rating\\\": 4, \\\"Review\\\": \\\"Great product, will definitely buy again.\\\"}}\",\"{\\\"Product 1\\\": {\\\"Rating\\\": 4, \\\"Review\\\": \\\"Good product, but could have been better.\\\"}}\",\"{\\\"Review Text\\\": \\\"Great quality clothes!\\\", \\\"Rating\\\": 5}\",\"{\\\"Review Text\\\": \\\"Not what I expected.\\\", \\\"Rating\\\": 2}\",\"{\\\"Review Text\\\": \\\"Awesome purchase!\\\", \\\"Rating\\\": 5}\",\"{\\\"Review Text\\\": \\\"Great product, highly recommend!\\\", \\\"Rating\\\": 5}\",\"{\\\"Review Text\\\": \\\"Excellent product, highly recommend!\\\", \\\"Rating\\\": 5}\",\"{\\\"Review Text\\\": \\\"Excellent product, highly recommend!\\\", \\\"Rating\\\": 5}\",\"This dress is amazing! I love the color and fit. 5 stars.\",\"The blouse is so comfortable and stylish. 5 stars!\",\"The dress fits perfectly. I love it. 5 stars!\",\"The top is nice, but the size is a bit small. 3.5 stars.\",\"The shirt is comfortable. 4 stars.\",\"The shoes are comfortable. 4.5 stars.\",\"The skirt is lovely. 4.5 stars.\",\"The bedding is comfortable. 4 stars.\",\"Great find! 5 stars\",\"Great product, very happy with my purchase.\",\"Great headphones, sound quality is amazing.\",\"Great purchase! The shoes are so comfortable and stylish. I've received several compliments.\",\"I love my new kitchen gadget! It's so efficient and easy to use.\",\"The clothing arrived quickly and fits great! 5 stars.\"],\"xaxis\":\"x\",\"y\":[32.5,123.45,125.6,327.6,378.5,334.9,120.0,150.0,250.0,280.0,200.0,240.0,120.5,120.0,250.0,200.0,300.0,250.0,200.0,250.0,72.3,123.6,75.2,120.5,300.0,120.0],\"yaxis\":\"y\",\"type\":\"scatter\"},{\"hovertemplate\":\"Gender=Male\\u003cbr\\u003eProduct Reviews=%{x}\\u003cbr\\u003eTime on Site=%{y}\\u003cextra\\u003e\\u003c\\u002fextra\\u003e\",\"legendgroup\":\"Male\",\"marker\":{\"color\":\"#EF553B\",\"symbol\":\"circle\"},\"mode\":\"markers\",\"name\":\"Male\",\"orientation\":\"v\",\"showlegend\":true,\"x\":[\"{\\\"Product 1\\\": {\\\"Rating\\\": 3, \\\"Review\\\": \\\"Good product, but could have been better.\\\"}}\",\"{\\\"Product 1\\\": {\\\"Rating\\\": 3, \\\"Review\\\": \\\"Good product, but not worth the price.\\\"}}\",\"{\\\"Product 1\\\": {\\\"Rating\\\": 3, \\\"Review\\\": \\\"Good product, but not what I expected.\\\"}}\",\"{\\\"Review Text\\\": \\\"Good product, but could be cheaper.\\\", \\\"Rating\\\": 3}\",\"{\\\"Review Text\\\": \\\"Excellent product, highly recommend!\\\", \\\"Rating\\\": 5}\",\"{\\\"Review Text\\\": \\\"Good product, but not worth the price.\\\", \\\"Rating\\\": 3}\",\"{\\\"Review Text\\\": \\\"Satisfied with my purchase!\\\", \\\"Rating\\\": 4}\",\"{\\\"Review Text\\\": \\\"Good product, but could be better.\\\", \\\"Rating\\\": 3}\",\"The headphones are great. Sound quality is excellent. 4.5 stars.\",\"The vacuum cleaner works great. 4 stars.\",\"The phone is fantastic. 5 stars!\",\"The laptop is excellent. 5 stars!\",\"The coffee maker is great. 5 stars!\",\"The TV is amazing. 5 stars!\",\"The product arrived quickly and in great condition.\",\"I'm really happy with my new phone. The battery life is impressive.\",\"The laptop is perfect for my needs. It's lightweight and powerful.\",\"The electronics were excellent quality and arrived promptly. 5 stars.\"],\"xaxis\":\"x\",\"y\":[214.9,289.8,298.6,75.0,300.0,180.0,220.0,160.0,300.0,350.0,400.0,450.0,350.0,300.0,246.9,250.0,100.0,350.0],\"yaxis\":\"y\",\"type\":\"scatter\"},{\"hovertemplate\":\"Gender=Other\\u003cbr\\u003eProduct Reviews=%{x}\\u003cbr\\u003eTime on Site=%{y}\\u003cextra\\u003e\\u003c\\u002fextra\\u003e\",\"legendgroup\":\"Other\",\"marker\":{\"color\":\"#00cc96\",\"symbol\":\"circle\"},\"mode\":\"markers\",\"name\":\"Other\",\"orientation\":\"v\",\"showlegend\":true,\"x\":[\"{\\\"Product 1\\\": {\\\"Rating\\\": 5, \\\"Review\\\": \\\"Awesome product, highly recommend it to everyone.\\\"}}\",\"{\\\"Product 1\\\": {\\\"Rating\\\": 5, \\\"Review\\\": \\\"Outstanding product, exceeded my expectations.\\\"}}\",\"{\\\"Product 1\\\": {\\\"Rating\\\": 4, \\\"Review\\\": \\\"Great product, will definitely buy again.\\\"}}\",\"{\\\"Review Text\\\": \\\"Very satisfied with my purchase!\\\", \\\"Rating\\\": 5}\",\"The headphones are amazing! The sound quality is excellent.\",\"The electronics were as described and arrived on time. 4 stars.\"],\"xaxis\":\"x\",\"y\":[486.3,456.2,312.5,200.0,75.0,200.0],\"yaxis\":\"y\",\"type\":\"scatter\"}],                        {\"template\":{\"data\":{\"histogram2dcontour\":[{\"type\":\"histogram2dcontour\",\"colorbar\":{\"outlinewidth\":0,\"ticks\":\"\"},\"colorscale\":[[0.0,\"#0d0887\"],[0.1111111111111111,\"#46039f\"],[0.2222222222222222,\"#7201a8\"],[0.3333333333333333,\"#9c179e\"],[0.4444444444444444,\"#bd3786\"],[0.5555555555555556,\"#d8576b\"],[0.6666666666666666,\"#ed7953\"],[0.7777777777777778,\"#fb9f3a\"],[0.8888888888888888,\"#fdca26\"],[1.0,\"#f0f921\"]]}],\"choropleth\":[{\"type\":\"choropleth\",\"colorbar\":{\"outlinewidth\":0,\"ticks\":\"\"}}],\"histogram2d\":[{\"type\":\"histogram2d\",\"colorbar\":{\"outlinewidth\":0,\"ticks\":\"\"},\"colorscale\":[[0.0,\"#0d0887\"],[0.1111111111111111,\"#46039f\"],[0.2222222222222222,\"#7201a8\"],[0.3333333333333333,\"#9c179e\"],[0.4444444444444444,\"#bd3786\"],[0.5555555555555556,\"#d8576b\"],[0.6666666666666666,\"#ed7953\"],[0.7777777777777778,\"#fb9f3a\"],[0.8888888888888888,\"#fdca26\"],[1.0,\"#f0f921\"]]}],\"heatmap\":[{\"type\":\"heatmap\",\"colorbar\":{\"outlinewidth\":0,\"ticks\":\"\"},\"colorscale\":[[0.0,\"#0d0887\"],[0.1111111111111111,\"#46039f\"],[0.2222222222222222,\"#7201a8\"],[0.3333333333333333,\"#9c179e\"],[0.4444444444444444,\"#bd3786\"],[0.5555555555555556,\"#d8576b\"],[0.6666666666666666,\"#ed7953\"],[0.7777777777777778,\"#fb9f3a\"],[0.8888888888888888,\"#fdca26\"],[1.0,\"#f0f921\"]]}],\"heatmapgl\":[{\"type\":\"heatmapgl\",\"colorbar\":{\"outlinewidth\":0,\"ticks\":\"\"},\"colorscale\":[[0.0,\"#0d0887\"],[0.1111111111111111,\"#46039f\"],[0.2222222222222222,\"#7201a8\"],[0.3333333333333333,\"#9c179e\"],[0.4444444444444444,\"#bd3786\"],[0.5555555555555556,\"#d8576b\"],[0.6666666666666666,\"#ed7953\"],[0.7777777777777778,\"#fb9f3a\"],[0.8888888888888888,\"#fdca26\"],[1.0,\"#f0f921\"]]}],\"contourcarpet\":[{\"type\":\"contourcarpet\",\"colorbar\":{\"outlinewidth\":0,\"ticks\":\"\"}}],\"contour\":[{\"type\":\"contour\",\"colorbar\":{\"outlinewidth\":0,\"ticks\":\"\"},\"colorscale\":[[0.0,\"#0d0887\"],[0.1111111111111111,\"#46039f\"],[0.2222222222222222,\"#7201a8\"],[0.3333333333333333,\"#9c179e\"],[0.4444444444444444,\"#bd3786\"],[0.5555555555555556,\"#d8576b\"],[0.6666666666666666,\"#ed7953\"],[0.7777777777777778,\"#fb9f3a\"],[0.8888888888888888,\"#fdca26\"],[1.0,\"#f0f921\"]]}],\"surface\":[{\"type\":\"surface\",\"colorbar\":{\"outlinewidth\":0,\"ticks\":\"\"},\"colorscale\":[[0.0,\"#0d0887\"],[0.1111111111111111,\"#46039f\"],[0.2222222222222222,\"#7201a8\"],[0.3333333333333333,\"#9c179e\"],[0.4444444444444444,\"#bd3786\"],[0.5555555555555556,\"#d8576b\"],[0.6666666666666666,\"#ed7953\"],[0.7777777777777778,\"#fb9f3a\"],[0.8888888888888888,\"#fdca26\"],[1.0,\"#f0f921\"]]}],\"mesh3d\":[{\"type\":\"mesh3d\",\"colorbar\":{\"outlinewidth\":0,\"ticks\":\"\"}}],\"scatter\":[{\"fillpattern\":{\"fillmode\":\"overlay\",\"size\":10,\"solidity\":0.2},\"type\":\"scatter\"}],\"parcoords\":[{\"type\":\"parcoords\",\"line\":{\"colorbar\":{\"outlinewidth\":0,\"ticks\":\"\"}}}],\"scatterpolargl\":[{\"type\":\"scatterpolargl\",\"marker\":{\"colorbar\":{\"outlinewidth\":0,\"ticks\":\"\"}}}],\"bar\":[{\"error_x\":{\"color\":\"#2a3f5f\"},\"error_y\":{\"color\":\"#2a3f5f\"},\"marker\":{\"line\":{\"color\":\"#E5ECF6\",\"width\":0.5},\"pattern\":{\"fillmode\":\"overlay\",\"size\":10,\"solidity\":0.2}},\"type\":\"bar\"}],\"scattergeo\":[{\"type\":\"scattergeo\",\"marker\":{\"colorbar\":{\"outlinewidth\":0,\"ticks\":\"\"}}}],\"scatterpolar\":[{\"type\":\"scatterpolar\",\"marker\":{\"colorbar\":{\"outlinewidth\":0,\"ticks\":\"\"}}}],\"histogram\":[{\"marker\":{\"pattern\":{\"fillmode\":\"overlay\",\"size\":10,\"solidity\":0.2}},\"type\":\"histogram\"}],\"scattergl\":[{\"type\":\"scattergl\",\"marker\":{\"colorbar\":{\"outlinewidth\":0,\"ticks\":\"\"}}}],\"scatter3d\":[{\"type\":\"scatter3d\",\"line\":{\"colorbar\":{\"outlinewidth\":0,\"ticks\":\"\"}},\"marker\":{\"colorbar\":{\"outlinewidth\":0,\"ticks\":\"\"}}}],\"scattermapbox\":[{\"type\":\"scattermapbox\",\"marker\":{\"colorbar\":{\"outlinewidth\":0,\"ticks\":\"\"}}}],\"scatterternary\":[{\"type\":\"scatterternary\",\"marker\":{\"colorbar\":{\"outlinewidth\":0,\"ticks\":\"\"}}}],\"scattercarpet\":[{\"type\":\"scattercarpet\",\"marker\":{\"colorbar\":{\"outlinewidth\":0,\"ticks\":\"\"}}}],\"carpet\":[{\"aaxis\":{\"endlinecolor\":\"#2a3f5f\",\"gridcolor\":\"white\",\"linecolor\":\"white\",\"minorgridcolor\":\"white\",\"startlinecolor\":\"#2a3f5f\"},\"baxis\":{\"endlinecolor\":\"#2a3f5f\",\"gridcolor\":\"white\",\"linecolor\":\"white\",\"minorgridcolor\":\"white\",\"startlinecolor\":\"#2a3f5f\"},\"type\":\"carpet\"}],\"table\":[{\"cells\":{\"fill\":{\"color\":\"#EBF0F8\"},\"line\":{\"color\":\"white\"}},\"header\":{\"fill\":{\"color\":\"#C8D4E3\"},\"line\":{\"color\":\"white\"}},\"type\":\"table\"}],\"barpolar\":[{\"marker\":{\"line\":{\"color\":\"#E5ECF6\",\"width\":0.5},\"pattern\":{\"fillmode\":\"overlay\",\"size\":10,\"solidity\":0.2}},\"type\":\"barpolar\"}],\"pie\":[{\"automargin\":true,\"type\":\"pie\"}]},\"layout\":{\"autotypenumbers\":\"strict\",\"colorway\":[\"#636efa\",\"#EF553B\",\"#00cc96\",\"#ab63fa\",\"#FFA15A\",\"#19d3f3\",\"#FF6692\",\"#B6E880\",\"#FF97FF\",\"#FECB52\"],\"font\":{\"color\":\"#2a3f5f\"},\"hovermode\":\"closest\",\"hoverlabel\":{\"align\":\"left\"},\"paper_bgcolor\":\"white\",\"plot_bgcolor\":\"#E5ECF6\",\"polar\":{\"bgcolor\":\"#E5ECF6\",\"angularaxis\":{\"gridcolor\":\"white\",\"linecolor\":\"white\",\"ticks\":\"\"},\"radialaxis\":{\"gridcolor\":\"white\",\"linecolor\":\"white\",\"ticks\":\"\"}},\"ternary\":{\"bgcolor\":\"#E5ECF6\",\"aaxis\":{\"gridcolor\":\"white\",\"linecolor\":\"white\",\"ticks\":\"\"},\"baxis\":{\"gridcolor\":\"white\",\"linecolor\":\"white\",\"ticks\":\"\"},\"caxis\":{\"gridcolor\":\"white\",\"linecolor\":\"white\",\"ticks\":\"\"}},\"coloraxis\":{\"colorbar\":{\"outlinewidth\":0,\"ticks\":\"\"}},\"colorscale\":{\"sequential\":[[0.0,\"#0d0887\"],[0.1111111111111111,\"#46039f\"],[0.2222222222222222,\"#7201a8\"],[0.3333333333333333,\"#9c179e\"],[0.4444444444444444,\"#bd3786\"],[0.5555555555555556,\"#d8576b\"],[0.6666666666666666,\"#ed7953\"],[0.7777777777777778,\"#fb9f3a\"],[0.8888888888888888,\"#fdca26\"],[1.0,\"#f0f921\"]],\"sequentialminus\":[[0.0,\"#0d0887\"],[0.1111111111111111,\"#46039f\"],[0.2222222222222222,\"#7201a8\"],[0.3333333333333333,\"#9c179e\"],[0.4444444444444444,\"#bd3786\"],[0.5555555555555556,\"#d8576b\"],[0.6666666666666666,\"#ed7953\"],[0.7777777777777778,\"#fb9f3a\"],[0.8888888888888888,\"#fdca26\"],[1.0,\"#f0f921\"]],\"diverging\":[[0,\"#8e0152\"],[0.1,\"#c51b7d\"],[0.2,\"#de77ae\"],[0.3,\"#f1b6da\"],[0.4,\"#fde0ef\"],[0.5,\"#f7f7f7\"],[0.6,\"#e6f5d0\"],[0.7,\"#b8e186\"],[0.8,\"#7fbc41\"],[0.9,\"#4d9221\"],[1,\"#276419\"]]},\"xaxis\":{\"gridcolor\":\"white\",\"linecolor\":\"white\",\"ticks\":\"\",\"title\":{\"standoff\":15},\"zerolinecolor\":\"white\",\"automargin\":true,\"zerolinewidth\":2},\"yaxis\":{\"gridcolor\":\"white\",\"linecolor\":\"white\",\"ticks\":\"\",\"title\":{\"standoff\":15},\"zerolinecolor\":\"white\",\"automargin\":true,\"zerolinewidth\":2},\"scene\":{\"xaxis\":{\"backgroundcolor\":\"#E5ECF6\",\"gridcolor\":\"white\",\"linecolor\":\"white\",\"showbackground\":true,\"ticks\":\"\",\"zerolinecolor\":\"white\",\"gridwidth\":2},\"yaxis\":{\"backgroundcolor\":\"#E5ECF6\",\"gridcolor\":\"white\",\"linecolor\":\"white\",\"showbackground\":true,\"ticks\":\"\",\"zerolinecolor\":\"white\",\"gridwidth\":2},\"zaxis\":{\"backgroundcolor\":\"#E5ECF6\",\"gridcolor\":\"white\",\"linecolor\":\"white\",\"showbackground\":true,\"ticks\":\"\",\"zerolinecolor\":\"white\",\"gridwidth\":2}},\"shapedefaults\":{\"line\":{\"color\":\"#2a3f5f\"}},\"annotationdefaults\":{\"arrowcolor\":\"#2a3f5f\",\"arrowhead\":0,\"arrowwidth\":1},\"geo\":{\"bgcolor\":\"white\",\"landcolor\":\"#E5ECF6\",\"subunitcolor\":\"white\",\"showland\":true,\"showlakes\":true,\"lakecolor\":\"white\"},\"title\":{\"x\":0.05},\"mapbox\":{\"style\":\"light\"}}},\"xaxis\":{\"anchor\":\"y\",\"domain\":[0.0,1.0],\"title\":{\"text\":\"Product Reviews\"}},\"yaxis\":{\"anchor\":\"x\",\"domain\":[0.0,1.0],\"title\":{\"text\":\"Time on Site\"}},\"legend\":{\"title\":{\"text\":\"Gender\"},\"tracegroupgap\":0},\"title\":{\"text\":\"Time on Site vs Product Reviews\"},\"height\":1200},                        {\"responsive\": true}                    ).then(function(){\n",
              "                            \n",
              "var gd = document.getElementById('adf6ea2c-0f62-43cb-b6c0-902cb2f0f1a9');\n",
              "var x = new MutationObserver(function (mutations, observer) {{\n",
              "        var display = window.getComputedStyle(gd).display;\n",
              "        if (!display || display === 'none') {{\n",
              "            console.log([gd, 'removed!']);\n",
              "            Plotly.purge(gd);\n",
              "            observer.disconnect();\n",
              "        }}\n",
              "}});\n",
              "\n",
              "// Listen for the removal of the full notebook cells\n",
              "var notebookContainer = gd.closest('#notebook-container');\n",
              "if (notebookContainer) {{\n",
              "    x.observe(notebookContainer, {childList: true});\n",
              "}}\n",
              "\n",
              "// Listen for the clearing of the current output cell\n",
              "var outputEl = gd.closest('.output');\n",
              "if (outputEl) {{\n",
              "    x.observe(outputEl, {childList: true});\n",
              "}}\n",
              "\n",
              "                        })                };                            </script>        </div>\n",
              "</body>\n",
              "</html>"
            ]
          },
          "metadata": {}
        }
      ]
    },
    {
      "cell_type": "markdown",
      "source": [
        "**How does the distribution of time on site vary by location?**"
      ],
      "metadata": {
        "id": "fp6Kxox2dNDL"
      }
    },
    {
      "cell_type": "code",
      "source": [
        "fig = px.density_heatmap(df_no_outliers, x='Location', y='Time on Site', z='Time on Site',\n",
        "                         title='Distribution of Time on Site by Location')\n",
        "fig.show()"
      ],
      "metadata": {
        "execution": {
          "iopub.status.busy": "2024-10-03T09:17:47.02909Z",
          "iopub.execute_input": "2024-10-03T09:17:47.029573Z",
          "iopub.status.idle": "2024-10-03T09:17:47.105618Z",
          "shell.execute_reply.started": "2024-10-03T09:17:47.029521Z",
          "shell.execute_reply": "2024-10-03T09:17:47.104471Z"
        },
        "trusted": true,
        "colab": {
          "base_uri": "https://localhost:8080/",
          "height": 542
        },
        "id": "rju_OKokdNDL",
        "outputId": "076d66dc-a1a2-47ef-f688-b9c7bde6ab89"
      },
      "execution_count": 30,
      "outputs": [
        {
          "output_type": "display_data",
          "data": {
            "text/html": [
              "<html>\n",
              "<head><meta charset=\"utf-8\" /></head>\n",
              "<body>\n",
              "    <div>            <script src=\"https://cdnjs.cloudflare.com/ajax/libs/mathjax/2.7.5/MathJax.js?config=TeX-AMS-MML_SVG\"></script><script type=\"text/javascript\">if (window.MathJax && window.MathJax.Hub && window.MathJax.Hub.Config) {window.MathJax.Hub.Config({SVG: {font: \"STIX-Web\"}});}</script>                <script type=\"text/javascript\">window.PlotlyConfig = {MathJaxConfig: 'local'};</script>\n",
              "        <script charset=\"utf-8\" src=\"https://cdn.plot.ly/plotly-2.35.2.min.js\"></script>                <div id=\"e299fd7c-50d3-4930-a5eb-83151bb4524d\" class=\"plotly-graph-div\" style=\"height:525px; width:100%;\"></div>            <script type=\"text/javascript\">                                    window.PLOTLYENV=window.PLOTLYENV || {};                                    if (document.getElementById(\"e299fd7c-50d3-4930-a5eb-83151bb4524d\")) {                    Plotly.newPlot(                        \"e299fd7c-50d3-4930-a5eb-83151bb4524d\",                        [{\"coloraxis\":\"coloraxis\",\"histfunc\":\"sum\",\"hovertemplate\":\"Location=%{x}\\u003cbr\\u003eTime on Site=%{y}\\u003cbr\\u003esum of Time on Site=%{z}\\u003cextra\\u003e\\u003c\\u002fextra\\u003e\",\"name\":\"\",\"x\":[\"City D\",\"City D\",\"City D\",\"City D\",\"City E\",\"City F\",\"City G\",\"City H\",\"City I\",\"City J\",\"City K\",\"City L\",\"City D\",\"City A\",\"City B\",\"City C\",\"City E\",\"City F\",\"City G\",\"City H\",\"City I\",\"City J\",\"City K\",\"City L\",\"City D\",\"City D\",\"City E\",\"City F\",\"City G\",\"City H\",\"City I\",\"City J\",\"City K\",\"City L\",\"City M\",\"City N\",\"City O\",\"City P\",\"City D\",\"City D\",\"City E\",\"City D\",\"City D\",\"City E\",\"City F\",\"City G\",\"City H\",\"City D\",\"City E\",\"City F\"],\"xaxis\":\"x\",\"xbingroup\":\"x\",\"y\":[32.5,123.45,125.6,327.6,214.9,486.3,378.5,289.8,456.2,334.9,298.6,312.5,120.0,75.0,200.0,150.0,300.0,250.0,180.0,280.0,220.0,200.0,160.0,240.0,120.5,120.0,300.0,250.0,350.0,200.0,400.0,300.0,450.0,250.0,350.0,200.0,300.0,250.0,72.3,123.6,246.9,75.2,120.5,250.0,75.0,300.0,100.0,120.0,350.0,200.0],\"yaxis\":\"y\",\"ybingroup\":\"y\",\"z\":[32.5,123.45,125.6,327.6,214.9,486.3,378.5,289.8,456.2,334.9,298.6,312.5,120.0,75.0,200.0,150.0,300.0,250.0,180.0,280.0,220.0,200.0,160.0,240.0,120.5,120.0,300.0,250.0,350.0,200.0,400.0,300.0,450.0,250.0,350.0,200.0,300.0,250.0,72.3,123.6,246.9,75.2,120.5,250.0,75.0,300.0,100.0,120.0,350.0,200.0],\"type\":\"histogram2d\"}],                        {\"template\":{\"data\":{\"histogram2dcontour\":[{\"type\":\"histogram2dcontour\",\"colorbar\":{\"outlinewidth\":0,\"ticks\":\"\"},\"colorscale\":[[0.0,\"#0d0887\"],[0.1111111111111111,\"#46039f\"],[0.2222222222222222,\"#7201a8\"],[0.3333333333333333,\"#9c179e\"],[0.4444444444444444,\"#bd3786\"],[0.5555555555555556,\"#d8576b\"],[0.6666666666666666,\"#ed7953\"],[0.7777777777777778,\"#fb9f3a\"],[0.8888888888888888,\"#fdca26\"],[1.0,\"#f0f921\"]]}],\"choropleth\":[{\"type\":\"choropleth\",\"colorbar\":{\"outlinewidth\":0,\"ticks\":\"\"}}],\"histogram2d\":[{\"type\":\"histogram2d\",\"colorbar\":{\"outlinewidth\":0,\"ticks\":\"\"},\"colorscale\":[[0.0,\"#0d0887\"],[0.1111111111111111,\"#46039f\"],[0.2222222222222222,\"#7201a8\"],[0.3333333333333333,\"#9c179e\"],[0.4444444444444444,\"#bd3786\"],[0.5555555555555556,\"#d8576b\"],[0.6666666666666666,\"#ed7953\"],[0.7777777777777778,\"#fb9f3a\"],[0.8888888888888888,\"#fdca26\"],[1.0,\"#f0f921\"]]}],\"heatmap\":[{\"type\":\"heatmap\",\"colorbar\":{\"outlinewidth\":0,\"ticks\":\"\"},\"colorscale\":[[0.0,\"#0d0887\"],[0.1111111111111111,\"#46039f\"],[0.2222222222222222,\"#7201a8\"],[0.3333333333333333,\"#9c179e\"],[0.4444444444444444,\"#bd3786\"],[0.5555555555555556,\"#d8576b\"],[0.6666666666666666,\"#ed7953\"],[0.7777777777777778,\"#fb9f3a\"],[0.8888888888888888,\"#fdca26\"],[1.0,\"#f0f921\"]]}],\"heatmapgl\":[{\"type\":\"heatmapgl\",\"colorbar\":{\"outlinewidth\":0,\"ticks\":\"\"},\"colorscale\":[[0.0,\"#0d0887\"],[0.1111111111111111,\"#46039f\"],[0.2222222222222222,\"#7201a8\"],[0.3333333333333333,\"#9c179e\"],[0.4444444444444444,\"#bd3786\"],[0.5555555555555556,\"#d8576b\"],[0.6666666666666666,\"#ed7953\"],[0.7777777777777778,\"#fb9f3a\"],[0.8888888888888888,\"#fdca26\"],[1.0,\"#f0f921\"]]}],\"contourcarpet\":[{\"type\":\"contourcarpet\",\"colorbar\":{\"outlinewidth\":0,\"ticks\":\"\"}}],\"contour\":[{\"type\":\"contour\",\"colorbar\":{\"outlinewidth\":0,\"ticks\":\"\"},\"colorscale\":[[0.0,\"#0d0887\"],[0.1111111111111111,\"#46039f\"],[0.2222222222222222,\"#7201a8\"],[0.3333333333333333,\"#9c179e\"],[0.4444444444444444,\"#bd3786\"],[0.5555555555555556,\"#d8576b\"],[0.6666666666666666,\"#ed7953\"],[0.7777777777777778,\"#fb9f3a\"],[0.8888888888888888,\"#fdca26\"],[1.0,\"#f0f921\"]]}],\"surface\":[{\"type\":\"surface\",\"colorbar\":{\"outlinewidth\":0,\"ticks\":\"\"},\"colorscale\":[[0.0,\"#0d0887\"],[0.1111111111111111,\"#46039f\"],[0.2222222222222222,\"#7201a8\"],[0.3333333333333333,\"#9c179e\"],[0.4444444444444444,\"#bd3786\"],[0.5555555555555556,\"#d8576b\"],[0.6666666666666666,\"#ed7953\"],[0.7777777777777778,\"#fb9f3a\"],[0.8888888888888888,\"#fdca26\"],[1.0,\"#f0f921\"]]}],\"mesh3d\":[{\"type\":\"mesh3d\",\"colorbar\":{\"outlinewidth\":0,\"ticks\":\"\"}}],\"scatter\":[{\"fillpattern\":{\"fillmode\":\"overlay\",\"size\":10,\"solidity\":0.2},\"type\":\"scatter\"}],\"parcoords\":[{\"type\":\"parcoords\",\"line\":{\"colorbar\":{\"outlinewidth\":0,\"ticks\":\"\"}}}],\"scatterpolargl\":[{\"type\":\"scatterpolargl\",\"marker\":{\"colorbar\":{\"outlinewidth\":0,\"ticks\":\"\"}}}],\"bar\":[{\"error_x\":{\"color\":\"#2a3f5f\"},\"error_y\":{\"color\":\"#2a3f5f\"},\"marker\":{\"line\":{\"color\":\"#E5ECF6\",\"width\":0.5},\"pattern\":{\"fillmode\":\"overlay\",\"size\":10,\"solidity\":0.2}},\"type\":\"bar\"}],\"scattergeo\":[{\"type\":\"scattergeo\",\"marker\":{\"colorbar\":{\"outlinewidth\":0,\"ticks\":\"\"}}}],\"scatterpolar\":[{\"type\":\"scatterpolar\",\"marker\":{\"colorbar\":{\"outlinewidth\":0,\"ticks\":\"\"}}}],\"histogram\":[{\"marker\":{\"pattern\":{\"fillmode\":\"overlay\",\"size\":10,\"solidity\":0.2}},\"type\":\"histogram\"}],\"scattergl\":[{\"type\":\"scattergl\",\"marker\":{\"colorbar\":{\"outlinewidth\":0,\"ticks\":\"\"}}}],\"scatter3d\":[{\"type\":\"scatter3d\",\"line\":{\"colorbar\":{\"outlinewidth\":0,\"ticks\":\"\"}},\"marker\":{\"colorbar\":{\"outlinewidth\":0,\"ticks\":\"\"}}}],\"scattermapbox\":[{\"type\":\"scattermapbox\",\"marker\":{\"colorbar\":{\"outlinewidth\":0,\"ticks\":\"\"}}}],\"scatterternary\":[{\"type\":\"scatterternary\",\"marker\":{\"colorbar\":{\"outlinewidth\":0,\"ticks\":\"\"}}}],\"scattercarpet\":[{\"type\":\"scattercarpet\",\"marker\":{\"colorbar\":{\"outlinewidth\":0,\"ticks\":\"\"}}}],\"carpet\":[{\"aaxis\":{\"endlinecolor\":\"#2a3f5f\",\"gridcolor\":\"white\",\"linecolor\":\"white\",\"minorgridcolor\":\"white\",\"startlinecolor\":\"#2a3f5f\"},\"baxis\":{\"endlinecolor\":\"#2a3f5f\",\"gridcolor\":\"white\",\"linecolor\":\"white\",\"minorgridcolor\":\"white\",\"startlinecolor\":\"#2a3f5f\"},\"type\":\"carpet\"}],\"table\":[{\"cells\":{\"fill\":{\"color\":\"#EBF0F8\"},\"line\":{\"color\":\"white\"}},\"header\":{\"fill\":{\"color\":\"#C8D4E3\"},\"line\":{\"color\":\"white\"}},\"type\":\"table\"}],\"barpolar\":[{\"marker\":{\"line\":{\"color\":\"#E5ECF6\",\"width\":0.5},\"pattern\":{\"fillmode\":\"overlay\",\"size\":10,\"solidity\":0.2}},\"type\":\"barpolar\"}],\"pie\":[{\"automargin\":true,\"type\":\"pie\"}]},\"layout\":{\"autotypenumbers\":\"strict\",\"colorway\":[\"#636efa\",\"#EF553B\",\"#00cc96\",\"#ab63fa\",\"#FFA15A\",\"#19d3f3\",\"#FF6692\",\"#B6E880\",\"#FF97FF\",\"#FECB52\"],\"font\":{\"color\":\"#2a3f5f\"},\"hovermode\":\"closest\",\"hoverlabel\":{\"align\":\"left\"},\"paper_bgcolor\":\"white\",\"plot_bgcolor\":\"#E5ECF6\",\"polar\":{\"bgcolor\":\"#E5ECF6\",\"angularaxis\":{\"gridcolor\":\"white\",\"linecolor\":\"white\",\"ticks\":\"\"},\"radialaxis\":{\"gridcolor\":\"white\",\"linecolor\":\"white\",\"ticks\":\"\"}},\"ternary\":{\"bgcolor\":\"#E5ECF6\",\"aaxis\":{\"gridcolor\":\"white\",\"linecolor\":\"white\",\"ticks\":\"\"},\"baxis\":{\"gridcolor\":\"white\",\"linecolor\":\"white\",\"ticks\":\"\"},\"caxis\":{\"gridcolor\":\"white\",\"linecolor\":\"white\",\"ticks\":\"\"}},\"coloraxis\":{\"colorbar\":{\"outlinewidth\":0,\"ticks\":\"\"}},\"colorscale\":{\"sequential\":[[0.0,\"#0d0887\"],[0.1111111111111111,\"#46039f\"],[0.2222222222222222,\"#7201a8\"],[0.3333333333333333,\"#9c179e\"],[0.4444444444444444,\"#bd3786\"],[0.5555555555555556,\"#d8576b\"],[0.6666666666666666,\"#ed7953\"],[0.7777777777777778,\"#fb9f3a\"],[0.8888888888888888,\"#fdca26\"],[1.0,\"#f0f921\"]],\"sequentialminus\":[[0.0,\"#0d0887\"],[0.1111111111111111,\"#46039f\"],[0.2222222222222222,\"#7201a8\"],[0.3333333333333333,\"#9c179e\"],[0.4444444444444444,\"#bd3786\"],[0.5555555555555556,\"#d8576b\"],[0.6666666666666666,\"#ed7953\"],[0.7777777777777778,\"#fb9f3a\"],[0.8888888888888888,\"#fdca26\"],[1.0,\"#f0f921\"]],\"diverging\":[[0,\"#8e0152\"],[0.1,\"#c51b7d\"],[0.2,\"#de77ae\"],[0.3,\"#f1b6da\"],[0.4,\"#fde0ef\"],[0.5,\"#f7f7f7\"],[0.6,\"#e6f5d0\"],[0.7,\"#b8e186\"],[0.8,\"#7fbc41\"],[0.9,\"#4d9221\"],[1,\"#276419\"]]},\"xaxis\":{\"gridcolor\":\"white\",\"linecolor\":\"white\",\"ticks\":\"\",\"title\":{\"standoff\":15},\"zerolinecolor\":\"white\",\"automargin\":true,\"zerolinewidth\":2},\"yaxis\":{\"gridcolor\":\"white\",\"linecolor\":\"white\",\"ticks\":\"\",\"title\":{\"standoff\":15},\"zerolinecolor\":\"white\",\"automargin\":true,\"zerolinewidth\":2},\"scene\":{\"xaxis\":{\"backgroundcolor\":\"#E5ECF6\",\"gridcolor\":\"white\",\"linecolor\":\"white\",\"showbackground\":true,\"ticks\":\"\",\"zerolinecolor\":\"white\",\"gridwidth\":2},\"yaxis\":{\"backgroundcolor\":\"#E5ECF6\",\"gridcolor\":\"white\",\"linecolor\":\"white\",\"showbackground\":true,\"ticks\":\"\",\"zerolinecolor\":\"white\",\"gridwidth\":2},\"zaxis\":{\"backgroundcolor\":\"#E5ECF6\",\"gridcolor\":\"white\",\"linecolor\":\"white\",\"showbackground\":true,\"ticks\":\"\",\"zerolinecolor\":\"white\",\"gridwidth\":2}},\"shapedefaults\":{\"line\":{\"color\":\"#2a3f5f\"}},\"annotationdefaults\":{\"arrowcolor\":\"#2a3f5f\",\"arrowhead\":0,\"arrowwidth\":1},\"geo\":{\"bgcolor\":\"white\",\"landcolor\":\"#E5ECF6\",\"subunitcolor\":\"white\",\"showland\":true,\"showlakes\":true,\"lakecolor\":\"white\"},\"title\":{\"x\":0.05},\"mapbox\":{\"style\":\"light\"}}},\"xaxis\":{\"anchor\":\"y\",\"domain\":[0.0,1.0],\"title\":{\"text\":\"Location\"}},\"yaxis\":{\"anchor\":\"x\",\"domain\":[0.0,1.0],\"title\":{\"text\":\"Time on Site\"}},\"coloraxis\":{\"colorbar\":{\"title\":{\"text\":\"sum of Time on Site\"}},\"colorscale\":[[0.0,\"#0d0887\"],[0.1111111111111111,\"#46039f\"],[0.2222222222222222,\"#7201a8\"],[0.3333333333333333,\"#9c179e\"],[0.4444444444444444,\"#bd3786\"],[0.5555555555555556,\"#d8576b\"],[0.6666666666666666,\"#ed7953\"],[0.7777777777777778,\"#fb9f3a\"],[0.8888888888888888,\"#fdca26\"],[1.0,\"#f0f921\"]]},\"legend\":{\"tracegroupgap\":0},\"title\":{\"text\":\"Distribution of Time on Site by Location\"}},                        {\"responsive\": true}                    ).then(function(){\n",
              "                            \n",
              "var gd = document.getElementById('e299fd7c-50d3-4930-a5eb-83151bb4524d');\n",
              "var x = new MutationObserver(function (mutations, observer) {{\n",
              "        var display = window.getComputedStyle(gd).display;\n",
              "        if (!display || display === 'none') {{\n",
              "            console.log([gd, 'removed!']);\n",
              "            Plotly.purge(gd);\n",
              "            observer.disconnect();\n",
              "        }}\n",
              "}});\n",
              "\n",
              "// Listen for the removal of the full notebook cells\n",
              "var notebookContainer = gd.closest('#notebook-container');\n",
              "if (notebookContainer) {{\n",
              "    x.observe(notebookContainer, {childList: true});\n",
              "}}\n",
              "\n",
              "// Listen for the clearing of the current output cell\n",
              "var outputEl = gd.closest('.output');\n",
              "if (outputEl) {{\n",
              "    x.observe(outputEl, {childList: true});\n",
              "}}\n",
              "\n",
              "                        })                };                            </script>        </div>\n",
              "</body>\n",
              "</html>"
            ]
          },
          "metadata": {}
        }
      ]
    },
    {
      "cell_type": "markdown",
      "source": [
        "**What is the distribution of customers' annual income across different locations?**"
      ],
      "metadata": {
        "id": "Z6G7hc54dNDL"
      }
    },
    {
      "cell_type": "code",
      "source": [
        "fig = px.density_heatmap(df_no_outliers, x='Location', y='Annual Income', z='Annual Income',\n",
        "                         title='Annual Income Distribution by Location')\n",
        "fig.show()"
      ],
      "metadata": {
        "execution": {
          "iopub.status.busy": "2024-10-03T09:17:47.107112Z",
          "iopub.execute_input": "2024-10-03T09:17:47.107522Z",
          "iopub.status.idle": "2024-10-03T09:17:47.183477Z",
          "shell.execute_reply.started": "2024-10-03T09:17:47.10748Z",
          "shell.execute_reply": "2024-10-03T09:17:47.182317Z"
        },
        "trusted": true,
        "colab": {
          "base_uri": "https://localhost:8080/",
          "height": 542
        },
        "id": "cxlsK4bwdNDM",
        "outputId": "0cd64ba9-f95b-40c4-99ca-944f313fc72c"
      },
      "execution_count": 31,
      "outputs": [
        {
          "output_type": "display_data",
          "data": {
            "text/html": [
              "<html>\n",
              "<head><meta charset=\"utf-8\" /></head>\n",
              "<body>\n",
              "    <div>            <script src=\"https://cdnjs.cloudflare.com/ajax/libs/mathjax/2.7.5/MathJax.js?config=TeX-AMS-MML_SVG\"></script><script type=\"text/javascript\">if (window.MathJax && window.MathJax.Hub && window.MathJax.Hub.Config) {window.MathJax.Hub.Config({SVG: {font: \"STIX-Web\"}});}</script>                <script type=\"text/javascript\">window.PlotlyConfig = {MathJaxConfig: 'local'};</script>\n",
              "        <script charset=\"utf-8\" src=\"https://cdn.plot.ly/plotly-2.35.2.min.js\"></script>                <div id=\"b4ae1c94-15bd-4ad4-b02c-fb3a32d7cdbe\" class=\"plotly-graph-div\" style=\"height:525px; width:100%;\"></div>            <script type=\"text/javascript\">                                    window.PLOTLYENV=window.PLOTLYENV || {};                                    if (document.getElementById(\"b4ae1c94-15bd-4ad4-b02c-fb3a32d7cdbe\")) {                    Plotly.newPlot(                        \"b4ae1c94-15bd-4ad4-b02c-fb3a32d7cdbe\",                        [{\"coloraxis\":\"coloraxis\",\"histfunc\":\"sum\",\"hovertemplate\":\"Location=%{x}\\u003cbr\\u003eAnnual Income=%{y}\\u003cbr\\u003esum of Annual Income=%{z}\\u003cextra\\u003e\\u003c\\u002fextra\\u003e\",\"name\":\"\",\"x\":[\"City D\",\"City D\",\"City D\",\"City D\",\"City E\",\"City F\",\"City G\",\"City H\",\"City I\",\"City J\",\"City K\",\"City L\",\"City D\",\"City A\",\"City B\",\"City C\",\"City E\",\"City F\",\"City G\",\"City H\",\"City I\",\"City J\",\"City K\",\"City L\",\"City D\",\"City D\",\"City E\",\"City F\",\"City G\",\"City H\",\"City I\",\"City J\",\"City K\",\"City L\",\"City M\",\"City N\",\"City O\",\"City P\",\"City D\",\"City D\",\"City E\",\"City D\",\"City D\",\"City E\",\"City F\",\"City G\",\"City H\",\"City D\",\"City E\",\"City F\"],\"xaxis\":\"x\",\"xbingroup\":\"x\",\"y\":[45000,52000,65000,70000,45000,90000,60000,75000,85000,55000,80000,40000,75000,50000,80000,45000,90000,65000,70000,85000,55000,75000,40000,95000,45000,50000,80000,60000,70000,45000,90000,65000,85000,40000,75000,55000,95000,68000,65000,60000,75000,55000,65000,80000,50000,100000,45000,55000,87000,42000],\"yaxis\":\"y\",\"ybingroup\":\"y\",\"z\":[45000,52000,65000,70000,45000,90000,60000,75000,85000,55000,80000,40000,75000,50000,80000,45000,90000,65000,70000,85000,55000,75000,40000,95000,45000,50000,80000,60000,70000,45000,90000,65000,85000,40000,75000,55000,95000,68000,65000,60000,75000,55000,65000,80000,50000,100000,45000,55000,87000,42000],\"type\":\"histogram2d\"}],                        {\"template\":{\"data\":{\"histogram2dcontour\":[{\"type\":\"histogram2dcontour\",\"colorbar\":{\"outlinewidth\":0,\"ticks\":\"\"},\"colorscale\":[[0.0,\"#0d0887\"],[0.1111111111111111,\"#46039f\"],[0.2222222222222222,\"#7201a8\"],[0.3333333333333333,\"#9c179e\"],[0.4444444444444444,\"#bd3786\"],[0.5555555555555556,\"#d8576b\"],[0.6666666666666666,\"#ed7953\"],[0.7777777777777778,\"#fb9f3a\"],[0.8888888888888888,\"#fdca26\"],[1.0,\"#f0f921\"]]}],\"choropleth\":[{\"type\":\"choropleth\",\"colorbar\":{\"outlinewidth\":0,\"ticks\":\"\"}}],\"histogram2d\":[{\"type\":\"histogram2d\",\"colorbar\":{\"outlinewidth\":0,\"ticks\":\"\"},\"colorscale\":[[0.0,\"#0d0887\"],[0.1111111111111111,\"#46039f\"],[0.2222222222222222,\"#7201a8\"],[0.3333333333333333,\"#9c179e\"],[0.4444444444444444,\"#bd3786\"],[0.5555555555555556,\"#d8576b\"],[0.6666666666666666,\"#ed7953\"],[0.7777777777777778,\"#fb9f3a\"],[0.8888888888888888,\"#fdca26\"],[1.0,\"#f0f921\"]]}],\"heatmap\":[{\"type\":\"heatmap\",\"colorbar\":{\"outlinewidth\":0,\"ticks\":\"\"},\"colorscale\":[[0.0,\"#0d0887\"],[0.1111111111111111,\"#46039f\"],[0.2222222222222222,\"#7201a8\"],[0.3333333333333333,\"#9c179e\"],[0.4444444444444444,\"#bd3786\"],[0.5555555555555556,\"#d8576b\"],[0.6666666666666666,\"#ed7953\"],[0.7777777777777778,\"#fb9f3a\"],[0.8888888888888888,\"#fdca26\"],[1.0,\"#f0f921\"]]}],\"heatmapgl\":[{\"type\":\"heatmapgl\",\"colorbar\":{\"outlinewidth\":0,\"ticks\":\"\"},\"colorscale\":[[0.0,\"#0d0887\"],[0.1111111111111111,\"#46039f\"],[0.2222222222222222,\"#7201a8\"],[0.3333333333333333,\"#9c179e\"],[0.4444444444444444,\"#bd3786\"],[0.5555555555555556,\"#d8576b\"],[0.6666666666666666,\"#ed7953\"],[0.7777777777777778,\"#fb9f3a\"],[0.8888888888888888,\"#fdca26\"],[1.0,\"#f0f921\"]]}],\"contourcarpet\":[{\"type\":\"contourcarpet\",\"colorbar\":{\"outlinewidth\":0,\"ticks\":\"\"}}],\"contour\":[{\"type\":\"contour\",\"colorbar\":{\"outlinewidth\":0,\"ticks\":\"\"},\"colorscale\":[[0.0,\"#0d0887\"],[0.1111111111111111,\"#46039f\"],[0.2222222222222222,\"#7201a8\"],[0.3333333333333333,\"#9c179e\"],[0.4444444444444444,\"#bd3786\"],[0.5555555555555556,\"#d8576b\"],[0.6666666666666666,\"#ed7953\"],[0.7777777777777778,\"#fb9f3a\"],[0.8888888888888888,\"#fdca26\"],[1.0,\"#f0f921\"]]}],\"surface\":[{\"type\":\"surface\",\"colorbar\":{\"outlinewidth\":0,\"ticks\":\"\"},\"colorscale\":[[0.0,\"#0d0887\"],[0.1111111111111111,\"#46039f\"],[0.2222222222222222,\"#7201a8\"],[0.3333333333333333,\"#9c179e\"],[0.4444444444444444,\"#bd3786\"],[0.5555555555555556,\"#d8576b\"],[0.6666666666666666,\"#ed7953\"],[0.7777777777777778,\"#fb9f3a\"],[0.8888888888888888,\"#fdca26\"],[1.0,\"#f0f921\"]]}],\"mesh3d\":[{\"type\":\"mesh3d\",\"colorbar\":{\"outlinewidth\":0,\"ticks\":\"\"}}],\"scatter\":[{\"fillpattern\":{\"fillmode\":\"overlay\",\"size\":10,\"solidity\":0.2},\"type\":\"scatter\"}],\"parcoords\":[{\"type\":\"parcoords\",\"line\":{\"colorbar\":{\"outlinewidth\":0,\"ticks\":\"\"}}}],\"scatterpolargl\":[{\"type\":\"scatterpolargl\",\"marker\":{\"colorbar\":{\"outlinewidth\":0,\"ticks\":\"\"}}}],\"bar\":[{\"error_x\":{\"color\":\"#2a3f5f\"},\"error_y\":{\"color\":\"#2a3f5f\"},\"marker\":{\"line\":{\"color\":\"#E5ECF6\",\"width\":0.5},\"pattern\":{\"fillmode\":\"overlay\",\"size\":10,\"solidity\":0.2}},\"type\":\"bar\"}],\"scattergeo\":[{\"type\":\"scattergeo\",\"marker\":{\"colorbar\":{\"outlinewidth\":0,\"ticks\":\"\"}}}],\"scatterpolar\":[{\"type\":\"scatterpolar\",\"marker\":{\"colorbar\":{\"outlinewidth\":0,\"ticks\":\"\"}}}],\"histogram\":[{\"marker\":{\"pattern\":{\"fillmode\":\"overlay\",\"size\":10,\"solidity\":0.2}},\"type\":\"histogram\"}],\"scattergl\":[{\"type\":\"scattergl\",\"marker\":{\"colorbar\":{\"outlinewidth\":0,\"ticks\":\"\"}}}],\"scatter3d\":[{\"type\":\"scatter3d\",\"line\":{\"colorbar\":{\"outlinewidth\":0,\"ticks\":\"\"}},\"marker\":{\"colorbar\":{\"outlinewidth\":0,\"ticks\":\"\"}}}],\"scattermapbox\":[{\"type\":\"scattermapbox\",\"marker\":{\"colorbar\":{\"outlinewidth\":0,\"ticks\":\"\"}}}],\"scatterternary\":[{\"type\":\"scatterternary\",\"marker\":{\"colorbar\":{\"outlinewidth\":0,\"ticks\":\"\"}}}],\"scattercarpet\":[{\"type\":\"scattercarpet\",\"marker\":{\"colorbar\":{\"outlinewidth\":0,\"ticks\":\"\"}}}],\"carpet\":[{\"aaxis\":{\"endlinecolor\":\"#2a3f5f\",\"gridcolor\":\"white\",\"linecolor\":\"white\",\"minorgridcolor\":\"white\",\"startlinecolor\":\"#2a3f5f\"},\"baxis\":{\"endlinecolor\":\"#2a3f5f\",\"gridcolor\":\"white\",\"linecolor\":\"white\",\"minorgridcolor\":\"white\",\"startlinecolor\":\"#2a3f5f\"},\"type\":\"carpet\"}],\"table\":[{\"cells\":{\"fill\":{\"color\":\"#EBF0F8\"},\"line\":{\"color\":\"white\"}},\"header\":{\"fill\":{\"color\":\"#C8D4E3\"},\"line\":{\"color\":\"white\"}},\"type\":\"table\"}],\"barpolar\":[{\"marker\":{\"line\":{\"color\":\"#E5ECF6\",\"width\":0.5},\"pattern\":{\"fillmode\":\"overlay\",\"size\":10,\"solidity\":0.2}},\"type\":\"barpolar\"}],\"pie\":[{\"automargin\":true,\"type\":\"pie\"}]},\"layout\":{\"autotypenumbers\":\"strict\",\"colorway\":[\"#636efa\",\"#EF553B\",\"#00cc96\",\"#ab63fa\",\"#FFA15A\",\"#19d3f3\",\"#FF6692\",\"#B6E880\",\"#FF97FF\",\"#FECB52\"],\"font\":{\"color\":\"#2a3f5f\"},\"hovermode\":\"closest\",\"hoverlabel\":{\"align\":\"left\"},\"paper_bgcolor\":\"white\",\"plot_bgcolor\":\"#E5ECF6\",\"polar\":{\"bgcolor\":\"#E5ECF6\",\"angularaxis\":{\"gridcolor\":\"white\",\"linecolor\":\"white\",\"ticks\":\"\"},\"radialaxis\":{\"gridcolor\":\"white\",\"linecolor\":\"white\",\"ticks\":\"\"}},\"ternary\":{\"bgcolor\":\"#E5ECF6\",\"aaxis\":{\"gridcolor\":\"white\",\"linecolor\":\"white\",\"ticks\":\"\"},\"baxis\":{\"gridcolor\":\"white\",\"linecolor\":\"white\",\"ticks\":\"\"},\"caxis\":{\"gridcolor\":\"white\",\"linecolor\":\"white\",\"ticks\":\"\"}},\"coloraxis\":{\"colorbar\":{\"outlinewidth\":0,\"ticks\":\"\"}},\"colorscale\":{\"sequential\":[[0.0,\"#0d0887\"],[0.1111111111111111,\"#46039f\"],[0.2222222222222222,\"#7201a8\"],[0.3333333333333333,\"#9c179e\"],[0.4444444444444444,\"#bd3786\"],[0.5555555555555556,\"#d8576b\"],[0.6666666666666666,\"#ed7953\"],[0.7777777777777778,\"#fb9f3a\"],[0.8888888888888888,\"#fdca26\"],[1.0,\"#f0f921\"]],\"sequentialminus\":[[0.0,\"#0d0887\"],[0.1111111111111111,\"#46039f\"],[0.2222222222222222,\"#7201a8\"],[0.3333333333333333,\"#9c179e\"],[0.4444444444444444,\"#bd3786\"],[0.5555555555555556,\"#d8576b\"],[0.6666666666666666,\"#ed7953\"],[0.7777777777777778,\"#fb9f3a\"],[0.8888888888888888,\"#fdca26\"],[1.0,\"#f0f921\"]],\"diverging\":[[0,\"#8e0152\"],[0.1,\"#c51b7d\"],[0.2,\"#de77ae\"],[0.3,\"#f1b6da\"],[0.4,\"#fde0ef\"],[0.5,\"#f7f7f7\"],[0.6,\"#e6f5d0\"],[0.7,\"#b8e186\"],[0.8,\"#7fbc41\"],[0.9,\"#4d9221\"],[1,\"#276419\"]]},\"xaxis\":{\"gridcolor\":\"white\",\"linecolor\":\"white\",\"ticks\":\"\",\"title\":{\"standoff\":15},\"zerolinecolor\":\"white\",\"automargin\":true,\"zerolinewidth\":2},\"yaxis\":{\"gridcolor\":\"white\",\"linecolor\":\"white\",\"ticks\":\"\",\"title\":{\"standoff\":15},\"zerolinecolor\":\"white\",\"automargin\":true,\"zerolinewidth\":2},\"scene\":{\"xaxis\":{\"backgroundcolor\":\"#E5ECF6\",\"gridcolor\":\"white\",\"linecolor\":\"white\",\"showbackground\":true,\"ticks\":\"\",\"zerolinecolor\":\"white\",\"gridwidth\":2},\"yaxis\":{\"backgroundcolor\":\"#E5ECF6\",\"gridcolor\":\"white\",\"linecolor\":\"white\",\"showbackground\":true,\"ticks\":\"\",\"zerolinecolor\":\"white\",\"gridwidth\":2},\"zaxis\":{\"backgroundcolor\":\"#E5ECF6\",\"gridcolor\":\"white\",\"linecolor\":\"white\",\"showbackground\":true,\"ticks\":\"\",\"zerolinecolor\":\"white\",\"gridwidth\":2}},\"shapedefaults\":{\"line\":{\"color\":\"#2a3f5f\"}},\"annotationdefaults\":{\"arrowcolor\":\"#2a3f5f\",\"arrowhead\":0,\"arrowwidth\":1},\"geo\":{\"bgcolor\":\"white\",\"landcolor\":\"#E5ECF6\",\"subunitcolor\":\"white\",\"showland\":true,\"showlakes\":true,\"lakecolor\":\"white\"},\"title\":{\"x\":0.05},\"mapbox\":{\"style\":\"light\"}}},\"xaxis\":{\"anchor\":\"y\",\"domain\":[0.0,1.0],\"title\":{\"text\":\"Location\"}},\"yaxis\":{\"anchor\":\"x\",\"domain\":[0.0,1.0],\"title\":{\"text\":\"Annual Income\"}},\"coloraxis\":{\"colorbar\":{\"title\":{\"text\":\"sum of Annual Income\"}},\"colorscale\":[[0.0,\"#0d0887\"],[0.1111111111111111,\"#46039f\"],[0.2222222222222222,\"#7201a8\"],[0.3333333333333333,\"#9c179e\"],[0.4444444444444444,\"#bd3786\"],[0.5555555555555556,\"#d8576b\"],[0.6666666666666666,\"#ed7953\"],[0.7777777777777778,\"#fb9f3a\"],[0.8888888888888888,\"#fdca26\"],[1.0,\"#f0f921\"]]},\"legend\":{\"tracegroupgap\":0},\"title\":{\"text\":\"Annual Income Distribution by Location\"}},                        {\"responsive\": true}                    ).then(function(){\n",
              "                            \n",
              "var gd = document.getElementById('b4ae1c94-15bd-4ad4-b02c-fb3a32d7cdbe');\n",
              "var x = new MutationObserver(function (mutations, observer) {{\n",
              "        var display = window.getComputedStyle(gd).display;\n",
              "        if (!display || display === 'none') {{\n",
              "            console.log([gd, 'removed!']);\n",
              "            Plotly.purge(gd);\n",
              "            observer.disconnect();\n",
              "        }}\n",
              "}});\n",
              "\n",
              "// Listen for the removal of the full notebook cells\n",
              "var notebookContainer = gd.closest('#notebook-container');\n",
              "if (notebookContainer) {{\n",
              "    x.observe(notebookContainer, {childList: true});\n",
              "}}\n",
              "\n",
              "// Listen for the clearing of the current output cell\n",
              "var outputEl = gd.closest('.output');\n",
              "if (outputEl) {{\n",
              "    x.observe(outputEl, {childList: true});\n",
              "}}\n",
              "\n",
              "                        })                };                            </script>        </div>\n",
              "</body>\n",
              "</html>"
            ]
          },
          "metadata": {}
        }
      ]
    },
    {
      "cell_type": "markdown",
      "source": [
        "**What is the interaction between product reviews, browsing history, and time on site?**"
      ],
      "metadata": {
        "id": "go0oSLOidNDM"
      }
    },
    {
      "cell_type": "code",
      "source": [
        "fig = px.scatter(df_no_outliers, x='Browsing History', y='Product Reviews', size='Time on Site', color='Age',\n",
        "                 title='Interaction between Browsing History, Product Reviews, and Time on Site', height=1500, width=1500)\n",
        "fig.show()"
      ],
      "metadata": {
        "execution": {
          "iopub.status.busy": "2024-10-03T09:17:47.184853Z",
          "iopub.execute_input": "2024-10-03T09:17:47.18521Z",
          "iopub.status.idle": "2024-10-03T09:17:47.269291Z",
          "shell.execute_reply.started": "2024-10-03T09:17:47.185171Z",
          "shell.execute_reply": "2024-10-03T09:17:47.268142Z"
        },
        "trusted": true,
        "colab": {
          "base_uri": "https://localhost:8080/",
          "height": 1000
        },
        "id": "4C6EBuaHdNDM",
        "outputId": "70d58c6e-88fa-4cd5-8ab6-df5ad90fc9f7"
      },
      "execution_count": 32,
      "outputs": [
        {
          "output_type": "display_data",
          "data": {
            "text/html": [
              "<html>\n",
              "<head><meta charset=\"utf-8\" /></head>\n",
              "<body>\n",
              "    <div>            <script src=\"https://cdnjs.cloudflare.com/ajax/libs/mathjax/2.7.5/MathJax.js?config=TeX-AMS-MML_SVG\"></script><script type=\"text/javascript\">if (window.MathJax && window.MathJax.Hub && window.MathJax.Hub.Config) {window.MathJax.Hub.Config({SVG: {font: \"STIX-Web\"}});}</script>                <script type=\"text/javascript\">window.PlotlyConfig = {MathJaxConfig: 'local'};</script>\n",
              "        <script charset=\"utf-8\" src=\"https://cdn.plot.ly/plotly-2.35.2.min.js\"></script>                <div id=\"e11d5554-ffaa-448d-8bc9-5b111f93113b\" class=\"plotly-graph-div\" style=\"height:1500px; width:1500px;\"></div>            <script type=\"text/javascript\">                                    window.PLOTLYENV=window.PLOTLYENV || {};                                    if (document.getElementById(\"e11d5554-ffaa-448d-8bc9-5b111f93113b\")) {                    Plotly.newPlot(                        \"e11d5554-ffaa-448d-8bc9-5b111f93113b\",                        [{\"hovertemplate\":\"Browsing History=%{x}\\u003cbr\\u003eProduct Reviews=%{y}\\u003cbr\\u003eTime on Site=%{marker.size}\\u003cbr\\u003eAge=%{marker.color}\\u003cextra\\u003e\\u003c\\u002fextra\\u003e\",\"legendgroup\":\"\",\"marker\":{\"color\":[25,28,28,45,34,56,29,42,51,36,48,25,45,32,60,28,55,38,42,50,35,48,30,65,24,35,45,28,52,31,48,60,55,29,58,36,42,50,32,35,42,32,28,42,35,52,24,34,45,29],\"coloraxis\":\"coloraxis\",\"size\":[32.5,123.45,125.6,327.6,214.9,486.3,378.5,289.8,456.2,334.9,298.6,312.5,120.0,75.0,200.0,150.0,300.0,250.0,180.0,280.0,220.0,200.0,160.0,240.0,120.5,120.0,300.0,250.0,350.0,200.0,400.0,300.0,450.0,250.0,350.0,200.0,300.0,250.0,72.3,123.6,246.9,75.2,120.5,250.0,75.0,300.0,100.0,120.0,350.0,200.0],\"sizemode\":\"area\",\"sizeref\":1.21575,\"symbol\":\"circle\"},\"mode\":\"markers\",\"name\":\"\",\"orientation\":\"v\",\"showlegend\":false,\"x\":[\"[{\\\"Timestamp\\\": \\\"2022-03-10T14:30:00Z\\\"}, {\\\"Timestamp\\\": \\\"2022-03-11T09:45:00Z\\\"}, {\\\"Timestamp\\\": \\\"2022-03-12T16:20:00Z\\\"}]\",\"[{\\\"Product Category\\\": \\\"Home & Garden\\\", \\\"Timestamp\\\": \\\"2022-05-12T13:30:00Z\\\"}, {\\\"Product Category\\\": \\\"Electronics\\\", \\\"Timestamp\\\": \\\"2022-06-05T08:45:00Z\\\"}]\",\"[{\\\"Product Category\\\": \\\"Clothing\\\", \\\"Timestamp\\\": \\\"2022-09-03 15:30:00\\\"}, {\\\"Product Category\\\": \\\"Electronics\\\", \\\"Timestamp\\\": \\\"2022-09-01 10:15:00\\\"}]\",\"{'Timestamp': '2022-09-03 14:30:00'}\",\"{'Timestamp': '2022-08-10 17:15:00'}\",\"{'Timestamp': '2022-06-25 10:45:00'}\",\"{'Timestamp': '2022-08-15 13:20:00'}\",\"{'Timestamp': '2022-09-12 16:35:00'}\",\"{'Timestamp': '2022-06-28 09:00:00'}\",\"{'Timestamp': '2022-08-17 14:50:00'}\",\"{'Timestamp': '2022-06-30 11:15:00'}\",\"{'Timestamp': '2022-09-14 10:00:00'}\",\"{'Timestamp': '2022-03-06 14:30:00'}\",\"{'Timestamp': '2022-05-12 16:15:00'}\",\"{'Timestamp': '2022-06-03 10:45:00'}\",\"{'Timestamp': '2022-07-08 13:00:00'}\",\"{'Timestamp': '2022-08-04 09:30:00'}\",\"{'Timestamp': '2022-09-02 11:15:00'}\",\"{'Timestamp': '2022-10-07 14:45:00'}\",\"{'Timestamp': '2022-11-02 10:30:00'}\",\"{'Timestamp': '2022-12-06 12:00:00'}\",\"{'Timestamp': '2022-12-21 15:30:00'}\",\"{'Timestamp': '2023-01-11 08:45:00'}\",\"{'Timestamp': '2023-02-06 13:15:00'}\",\"[{\\\"Timestamp\\\": \\\"2022-08-20T14:30:00Z\\\"}, {\\\"Timestamp\\\": \\\"2022-08-22T16:45:00Z\\\"}, {\\\"Timestamp\\\": \\\"2022-09-03T10:20:00Z\\\"}]\",\"{'Timestamp': '2022-04-20T14:30:00Z'}\",\"{'Timestamp': '2022-05-25T17:45:00Z'}\",\"{'Timestamp': '2022-06-01T09:15:00Z'}\",\"{'Timestamp': '2022-05-22T10:30:00Z'}\",\"{'Timestamp': '2022-05-30T13:45:00Z'}\",\"{'Timestamp': '2022-06-06T08:00:00Z'}\",\"{'Timestamp': '2022-06-15T11:30:00Z'}\",\"{'Timestamp': '2022-05-28T15:15:00Z'}\",\"{'Timestamp': '2022-05-31T16:45:00Z'}\",\"{'Timestamp': '2022-05-29T10:30:00Z'}\",\"{'Timestamp': '2022-06-13T13:00:00Z'}\",\"{'Timestamp': '2022-05-26T11:15:00Z'}\",\"{'Timestamp': '2022-06-08T14:30:00Z'}\",\"[{\\\"Product Category\\\": \\\"Home & Garden\\\", \\\"Timestamp\\\": \\\"2022-09-01T14:30:00Z\\\"}, {\\\"Product Category\\\": \\\"Clothing\\\", \\\"Timestamp\\\": \\\"2022-08-25T12:15:00Z\\\"}]\",\"[{\\\"Product Category\\\": \\\"Home & Garden\\\", \\\"Timestamp\\\": \\\"2022-04-03T15:30:00Z\\\"}, {\\\"Product Category\\\": \\\"Electronics\\\", \\\"Timestamp\\\": \\\"2022-03-28T08:45:00Z\\\"}]\",\"[{\\\"Product Category\\\": \\\"Electronics\\\", \\\"Timestamp\\\": \\\"2022-03-01T10:15:00Z\\\"}, {\\\"Product Category\\\": \\\"Clothing\\\", \\\"Timestamp\\\": \\\"2022-02-15T16:30:00Z\\\"}]\",\"[{\\\"Product Category\\\": \\\"Home & Garden\\\", \\\"Timestamp\\\": \\\"2022-02-20T12:34:56Z\\\"}]\",\"[{\\\"Product Category\\\": \\\"Home & Garden\\\", \\\"Timestamp\\\": \\\"2022-06-15T12:34:56Z\\\"}, {\\\"Product Category\\\": \\\"Electronics\\\", \\\"Timestamp\\\": \\\"2022-05-20T16:17:23Z\\\"}]\",\"[{\\\"Product Category\\\": \\\"Clothing\\\", \\\"Timestamp\\\": \\\"2022-07-10T09:15:32Z\\\"}, {\\\"Product Category\\\": \\\"Electronics\\\", \\\"Timestamp\\\": \\\"2022-06-25T14:46:01Z\\\"}]\",\"[{\\\"Product Category\\\": \\\"Home & Garden\\\", \\\"Timestamp\\\": \\\"2022-06-27T10:30:11Z\\\"}, {\\\"Product Category\\\": \\\"Electronics\\\", \\\"Timestamp\\\": \\\"2022-05-30T13:02:45Z\\\"}]\",\"[{\\\"Product Category\\\": \\\"Electronics\\\", \\\"Timestamp\\\": \\\"2022-07-12T11:45:06Z\\\"}, {\\\"Product Category\\\": \\\"Clothing\\\", \\\"Timestamp\\\": \\\"2022-06-30T16:23:30Z\\\"}]\",\"[{\\\"Product Category\\\": \\\"Clothing\\\", \\\"Timestamp\\\": \\\"2022-06-05T08:00:23Z\\\"}, {\\\"Product Category\\\": \\\"Electronics\\\", \\\"Timestamp\\\": \\\"2022-05-28T14:30:56Z\\\"}]\",\"[{\\\"Timestamp\\\": \\\"2022-08-14T09:30:00Z\\\"},{\\\"Timestamp\\\": \\\"2022-07-25T14:15:00Z\\\"},{\\\"Timestamp\\\": \\\"2022-06-01T10:45:00Z\\\"}]\",\"[{\\\"Timestamp\\\": \\\"2022-08-12T16:00:00Z\\\"},{\\\"Timestamp\\\": \\\"2022-07-27T08:30:00Z\\\"},{\\\"Timestamp\\\": \\\"2022-06-03T11:00:00Z\\\"}]\",\"[{\\\"Timestamp\\\": \\\"2022-08-13T13:45:00Z\\\"},{\\\"Timestamp\\\": \\\"2022-07-26T07:00:00Z\\\"},{\\\"Timestamp\\\": \\\"2022-06-02T15:30:00Z\\\"}]\"],\"xaxis\":\"x\",\"y\":[\"Great pair of jeans, very comfortable. Rating: 4 stars.\",\"Great customer service!\",\"Great electronics. The sound quality is excellent. I would highly recommend this product.\",\"{\\\"Product 1\\\": {\\\"Rating\\\": 4, \\\"Review\\\": \\\"Great experience buying this product. Fast delivery and excellent customer service.\\\"}}\",\"{\\\"Product 1\\\": {\\\"Rating\\\": 3, \\\"Review\\\": \\\"Good product, but could have been better.\\\"}}\",\"{\\\"Product 1\\\": {\\\"Rating\\\": 5, \\\"Review\\\": \\\"Awesome product, highly recommend it to everyone.\\\"}}\",\"{\\\"Product 1\\\": {\\\"Rating\\\": 4, \\\"Review\\\": \\\"Great product, will definitely buy again.\\\"}}\",\"{\\\"Product 1\\\": {\\\"Rating\\\": 3, \\\"Review\\\": \\\"Good product, but not worth the price.\\\"}}\",\"{\\\"Product 1\\\": {\\\"Rating\\\": 5, \\\"Review\\\": \\\"Outstanding product, exceeded my expectations.\\\"}}\",\"{\\\"Product 1\\\": {\\\"Rating\\\": 4, \\\"Review\\\": \\\"Good product, but could have been better.\\\"}}\",\"{\\\"Product 1\\\": {\\\"Rating\\\": 3, \\\"Review\\\": \\\"Good product, but not what I expected.\\\"}}\",\"{\\\"Product 1\\\": {\\\"Rating\\\": 4, \\\"Review\\\": \\\"Great product, will definitely buy again.\\\"}}\",\"{\\\"Review Text\\\": \\\"Great quality clothes!\\\", \\\"Rating\\\": 5}\",\"{\\\"Review Text\\\": \\\"Good product, but could be cheaper.\\\", \\\"Rating\\\": 3}\",\"{\\\"Review Text\\\": \\\"Very satisfied with my purchase!\\\", \\\"Rating\\\": 5}\",\"{\\\"Review Text\\\": \\\"Not what I expected.\\\", \\\"Rating\\\": 2}\",\"{\\\"Review Text\\\": \\\"Excellent product, highly recommend!\\\", \\\"Rating\\\": 5}\",\"{\\\"Review Text\\\": \\\"Awesome purchase!\\\", \\\"Rating\\\": 5}\",\"{\\\"Review Text\\\": \\\"Good product, but not worth the price.\\\", \\\"Rating\\\": 3}\",\"{\\\"Review Text\\\": \\\"Great product, highly recommend!\\\", \\\"Rating\\\": 5}\",\"{\\\"Review Text\\\": \\\"Satisfied with my purchase!\\\", \\\"Rating\\\": 4}\",\"{\\\"Review Text\\\": \\\"Excellent product, highly recommend!\\\", \\\"Rating\\\": 5}\",\"{\\\"Review Text\\\": \\\"Good product, but could be better.\\\", \\\"Rating\\\": 3}\",\"{\\\"Review Text\\\": \\\"Excellent product, highly recommend!\\\", \\\"Rating\\\": 5}\",\"This dress is amazing! I love the color and fit. 5 stars.\",\"The blouse is so comfortable and stylish. 5 stars!\",\"The headphones are great. Sound quality is excellent. 4.5 stars.\",\"The dress fits perfectly. I love it. 5 stars!\",\"The vacuum cleaner works great. 4 stars.\",\"The top is nice, but the size is a bit small. 3.5 stars.\",\"The phone is fantastic. 5 stars!\",\"The shirt is comfortable. 4 stars.\",\"The laptop is excellent. 5 stars!\",\"The shoes are comfortable. 4.5 stars.\",\"The coffee maker is great. 5 stars!\",\"The skirt is lovely. 4.5 stars.\",\"The TV is amazing. 5 stars!\",\"The bedding is comfortable. 4 stars.\",\"Great find! 5 stars\",\"Great product, very happy with my purchase.\",\"The product arrived quickly and in great condition.\",\"Great headphones, sound quality is amazing.\",\"Great purchase! The shoes are so comfortable and stylish. I've received several compliments.\",\"I'm really happy with my new phone. The battery life is impressive.\",\"The headphones are amazing! The sound quality is excellent.\",\"I love my new kitchen gadget! It's so efficient and easy to use.\",\"The laptop is perfect for my needs. It's lightweight and powerful.\",\"The clothing arrived quickly and fits great! 5 stars.\",\"The electronics were excellent quality and arrived promptly. 5 stars.\",\"The electronics were as described and arrived on time. 4 stars.\"],\"yaxis\":\"y\",\"type\":\"scatter\"}],                        {\"template\":{\"data\":{\"histogram2dcontour\":[{\"type\":\"histogram2dcontour\",\"colorbar\":{\"outlinewidth\":0,\"ticks\":\"\"},\"colorscale\":[[0.0,\"#0d0887\"],[0.1111111111111111,\"#46039f\"],[0.2222222222222222,\"#7201a8\"],[0.3333333333333333,\"#9c179e\"],[0.4444444444444444,\"#bd3786\"],[0.5555555555555556,\"#d8576b\"],[0.6666666666666666,\"#ed7953\"],[0.7777777777777778,\"#fb9f3a\"],[0.8888888888888888,\"#fdca26\"],[1.0,\"#f0f921\"]]}],\"choropleth\":[{\"type\":\"choropleth\",\"colorbar\":{\"outlinewidth\":0,\"ticks\":\"\"}}],\"histogram2d\":[{\"type\":\"histogram2d\",\"colorbar\":{\"outlinewidth\":0,\"ticks\":\"\"},\"colorscale\":[[0.0,\"#0d0887\"],[0.1111111111111111,\"#46039f\"],[0.2222222222222222,\"#7201a8\"],[0.3333333333333333,\"#9c179e\"],[0.4444444444444444,\"#bd3786\"],[0.5555555555555556,\"#d8576b\"],[0.6666666666666666,\"#ed7953\"],[0.7777777777777778,\"#fb9f3a\"],[0.8888888888888888,\"#fdca26\"],[1.0,\"#f0f921\"]]}],\"heatmap\":[{\"type\":\"heatmap\",\"colorbar\":{\"outlinewidth\":0,\"ticks\":\"\"},\"colorscale\":[[0.0,\"#0d0887\"],[0.1111111111111111,\"#46039f\"],[0.2222222222222222,\"#7201a8\"],[0.3333333333333333,\"#9c179e\"],[0.4444444444444444,\"#bd3786\"],[0.5555555555555556,\"#d8576b\"],[0.6666666666666666,\"#ed7953\"],[0.7777777777777778,\"#fb9f3a\"],[0.8888888888888888,\"#fdca26\"],[1.0,\"#f0f921\"]]}],\"heatmapgl\":[{\"type\":\"heatmapgl\",\"colorbar\":{\"outlinewidth\":0,\"ticks\":\"\"},\"colorscale\":[[0.0,\"#0d0887\"],[0.1111111111111111,\"#46039f\"],[0.2222222222222222,\"#7201a8\"],[0.3333333333333333,\"#9c179e\"],[0.4444444444444444,\"#bd3786\"],[0.5555555555555556,\"#d8576b\"],[0.6666666666666666,\"#ed7953\"],[0.7777777777777778,\"#fb9f3a\"],[0.8888888888888888,\"#fdca26\"],[1.0,\"#f0f921\"]]}],\"contourcarpet\":[{\"type\":\"contourcarpet\",\"colorbar\":{\"outlinewidth\":0,\"ticks\":\"\"}}],\"contour\":[{\"type\":\"contour\",\"colorbar\":{\"outlinewidth\":0,\"ticks\":\"\"},\"colorscale\":[[0.0,\"#0d0887\"],[0.1111111111111111,\"#46039f\"],[0.2222222222222222,\"#7201a8\"],[0.3333333333333333,\"#9c179e\"],[0.4444444444444444,\"#bd3786\"],[0.5555555555555556,\"#d8576b\"],[0.6666666666666666,\"#ed7953\"],[0.7777777777777778,\"#fb9f3a\"],[0.8888888888888888,\"#fdca26\"],[1.0,\"#f0f921\"]]}],\"surface\":[{\"type\":\"surface\",\"colorbar\":{\"outlinewidth\":0,\"ticks\":\"\"},\"colorscale\":[[0.0,\"#0d0887\"],[0.1111111111111111,\"#46039f\"],[0.2222222222222222,\"#7201a8\"],[0.3333333333333333,\"#9c179e\"],[0.4444444444444444,\"#bd3786\"],[0.5555555555555556,\"#d8576b\"],[0.6666666666666666,\"#ed7953\"],[0.7777777777777778,\"#fb9f3a\"],[0.8888888888888888,\"#fdca26\"],[1.0,\"#f0f921\"]]}],\"mesh3d\":[{\"type\":\"mesh3d\",\"colorbar\":{\"outlinewidth\":0,\"ticks\":\"\"}}],\"scatter\":[{\"fillpattern\":{\"fillmode\":\"overlay\",\"size\":10,\"solidity\":0.2},\"type\":\"scatter\"}],\"parcoords\":[{\"type\":\"parcoords\",\"line\":{\"colorbar\":{\"outlinewidth\":0,\"ticks\":\"\"}}}],\"scatterpolargl\":[{\"type\":\"scatterpolargl\",\"marker\":{\"colorbar\":{\"outlinewidth\":0,\"ticks\":\"\"}}}],\"bar\":[{\"error_x\":{\"color\":\"#2a3f5f\"},\"error_y\":{\"color\":\"#2a3f5f\"},\"marker\":{\"line\":{\"color\":\"#E5ECF6\",\"width\":0.5},\"pattern\":{\"fillmode\":\"overlay\",\"size\":10,\"solidity\":0.2}},\"type\":\"bar\"}],\"scattergeo\":[{\"type\":\"scattergeo\",\"marker\":{\"colorbar\":{\"outlinewidth\":0,\"ticks\":\"\"}}}],\"scatterpolar\":[{\"type\":\"scatterpolar\",\"marker\":{\"colorbar\":{\"outlinewidth\":0,\"ticks\":\"\"}}}],\"histogram\":[{\"marker\":{\"pattern\":{\"fillmode\":\"overlay\",\"size\":10,\"solidity\":0.2}},\"type\":\"histogram\"}],\"scattergl\":[{\"type\":\"scattergl\",\"marker\":{\"colorbar\":{\"outlinewidth\":0,\"ticks\":\"\"}}}],\"scatter3d\":[{\"type\":\"scatter3d\",\"line\":{\"colorbar\":{\"outlinewidth\":0,\"ticks\":\"\"}},\"marker\":{\"colorbar\":{\"outlinewidth\":0,\"ticks\":\"\"}}}],\"scattermapbox\":[{\"type\":\"scattermapbox\",\"marker\":{\"colorbar\":{\"outlinewidth\":0,\"ticks\":\"\"}}}],\"scatterternary\":[{\"type\":\"scatterternary\",\"marker\":{\"colorbar\":{\"outlinewidth\":0,\"ticks\":\"\"}}}],\"scattercarpet\":[{\"type\":\"scattercarpet\",\"marker\":{\"colorbar\":{\"outlinewidth\":0,\"ticks\":\"\"}}}],\"carpet\":[{\"aaxis\":{\"endlinecolor\":\"#2a3f5f\",\"gridcolor\":\"white\",\"linecolor\":\"white\",\"minorgridcolor\":\"white\",\"startlinecolor\":\"#2a3f5f\"},\"baxis\":{\"endlinecolor\":\"#2a3f5f\",\"gridcolor\":\"white\",\"linecolor\":\"white\",\"minorgridcolor\":\"white\",\"startlinecolor\":\"#2a3f5f\"},\"type\":\"carpet\"}],\"table\":[{\"cells\":{\"fill\":{\"color\":\"#EBF0F8\"},\"line\":{\"color\":\"white\"}},\"header\":{\"fill\":{\"color\":\"#C8D4E3\"},\"line\":{\"color\":\"white\"}},\"type\":\"table\"}],\"barpolar\":[{\"marker\":{\"line\":{\"color\":\"#E5ECF6\",\"width\":0.5},\"pattern\":{\"fillmode\":\"overlay\",\"size\":10,\"solidity\":0.2}},\"type\":\"barpolar\"}],\"pie\":[{\"automargin\":true,\"type\":\"pie\"}]},\"layout\":{\"autotypenumbers\":\"strict\",\"colorway\":[\"#636efa\",\"#EF553B\",\"#00cc96\",\"#ab63fa\",\"#FFA15A\",\"#19d3f3\",\"#FF6692\",\"#B6E880\",\"#FF97FF\",\"#FECB52\"],\"font\":{\"color\":\"#2a3f5f\"},\"hovermode\":\"closest\",\"hoverlabel\":{\"align\":\"left\"},\"paper_bgcolor\":\"white\",\"plot_bgcolor\":\"#E5ECF6\",\"polar\":{\"bgcolor\":\"#E5ECF6\",\"angularaxis\":{\"gridcolor\":\"white\",\"linecolor\":\"white\",\"ticks\":\"\"},\"radialaxis\":{\"gridcolor\":\"white\",\"linecolor\":\"white\",\"ticks\":\"\"}},\"ternary\":{\"bgcolor\":\"#E5ECF6\",\"aaxis\":{\"gridcolor\":\"white\",\"linecolor\":\"white\",\"ticks\":\"\"},\"baxis\":{\"gridcolor\":\"white\",\"linecolor\":\"white\",\"ticks\":\"\"},\"caxis\":{\"gridcolor\":\"white\",\"linecolor\":\"white\",\"ticks\":\"\"}},\"coloraxis\":{\"colorbar\":{\"outlinewidth\":0,\"ticks\":\"\"}},\"colorscale\":{\"sequential\":[[0.0,\"#0d0887\"],[0.1111111111111111,\"#46039f\"],[0.2222222222222222,\"#7201a8\"],[0.3333333333333333,\"#9c179e\"],[0.4444444444444444,\"#bd3786\"],[0.5555555555555556,\"#d8576b\"],[0.6666666666666666,\"#ed7953\"],[0.7777777777777778,\"#fb9f3a\"],[0.8888888888888888,\"#fdca26\"],[1.0,\"#f0f921\"]],\"sequentialminus\":[[0.0,\"#0d0887\"],[0.1111111111111111,\"#46039f\"],[0.2222222222222222,\"#7201a8\"],[0.3333333333333333,\"#9c179e\"],[0.4444444444444444,\"#bd3786\"],[0.5555555555555556,\"#d8576b\"],[0.6666666666666666,\"#ed7953\"],[0.7777777777777778,\"#fb9f3a\"],[0.8888888888888888,\"#fdca26\"],[1.0,\"#f0f921\"]],\"diverging\":[[0,\"#8e0152\"],[0.1,\"#c51b7d\"],[0.2,\"#de77ae\"],[0.3,\"#f1b6da\"],[0.4,\"#fde0ef\"],[0.5,\"#f7f7f7\"],[0.6,\"#e6f5d0\"],[0.7,\"#b8e186\"],[0.8,\"#7fbc41\"],[0.9,\"#4d9221\"],[1,\"#276419\"]]},\"xaxis\":{\"gridcolor\":\"white\",\"linecolor\":\"white\",\"ticks\":\"\",\"title\":{\"standoff\":15},\"zerolinecolor\":\"white\",\"automargin\":true,\"zerolinewidth\":2},\"yaxis\":{\"gridcolor\":\"white\",\"linecolor\":\"white\",\"ticks\":\"\",\"title\":{\"standoff\":15},\"zerolinecolor\":\"white\",\"automargin\":true,\"zerolinewidth\":2},\"scene\":{\"xaxis\":{\"backgroundcolor\":\"#E5ECF6\",\"gridcolor\":\"white\",\"linecolor\":\"white\",\"showbackground\":true,\"ticks\":\"\",\"zerolinecolor\":\"white\",\"gridwidth\":2},\"yaxis\":{\"backgroundcolor\":\"#E5ECF6\",\"gridcolor\":\"white\",\"linecolor\":\"white\",\"showbackground\":true,\"ticks\":\"\",\"zerolinecolor\":\"white\",\"gridwidth\":2},\"zaxis\":{\"backgroundcolor\":\"#E5ECF6\",\"gridcolor\":\"white\",\"linecolor\":\"white\",\"showbackground\":true,\"ticks\":\"\",\"zerolinecolor\":\"white\",\"gridwidth\":2}},\"shapedefaults\":{\"line\":{\"color\":\"#2a3f5f\"}},\"annotationdefaults\":{\"arrowcolor\":\"#2a3f5f\",\"arrowhead\":0,\"arrowwidth\":1},\"geo\":{\"bgcolor\":\"white\",\"landcolor\":\"#E5ECF6\",\"subunitcolor\":\"white\",\"showland\":true,\"showlakes\":true,\"lakecolor\":\"white\"},\"title\":{\"x\":0.05},\"mapbox\":{\"style\":\"light\"}}},\"xaxis\":{\"anchor\":\"y\",\"domain\":[0.0,1.0],\"title\":{\"text\":\"Browsing History\"}},\"yaxis\":{\"anchor\":\"x\",\"domain\":[0.0,1.0],\"title\":{\"text\":\"Product Reviews\"}},\"coloraxis\":{\"colorbar\":{\"title\":{\"text\":\"Age\"}},\"colorscale\":[[0.0,\"#0d0887\"],[0.1111111111111111,\"#46039f\"],[0.2222222222222222,\"#7201a8\"],[0.3333333333333333,\"#9c179e\"],[0.4444444444444444,\"#bd3786\"],[0.5555555555555556,\"#d8576b\"],[0.6666666666666666,\"#ed7953\"],[0.7777777777777778,\"#fb9f3a\"],[0.8888888888888888,\"#fdca26\"],[1.0,\"#f0f921\"]]},\"legend\":{\"tracegroupgap\":0,\"itemsizing\":\"constant\"},\"title\":{\"text\":\"Interaction between Browsing History, Product Reviews, and Time on Site\"},\"height\":1500,\"width\":1500},                        {\"responsive\": true}                    ).then(function(){\n",
              "                            \n",
              "var gd = document.getElementById('e11d5554-ffaa-448d-8bc9-5b111f93113b');\n",
              "var x = new MutationObserver(function (mutations, observer) {{\n",
              "        var display = window.getComputedStyle(gd).display;\n",
              "        if (!display || display === 'none') {{\n",
              "            console.log([gd, 'removed!']);\n",
              "            Plotly.purge(gd);\n",
              "            observer.disconnect();\n",
              "        }}\n",
              "}});\n",
              "\n",
              "// Listen for the removal of the full notebook cells\n",
              "var notebookContainer = gd.closest('#notebook-container');\n",
              "if (notebookContainer) {{\n",
              "    x.observe(notebookContainer, {childList: true});\n",
              "}}\n",
              "\n",
              "// Listen for the clearing of the current output cell\n",
              "var outputEl = gd.closest('.output');\n",
              "if (outputEl) {{\n",
              "    x.observe(outputEl, {childList: true});\n",
              "}}\n",
              "\n",
              "                        })                };                            </script>        </div>\n",
              "</body>\n",
              "</html>"
            ]
          },
          "metadata": {}
        }
      ]
    },
    {
      "cell_type": "markdown",
      "source": [
        "**Correlation between Age, Browsing History, and Annual Income**"
      ],
      "metadata": {
        "id": "ZKPC9dEXdNDM"
      }
    },
    {
      "cell_type": "code",
      "source": [
        "fig = px.scatter(df_no_outliers, x='Age', y='Browsing History', size='Annual Income', color='Gender',\n",
        "                 title='Age vs Browsing History with Annual Income as Bubble Size', width=1700)\n",
        "fig.show()"
      ],
      "metadata": {
        "execution": {
          "iopub.status.busy": "2024-10-03T09:17:47.274108Z",
          "iopub.execute_input": "2024-10-03T09:17:47.274545Z",
          "iopub.status.idle": "2024-10-03T09:17:47.363984Z",
          "shell.execute_reply.started": "2024-10-03T09:17:47.274499Z",
          "shell.execute_reply": "2024-10-03T09:17:47.362806Z"
        },
        "trusted": true,
        "colab": {
          "base_uri": "https://localhost:8080/",
          "height": 562
        },
        "id": "-fTt52hMdNDM",
        "outputId": "5a347c07-2db7-40cf-cd7a-1397ecbdd075"
      },
      "execution_count": 33,
      "outputs": [
        {
          "output_type": "display_data",
          "data": {
            "text/html": [
              "<html>\n",
              "<head><meta charset=\"utf-8\" /></head>\n",
              "<body>\n",
              "    <div>            <script src=\"https://cdnjs.cloudflare.com/ajax/libs/mathjax/2.7.5/MathJax.js?config=TeX-AMS-MML_SVG\"></script><script type=\"text/javascript\">if (window.MathJax && window.MathJax.Hub && window.MathJax.Hub.Config) {window.MathJax.Hub.Config({SVG: {font: \"STIX-Web\"}});}</script>                <script type=\"text/javascript\">window.PlotlyConfig = {MathJaxConfig: 'local'};</script>\n",
              "        <script charset=\"utf-8\" src=\"https://cdn.plot.ly/plotly-2.35.2.min.js\"></script>                <div id=\"b0046a8c-5949-4fc7-9408-51486951babe\" class=\"plotly-graph-div\" style=\"height:525px; width:1700px;\"></div>            <script type=\"text/javascript\">                                    window.PLOTLYENV=window.PLOTLYENV || {};                                    if (document.getElementById(\"b0046a8c-5949-4fc7-9408-51486951babe\")) {                    Plotly.newPlot(                        \"b0046a8c-5949-4fc7-9408-51486951babe\",                        [{\"hovertemplate\":\"Gender=Female\\u003cbr\\u003eAge=%{x}\\u003cbr\\u003eBrowsing History=%{y}\\u003cbr\\u003eAnnual Income=%{marker.size}\\u003cextra\\u003e\\u003c\\u002fextra\\u003e\",\"legendgroup\":\"Female\",\"marker\":{\"color\":\"#636efa\",\"size\":[45000,52000,65000,70000,60000,55000,75000,45000,65000,85000,75000,95000,45000,50000,60000,45000,65000,40000,55000,68000,65000,60000,55000,65000,100000,55000],\"sizemode\":\"area\",\"sizeref\":250.0,\"symbol\":\"circle\"},\"mode\":\"markers\",\"name\":\"Female\",\"orientation\":\"h\",\"showlegend\":true,\"x\":[25,28,28,45,29,36,45,28,38,50,48,65,24,35,28,31,60,29,36,50,32,35,32,28,52,34],\"xaxis\":\"x\",\"y\":[\"[{\\\"Timestamp\\\": \\\"2022-03-10T14:30:00Z\\\"}, {\\\"Timestamp\\\": \\\"2022-03-11T09:45:00Z\\\"}, {\\\"Timestamp\\\": \\\"2022-03-12T16:20:00Z\\\"}]\",\"[{\\\"Product Category\\\": \\\"Home & Garden\\\", \\\"Timestamp\\\": \\\"2022-05-12T13:30:00Z\\\"}, {\\\"Product Category\\\": \\\"Electronics\\\", \\\"Timestamp\\\": \\\"2022-06-05T08:45:00Z\\\"}]\",\"[{\\\"Product Category\\\": \\\"Clothing\\\", \\\"Timestamp\\\": \\\"2022-09-03 15:30:00\\\"}, {\\\"Product Category\\\": \\\"Electronics\\\", \\\"Timestamp\\\": \\\"2022-09-01 10:15:00\\\"}]\",\"{'Timestamp': '2022-09-03 14:30:00'}\",\"{'Timestamp': '2022-08-15 13:20:00'}\",\"{'Timestamp': '2022-08-17 14:50:00'}\",\"{'Timestamp': '2022-03-06 14:30:00'}\",\"{'Timestamp': '2022-07-08 13:00:00'}\",\"{'Timestamp': '2022-09-02 11:15:00'}\",\"{'Timestamp': '2022-11-02 10:30:00'}\",\"{'Timestamp': '2022-12-21 15:30:00'}\",\"{'Timestamp': '2023-02-06 13:15:00'}\",\"[{\\\"Timestamp\\\": \\\"2022-08-20T14:30:00Z\\\"}, {\\\"Timestamp\\\": \\\"2022-08-22T16:45:00Z\\\"}, {\\\"Timestamp\\\": \\\"2022-09-03T10:20:00Z\\\"}]\",\"{'Timestamp': '2022-04-20T14:30:00Z'}\",\"{'Timestamp': '2022-06-01T09:15:00Z'}\",\"{'Timestamp': '2022-05-30T13:45:00Z'}\",\"{'Timestamp': '2022-06-15T11:30:00Z'}\",\"{'Timestamp': '2022-05-31T16:45:00Z'}\",\"{'Timestamp': '2022-06-13T13:00:00Z'}\",\"{'Timestamp': '2022-06-08T14:30:00Z'}\",\"[{\\\"Product Category\\\": \\\"Home & Garden\\\", \\\"Timestamp\\\": \\\"2022-09-01T14:30:00Z\\\"}, {\\\"Product Category\\\": \\\"Clothing\\\", \\\"Timestamp\\\": \\\"2022-08-25T12:15:00Z\\\"}]\",\"[{\\\"Product Category\\\": \\\"Home & Garden\\\", \\\"Timestamp\\\": \\\"2022-04-03T15:30:00Z\\\"}, {\\\"Product Category\\\": \\\"Electronics\\\", \\\"Timestamp\\\": \\\"2022-03-28T08:45:00Z\\\"}]\",\"[{\\\"Product Category\\\": \\\"Home & Garden\\\", \\\"Timestamp\\\": \\\"2022-02-20T12:34:56Z\\\"}]\",\"[{\\\"Product Category\\\": \\\"Home & Garden\\\", \\\"Timestamp\\\": \\\"2022-06-15T12:34:56Z\\\"}, {\\\"Product Category\\\": \\\"Electronics\\\", \\\"Timestamp\\\": \\\"2022-05-20T16:17:23Z\\\"}]\",\"[{\\\"Product Category\\\": \\\"Electronics\\\", \\\"Timestamp\\\": \\\"2022-07-12T11:45:06Z\\\"}, {\\\"Product Category\\\": \\\"Clothing\\\", \\\"Timestamp\\\": \\\"2022-06-30T16:23:30Z\\\"}]\",\"[{\\\"Timestamp\\\": \\\"2022-08-14T09:30:00Z\\\"},{\\\"Timestamp\\\": \\\"2022-07-25T14:15:00Z\\\"},{\\\"Timestamp\\\": \\\"2022-06-01T10:45:00Z\\\"}]\"],\"yaxis\":\"y\",\"type\":\"scatter\"},{\"hovertemplate\":\"Gender=Male\\u003cbr\\u003eAge=%{x}\\u003cbr\\u003eBrowsing History=%{y}\\u003cbr\\u003eAnnual Income=%{marker.size}\\u003cextra\\u003e\\u003c\\u002fextra\\u003e\",\"legendgroup\":\"Male\",\"marker\":{\"color\":\"#EF553B\",\"size\":[45000,75000,80000,50000,90000,70000,55000,40000,80000,70000,90000,85000,75000,95000,75000,80000,45000,87000],\"sizemode\":\"area\",\"sizeref\":250.0,\"symbol\":\"circle\"},\"mode\":\"markers\",\"name\":\"Male\",\"orientation\":\"h\",\"showlegend\":true,\"x\":[34,42,48,32,55,42,35,30,45,52,48,55,58,42,42,42,24,45],\"xaxis\":\"x\",\"y\":[\"{'Timestamp': '2022-08-10 17:15:00'}\",\"{'Timestamp': '2022-09-12 16:35:00'}\",\"{'Timestamp': '2022-06-30 11:15:00'}\",\"{'Timestamp': '2022-05-12 16:15:00'}\",\"{'Timestamp': '2022-08-04 09:30:00'}\",\"{'Timestamp': '2022-10-07 14:45:00'}\",\"{'Timestamp': '2022-12-06 12:00:00'}\",\"{'Timestamp': '2023-01-11 08:45:00'}\",\"{'Timestamp': '2022-05-25T17:45:00Z'}\",\"{'Timestamp': '2022-05-22T10:30:00Z'}\",\"{'Timestamp': '2022-06-06T08:00:00Z'}\",\"{'Timestamp': '2022-05-28T15:15:00Z'}\",\"{'Timestamp': '2022-05-29T10:30:00Z'}\",\"{'Timestamp': '2022-05-26T11:15:00Z'}\",\"[{\\\"Product Category\\\": \\\"Electronics\\\", \\\"Timestamp\\\": \\\"2022-03-01T10:15:00Z\\\"}, {\\\"Product Category\\\": \\\"Clothing\\\", \\\"Timestamp\\\": \\\"2022-02-15T16:30:00Z\\\"}]\",\"[{\\\"Product Category\\\": \\\"Clothing\\\", \\\"Timestamp\\\": \\\"2022-07-10T09:15:32Z\\\"}, {\\\"Product Category\\\": \\\"Electronics\\\", \\\"Timestamp\\\": \\\"2022-06-25T14:46:01Z\\\"}]\",\"[{\\\"Product Category\\\": \\\"Clothing\\\", \\\"Timestamp\\\": \\\"2022-06-05T08:00:23Z\\\"}, {\\\"Product Category\\\": \\\"Electronics\\\", \\\"Timestamp\\\": \\\"2022-05-28T14:30:56Z\\\"}]\",\"[{\\\"Timestamp\\\": \\\"2022-08-12T16:00:00Z\\\"},{\\\"Timestamp\\\": \\\"2022-07-27T08:30:00Z\\\"},{\\\"Timestamp\\\": \\\"2022-06-03T11:00:00Z\\\"}]\"],\"yaxis\":\"y\",\"type\":\"scatter\"},{\"hovertemplate\":\"Gender=Other\\u003cbr\\u003eAge=%{x}\\u003cbr\\u003eBrowsing History=%{y}\\u003cbr\\u003eAnnual Income=%{marker.size}\\u003cextra\\u003e\\u003c\\u002fextra\\u003e\",\"legendgroup\":\"Other\",\"marker\":{\"color\":\"#00cc96\",\"size\":[90000,85000,40000,80000,50000,42000],\"sizemode\":\"area\",\"sizeref\":250.0,\"symbol\":\"circle\"},\"mode\":\"markers\",\"name\":\"Other\",\"orientation\":\"h\",\"showlegend\":true,\"x\":[56,51,25,60,35,29],\"xaxis\":\"x\",\"y\":[\"{'Timestamp': '2022-06-25 10:45:00'}\",\"{'Timestamp': '2022-06-28 09:00:00'}\",\"{'Timestamp': '2022-09-14 10:00:00'}\",\"{'Timestamp': '2022-06-03 10:45:00'}\",\"[{\\\"Product Category\\\": \\\"Home & Garden\\\", \\\"Timestamp\\\": \\\"2022-06-27T10:30:11Z\\\"}, {\\\"Product Category\\\": \\\"Electronics\\\", \\\"Timestamp\\\": \\\"2022-05-30T13:02:45Z\\\"}]\",\"[{\\\"Timestamp\\\": \\\"2022-08-13T13:45:00Z\\\"},{\\\"Timestamp\\\": \\\"2022-07-26T07:00:00Z\\\"},{\\\"Timestamp\\\": \\\"2022-06-02T15:30:00Z\\\"}]\"],\"yaxis\":\"y\",\"type\":\"scatter\"}],                        {\"template\":{\"data\":{\"histogram2dcontour\":[{\"type\":\"histogram2dcontour\",\"colorbar\":{\"outlinewidth\":0,\"ticks\":\"\"},\"colorscale\":[[0.0,\"#0d0887\"],[0.1111111111111111,\"#46039f\"],[0.2222222222222222,\"#7201a8\"],[0.3333333333333333,\"#9c179e\"],[0.4444444444444444,\"#bd3786\"],[0.5555555555555556,\"#d8576b\"],[0.6666666666666666,\"#ed7953\"],[0.7777777777777778,\"#fb9f3a\"],[0.8888888888888888,\"#fdca26\"],[1.0,\"#f0f921\"]]}],\"choropleth\":[{\"type\":\"choropleth\",\"colorbar\":{\"outlinewidth\":0,\"ticks\":\"\"}}],\"histogram2d\":[{\"type\":\"histogram2d\",\"colorbar\":{\"outlinewidth\":0,\"ticks\":\"\"},\"colorscale\":[[0.0,\"#0d0887\"],[0.1111111111111111,\"#46039f\"],[0.2222222222222222,\"#7201a8\"],[0.3333333333333333,\"#9c179e\"],[0.4444444444444444,\"#bd3786\"],[0.5555555555555556,\"#d8576b\"],[0.6666666666666666,\"#ed7953\"],[0.7777777777777778,\"#fb9f3a\"],[0.8888888888888888,\"#fdca26\"],[1.0,\"#f0f921\"]]}],\"heatmap\":[{\"type\":\"heatmap\",\"colorbar\":{\"outlinewidth\":0,\"ticks\":\"\"},\"colorscale\":[[0.0,\"#0d0887\"],[0.1111111111111111,\"#46039f\"],[0.2222222222222222,\"#7201a8\"],[0.3333333333333333,\"#9c179e\"],[0.4444444444444444,\"#bd3786\"],[0.5555555555555556,\"#d8576b\"],[0.6666666666666666,\"#ed7953\"],[0.7777777777777778,\"#fb9f3a\"],[0.8888888888888888,\"#fdca26\"],[1.0,\"#f0f921\"]]}],\"heatmapgl\":[{\"type\":\"heatmapgl\",\"colorbar\":{\"outlinewidth\":0,\"ticks\":\"\"},\"colorscale\":[[0.0,\"#0d0887\"],[0.1111111111111111,\"#46039f\"],[0.2222222222222222,\"#7201a8\"],[0.3333333333333333,\"#9c179e\"],[0.4444444444444444,\"#bd3786\"],[0.5555555555555556,\"#d8576b\"],[0.6666666666666666,\"#ed7953\"],[0.7777777777777778,\"#fb9f3a\"],[0.8888888888888888,\"#fdca26\"],[1.0,\"#f0f921\"]]}],\"contourcarpet\":[{\"type\":\"contourcarpet\",\"colorbar\":{\"outlinewidth\":0,\"ticks\":\"\"}}],\"contour\":[{\"type\":\"contour\",\"colorbar\":{\"outlinewidth\":0,\"ticks\":\"\"},\"colorscale\":[[0.0,\"#0d0887\"],[0.1111111111111111,\"#46039f\"],[0.2222222222222222,\"#7201a8\"],[0.3333333333333333,\"#9c179e\"],[0.4444444444444444,\"#bd3786\"],[0.5555555555555556,\"#d8576b\"],[0.6666666666666666,\"#ed7953\"],[0.7777777777777778,\"#fb9f3a\"],[0.8888888888888888,\"#fdca26\"],[1.0,\"#f0f921\"]]}],\"surface\":[{\"type\":\"surface\",\"colorbar\":{\"outlinewidth\":0,\"ticks\":\"\"},\"colorscale\":[[0.0,\"#0d0887\"],[0.1111111111111111,\"#46039f\"],[0.2222222222222222,\"#7201a8\"],[0.3333333333333333,\"#9c179e\"],[0.4444444444444444,\"#bd3786\"],[0.5555555555555556,\"#d8576b\"],[0.6666666666666666,\"#ed7953\"],[0.7777777777777778,\"#fb9f3a\"],[0.8888888888888888,\"#fdca26\"],[1.0,\"#f0f921\"]]}],\"mesh3d\":[{\"type\":\"mesh3d\",\"colorbar\":{\"outlinewidth\":0,\"ticks\":\"\"}}],\"scatter\":[{\"fillpattern\":{\"fillmode\":\"overlay\",\"size\":10,\"solidity\":0.2},\"type\":\"scatter\"}],\"parcoords\":[{\"type\":\"parcoords\",\"line\":{\"colorbar\":{\"outlinewidth\":0,\"ticks\":\"\"}}}],\"scatterpolargl\":[{\"type\":\"scatterpolargl\",\"marker\":{\"colorbar\":{\"outlinewidth\":0,\"ticks\":\"\"}}}],\"bar\":[{\"error_x\":{\"color\":\"#2a3f5f\"},\"error_y\":{\"color\":\"#2a3f5f\"},\"marker\":{\"line\":{\"color\":\"#E5ECF6\",\"width\":0.5},\"pattern\":{\"fillmode\":\"overlay\",\"size\":10,\"solidity\":0.2}},\"type\":\"bar\"}],\"scattergeo\":[{\"type\":\"scattergeo\",\"marker\":{\"colorbar\":{\"outlinewidth\":0,\"ticks\":\"\"}}}],\"scatterpolar\":[{\"type\":\"scatterpolar\",\"marker\":{\"colorbar\":{\"outlinewidth\":0,\"ticks\":\"\"}}}],\"histogram\":[{\"marker\":{\"pattern\":{\"fillmode\":\"overlay\",\"size\":10,\"solidity\":0.2}},\"type\":\"histogram\"}],\"scattergl\":[{\"type\":\"scattergl\",\"marker\":{\"colorbar\":{\"outlinewidth\":0,\"ticks\":\"\"}}}],\"scatter3d\":[{\"type\":\"scatter3d\",\"line\":{\"colorbar\":{\"outlinewidth\":0,\"ticks\":\"\"}},\"marker\":{\"colorbar\":{\"outlinewidth\":0,\"ticks\":\"\"}}}],\"scattermapbox\":[{\"type\":\"scattermapbox\",\"marker\":{\"colorbar\":{\"outlinewidth\":0,\"ticks\":\"\"}}}],\"scatterternary\":[{\"type\":\"scatterternary\",\"marker\":{\"colorbar\":{\"outlinewidth\":0,\"ticks\":\"\"}}}],\"scattercarpet\":[{\"type\":\"scattercarpet\",\"marker\":{\"colorbar\":{\"outlinewidth\":0,\"ticks\":\"\"}}}],\"carpet\":[{\"aaxis\":{\"endlinecolor\":\"#2a3f5f\",\"gridcolor\":\"white\",\"linecolor\":\"white\",\"minorgridcolor\":\"white\",\"startlinecolor\":\"#2a3f5f\"},\"baxis\":{\"endlinecolor\":\"#2a3f5f\",\"gridcolor\":\"white\",\"linecolor\":\"white\",\"minorgridcolor\":\"white\",\"startlinecolor\":\"#2a3f5f\"},\"type\":\"carpet\"}],\"table\":[{\"cells\":{\"fill\":{\"color\":\"#EBF0F8\"},\"line\":{\"color\":\"white\"}},\"header\":{\"fill\":{\"color\":\"#C8D4E3\"},\"line\":{\"color\":\"white\"}},\"type\":\"table\"}],\"barpolar\":[{\"marker\":{\"line\":{\"color\":\"#E5ECF6\",\"width\":0.5},\"pattern\":{\"fillmode\":\"overlay\",\"size\":10,\"solidity\":0.2}},\"type\":\"barpolar\"}],\"pie\":[{\"automargin\":true,\"type\":\"pie\"}]},\"layout\":{\"autotypenumbers\":\"strict\",\"colorway\":[\"#636efa\",\"#EF553B\",\"#00cc96\",\"#ab63fa\",\"#FFA15A\",\"#19d3f3\",\"#FF6692\",\"#B6E880\",\"#FF97FF\",\"#FECB52\"],\"font\":{\"color\":\"#2a3f5f\"},\"hovermode\":\"closest\",\"hoverlabel\":{\"align\":\"left\"},\"paper_bgcolor\":\"white\",\"plot_bgcolor\":\"#E5ECF6\",\"polar\":{\"bgcolor\":\"#E5ECF6\",\"angularaxis\":{\"gridcolor\":\"white\",\"linecolor\":\"white\",\"ticks\":\"\"},\"radialaxis\":{\"gridcolor\":\"white\",\"linecolor\":\"white\",\"ticks\":\"\"}},\"ternary\":{\"bgcolor\":\"#E5ECF6\",\"aaxis\":{\"gridcolor\":\"white\",\"linecolor\":\"white\",\"ticks\":\"\"},\"baxis\":{\"gridcolor\":\"white\",\"linecolor\":\"white\",\"ticks\":\"\"},\"caxis\":{\"gridcolor\":\"white\",\"linecolor\":\"white\",\"ticks\":\"\"}},\"coloraxis\":{\"colorbar\":{\"outlinewidth\":0,\"ticks\":\"\"}},\"colorscale\":{\"sequential\":[[0.0,\"#0d0887\"],[0.1111111111111111,\"#46039f\"],[0.2222222222222222,\"#7201a8\"],[0.3333333333333333,\"#9c179e\"],[0.4444444444444444,\"#bd3786\"],[0.5555555555555556,\"#d8576b\"],[0.6666666666666666,\"#ed7953\"],[0.7777777777777778,\"#fb9f3a\"],[0.8888888888888888,\"#fdca26\"],[1.0,\"#f0f921\"]],\"sequentialminus\":[[0.0,\"#0d0887\"],[0.1111111111111111,\"#46039f\"],[0.2222222222222222,\"#7201a8\"],[0.3333333333333333,\"#9c179e\"],[0.4444444444444444,\"#bd3786\"],[0.5555555555555556,\"#d8576b\"],[0.6666666666666666,\"#ed7953\"],[0.7777777777777778,\"#fb9f3a\"],[0.8888888888888888,\"#fdca26\"],[1.0,\"#f0f921\"]],\"diverging\":[[0,\"#8e0152\"],[0.1,\"#c51b7d\"],[0.2,\"#de77ae\"],[0.3,\"#f1b6da\"],[0.4,\"#fde0ef\"],[0.5,\"#f7f7f7\"],[0.6,\"#e6f5d0\"],[0.7,\"#b8e186\"],[0.8,\"#7fbc41\"],[0.9,\"#4d9221\"],[1,\"#276419\"]]},\"xaxis\":{\"gridcolor\":\"white\",\"linecolor\":\"white\",\"ticks\":\"\",\"title\":{\"standoff\":15},\"zerolinecolor\":\"white\",\"automargin\":true,\"zerolinewidth\":2},\"yaxis\":{\"gridcolor\":\"white\",\"linecolor\":\"white\",\"ticks\":\"\",\"title\":{\"standoff\":15},\"zerolinecolor\":\"white\",\"automargin\":true,\"zerolinewidth\":2},\"scene\":{\"xaxis\":{\"backgroundcolor\":\"#E5ECF6\",\"gridcolor\":\"white\",\"linecolor\":\"white\",\"showbackground\":true,\"ticks\":\"\",\"zerolinecolor\":\"white\",\"gridwidth\":2},\"yaxis\":{\"backgroundcolor\":\"#E5ECF6\",\"gridcolor\":\"white\",\"linecolor\":\"white\",\"showbackground\":true,\"ticks\":\"\",\"zerolinecolor\":\"white\",\"gridwidth\":2},\"zaxis\":{\"backgroundcolor\":\"#E5ECF6\",\"gridcolor\":\"white\",\"linecolor\":\"white\",\"showbackground\":true,\"ticks\":\"\",\"zerolinecolor\":\"white\",\"gridwidth\":2}},\"shapedefaults\":{\"line\":{\"color\":\"#2a3f5f\"}},\"annotationdefaults\":{\"arrowcolor\":\"#2a3f5f\",\"arrowhead\":0,\"arrowwidth\":1},\"geo\":{\"bgcolor\":\"white\",\"landcolor\":\"#E5ECF6\",\"subunitcolor\":\"white\",\"showland\":true,\"showlakes\":true,\"lakecolor\":\"white\"},\"title\":{\"x\":0.05},\"mapbox\":{\"style\":\"light\"}}},\"xaxis\":{\"anchor\":\"y\",\"domain\":[0.0,1.0],\"title\":{\"text\":\"Age\"}},\"yaxis\":{\"anchor\":\"x\",\"domain\":[0.0,1.0],\"title\":{\"text\":\"Browsing History\"}},\"legend\":{\"title\":{\"text\":\"Gender\"},\"tracegroupgap\":0,\"itemsizing\":\"constant\"},\"title\":{\"text\":\"Age vs Browsing History with Annual Income as Bubble Size\"},\"width\":1700},                        {\"responsive\": true}                    ).then(function(){\n",
              "                            \n",
              "var gd = document.getElementById('b0046a8c-5949-4fc7-9408-51486951babe');\n",
              "var x = new MutationObserver(function (mutations, observer) {{\n",
              "        var display = window.getComputedStyle(gd).display;\n",
              "        if (!display || display === 'none') {{\n",
              "            console.log([gd, 'removed!']);\n",
              "            Plotly.purge(gd);\n",
              "            observer.disconnect();\n",
              "        }}\n",
              "}});\n",
              "\n",
              "// Listen for the removal of the full notebook cells\n",
              "var notebookContainer = gd.closest('#notebook-container');\n",
              "if (notebookContainer) {{\n",
              "    x.observe(notebookContainer, {childList: true});\n",
              "}}\n",
              "\n",
              "// Listen for the clearing of the current output cell\n",
              "var outputEl = gd.closest('.output');\n",
              "if (outputEl) {{\n",
              "    x.observe(outputEl, {childList: true});\n",
              "}}\n",
              "\n",
              "                        })                };                            </script>        </div>\n",
              "</body>\n",
              "</html>"
            ]
          },
          "metadata": {}
        }
      ]
    },
    {
      "cell_type": "markdown",
      "source": [
        "**Analysis of Browsing History, Product Reviews, and Time on Site**"
      ],
      "metadata": {
        "id": "a8NWU7Y5dNDM"
      }
    },
    {
      "cell_type": "code",
      "source": [
        "fig = px.scatter(df_no_outliers, x='Browsing History', y='Product Reviews', size='Time on Site', color='Gender',\n",
        "                 title='Browsing History vs Product Reviews with Time on Site as Bubble Size, by Gender', height=1500, width=1700)\n",
        "fig.show()"
      ],
      "metadata": {
        "execution": {
          "iopub.status.busy": "2024-10-03T09:17:47.365267Z",
          "iopub.execute_input": "2024-10-03T09:17:47.365682Z",
          "iopub.status.idle": "2024-10-03T09:17:47.457037Z",
          "shell.execute_reply.started": "2024-10-03T09:17:47.365639Z",
          "shell.execute_reply": "2024-10-03T09:17:47.455955Z"
        },
        "trusted": true,
        "colab": {
          "base_uri": "https://localhost:8080/",
          "height": 1000
        },
        "id": "s2Ig8mx-dNDM",
        "outputId": "c0ed03dd-66cc-40bb-e56b-8d1f10cb5d77"
      },
      "execution_count": 34,
      "outputs": [
        {
          "output_type": "display_data",
          "data": {
            "text/html": [
              "<html>\n",
              "<head><meta charset=\"utf-8\" /></head>\n",
              "<body>\n",
              "    <div>            <script src=\"https://cdnjs.cloudflare.com/ajax/libs/mathjax/2.7.5/MathJax.js?config=TeX-AMS-MML_SVG\"></script><script type=\"text/javascript\">if (window.MathJax && window.MathJax.Hub && window.MathJax.Hub.Config) {window.MathJax.Hub.Config({SVG: {font: \"STIX-Web\"}});}</script>                <script type=\"text/javascript\">window.PlotlyConfig = {MathJaxConfig: 'local'};</script>\n",
              "        <script charset=\"utf-8\" src=\"https://cdn.plot.ly/plotly-2.35.2.min.js\"></script>                <div id=\"4416c769-664a-44e8-8961-f38e6c6a2ab8\" class=\"plotly-graph-div\" style=\"height:1500px; width:1700px;\"></div>            <script type=\"text/javascript\">                                    window.PLOTLYENV=window.PLOTLYENV || {};                                    if (document.getElementById(\"4416c769-664a-44e8-8961-f38e6c6a2ab8\")) {                    Plotly.newPlot(                        \"4416c769-664a-44e8-8961-f38e6c6a2ab8\",                        [{\"hovertemplate\":\"Gender=Female\\u003cbr\\u003eBrowsing History=%{x}\\u003cbr\\u003eProduct Reviews=%{y}\\u003cbr\\u003eTime on Site=%{marker.size}\\u003cextra\\u003e\\u003c\\u002fextra\\u003e\",\"legendgroup\":\"Female\",\"marker\":{\"color\":\"#636efa\",\"size\":[32.5,123.45,125.6,327.6,378.5,334.9,120.0,150.0,250.0,280.0,200.0,240.0,120.5,120.0,250.0,200.0,300.0,250.0,200.0,250.0,72.3,123.6,75.2,120.5,300.0,120.0],\"sizemode\":\"area\",\"sizeref\":1.21575,\"symbol\":\"circle\"},\"mode\":\"markers\",\"name\":\"Female\",\"orientation\":\"v\",\"showlegend\":true,\"x\":[\"[{\\\"Timestamp\\\": \\\"2022-03-10T14:30:00Z\\\"}, {\\\"Timestamp\\\": \\\"2022-03-11T09:45:00Z\\\"}, {\\\"Timestamp\\\": \\\"2022-03-12T16:20:00Z\\\"}]\",\"[{\\\"Product Category\\\": \\\"Home & Garden\\\", \\\"Timestamp\\\": \\\"2022-05-12T13:30:00Z\\\"}, {\\\"Product Category\\\": \\\"Electronics\\\", \\\"Timestamp\\\": \\\"2022-06-05T08:45:00Z\\\"}]\",\"[{\\\"Product Category\\\": \\\"Clothing\\\", \\\"Timestamp\\\": \\\"2022-09-03 15:30:00\\\"}, {\\\"Product Category\\\": \\\"Electronics\\\", \\\"Timestamp\\\": \\\"2022-09-01 10:15:00\\\"}]\",\"{'Timestamp': '2022-09-03 14:30:00'}\",\"{'Timestamp': '2022-08-15 13:20:00'}\",\"{'Timestamp': '2022-08-17 14:50:00'}\",\"{'Timestamp': '2022-03-06 14:30:00'}\",\"{'Timestamp': '2022-07-08 13:00:00'}\",\"{'Timestamp': '2022-09-02 11:15:00'}\",\"{'Timestamp': '2022-11-02 10:30:00'}\",\"{'Timestamp': '2022-12-21 15:30:00'}\",\"{'Timestamp': '2023-02-06 13:15:00'}\",\"[{\\\"Timestamp\\\": \\\"2022-08-20T14:30:00Z\\\"}, {\\\"Timestamp\\\": \\\"2022-08-22T16:45:00Z\\\"}, {\\\"Timestamp\\\": \\\"2022-09-03T10:20:00Z\\\"}]\",\"{'Timestamp': '2022-04-20T14:30:00Z'}\",\"{'Timestamp': '2022-06-01T09:15:00Z'}\",\"{'Timestamp': '2022-05-30T13:45:00Z'}\",\"{'Timestamp': '2022-06-15T11:30:00Z'}\",\"{'Timestamp': '2022-05-31T16:45:00Z'}\",\"{'Timestamp': '2022-06-13T13:00:00Z'}\",\"{'Timestamp': '2022-06-08T14:30:00Z'}\",\"[{\\\"Product Category\\\": \\\"Home & Garden\\\", \\\"Timestamp\\\": \\\"2022-09-01T14:30:00Z\\\"}, {\\\"Product Category\\\": \\\"Clothing\\\", \\\"Timestamp\\\": \\\"2022-08-25T12:15:00Z\\\"}]\",\"[{\\\"Product Category\\\": \\\"Home & Garden\\\", \\\"Timestamp\\\": \\\"2022-04-03T15:30:00Z\\\"}, {\\\"Product Category\\\": \\\"Electronics\\\", \\\"Timestamp\\\": \\\"2022-03-28T08:45:00Z\\\"}]\",\"[{\\\"Product Category\\\": \\\"Home & Garden\\\", \\\"Timestamp\\\": \\\"2022-02-20T12:34:56Z\\\"}]\",\"[{\\\"Product Category\\\": \\\"Home & Garden\\\", \\\"Timestamp\\\": \\\"2022-06-15T12:34:56Z\\\"}, {\\\"Product Category\\\": \\\"Electronics\\\", \\\"Timestamp\\\": \\\"2022-05-20T16:17:23Z\\\"}]\",\"[{\\\"Product Category\\\": \\\"Electronics\\\", \\\"Timestamp\\\": \\\"2022-07-12T11:45:06Z\\\"}, {\\\"Product Category\\\": \\\"Clothing\\\", \\\"Timestamp\\\": \\\"2022-06-30T16:23:30Z\\\"}]\",\"[{\\\"Timestamp\\\": \\\"2022-08-14T09:30:00Z\\\"},{\\\"Timestamp\\\": \\\"2022-07-25T14:15:00Z\\\"},{\\\"Timestamp\\\": \\\"2022-06-01T10:45:00Z\\\"}]\"],\"xaxis\":\"x\",\"y\":[\"Great pair of jeans, very comfortable. Rating: 4 stars.\",\"Great customer service!\",\"Great electronics. The sound quality is excellent. I would highly recommend this product.\",\"{\\\"Product 1\\\": {\\\"Rating\\\": 4, \\\"Review\\\": \\\"Great experience buying this product. Fast delivery and excellent customer service.\\\"}}\",\"{\\\"Product 1\\\": {\\\"Rating\\\": 4, \\\"Review\\\": \\\"Great product, will definitely buy again.\\\"}}\",\"{\\\"Product 1\\\": {\\\"Rating\\\": 4, \\\"Review\\\": \\\"Good product, but could have been better.\\\"}}\",\"{\\\"Review Text\\\": \\\"Great quality clothes!\\\", \\\"Rating\\\": 5}\",\"{\\\"Review Text\\\": \\\"Not what I expected.\\\", \\\"Rating\\\": 2}\",\"{\\\"Review Text\\\": \\\"Awesome purchase!\\\", \\\"Rating\\\": 5}\",\"{\\\"Review Text\\\": \\\"Great product, highly recommend!\\\", \\\"Rating\\\": 5}\",\"{\\\"Review Text\\\": \\\"Excellent product, highly recommend!\\\", \\\"Rating\\\": 5}\",\"{\\\"Review Text\\\": \\\"Excellent product, highly recommend!\\\", \\\"Rating\\\": 5}\",\"This dress is amazing! I love the color and fit. 5 stars.\",\"The blouse is so comfortable and stylish. 5 stars!\",\"The dress fits perfectly. I love it. 5 stars!\",\"The top is nice, but the size is a bit small. 3.5 stars.\",\"The shirt is comfortable. 4 stars.\",\"The shoes are comfortable. 4.5 stars.\",\"The skirt is lovely. 4.5 stars.\",\"The bedding is comfortable. 4 stars.\",\"Great find! 5 stars\",\"Great product, very happy with my purchase.\",\"Great headphones, sound quality is amazing.\",\"Great purchase! The shoes are so comfortable and stylish. I've received several compliments.\",\"I love my new kitchen gadget! It's so efficient and easy to use.\",\"The clothing arrived quickly and fits great! 5 stars.\"],\"yaxis\":\"y\",\"type\":\"scatter\"},{\"hovertemplate\":\"Gender=Male\\u003cbr\\u003eBrowsing History=%{x}\\u003cbr\\u003eProduct Reviews=%{y}\\u003cbr\\u003eTime on Site=%{marker.size}\\u003cextra\\u003e\\u003c\\u002fextra\\u003e\",\"legendgroup\":\"Male\",\"marker\":{\"color\":\"#EF553B\",\"size\":[214.9,289.8,298.6,75.0,300.0,180.0,220.0,160.0,300.0,350.0,400.0,450.0,350.0,300.0,246.9,250.0,100.0,350.0],\"sizemode\":\"area\",\"sizeref\":1.21575,\"symbol\":\"circle\"},\"mode\":\"markers\",\"name\":\"Male\",\"orientation\":\"v\",\"showlegend\":true,\"x\":[\"{'Timestamp': '2022-08-10 17:15:00'}\",\"{'Timestamp': '2022-09-12 16:35:00'}\",\"{'Timestamp': '2022-06-30 11:15:00'}\",\"{'Timestamp': '2022-05-12 16:15:00'}\",\"{'Timestamp': '2022-08-04 09:30:00'}\",\"{'Timestamp': '2022-10-07 14:45:00'}\",\"{'Timestamp': '2022-12-06 12:00:00'}\",\"{'Timestamp': '2023-01-11 08:45:00'}\",\"{'Timestamp': '2022-05-25T17:45:00Z'}\",\"{'Timestamp': '2022-05-22T10:30:00Z'}\",\"{'Timestamp': '2022-06-06T08:00:00Z'}\",\"{'Timestamp': '2022-05-28T15:15:00Z'}\",\"{'Timestamp': '2022-05-29T10:30:00Z'}\",\"{'Timestamp': '2022-05-26T11:15:00Z'}\",\"[{\\\"Product Category\\\": \\\"Electronics\\\", \\\"Timestamp\\\": \\\"2022-03-01T10:15:00Z\\\"}, {\\\"Product Category\\\": \\\"Clothing\\\", \\\"Timestamp\\\": \\\"2022-02-15T16:30:00Z\\\"}]\",\"[{\\\"Product Category\\\": \\\"Clothing\\\", \\\"Timestamp\\\": \\\"2022-07-10T09:15:32Z\\\"}, {\\\"Product Category\\\": \\\"Electronics\\\", \\\"Timestamp\\\": \\\"2022-06-25T14:46:01Z\\\"}]\",\"[{\\\"Product Category\\\": \\\"Clothing\\\", \\\"Timestamp\\\": \\\"2022-06-05T08:00:23Z\\\"}, {\\\"Product Category\\\": \\\"Electronics\\\", \\\"Timestamp\\\": \\\"2022-05-28T14:30:56Z\\\"}]\",\"[{\\\"Timestamp\\\": \\\"2022-08-12T16:00:00Z\\\"},{\\\"Timestamp\\\": \\\"2022-07-27T08:30:00Z\\\"},{\\\"Timestamp\\\": \\\"2022-06-03T11:00:00Z\\\"}]\"],\"xaxis\":\"x\",\"y\":[\"{\\\"Product 1\\\": {\\\"Rating\\\": 3, \\\"Review\\\": \\\"Good product, but could have been better.\\\"}}\",\"{\\\"Product 1\\\": {\\\"Rating\\\": 3, \\\"Review\\\": \\\"Good product, but not worth the price.\\\"}}\",\"{\\\"Product 1\\\": {\\\"Rating\\\": 3, \\\"Review\\\": \\\"Good product, but not what I expected.\\\"}}\",\"{\\\"Review Text\\\": \\\"Good product, but could be cheaper.\\\", \\\"Rating\\\": 3}\",\"{\\\"Review Text\\\": \\\"Excellent product, highly recommend!\\\", \\\"Rating\\\": 5}\",\"{\\\"Review Text\\\": \\\"Good product, but not worth the price.\\\", \\\"Rating\\\": 3}\",\"{\\\"Review Text\\\": \\\"Satisfied with my purchase!\\\", \\\"Rating\\\": 4}\",\"{\\\"Review Text\\\": \\\"Good product, but could be better.\\\", \\\"Rating\\\": 3}\",\"The headphones are great. Sound quality is excellent. 4.5 stars.\",\"The vacuum cleaner works great. 4 stars.\",\"The phone is fantastic. 5 stars!\",\"The laptop is excellent. 5 stars!\",\"The coffee maker is great. 5 stars!\",\"The TV is amazing. 5 stars!\",\"The product arrived quickly and in great condition.\",\"I'm really happy with my new phone. The battery life is impressive.\",\"The laptop is perfect for my needs. It's lightweight and powerful.\",\"The electronics were excellent quality and arrived promptly. 5 stars.\"],\"yaxis\":\"y\",\"type\":\"scatter\"},{\"hovertemplate\":\"Gender=Other\\u003cbr\\u003eBrowsing History=%{x}\\u003cbr\\u003eProduct Reviews=%{y}\\u003cbr\\u003eTime on Site=%{marker.size}\\u003cextra\\u003e\\u003c\\u002fextra\\u003e\",\"legendgroup\":\"Other\",\"marker\":{\"color\":\"#00cc96\",\"size\":[486.3,456.2,312.5,200.0,75.0,200.0],\"sizemode\":\"area\",\"sizeref\":1.21575,\"symbol\":\"circle\"},\"mode\":\"markers\",\"name\":\"Other\",\"orientation\":\"v\",\"showlegend\":true,\"x\":[\"{'Timestamp': '2022-06-25 10:45:00'}\",\"{'Timestamp': '2022-06-28 09:00:00'}\",\"{'Timestamp': '2022-09-14 10:00:00'}\",\"{'Timestamp': '2022-06-03 10:45:00'}\",\"[{\\\"Product Category\\\": \\\"Home & Garden\\\", \\\"Timestamp\\\": \\\"2022-06-27T10:30:11Z\\\"}, {\\\"Product Category\\\": \\\"Electronics\\\", \\\"Timestamp\\\": \\\"2022-05-30T13:02:45Z\\\"}]\",\"[{\\\"Timestamp\\\": \\\"2022-08-13T13:45:00Z\\\"},{\\\"Timestamp\\\": \\\"2022-07-26T07:00:00Z\\\"},{\\\"Timestamp\\\": \\\"2022-06-02T15:30:00Z\\\"}]\"],\"xaxis\":\"x\",\"y\":[\"{\\\"Product 1\\\": {\\\"Rating\\\": 5, \\\"Review\\\": \\\"Awesome product, highly recommend it to everyone.\\\"}}\",\"{\\\"Product 1\\\": {\\\"Rating\\\": 5, \\\"Review\\\": \\\"Outstanding product, exceeded my expectations.\\\"}}\",\"{\\\"Product 1\\\": {\\\"Rating\\\": 4, \\\"Review\\\": \\\"Great product, will definitely buy again.\\\"}}\",\"{\\\"Review Text\\\": \\\"Very satisfied with my purchase!\\\", \\\"Rating\\\": 5}\",\"The headphones are amazing! The sound quality is excellent.\",\"The electronics were as described and arrived on time. 4 stars.\"],\"yaxis\":\"y\",\"type\":\"scatter\"}],                        {\"template\":{\"data\":{\"histogram2dcontour\":[{\"type\":\"histogram2dcontour\",\"colorbar\":{\"outlinewidth\":0,\"ticks\":\"\"},\"colorscale\":[[0.0,\"#0d0887\"],[0.1111111111111111,\"#46039f\"],[0.2222222222222222,\"#7201a8\"],[0.3333333333333333,\"#9c179e\"],[0.4444444444444444,\"#bd3786\"],[0.5555555555555556,\"#d8576b\"],[0.6666666666666666,\"#ed7953\"],[0.7777777777777778,\"#fb9f3a\"],[0.8888888888888888,\"#fdca26\"],[1.0,\"#f0f921\"]]}],\"choropleth\":[{\"type\":\"choropleth\",\"colorbar\":{\"outlinewidth\":0,\"ticks\":\"\"}}],\"histogram2d\":[{\"type\":\"histogram2d\",\"colorbar\":{\"outlinewidth\":0,\"ticks\":\"\"},\"colorscale\":[[0.0,\"#0d0887\"],[0.1111111111111111,\"#46039f\"],[0.2222222222222222,\"#7201a8\"],[0.3333333333333333,\"#9c179e\"],[0.4444444444444444,\"#bd3786\"],[0.5555555555555556,\"#d8576b\"],[0.6666666666666666,\"#ed7953\"],[0.7777777777777778,\"#fb9f3a\"],[0.8888888888888888,\"#fdca26\"],[1.0,\"#f0f921\"]]}],\"heatmap\":[{\"type\":\"heatmap\",\"colorbar\":{\"outlinewidth\":0,\"ticks\":\"\"},\"colorscale\":[[0.0,\"#0d0887\"],[0.1111111111111111,\"#46039f\"],[0.2222222222222222,\"#7201a8\"],[0.3333333333333333,\"#9c179e\"],[0.4444444444444444,\"#bd3786\"],[0.5555555555555556,\"#d8576b\"],[0.6666666666666666,\"#ed7953\"],[0.7777777777777778,\"#fb9f3a\"],[0.8888888888888888,\"#fdca26\"],[1.0,\"#f0f921\"]]}],\"heatmapgl\":[{\"type\":\"heatmapgl\",\"colorbar\":{\"outlinewidth\":0,\"ticks\":\"\"},\"colorscale\":[[0.0,\"#0d0887\"],[0.1111111111111111,\"#46039f\"],[0.2222222222222222,\"#7201a8\"],[0.3333333333333333,\"#9c179e\"],[0.4444444444444444,\"#bd3786\"],[0.5555555555555556,\"#d8576b\"],[0.6666666666666666,\"#ed7953\"],[0.7777777777777778,\"#fb9f3a\"],[0.8888888888888888,\"#fdca26\"],[1.0,\"#f0f921\"]]}],\"contourcarpet\":[{\"type\":\"contourcarpet\",\"colorbar\":{\"outlinewidth\":0,\"ticks\":\"\"}}],\"contour\":[{\"type\":\"contour\",\"colorbar\":{\"outlinewidth\":0,\"ticks\":\"\"},\"colorscale\":[[0.0,\"#0d0887\"],[0.1111111111111111,\"#46039f\"],[0.2222222222222222,\"#7201a8\"],[0.3333333333333333,\"#9c179e\"],[0.4444444444444444,\"#bd3786\"],[0.5555555555555556,\"#d8576b\"],[0.6666666666666666,\"#ed7953\"],[0.7777777777777778,\"#fb9f3a\"],[0.8888888888888888,\"#fdca26\"],[1.0,\"#f0f921\"]]}],\"surface\":[{\"type\":\"surface\",\"colorbar\":{\"outlinewidth\":0,\"ticks\":\"\"},\"colorscale\":[[0.0,\"#0d0887\"],[0.1111111111111111,\"#46039f\"],[0.2222222222222222,\"#7201a8\"],[0.3333333333333333,\"#9c179e\"],[0.4444444444444444,\"#bd3786\"],[0.5555555555555556,\"#d8576b\"],[0.6666666666666666,\"#ed7953\"],[0.7777777777777778,\"#fb9f3a\"],[0.8888888888888888,\"#fdca26\"],[1.0,\"#f0f921\"]]}],\"mesh3d\":[{\"type\":\"mesh3d\",\"colorbar\":{\"outlinewidth\":0,\"ticks\":\"\"}}],\"scatter\":[{\"fillpattern\":{\"fillmode\":\"overlay\",\"size\":10,\"solidity\":0.2},\"type\":\"scatter\"}],\"parcoords\":[{\"type\":\"parcoords\",\"line\":{\"colorbar\":{\"outlinewidth\":0,\"ticks\":\"\"}}}],\"scatterpolargl\":[{\"type\":\"scatterpolargl\",\"marker\":{\"colorbar\":{\"outlinewidth\":0,\"ticks\":\"\"}}}],\"bar\":[{\"error_x\":{\"color\":\"#2a3f5f\"},\"error_y\":{\"color\":\"#2a3f5f\"},\"marker\":{\"line\":{\"color\":\"#E5ECF6\",\"width\":0.5},\"pattern\":{\"fillmode\":\"overlay\",\"size\":10,\"solidity\":0.2}},\"type\":\"bar\"}],\"scattergeo\":[{\"type\":\"scattergeo\",\"marker\":{\"colorbar\":{\"outlinewidth\":0,\"ticks\":\"\"}}}],\"scatterpolar\":[{\"type\":\"scatterpolar\",\"marker\":{\"colorbar\":{\"outlinewidth\":0,\"ticks\":\"\"}}}],\"histogram\":[{\"marker\":{\"pattern\":{\"fillmode\":\"overlay\",\"size\":10,\"solidity\":0.2}},\"type\":\"histogram\"}],\"scattergl\":[{\"type\":\"scattergl\",\"marker\":{\"colorbar\":{\"outlinewidth\":0,\"ticks\":\"\"}}}],\"scatter3d\":[{\"type\":\"scatter3d\",\"line\":{\"colorbar\":{\"outlinewidth\":0,\"ticks\":\"\"}},\"marker\":{\"colorbar\":{\"outlinewidth\":0,\"ticks\":\"\"}}}],\"scattermapbox\":[{\"type\":\"scattermapbox\",\"marker\":{\"colorbar\":{\"outlinewidth\":0,\"ticks\":\"\"}}}],\"scatterternary\":[{\"type\":\"scatterternary\",\"marker\":{\"colorbar\":{\"outlinewidth\":0,\"ticks\":\"\"}}}],\"scattercarpet\":[{\"type\":\"scattercarpet\",\"marker\":{\"colorbar\":{\"outlinewidth\":0,\"ticks\":\"\"}}}],\"carpet\":[{\"aaxis\":{\"endlinecolor\":\"#2a3f5f\",\"gridcolor\":\"white\",\"linecolor\":\"white\",\"minorgridcolor\":\"white\",\"startlinecolor\":\"#2a3f5f\"},\"baxis\":{\"endlinecolor\":\"#2a3f5f\",\"gridcolor\":\"white\",\"linecolor\":\"white\",\"minorgridcolor\":\"white\",\"startlinecolor\":\"#2a3f5f\"},\"type\":\"carpet\"}],\"table\":[{\"cells\":{\"fill\":{\"color\":\"#EBF0F8\"},\"line\":{\"color\":\"white\"}},\"header\":{\"fill\":{\"color\":\"#C8D4E3\"},\"line\":{\"color\":\"white\"}},\"type\":\"table\"}],\"barpolar\":[{\"marker\":{\"line\":{\"color\":\"#E5ECF6\",\"width\":0.5},\"pattern\":{\"fillmode\":\"overlay\",\"size\":10,\"solidity\":0.2}},\"type\":\"barpolar\"}],\"pie\":[{\"automargin\":true,\"type\":\"pie\"}]},\"layout\":{\"autotypenumbers\":\"strict\",\"colorway\":[\"#636efa\",\"#EF553B\",\"#00cc96\",\"#ab63fa\",\"#FFA15A\",\"#19d3f3\",\"#FF6692\",\"#B6E880\",\"#FF97FF\",\"#FECB52\"],\"font\":{\"color\":\"#2a3f5f\"},\"hovermode\":\"closest\",\"hoverlabel\":{\"align\":\"left\"},\"paper_bgcolor\":\"white\",\"plot_bgcolor\":\"#E5ECF6\",\"polar\":{\"bgcolor\":\"#E5ECF6\",\"angularaxis\":{\"gridcolor\":\"white\",\"linecolor\":\"white\",\"ticks\":\"\"},\"radialaxis\":{\"gridcolor\":\"white\",\"linecolor\":\"white\",\"ticks\":\"\"}},\"ternary\":{\"bgcolor\":\"#E5ECF6\",\"aaxis\":{\"gridcolor\":\"white\",\"linecolor\":\"white\",\"ticks\":\"\"},\"baxis\":{\"gridcolor\":\"white\",\"linecolor\":\"white\",\"ticks\":\"\"},\"caxis\":{\"gridcolor\":\"white\",\"linecolor\":\"white\",\"ticks\":\"\"}},\"coloraxis\":{\"colorbar\":{\"outlinewidth\":0,\"ticks\":\"\"}},\"colorscale\":{\"sequential\":[[0.0,\"#0d0887\"],[0.1111111111111111,\"#46039f\"],[0.2222222222222222,\"#7201a8\"],[0.3333333333333333,\"#9c179e\"],[0.4444444444444444,\"#bd3786\"],[0.5555555555555556,\"#d8576b\"],[0.6666666666666666,\"#ed7953\"],[0.7777777777777778,\"#fb9f3a\"],[0.8888888888888888,\"#fdca26\"],[1.0,\"#f0f921\"]],\"sequentialminus\":[[0.0,\"#0d0887\"],[0.1111111111111111,\"#46039f\"],[0.2222222222222222,\"#7201a8\"],[0.3333333333333333,\"#9c179e\"],[0.4444444444444444,\"#bd3786\"],[0.5555555555555556,\"#d8576b\"],[0.6666666666666666,\"#ed7953\"],[0.7777777777777778,\"#fb9f3a\"],[0.8888888888888888,\"#fdca26\"],[1.0,\"#f0f921\"]],\"diverging\":[[0,\"#8e0152\"],[0.1,\"#c51b7d\"],[0.2,\"#de77ae\"],[0.3,\"#f1b6da\"],[0.4,\"#fde0ef\"],[0.5,\"#f7f7f7\"],[0.6,\"#e6f5d0\"],[0.7,\"#b8e186\"],[0.8,\"#7fbc41\"],[0.9,\"#4d9221\"],[1,\"#276419\"]]},\"xaxis\":{\"gridcolor\":\"white\",\"linecolor\":\"white\",\"ticks\":\"\",\"title\":{\"standoff\":15},\"zerolinecolor\":\"white\",\"automargin\":true,\"zerolinewidth\":2},\"yaxis\":{\"gridcolor\":\"white\",\"linecolor\":\"white\",\"ticks\":\"\",\"title\":{\"standoff\":15},\"zerolinecolor\":\"white\",\"automargin\":true,\"zerolinewidth\":2},\"scene\":{\"xaxis\":{\"backgroundcolor\":\"#E5ECF6\",\"gridcolor\":\"white\",\"linecolor\":\"white\",\"showbackground\":true,\"ticks\":\"\",\"zerolinecolor\":\"white\",\"gridwidth\":2},\"yaxis\":{\"backgroundcolor\":\"#E5ECF6\",\"gridcolor\":\"white\",\"linecolor\":\"white\",\"showbackground\":true,\"ticks\":\"\",\"zerolinecolor\":\"white\",\"gridwidth\":2},\"zaxis\":{\"backgroundcolor\":\"#E5ECF6\",\"gridcolor\":\"white\",\"linecolor\":\"white\",\"showbackground\":true,\"ticks\":\"\",\"zerolinecolor\":\"white\",\"gridwidth\":2}},\"shapedefaults\":{\"line\":{\"color\":\"#2a3f5f\"}},\"annotationdefaults\":{\"arrowcolor\":\"#2a3f5f\",\"arrowhead\":0,\"arrowwidth\":1},\"geo\":{\"bgcolor\":\"white\",\"landcolor\":\"#E5ECF6\",\"subunitcolor\":\"white\",\"showland\":true,\"showlakes\":true,\"lakecolor\":\"white\"},\"title\":{\"x\":0.05},\"mapbox\":{\"style\":\"light\"}}},\"xaxis\":{\"anchor\":\"y\",\"domain\":[0.0,1.0],\"title\":{\"text\":\"Browsing History\"}},\"yaxis\":{\"anchor\":\"x\",\"domain\":[0.0,1.0],\"title\":{\"text\":\"Product Reviews\"}},\"legend\":{\"title\":{\"text\":\"Gender\"},\"tracegroupgap\":0,\"itemsizing\":\"constant\"},\"title\":{\"text\":\"Browsing History vs Product Reviews with Time on Site as Bubble Size, by Gender\"},\"height\":1500,\"width\":1700},                        {\"responsive\": true}                    ).then(function(){\n",
              "                            \n",
              "var gd = document.getElementById('4416c769-664a-44e8-8961-f38e6c6a2ab8');\n",
              "var x = new MutationObserver(function (mutations, observer) {{\n",
              "        var display = window.getComputedStyle(gd).display;\n",
              "        if (!display || display === 'none') {{\n",
              "            console.log([gd, 'removed!']);\n",
              "            Plotly.purge(gd);\n",
              "            observer.disconnect();\n",
              "        }}\n",
              "}});\n",
              "\n",
              "// Listen for the removal of the full notebook cells\n",
              "var notebookContainer = gd.closest('#notebook-container');\n",
              "if (notebookContainer) {{\n",
              "    x.observe(notebookContainer, {childList: true});\n",
              "}}\n",
              "\n",
              "// Listen for the clearing of the current output cell\n",
              "var outputEl = gd.closest('.output');\n",
              "if (outputEl) {{\n",
              "    x.observe(outputEl, {childList: true});\n",
              "}}\n",
              "\n",
              "                        })                };                            </script>        </div>\n",
              "</body>\n",
              "</html>"
            ]
          },
          "metadata": {}
        }
      ]
    },
    {
      "cell_type": "markdown",
      "source": [
        "**Distribution of Time on Site by Age, Browsing History, and Gender**"
      ],
      "metadata": {
        "id": "gghTjPKXdNDM"
      }
    },
    {
      "cell_type": "code",
      "source": [
        "fig = px.scatter(df_no_outliers, x='Age', y='Browsing History', size='Time on Site', color='Gender',\n",
        "                 title='Age vs Browsing History with Time on Site as Bubble Size, by Gender', width=1700)\n",
        "fig.show()"
      ],
      "metadata": {
        "execution": {
          "iopub.status.busy": "2024-10-03T09:17:47.458649Z",
          "iopub.execute_input": "2024-10-03T09:17:47.459122Z",
          "iopub.status.idle": "2024-10-03T09:17:47.551308Z",
          "shell.execute_reply.started": "2024-10-03T09:17:47.459065Z",
          "shell.execute_reply": "2024-10-03T09:17:47.550264Z"
        },
        "trusted": true,
        "colab": {
          "base_uri": "https://localhost:8080/",
          "height": 562
        },
        "id": "hUDMmuRhdNDM",
        "outputId": "9c4e656a-aff7-4972-8769-5e36fcbf31dc"
      },
      "execution_count": 35,
      "outputs": [
        {
          "output_type": "display_data",
          "data": {
            "text/html": [
              "<html>\n",
              "<head><meta charset=\"utf-8\" /></head>\n",
              "<body>\n",
              "    <div>            <script src=\"https://cdnjs.cloudflare.com/ajax/libs/mathjax/2.7.5/MathJax.js?config=TeX-AMS-MML_SVG\"></script><script type=\"text/javascript\">if (window.MathJax && window.MathJax.Hub && window.MathJax.Hub.Config) {window.MathJax.Hub.Config({SVG: {font: \"STIX-Web\"}});}</script>                <script type=\"text/javascript\">window.PlotlyConfig = {MathJaxConfig: 'local'};</script>\n",
              "        <script charset=\"utf-8\" src=\"https://cdn.plot.ly/plotly-2.35.2.min.js\"></script>                <div id=\"5e2fbe3d-8f75-4ba0-9197-09fcc13940cb\" class=\"plotly-graph-div\" style=\"height:525px; width:1700px;\"></div>            <script type=\"text/javascript\">                                    window.PLOTLYENV=window.PLOTLYENV || {};                                    if (document.getElementById(\"5e2fbe3d-8f75-4ba0-9197-09fcc13940cb\")) {                    Plotly.newPlot(                        \"5e2fbe3d-8f75-4ba0-9197-09fcc13940cb\",                        [{\"hovertemplate\":\"Gender=Female\\u003cbr\\u003eAge=%{x}\\u003cbr\\u003eBrowsing History=%{y}\\u003cbr\\u003eTime on Site=%{marker.size}\\u003cextra\\u003e\\u003c\\u002fextra\\u003e\",\"legendgroup\":\"Female\",\"marker\":{\"color\":\"#636efa\",\"size\":[32.5,123.45,125.6,327.6,378.5,334.9,120.0,150.0,250.0,280.0,200.0,240.0,120.5,120.0,250.0,200.0,300.0,250.0,200.0,250.0,72.3,123.6,75.2,120.5,300.0,120.0],\"sizemode\":\"area\",\"sizeref\":1.21575,\"symbol\":\"circle\"},\"mode\":\"markers\",\"name\":\"Female\",\"orientation\":\"h\",\"showlegend\":true,\"x\":[25,28,28,45,29,36,45,28,38,50,48,65,24,35,28,31,60,29,36,50,32,35,32,28,52,34],\"xaxis\":\"x\",\"y\":[\"[{\\\"Timestamp\\\": \\\"2022-03-10T14:30:00Z\\\"}, {\\\"Timestamp\\\": \\\"2022-03-11T09:45:00Z\\\"}, {\\\"Timestamp\\\": \\\"2022-03-12T16:20:00Z\\\"}]\",\"[{\\\"Product Category\\\": \\\"Home & Garden\\\", \\\"Timestamp\\\": \\\"2022-05-12T13:30:00Z\\\"}, {\\\"Product Category\\\": \\\"Electronics\\\", \\\"Timestamp\\\": \\\"2022-06-05T08:45:00Z\\\"}]\",\"[{\\\"Product Category\\\": \\\"Clothing\\\", \\\"Timestamp\\\": \\\"2022-09-03 15:30:00\\\"}, {\\\"Product Category\\\": \\\"Electronics\\\", \\\"Timestamp\\\": \\\"2022-09-01 10:15:00\\\"}]\",\"{'Timestamp': '2022-09-03 14:30:00'}\",\"{'Timestamp': '2022-08-15 13:20:00'}\",\"{'Timestamp': '2022-08-17 14:50:00'}\",\"{'Timestamp': '2022-03-06 14:30:00'}\",\"{'Timestamp': '2022-07-08 13:00:00'}\",\"{'Timestamp': '2022-09-02 11:15:00'}\",\"{'Timestamp': '2022-11-02 10:30:00'}\",\"{'Timestamp': '2022-12-21 15:30:00'}\",\"{'Timestamp': '2023-02-06 13:15:00'}\",\"[{\\\"Timestamp\\\": \\\"2022-08-20T14:30:00Z\\\"}, {\\\"Timestamp\\\": \\\"2022-08-22T16:45:00Z\\\"}, {\\\"Timestamp\\\": \\\"2022-09-03T10:20:00Z\\\"}]\",\"{'Timestamp': '2022-04-20T14:30:00Z'}\",\"{'Timestamp': '2022-06-01T09:15:00Z'}\",\"{'Timestamp': '2022-05-30T13:45:00Z'}\",\"{'Timestamp': '2022-06-15T11:30:00Z'}\",\"{'Timestamp': '2022-05-31T16:45:00Z'}\",\"{'Timestamp': '2022-06-13T13:00:00Z'}\",\"{'Timestamp': '2022-06-08T14:30:00Z'}\",\"[{\\\"Product Category\\\": \\\"Home & Garden\\\", \\\"Timestamp\\\": \\\"2022-09-01T14:30:00Z\\\"}, {\\\"Product Category\\\": \\\"Clothing\\\", \\\"Timestamp\\\": \\\"2022-08-25T12:15:00Z\\\"}]\",\"[{\\\"Product Category\\\": \\\"Home & Garden\\\", \\\"Timestamp\\\": \\\"2022-04-03T15:30:00Z\\\"}, {\\\"Product Category\\\": \\\"Electronics\\\", \\\"Timestamp\\\": \\\"2022-03-28T08:45:00Z\\\"}]\",\"[{\\\"Product Category\\\": \\\"Home & Garden\\\", \\\"Timestamp\\\": \\\"2022-02-20T12:34:56Z\\\"}]\",\"[{\\\"Product Category\\\": \\\"Home & Garden\\\", \\\"Timestamp\\\": \\\"2022-06-15T12:34:56Z\\\"}, {\\\"Product Category\\\": \\\"Electronics\\\", \\\"Timestamp\\\": \\\"2022-05-20T16:17:23Z\\\"}]\",\"[{\\\"Product Category\\\": \\\"Electronics\\\", \\\"Timestamp\\\": \\\"2022-07-12T11:45:06Z\\\"}, {\\\"Product Category\\\": \\\"Clothing\\\", \\\"Timestamp\\\": \\\"2022-06-30T16:23:30Z\\\"}]\",\"[{\\\"Timestamp\\\": \\\"2022-08-14T09:30:00Z\\\"},{\\\"Timestamp\\\": \\\"2022-07-25T14:15:00Z\\\"},{\\\"Timestamp\\\": \\\"2022-06-01T10:45:00Z\\\"}]\"],\"yaxis\":\"y\",\"type\":\"scatter\"},{\"hovertemplate\":\"Gender=Male\\u003cbr\\u003eAge=%{x}\\u003cbr\\u003eBrowsing History=%{y}\\u003cbr\\u003eTime on Site=%{marker.size}\\u003cextra\\u003e\\u003c\\u002fextra\\u003e\",\"legendgroup\":\"Male\",\"marker\":{\"color\":\"#EF553B\",\"size\":[214.9,289.8,298.6,75.0,300.0,180.0,220.0,160.0,300.0,350.0,400.0,450.0,350.0,300.0,246.9,250.0,100.0,350.0],\"sizemode\":\"area\",\"sizeref\":1.21575,\"symbol\":\"circle\"},\"mode\":\"markers\",\"name\":\"Male\",\"orientation\":\"h\",\"showlegend\":true,\"x\":[34,42,48,32,55,42,35,30,45,52,48,55,58,42,42,42,24,45],\"xaxis\":\"x\",\"y\":[\"{'Timestamp': '2022-08-10 17:15:00'}\",\"{'Timestamp': '2022-09-12 16:35:00'}\",\"{'Timestamp': '2022-06-30 11:15:00'}\",\"{'Timestamp': '2022-05-12 16:15:00'}\",\"{'Timestamp': '2022-08-04 09:30:00'}\",\"{'Timestamp': '2022-10-07 14:45:00'}\",\"{'Timestamp': '2022-12-06 12:00:00'}\",\"{'Timestamp': '2023-01-11 08:45:00'}\",\"{'Timestamp': '2022-05-25T17:45:00Z'}\",\"{'Timestamp': '2022-05-22T10:30:00Z'}\",\"{'Timestamp': '2022-06-06T08:00:00Z'}\",\"{'Timestamp': '2022-05-28T15:15:00Z'}\",\"{'Timestamp': '2022-05-29T10:30:00Z'}\",\"{'Timestamp': '2022-05-26T11:15:00Z'}\",\"[{\\\"Product Category\\\": \\\"Electronics\\\", \\\"Timestamp\\\": \\\"2022-03-01T10:15:00Z\\\"}, {\\\"Product Category\\\": \\\"Clothing\\\", \\\"Timestamp\\\": \\\"2022-02-15T16:30:00Z\\\"}]\",\"[{\\\"Product Category\\\": \\\"Clothing\\\", \\\"Timestamp\\\": \\\"2022-07-10T09:15:32Z\\\"}, {\\\"Product Category\\\": \\\"Electronics\\\", \\\"Timestamp\\\": \\\"2022-06-25T14:46:01Z\\\"}]\",\"[{\\\"Product Category\\\": \\\"Clothing\\\", \\\"Timestamp\\\": \\\"2022-06-05T08:00:23Z\\\"}, {\\\"Product Category\\\": \\\"Electronics\\\", \\\"Timestamp\\\": \\\"2022-05-28T14:30:56Z\\\"}]\",\"[{\\\"Timestamp\\\": \\\"2022-08-12T16:00:00Z\\\"},{\\\"Timestamp\\\": \\\"2022-07-27T08:30:00Z\\\"},{\\\"Timestamp\\\": \\\"2022-06-03T11:00:00Z\\\"}]\"],\"yaxis\":\"y\",\"type\":\"scatter\"},{\"hovertemplate\":\"Gender=Other\\u003cbr\\u003eAge=%{x}\\u003cbr\\u003eBrowsing History=%{y}\\u003cbr\\u003eTime on Site=%{marker.size}\\u003cextra\\u003e\\u003c\\u002fextra\\u003e\",\"legendgroup\":\"Other\",\"marker\":{\"color\":\"#00cc96\",\"size\":[486.3,456.2,312.5,200.0,75.0,200.0],\"sizemode\":\"area\",\"sizeref\":1.21575,\"symbol\":\"circle\"},\"mode\":\"markers\",\"name\":\"Other\",\"orientation\":\"h\",\"showlegend\":true,\"x\":[56,51,25,60,35,29],\"xaxis\":\"x\",\"y\":[\"{'Timestamp': '2022-06-25 10:45:00'}\",\"{'Timestamp': '2022-06-28 09:00:00'}\",\"{'Timestamp': '2022-09-14 10:00:00'}\",\"{'Timestamp': '2022-06-03 10:45:00'}\",\"[{\\\"Product Category\\\": \\\"Home & Garden\\\", \\\"Timestamp\\\": \\\"2022-06-27T10:30:11Z\\\"}, {\\\"Product Category\\\": \\\"Electronics\\\", \\\"Timestamp\\\": \\\"2022-05-30T13:02:45Z\\\"}]\",\"[{\\\"Timestamp\\\": \\\"2022-08-13T13:45:00Z\\\"},{\\\"Timestamp\\\": \\\"2022-07-26T07:00:00Z\\\"},{\\\"Timestamp\\\": \\\"2022-06-02T15:30:00Z\\\"}]\"],\"yaxis\":\"y\",\"type\":\"scatter\"}],                        {\"template\":{\"data\":{\"histogram2dcontour\":[{\"type\":\"histogram2dcontour\",\"colorbar\":{\"outlinewidth\":0,\"ticks\":\"\"},\"colorscale\":[[0.0,\"#0d0887\"],[0.1111111111111111,\"#46039f\"],[0.2222222222222222,\"#7201a8\"],[0.3333333333333333,\"#9c179e\"],[0.4444444444444444,\"#bd3786\"],[0.5555555555555556,\"#d8576b\"],[0.6666666666666666,\"#ed7953\"],[0.7777777777777778,\"#fb9f3a\"],[0.8888888888888888,\"#fdca26\"],[1.0,\"#f0f921\"]]}],\"choropleth\":[{\"type\":\"choropleth\",\"colorbar\":{\"outlinewidth\":0,\"ticks\":\"\"}}],\"histogram2d\":[{\"type\":\"histogram2d\",\"colorbar\":{\"outlinewidth\":0,\"ticks\":\"\"},\"colorscale\":[[0.0,\"#0d0887\"],[0.1111111111111111,\"#46039f\"],[0.2222222222222222,\"#7201a8\"],[0.3333333333333333,\"#9c179e\"],[0.4444444444444444,\"#bd3786\"],[0.5555555555555556,\"#d8576b\"],[0.6666666666666666,\"#ed7953\"],[0.7777777777777778,\"#fb9f3a\"],[0.8888888888888888,\"#fdca26\"],[1.0,\"#f0f921\"]]}],\"heatmap\":[{\"type\":\"heatmap\",\"colorbar\":{\"outlinewidth\":0,\"ticks\":\"\"},\"colorscale\":[[0.0,\"#0d0887\"],[0.1111111111111111,\"#46039f\"],[0.2222222222222222,\"#7201a8\"],[0.3333333333333333,\"#9c179e\"],[0.4444444444444444,\"#bd3786\"],[0.5555555555555556,\"#d8576b\"],[0.6666666666666666,\"#ed7953\"],[0.7777777777777778,\"#fb9f3a\"],[0.8888888888888888,\"#fdca26\"],[1.0,\"#f0f921\"]]}],\"heatmapgl\":[{\"type\":\"heatmapgl\",\"colorbar\":{\"outlinewidth\":0,\"ticks\":\"\"},\"colorscale\":[[0.0,\"#0d0887\"],[0.1111111111111111,\"#46039f\"],[0.2222222222222222,\"#7201a8\"],[0.3333333333333333,\"#9c179e\"],[0.4444444444444444,\"#bd3786\"],[0.5555555555555556,\"#d8576b\"],[0.6666666666666666,\"#ed7953\"],[0.7777777777777778,\"#fb9f3a\"],[0.8888888888888888,\"#fdca26\"],[1.0,\"#f0f921\"]]}],\"contourcarpet\":[{\"type\":\"contourcarpet\",\"colorbar\":{\"outlinewidth\":0,\"ticks\":\"\"}}],\"contour\":[{\"type\":\"contour\",\"colorbar\":{\"outlinewidth\":0,\"ticks\":\"\"},\"colorscale\":[[0.0,\"#0d0887\"],[0.1111111111111111,\"#46039f\"],[0.2222222222222222,\"#7201a8\"],[0.3333333333333333,\"#9c179e\"],[0.4444444444444444,\"#bd3786\"],[0.5555555555555556,\"#d8576b\"],[0.6666666666666666,\"#ed7953\"],[0.7777777777777778,\"#fb9f3a\"],[0.8888888888888888,\"#fdca26\"],[1.0,\"#f0f921\"]]}],\"surface\":[{\"type\":\"surface\",\"colorbar\":{\"outlinewidth\":0,\"ticks\":\"\"},\"colorscale\":[[0.0,\"#0d0887\"],[0.1111111111111111,\"#46039f\"],[0.2222222222222222,\"#7201a8\"],[0.3333333333333333,\"#9c179e\"],[0.4444444444444444,\"#bd3786\"],[0.5555555555555556,\"#d8576b\"],[0.6666666666666666,\"#ed7953\"],[0.7777777777777778,\"#fb9f3a\"],[0.8888888888888888,\"#fdca26\"],[1.0,\"#f0f921\"]]}],\"mesh3d\":[{\"type\":\"mesh3d\",\"colorbar\":{\"outlinewidth\":0,\"ticks\":\"\"}}],\"scatter\":[{\"fillpattern\":{\"fillmode\":\"overlay\",\"size\":10,\"solidity\":0.2},\"type\":\"scatter\"}],\"parcoords\":[{\"type\":\"parcoords\",\"line\":{\"colorbar\":{\"outlinewidth\":0,\"ticks\":\"\"}}}],\"scatterpolargl\":[{\"type\":\"scatterpolargl\",\"marker\":{\"colorbar\":{\"outlinewidth\":0,\"ticks\":\"\"}}}],\"bar\":[{\"error_x\":{\"color\":\"#2a3f5f\"},\"error_y\":{\"color\":\"#2a3f5f\"},\"marker\":{\"line\":{\"color\":\"#E5ECF6\",\"width\":0.5},\"pattern\":{\"fillmode\":\"overlay\",\"size\":10,\"solidity\":0.2}},\"type\":\"bar\"}],\"scattergeo\":[{\"type\":\"scattergeo\",\"marker\":{\"colorbar\":{\"outlinewidth\":0,\"ticks\":\"\"}}}],\"scatterpolar\":[{\"type\":\"scatterpolar\",\"marker\":{\"colorbar\":{\"outlinewidth\":0,\"ticks\":\"\"}}}],\"histogram\":[{\"marker\":{\"pattern\":{\"fillmode\":\"overlay\",\"size\":10,\"solidity\":0.2}},\"type\":\"histogram\"}],\"scattergl\":[{\"type\":\"scattergl\",\"marker\":{\"colorbar\":{\"outlinewidth\":0,\"ticks\":\"\"}}}],\"scatter3d\":[{\"type\":\"scatter3d\",\"line\":{\"colorbar\":{\"outlinewidth\":0,\"ticks\":\"\"}},\"marker\":{\"colorbar\":{\"outlinewidth\":0,\"ticks\":\"\"}}}],\"scattermapbox\":[{\"type\":\"scattermapbox\",\"marker\":{\"colorbar\":{\"outlinewidth\":0,\"ticks\":\"\"}}}],\"scatterternary\":[{\"type\":\"scatterternary\",\"marker\":{\"colorbar\":{\"outlinewidth\":0,\"ticks\":\"\"}}}],\"scattercarpet\":[{\"type\":\"scattercarpet\",\"marker\":{\"colorbar\":{\"outlinewidth\":0,\"ticks\":\"\"}}}],\"carpet\":[{\"aaxis\":{\"endlinecolor\":\"#2a3f5f\",\"gridcolor\":\"white\",\"linecolor\":\"white\",\"minorgridcolor\":\"white\",\"startlinecolor\":\"#2a3f5f\"},\"baxis\":{\"endlinecolor\":\"#2a3f5f\",\"gridcolor\":\"white\",\"linecolor\":\"white\",\"minorgridcolor\":\"white\",\"startlinecolor\":\"#2a3f5f\"},\"type\":\"carpet\"}],\"table\":[{\"cells\":{\"fill\":{\"color\":\"#EBF0F8\"},\"line\":{\"color\":\"white\"}},\"header\":{\"fill\":{\"color\":\"#C8D4E3\"},\"line\":{\"color\":\"white\"}},\"type\":\"table\"}],\"barpolar\":[{\"marker\":{\"line\":{\"color\":\"#E5ECF6\",\"width\":0.5},\"pattern\":{\"fillmode\":\"overlay\",\"size\":10,\"solidity\":0.2}},\"type\":\"barpolar\"}],\"pie\":[{\"automargin\":true,\"type\":\"pie\"}]},\"layout\":{\"autotypenumbers\":\"strict\",\"colorway\":[\"#636efa\",\"#EF553B\",\"#00cc96\",\"#ab63fa\",\"#FFA15A\",\"#19d3f3\",\"#FF6692\",\"#B6E880\",\"#FF97FF\",\"#FECB52\"],\"font\":{\"color\":\"#2a3f5f\"},\"hovermode\":\"closest\",\"hoverlabel\":{\"align\":\"left\"},\"paper_bgcolor\":\"white\",\"plot_bgcolor\":\"#E5ECF6\",\"polar\":{\"bgcolor\":\"#E5ECF6\",\"angularaxis\":{\"gridcolor\":\"white\",\"linecolor\":\"white\",\"ticks\":\"\"},\"radialaxis\":{\"gridcolor\":\"white\",\"linecolor\":\"white\",\"ticks\":\"\"}},\"ternary\":{\"bgcolor\":\"#E5ECF6\",\"aaxis\":{\"gridcolor\":\"white\",\"linecolor\":\"white\",\"ticks\":\"\"},\"baxis\":{\"gridcolor\":\"white\",\"linecolor\":\"white\",\"ticks\":\"\"},\"caxis\":{\"gridcolor\":\"white\",\"linecolor\":\"white\",\"ticks\":\"\"}},\"coloraxis\":{\"colorbar\":{\"outlinewidth\":0,\"ticks\":\"\"}},\"colorscale\":{\"sequential\":[[0.0,\"#0d0887\"],[0.1111111111111111,\"#46039f\"],[0.2222222222222222,\"#7201a8\"],[0.3333333333333333,\"#9c179e\"],[0.4444444444444444,\"#bd3786\"],[0.5555555555555556,\"#d8576b\"],[0.6666666666666666,\"#ed7953\"],[0.7777777777777778,\"#fb9f3a\"],[0.8888888888888888,\"#fdca26\"],[1.0,\"#f0f921\"]],\"sequentialminus\":[[0.0,\"#0d0887\"],[0.1111111111111111,\"#46039f\"],[0.2222222222222222,\"#7201a8\"],[0.3333333333333333,\"#9c179e\"],[0.4444444444444444,\"#bd3786\"],[0.5555555555555556,\"#d8576b\"],[0.6666666666666666,\"#ed7953\"],[0.7777777777777778,\"#fb9f3a\"],[0.8888888888888888,\"#fdca26\"],[1.0,\"#f0f921\"]],\"diverging\":[[0,\"#8e0152\"],[0.1,\"#c51b7d\"],[0.2,\"#de77ae\"],[0.3,\"#f1b6da\"],[0.4,\"#fde0ef\"],[0.5,\"#f7f7f7\"],[0.6,\"#e6f5d0\"],[0.7,\"#b8e186\"],[0.8,\"#7fbc41\"],[0.9,\"#4d9221\"],[1,\"#276419\"]]},\"xaxis\":{\"gridcolor\":\"white\",\"linecolor\":\"white\",\"ticks\":\"\",\"title\":{\"standoff\":15},\"zerolinecolor\":\"white\",\"automargin\":true,\"zerolinewidth\":2},\"yaxis\":{\"gridcolor\":\"white\",\"linecolor\":\"white\",\"ticks\":\"\",\"title\":{\"standoff\":15},\"zerolinecolor\":\"white\",\"automargin\":true,\"zerolinewidth\":2},\"scene\":{\"xaxis\":{\"backgroundcolor\":\"#E5ECF6\",\"gridcolor\":\"white\",\"linecolor\":\"white\",\"showbackground\":true,\"ticks\":\"\",\"zerolinecolor\":\"white\",\"gridwidth\":2},\"yaxis\":{\"backgroundcolor\":\"#E5ECF6\",\"gridcolor\":\"white\",\"linecolor\":\"white\",\"showbackground\":true,\"ticks\":\"\",\"zerolinecolor\":\"white\",\"gridwidth\":2},\"zaxis\":{\"backgroundcolor\":\"#E5ECF6\",\"gridcolor\":\"white\",\"linecolor\":\"white\",\"showbackground\":true,\"ticks\":\"\",\"zerolinecolor\":\"white\",\"gridwidth\":2}},\"shapedefaults\":{\"line\":{\"color\":\"#2a3f5f\"}},\"annotationdefaults\":{\"arrowcolor\":\"#2a3f5f\",\"arrowhead\":0,\"arrowwidth\":1},\"geo\":{\"bgcolor\":\"white\",\"landcolor\":\"#E5ECF6\",\"subunitcolor\":\"white\",\"showland\":true,\"showlakes\":true,\"lakecolor\":\"white\"},\"title\":{\"x\":0.05},\"mapbox\":{\"style\":\"light\"}}},\"xaxis\":{\"anchor\":\"y\",\"domain\":[0.0,1.0],\"title\":{\"text\":\"Age\"}},\"yaxis\":{\"anchor\":\"x\",\"domain\":[0.0,1.0],\"title\":{\"text\":\"Browsing History\"}},\"legend\":{\"title\":{\"text\":\"Gender\"},\"tracegroupgap\":0,\"itemsizing\":\"constant\"},\"title\":{\"text\":\"Age vs Browsing History with Time on Site as Bubble Size, by Gender\"},\"width\":1700},                        {\"responsive\": true}                    ).then(function(){\n",
              "                            \n",
              "var gd = document.getElementById('5e2fbe3d-8f75-4ba0-9197-09fcc13940cb');\n",
              "var x = new MutationObserver(function (mutations, observer) {{\n",
              "        var display = window.getComputedStyle(gd).display;\n",
              "        if (!display || display === 'none') {{\n",
              "            console.log([gd, 'removed!']);\n",
              "            Plotly.purge(gd);\n",
              "            observer.disconnect();\n",
              "        }}\n",
              "}});\n",
              "\n",
              "// Listen for the removal of the full notebook cells\n",
              "var notebookContainer = gd.closest('#notebook-container');\n",
              "if (notebookContainer) {{\n",
              "    x.observe(notebookContainer, {childList: true});\n",
              "}}\n",
              "\n",
              "// Listen for the clearing of the current output cell\n",
              "var outputEl = gd.closest('.output');\n",
              "if (outputEl) {{\n",
              "    x.observe(outputEl, {childList: true});\n",
              "}}\n",
              "\n",
              "                        })                };                            </script>        </div>\n",
              "</body>\n",
              "</html>"
            ]
          },
          "metadata": {}
        }
      ]
    },
    {
      "cell_type": "markdown",
      "source": [
        "**Comparative Analysis of Purchase History and Annual Income by Location**"
      ],
      "metadata": {
        "id": "zQf_DcMrdNDM"
      }
    },
    {
      "cell_type": "code",
      "source": [
        "fig = px.scatter(df_no_outliers, x='Location', y='Purchase History', size='Annual Income', color='Gender',\n",
        "                 title='Purchase History vs Location with Annual Income as Bubble Size', width=2700)\n",
        "fig.show()"
      ],
      "metadata": {
        "execution": {
          "iopub.status.busy": "2024-10-03T09:17:47.552807Z",
          "iopub.execute_input": "2024-10-03T09:17:47.55327Z",
          "iopub.status.idle": "2024-10-03T09:17:47.645605Z",
          "shell.execute_reply.started": "2024-10-03T09:17:47.553216Z",
          "shell.execute_reply": "2024-10-03T09:17:47.644517Z"
        },
        "trusted": true,
        "colab": {
          "base_uri": "https://localhost:8080/",
          "height": 562
        },
        "id": "9elI2CohdNDN",
        "outputId": "d60dcfdb-29ea-4bc1-af0a-d52edfa5d08d"
      },
      "execution_count": 36,
      "outputs": [
        {
          "output_type": "display_data",
          "data": {
            "text/html": [
              "<html>\n",
              "<head><meta charset=\"utf-8\" /></head>\n",
              "<body>\n",
              "    <div>            <script src=\"https://cdnjs.cloudflare.com/ajax/libs/mathjax/2.7.5/MathJax.js?config=TeX-AMS-MML_SVG\"></script><script type=\"text/javascript\">if (window.MathJax && window.MathJax.Hub && window.MathJax.Hub.Config) {window.MathJax.Hub.Config({SVG: {font: \"STIX-Web\"}});}</script>                <script type=\"text/javascript\">window.PlotlyConfig = {MathJaxConfig: 'local'};</script>\n",
              "        <script charset=\"utf-8\" src=\"https://cdn.plot.ly/plotly-2.35.2.min.js\"></script>                <div id=\"4e5833a5-bd5a-46f9-8577-69ccea30f6ea\" class=\"plotly-graph-div\" style=\"height:525px; width:2700px;\"></div>            <script type=\"text/javascript\">                                    window.PLOTLYENV=window.PLOTLYENV || {};                                    if (document.getElementById(\"4e5833a5-bd5a-46f9-8577-69ccea30f6ea\")) {                    Plotly.newPlot(                        \"4e5833a5-bd5a-46f9-8577-69ccea30f6ea\",                        [{\"hovertemplate\":\"Gender=Female\\u003cbr\\u003eLocation=%{x}\\u003cbr\\u003ePurchase History=%{y}\\u003cbr\\u003eAnnual Income=%{marker.size}\\u003cextra\\u003e\\u003c\\u002fextra\\u003e\",\"legendgroup\":\"Female\",\"marker\":{\"color\":\"#636efa\",\"size\":[45000,52000,65000,70000,60000,55000,75000,45000,65000,85000,75000,95000,45000,50000,60000,45000,65000,40000,55000,68000,65000,60000,55000,65000,100000,55000],\"sizemode\":\"area\",\"sizeref\":250.0,\"symbol\":\"circle\"},\"mode\":\"markers\",\"name\":\"Female\",\"orientation\":\"v\",\"showlegend\":true,\"x\":[\"City D\",\"City D\",\"City D\",\"City D\",\"City G\",\"City J\",\"City D\",\"City C\",\"City F\",\"City H\",\"City J\",\"City L\",\"City D\",\"City D\",\"City F\",\"City H\",\"City J\",\"City L\",\"City N\",\"City P\",\"City D\",\"City D\",\"City D\",\"City D\",\"City G\",\"City D\"],\"xaxis\":\"x\",\"y\":[\"[{\\\"Date\\\": \\\"2022-03-05\\\", \\\"Category\\\": \\\"Clothing\\\", \\\"Price\\\": 34.99}, {\\\"Date\\\": \\\"2022-02-12\\\", \\\"Category\\\": \\\"Electronics\\\", \\\"Price\\\": 129.99}, {\\\"Date\\\": \\\"2022-01-20\\\", \\\"Category\\\": \\\"Home & Garden\\\", \\\"Price\\\": 29.99}]\",\"[{\\\"Product Category\\\": \\\"Clothing\\\", \\\"Purchase Date\\\": \\\"2022-05-15\\\", \\\"Price\\\": 34.56}, {\\\"Product Category\\\": \\\"Electronics\\\", \\\"Purchase Date\\\": \\\"2022-06-02\\\", \\\"Price\\\": 150.99}]\",\"[{\\\"Product Category\\\": \\\"Electronics\\\", \\\"Purchase Date\\\": \\\"2022-08-15\\\", \\\"Price\\\": 345.5}, {\\\"Product Category\\\": \\\"Home & Garden\\\", \\\"Purchase Date\\\": \\\"2022-07-02\\\", \\\"Price\\\": 279.99}]\",\"{'Purchase Date': '2022-08-15', 'Product Category': 'Electronics', 'Price': 200.5},{'Purchase Date': '2022-07-22', 'Product Category': 'Clothing', 'Price': 125.6},{'Purchase Date': '2022-06-01', 'Product Category': 'Home & Garden', 'Price': 300.8},{'Purchase Date': '2022-05-10', 'Product Category': 'Electronics', 'Price': 150.9}\",\"{'Purchase Date': '2022-07-20', 'Product Category': 'Electronics', 'Price': 150.8},{'Purchase Date': '2022-06-05', 'Product Category': 'Clothing', 'Price': 120.6},{'Purchase Date': '2022-05-18', 'Product Category': 'Home & Garden', 'Price': 350.1}\",\"{'Purchase Date': '2022-07-27', 'Product Category': 'Electronics', 'Price': 120.5},{'Purchase Date': '2022-06-12', 'Product Category': 'Clothing', 'Price': 130.6},{'Purchase Date': '2022-05-28', 'Product Category': 'Home & Garden', 'Price': 320.8}\",\"{'Purchase Date': '2022-03-05', 'Product Category': 'Clothing', 'Price': 45.99},{'Purchase Date': '2022-04-12', 'Product Category': 'Home & Garden', 'Price': 120.5}\",\"{'Purchase Date': '2022-04-25', 'Product Category': 'Clothing', 'Price': 29.99},{'Purchase Date': '2022-07-07', 'Product Category': 'Home & Garden', 'Price': 150}\",\"{'Purchase Date': '2022-06-15', 'Product Category': 'Home & Garden', 'Price': 220},{'Purchase Date': '2022-09-01', 'Product Category': 'Electronics', 'Price': 300}\",\"{'Purchase Date': '2022-08-08', 'Product Category': 'Electronics', 'Price': 550},{'Purchase Date': '2022-11-01', 'Product Category': 'Clothing', 'Price': 44.99}\",\"{'Purchase Date': '2022-10-15', 'Product Category': 'Clothing', 'Price': 34.99},{'Purchase Date': '2022-12-20', 'Product Category': 'Home & Garden', 'Price': 250}\",\"{'Purchase Date': '2022-12-25', 'Product Category': 'Home & Garden', 'Price': 170},{'Purchase Date': '2023-02-05', 'Product Category': 'Electronics', 'Price': 450}\",\"[{\\\"Purchase Date\\\": \\\"2022-09-15\\\", \\\"Product Category\\\": \\\"Clothing\\\", \\\"Price\\\": 34.5}]\",\"{'Purchase Date': '2022-05-15', 'Product Category': 'Clothing', 'Price': 120},{'Purchase Date': '2022-06-02', 'Product Category': 'Home & Garden', 'Price': 250}\",\"{'Purchase Date': '2022-05-28', 'Product Category': 'Clothing', 'Price': 75},{'Purchase Date': '2022-06-10', 'Product Category': 'Home & Garden', 'Price': 120}\",\"{'Purchase Date': '2022-05-18', 'Product Category': 'Clothing', 'Price': 50},{'Purchase Date': '2022-06-07', 'Product Category': 'Home & Garden', 'Price': 100}\",\"{'Purchase Date': '2022-05-25', 'Product Category': 'Clothing', 'Price': 100},{'Purchase Date': '2022-06-08', 'Product Category': 'Home & Garden', 'Price': 180}\",\"{'Purchase Date': '2022-05-16', 'Product Category': 'Clothing', 'Price': 60},{'Purchase Date': '2022-06-06', 'Product Category': 'Home & Garden', 'Price': 150}\",\"{'Purchase Date': '2022-05-27', 'Product Category': 'Clothing', 'Price': 80},{'Purchase Date': '2022-06-09', 'Product Category': 'Home & Garden', 'Price': 200}\",\"{'Purchase Date': '2022-05-19', 'Product Category': 'Clothing', 'Price': 120},{'Purchase Date': '2022-06-07', 'Product Category': 'Home & Garden', 'Price': 150}\",\"[{\\\"Product Category\\\": \\\"Clothing\\\", \\\"Purchase Date\\\": \\\"2022-08-15\\\", \\\"Price\\\": 45.23}, {\\\"Product Category\\\": \\\"Electronics\\\", \\\"Purchase Date\\\": \\\"2022-07-20\\\", \\\"Price\\\": 250.34}]\",\"[{\\\"Product Category\\\": \\\"Electronics\\\", \\\"Purchase Date\\\": \\\"2022-03-15\\\", \\\"Price\\\": 250.5}, {\\\"Product Category\\\": \\\"Clothing\\\", \\\"Purchase Date\\\": \\\"2022-02-01\\\", \\\"Price\\\": 125.8}]\",\"[{\\\"Product Category\\\": \\\"Electronics\\\", \\\"Purchase Date\\\": \\\"2022-03-15\\\", \\\"Price\\\": 249.99}]\",\"[{\\\"Product Category\\\": \\\"Clothing\\\", \\\"Purchase Date\\\": \\\"2022-06-12\\\", \\\"Price\\\": 45.99}, {\\\"Product Category\\\": \\\"Electronics\\\", \\\"Purchase Date\\\": \\\"2022-05-08\\\", \\\"Price\\\": 199.99}]\",\"[{\\\"Product Category\\\": \\\"Clothing\\\", \\\"Purchase Date\\\": \\\"2022-07-08\\\", \\\"Price\\\": 79.99}, {\\\"Product Category\\\": \\\"Home & Garden\\\", \\\"Purchase Date\\\": \\\"2022-06-24\\\", \\\"Price\\\": 399.99}]\",\"[{\\\"Purchase Date\\\": \\\"2022-07-02\\\",\\\"Product Category\\\": \\\"Clothing\\\",\\\"Price\\\": 25.6},{\\\"Purchase Date\\\": \\\"2022-06-15\\\",\\\"Product Category\\\": \\\"Electronics\\\",\\\"Price\\\": 120},{\\\"Purchase Date\\\": \\\"2022-05-10\\\",\\\"Product Category\\\": \\\"Home & Garden\\\",\\\"Price\\\": 35}]\"],\"yaxis\":\"y\",\"type\":\"scatter\"},{\"hovertemplate\":\"Gender=Male\\u003cbr\\u003eLocation=%{x}\\u003cbr\\u003ePurchase History=%{y}\\u003cbr\\u003eAnnual Income=%{marker.size}\\u003cextra\\u003e\\u003c\\u002fextra\\u003e\",\"legendgroup\":\"Male\",\"marker\":{\"color\":\"#EF553B\",\"size\":[45000,75000,80000,50000,90000,70000,55000,40000,80000,70000,90000,85000,75000,95000,75000,80000,45000,87000],\"sizemode\":\"area\",\"sizeref\":250.0,\"symbol\":\"circle\"},\"mode\":\"markers\",\"name\":\"Male\",\"orientation\":\"v\",\"showlegend\":true,\"x\":[\"City E\",\"City H\",\"City K\",\"City A\",\"City E\",\"City G\",\"City I\",\"City K\",\"City E\",\"City G\",\"City I\",\"City K\",\"City M\",\"City O\",\"City E\",\"City E\",\"City H\",\"City E\"],\"xaxis\":\"x\",\"y\":[\"{'Purchase Date': '2022-07-25', 'Product Category': 'Clothing', 'Price': 67.2},{'Purchase Date': '2022-06-08', 'Product Category': 'Home & Garden', 'Price': 250.1},{'Purchase Date': '2022-05-15', 'Product Category': 'Electronics', 'Price': 400.7}\",\"{'Purchase Date': '2022-08-28', 'Product Category': 'Electronics', 'Price': 250.6},{'Purchase Date': '2022-07-15', 'Product Category': 'Clothing', 'Price': 115.7},{'Purchase Date': '2022-06-03', 'Product Category': 'Home & Garden', 'Price': 300.4}\",\"{'Purchase Date': '2022-09-08', 'Product Category': 'Electronics', 'Price': 350.2},{'Purchase Date': '2022-08-23', 'Product Category': 'Clothing', 'Price': 165.3},{'Purchase Date': '2022-07-07', 'Product Category': 'Home & Garden', 'Price': 280.9}\",\"{'Purchase Date': '2022-02-15', 'Product Category': 'Electronics', 'Price': 250},{'Purchase Date': '2022-05-10', 'Product Category': 'Clothing', 'Price': 34.99}\",\"{'Purchase Date': '2022-05-20', 'Product Category': 'Electronics', 'Price': 600},{'Purchase Date': '2022-08-03', 'Product Category': 'Clothing', 'Price': 59.99}\",\"{'Purchase Date': '2022-07-22', 'Product Category': 'Clothing', 'Price': 39.99},{'Purchase Date': '2022-10-06', 'Product Category': 'Home & Garden', 'Price': 190}\",\"{'Purchase Date': '2022-09-20', 'Product Category': 'Home & Garden', 'Price': 200},{'Purchase Date': '2022-12-05', 'Product Category': 'Electronics', 'Price': 350}\",\"{'Purchase Date': '2022-11-05', 'Product Category': 'Electronics', 'Price': 150},{'Purchase Date': '2023-01-10', 'Product Category': 'Clothing', 'Price': 29.99}\",\"{'Purchase Date': '2022-06-12', 'Product Category': 'Electronics', 'Price': 350}\",\"{'Purchase Date': '2022-05-08', 'Product Category': 'Electronics', 'Price': 200},{'Purchase Date': '2022-06-05', 'Product Category': 'Home & Garden', 'Price': 150}\",\"{'Purchase Date': '2022-05-23', 'Product Category': 'Electronics', 'Price': 400},{'Purchase Date': '2022-06-03', 'Product Category': 'Home & Garden', 'Price': 200}\",\"{'Purchase Date': '2022-05-20', 'Product Category': 'Electronics', 'Price': 300},{'Purchase Date': '2022-06-04', 'Product Category': 'Home & Garden', 'Price': 250}\",\"{'Purchase Date': '2022-05-12', 'Product Category': 'Electronics', 'Price': 250},{'Purchase Date': '2022-06-01', 'Product Category': 'Home & Garden', 'Price': 175}\",\"{'Purchase Date': '2022-05-22', 'Product Category': 'Electronics', 'Price': 350},{'Purchase Date': '2022-06-02', 'Product Category': 'Home & Garden', 'Price': 100}\",\"[{\\\"Product Category\\\": \\\"Clothing\\\", \\\"Purchase Date\\\": \\\"2022-02-20\\\", \\\"Price\\\": 150.2}, {\\\"Product Category\\\": \\\"Home & Garden\\\", \\\"Purchase Date\\\": \\\"2022-01-12\\\", \\\"Price\\\": 450}]\",\"[{\\\"Product Category\\\": \\\"Electronics\\\", \\\"Purchase Date\\\": \\\"2022-07-03\\\", \\\"Price\\\": 249.99}, {\\\"Product Category\\\": \\\"Home & Garden\\\", \\\"Purchase Date\\\": \\\"2022-06-17\\\", \\\"Price\\\": 129.99}]\",\"[{\\\"Product Category\\\": \\\"Electronics\\\", \\\"Purchase Date\\\": \\\"2022-06-01\\\", \\\"Price\\\": 129.99}, {\\\"Product Category\\\": \\\"Home & Garden\\\", \\\"Purchase Date\\\": \\\"2022-05-18\\\", \\\"Price\\\": 59.99}]\",\"[{\\\"Purchase Date\\\": \\\"2022-07-08\\\",\\\"Product Category\\\": \\\"Electronics\\\",\\\"Price\\\": 420},{\\\"Purchase Date\\\": \\\"2022-06-23\\\",\\\"Product Category\\\": \\\"Clothing\\\",\\\"Price\\\": 75},{\\\"Purchase Date\\\": \\\"2022-05-12\\\",\\\"Product Category\\\": \\\"Home & Garden\\\",\\\"Price\\\": 200}]\"],\"yaxis\":\"y\",\"type\":\"scatter\"},{\"hovertemplate\":\"Gender=Other\\u003cbr\\u003eLocation=%{x}\\u003cbr\\u003ePurchase History=%{y}\\u003cbr\\u003eAnnual Income=%{marker.size}\\u003cextra\\u003e\\u003c\\u002fextra\\u003e\",\"legendgroup\":\"Other\",\"marker\":{\"color\":\"#00cc96\",\"size\":[90000,85000,40000,80000,50000,42000],\"sizemode\":\"area\",\"sizeref\":250.0,\"symbol\":\"circle\"},\"mode\":\"markers\",\"name\":\"Other\",\"orientation\":\"v\",\"showlegend\":true,\"x\":[\"City F\",\"City I\",\"City L\",\"City B\",\"City F\",\"City F\"],\"xaxis\":\"x\",\"y\":[\"{'Purchase Date': '2022-09-01', 'Product Category': 'Electronics', 'Price': 300.2},{'Purchase Date': '2022-08-12', 'Product Category': 'Clothing', 'Price': 185.3},{'Purchase Date': '2022-07-28', 'Product Category': 'Home & Garden', 'Price': 200.9}\",\"{'Purchase Date': '2022-09-05', 'Product Category': 'Electronics', 'Price': 400.9},{'Purchase Date': '2022-08-18', 'Product Category': 'Clothing', 'Price': 195.3},{'Purchase Date': '2022-07-03', 'Product Category': 'Home & Garden', 'Price': 220.7}\",\"{'Purchase Date': '2022-08-25', 'Product Category': 'Electronics', 'Price': 170.8},{'Purchase Date': '2022-07-09', 'Product Category': 'Clothing', 'Price': 105.6},{'Purchase Date': '2022-06-24', 'Product Category': 'Home & Garden', 'Price': 290.1}\",\"{'Purchase Date': '2022-01-18', 'Product Category': 'Home & Garden', 'Price': 180},{'Purchase Date': '2022-06-02', 'Product Category': 'Electronics', 'Price': 400}\",\"[{\\\"Product Category\\\": \\\"Clothing\\\", \\\"Purchase Date\\\": \\\"2022-06-22\\\", \\\"Price\\\": 34.99}, {\\\"Product Category\\\": \\\"Electronics\\\", \\\"Purchase Date\\\": \\\"2022-05-15\\\", \\\"Price\\\": 149.99}]\",\"[{\\\"Purchase Date\\\": \\\"2022-07-01\\\",\\\"Product Category\\\": \\\"Electronics\\\",\\\"Price\\\": 180},{\\\"Purchase Date\\\": \\\"2022-06-18\\\",\\\"Product Category\\\": \\\"Clothing\\\",\\\"Price\\\": 50},{\\\"Purchase Date\\\": \\\"2022-05-09\\\",\\\"Product Category\\\": \\\"Home & Garden\\\",\\\"Price\\\": 30}]\"],\"yaxis\":\"y\",\"type\":\"scatter\"}],                        {\"template\":{\"data\":{\"histogram2dcontour\":[{\"type\":\"histogram2dcontour\",\"colorbar\":{\"outlinewidth\":0,\"ticks\":\"\"},\"colorscale\":[[0.0,\"#0d0887\"],[0.1111111111111111,\"#46039f\"],[0.2222222222222222,\"#7201a8\"],[0.3333333333333333,\"#9c179e\"],[0.4444444444444444,\"#bd3786\"],[0.5555555555555556,\"#d8576b\"],[0.6666666666666666,\"#ed7953\"],[0.7777777777777778,\"#fb9f3a\"],[0.8888888888888888,\"#fdca26\"],[1.0,\"#f0f921\"]]}],\"choropleth\":[{\"type\":\"choropleth\",\"colorbar\":{\"outlinewidth\":0,\"ticks\":\"\"}}],\"histogram2d\":[{\"type\":\"histogram2d\",\"colorbar\":{\"outlinewidth\":0,\"ticks\":\"\"},\"colorscale\":[[0.0,\"#0d0887\"],[0.1111111111111111,\"#46039f\"],[0.2222222222222222,\"#7201a8\"],[0.3333333333333333,\"#9c179e\"],[0.4444444444444444,\"#bd3786\"],[0.5555555555555556,\"#d8576b\"],[0.6666666666666666,\"#ed7953\"],[0.7777777777777778,\"#fb9f3a\"],[0.8888888888888888,\"#fdca26\"],[1.0,\"#f0f921\"]]}],\"heatmap\":[{\"type\":\"heatmap\",\"colorbar\":{\"outlinewidth\":0,\"ticks\":\"\"},\"colorscale\":[[0.0,\"#0d0887\"],[0.1111111111111111,\"#46039f\"],[0.2222222222222222,\"#7201a8\"],[0.3333333333333333,\"#9c179e\"],[0.4444444444444444,\"#bd3786\"],[0.5555555555555556,\"#d8576b\"],[0.6666666666666666,\"#ed7953\"],[0.7777777777777778,\"#fb9f3a\"],[0.8888888888888888,\"#fdca26\"],[1.0,\"#f0f921\"]]}],\"heatmapgl\":[{\"type\":\"heatmapgl\",\"colorbar\":{\"outlinewidth\":0,\"ticks\":\"\"},\"colorscale\":[[0.0,\"#0d0887\"],[0.1111111111111111,\"#46039f\"],[0.2222222222222222,\"#7201a8\"],[0.3333333333333333,\"#9c179e\"],[0.4444444444444444,\"#bd3786\"],[0.5555555555555556,\"#d8576b\"],[0.6666666666666666,\"#ed7953\"],[0.7777777777777778,\"#fb9f3a\"],[0.8888888888888888,\"#fdca26\"],[1.0,\"#f0f921\"]]}],\"contourcarpet\":[{\"type\":\"contourcarpet\",\"colorbar\":{\"outlinewidth\":0,\"ticks\":\"\"}}],\"contour\":[{\"type\":\"contour\",\"colorbar\":{\"outlinewidth\":0,\"ticks\":\"\"},\"colorscale\":[[0.0,\"#0d0887\"],[0.1111111111111111,\"#46039f\"],[0.2222222222222222,\"#7201a8\"],[0.3333333333333333,\"#9c179e\"],[0.4444444444444444,\"#bd3786\"],[0.5555555555555556,\"#d8576b\"],[0.6666666666666666,\"#ed7953\"],[0.7777777777777778,\"#fb9f3a\"],[0.8888888888888888,\"#fdca26\"],[1.0,\"#f0f921\"]]}],\"surface\":[{\"type\":\"surface\",\"colorbar\":{\"outlinewidth\":0,\"ticks\":\"\"},\"colorscale\":[[0.0,\"#0d0887\"],[0.1111111111111111,\"#46039f\"],[0.2222222222222222,\"#7201a8\"],[0.3333333333333333,\"#9c179e\"],[0.4444444444444444,\"#bd3786\"],[0.5555555555555556,\"#d8576b\"],[0.6666666666666666,\"#ed7953\"],[0.7777777777777778,\"#fb9f3a\"],[0.8888888888888888,\"#fdca26\"],[1.0,\"#f0f921\"]]}],\"mesh3d\":[{\"type\":\"mesh3d\",\"colorbar\":{\"outlinewidth\":0,\"ticks\":\"\"}}],\"scatter\":[{\"fillpattern\":{\"fillmode\":\"overlay\",\"size\":10,\"solidity\":0.2},\"type\":\"scatter\"}],\"parcoords\":[{\"type\":\"parcoords\",\"line\":{\"colorbar\":{\"outlinewidth\":0,\"ticks\":\"\"}}}],\"scatterpolargl\":[{\"type\":\"scatterpolargl\",\"marker\":{\"colorbar\":{\"outlinewidth\":0,\"ticks\":\"\"}}}],\"bar\":[{\"error_x\":{\"color\":\"#2a3f5f\"},\"error_y\":{\"color\":\"#2a3f5f\"},\"marker\":{\"line\":{\"color\":\"#E5ECF6\",\"width\":0.5},\"pattern\":{\"fillmode\":\"overlay\",\"size\":10,\"solidity\":0.2}},\"type\":\"bar\"}],\"scattergeo\":[{\"type\":\"scattergeo\",\"marker\":{\"colorbar\":{\"outlinewidth\":0,\"ticks\":\"\"}}}],\"scatterpolar\":[{\"type\":\"scatterpolar\",\"marker\":{\"colorbar\":{\"outlinewidth\":0,\"ticks\":\"\"}}}],\"histogram\":[{\"marker\":{\"pattern\":{\"fillmode\":\"overlay\",\"size\":10,\"solidity\":0.2}},\"type\":\"histogram\"}],\"scattergl\":[{\"type\":\"scattergl\",\"marker\":{\"colorbar\":{\"outlinewidth\":0,\"ticks\":\"\"}}}],\"scatter3d\":[{\"type\":\"scatter3d\",\"line\":{\"colorbar\":{\"outlinewidth\":0,\"ticks\":\"\"}},\"marker\":{\"colorbar\":{\"outlinewidth\":0,\"ticks\":\"\"}}}],\"scattermapbox\":[{\"type\":\"scattermapbox\",\"marker\":{\"colorbar\":{\"outlinewidth\":0,\"ticks\":\"\"}}}],\"scatterternary\":[{\"type\":\"scatterternary\",\"marker\":{\"colorbar\":{\"outlinewidth\":0,\"ticks\":\"\"}}}],\"scattercarpet\":[{\"type\":\"scattercarpet\",\"marker\":{\"colorbar\":{\"outlinewidth\":0,\"ticks\":\"\"}}}],\"carpet\":[{\"aaxis\":{\"endlinecolor\":\"#2a3f5f\",\"gridcolor\":\"white\",\"linecolor\":\"white\",\"minorgridcolor\":\"white\",\"startlinecolor\":\"#2a3f5f\"},\"baxis\":{\"endlinecolor\":\"#2a3f5f\",\"gridcolor\":\"white\",\"linecolor\":\"white\",\"minorgridcolor\":\"white\",\"startlinecolor\":\"#2a3f5f\"},\"type\":\"carpet\"}],\"table\":[{\"cells\":{\"fill\":{\"color\":\"#EBF0F8\"},\"line\":{\"color\":\"white\"}},\"header\":{\"fill\":{\"color\":\"#C8D4E3\"},\"line\":{\"color\":\"white\"}},\"type\":\"table\"}],\"barpolar\":[{\"marker\":{\"line\":{\"color\":\"#E5ECF6\",\"width\":0.5},\"pattern\":{\"fillmode\":\"overlay\",\"size\":10,\"solidity\":0.2}},\"type\":\"barpolar\"}],\"pie\":[{\"automargin\":true,\"type\":\"pie\"}]},\"layout\":{\"autotypenumbers\":\"strict\",\"colorway\":[\"#636efa\",\"#EF553B\",\"#00cc96\",\"#ab63fa\",\"#FFA15A\",\"#19d3f3\",\"#FF6692\",\"#B6E880\",\"#FF97FF\",\"#FECB52\"],\"font\":{\"color\":\"#2a3f5f\"},\"hovermode\":\"closest\",\"hoverlabel\":{\"align\":\"left\"},\"paper_bgcolor\":\"white\",\"plot_bgcolor\":\"#E5ECF6\",\"polar\":{\"bgcolor\":\"#E5ECF6\",\"angularaxis\":{\"gridcolor\":\"white\",\"linecolor\":\"white\",\"ticks\":\"\"},\"radialaxis\":{\"gridcolor\":\"white\",\"linecolor\":\"white\",\"ticks\":\"\"}},\"ternary\":{\"bgcolor\":\"#E5ECF6\",\"aaxis\":{\"gridcolor\":\"white\",\"linecolor\":\"white\",\"ticks\":\"\"},\"baxis\":{\"gridcolor\":\"white\",\"linecolor\":\"white\",\"ticks\":\"\"},\"caxis\":{\"gridcolor\":\"white\",\"linecolor\":\"white\",\"ticks\":\"\"}},\"coloraxis\":{\"colorbar\":{\"outlinewidth\":0,\"ticks\":\"\"}},\"colorscale\":{\"sequential\":[[0.0,\"#0d0887\"],[0.1111111111111111,\"#46039f\"],[0.2222222222222222,\"#7201a8\"],[0.3333333333333333,\"#9c179e\"],[0.4444444444444444,\"#bd3786\"],[0.5555555555555556,\"#d8576b\"],[0.6666666666666666,\"#ed7953\"],[0.7777777777777778,\"#fb9f3a\"],[0.8888888888888888,\"#fdca26\"],[1.0,\"#f0f921\"]],\"sequentialminus\":[[0.0,\"#0d0887\"],[0.1111111111111111,\"#46039f\"],[0.2222222222222222,\"#7201a8\"],[0.3333333333333333,\"#9c179e\"],[0.4444444444444444,\"#bd3786\"],[0.5555555555555556,\"#d8576b\"],[0.6666666666666666,\"#ed7953\"],[0.7777777777777778,\"#fb9f3a\"],[0.8888888888888888,\"#fdca26\"],[1.0,\"#f0f921\"]],\"diverging\":[[0,\"#8e0152\"],[0.1,\"#c51b7d\"],[0.2,\"#de77ae\"],[0.3,\"#f1b6da\"],[0.4,\"#fde0ef\"],[0.5,\"#f7f7f7\"],[0.6,\"#e6f5d0\"],[0.7,\"#b8e186\"],[0.8,\"#7fbc41\"],[0.9,\"#4d9221\"],[1,\"#276419\"]]},\"xaxis\":{\"gridcolor\":\"white\",\"linecolor\":\"white\",\"ticks\":\"\",\"title\":{\"standoff\":15},\"zerolinecolor\":\"white\",\"automargin\":true,\"zerolinewidth\":2},\"yaxis\":{\"gridcolor\":\"white\",\"linecolor\":\"white\",\"ticks\":\"\",\"title\":{\"standoff\":15},\"zerolinecolor\":\"white\",\"automargin\":true,\"zerolinewidth\":2},\"scene\":{\"xaxis\":{\"backgroundcolor\":\"#E5ECF6\",\"gridcolor\":\"white\",\"linecolor\":\"white\",\"showbackground\":true,\"ticks\":\"\",\"zerolinecolor\":\"white\",\"gridwidth\":2},\"yaxis\":{\"backgroundcolor\":\"#E5ECF6\",\"gridcolor\":\"white\",\"linecolor\":\"white\",\"showbackground\":true,\"ticks\":\"\",\"zerolinecolor\":\"white\",\"gridwidth\":2},\"zaxis\":{\"backgroundcolor\":\"#E5ECF6\",\"gridcolor\":\"white\",\"linecolor\":\"white\",\"showbackground\":true,\"ticks\":\"\",\"zerolinecolor\":\"white\",\"gridwidth\":2}},\"shapedefaults\":{\"line\":{\"color\":\"#2a3f5f\"}},\"annotationdefaults\":{\"arrowcolor\":\"#2a3f5f\",\"arrowhead\":0,\"arrowwidth\":1},\"geo\":{\"bgcolor\":\"white\",\"landcolor\":\"#E5ECF6\",\"subunitcolor\":\"white\",\"showland\":true,\"showlakes\":true,\"lakecolor\":\"white\"},\"title\":{\"x\":0.05},\"mapbox\":{\"style\":\"light\"}}},\"xaxis\":{\"anchor\":\"y\",\"domain\":[0.0,1.0],\"title\":{\"text\":\"Location\"}},\"yaxis\":{\"anchor\":\"x\",\"domain\":[0.0,1.0],\"title\":{\"text\":\"Purchase History\"}},\"legend\":{\"title\":{\"text\":\"Gender\"},\"tracegroupgap\":0,\"itemsizing\":\"constant\"},\"title\":{\"text\":\"Purchase History vs Location with Annual Income as Bubble Size\"},\"width\":2700},                        {\"responsive\": true}                    ).then(function(){\n",
              "                            \n",
              "var gd = document.getElementById('4e5833a5-bd5a-46f9-8577-69ccea30f6ea');\n",
              "var x = new MutationObserver(function (mutations, observer) {{\n",
              "        var display = window.getComputedStyle(gd).display;\n",
              "        if (!display || display === 'none') {{\n",
              "            console.log([gd, 'removed!']);\n",
              "            Plotly.purge(gd);\n",
              "            observer.disconnect();\n",
              "        }}\n",
              "}});\n",
              "\n",
              "// Listen for the removal of the full notebook cells\n",
              "var notebookContainer = gd.closest('#notebook-container');\n",
              "if (notebookContainer) {{\n",
              "    x.observe(notebookContainer, {childList: true});\n",
              "}}\n",
              "\n",
              "// Listen for the clearing of the current output cell\n",
              "var outputEl = gd.closest('.output');\n",
              "if (outputEl) {{\n",
              "    x.observe(outputEl, {childList: true});\n",
              "}}\n",
              "\n",
              "                        })                };                            </script>        </div>\n",
              "</body>\n",
              "</html>"
            ]
          },
          "metadata": {}
        }
      ]
    },
    {
      "cell_type": "code",
      "source": [],
      "metadata": {
        "id": "imGQNB3wdNDN"
      },
      "execution_count": 36,
      "outputs": []
    }
  ]
}